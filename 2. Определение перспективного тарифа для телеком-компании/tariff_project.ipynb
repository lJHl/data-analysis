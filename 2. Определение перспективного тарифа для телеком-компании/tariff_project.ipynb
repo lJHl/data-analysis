{
 "cells": [
  {
   "cell_type": "markdown",
   "id": "855b5156",
   "metadata": {},
   "source": [
    "# Определение перспективного тарифа для телеком-компании"
   ]
  },
  {
   "cell_type": "markdown",
   "id": "7fa900f3",
   "metadata": {
    "toc": true
   },
   "source": [
    "<h1>Содержание<span class=\"tocSkip\"></span></h1>\n",
    "<div class=\"toc\"><ul class=\"toc-item\"><li><span><a href=\"#Обзор-данных\" data-toc-modified-id=\"Обзор-данных-1\"><span class=\"toc-item-num\">1&nbsp;&nbsp;</span>Обзор данных</a></span><ul class=\"toc-item\"><li><span><a href=\"#В-таблице-calls\" data-toc-modified-id=\"В-таблице-calls-1.1\"><span class=\"toc-item-num\">1.1&nbsp;&nbsp;</span>В таблице calls</a></span></li><li><span><a href=\"#В-таблице-internet\" data-toc-modified-id=\"В-таблице-internet-1.2\"><span class=\"toc-item-num\">1.2&nbsp;&nbsp;</span>В таблице internet</a></span></li><li><span><a href=\"#В-таблице-messages\" data-toc-modified-id=\"В-таблице-messages-1.3\"><span class=\"toc-item-num\">1.3&nbsp;&nbsp;</span>В таблице messages</a></span></li><li><span><a href=\"#В-таблице-tariffs\" data-toc-modified-id=\"В-таблице-tariffs-1.4\"><span class=\"toc-item-num\">1.4&nbsp;&nbsp;</span>В таблице tariffs</a></span></li><li><span><a href=\"#В-таблице-users\" data-toc-modified-id=\"В-таблице-users-1.5\"><span class=\"toc-item-num\">1.5&nbsp;&nbsp;</span>В таблице users</a></span></li><li><span><a href=\"#Вывод\" data-toc-modified-id=\"Вывод-1.6\"><span class=\"toc-item-num\">1.6&nbsp;&nbsp;</span>Вывод</a></span></li></ul></li><li><span><a href=\"#Предобработка-данных\" data-toc-modified-id=\"Предобработка-данных-2\"><span class=\"toc-item-num\">2&nbsp;&nbsp;</span>Предобработка данных</a></span><ul class=\"toc-item\"><li><span><a href=\"#Приведение-к-формату-даты\" data-toc-modified-id=\"Приведение-к-формату-даты-2.1\"><span class=\"toc-item-num\">2.1&nbsp;&nbsp;</span>Приведение к формату даты</a></span></li><li><span><a href=\"#Округление-времени-звонков-и-приведение-к-целочисленному-типу-данных\" data-toc-modified-id=\"Округление-времени-звонков-и-приведение-к-целочисленному-типу-данных-2.2\"><span class=\"toc-item-num\">2.2&nbsp;&nbsp;</span>Округление времени звонков и приведение к целочисленному типу данных</a></span></li><li><span><a href=\"#Изменение-типов-данных\" data-toc-modified-id=\"Изменение-типов-данных-2.3\"><span class=\"toc-item-num\">2.3&nbsp;&nbsp;</span>Изменение типов данных</a></span></li><li><span><a href=\"#Удаление-столбца\" data-toc-modified-id=\"Удаление-столбца-2.4\"><span class=\"toc-item-num\">2.4&nbsp;&nbsp;</span>Удаление столбца</a></span></li><li><span><a href=\"#Переименование-столбца\" data-toc-modified-id=\"Переименование-столбца-2.5\"><span class=\"toc-item-num\">2.5&nbsp;&nbsp;</span>Переименование столбца</a></span></li><li><span><a href=\"#Вывод\" data-toc-modified-id=\"Вывод-2.6\"><span class=\"toc-item-num\">2.6&nbsp;&nbsp;</span>Вывод</a></span></li></ul></li><li><span><a href=\"#Подсчет-показателей\" data-toc-modified-id=\"Подсчет-показателей-3\"><span class=\"toc-item-num\">3&nbsp;&nbsp;</span>Подсчет показателей</a></span><ul class=\"toc-item\"><li><span><a href=\"#Добавление-в-таблицы-calls,-internet,-messages-столбец-с-месяцом\" data-toc-modified-id=\"Добавление-в-таблицы-calls,-internet,-messages-столбец-с-месяцом-3.1\"><span class=\"toc-item-num\">3.1&nbsp;&nbsp;</span>Добавление в таблицы calls, internet, messages столбец с месяцом</a></span></li><li><span><a href=\"#Подсчет-количества-сделанных-звонков-и-израсходованных-минут-разговора-по-месяцам\" data-toc-modified-id=\"Подсчет-количества-сделанных-звонков-и-израсходованных-минут-разговора-по-месяцам-3.2\"><span class=\"toc-item-num\">3.2&nbsp;&nbsp;</span>Подсчет количества сделанных звонков и израсходованных минут разговора по месяцам</a></span></li><li><span><a href=\"#Подсчет-количества-отправленных-сообщений-по-месяцам\" data-toc-modified-id=\"Подсчет-количества-отправленных-сообщений-по-месяцам-3.3\"><span class=\"toc-item-num\">3.3&nbsp;&nbsp;</span>Подсчет количества отправленных сообщений по месяцам</a></span></li><li><span><a href=\"#Подсчет-объема-израсходованного-интернет-трафика-по-месяцам\" data-toc-modified-id=\"Подсчет-объема-израсходованного-интернет-трафика-по-месяцам-3.4\"><span class=\"toc-item-num\">3.4&nbsp;&nbsp;</span>Подсчет объема израсходованного интернет-трафика по месяцам</a></span></li><li><span><a href=\"#Объединение-таблиц-для-подсчета-помесячной-выручки-с-каждого-пользователя\" data-toc-modified-id=\"Объединение-таблиц-для-подсчета-помесячной-выручки-с-каждого-пользователя-3.5\"><span class=\"toc-item-num\">3.5&nbsp;&nbsp;</span>Объединение таблиц для подсчета помесячной выручки с каждого пользователя</a></span></li><li><span><a href=\"#Вывод\" data-toc-modified-id=\"Вывод-3.6\"><span class=\"toc-item-num\">3.6&nbsp;&nbsp;</span>Вывод</a></span></li></ul></li><li><span><a href=\"#Анализ-данных\" data-toc-modified-id=\"Анализ-данных-4\"><span class=\"toc-item-num\">4&nbsp;&nbsp;</span>Анализ данных</a></span><ul class=\"toc-item\"><li><span><a href=\"#Сколько-минут-разговора-требуется-пользователям-каждого-тарифа-в-месяц\" data-toc-modified-id=\"Сколько-минут-разговора-требуется-пользователям-каждого-тарифа-в-месяц-4.1\"><span class=\"toc-item-num\">4.1&nbsp;&nbsp;</span>Сколько минут разговора требуется пользователям каждого тарифа в месяц</a></span></li><li><span><a href=\"#Сколько-сообщений-требуется-пользователям-каждого-тарифа-в-месяц\" data-toc-modified-id=\"Сколько-сообщений-требуется-пользователям-каждого-тарифа-в-месяц-4.2\"><span class=\"toc-item-num\">4.2&nbsp;&nbsp;</span>Сколько сообщений требуется пользователям каждого тарифа в месяц</a></span></li><li><span><a href=\"#Какой-объём-интернет-трафика-требуется-пользователям-каждого-тарифа-в-месяц\" data-toc-modified-id=\"Какой-объём-интернет-трафика-требуется-пользователям-каждого-тарифа-в-месяц-4.3\"><span class=\"toc-item-num\">4.3&nbsp;&nbsp;</span>Какой объём интернет-трафика требуется пользователям каждого тарифа в месяц</a></span></li><li><span><a href=\"#Распределение-для-звонков\" data-toc-modified-id=\"Распределение-для-звонков-4.4\"><span class=\"toc-item-num\">4.4&nbsp;&nbsp;</span>Распределение для звонков</a></span></li><li><span><a href=\"#Распределение-для-сообщений\" data-toc-modified-id=\"Распределение-для-сообщений-4.5\"><span class=\"toc-item-num\">4.5&nbsp;&nbsp;</span>Распределение для сообщений</a></span></li><li><span><a href=\"#Распределение-для-интернет-трафика\" data-toc-modified-id=\"Распределение-для-интернет-трафика-4.6\"><span class=\"toc-item-num\">4.6&nbsp;&nbsp;</span>Распределение для интернет-трафика</a></span></li><li><span><a href=\"#Вывод\" data-toc-modified-id=\"Вывод-4.7\"><span class=\"toc-item-num\">4.7&nbsp;&nbsp;</span>Вывод</a></span></li></ul></li><li><span><a href=\"#Проверка-гипотез\" data-toc-modified-id=\"Проверка-гипотез-5\"><span class=\"toc-item-num\">5&nbsp;&nbsp;</span>Проверка гипотез</a></span><ul class=\"toc-item\"><li><span><a href=\"#Средняя-выручка-пользователей-тарифов-«Ультра»-и-«Смарт»-различаются\" data-toc-modified-id=\"Средняя-выручка-пользователей-тарифов-«Ультра»-и-«Смарт»-различаются-5.1\"><span class=\"toc-item-num\">5.1&nbsp;&nbsp;</span>Средняя выручка пользователей тарифов «Ультра» и «Смарт» различаются</a></span></li><li><span><a href=\"#Средняя-выручка-пользователей-из-Москвы-отличается-от-выручки-пользователей-из-других-регионов\" data-toc-modified-id=\"Средняя-выручка-пользователей-из-Москвы-отличается-от-выручки-пользователей-из-других-регионов-5.2\"><span class=\"toc-item-num\">5.2&nbsp;&nbsp;</span>Средняя выручка пользователей из Москвы отличается от выручки пользователей из других регионов</a></span></li><li><span><a href=\"#Вывод\" data-toc-modified-id=\"Вывод-5.3\"><span class=\"toc-item-num\">5.3&nbsp;&nbsp;</span>Вывод</a></span></li></ul></li><li><span><a href=\"#Общий-вывод\" data-toc-modified-id=\"Общий-вывод-6\"><span class=\"toc-item-num\">6&nbsp;&nbsp;</span>Общий вывод</a></span></li></ul></div>"
   ]
  },
  {
   "cell_type": "markdown",
   "id": "2938600a",
   "metadata": {},
   "source": [
    "**Цель проекта** - сделать предварительный анализ тарифов на небольшой выборке клиентов. Нужно проанализировать поведение клиентов и сделать вывод — какой тариф лучше, чтобы скорректировать рекламный бюджет. Для этого проверим гипотезы:\n",
    "1. Средняя выручка пользователей тарифов «Ультра» и «Смарт» различаются\n",
    "2. Средняя выручка пользователей из Москвы отличается от выручки пользователей из других регионов\n",
    "\n",
    "*В качестве входных данных используются данные 500 пользователей федерального оператора сотовой связи: кто они, откуда, каким тарифом пользуются, сколько звонков и сообщений каждый отправил за 2018 год.*\n",
    "\n",
    "> **Примечание:**\n",
    ">- Оператора сотовой связи всегда округляет секунды до минут, а мегабайты — до гигабайт. \n",
    ">- Каждый звонок округляется отдельно: даже если он длился всего 1 секунду, будет засчитан как 1 минута.\n",
    ">- Для веб-трафика отдельные сессии не считаются. Вместо этого общая сумма за месяц округляется в бо́льшую сторону. Если абонент использует >- 1025 мегабайт в этом месяце, с него возьмут плату за 2 гигабайта.\n",
    "\n",
    "**Описание тарифов:**\n",
    "\n",
    "**Тариф «Смарт»**\n",
    "- Ежемесячная плата: 550 рублей\n",
    "- Включено 500 минут разговора, 50 сообщений и 15 Гб интернет-трафика\n",
    "- Стоимость услуг сверх тарифного пакета: \n",
    "    1. минута разговора: 3 рубля \n",
    "    2. сообщение: 3 рубля\n",
    "    3. 1 Гб интернет-трафика: 200 рублей\n",
    "\n",
    "**Тариф «Ультра»**\n",
    "- Ежемесячная плата: 1950 рублей\n",
    "- Включено 3000 минут разговора, 1000 сообщений и 30 Гб интернет-трафика\n",
    "- Стоимость услуг сверх тарифного пакета: \n",
    "    1. минута разговора: 1 рубль \n",
    "    2. сообщение: 1 рубль\n",
    "    3. 1 Гб интернет-трафика: 150 рублей\n",
    "\n",
    "**Ход исследования:**\n",
    "\n",
    "1. Обзор данных.\n",
    "2. Предобработка данных.\n",
    "3. Подсчет показателей.\n",
    "4. Анализ данных.\n",
    "5. Проверка гипотез."
   ]
  },
  {
   "cell_type": "markdown",
   "id": "6c8e9270",
   "metadata": {},
   "source": [
    "## Обзор данных"
   ]
  },
  {
   "cell_type": "code",
   "execution_count": 1,
   "id": "1735c65b",
   "metadata": {},
   "outputs": [],
   "source": [
    "import pandas as pd\n",
    "import numpy as np\n",
    "import matplotlib.pyplot as plt\n",
    "import seaborn as sns\n",
    "from scipy import stats as st"
   ]
  },
  {
   "cell_type": "code",
   "execution_count": 2,
   "id": "44430fd2",
   "metadata": {},
   "outputs": [],
   "source": [
    "pd.set_option(\"display.precision\", 2)\n",
    "plt.rcParams[\"figure.figsize\"] = (12,6)\n",
    "plt.rcParams[\"figure.dpi\"] = 200"
   ]
  },
  {
   "cell_type": "code",
   "execution_count": 3,
   "id": "bf8636e4",
   "metadata": {},
   "outputs": [],
   "source": [
    "calls    = pd.read_csv('calls.csv')\n",
    "internet = pd.read_csv('internet.csv')\n",
    "messages = pd.read_csv('messages.csv')\n",
    "tariffs  = pd.read_csv('tariffs.csv')\n",
    "users    = pd.read_csv('users.csv')"
   ]
  },
  {
   "cell_type": "markdown",
   "id": "72b57783",
   "metadata": {},
   "source": [
    "### В таблице calls"
   ]
  },
  {
   "cell_type": "code",
   "execution_count": 4,
   "id": "258175ff",
   "metadata": {},
   "outputs": [
    {
     "name": "stdout",
     "output_type": "stream",
     "text": [
      "<class 'pandas.core.frame.DataFrame'>\n",
      "RangeIndex: 202607 entries, 0 to 202606\n",
      "Data columns (total 4 columns):\n",
      " #   Column     Non-Null Count   Dtype  \n",
      "---  ------     --------------   -----  \n",
      " 0   id         202607 non-null  object \n",
      " 1   call_date  202607 non-null  object \n",
      " 2   duration   202607 non-null  float64\n",
      " 3   user_id    202607 non-null  int64  \n",
      "dtypes: float64(1), int64(1), object(2)\n",
      "memory usage: 6.2+ MB\n"
     ]
    }
   ],
   "source": [
    "calls.info()"
   ]
  },
  {
   "cell_type": "markdown",
   "id": "913c4372",
   "metadata": {},
   "source": [
    "\n",
    "\n",
    "**Согласно документации к данным calls (информация о звонках):**\n",
    "\n",
    "`id` — уникальный номер звонка  \n",
    "`call_date` — дата звонка  \n",
    "`duration` — длительность звонка в минутах  \n",
    "`user_id` — идентификатор пользователя, сделавшего звонок  "
   ]
  },
  {
   "cell_type": "code",
   "execution_count": 5,
   "id": "710de0dd",
   "metadata": {},
   "outputs": [
    {
     "data": {
      "text/html": [
       "<div>\n",
       "<style scoped>\n",
       "    .dataframe tbody tr th:only-of-type {\n",
       "        vertical-align: middle;\n",
       "    }\n",
       "\n",
       "    .dataframe tbody tr th {\n",
       "        vertical-align: top;\n",
       "    }\n",
       "\n",
       "    .dataframe thead th {\n",
       "        text-align: right;\n",
       "    }\n",
       "</style>\n",
       "<table border=\"1\" class=\"dataframe\">\n",
       "  <thead>\n",
       "    <tr style=\"text-align: right;\">\n",
       "      <th></th>\n",
       "      <th>id</th>\n",
       "      <th>call_date</th>\n",
       "      <th>duration</th>\n",
       "      <th>user_id</th>\n",
       "    </tr>\n",
       "  </thead>\n",
       "  <tbody>\n",
       "    <tr>\n",
       "      <th>0</th>\n",
       "      <td>1000_0</td>\n",
       "      <td>2018-07-25</td>\n",
       "      <td>0.00</td>\n",
       "      <td>1000</td>\n",
       "    </tr>\n",
       "    <tr>\n",
       "      <th>1</th>\n",
       "      <td>1000_1</td>\n",
       "      <td>2018-08-17</td>\n",
       "      <td>0.00</td>\n",
       "      <td>1000</td>\n",
       "    </tr>\n",
       "    <tr>\n",
       "      <th>2</th>\n",
       "      <td>1000_2</td>\n",
       "      <td>2018-06-11</td>\n",
       "      <td>2.85</td>\n",
       "      <td>1000</td>\n",
       "    </tr>\n",
       "    <tr>\n",
       "      <th>3</th>\n",
       "      <td>1000_3</td>\n",
       "      <td>2018-09-21</td>\n",
       "      <td>13.80</td>\n",
       "      <td>1000</td>\n",
       "    </tr>\n",
       "    <tr>\n",
       "      <th>4</th>\n",
       "      <td>1000_4</td>\n",
       "      <td>2018-12-15</td>\n",
       "      <td>5.18</td>\n",
       "      <td>1000</td>\n",
       "    </tr>\n",
       "  </tbody>\n",
       "</table>\n",
       "</div>"
      ],
      "text/plain": [
       "       id   call_date  duration  user_id\n",
       "0  1000_0  2018-07-25      0.00     1000\n",
       "1  1000_1  2018-08-17      0.00     1000\n",
       "2  1000_2  2018-06-11      2.85     1000\n",
       "3  1000_3  2018-09-21     13.80     1000\n",
       "4  1000_4  2018-12-15      5.18     1000"
      ]
     },
     "execution_count": 5,
     "metadata": {},
     "output_type": "execute_result"
    }
   ],
   "source": [
    "calls.head()"
   ]
  },
  {
   "cell_type": "code",
   "execution_count": 6,
   "id": "b222289e",
   "metadata": {},
   "outputs": [
    {
     "data": {
      "text/html": [
       "<div>\n",
       "<style scoped>\n",
       "    .dataframe tbody tr th:only-of-type {\n",
       "        vertical-align: middle;\n",
       "    }\n",
       "\n",
       "    .dataframe tbody tr th {\n",
       "        vertical-align: top;\n",
       "    }\n",
       "\n",
       "    .dataframe thead th {\n",
       "        text-align: right;\n",
       "    }\n",
       "</style>\n",
       "<table border=\"1\" class=\"dataframe\">\n",
       "  <thead>\n",
       "    <tr style=\"text-align: right;\">\n",
       "      <th></th>\n",
       "      <th>duration</th>\n",
       "      <th>user_id</th>\n",
       "    </tr>\n",
       "  </thead>\n",
       "  <tbody>\n",
       "    <tr>\n",
       "      <th>count</th>\n",
       "      <td>202607.00</td>\n",
       "      <td>202607.00</td>\n",
       "    </tr>\n",
       "    <tr>\n",
       "      <th>mean</th>\n",
       "      <td>6.76</td>\n",
       "      <td>1253.94</td>\n",
       "    </tr>\n",
       "    <tr>\n",
       "      <th>std</th>\n",
       "      <td>5.84</td>\n",
       "      <td>144.72</td>\n",
       "    </tr>\n",
       "    <tr>\n",
       "      <th>min</th>\n",
       "      <td>0.00</td>\n",
       "      <td>1000.00</td>\n",
       "    </tr>\n",
       "    <tr>\n",
       "      <th>25%</th>\n",
       "      <td>1.30</td>\n",
       "      <td>1126.00</td>\n",
       "    </tr>\n",
       "    <tr>\n",
       "      <th>50%</th>\n",
       "      <td>6.00</td>\n",
       "      <td>1260.00</td>\n",
       "    </tr>\n",
       "    <tr>\n",
       "      <th>75%</th>\n",
       "      <td>10.70</td>\n",
       "      <td>1379.00</td>\n",
       "    </tr>\n",
       "    <tr>\n",
       "      <th>max</th>\n",
       "      <td>38.00</td>\n",
       "      <td>1499.00</td>\n",
       "    </tr>\n",
       "  </tbody>\n",
       "</table>\n",
       "</div>"
      ],
      "text/plain": [
       "        duration    user_id\n",
       "count  202607.00  202607.00\n",
       "mean        6.76    1253.94\n",
       "std         5.84     144.72\n",
       "min         0.00    1000.00\n",
       "25%         1.30    1126.00\n",
       "50%         6.00    1260.00\n",
       "75%        10.70    1379.00\n",
       "max        38.00    1499.00"
      ]
     },
     "execution_count": 6,
     "metadata": {},
     "output_type": "execute_result"
    }
   ],
   "source": [
    "calls.describe()"
   ]
  },
  {
   "cell_type": "markdown",
   "id": "6bdcdd4b",
   "metadata": {},
   "source": [
    "### В таблице internet"
   ]
  },
  {
   "cell_type": "code",
   "execution_count": 7,
   "id": "e17d5af1",
   "metadata": {},
   "outputs": [
    {
     "name": "stdout",
     "output_type": "stream",
     "text": [
      "<class 'pandas.core.frame.DataFrame'>\n",
      "RangeIndex: 149396 entries, 0 to 149395\n",
      "Data columns (total 5 columns):\n",
      " #   Column        Non-Null Count   Dtype  \n",
      "---  ------        --------------   -----  \n",
      " 0   Unnamed: 0    149396 non-null  int64  \n",
      " 1   id            149396 non-null  object \n",
      " 2   mb_used       149396 non-null  float64\n",
      " 3   session_date  149396 non-null  object \n",
      " 4   user_id       149396 non-null  int64  \n",
      "dtypes: float64(1), int64(2), object(2)\n",
      "memory usage: 5.7+ MB\n"
     ]
    }
   ],
   "source": [
    "internet.info()"
   ]
  },
  {
   "cell_type": "markdown",
   "id": "78f56caa",
   "metadata": {},
   "source": [
    "**Согласно документации к данным internet (информация об интернет-сессиях):**\n",
    "\n",
    "`id` — уникальный номер сессии  \n",
    "`mb_used` — объём потраченного за сессию интернет-трафика (в мегабайтах)  \n",
    "`session_date` — дата интернет-сессии  \n",
    "`user_id` — идентификатор пользователя"
   ]
  },
  {
   "cell_type": "code",
   "execution_count": 8,
   "id": "19791472",
   "metadata": {},
   "outputs": [
    {
     "data": {
      "text/html": [
       "<div>\n",
       "<style scoped>\n",
       "    .dataframe tbody tr th:only-of-type {\n",
       "        vertical-align: middle;\n",
       "    }\n",
       "\n",
       "    .dataframe tbody tr th {\n",
       "        vertical-align: top;\n",
       "    }\n",
       "\n",
       "    .dataframe thead th {\n",
       "        text-align: right;\n",
       "    }\n",
       "</style>\n",
       "<table border=\"1\" class=\"dataframe\">\n",
       "  <thead>\n",
       "    <tr style=\"text-align: right;\">\n",
       "      <th></th>\n",
       "      <th>Unnamed: 0</th>\n",
       "      <th>id</th>\n",
       "      <th>mb_used</th>\n",
       "      <th>session_date</th>\n",
       "      <th>user_id</th>\n",
       "    </tr>\n",
       "  </thead>\n",
       "  <tbody>\n",
       "    <tr>\n",
       "      <th>0</th>\n",
       "      <td>0</td>\n",
       "      <td>1000_0</td>\n",
       "      <td>112.95</td>\n",
       "      <td>2018-11-25</td>\n",
       "      <td>1000</td>\n",
       "    </tr>\n",
       "    <tr>\n",
       "      <th>1</th>\n",
       "      <td>1</td>\n",
       "      <td>1000_1</td>\n",
       "      <td>1052.81</td>\n",
       "      <td>2018-09-07</td>\n",
       "      <td>1000</td>\n",
       "    </tr>\n",
       "    <tr>\n",
       "      <th>2</th>\n",
       "      <td>2</td>\n",
       "      <td>1000_2</td>\n",
       "      <td>1197.26</td>\n",
       "      <td>2018-06-25</td>\n",
       "      <td>1000</td>\n",
       "    </tr>\n",
       "    <tr>\n",
       "      <th>3</th>\n",
       "      <td>3</td>\n",
       "      <td>1000_3</td>\n",
       "      <td>550.27</td>\n",
       "      <td>2018-08-22</td>\n",
       "      <td>1000</td>\n",
       "    </tr>\n",
       "    <tr>\n",
       "      <th>4</th>\n",
       "      <td>4</td>\n",
       "      <td>1000_4</td>\n",
       "      <td>302.56</td>\n",
       "      <td>2018-09-24</td>\n",
       "      <td>1000</td>\n",
       "    </tr>\n",
       "  </tbody>\n",
       "</table>\n",
       "</div>"
      ],
      "text/plain": [
       "   Unnamed: 0      id  mb_used session_date  user_id\n",
       "0           0  1000_0   112.95   2018-11-25     1000\n",
       "1           1  1000_1  1052.81   2018-09-07     1000\n",
       "2           2  1000_2  1197.26   2018-06-25     1000\n",
       "3           3  1000_3   550.27   2018-08-22     1000\n",
       "4           4  1000_4   302.56   2018-09-24     1000"
      ]
     },
     "execution_count": 8,
     "metadata": {},
     "output_type": "execute_result"
    }
   ],
   "source": [
    "internet.head()"
   ]
  },
  {
   "cell_type": "code",
   "execution_count": 9,
   "id": "da85be36",
   "metadata": {},
   "outputs": [
    {
     "data": {
      "text/html": [
       "<div>\n",
       "<style scoped>\n",
       "    .dataframe tbody tr th:only-of-type {\n",
       "        vertical-align: middle;\n",
       "    }\n",
       "\n",
       "    .dataframe tbody tr th {\n",
       "        vertical-align: top;\n",
       "    }\n",
       "\n",
       "    .dataframe thead th {\n",
       "        text-align: right;\n",
       "    }\n",
       "</style>\n",
       "<table border=\"1\" class=\"dataframe\">\n",
       "  <thead>\n",
       "    <tr style=\"text-align: right;\">\n",
       "      <th></th>\n",
       "      <th>Unnamed: 0</th>\n",
       "      <th>mb_used</th>\n",
       "      <th>user_id</th>\n",
       "    </tr>\n",
       "  </thead>\n",
       "  <tbody>\n",
       "    <tr>\n",
       "      <th>count</th>\n",
       "      <td>149396.00</td>\n",
       "      <td>149396.00</td>\n",
       "      <td>149396.00</td>\n",
       "    </tr>\n",
       "    <tr>\n",
       "      <th>mean</th>\n",
       "      <td>74697.50</td>\n",
       "      <td>370.19</td>\n",
       "      <td>1252.10</td>\n",
       "    </tr>\n",
       "    <tr>\n",
       "      <th>std</th>\n",
       "      <td>43127.05</td>\n",
       "      <td>278.30</td>\n",
       "      <td>144.05</td>\n",
       "    </tr>\n",
       "    <tr>\n",
       "      <th>min</th>\n",
       "      <td>0.00</td>\n",
       "      <td>0.00</td>\n",
       "      <td>1000.00</td>\n",
       "    </tr>\n",
       "    <tr>\n",
       "      <th>25%</th>\n",
       "      <td>37348.75</td>\n",
       "      <td>138.19</td>\n",
       "      <td>1130.00</td>\n",
       "    </tr>\n",
       "    <tr>\n",
       "      <th>50%</th>\n",
       "      <td>74697.50</td>\n",
       "      <td>348.01</td>\n",
       "      <td>1251.00</td>\n",
       "    </tr>\n",
       "    <tr>\n",
       "      <th>75%</th>\n",
       "      <td>112046.25</td>\n",
       "      <td>559.55</td>\n",
       "      <td>1380.00</td>\n",
       "    </tr>\n",
       "    <tr>\n",
       "      <th>max</th>\n",
       "      <td>149395.00</td>\n",
       "      <td>1724.83</td>\n",
       "      <td>1499.00</td>\n",
       "    </tr>\n",
       "  </tbody>\n",
       "</table>\n",
       "</div>"
      ],
      "text/plain": [
       "       Unnamed: 0    mb_used    user_id\n",
       "count   149396.00  149396.00  149396.00\n",
       "mean     74697.50     370.19    1252.10\n",
       "std      43127.05     278.30     144.05\n",
       "min          0.00       0.00    1000.00\n",
       "25%      37348.75     138.19    1130.00\n",
       "50%      74697.50     348.01    1251.00\n",
       "75%     112046.25     559.55    1380.00\n",
       "max     149395.00    1724.83    1499.00"
      ]
     },
     "execution_count": 9,
     "metadata": {},
     "output_type": "execute_result"
    }
   ],
   "source": [
    "internet.describe()"
   ]
  },
  {
   "cell_type": "markdown",
   "id": "7f95a23e",
   "metadata": {},
   "source": [
    "### В таблице messages"
   ]
  },
  {
   "cell_type": "code",
   "execution_count": 10,
   "id": "d352fe18",
   "metadata": {
    "scrolled": true
   },
   "outputs": [
    {
     "name": "stdout",
     "output_type": "stream",
     "text": [
      "<class 'pandas.core.frame.DataFrame'>\n",
      "RangeIndex: 123036 entries, 0 to 123035\n",
      "Data columns (total 3 columns):\n",
      " #   Column        Non-Null Count   Dtype \n",
      "---  ------        --------------   ----- \n",
      " 0   id            123036 non-null  object\n",
      " 1   message_date  123036 non-null  object\n",
      " 2   user_id       123036 non-null  int64 \n",
      "dtypes: int64(1), object(2)\n",
      "memory usage: 2.8+ MB\n"
     ]
    }
   ],
   "source": [
    "messages.info()"
   ]
  },
  {
   "cell_type": "markdown",
   "id": "57dfe588",
   "metadata": {},
   "source": [
    "**Согласно документации к данным messages (информация о сообщениях):**\n",
    "\n",
    "`id` — уникальный номер сообщения  \n",
    "`message_date` — дата сообщения  \n",
    "`user_id` — идентификатор пользователя, отправившего сообщение"
   ]
  },
  {
   "cell_type": "code",
   "execution_count": 11,
   "id": "74cc89e0",
   "metadata": {},
   "outputs": [
    {
     "data": {
      "text/html": [
       "<div>\n",
       "<style scoped>\n",
       "    .dataframe tbody tr th:only-of-type {\n",
       "        vertical-align: middle;\n",
       "    }\n",
       "\n",
       "    .dataframe tbody tr th {\n",
       "        vertical-align: top;\n",
       "    }\n",
       "\n",
       "    .dataframe thead th {\n",
       "        text-align: right;\n",
       "    }\n",
       "</style>\n",
       "<table border=\"1\" class=\"dataframe\">\n",
       "  <thead>\n",
       "    <tr style=\"text-align: right;\">\n",
       "      <th></th>\n",
       "      <th>id</th>\n",
       "      <th>message_date</th>\n",
       "      <th>user_id</th>\n",
       "    </tr>\n",
       "  </thead>\n",
       "  <tbody>\n",
       "    <tr>\n",
       "      <th>0</th>\n",
       "      <td>1000_0</td>\n",
       "      <td>2018-06-27</td>\n",
       "      <td>1000</td>\n",
       "    </tr>\n",
       "    <tr>\n",
       "      <th>1</th>\n",
       "      <td>1000_1</td>\n",
       "      <td>2018-10-08</td>\n",
       "      <td>1000</td>\n",
       "    </tr>\n",
       "    <tr>\n",
       "      <th>2</th>\n",
       "      <td>1000_2</td>\n",
       "      <td>2018-08-04</td>\n",
       "      <td>1000</td>\n",
       "    </tr>\n",
       "    <tr>\n",
       "      <th>3</th>\n",
       "      <td>1000_3</td>\n",
       "      <td>2018-06-16</td>\n",
       "      <td>1000</td>\n",
       "    </tr>\n",
       "    <tr>\n",
       "      <th>4</th>\n",
       "      <td>1000_4</td>\n",
       "      <td>2018-12-05</td>\n",
       "      <td>1000</td>\n",
       "    </tr>\n",
       "  </tbody>\n",
       "</table>\n",
       "</div>"
      ],
      "text/plain": [
       "       id message_date  user_id\n",
       "0  1000_0   2018-06-27     1000\n",
       "1  1000_1   2018-10-08     1000\n",
       "2  1000_2   2018-08-04     1000\n",
       "3  1000_3   2018-06-16     1000\n",
       "4  1000_4   2018-12-05     1000"
      ]
     },
     "execution_count": 11,
     "metadata": {},
     "output_type": "execute_result"
    }
   ],
   "source": [
    "messages.head()"
   ]
  },
  {
   "cell_type": "markdown",
   "id": "06166e2e",
   "metadata": {},
   "source": [
    "### В таблице tariffs"
   ]
  },
  {
   "cell_type": "code",
   "execution_count": 12,
   "id": "4f3311c5",
   "metadata": {},
   "outputs": [
    {
     "name": "stdout",
     "output_type": "stream",
     "text": [
      "<class 'pandas.core.frame.DataFrame'>\n",
      "RangeIndex: 2 entries, 0 to 1\n",
      "Data columns (total 8 columns):\n",
      " #   Column                 Non-Null Count  Dtype \n",
      "---  ------                 --------------  ----- \n",
      " 0   messages_included      2 non-null      int64 \n",
      " 1   mb_per_month_included  2 non-null      int64 \n",
      " 2   minutes_included       2 non-null      int64 \n",
      " 3   rub_monthly_fee        2 non-null      int64 \n",
      " 4   rub_per_gb             2 non-null      int64 \n",
      " 5   rub_per_message        2 non-null      int64 \n",
      " 6   rub_per_minute         2 non-null      int64 \n",
      " 7   tariff_name            2 non-null      object\n",
      "dtypes: int64(7), object(1)\n",
      "memory usage: 256.0+ bytes\n"
     ]
    }
   ],
   "source": [
    "tariffs.info()"
   ]
  },
  {
   "cell_type": "markdown",
   "id": "d1722a52",
   "metadata": {},
   "source": [
    "**Согласно документации к данным tariffs (информация о тарифах):**\n",
    "\n",
    "`tariff_name` — название тарифа  \n",
    "`rub_monthly_fee` — ежемесячная абонентская плата в рублях  \n",
    "`minutes_included` — количество минут разговора в месяц, включённых в абонентскую плату  \n",
    "`messages_included` — количество сообщений в месяц, включённых в абонентскую плату  \n",
    "`mb_per_month_included` — объём интернет-трафика, включённого в абонентскую плату (в мегабайтах)  \n",
    "`rub_per_minute` — стоимость минуты разговора сверх тарифного пакета (например, если в тарифе 100 минут разговора в месяц, то со 101 -  будет взиматься плата)  \n",
    "`rub_per_message` — стоимость отправки сообщения сверх тарифного пакета  \n",
    "`rub_per_gb` — стоимость дополнительного гигабайта интернет-трафика сверх тарифного пакета (1 гигабайт = 1024 мегабайта)"
   ]
  },
  {
   "cell_type": "code",
   "execution_count": 13,
   "id": "76222f63",
   "metadata": {},
   "outputs": [
    {
     "data": {
      "text/html": [
       "<div>\n",
       "<style scoped>\n",
       "    .dataframe tbody tr th:only-of-type {\n",
       "        vertical-align: middle;\n",
       "    }\n",
       "\n",
       "    .dataframe tbody tr th {\n",
       "        vertical-align: top;\n",
       "    }\n",
       "\n",
       "    .dataframe thead th {\n",
       "        text-align: right;\n",
       "    }\n",
       "</style>\n",
       "<table border=\"1\" class=\"dataframe\">\n",
       "  <thead>\n",
       "    <tr style=\"text-align: right;\">\n",
       "      <th></th>\n",
       "      <th>messages_included</th>\n",
       "      <th>mb_per_month_included</th>\n",
       "      <th>minutes_included</th>\n",
       "      <th>rub_monthly_fee</th>\n",
       "      <th>rub_per_gb</th>\n",
       "      <th>rub_per_message</th>\n",
       "      <th>rub_per_minute</th>\n",
       "      <th>tariff_name</th>\n",
       "    </tr>\n",
       "  </thead>\n",
       "  <tbody>\n",
       "    <tr>\n",
       "      <th>0</th>\n",
       "      <td>50</td>\n",
       "      <td>15360</td>\n",
       "      <td>500</td>\n",
       "      <td>550</td>\n",
       "      <td>200</td>\n",
       "      <td>3</td>\n",
       "      <td>3</td>\n",
       "      <td>smart</td>\n",
       "    </tr>\n",
       "    <tr>\n",
       "      <th>1</th>\n",
       "      <td>1000</td>\n",
       "      <td>30720</td>\n",
       "      <td>3000</td>\n",
       "      <td>1950</td>\n",
       "      <td>150</td>\n",
       "      <td>1</td>\n",
       "      <td>1</td>\n",
       "      <td>ultra</td>\n",
       "    </tr>\n",
       "  </tbody>\n",
       "</table>\n",
       "</div>"
      ],
      "text/plain": [
       "   messages_included  mb_per_month_included  minutes_included  \\\n",
       "0                 50                  15360               500   \n",
       "1               1000                  30720              3000   \n",
       "\n",
       "   rub_monthly_fee  rub_per_gb  rub_per_message  rub_per_minute tariff_name  \n",
       "0              550         200                3               3       smart  \n",
       "1             1950         150                1               1       ultra  "
      ]
     },
     "execution_count": 13,
     "metadata": {},
     "output_type": "execute_result"
    }
   ],
   "source": [
    "tariffs.head()"
   ]
  },
  {
   "cell_type": "markdown",
   "id": "386ec412",
   "metadata": {},
   "source": [
    "### В таблице users"
   ]
  },
  {
   "cell_type": "code",
   "execution_count": 14,
   "id": "6d852fea",
   "metadata": {},
   "outputs": [
    {
     "name": "stdout",
     "output_type": "stream",
     "text": [
      "<class 'pandas.core.frame.DataFrame'>\n",
      "RangeIndex: 500 entries, 0 to 499\n",
      "Data columns (total 8 columns):\n",
      " #   Column      Non-Null Count  Dtype \n",
      "---  ------      --------------  ----- \n",
      " 0   user_id     500 non-null    int64 \n",
      " 1   age         500 non-null    int64 \n",
      " 2   churn_date  38 non-null     object\n",
      " 3   city        500 non-null    object\n",
      " 4   first_name  500 non-null    object\n",
      " 5   last_name   500 non-null    object\n",
      " 6   reg_date    500 non-null    object\n",
      " 7   tariff      500 non-null    object\n",
      "dtypes: int64(2), object(6)\n",
      "memory usage: 31.4+ KB\n"
     ]
    }
   ],
   "source": [
    "users.info()"
   ]
  },
  {
   "cell_type": "markdown",
   "id": "14bb6b1a",
   "metadata": {},
   "source": [
    "**Согласно документации к данным users (информация о пользователях):**\n",
    "\n",
    "`user_id` — уникальный идентификатор пользователя  \n",
    "`first_name` — имя пользователя  \n",
    "`last_name` — фамилия пользователя  \n",
    "`age` — возраст пользователя (годы)  \n",
    "`reg_date` — дата подключения тарифа (день, месяц, год)  \n",
    "`churn_date` — дата прекращения пользования тарифом (если значение пропущено, то тариф ещё действовал на момент выгрузки данных)  \n",
    "`city` — город проживания пользователя  \n",
    "`tarif` — название тарифного плана"
   ]
  },
  {
   "cell_type": "code",
   "execution_count": 15,
   "id": "0fb9a677",
   "metadata": {},
   "outputs": [
    {
     "data": {
      "text/html": [
       "<div>\n",
       "<style scoped>\n",
       "    .dataframe tbody tr th:only-of-type {\n",
       "        vertical-align: middle;\n",
       "    }\n",
       "\n",
       "    .dataframe tbody tr th {\n",
       "        vertical-align: top;\n",
       "    }\n",
       "\n",
       "    .dataframe thead th {\n",
       "        text-align: right;\n",
       "    }\n",
       "</style>\n",
       "<table border=\"1\" class=\"dataframe\">\n",
       "  <thead>\n",
       "    <tr style=\"text-align: right;\">\n",
       "      <th></th>\n",
       "      <th>user_id</th>\n",
       "      <th>age</th>\n",
       "      <th>churn_date</th>\n",
       "      <th>city</th>\n",
       "      <th>first_name</th>\n",
       "      <th>last_name</th>\n",
       "      <th>reg_date</th>\n",
       "      <th>tariff</th>\n",
       "    </tr>\n",
       "  </thead>\n",
       "  <tbody>\n",
       "    <tr>\n",
       "      <th>0</th>\n",
       "      <td>1000</td>\n",
       "      <td>52</td>\n",
       "      <td>NaN</td>\n",
       "      <td>Краснодар</td>\n",
       "      <td>Рафаил</td>\n",
       "      <td>Верещагин</td>\n",
       "      <td>2018-05-25</td>\n",
       "      <td>ultra</td>\n",
       "    </tr>\n",
       "    <tr>\n",
       "      <th>1</th>\n",
       "      <td>1001</td>\n",
       "      <td>41</td>\n",
       "      <td>NaN</td>\n",
       "      <td>Москва</td>\n",
       "      <td>Иван</td>\n",
       "      <td>Ежов</td>\n",
       "      <td>2018-11-01</td>\n",
       "      <td>smart</td>\n",
       "    </tr>\n",
       "    <tr>\n",
       "      <th>2</th>\n",
       "      <td>1002</td>\n",
       "      <td>59</td>\n",
       "      <td>NaN</td>\n",
       "      <td>Стерлитамак</td>\n",
       "      <td>Евгений</td>\n",
       "      <td>Абрамович</td>\n",
       "      <td>2018-06-17</td>\n",
       "      <td>smart</td>\n",
       "    </tr>\n",
       "    <tr>\n",
       "      <th>3</th>\n",
       "      <td>1003</td>\n",
       "      <td>23</td>\n",
       "      <td>NaN</td>\n",
       "      <td>Москва</td>\n",
       "      <td>Белла</td>\n",
       "      <td>Белякова</td>\n",
       "      <td>2018-08-17</td>\n",
       "      <td>ultra</td>\n",
       "    </tr>\n",
       "    <tr>\n",
       "      <th>4</th>\n",
       "      <td>1004</td>\n",
       "      <td>68</td>\n",
       "      <td>NaN</td>\n",
       "      <td>Новокузнецк</td>\n",
       "      <td>Татьяна</td>\n",
       "      <td>Авдеенко</td>\n",
       "      <td>2018-05-14</td>\n",
       "      <td>ultra</td>\n",
       "    </tr>\n",
       "  </tbody>\n",
       "</table>\n",
       "</div>"
      ],
      "text/plain": [
       "   user_id  age churn_date         city first_name  last_name    reg_date  \\\n",
       "0     1000   52        NaN    Краснодар     Рафаил  Верещагин  2018-05-25   \n",
       "1     1001   41        NaN       Москва       Иван       Ежов  2018-11-01   \n",
       "2     1002   59        NaN  Стерлитамак    Евгений  Абрамович  2018-06-17   \n",
       "3     1003   23        NaN       Москва      Белла   Белякова  2018-08-17   \n",
       "4     1004   68        NaN  Новокузнецк    Татьяна   Авдеенко  2018-05-14   \n",
       "\n",
       "  tariff  \n",
       "0  ultra  \n",
       "1  smart  \n",
       "2  smart  \n",
       "3  ultra  \n",
       "4  ultra  "
      ]
     },
     "execution_count": 15,
     "metadata": {},
     "output_type": "execute_result"
    }
   ],
   "source": [
    "users.head()"
   ]
  },
  {
   "cell_type": "code",
   "execution_count": 16,
   "id": "e06654f1",
   "metadata": {},
   "outputs": [
    {
     "data": {
      "text/html": [
       "<div>\n",
       "<style scoped>\n",
       "    .dataframe tbody tr th:only-of-type {\n",
       "        vertical-align: middle;\n",
       "    }\n",
       "\n",
       "    .dataframe tbody tr th {\n",
       "        vertical-align: top;\n",
       "    }\n",
       "\n",
       "    .dataframe thead th {\n",
       "        text-align: right;\n",
       "    }\n",
       "</style>\n",
       "<table border=\"1\" class=\"dataframe\">\n",
       "  <thead>\n",
       "    <tr style=\"text-align: right;\">\n",
       "      <th></th>\n",
       "      <th>user_id</th>\n",
       "      <th>age</th>\n",
       "    </tr>\n",
       "  </thead>\n",
       "  <tbody>\n",
       "    <tr>\n",
       "      <th>count</th>\n",
       "      <td>500.00</td>\n",
       "      <td>500.00</td>\n",
       "    </tr>\n",
       "    <tr>\n",
       "      <th>mean</th>\n",
       "      <td>1249.50</td>\n",
       "      <td>46.59</td>\n",
       "    </tr>\n",
       "    <tr>\n",
       "      <th>std</th>\n",
       "      <td>144.48</td>\n",
       "      <td>16.67</td>\n",
       "    </tr>\n",
       "    <tr>\n",
       "      <th>min</th>\n",
       "      <td>1000.00</td>\n",
       "      <td>18.00</td>\n",
       "    </tr>\n",
       "    <tr>\n",
       "      <th>25%</th>\n",
       "      <td>1124.75</td>\n",
       "      <td>32.00</td>\n",
       "    </tr>\n",
       "    <tr>\n",
       "      <th>50%</th>\n",
       "      <td>1249.50</td>\n",
       "      <td>46.00</td>\n",
       "    </tr>\n",
       "    <tr>\n",
       "      <th>75%</th>\n",
       "      <td>1374.25</td>\n",
       "      <td>62.00</td>\n",
       "    </tr>\n",
       "    <tr>\n",
       "      <th>max</th>\n",
       "      <td>1499.00</td>\n",
       "      <td>75.00</td>\n",
       "    </tr>\n",
       "  </tbody>\n",
       "</table>\n",
       "</div>"
      ],
      "text/plain": [
       "       user_id     age\n",
       "count   500.00  500.00\n",
       "mean   1249.50   46.59\n",
       "std     144.48   16.67\n",
       "min    1000.00   18.00\n",
       "25%    1124.75   32.00\n",
       "50%    1249.50   46.00\n",
       "75%    1374.25   62.00\n",
       "max    1499.00   75.00"
      ]
     },
     "execution_count": 16,
     "metadata": {},
     "output_type": "execute_result"
    }
   ],
   "source": [
    "users.describe()"
   ]
  },
  {
   "cell_type": "markdown",
   "id": "938ad812",
   "metadata": {},
   "source": [
    "### Вывод\n",
    "\n",
    "**В данных выявлены следующие проблемы:**\n",
    "\n",
    "- Неправильный тип данных в дате, во всех датасетах\n",
    "- Лишний столбец индексов в таблице internet"
   ]
  },
  {
   "cell_type": "markdown",
   "id": "4f2f3fc0",
   "metadata": {},
   "source": [
    "## Предобработка данных"
   ]
  },
  {
   "cell_type": "markdown",
   "id": "ad80db3b",
   "metadata": {},
   "source": [
    "***Что бы предобработать данные, выполним следующие действия:***\n",
    "- Приведем дату к формату даты\n",
    "- Округлим время звонков до минут, согласно документации и приведет к целочисленному типу в таблице calls\n",
    "- Приведем остальные данные к нужному типу\n",
    "- Удалим лишний столбец индексов в таблице internet\n",
    "- Переименуем tariff_name на tariff в таблице tariff для удобства в дальнейшем"
   ]
  },
  {
   "cell_type": "markdown",
   "id": "62489912",
   "metadata": {},
   "source": [
    "### Приведение к формату даты"
   ]
  },
  {
   "cell_type": "code",
   "execution_count": 17,
   "id": "408fad74",
   "metadata": {},
   "outputs": [],
   "source": [
    "calls['call_date'] = pd.to_datetime(calls['call_date'])"
   ]
  },
  {
   "cell_type": "code",
   "execution_count": 18,
   "id": "3bca6362",
   "metadata": {},
   "outputs": [],
   "source": [
    "internet['session_date'] = pd.to_datetime(internet['session_date'])"
   ]
  },
  {
   "cell_type": "code",
   "execution_count": 19,
   "id": "9085a330",
   "metadata": {},
   "outputs": [],
   "source": [
    "messages['message_date'] = pd.to_datetime(messages['message_date'])"
   ]
  },
  {
   "cell_type": "code",
   "execution_count": 20,
   "id": "883df1a8",
   "metadata": {},
   "outputs": [],
   "source": [
    "users['reg_date'] = pd.to_datetime(users['reg_date'])"
   ]
  },
  {
   "cell_type": "code",
   "execution_count": 21,
   "id": "e844de8b",
   "metadata": {},
   "outputs": [],
   "source": [
    "users['churn_date'] = pd.to_datetime(users['churn_date'])"
   ]
  },
  {
   "cell_type": "markdown",
   "id": "990e6ce5",
   "metadata": {},
   "source": [
    "### Округление времени звонков и приведение к целочисленному типу данных"
   ]
  },
  {
   "cell_type": "code",
   "execution_count": 22,
   "id": "a5bd56d8",
   "metadata": {},
   "outputs": [],
   "source": [
    "calls['duration'] = np.ceil(calls['duration']).astype('uint16')"
   ]
  },
  {
   "cell_type": "markdown",
   "id": "d1b389e5",
   "metadata": {},
   "source": [
    "### Изменение типов данных"
   ]
  },
  {
   "cell_type": "code",
   "execution_count": 23,
   "id": "9918d0f6",
   "metadata": {},
   "outputs": [],
   "source": [
    "calls['id'] = calls['id'].astype('str')"
   ]
  },
  {
   "cell_type": "code",
   "execution_count": 24,
   "id": "dacce5ba",
   "metadata": {},
   "outputs": [],
   "source": [
    "calls['user_id'] = calls['user_id'].astype('uint16')"
   ]
  },
  {
   "cell_type": "code",
   "execution_count": 25,
   "id": "baa677a2",
   "metadata": {},
   "outputs": [],
   "source": [
    "internet['id'] = internet['id'].astype('str')"
   ]
  },
  {
   "cell_type": "code",
   "execution_count": 26,
   "id": "e4ae661b",
   "metadata": {},
   "outputs": [],
   "source": [
    "internet['user_id'] = internet['user_id'].astype('uint16')"
   ]
  },
  {
   "cell_type": "code",
   "execution_count": 27,
   "id": "1f662116",
   "metadata": {},
   "outputs": [],
   "source": [
    "messages['id'] = messages['id'].astype('str')"
   ]
  },
  {
   "cell_type": "code",
   "execution_count": 28,
   "id": "1dde5f89",
   "metadata": {},
   "outputs": [],
   "source": [
    "messages['user_id'] = messages['user_id'].astype('uint16')"
   ]
  },
  {
   "cell_type": "code",
   "execution_count": 29,
   "id": "4baab3ff",
   "metadata": {},
   "outputs": [],
   "source": [
    "tariffs['tariff_name'] = tariffs['tariff_name'].astype('str')"
   ]
  },
  {
   "cell_type": "code",
   "execution_count": 30,
   "id": "8464c698",
   "metadata": {},
   "outputs": [],
   "source": [
    "users['user_id'] = users['user_id'].astype('uint16')"
   ]
  },
  {
   "cell_type": "code",
   "execution_count": 31,
   "id": "d83373dd",
   "metadata": {},
   "outputs": [],
   "source": [
    "users['age'] = users['age'].astype('uint8')"
   ]
  },
  {
   "cell_type": "code",
   "execution_count": 32,
   "id": "15db3acd",
   "metadata": {},
   "outputs": [],
   "source": [
    "users[['city', 'first_name', 'last_name', 'tariff']] = users[['city', 'first_name', 'last_name', 'tariff']].astype('str')"
   ]
  },
  {
   "cell_type": "markdown",
   "id": "816432ef",
   "metadata": {},
   "source": [
    "### Удаление столбца"
   ]
  },
  {
   "cell_type": "code",
   "execution_count": 33,
   "id": "71ffc59f",
   "metadata": {},
   "outputs": [],
   "source": [
    "internet.drop('Unnamed: 0', axis=1, inplace=True)"
   ]
  },
  {
   "cell_type": "markdown",
   "id": "16be5c1e",
   "metadata": {},
   "source": [
    "### Переименование столбца"
   ]
  },
  {
   "cell_type": "code",
   "execution_count": 34,
   "id": "a9b9ab50",
   "metadata": {},
   "outputs": [],
   "source": [
    "tariffs.rename(columns={'tariff_name': 'tariff'}, inplace=True)"
   ]
  },
  {
   "cell_type": "markdown",
   "id": "939378d6",
   "metadata": {},
   "source": [
    "### Вывод\n",
    "\n",
    "- Даты были приведены к формату даты.\n",
    "- Звонки были откруглены до минут, согласно документации и приведены к целочисленному типу в таблице calls.\n",
    "- Целочисленные данные приведены к uint16, строки к string.\n",
    "- Удален лишний столбец индексов в таблице internet. Это просто ошибка выгрузки, столбец индекса содержался в csv файле.\n",
    "- Переименован tariff_name на tariff в таблице tariff для удобства в дальнейшем.\n",
    "- Звонки с нулевой продолжительностью оставлены как есть, т.к. нулями обозначены пропущенные звонки."
   ]
  },
  {
   "cell_type": "markdown",
   "id": "ebe1ac60",
   "metadata": {},
   "source": [
    "## Подсчет показателей"
   ]
  },
  {
   "cell_type": "markdown",
   "id": "677fdc25",
   "metadata": {},
   "source": [
    "***Подсчитаем следующие показатели для каждого пользователя:***\n",
    "- количество сделанных звонков и израсходованных минут разговора по месяцам\n",
    "- количество отправленных сообщений по месяцам\n",
    "- объем израсходованного интернет-трафика по месяцам\n",
    "- помесячную выручку с каждого пользователя"
   ]
  },
  {
   "cell_type": "markdown",
   "id": "3a06321a",
   "metadata": {},
   "source": [
    "### Добавление в таблицы calls, internet, messages столбец с месяцом"
   ]
  },
  {
   "cell_type": "code",
   "execution_count": 35,
   "id": "d8a80064",
   "metadata": {},
   "outputs": [],
   "source": [
    "calls['month'] = calls['call_date'].values.astype('datetime64[M]')"
   ]
  },
  {
   "cell_type": "code",
   "execution_count": 36,
   "id": "4edf77dc",
   "metadata": {},
   "outputs": [],
   "source": [
    "internet['month'] = internet['session_date'].values.astype('datetime64[M]')"
   ]
  },
  {
   "cell_type": "code",
   "execution_count": 37,
   "id": "f1e8a788",
   "metadata": {},
   "outputs": [],
   "source": [
    "messages['month'] = messages['message_date'].values.astype('datetime64[M]')"
   ]
  },
  {
   "cell_type": "markdown",
   "id": "d2cb3814",
   "metadata": {},
   "source": [
    "### Подсчет количества сделанных звонков и израсходованных минут разговора по месяцам"
   ]
  },
  {
   "cell_type": "code",
   "execution_count": 38,
   "id": "a4a062a6",
   "metadata": {},
   "outputs": [],
   "source": [
    "calls_per_month = calls.pivot_table(index=['user_id', 'month'], values='duration', aggfunc=['count','sum'])\n",
    "calls_per_month.columns = ['calls_count', 'calls_sum']\n",
    "calls_per_month.reset_index(inplace=True)"
   ]
  },
  {
   "cell_type": "code",
   "execution_count": 39,
   "id": "00058cd5",
   "metadata": {},
   "outputs": [
    {
     "data": {
      "text/plain": [
       "(3174, 4)"
      ]
     },
     "execution_count": 39,
     "metadata": {},
     "output_type": "execute_result"
    }
   ],
   "source": [
    "calls_per_month.shape"
   ]
  },
  {
   "cell_type": "markdown",
   "id": "2d0a0a96",
   "metadata": {},
   "source": [
    "### Подсчет количества отправленных сообщений по месяцам"
   ]
  },
  {
   "cell_type": "code",
   "execution_count": 40,
   "id": "82942fd5",
   "metadata": {},
   "outputs": [],
   "source": [
    "messages_per_month = messages.pivot_table(index=['user_id', 'month'], values='id', aggfunc='count')\n",
    "messages_per_month.columns = ['messages_count']\n",
    "messages_per_month.reset_index(inplace=True)"
   ]
  },
  {
   "cell_type": "code",
   "execution_count": 41,
   "id": "696dd947",
   "metadata": {},
   "outputs": [
    {
     "data": {
      "text/plain": [
       "(2717, 3)"
      ]
     },
     "execution_count": 41,
     "metadata": {},
     "output_type": "execute_result"
    }
   ],
   "source": [
    "messages_per_month.shape"
   ]
  },
  {
   "cell_type": "markdown",
   "id": "9dac4873",
   "metadata": {},
   "source": [
    "### Подсчет объема израсходованного интернет-трафика по месяцам"
   ]
  },
  {
   "cell_type": "code",
   "execution_count": 42,
   "id": "ec509349",
   "metadata": {},
   "outputs": [],
   "source": [
    "internet_per_month = internet.pivot_table(index=['user_id', 'month'], values='mb_used', aggfunc='sum')\n",
    "internet_per_month.columns = ['internet_sum']\n",
    "internet_per_month.reset_index(inplace=True)\n",
    "internet_per_month['internet_sum'] = np.ceil(internet_per_month['internet_sum'].div(1024))"
   ]
  },
  {
   "cell_type": "code",
   "execution_count": 43,
   "id": "283eeef9",
   "metadata": {},
   "outputs": [
    {
     "data": {
      "text/plain": [
       "(3203, 3)"
      ]
     },
     "execution_count": 43,
     "metadata": {},
     "output_type": "execute_result"
    }
   ],
   "source": [
    "internet_per_month.shape"
   ]
  },
  {
   "cell_type": "markdown",
   "id": "a614adab",
   "metadata": {},
   "source": [
    "### Объединение таблиц для подсчета помесячной выручки с каждого пользователя"
   ]
  },
  {
   "cell_type": "code",
   "execution_count": 44,
   "id": "f49d49a1",
   "metadata": {},
   "outputs": [],
   "source": [
    "df = (internet_per_month\n",
    "        .merge(calls_per_month, how='outer', on=['user_id', 'month'])\n",
    "        .merge(messages_per_month, how='outer', on=['user_id', 'month'])\n",
    "        .merge(users, how='outer', on='user_id')\n",
    "        .merge(tariffs, how='left', on='tariff')\n",
    "     )"
   ]
  },
  {
   "cell_type": "markdown",
   "id": "6ae5280e",
   "metadata": {},
   "source": [
    "***После объединения таблиц могли появиться пропуски***"
   ]
  },
  {
   "cell_type": "code",
   "execution_count": 45,
   "id": "88e31785",
   "metadata": {},
   "outputs": [
    {
     "data": {
      "text/plain": [
       "user_id                     0\n",
       "month                       2\n",
       "internet_sum               13\n",
       "calls_count                42\n",
       "calls_sum                  42\n",
       "messages_count            499\n",
       "age                         0\n",
       "churn_date               3027\n",
       "city                        0\n",
       "first_name                  0\n",
       "last_name                   0\n",
       "reg_date                    0\n",
       "tariff                      0\n",
       "messages_included           0\n",
       "mb_per_month_included       0\n",
       "minutes_included            0\n",
       "rub_monthly_fee             0\n",
       "rub_per_gb                  0\n",
       "rub_per_message             0\n",
       "rub_per_minute              0\n",
       "dtype: int64"
      ]
     },
     "execution_count": 45,
     "metadata": {},
     "output_type": "execute_result"
    }
   ],
   "source": [
    "df.isna().sum()"
   ]
  },
  {
   "cell_type": "markdown",
   "id": "c70ae36c",
   "metadata": {},
   "source": [
    "*Они показывают что в этот месяц пользователь не пользовался какой-либо услугой, заполним нулями, все кроме churn_date и month*"
   ]
  },
  {
   "cell_type": "code",
   "execution_count": 46,
   "id": "b6af8c3e",
   "metadata": {},
   "outputs": [],
   "source": [
    "df['calls_count'].fillna(0, inplace=True)"
   ]
  },
  {
   "cell_type": "code",
   "execution_count": 47,
   "id": "a19e3d1e",
   "metadata": {},
   "outputs": [],
   "source": [
    "df['calls_sum'].fillna(0, inplace=True)"
   ]
  },
  {
   "cell_type": "code",
   "execution_count": 48,
   "id": "0be9403d",
   "metadata": {},
   "outputs": [],
   "source": [
    "df['messages_count'].fillna(0, inplace=True)"
   ]
  },
  {
   "cell_type": "code",
   "execution_count": 49,
   "id": "d7c711da",
   "metadata": {},
   "outputs": [],
   "source": [
    "df['internet_sum'].fillna(0, inplace=True)"
   ]
  },
  {
   "cell_type": "code",
   "execution_count": 50,
   "id": "8de5e6da",
   "metadata": {},
   "outputs": [
    {
     "data": {
      "text/plain": [
       "user_id                     0\n",
       "month                       2\n",
       "internet_sum                0\n",
       "calls_count                 0\n",
       "calls_sum                   0\n",
       "messages_count              0\n",
       "age                         0\n",
       "churn_date               3027\n",
       "city                        0\n",
       "first_name                  0\n",
       "last_name                   0\n",
       "reg_date                    0\n",
       "tariff                      0\n",
       "messages_included           0\n",
       "mb_per_month_included       0\n",
       "minutes_included            0\n",
       "rub_monthly_fee             0\n",
       "rub_per_gb                  0\n",
       "rub_per_message             0\n",
       "rub_per_minute              0\n",
       "dtype: int64"
      ]
     },
     "execution_count": 50,
     "metadata": {},
     "output_type": "execute_result"
    }
   ],
   "source": [
    "df.isna().sum()"
   ]
  },
  {
   "cell_type": "markdown",
   "id": "584565e7",
   "metadata": {},
   "source": [
    "***Оставим только те столбцы, которые потом будем использовать***"
   ]
  },
  {
   "cell_type": "code",
   "execution_count": 51,
   "id": "15c622a5",
   "metadata": {},
   "outputs": [],
   "source": [
    "df = df[['user_id', \n",
    "         'month', \n",
    "         'calls_count', \n",
    "         'calls_sum', \n",
    "         'messages_count', \n",
    "         'internet_sum', \n",
    "         'city', \n",
    "         'tariff',\n",
    "         'messages_included', \n",
    "         'mb_per_month_included',\n",
    "         'minutes_included', \n",
    "         'rub_monthly_fee', \n",
    "         'rub_per_gb', \n",
    "         'rub_per_message', \n",
    "         'rub_per_minute'\n",
    "        ]\n",
    "       ]"
   ]
  },
  {
   "cell_type": "markdown",
   "id": "283e6785",
   "metadata": {},
   "source": [
    "***Подсчитаем помесячную выручку***"
   ]
  },
  {
   "cell_type": "code",
   "execution_count": 52,
   "id": "a297eb92",
   "metadata": {
    "scrolled": false
   },
   "outputs": [],
   "source": [
    "def get_revenue(row):\n",
    "    \"\"\"\n",
    "    Функция для подсчета помесячной выручки с каждого пользователя\n",
    "    \n",
    "    \"\"\"\n",
    "    \n",
    "    minutes  = row['calls_sum']\n",
    "    messages = row['messages_count']\n",
    "    internet = row['internet_sum']\n",
    "    \n",
    "    minutes_included  = row['minutes_included']\n",
    "    messages_included = row['messages_included']\n",
    "    internet_included = row['mb_per_month_included'] / 1024\n",
    "    rub_monthly_fee   = row['rub_monthly_fee']\n",
    "    rub_per_minute    = row['rub_per_minute']\n",
    "    rub_per_message   = row['rub_per_message']\n",
    "    rub_per_gb        = row['rub_per_gb']\n",
    "    \n",
    "    minutes_cost = (minutes - minutes_included) * rub_per_minute if minutes - minutes_included > 0 else 0\n",
    "    messages_cost = (messages - messages_included) * rub_per_message if messages - messages_included > 0 else 0\n",
    "    internet_cost = (internet - internet_included) * rub_per_gb if internet - internet_included > 0 else 0\n",
    "    \n",
    "    return minutes_cost + messages_cost + internet_cost + rub_monthly_fee\n",
    "    "
   ]
  },
  {
   "cell_type": "code",
   "execution_count": 53,
   "id": "9a61ffa3",
   "metadata": {},
   "outputs": [],
   "source": [
    "df['revenue'] = df.apply(get_revenue, axis=1)"
   ]
  },
  {
   "cell_type": "code",
   "execution_count": 54,
   "id": "8c8c128d",
   "metadata": {},
   "outputs": [
    {
     "data": {
      "text/html": [
       "<div>\n",
       "<style scoped>\n",
       "    .dataframe tbody tr th:only-of-type {\n",
       "        vertical-align: middle;\n",
       "    }\n",
       "\n",
       "    .dataframe tbody tr th {\n",
       "        vertical-align: top;\n",
       "    }\n",
       "\n",
       "    .dataframe thead th {\n",
       "        text-align: right;\n",
       "    }\n",
       "</style>\n",
       "<table border=\"1\" class=\"dataframe\">\n",
       "  <thead>\n",
       "    <tr style=\"text-align: right;\">\n",
       "      <th></th>\n",
       "      <th>user_id</th>\n",
       "      <th>month</th>\n",
       "      <th>calls_count</th>\n",
       "      <th>calls_sum</th>\n",
       "      <th>messages_count</th>\n",
       "      <th>internet_sum</th>\n",
       "      <th>city</th>\n",
       "      <th>tariff</th>\n",
       "      <th>messages_included</th>\n",
       "      <th>mb_per_month_included</th>\n",
       "      <th>minutes_included</th>\n",
       "      <th>rub_monthly_fee</th>\n",
       "      <th>rub_per_gb</th>\n",
       "      <th>rub_per_message</th>\n",
       "      <th>rub_per_minute</th>\n",
       "      <th>revenue</th>\n",
       "    </tr>\n",
       "  </thead>\n",
       "  <tbody>\n",
       "    <tr>\n",
       "      <th>1794</th>\n",
       "      <td>1284</td>\n",
       "      <td>2018-09-01</td>\n",
       "      <td>65.0</td>\n",
       "      <td>485.0</td>\n",
       "      <td>48.0</td>\n",
       "      <td>9.0</td>\n",
       "      <td>Волгоград</td>\n",
       "      <td>smart</td>\n",
       "      <td>50</td>\n",
       "      <td>15360</td>\n",
       "      <td>500</td>\n",
       "      <td>550</td>\n",
       "      <td>200</td>\n",
       "      <td>3</td>\n",
       "      <td>3</td>\n",
       "      <td>550.0</td>\n",
       "    </tr>\n",
       "    <tr>\n",
       "      <th>1155</th>\n",
       "      <td>1179</td>\n",
       "      <td>2018-12-01</td>\n",
       "      <td>84.0</td>\n",
       "      <td>631.0</td>\n",
       "      <td>0.0</td>\n",
       "      <td>19.0</td>\n",
       "      <td>Вологда</td>\n",
       "      <td>smart</td>\n",
       "      <td>50</td>\n",
       "      <td>15360</td>\n",
       "      <td>500</td>\n",
       "      <td>550</td>\n",
       "      <td>200</td>\n",
       "      <td>3</td>\n",
       "      <td>3</td>\n",
       "      <td>1743.0</td>\n",
       "    </tr>\n",
       "    <tr>\n",
       "      <th>3143</th>\n",
       "      <td>1489</td>\n",
       "      <td>2018-10-01</td>\n",
       "      <td>0.0</td>\n",
       "      <td>0.0</td>\n",
       "      <td>21.0</td>\n",
       "      <td>20.0</td>\n",
       "      <td>Санкт-Петербург</td>\n",
       "      <td>smart</td>\n",
       "      <td>50</td>\n",
       "      <td>15360</td>\n",
       "      <td>500</td>\n",
       "      <td>550</td>\n",
       "      <td>200</td>\n",
       "      <td>3</td>\n",
       "      <td>3</td>\n",
       "      <td>1550.0</td>\n",
       "    </tr>\n",
       "    <tr>\n",
       "      <th>374</th>\n",
       "      <td>1059</td>\n",
       "      <td>2018-05-01</td>\n",
       "      <td>102.0</td>\n",
       "      <td>671.0</td>\n",
       "      <td>23.0</td>\n",
       "      <td>21.0</td>\n",
       "      <td>Курск</td>\n",
       "      <td>smart</td>\n",
       "      <td>50</td>\n",
       "      <td>15360</td>\n",
       "      <td>500</td>\n",
       "      <td>550</td>\n",
       "      <td>200</td>\n",
       "      <td>3</td>\n",
       "      <td>3</td>\n",
       "      <td>2263.0</td>\n",
       "    </tr>\n",
       "    <tr>\n",
       "      <th>206</th>\n",
       "      <td>1032</td>\n",
       "      <td>2018-07-01</td>\n",
       "      <td>59.0</td>\n",
       "      <td>415.0</td>\n",
       "      <td>31.0</td>\n",
       "      <td>20.0</td>\n",
       "      <td>Ульяновск</td>\n",
       "      <td>smart</td>\n",
       "      <td>50</td>\n",
       "      <td>15360</td>\n",
       "      <td>500</td>\n",
       "      <td>550</td>\n",
       "      <td>200</td>\n",
       "      <td>3</td>\n",
       "      <td>3</td>\n",
       "      <td>1550.0</td>\n",
       "    </tr>\n",
       "  </tbody>\n",
       "</table>\n",
       "</div>"
      ],
      "text/plain": [
       "      user_id      month  calls_count  calls_sum  messages_count  \\\n",
       "1794     1284 2018-09-01         65.0      485.0            48.0   \n",
       "1155     1179 2018-12-01         84.0      631.0             0.0   \n",
       "3143     1489 2018-10-01          0.0        0.0            21.0   \n",
       "374      1059 2018-05-01        102.0      671.0            23.0   \n",
       "206      1032 2018-07-01         59.0      415.0            31.0   \n",
       "\n",
       "      internet_sum             city tariff  messages_included  \\\n",
       "1794           9.0        Волгоград  smart                 50   \n",
       "1155          19.0          Вологда  smart                 50   \n",
       "3143          20.0  Санкт-Петербург  smart                 50   \n",
       "374           21.0            Курск  smart                 50   \n",
       "206           20.0        Ульяновск  smart                 50   \n",
       "\n",
       "      mb_per_month_included  minutes_included  rub_monthly_fee  rub_per_gb  \\\n",
       "1794                  15360               500              550         200   \n",
       "1155                  15360               500              550         200   \n",
       "3143                  15360               500              550         200   \n",
       "374                   15360               500              550         200   \n",
       "206                   15360               500              550         200   \n",
       "\n",
       "      rub_per_message  rub_per_minute  revenue  \n",
       "1794                3               3    550.0  \n",
       "1155                3               3   1743.0  \n",
       "3143                3               3   1550.0  \n",
       "374                 3               3   2263.0  \n",
       "206                 3               3   1550.0  "
      ]
     },
     "execution_count": 54,
     "metadata": {},
     "output_type": "execute_result"
    }
   ],
   "source": [
    "df.sample(5)"
   ]
  },
  {
   "cell_type": "markdown",
   "id": "e0b44425",
   "metadata": {},
   "source": [
    "### Вывод\n",
    "\n",
    "Были подсчитаны:\n",
    "- количество сделанных звонков и израсходованных минут разговора по месяцам\n",
    "- количество отправленных сообщений по месяцам\n",
    "- объем израсходованного интернет-трафика по месяцам\n",
    "\n",
    "После датасеты были объединены в один датасет и на основании полученных данных подсчитана помесячная выручка с каждого пользователя."
   ]
  },
  {
   "cell_type": "markdown",
   "id": "1475fe17",
   "metadata": {},
   "source": [
    "## Анализ данных"
   ]
  },
  {
   "cell_type": "markdown",
   "id": "1bf821c9",
   "metadata": {},
   "source": [
    "***Выясним:***\n",
    "- Сколько минут разговора требуется пользователям каждого тарифа в месяц\n",
    "- Сколько сообщений требуется пользователям каждого тарифа в месяц\n",
    "- Какой объём интернет-трафика требуется пользователям каждого тарифа в месяц\n",
    "\n",
    "***Подсчитаем:***\n",
    "- Среднее количество\n",
    "- Дисперсию \n",
    "- Стандартное отклонение"
   ]
  },
  {
   "cell_type": "markdown",
   "id": "93b48074",
   "metadata": {},
   "source": [
    "### Сколько минут разговора требуется пользователям каждого тарифа в месяц"
   ]
  },
  {
   "cell_type": "code",
   "execution_count": 55,
   "id": "4bb224bd",
   "metadata": {},
   "outputs": [],
   "source": [
    "def barplot_by_month(data, y, y_label, title):\n",
    "    fig, ax = plt.subplots()\n",
    "    sns.barplot(data=data, x='tariff', y=y)\n",
    "    ax.set_xlabel('')\n",
    "    ax.set_ylabel(y_label)\n",
    "    ax.set_title(title, fontsize=14);"
   ]
  },
  {
   "cell_type": "code",
   "execution_count": 56,
   "id": "c81f821b",
   "metadata": {},
   "outputs": [],
   "source": [
    "minutes_per_month_by_tariff = df.pivot_table(index='tariff', \n",
    "                                             values='calls_sum', \n",
    "                                             aggfunc=['mean','var', 'std']\n",
    "                                            )\n",
    "minutes_per_month_by_tariff.columns = ['mean','var', 'std']\n",
    "minutes_per_month_by_tariff.reset_index(inplace=True)"
   ]
  },
  {
   "cell_type": "code",
   "execution_count": 57,
   "id": "b9497baf",
   "metadata": {},
   "outputs": [
    {
     "data": {
      "image/png": "[encoded data removed]",
      "text/plain": [
       "<Figure size 2400x1200 with 1 Axes>"
      ]
     },
     "metadata": {
      "needs_background": "light"
     },
     "output_type": "display_data"
    }
   ],
   "source": [
    "barplot_by_month(minutes_per_month_by_tariff, \n",
    "                 y='mean', \n",
    "                 y_label='Количество минут', \n",
    "                 title='Количество минут разговора требуемого пользователям каждого тарифа в месяц'\n",
    "                )"
   ]
  },
  {
   "cell_type": "code",
   "execution_count": 58,
   "id": "ddd7d9b7",
   "metadata": {},
   "outputs": [
    {
     "data": {
      "text/html": [
       "<div>\n",
       "<style scoped>\n",
       "    .dataframe tbody tr th:only-of-type {\n",
       "        vertical-align: middle;\n",
       "    }\n",
       "\n",
       "    .dataframe tbody tr th {\n",
       "        vertical-align: top;\n",
       "    }\n",
       "\n",
       "    .dataframe thead th {\n",
       "        text-align: right;\n",
       "    }\n",
       "</style>\n",
       "<table border=\"1\" class=\"dataframe\">\n",
       "  <thead>\n",
       "    <tr style=\"text-align: right;\">\n",
       "      <th></th>\n",
       "      <th>tariff</th>\n",
       "      <th>mean</th>\n",
       "      <th>var</th>\n",
       "      <th>std</th>\n",
       "    </tr>\n",
       "  </thead>\n",
       "  <tbody>\n",
       "    <tr>\n",
       "      <th>0</th>\n",
       "      <td>smart</td>\n",
       "      <td>417.75</td>\n",
       "      <td>36281.39</td>\n",
       "      <td>190.48</td>\n",
       "    </tr>\n",
       "    <tr>\n",
       "      <th>1</th>\n",
       "      <td>ultra</td>\n",
       "      <td>526.09</td>\n",
       "      <td>101052.49</td>\n",
       "      <td>317.89</td>\n",
       "    </tr>\n",
       "  </tbody>\n",
       "</table>\n",
       "</div>"
      ],
      "text/plain": [
       "  tariff    mean        var     std\n",
       "0  smart  417.75   36281.39  190.48\n",
       "1  ultra  526.09  101052.49  317.89"
      ]
     },
     "execution_count": 58,
     "metadata": {},
     "output_type": "execute_result"
    }
   ],
   "source": [
    "# среднее, дисперсия и стандартное отклонение по тарифам\n",
    "minutes_per_month_by_tariff"
   ]
  },
  {
   "cell_type": "markdown",
   "id": "c4c49fb6",
   "metadata": {},
   "source": [
    "*В месяц пользователя тарифа смарт требуется 418 минут, пользователям тарифа ультра 526*"
   ]
  },
  {
   "cell_type": "markdown",
   "id": "8f83ec4b",
   "metadata": {},
   "source": [
    "### Сколько сообщений требуется пользователям каждого тарифа в месяц"
   ]
  },
  {
   "cell_type": "code",
   "execution_count": 59,
   "id": "7f86d031",
   "metadata": {},
   "outputs": [],
   "source": [
    "messages_per_month_by_tariff = df.pivot_table(index='tariff', \n",
    "                                              values='messages_count',\n",
    "                                              aggfunc=['mean','var', 'std'])\n",
    "messages_per_month_by_tariff.columns = ['mean','var', 'std']\n",
    "messages_per_month_by_tariff.reset_index(inplace=True)"
   ]
  },
  {
   "cell_type": "code",
   "execution_count": 60,
   "id": "2bae5052",
   "metadata": {},
   "outputs": [
    {
     "data": {
      "image/png": "[encoded data removed]",
      "text/plain": [
       "<Figure size 2400x1200 with 1 Axes>"
      ]
     },
     "metadata": {
      "needs_background": "light"
     },
     "output_type": "display_data"
    }
   ],
   "source": [
    "barplot_by_month(messages_per_month_by_tariff, \n",
    "                 y='mean', \n",
    "                 y_label='Количество сообщений', \n",
    "                 title='Количество сообщений требуемых пользователями каждого тарифа в месяц')"
   ]
  },
  {
   "cell_type": "code",
   "execution_count": 61,
   "id": "8ac0eb16",
   "metadata": {
    "scrolled": true
   },
   "outputs": [
    {
     "data": {
      "text/html": [
       "<div>\n",
       "<style scoped>\n",
       "    .dataframe tbody tr th:only-of-type {\n",
       "        vertical-align: middle;\n",
       "    }\n",
       "\n",
       "    .dataframe tbody tr th {\n",
       "        vertical-align: top;\n",
       "    }\n",
       "\n",
       "    .dataframe thead th {\n",
       "        text-align: right;\n",
       "    }\n",
       "</style>\n",
       "<table border=\"1\" class=\"dataframe\">\n",
       "  <thead>\n",
       "    <tr style=\"text-align: right;\">\n",
       "      <th></th>\n",
       "      <th>tariff</th>\n",
       "      <th>mean</th>\n",
       "      <th>var</th>\n",
       "      <th>std</th>\n",
       "    </tr>\n",
       "  </thead>\n",
       "  <tbody>\n",
       "    <tr>\n",
       "      <th>0</th>\n",
       "      <td>smart</td>\n",
       "      <td>33.37</td>\n",
       "      <td>796.96</td>\n",
       "      <td>28.23</td>\n",
       "    </tr>\n",
       "    <tr>\n",
       "      <th>1</th>\n",
       "      <td>ultra</td>\n",
       "      <td>49.31</td>\n",
       "      <td>2285.42</td>\n",
       "      <td>47.81</td>\n",
       "    </tr>\n",
       "  </tbody>\n",
       "</table>\n",
       "</div>"
      ],
      "text/plain": [
       "  tariff   mean      var    std\n",
       "0  smart  33.37   796.96  28.23\n",
       "1  ultra  49.31  2285.42  47.81"
      ]
     },
     "execution_count": 61,
     "metadata": {},
     "output_type": "execute_result"
    }
   ],
   "source": [
    "# среднее, дисперсия и стандартное отклонение по тарифам\n",
    "messages_per_month_by_tariff"
   ]
  },
  {
   "cell_type": "markdown",
   "id": "12540f9b",
   "metadata": {},
   "source": [
    "*В месяц пользователя тарифа смарт требуется 33 смс, пользователям тарифа ультра 49*"
   ]
  },
  {
   "cell_type": "markdown",
   "id": "0d5d51d6",
   "metadata": {},
   "source": [
    "### Какой объём интернет-трафика требуется пользователям каждого тарифа в месяц"
   ]
  },
  {
   "cell_type": "code",
   "execution_count": 62,
   "id": "824f03ff",
   "metadata": {},
   "outputs": [],
   "source": [
    "internet_per_month_by_tariff = (df.pivot_table(index='tariff', \n",
    "                                               values='internet_sum',\n",
    "                                               aggfunc=['mean','var', 'std'])\n",
    "                               ) \n",
    "internet_per_month_by_tariff.columns = ['mean','var', 'std']\n",
    "internet_per_month_by_tariff.reset_index(inplace=True)"
   ]
  },
  {
   "cell_type": "code",
   "execution_count": 63,
   "id": "927d30de",
   "metadata": {
    "scrolled": false
   },
   "outputs": [
    {
     "data": {
      "image/png": "[encoded data removed]",
      "text/plain": [
       "<Figure size 2400x1200 with 1 Axes>"
      ]
     },
     "metadata": {
      "needs_background": "light"
     },
     "output_type": "display_data"
    }
   ],
   "source": [
    "barplot_by_month(internet_per_month_by_tariff, \n",
    "                 y='mean', \n",
    "                 y_label='Объем интернет-трафика', \n",
    "                 title='Объём интернет-трафика требуемый пользователям каждого тарифа в месяц')"
   ]
  },
  {
   "cell_type": "code",
   "execution_count": 64,
   "id": "f173c592",
   "metadata": {},
   "outputs": [
    {
     "data": {
      "text/html": [
       "<div>\n",
       "<style scoped>\n",
       "    .dataframe tbody tr th:only-of-type {\n",
       "        vertical-align: middle;\n",
       "    }\n",
       "\n",
       "    .dataframe tbody tr th {\n",
       "        vertical-align: top;\n",
       "    }\n",
       "\n",
       "    .dataframe thead th {\n",
       "        text-align: right;\n",
       "    }\n",
       "</style>\n",
       "<table border=\"1\" class=\"dataframe\">\n",
       "  <thead>\n",
       "    <tr style=\"text-align: right;\">\n",
       "      <th></th>\n",
       "      <th>tariff</th>\n",
       "      <th>mean</th>\n",
       "      <th>var</th>\n",
       "      <th>std</th>\n",
       "    </tr>\n",
       "  </thead>\n",
       "  <tbody>\n",
       "    <tr>\n",
       "      <th>0</th>\n",
       "      <td>smart</td>\n",
       "      <td>16.32</td>\n",
       "      <td>33.13</td>\n",
       "      <td>5.76</td>\n",
       "    </tr>\n",
       "    <tr>\n",
       "      <th>1</th>\n",
       "      <td>ultra</td>\n",
       "      <td>19.47</td>\n",
       "      <td>97.38</td>\n",
       "      <td>9.87</td>\n",
       "    </tr>\n",
       "  </tbody>\n",
       "</table>\n",
       "</div>"
      ],
      "text/plain": [
       "  tariff   mean    var   std\n",
       "0  smart  16.32  33.13  5.76\n",
       "1  ultra  19.47  97.38  9.87"
      ]
     },
     "execution_count": 64,
     "metadata": {},
     "output_type": "execute_result"
    }
   ],
   "source": [
    "# среднее, дисперсия и стандартное отклонение по тарифам\n",
    "internet_per_month_by_tariff"
   ]
  },
  {
   "cell_type": "markdown",
   "id": "a0267f5c",
   "metadata": {},
   "source": [
    "*В месяц пользователя тарифа смарт требуется 16.3 гб интернет-трафика, пользователям тарифа ультра 19.5*"
   ]
  },
  {
   "cell_type": "markdown",
   "id": "ba380522",
   "metadata": {},
   "source": [
    "### Распределение для звонков"
   ]
  },
  {
   "cell_type": "code",
   "execution_count": 65,
   "id": "dd3990d4",
   "metadata": {},
   "outputs": [],
   "source": [
    "def histplot_by_month(x, xlabel=''):\n",
    "    fig, (ax1, ax2) = plt.subplots(1, 2)\n",
    "    sns.histplot(data=df.query('tariff == \"smart\"'), x=x, ax=ax1, bins=50)\n",
    "    sns.histplot(data=df.query('tariff == \"ultra\"'), x=x, ax=ax2, bins=50)\n",
    "    ax1.set_title('smart', fontsize=14)\n",
    "    ax2.set_title('ultra', fontsize=14)\n",
    "    ax1.set_xlabel(xlabel)\n",
    "    ax1.set_ylabel('Количество')\n",
    "    ax2.set_xlabel(xlabel)\n",
    "    ax2.set_ylabel('Количество');"
   ]
  },
  {
   "cell_type": "code",
   "execution_count": 66,
   "id": "0ea8b289",
   "metadata": {},
   "outputs": [
    {
     "data": {
      "image/png": "[encoded data removed]",
      "text/plain": [
       "<Figure size 2400x1200 with 2 Axes>"
      ]
     },
     "metadata": {
      "needs_background": "light"
     },
     "output_type": "display_data"
    }
   ],
   "source": [
    "histplot_by_month(\"calls_sum\", \"Минуты\")"
   ]
  },
  {
   "cell_type": "markdown",
   "id": "b7ca0c83",
   "metadata": {},
   "source": [
    "*Гистрограмма у тарифа ультра показывает распределение с положительной скошенностью, так же на ней видны пропущенные звонки*"
   ]
  },
  {
   "cell_type": "markdown",
   "id": "632b1e13",
   "metadata": {},
   "source": [
    "### Распределение для сообщений"
   ]
  },
  {
   "cell_type": "code",
   "execution_count": 67,
   "id": "65d2f23e",
   "metadata": {},
   "outputs": [
    {
     "data": {
      "image/png": "[encoded data removed]",
      "text/plain": [
       "<Figure size 2400x1200 with 2 Axes>"
      ]
     },
     "metadata": {
      "needs_background": "light"
     },
     "output_type": "display_data"
    }
   ],
   "source": [
    "histplot_by_month(\"messages_count\", \"Сообщения\")"
   ]
  },
  {
   "cell_type": "markdown",
   "id": "0363641f",
   "metadata": {},
   "source": [
    "*Гистограмма сообщений, что на тарифе смарт, что на тарифе ультра имеет положительную скошенность, среднее больше, чем медиана, большой выброс у нуля характеризует современные тенденции - люди меньше пишут смс, а больше пользуются мессенджерами.*"
   ]
  },
  {
   "cell_type": "markdown",
   "id": "ece9b60c",
   "metadata": {},
   "source": [
    "### Распределение для интернет-трафика"
   ]
  },
  {
   "cell_type": "code",
   "execution_count": 68,
   "id": "bcae1fc6",
   "metadata": {},
   "outputs": [
    {
     "data": {
      "image/png": "[encoded data removed]",
      "text/plain": [
       "<Figure size 2400x1200 with 2 Axes>"
      ]
     },
     "metadata": {
      "needs_background": "light"
     },
     "output_type": "display_data"
    }
   ],
   "source": [
    "histplot_by_month(\"internet_sum\", \"Трафик\")"
   ]
  },
  {
   "cell_type": "markdown",
   "id": "59eae6fc",
   "metadata": {},
   "source": [
    "*Гистограмма интернет-трафика для обоих тарифов имеет нормальное распределение.*"
   ]
  },
  {
   "cell_type": "markdown",
   "id": "95d1cdeb",
   "metadata": {},
   "source": [
    "### Вывод\n",
    "\n",
    "***В ходе анализа было выяснено:***\n",
    "- Количество минут разговора, сообщений, интернет-трафика на тарифе ультра используется боьше чем на тарифе смарт.\n",
    "- Среднее по звонкам укладывается во включенный лимит на обоих тарифах.\n",
    "- Среднее по сообщениям так же укладывается во включенный лимит на обоих тарифах.\n",
    "- Среднее по интернет-трафику на 1.3 гб привышает лимит в тарифе смарт, на тарифе ультра укладывается в лимит.\n",
    "- У тарифа ультра распределение с положительной скошенностью.\n",
    "- Гистограмма сообщений, что на тарифе смарт, что на тарифе ультра имеет положительную скошенность, среднее больше, чем медиана.\n",
    "- Гистограмма интернет-трафика для обоих тарифов имеет нормальное распределение."
   ]
  },
  {
   "cell_type": "markdown",
   "id": "d14f5414",
   "metadata": {},
   "source": [
    "## Проверка гипотез"
   ]
  },
  {
   "cell_type": "markdown",
   "id": "f5fd6c2a",
   "metadata": {},
   "source": [
    "***Проверим гипотезы:***\n",
    "1. Средняя выручка пользователей тарифов «Ультра» и «Смарт» различаются.\n",
    "2. Средняя выручка пользователей из Москвы отличается от выручки пользователей из других регионов."
   ]
  },
  {
   "cell_type": "markdown",
   "id": "b37c6731",
   "metadata": {},
   "source": [
    "### Средняя выручка пользователей тарифов «Ультра» и «Смарт» различаются"
   ]
  },
  {
   "cell_type": "markdown",
   "id": "aabce68a",
   "metadata": {},
   "source": [
    "***Сформулируем нулевую гипотезу:*** *средняя выручка пользователей тарифов «Ультра» и «Смарт» равны.*  \n",
    "***Сформулируем алтернативную гипотезу:*** *средняя выручка пользователей тарифов «Ультра» и «Смарт» различаются.*"
   ]
  },
  {
   "cell_type": "markdown",
   "id": "ac3d6c5c",
   "metadata": {},
   "source": [
    "***Чтобы проверить гипотезу проведем t-тест***"
   ]
  },
  {
   "cell_type": "code",
   "execution_count": 69,
   "id": "1d39a96f",
   "metadata": {},
   "outputs": [],
   "source": [
    "alpha = .05 # критический уровень статистической значимости"
   ]
  },
  {
   "cell_type": "code",
   "execution_count": 70,
   "id": "5a5cb3ac",
   "metadata": {},
   "outputs": [],
   "source": [
    "smart_revenue = df.query('tariff == \"smart\"').revenue"
   ]
  },
  {
   "cell_type": "code",
   "execution_count": 71,
   "id": "6ebac5a0",
   "metadata": {},
   "outputs": [],
   "source": [
    "ultra_revenue = df.query('tariff == \"ultra\"').revenue"
   ]
  },
  {
   "cell_type": "code",
   "execution_count": 72,
   "id": "8665645a",
   "metadata": {},
   "outputs": [],
   "source": [
    "# так как тарифы принципиально разные по всем параметрам, нет оснований полагать что дисперсии у генеральных совокупностей одинаковые\n",
    "results = st.ttest_ind(ultra_revenue, smart_revenue, equal_var=False)"
   ]
  },
  {
   "cell_type": "code",
   "execution_count": 73,
   "id": "f9f3ff68",
   "metadata": {},
   "outputs": [
    {
     "name": "stdout",
     "output_type": "stream",
     "text": [
      "p-значение: 1.927011394420941e-250\n"
     ]
    }
   ],
   "source": [
    "print('p-значение:', results.pvalue)"
   ]
  },
  {
   "cell_type": "code",
   "execution_count": 74,
   "id": "bd373bc9",
   "metadata": {
    "scrolled": true
   },
   "outputs": [
    {
     "name": "stdout",
     "output_type": "stream",
     "text": [
      "Отвергаем нулевую гипотезу\n"
     ]
    }
   ],
   "source": [
    "if results.pvalue < alpha:\n",
    "    print(\"Отвергаем нулевую гипотезу\")\n",
    "else:\n",
    "    print(\"Не получилось отвергнуть нулевую гипотезу\") "
   ]
  },
  {
   "cell_type": "markdown",
   "id": "b1cd57b1",
   "metadata": {},
   "source": [
    "*После проведения t-теста можно отбросить нулевую гипотезу и принять  альтернативную.*"
   ]
  },
  {
   "cell_type": "markdown",
   "id": "042a0652",
   "metadata": {},
   "source": [
    "***Чтобы выяснить какой из тарифов приносит больше дохода, сравним их средние***  "
   ]
  },
  {
   "cell_type": "code",
   "execution_count": 75,
   "id": "3ba8e5c8",
   "metadata": {},
   "outputs": [
    {
     "name": "stdout",
     "output_type": "stream",
     "text": [
      "Тариф Ультра приносит больше дохода\n"
     ]
    }
   ],
   "source": [
    "if smart_revenue.mean() > ultra_revenue.mean():\n",
    "    print(\"Тариф Смарт приносит больше дохода\")\n",
    "else:\n",
    "    print(\"Тариф Ультра приносит больше дохода\") "
   ]
  },
  {
   "cell_type": "markdown",
   "id": "40aafd84",
   "metadata": {},
   "source": [
    "### Средняя выручка пользователей из Москвы отличается от выручки пользователей из других регионов"
   ]
  },
  {
   "cell_type": "markdown",
   "id": "0e8e0036",
   "metadata": {},
   "source": [
    "***Сформулируем нулевую гипотезу:*** *средняя выручка пользователей из Москвы равна выручки пользователей из других регионов.*  \n",
    "***Сформулируем алтернативную гипотезу:*** *средняя выручка пользователей из Москвы отличается от выручки пользователей из других регионов*"
   ]
  },
  {
   "cell_type": "markdown",
   "id": "372ff60b",
   "metadata": {},
   "source": [
    "***Чтобы проверить гипотезу проведем t-тест***"
   ]
  },
  {
   "cell_type": "code",
   "execution_count": 76,
   "id": "e4f27e13",
   "metadata": {},
   "outputs": [],
   "source": [
    "revenue_by_moscow = df.query('city == \"Москва\"').revenue"
   ]
  },
  {
   "cell_type": "code",
   "execution_count": 77,
   "id": "fcc70928",
   "metadata": {},
   "outputs": [],
   "source": [
    "revenue_by_other = df.query('city != \"Москва\"').revenue"
   ]
  },
  {
   "cell_type": "code",
   "execution_count": 78,
   "id": "1b2a8fec",
   "metadata": {},
   "outputs": [],
   "source": [
    "# так как тарифы принципиально разные по всем параметрам, нет оснований полагать что дисперсии у генеральных совокупностей одинаковые\n",
    "results = st.ttest_ind(revenue_by_moscow, revenue_by_other, equal_var=False)"
   ]
  },
  {
   "cell_type": "code",
   "execution_count": 79,
   "id": "5f70e146",
   "metadata": {},
   "outputs": [
    {
     "name": "stdout",
     "output_type": "stream",
     "text": [
      "p-значение: 0.5216952110000278\n"
     ]
    }
   ],
   "source": [
    "print('p-значение:', results.pvalue)"
   ]
  },
  {
   "cell_type": "code",
   "execution_count": 80,
   "id": "7bb1ce70",
   "metadata": {
    "scrolled": true
   },
   "outputs": [
    {
     "name": "stdout",
     "output_type": "stream",
     "text": [
      "Не получилось отвергнуть нулевую гипотезу\n"
     ]
    }
   ],
   "source": [
    "if results.pvalue < alpha:\n",
    "    print(\"Отвергаем нулевую гипотезу\")\n",
    "else:\n",
    "    print(\"Не получилось отвергнуть нулевую гипотезу\") "
   ]
  },
  {
   "cell_type": "markdown",
   "id": "98c14ce2",
   "metadata": {},
   "source": [
    "*После проведения t-теста можно принять нулевую гипотезу, средняя выручка пользователей из Москвы не отличается от пользователей из регионов.*"
   ]
  },
  {
   "cell_type": "markdown",
   "id": "fb335dd5",
   "metadata": {},
   "source": [
    "### Вывод\n",
    "\n",
    "Были проверены гипотезы, для этого использовался метод ttest_ind из пакета scipy.stats, который вычисляет t-критерий Стьюдента для средних двух генеральных совокупностей. Так как тарифы принципиально разные по всем параметрам, не было оснований полагать что дисперсии у генеральных совокупностей одинаковые, поэтому аргумент equal_var был установлен False.\n",
    "\n",
    "По результатам проверки выяснилось:\n",
    "- Средняя выручка пользователей тарифов «Ультра» и «Смарт» различаются.\n",
    "- Средняя выручка тарифа «Ультра» больше средней выручки тарифа«Смарт» .\n",
    "- Средняя выручка пользователей из Москвы равна выручки пользователей из других регионов."
   ]
  },
  {
   "cell_type": "markdown",
   "id": "43a35baf",
   "metadata": {},
   "source": [
    "## Общий вывод"
   ]
  },
  {
   "cell_type": "markdown",
   "id": "9983097e",
   "metadata": {},
   "source": [
    "По результатам исследования двух тарифных планов: «Смарт» и «Ультра» было выяснено:\n",
    "\n",
    "- Количество минут разговора, сообщений, интернет-трафика на тарифе ультра используется больше чем на тарифе смарт.\n",
    "- Среднее по звонкам укладывается во включенный лимит на обоих тарифах.\n",
    "- Среднее по сообщениям так же укладывается во включенный лимит на обоих тарифах.\n",
    "- Среднее по интернет-трафику на 1.3 гб привышает лимит в тарифе смарт, на тарифе ультра укладывается в лимит.\n",
    "- Первая гипотеза о том что средняя выручка пользователей тарифов «Ультра» и «Смарт» различаются подтвердилась.\n",
    "- Вторая гипотеза о том что средняя выручка пользователей из Москвы отличается от выручки пользователей из других регионов опроверглась.\n",
    "\n",
    "Исходя из этого можно сделать вывод, что тариф «Ультра» приносит больше денег и рекламный бюджет лучше вложить в него. Региональных различий в плане выручки нет."
   ]
  },
  {
   "cell_type": "code",
   "execution_count": null,
   "id": "5e1a92db",
   "metadata": {},
   "outputs": [],
   "source": []
  }
 ],
 "metadata": {
  "ExecuteTimeLog": [
   {
    "duration": 1505,
    "start_time": "2022-02-12T19:12:57.971Z"
   },
   {
    "duration": 15,
    "start_time": "2022-02-12T19:13:00.355Z"
   },
   {
    "duration": 1409,
    "start_time": "2022-02-12T19:13:01.267Z"
   },
   {
    "duration": 32,
    "start_time": "2022-02-12T19:13:03.393Z"
   },
   {
    "duration": 17,
    "start_time": "2022-02-12T19:13:03.818Z"
   },
   {
    "duration": 49,
    "start_time": "2022-02-12T19:13:04.034Z"
   },
   {
    "duration": 22,
    "start_time": "2022-02-12T19:13:04.401Z"
   },
   {
    "duration": 12,
    "start_time": "2022-02-12T19:13:04.747Z"
   },
   {
    "duration": 40,
    "start_time": "2022-02-12T19:13:04.932Z"
   },
   {
    "duration": 22,
    "start_time": "2022-02-12T19:13:05.258Z"
   },
   {
    "duration": 17,
    "start_time": "2022-02-12T19:13:05.615Z"
   },
   {
    "duration": 10,
    "start_time": "2022-02-12T19:13:05.983Z"
   },
   {
    "duration": 12,
    "start_time": "2022-02-12T19:13:06.385Z"
   },
   {
    "duration": 14,
    "start_time": "2022-02-12T19:13:06.859Z"
   },
   {
    "duration": 23,
    "start_time": "2022-02-12T19:13:07.288Z"
   },
   {
    "duration": 33,
    "start_time": "2022-02-12T19:13:07.475Z"
   },
   {
    "duration": 59,
    "start_time": "2022-02-12T19:13:08.737Z"
   },
   {
    "duration": 48,
    "start_time": "2022-02-12T19:13:08.985Z"
   },
   {
    "duration": 34,
    "start_time": "2022-02-12T19:13:09.220Z"
   },
   {
    "duration": 6,
    "start_time": "2022-02-12T19:13:09.438Z"
   },
   {
    "duration": 13,
    "start_time": "2022-02-12T19:13:09.641Z"
   },
   {
    "duration": 7,
    "start_time": "2022-02-12T19:13:10.435Z"
   },
   {
    "duration": 558,
    "start_time": "2022-02-12T19:13:10.883Z"
   },
   {
    "duration": 34,
    "start_time": "2022-02-12T19:13:11.410Z"
   },
   {
    "duration": 31,
    "start_time": "2022-02-12T19:13:11.415Z"
   },
   {
    "duration": 5,
    "start_time": "2022-02-12T19:13:11.575Z"
   },
   {
    "duration": 402,
    "start_time": "2022-02-12T19:13:11.780Z"
   },
   {
    "duration": 49,
    "start_time": "2022-02-12T19:13:24.033Z"
   },
   {
    "duration": 6,
    "start_time": "2022-02-12T19:13:32.655Z"
   },
   {
    "duration": 27,
    "start_time": "2022-02-12T19:13:33.245Z"
   },
   {
    "duration": 6,
    "start_time": "2022-02-12T19:13:33.660Z"
   },
   {
    "duration": 25,
    "start_time": "2022-02-12T19:13:34.358Z"
   },
   {
    "duration": 4,
    "start_time": "2022-02-12T19:13:38.873Z"
   },
   {
    "duration": 5,
    "start_time": "2022-02-12T19:13:40.011Z"
   },
   {
    "duration": 5,
    "start_time": "2022-02-12T19:13:40.396Z"
   },
   {
    "duration": 13,
    "start_time": "2022-02-12T19:13:52.753Z"
   },
   {
    "duration": 13,
    "start_time": "2022-02-12T19:13:55.241Z"
   },
   {
    "duration": 7,
    "start_time": "2022-02-12T19:13:55.881Z"
   },
   {
    "duration": 49,
    "start_time": "2022-02-12T19:13:56.890Z"
   },
   {
    "duration": 26,
    "start_time": "2022-02-12T19:13:57.132Z"
   },
   {
    "duration": 30,
    "start_time": "2022-02-12T19:13:57.815Z"
   },
   {
    "duration": 75,
    "start_time": "2022-02-12T19:13:58.961Z"
   },
   {
    "duration": 6,
    "start_time": "2022-02-12T19:13:59.162Z"
   },
   {
    "duration": 39,
    "start_time": "2022-02-12T19:13:59.787Z"
   },
   {
    "duration": 5,
    "start_time": "2022-02-12T19:14:00.155Z"
   },
   {
    "duration": 48,
    "start_time": "2022-02-12T19:14:01.325Z"
   },
   {
    "duration": 8,
    "start_time": "2022-02-12T19:14:01.724Z"
   },
   {
    "duration": 36,
    "start_time": "2022-02-12T19:14:02.095Z"
   },
   {
    "duration": 12,
    "start_time": "2022-02-12T19:14:02.442Z"
   },
   {
    "duration": 4,
    "start_time": "2022-02-12T19:14:03.361Z"
   },
   {
    "duration": 6,
    "start_time": "2022-02-12T19:14:03.680Z"
   },
   {
    "duration": 5,
    "start_time": "2022-02-12T19:14:04.010Z"
   },
   {
    "duration": 4,
    "start_time": "2022-02-12T19:14:04.194Z"
   },
   {
    "duration": 14,
    "start_time": "2022-02-12T19:14:04.721Z"
   },
   {
    "duration": 10,
    "start_time": "2022-02-12T19:14:06.340Z"
   },
   {
    "duration": 9,
    "start_time": "2022-02-12T19:14:07.130Z"
   },
   {
    "duration": 396,
    "start_time": "2022-02-12T19:14:07.469Z"
   },
   {
    "duration": 26,
    "start_time": "2022-02-12T19:14:14.941Z"
   },
   {
    "duration": 43,
    "start_time": "2022-02-12T19:14:29.221Z"
   },
   {
    "duration": 25,
    "start_time": "2022-02-12T19:14:32.527Z"
   }
  ],
  "kernelspec": {
   "display_name": "Python 3 (ipykernel)",
   "language": "python",
   "name": "python3"
  },
  "language_info": {
   "codemirror_mode": {
    "name": "ipython",
    "version": 3
   },
   "file_extension": ".py",
   "mimetype": "text/x-python",
   "name": "python",
   "nbconvert_exporter": "python",
   "pygments_lexer": "ipython3",
   "version": "3.8.11"
  },
  "toc": {
   "base_numbering": 1,
   "nav_menu": {},
   "number_sections": true,
   "sideBar": true,
   "skip_h1_title": true,
   "title_cell": "Содержание",
   "title_sidebar": "Contents",
   "toc_cell": true,
   "toc_position": {},
   "toc_section_display": true,
   "toc_window_display": false
  }
 },
 "nbformat": 4,
 "nbformat_minor": 5
}
