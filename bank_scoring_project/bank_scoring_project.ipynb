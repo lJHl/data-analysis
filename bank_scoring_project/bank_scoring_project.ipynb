{
 "cells": [
  {
   "cell_type": "markdown",
   "metadata": {},
   "source": [
    "# Исследование надёжности заёмщиков"
   ]
  },
  {
   "cell_type": "markdown",
   "metadata": {},
   "source": [
    "**Цель исследования** - разобраться, влияет ли семейное положение и количество детей клиента на факт погашения кредита в срок. Для этого проверим гипотезы:\n",
    "\n",
    "1. Есть ли зависимость между наличием детей и возвратом кредита в срок?\n",
    "2. Есть ли зависимость между семейным положением и возвратом кредита в срок?\n",
    "3. Есть ли зависимость между уровнем дохода и возвратом кредита в срок?\n",
    "4. Как разные цели кредита влияют на его возврат в срок?\n",
    "\n",
    "В качестве входных данных используется статистика о платёжеспособности клиентов банка.\n",
    "\n",
    "**Ход исследования**\n",
    "\n",
    " 1. Обзор данных.\n",
    " 2. Предобработка данных.\n",
    " 3. Проверка гипотез."
   ]
  },
  {
   "cell_type": "markdown",
   "metadata": {},
   "source": [
    "## Обзор данных"
   ]
  },
  {
   "cell_type": "code",
   "execution_count": 1,
   "metadata": {},
   "outputs": [],
   "source": [
    "import pandas as pd\n",
    "import numpy as np\n",
    "from pymystem3 import Mystem"
   ]
  },
  {
   "cell_type": "code",
   "execution_count": 2,
   "metadata": {},
   "outputs": [],
   "source": [
    "data = pd.read_csv('data.csv')"
   ]
  },
  {
   "cell_type": "code",
   "execution_count": 3,
   "metadata": {
    "scrolled": true
   },
   "outputs": [
    {
     "name": "stdout",
     "output_type": "stream",
     "text": [
      "<class 'pandas.core.frame.DataFrame'>\n",
      "RangeIndex: 21525 entries, 0 to 21524\n",
      "Data columns (total 12 columns):\n",
      " #   Column            Non-Null Count  Dtype  \n",
      "---  ------            --------------  -----  \n",
      " 0   children          21525 non-null  int64  \n",
      " 1   days_employed     19351 non-null  float64\n",
      " 2   dob_years         21525 non-null  int64  \n",
      " 3   education         21525 non-null  object \n",
      " 4   education_id      21525 non-null  int64  \n",
      " 5   family_status     21525 non-null  object \n",
      " 6   family_status_id  21525 non-null  int64  \n",
      " 7   gender            21525 non-null  object \n",
      " 8   income_type       21525 non-null  object \n",
      " 9   debt              21525 non-null  int64  \n",
      " 10  total_income      19351 non-null  float64\n",
      " 11  purpose           21525 non-null  object \n",
      "dtypes: float64(2), int64(5), object(5)\n",
      "memory usage: 2.0+ MB\n"
     ]
    }
   ],
   "source": [
    "data.info()"
   ]
  },
  {
   "cell_type": "markdown",
   "metadata": {},
   "source": [
    "**Согласно документации к данным:**\n",
    "\n",
    "`children` — количество детей в семье  \n",
    "`days_employed` — общий трудовой стаж в днях  \n",
    "`dob_years` — возраст клиента в годах  \n",
    "`education` — уровень образования клиента  \n",
    "`education_id` — идентификатор уровня образования  \n",
    "`family_status` — семейное положение  \n",
    "`family_status_id` — идентификатор семейного положения  \n",
    "`gender` — пол клиента  \n",
    "`income_type` — тип занятости  \n",
    "`debt` — имел ли задолженность по возврату кредитов  \n",
    "`total_income` — ежемесячный доход  \n",
    "`purpose` — цель получения кредита  "
   ]
  },
  {
   "cell_type": "code",
   "execution_count": 4,
   "metadata": {},
   "outputs": [
    {
     "data": {
      "text/html": [
       "<div>\n",
       "<style scoped>\n",
       "    .dataframe tbody tr th:only-of-type {\n",
       "        vertical-align: middle;\n",
       "    }\n",
       "\n",
       "    .dataframe tbody tr th {\n",
       "        vertical-align: top;\n",
       "    }\n",
       "\n",
       "    .dataframe thead th {\n",
       "        text-align: right;\n",
       "    }\n",
       "</style>\n",
       "<table border=\"1\" class=\"dataframe\">\n",
       "  <thead>\n",
       "    <tr style=\"text-align: right;\">\n",
       "      <th></th>\n",
       "      <th>children</th>\n",
       "      <th>days_employed</th>\n",
       "      <th>dob_years</th>\n",
       "      <th>education</th>\n",
       "      <th>education_id</th>\n",
       "      <th>family_status</th>\n",
       "      <th>family_status_id</th>\n",
       "      <th>gender</th>\n",
       "      <th>income_type</th>\n",
       "      <th>debt</th>\n",
       "      <th>total_income</th>\n",
       "      <th>purpose</th>\n",
       "    </tr>\n",
       "  </thead>\n",
       "  <tbody>\n",
       "    <tr>\n",
       "      <th>0</th>\n",
       "      <td>1</td>\n",
       "      <td>-8437.673028</td>\n",
       "      <td>42</td>\n",
       "      <td>высшее</td>\n",
       "      <td>0</td>\n",
       "      <td>женат / замужем</td>\n",
       "      <td>0</td>\n",
       "      <td>F</td>\n",
       "      <td>сотрудник</td>\n",
       "      <td>0</td>\n",
       "      <td>253875.639453</td>\n",
       "      <td>покупка жилья</td>\n",
       "    </tr>\n",
       "    <tr>\n",
       "      <th>1</th>\n",
       "      <td>1</td>\n",
       "      <td>-4024.803754</td>\n",
       "      <td>36</td>\n",
       "      <td>среднее</td>\n",
       "      <td>1</td>\n",
       "      <td>женат / замужем</td>\n",
       "      <td>0</td>\n",
       "      <td>F</td>\n",
       "      <td>сотрудник</td>\n",
       "      <td>0</td>\n",
       "      <td>112080.014102</td>\n",
       "      <td>приобретение автомобиля</td>\n",
       "    </tr>\n",
       "    <tr>\n",
       "      <th>2</th>\n",
       "      <td>0</td>\n",
       "      <td>-5623.422610</td>\n",
       "      <td>33</td>\n",
       "      <td>Среднее</td>\n",
       "      <td>1</td>\n",
       "      <td>женат / замужем</td>\n",
       "      <td>0</td>\n",
       "      <td>M</td>\n",
       "      <td>сотрудник</td>\n",
       "      <td>0</td>\n",
       "      <td>145885.952297</td>\n",
       "      <td>покупка жилья</td>\n",
       "    </tr>\n",
       "    <tr>\n",
       "      <th>3</th>\n",
       "      <td>3</td>\n",
       "      <td>-4124.747207</td>\n",
       "      <td>32</td>\n",
       "      <td>среднее</td>\n",
       "      <td>1</td>\n",
       "      <td>женат / замужем</td>\n",
       "      <td>0</td>\n",
       "      <td>M</td>\n",
       "      <td>сотрудник</td>\n",
       "      <td>0</td>\n",
       "      <td>267628.550329</td>\n",
       "      <td>дополнительное образование</td>\n",
       "    </tr>\n",
       "    <tr>\n",
       "      <th>4</th>\n",
       "      <td>0</td>\n",
       "      <td>340266.072047</td>\n",
       "      <td>53</td>\n",
       "      <td>среднее</td>\n",
       "      <td>1</td>\n",
       "      <td>гражданский брак</td>\n",
       "      <td>1</td>\n",
       "      <td>F</td>\n",
       "      <td>пенсионер</td>\n",
       "      <td>0</td>\n",
       "      <td>158616.077870</td>\n",
       "      <td>сыграть свадьбу</td>\n",
       "    </tr>\n",
       "    <tr>\n",
       "      <th>5</th>\n",
       "      <td>0</td>\n",
       "      <td>-926.185831</td>\n",
       "      <td>27</td>\n",
       "      <td>высшее</td>\n",
       "      <td>0</td>\n",
       "      <td>гражданский брак</td>\n",
       "      <td>1</td>\n",
       "      <td>M</td>\n",
       "      <td>компаньон</td>\n",
       "      <td>0</td>\n",
       "      <td>255763.565419</td>\n",
       "      <td>покупка жилья</td>\n",
       "    </tr>\n",
       "    <tr>\n",
       "      <th>6</th>\n",
       "      <td>0</td>\n",
       "      <td>-2879.202052</td>\n",
       "      <td>43</td>\n",
       "      <td>высшее</td>\n",
       "      <td>0</td>\n",
       "      <td>женат / замужем</td>\n",
       "      <td>0</td>\n",
       "      <td>F</td>\n",
       "      <td>компаньон</td>\n",
       "      <td>0</td>\n",
       "      <td>240525.971920</td>\n",
       "      <td>операции с жильем</td>\n",
       "    </tr>\n",
       "    <tr>\n",
       "      <th>7</th>\n",
       "      <td>0</td>\n",
       "      <td>-152.779569</td>\n",
       "      <td>50</td>\n",
       "      <td>СРЕДНЕЕ</td>\n",
       "      <td>1</td>\n",
       "      <td>женат / замужем</td>\n",
       "      <td>0</td>\n",
       "      <td>M</td>\n",
       "      <td>сотрудник</td>\n",
       "      <td>0</td>\n",
       "      <td>135823.934197</td>\n",
       "      <td>образование</td>\n",
       "    </tr>\n",
       "    <tr>\n",
       "      <th>8</th>\n",
       "      <td>2</td>\n",
       "      <td>-6929.865299</td>\n",
       "      <td>35</td>\n",
       "      <td>ВЫСШЕЕ</td>\n",
       "      <td>0</td>\n",
       "      <td>гражданский брак</td>\n",
       "      <td>1</td>\n",
       "      <td>F</td>\n",
       "      <td>сотрудник</td>\n",
       "      <td>0</td>\n",
       "      <td>95856.832424</td>\n",
       "      <td>на проведение свадьбы</td>\n",
       "    </tr>\n",
       "    <tr>\n",
       "      <th>9</th>\n",
       "      <td>0</td>\n",
       "      <td>-2188.756445</td>\n",
       "      <td>41</td>\n",
       "      <td>среднее</td>\n",
       "      <td>1</td>\n",
       "      <td>женат / замужем</td>\n",
       "      <td>0</td>\n",
       "      <td>M</td>\n",
       "      <td>сотрудник</td>\n",
       "      <td>0</td>\n",
       "      <td>144425.938277</td>\n",
       "      <td>покупка жилья для семьи</td>\n",
       "    </tr>\n",
       "  </tbody>\n",
       "</table>\n",
       "</div>"
      ],
      "text/plain": [
       "   children  days_employed  dob_years education  education_id  \\\n",
       "0         1   -8437.673028         42    высшее             0   \n",
       "1         1   -4024.803754         36   среднее             1   \n",
       "2         0   -5623.422610         33   Среднее             1   \n",
       "3         3   -4124.747207         32   среднее             1   \n",
       "4         0  340266.072047         53   среднее             1   \n",
       "5         0    -926.185831         27    высшее             0   \n",
       "6         0   -2879.202052         43    высшее             0   \n",
       "7         0    -152.779569         50   СРЕДНЕЕ             1   \n",
       "8         2   -6929.865299         35    ВЫСШЕЕ             0   \n",
       "9         0   -2188.756445         41   среднее             1   \n",
       "\n",
       "      family_status  family_status_id gender income_type  debt   total_income  \\\n",
       "0   женат / замужем                 0      F   сотрудник     0  253875.639453   \n",
       "1   женат / замужем                 0      F   сотрудник     0  112080.014102   \n",
       "2   женат / замужем                 0      M   сотрудник     0  145885.952297   \n",
       "3   женат / замужем                 0      M   сотрудник     0  267628.550329   \n",
       "4  гражданский брак                 1      F   пенсионер     0  158616.077870   \n",
       "5  гражданский брак                 1      M   компаньон     0  255763.565419   \n",
       "6   женат / замужем                 0      F   компаньон     0  240525.971920   \n",
       "7   женат / замужем                 0      M   сотрудник     0  135823.934197   \n",
       "8  гражданский брак                 1      F   сотрудник     0   95856.832424   \n",
       "9   женат / замужем                 0      M   сотрудник     0  144425.938277   \n",
       "\n",
       "                      purpose  \n",
       "0               покупка жилья  \n",
       "1     приобретение автомобиля  \n",
       "2               покупка жилья  \n",
       "3  дополнительное образование  \n",
       "4             сыграть свадьбу  \n",
       "5               покупка жилья  \n",
       "6           операции с жильем  \n",
       "7                 образование  \n",
       "8       на проведение свадьбы  \n",
       "9     покупка жилья для семьи  "
      ]
     },
     "execution_count": 4,
     "metadata": {},
     "output_type": "execute_result"
    }
   ],
   "source": [
    "data.head(10)"
   ]
  },
  {
   "cell_type": "markdown",
   "metadata": {},
   "source": [
    "**По первым строкам сразу видны проблемы с данными, а именно:**\n",
    "\n",
    "* Общий трудовой стаж представлен в виде вещественного числа, а так же имеются отрицательные значения.\n",
    "* Уровень образования записан в разном регистре\n",
    "* Цель кредита записана синонимичными выражениями, такими как \"покупка жилья\", \"покупка жилья для семьи\", что по сути является просто приобретением жилья."
   ]
  },
  {
   "cell_type": "code",
   "execution_count": 5,
   "metadata": {},
   "outputs": [
    {
     "data": {
      "text/plain": [
       "children                8\n",
       "days_employed       19351\n",
       "dob_years              58\n",
       "education              15\n",
       "education_id            5\n",
       "family_status           5\n",
       "family_status_id        5\n",
       "gender                  3\n",
       "income_type             8\n",
       "debt                    2\n",
       "total_income        19351\n",
       "purpose                38\n",
       "dtype: int64"
      ]
     },
     "execution_count": 5,
     "metadata": {},
     "output_type": "execute_result"
    }
   ],
   "source": [
    "data.nunique()"
   ]
  },
  {
   "cell_type": "code",
   "execution_count": 6,
   "metadata": {},
   "outputs": [
    {
     "data": {
      "text/plain": [
       "свадьба                                   797\n",
       "на проведение свадьбы                     777\n",
       "сыграть свадьбу                           774\n",
       "операции с недвижимостью                  676\n",
       "покупка коммерческой недвижимости         664\n",
       "покупка жилья для сдачи                   653\n",
       "операции с жильем                         653\n",
       "операции с коммерческой недвижимостью     651\n",
       "покупка жилья                             647\n",
       "жилье                                     647\n",
       "покупка жилья для семьи                   641\n",
       "строительство собственной недвижимости    635\n",
       "недвижимость                              634\n",
       "операции со своей недвижимостью           630\n",
       "строительство жилой недвижимости          626\n",
       "покупка недвижимости                      624\n",
       "строительство недвижимости                620\n",
       "покупка своего жилья                      620\n",
       "ремонт жилью                              612\n",
       "покупка жилой недвижимости                607\n",
       "на покупку своего автомобиля              505\n",
       "заняться высшим образованием              496\n",
       "автомобиль                                495\n",
       "сделка с подержанным автомобилем          489\n",
       "свой автомобиль                           480\n",
       "на покупку подержанного автомобиля        479\n",
       "автомобили                                478\n",
       "на покупку автомобиля                     472\n",
       "дополнительное образование                462\n",
       "приобретение автомобиля                   462\n",
       "сделка с автомобилем                      455\n",
       "высшее образование                        453\n",
       "образование                               447\n",
       "получение дополнительного образования     447\n",
       "получение образования                     443\n",
       "профильное образование                    436\n",
       "получение высшего образования             426\n",
       "заняться образованием                     412\n",
       "Name: purpose, dtype: int64"
      ]
     },
     "execution_count": 6,
     "metadata": {},
     "output_type": "execute_result"
    }
   ],
   "source": [
    "data['purpose'].value_counts()"
   ]
  },
  {
   "cell_type": "markdown",
   "metadata": {},
   "source": [
    "Действительно, синонимичных выражений в целях кредита намного больше."
   ]
  },
  {
   "cell_type": "markdown",
   "metadata": {},
   "source": [
    "Проверим описательную статистику:"
   ]
  },
  {
   "cell_type": "code",
   "execution_count": 7,
   "metadata": {
    "scrolled": false
   },
   "outputs": [
    {
     "data": {
      "text/html": [
       "<div>\n",
       "<style scoped>\n",
       "    .dataframe tbody tr th:only-of-type {\n",
       "        vertical-align: middle;\n",
       "    }\n",
       "\n",
       "    .dataframe tbody tr th {\n",
       "        vertical-align: top;\n",
       "    }\n",
       "\n",
       "    .dataframe thead th {\n",
       "        text-align: right;\n",
       "    }\n",
       "</style>\n",
       "<table border=\"1\" class=\"dataframe\">\n",
       "  <thead>\n",
       "    <tr style=\"text-align: right;\">\n",
       "      <th></th>\n",
       "      <th>count</th>\n",
       "      <th>mean</th>\n",
       "      <th>std</th>\n",
       "      <th>min</th>\n",
       "      <th>25%</th>\n",
       "      <th>50%</th>\n",
       "      <th>75%</th>\n",
       "      <th>max</th>\n",
       "    </tr>\n",
       "  </thead>\n",
       "  <tbody>\n",
       "    <tr>\n",
       "      <th>children</th>\n",
       "      <td>21525.0</td>\n",
       "      <td>0.538908</td>\n",
       "      <td>1.381587</td>\n",
       "      <td>-1.000000</td>\n",
       "      <td>0.000000</td>\n",
       "      <td>0.000000</td>\n",
       "      <td>1.000000</td>\n",
       "      <td>2.000000e+01</td>\n",
       "    </tr>\n",
       "    <tr>\n",
       "      <th>days_employed</th>\n",
       "      <td>19351.0</td>\n",
       "      <td>63046.497661</td>\n",
       "      <td>140827.311974</td>\n",
       "      <td>-18388.949901</td>\n",
       "      <td>-2747.423625</td>\n",
       "      <td>-1203.369529</td>\n",
       "      <td>-291.095954</td>\n",
       "      <td>4.017554e+05</td>\n",
       "    </tr>\n",
       "    <tr>\n",
       "      <th>dob_years</th>\n",
       "      <td>21525.0</td>\n",
       "      <td>43.293380</td>\n",
       "      <td>12.574584</td>\n",
       "      <td>0.000000</td>\n",
       "      <td>33.000000</td>\n",
       "      <td>42.000000</td>\n",
       "      <td>53.000000</td>\n",
       "      <td>7.500000e+01</td>\n",
       "    </tr>\n",
       "    <tr>\n",
       "      <th>education_id</th>\n",
       "      <td>21525.0</td>\n",
       "      <td>0.817236</td>\n",
       "      <td>0.548138</td>\n",
       "      <td>0.000000</td>\n",
       "      <td>1.000000</td>\n",
       "      <td>1.000000</td>\n",
       "      <td>1.000000</td>\n",
       "      <td>4.000000e+00</td>\n",
       "    </tr>\n",
       "    <tr>\n",
       "      <th>family_status_id</th>\n",
       "      <td>21525.0</td>\n",
       "      <td>0.972544</td>\n",
       "      <td>1.420324</td>\n",
       "      <td>0.000000</td>\n",
       "      <td>0.000000</td>\n",
       "      <td>0.000000</td>\n",
       "      <td>1.000000</td>\n",
       "      <td>4.000000e+00</td>\n",
       "    </tr>\n",
       "    <tr>\n",
       "      <th>debt</th>\n",
       "      <td>21525.0</td>\n",
       "      <td>0.080883</td>\n",
       "      <td>0.272661</td>\n",
       "      <td>0.000000</td>\n",
       "      <td>0.000000</td>\n",
       "      <td>0.000000</td>\n",
       "      <td>0.000000</td>\n",
       "      <td>1.000000e+00</td>\n",
       "    </tr>\n",
       "    <tr>\n",
       "      <th>total_income</th>\n",
       "      <td>19351.0</td>\n",
       "      <td>167422.302208</td>\n",
       "      <td>102971.566448</td>\n",
       "      <td>20667.263793</td>\n",
       "      <td>103053.152913</td>\n",
       "      <td>145017.937533</td>\n",
       "      <td>203435.067663</td>\n",
       "      <td>2.265604e+06</td>\n",
       "    </tr>\n",
       "  </tbody>\n",
       "</table>\n",
       "</div>"
      ],
      "text/plain": [
       "                    count           mean            std           min  \\\n",
       "children          21525.0       0.538908       1.381587     -1.000000   \n",
       "days_employed     19351.0   63046.497661  140827.311974 -18388.949901   \n",
       "dob_years         21525.0      43.293380      12.574584      0.000000   \n",
       "education_id      21525.0       0.817236       0.548138      0.000000   \n",
       "family_status_id  21525.0       0.972544       1.420324      0.000000   \n",
       "debt              21525.0       0.080883       0.272661      0.000000   \n",
       "total_income      19351.0  167422.302208  102971.566448  20667.263793   \n",
       "\n",
       "                            25%            50%            75%           max  \n",
       "children               0.000000       0.000000       1.000000  2.000000e+01  \n",
       "days_employed      -2747.423625   -1203.369529    -291.095954  4.017554e+05  \n",
       "dob_years             33.000000      42.000000      53.000000  7.500000e+01  \n",
       "education_id           1.000000       1.000000       1.000000  4.000000e+00  \n",
       "family_status_id       0.000000       0.000000       1.000000  4.000000e+00  \n",
       "debt                   0.000000       0.000000       0.000000  1.000000e+00  \n",
       "total_income      103053.152913  145017.937533  203435.067663  2.265604e+06  "
      ]
     },
     "execution_count": 7,
     "metadata": {},
     "output_type": "execute_result"
    }
   ],
   "source": [
    "data.describe().T"
   ]
  },
  {
   "cell_type": "markdown",
   "metadata": {},
   "source": [
    "### Вывод\n",
    "\n",
    "К озвученым ранее проблемам, а именно: отрицательных значениях где их не должно быть, разного регистра и синонемичных выражений, можно добавить слишком большое количество отработанных дней, в разы больше чем человеческая жизнь, а так же количество гендеров больше 2."
   ]
  },
  {
   "cell_type": "markdown",
   "metadata": {},
   "source": [
    "## Предобработка данных"
   ]
  },
  {
   "cell_type": "markdown",
   "metadata": {},
   "source": [
    "**Что бы предобработать данные, выполним следующие действия:**\n",
    "\n",
    "- Обработаем пропуски;\n",
    "- Заменим типы данных;\n",
    "- Обработаем дубликаты;\n",
    "- Выполним лемматизацию;\n",
    "- Выполним категоризацию."
   ]
  },
  {
   "cell_type": "markdown",
   "metadata": {},
   "source": [
    "### Обработка пропусков"
   ]
  },
  {
   "cell_type": "code",
   "execution_count": 8,
   "metadata": {},
   "outputs": [
    {
     "data": {
      "text/plain": [
       "children               0\n",
       "days_employed       2174\n",
       "dob_years              0\n",
       "education              0\n",
       "education_id           0\n",
       "family_status          0\n",
       "family_status_id       0\n",
       "gender                 0\n",
       "income_type            0\n",
       "debt                   0\n",
       "total_income        2174\n",
       "purpose                0\n",
       "dtype: int64"
      ]
     },
     "execution_count": 8,
     "metadata": {},
     "output_type": "execute_result"
    }
   ],
   "source": [
    "data.isna().sum()"
   ]
  },
  {
   "cell_type": "markdown",
   "metadata": {},
   "source": [
    "Пропуски имеются в общем трудовом стаже и ежемесячном доходе."
   ]
  },
  {
   "cell_type": "code",
   "execution_count": 9,
   "metadata": {},
   "outputs": [
    {
     "data": {
      "text/html": [
       "<div>\n",
       "<style scoped>\n",
       "    .dataframe tbody tr th:only-of-type {\n",
       "        vertical-align: middle;\n",
       "    }\n",
       "\n",
       "    .dataframe tbody tr th {\n",
       "        vertical-align: top;\n",
       "    }\n",
       "\n",
       "    .dataframe thead th {\n",
       "        text-align: right;\n",
       "    }\n",
       "</style>\n",
       "<table border=\"1\" class=\"dataframe\">\n",
       "  <thead>\n",
       "    <tr style=\"text-align: right;\">\n",
       "      <th></th>\n",
       "      <th>children</th>\n",
       "      <th>days_employed</th>\n",
       "      <th>dob_years</th>\n",
       "      <th>education</th>\n",
       "      <th>education_id</th>\n",
       "      <th>family_status</th>\n",
       "      <th>family_status_id</th>\n",
       "      <th>gender</th>\n",
       "      <th>income_type</th>\n",
       "      <th>debt</th>\n",
       "      <th>total_income</th>\n",
       "      <th>purpose</th>\n",
       "    </tr>\n",
       "  </thead>\n",
       "  <tbody>\n",
       "    <tr>\n",
       "      <th>12</th>\n",
       "      <td>0</td>\n",
       "      <td>NaN</td>\n",
       "      <td>65</td>\n",
       "      <td>среднее</td>\n",
       "      <td>1</td>\n",
       "      <td>гражданский брак</td>\n",
       "      <td>1</td>\n",
       "      <td>M</td>\n",
       "      <td>пенсионер</td>\n",
       "      <td>0</td>\n",
       "      <td>NaN</td>\n",
       "      <td>сыграть свадьбу</td>\n",
       "    </tr>\n",
       "    <tr>\n",
       "      <th>26</th>\n",
       "      <td>0</td>\n",
       "      <td>NaN</td>\n",
       "      <td>41</td>\n",
       "      <td>среднее</td>\n",
       "      <td>1</td>\n",
       "      <td>женат / замужем</td>\n",
       "      <td>0</td>\n",
       "      <td>M</td>\n",
       "      <td>госслужащий</td>\n",
       "      <td>0</td>\n",
       "      <td>NaN</td>\n",
       "      <td>образование</td>\n",
       "    </tr>\n",
       "    <tr>\n",
       "      <th>29</th>\n",
       "      <td>0</td>\n",
       "      <td>NaN</td>\n",
       "      <td>63</td>\n",
       "      <td>среднее</td>\n",
       "      <td>1</td>\n",
       "      <td>Не женат / не замужем</td>\n",
       "      <td>4</td>\n",
       "      <td>F</td>\n",
       "      <td>пенсионер</td>\n",
       "      <td>0</td>\n",
       "      <td>NaN</td>\n",
       "      <td>строительство жилой недвижимости</td>\n",
       "    </tr>\n",
       "    <tr>\n",
       "      <th>41</th>\n",
       "      <td>0</td>\n",
       "      <td>NaN</td>\n",
       "      <td>50</td>\n",
       "      <td>среднее</td>\n",
       "      <td>1</td>\n",
       "      <td>женат / замужем</td>\n",
       "      <td>0</td>\n",
       "      <td>F</td>\n",
       "      <td>госслужащий</td>\n",
       "      <td>0</td>\n",
       "      <td>NaN</td>\n",
       "      <td>сделка с подержанным автомобилем</td>\n",
       "    </tr>\n",
       "    <tr>\n",
       "      <th>55</th>\n",
       "      <td>0</td>\n",
       "      <td>NaN</td>\n",
       "      <td>54</td>\n",
       "      <td>среднее</td>\n",
       "      <td>1</td>\n",
       "      <td>гражданский брак</td>\n",
       "      <td>1</td>\n",
       "      <td>F</td>\n",
       "      <td>пенсионер</td>\n",
       "      <td>1</td>\n",
       "      <td>NaN</td>\n",
       "      <td>сыграть свадьбу</td>\n",
       "    </tr>\n",
       "    <tr>\n",
       "      <th>...</th>\n",
       "      <td>...</td>\n",
       "      <td>...</td>\n",
       "      <td>...</td>\n",
       "      <td>...</td>\n",
       "      <td>...</td>\n",
       "      <td>...</td>\n",
       "      <td>...</td>\n",
       "      <td>...</td>\n",
       "      <td>...</td>\n",
       "      <td>...</td>\n",
       "      <td>...</td>\n",
       "      <td>...</td>\n",
       "    </tr>\n",
       "    <tr>\n",
       "      <th>21489</th>\n",
       "      <td>2</td>\n",
       "      <td>NaN</td>\n",
       "      <td>47</td>\n",
       "      <td>Среднее</td>\n",
       "      <td>1</td>\n",
       "      <td>женат / замужем</td>\n",
       "      <td>0</td>\n",
       "      <td>M</td>\n",
       "      <td>компаньон</td>\n",
       "      <td>0</td>\n",
       "      <td>NaN</td>\n",
       "      <td>сделка с автомобилем</td>\n",
       "    </tr>\n",
       "    <tr>\n",
       "      <th>21495</th>\n",
       "      <td>1</td>\n",
       "      <td>NaN</td>\n",
       "      <td>50</td>\n",
       "      <td>среднее</td>\n",
       "      <td>1</td>\n",
       "      <td>гражданский брак</td>\n",
       "      <td>1</td>\n",
       "      <td>F</td>\n",
       "      <td>сотрудник</td>\n",
       "      <td>0</td>\n",
       "      <td>NaN</td>\n",
       "      <td>свадьба</td>\n",
       "    </tr>\n",
       "    <tr>\n",
       "      <th>21497</th>\n",
       "      <td>0</td>\n",
       "      <td>NaN</td>\n",
       "      <td>48</td>\n",
       "      <td>ВЫСШЕЕ</td>\n",
       "      <td>0</td>\n",
       "      <td>женат / замужем</td>\n",
       "      <td>0</td>\n",
       "      <td>F</td>\n",
       "      <td>компаньон</td>\n",
       "      <td>0</td>\n",
       "      <td>NaN</td>\n",
       "      <td>строительство недвижимости</td>\n",
       "    </tr>\n",
       "    <tr>\n",
       "      <th>21502</th>\n",
       "      <td>1</td>\n",
       "      <td>NaN</td>\n",
       "      <td>42</td>\n",
       "      <td>среднее</td>\n",
       "      <td>1</td>\n",
       "      <td>женат / замужем</td>\n",
       "      <td>0</td>\n",
       "      <td>F</td>\n",
       "      <td>сотрудник</td>\n",
       "      <td>0</td>\n",
       "      <td>NaN</td>\n",
       "      <td>строительство жилой недвижимости</td>\n",
       "    </tr>\n",
       "    <tr>\n",
       "      <th>21510</th>\n",
       "      <td>2</td>\n",
       "      <td>NaN</td>\n",
       "      <td>28</td>\n",
       "      <td>среднее</td>\n",
       "      <td>1</td>\n",
       "      <td>женат / замужем</td>\n",
       "      <td>0</td>\n",
       "      <td>F</td>\n",
       "      <td>сотрудник</td>\n",
       "      <td>0</td>\n",
       "      <td>NaN</td>\n",
       "      <td>приобретение автомобиля</td>\n",
       "    </tr>\n",
       "  </tbody>\n",
       "</table>\n",
       "<p>2174 rows × 12 columns</p>\n",
       "</div>"
      ],
      "text/plain": [
       "       children  days_employed  dob_years education  education_id  \\\n",
       "12            0            NaN         65   среднее             1   \n",
       "26            0            NaN         41   среднее             1   \n",
       "29            0            NaN         63   среднее             1   \n",
       "41            0            NaN         50   среднее             1   \n",
       "55            0            NaN         54   среднее             1   \n",
       "...         ...            ...        ...       ...           ...   \n",
       "21489         2            NaN         47   Среднее             1   \n",
       "21495         1            NaN         50   среднее             1   \n",
       "21497         0            NaN         48    ВЫСШЕЕ             0   \n",
       "21502         1            NaN         42   среднее             1   \n",
       "21510         2            NaN         28   среднее             1   \n",
       "\n",
       "               family_status  family_status_id gender  income_type  debt  \\\n",
       "12          гражданский брак                 1      M    пенсионер     0   \n",
       "26           женат / замужем                 0      M  госслужащий     0   \n",
       "29     Не женат / не замужем                 4      F    пенсионер     0   \n",
       "41           женат / замужем                 0      F  госслужащий     0   \n",
       "55          гражданский брак                 1      F    пенсионер     1   \n",
       "...                      ...               ...    ...          ...   ...   \n",
       "21489        женат / замужем                 0      M    компаньон     0   \n",
       "21495       гражданский брак                 1      F    сотрудник     0   \n",
       "21497        женат / замужем                 0      F    компаньон     0   \n",
       "21502        женат / замужем                 0      F    сотрудник     0   \n",
       "21510        женат / замужем                 0      F    сотрудник     0   \n",
       "\n",
       "       total_income                           purpose  \n",
       "12              NaN                   сыграть свадьбу  \n",
       "26              NaN                       образование  \n",
       "29              NaN  строительство жилой недвижимости  \n",
       "41              NaN  сделка с подержанным автомобилем  \n",
       "55              NaN                   сыграть свадьбу  \n",
       "...             ...                               ...  \n",
       "21489           NaN              сделка с автомобилем  \n",
       "21495           NaN                           свадьба  \n",
       "21497           NaN        строительство недвижимости  \n",
       "21502           NaN  строительство жилой недвижимости  \n",
       "21510           NaN           приобретение автомобиля  \n",
       "\n",
       "[2174 rows x 12 columns]"
      ]
     },
     "execution_count": 9,
     "metadata": {},
     "output_type": "execute_result"
    }
   ],
   "source": [
    "data[data['days_employed'].isna()]"
   ]
  },
  {
   "cell_type": "markdown",
   "metadata": {},
   "source": [
    "Можно сделать вывод что это либо техническая причина, либо клиент сам не указал свой стаж и доход. В любом случае пропуски можно заполнить медианой дохода, на основе типа занятости.\n",
    "\n",
    "Но для начала избавимся от артефактов: отрицательных значений и слишком большого стажа."
   ]
  },
  {
   "cell_type": "code",
   "execution_count": 10,
   "metadata": {},
   "outputs": [],
   "source": [
    "data['days_employed'] = abs(data['days_employed'])"
   ]
  },
  {
   "cell_type": "code",
   "execution_count": 11,
   "metadata": {},
   "outputs": [
    {
     "data": {
      "text/html": [
       "<div>\n",
       "<style scoped>\n",
       "    .dataframe tbody tr th:only-of-type {\n",
       "        vertical-align: middle;\n",
       "    }\n",
       "\n",
       "    .dataframe tbody tr th {\n",
       "        vertical-align: top;\n",
       "    }\n",
       "\n",
       "    .dataframe thead th {\n",
       "        text-align: right;\n",
       "    }\n",
       "</style>\n",
       "<table border=\"1\" class=\"dataframe\">\n",
       "  <thead>\n",
       "    <tr style=\"text-align: right;\">\n",
       "      <th></th>\n",
       "      <th>children</th>\n",
       "      <th>days_employed</th>\n",
       "      <th>dob_years</th>\n",
       "      <th>education_id</th>\n",
       "      <th>family_status_id</th>\n",
       "      <th>debt</th>\n",
       "      <th>total_income</th>\n",
       "    </tr>\n",
       "  </thead>\n",
       "  <tbody>\n",
       "    <tr>\n",
       "      <th>count</th>\n",
       "      <td>21525.000000</td>\n",
       "      <td>19351.000000</td>\n",
       "      <td>21525.000000</td>\n",
       "      <td>21525.000000</td>\n",
       "      <td>21525.000000</td>\n",
       "      <td>21525.000000</td>\n",
       "      <td>1.935100e+04</td>\n",
       "    </tr>\n",
       "    <tr>\n",
       "      <th>mean</th>\n",
       "      <td>0.538908</td>\n",
       "      <td>66914.728907</td>\n",
       "      <td>43.293380</td>\n",
       "      <td>0.817236</td>\n",
       "      <td>0.972544</td>\n",
       "      <td>0.080883</td>\n",
       "      <td>1.674223e+05</td>\n",
       "    </tr>\n",
       "    <tr>\n",
       "      <th>std</th>\n",
       "      <td>1.381587</td>\n",
       "      <td>139030.880527</td>\n",
       "      <td>12.574584</td>\n",
       "      <td>0.548138</td>\n",
       "      <td>1.420324</td>\n",
       "      <td>0.272661</td>\n",
       "      <td>1.029716e+05</td>\n",
       "    </tr>\n",
       "    <tr>\n",
       "      <th>min</th>\n",
       "      <td>-1.000000</td>\n",
       "      <td>24.141633</td>\n",
       "      <td>0.000000</td>\n",
       "      <td>0.000000</td>\n",
       "      <td>0.000000</td>\n",
       "      <td>0.000000</td>\n",
       "      <td>2.066726e+04</td>\n",
       "    </tr>\n",
       "    <tr>\n",
       "      <th>25%</th>\n",
       "      <td>0.000000</td>\n",
       "      <td>927.009265</td>\n",
       "      <td>33.000000</td>\n",
       "      <td>1.000000</td>\n",
       "      <td>0.000000</td>\n",
       "      <td>0.000000</td>\n",
       "      <td>1.030532e+05</td>\n",
       "    </tr>\n",
       "    <tr>\n",
       "      <th>50%</th>\n",
       "      <td>0.000000</td>\n",
       "      <td>2194.220567</td>\n",
       "      <td>42.000000</td>\n",
       "      <td>1.000000</td>\n",
       "      <td>0.000000</td>\n",
       "      <td>0.000000</td>\n",
       "      <td>1.450179e+05</td>\n",
       "    </tr>\n",
       "    <tr>\n",
       "      <th>75%</th>\n",
       "      <td>1.000000</td>\n",
       "      <td>5537.882441</td>\n",
       "      <td>53.000000</td>\n",
       "      <td>1.000000</td>\n",
       "      <td>1.000000</td>\n",
       "      <td>0.000000</td>\n",
       "      <td>2.034351e+05</td>\n",
       "    </tr>\n",
       "    <tr>\n",
       "      <th>max</th>\n",
       "      <td>20.000000</td>\n",
       "      <td>401755.400475</td>\n",
       "      <td>75.000000</td>\n",
       "      <td>4.000000</td>\n",
       "      <td>4.000000</td>\n",
       "      <td>1.000000</td>\n",
       "      <td>2.265604e+06</td>\n",
       "    </tr>\n",
       "  </tbody>\n",
       "</table>\n",
       "</div>"
      ],
      "text/plain": [
       "           children  days_employed     dob_years  education_id  \\\n",
       "count  21525.000000   19351.000000  21525.000000  21525.000000   \n",
       "mean       0.538908   66914.728907     43.293380      0.817236   \n",
       "std        1.381587  139030.880527     12.574584      0.548138   \n",
       "min       -1.000000      24.141633      0.000000      0.000000   \n",
       "25%        0.000000     927.009265     33.000000      1.000000   \n",
       "50%        0.000000    2194.220567     42.000000      1.000000   \n",
       "75%        1.000000    5537.882441     53.000000      1.000000   \n",
       "max       20.000000  401755.400475     75.000000      4.000000   \n",
       "\n",
       "       family_status_id          debt  total_income  \n",
       "count      21525.000000  21525.000000  1.935100e+04  \n",
       "mean           0.972544      0.080883  1.674223e+05  \n",
       "std            1.420324      0.272661  1.029716e+05  \n",
       "min            0.000000      0.000000  2.066726e+04  \n",
       "25%            0.000000      0.000000  1.030532e+05  \n",
       "50%            0.000000      0.000000  1.450179e+05  \n",
       "75%            1.000000      0.000000  2.034351e+05  \n",
       "max            4.000000      1.000000  2.265604e+06  "
      ]
     },
     "execution_count": 11,
     "metadata": {},
     "output_type": "execute_result"
    }
   ],
   "source": [
    "data.describe()"
   ]
  },
  {
   "cell_type": "markdown",
   "metadata": {},
   "source": [
    "Как можно видеть даже средний стаж выбивается за рамки, за основу возьмем приблизительный максимум возможного стажа: работа началась в 18 лет и закончилась в 65, значит `237 рабочих дней * 47 лет = 11139 дней`"
   ]
  },
  {
   "cell_type": "code",
   "execution_count": 12,
   "metadata": {},
   "outputs": [],
   "source": [
    "MAX_DAYS_EMPLOYED = 11139"
   ]
  },
  {
   "cell_type": "code",
   "execution_count": 13,
   "metadata": {
    "scrolled": true
   },
   "outputs": [
    {
     "data": {
      "text/plain": [
       "3606"
      ]
     },
     "execution_count": 13,
     "metadata": {},
     "output_type": "execute_result"
    }
   ],
   "source": [
    "data[data['days_employed'] > MAX_DAYS_EMPLOYED]['days_employed'].count()"
   ]
  },
  {
   "cell_type": "markdown",
   "metadata": {},
   "source": [
    "Получается 3606 выбивающихся из нормы значений."
   ]
  },
  {
   "cell_type": "code",
   "execution_count": 14,
   "metadata": {},
   "outputs": [
    {
     "data": {
      "text/plain": [
       "пенсионер      3443\n",
       "сотрудник        98\n",
       "компаньон        37\n",
       "госслужащий      26\n",
       "безработный       2\n",
       "Name: income_type, dtype: int64"
      ]
     },
     "execution_count": 14,
     "metadata": {},
     "output_type": "execute_result"
    }
   ],
   "source": [
    "data[data['days_employed'] > MAX_DAYS_EMPLOYED]['income_type'].value_counts()"
   ]
  },
  {
   "cell_type": "markdown",
   "metadata": {},
   "source": [
    "Больше всего из них пенсионеров. Узнаем сколько всего пенсионеров в датасете:"
   ]
  },
  {
   "cell_type": "code",
   "execution_count": 15,
   "metadata": {},
   "outputs": [
    {
     "data": {
      "text/plain": [
       "3856"
      ]
     },
     "execution_count": 15,
     "metadata": {},
     "output_type": "execute_result"
    }
   ],
   "source": [
    "data[(data['income_type'] == 'пенсионер')]['children'].count()"
   ]
  },
  {
   "cell_type": "markdown",
   "metadata": {},
   "source": [
    "И сколько у них стаж:"
   ]
  },
  {
   "cell_type": "code",
   "execution_count": 16,
   "metadata": {
    "scrolled": true
   },
   "outputs": [
    {
     "data": {
      "text/plain": [
       "count      3443.000000\n",
       "mean     365003.491245\n",
       "std       21069.606065\n",
       "min      328728.720605\n",
       "25%      346649.346146\n",
       "50%      365213.306266\n",
       "75%      383231.396871\n",
       "max      401755.400475\n",
       "Name: days_employed, dtype: float64"
      ]
     },
     "execution_count": 16,
     "metadata": {},
     "output_type": "execute_result"
    }
   ],
   "source": [
    "data[(data['income_type'] == 'пенсионер')]['days_employed'].describe()"
   ]
  },
  {
   "cell_type": "markdown",
   "metadata": {},
   "source": [
    "Получается весь стаж пенсионеров некорректен, для того чтобы не терять данный тип занятости, заполним его средним."
   ]
  },
  {
   "cell_type": "code",
   "execution_count": 17,
   "metadata": {},
   "outputs": [],
   "source": [
    "data.loc[data['income_type'] == 'пенсионер', 'days_employed'] = \\\n",
    "    data[data['days_employed'] < MAX_DAYS_EMPLOYED]['days_employed'].mean()"
   ]
  },
  {
   "cell_type": "markdown",
   "metadata": {},
   "source": [
    "Заполним остальной пропущенный стаж по оставшимся категориям занятости выбивающимся от нормы, для этого получим их среднее, а для непропущенных приведем к максимальному числу 11139:"
   ]
  },
  {
   "cell_type": "code",
   "execution_count": 18,
   "metadata": {},
   "outputs": [],
   "source": [
    "days_employed_deviation = (data \n",
    "                            [data['days_employed'] > MAX_DAYS_EMPLOYED] \n",
    "                            ['income_type']\n",
    "                           .value_counts())"
   ]
  },
  {
   "cell_type": "code",
   "execution_count": 19,
   "metadata": {},
   "outputs": [],
   "source": [
    "days_employed_deviation_dict = {}\n",
    "for key in list(days_employed_deviation.index):\n",
    "    days_employed_deviation_dict[key] = (data[(data['days_employed'].notna()) \n",
    "                                             & (data['days_employed'] <= MAX_DAYS_EMPLOYED) \n",
    "                                             & (data['income_type'] == key)] \n",
    "                                            ['days_employed'] \n",
    "                                            .mean())                                            "
   ]
  },
  {
   "cell_type": "markdown",
   "metadata": {},
   "source": [
    "И заполним:"
   ]
  },
  {
   "cell_type": "code",
   "execution_count": 20,
   "metadata": {},
   "outputs": [],
   "source": [
    "# Заполнение стажа\n",
    "for key, value in days_employed_deviation_dict.items():\n",
    "    data.loc[((data['income_type'] == key) \n",
    "             & (data['days_employed'].isna()), \n",
    "              'days_employed')] = value"
   ]
  },
  {
   "cell_type": "code",
   "execution_count": 21,
   "metadata": {},
   "outputs": [],
   "source": [
    "for key, value in days_employed_deviation_dict.items():\n",
    "    data.loc[((data['income_type'] == key) \n",
    "             & (data['days_employed'] > MAX_DAYS_EMPLOYED), \n",
    "              'days_employed')] = MAX_DAYS_EMPLOYED"
   ]
  },
  {
   "cell_type": "code",
   "execution_count": 22,
   "metadata": {},
   "outputs": [
    {
     "data": {
      "text/plain": [
       "children               0\n",
       "days_employed          1\n",
       "dob_years              0\n",
       "education              0\n",
       "education_id           0\n",
       "family_status          0\n",
       "family_status_id       0\n",
       "gender                 0\n",
       "income_type            0\n",
       "debt                   0\n",
       "total_income        2174\n",
       "purpose                0\n",
       "dtype: int64"
      ]
     },
     "execution_count": 22,
     "metadata": {},
     "output_type": "execute_result"
    }
   ],
   "source": [
    "data.isna().sum()"
   ]
  },
  {
   "cell_type": "markdown",
   "metadata": {},
   "source": [
    "Проверим сколько всего безработных:"
   ]
  },
  {
   "cell_type": "code",
   "execution_count": 23,
   "metadata": {
    "scrolled": false
   },
   "outputs": [
    {
     "data": {
      "text/html": [
       "<div>\n",
       "<style scoped>\n",
       "    .dataframe tbody tr th:only-of-type {\n",
       "        vertical-align: middle;\n",
       "    }\n",
       "\n",
       "    .dataframe tbody tr th {\n",
       "        vertical-align: top;\n",
       "    }\n",
       "\n",
       "    .dataframe thead th {\n",
       "        text-align: right;\n",
       "    }\n",
       "</style>\n",
       "<table border=\"1\" class=\"dataframe\">\n",
       "  <thead>\n",
       "    <tr style=\"text-align: right;\">\n",
       "      <th></th>\n",
       "      <th>children</th>\n",
       "      <th>days_employed</th>\n",
       "      <th>dob_years</th>\n",
       "      <th>education</th>\n",
       "      <th>education_id</th>\n",
       "      <th>family_status</th>\n",
       "      <th>family_status_id</th>\n",
       "      <th>gender</th>\n",
       "      <th>income_type</th>\n",
       "      <th>debt</th>\n",
       "      <th>total_income</th>\n",
       "      <th>purpose</th>\n",
       "    </tr>\n",
       "  </thead>\n",
       "  <tbody>\n",
       "    <tr>\n",
       "      <th>3133</th>\n",
       "      <td>1</td>\n",
       "      <td>11139.0</td>\n",
       "      <td>31</td>\n",
       "      <td>среднее</td>\n",
       "      <td>1</td>\n",
       "      <td>женат / замужем</td>\n",
       "      <td>0</td>\n",
       "      <td>M</td>\n",
       "      <td>безработный</td>\n",
       "      <td>1</td>\n",
       "      <td>59956.991984</td>\n",
       "      <td>покупка жилья для сдачи</td>\n",
       "    </tr>\n",
       "    <tr>\n",
       "      <th>14798</th>\n",
       "      <td>0</td>\n",
       "      <td>11139.0</td>\n",
       "      <td>45</td>\n",
       "      <td>Высшее</td>\n",
       "      <td>0</td>\n",
       "      <td>гражданский брак</td>\n",
       "      <td>1</td>\n",
       "      <td>F</td>\n",
       "      <td>безработный</td>\n",
       "      <td>0</td>\n",
       "      <td>202722.511368</td>\n",
       "      <td>ремонт жилью</td>\n",
       "    </tr>\n",
       "  </tbody>\n",
       "</table>\n",
       "</div>"
      ],
      "text/plain": [
       "       children  days_employed  dob_years education  education_id  \\\n",
       "3133          1        11139.0         31   среднее             1   \n",
       "14798         0        11139.0         45    Высшее             0   \n",
       "\n",
       "          family_status  family_status_id gender  income_type  debt  \\\n",
       "3133    женат / замужем                 0      M  безработный     1   \n",
       "14798  гражданский брак                 1      F  безработный     0   \n",
       "\n",
       "        total_income                  purpose  \n",
       "3133    59956.991984  покупка жилья для сдачи  \n",
       "14798  202722.511368             ремонт жилью  "
      ]
     },
     "execution_count": 23,
     "metadata": {},
     "output_type": "execute_result"
    }
   ],
   "source": [
    "data[(data['income_type'] == 'безработный')]"
   ]
  },
  {
   "cell_type": "markdown",
   "metadata": {},
   "source": [
    "Так как их всего два и на проверку гипотез эти данные не скажутся, можно их удалить:"
   ]
  },
  {
   "cell_type": "code",
   "execution_count": 24,
   "metadata": {},
   "outputs": [],
   "source": [
    "data.drop(data[data['income_type'] == 'безработный'].index, inplace=True)"
   ]
  },
  {
   "cell_type": "markdown",
   "metadata": {},
   "source": [
    "После удаления, проверим, остались ли пропуски в days_employed:"
   ]
  },
  {
   "cell_type": "code",
   "execution_count": 25,
   "metadata": {},
   "outputs": [
    {
     "data": {
      "text/html": [
       "<div>\n",
       "<style scoped>\n",
       "    .dataframe tbody tr th:only-of-type {\n",
       "        vertical-align: middle;\n",
       "    }\n",
       "\n",
       "    .dataframe tbody tr th {\n",
       "        vertical-align: top;\n",
       "    }\n",
       "\n",
       "    .dataframe thead th {\n",
       "        text-align: right;\n",
       "    }\n",
       "</style>\n",
       "<table border=\"1\" class=\"dataframe\">\n",
       "  <thead>\n",
       "    <tr style=\"text-align: right;\">\n",
       "      <th></th>\n",
       "      <th>children</th>\n",
       "      <th>days_employed</th>\n",
       "      <th>dob_years</th>\n",
       "      <th>education</th>\n",
       "      <th>education_id</th>\n",
       "      <th>family_status</th>\n",
       "      <th>family_status_id</th>\n",
       "      <th>gender</th>\n",
       "      <th>income_type</th>\n",
       "      <th>debt</th>\n",
       "      <th>total_income</th>\n",
       "      <th>purpose</th>\n",
       "    </tr>\n",
       "  </thead>\n",
       "  <tbody>\n",
       "    <tr>\n",
       "      <th>5936</th>\n",
       "      <td>0</td>\n",
       "      <td>NaN</td>\n",
       "      <td>58</td>\n",
       "      <td>высшее</td>\n",
       "      <td>0</td>\n",
       "      <td>женат / замужем</td>\n",
       "      <td>0</td>\n",
       "      <td>M</td>\n",
       "      <td>предприниматель</td>\n",
       "      <td>0</td>\n",
       "      <td>NaN</td>\n",
       "      <td>покупка жилой недвижимости</td>\n",
       "    </tr>\n",
       "  </tbody>\n",
       "</table>\n",
       "</div>"
      ],
      "text/plain": [
       "      children  days_employed  dob_years education  education_id  \\\n",
       "5936         0            NaN         58    высшее             0   \n",
       "\n",
       "        family_status  family_status_id gender      income_type  debt  \\\n",
       "5936  женат / замужем                 0      M  предприниматель     0   \n",
       "\n",
       "      total_income                     purpose  \n",
       "5936           NaN  покупка жилой недвижимости  "
      ]
     },
     "execution_count": 25,
     "metadata": {},
     "output_type": "execute_result"
    }
   ],
   "source": [
    "data[data['days_employed'].isna()]"
   ]
  },
  {
   "cell_type": "markdown",
   "metadata": {},
   "source": [
    "Действительно, имеется один пропуск, узнаем сколько всего предпринимателей в датасете:"
   ]
  },
  {
   "cell_type": "code",
   "execution_count": 26,
   "metadata": {},
   "outputs": [
    {
     "data": {
      "text/html": [
       "<div>\n",
       "<style scoped>\n",
       "    .dataframe tbody tr th:only-of-type {\n",
       "        vertical-align: middle;\n",
       "    }\n",
       "\n",
       "    .dataframe tbody tr th {\n",
       "        vertical-align: top;\n",
       "    }\n",
       "\n",
       "    .dataframe thead th {\n",
       "        text-align: right;\n",
       "    }\n",
       "</style>\n",
       "<table border=\"1\" class=\"dataframe\">\n",
       "  <thead>\n",
       "    <tr style=\"text-align: right;\">\n",
       "      <th></th>\n",
       "      <th>children</th>\n",
       "      <th>days_employed</th>\n",
       "      <th>dob_years</th>\n",
       "      <th>education</th>\n",
       "      <th>education_id</th>\n",
       "      <th>family_status</th>\n",
       "      <th>family_status_id</th>\n",
       "      <th>gender</th>\n",
       "      <th>income_type</th>\n",
       "      <th>debt</th>\n",
       "      <th>total_income</th>\n",
       "      <th>purpose</th>\n",
       "    </tr>\n",
       "  </thead>\n",
       "  <tbody>\n",
       "    <tr>\n",
       "      <th>5936</th>\n",
       "      <td>0</td>\n",
       "      <td>NaN</td>\n",
       "      <td>58</td>\n",
       "      <td>высшее</td>\n",
       "      <td>0</td>\n",
       "      <td>женат / замужем</td>\n",
       "      <td>0</td>\n",
       "      <td>M</td>\n",
       "      <td>предприниматель</td>\n",
       "      <td>0</td>\n",
       "      <td>NaN</td>\n",
       "      <td>покупка жилой недвижимости</td>\n",
       "    </tr>\n",
       "    <tr>\n",
       "      <th>18697</th>\n",
       "      <td>0</td>\n",
       "      <td>520.848083</td>\n",
       "      <td>27</td>\n",
       "      <td>высшее</td>\n",
       "      <td>0</td>\n",
       "      <td>гражданский брак</td>\n",
       "      <td>1</td>\n",
       "      <td>F</td>\n",
       "      <td>предприниматель</td>\n",
       "      <td>0</td>\n",
       "      <td>499163.144947</td>\n",
       "      <td>на проведение свадьбы</td>\n",
       "    </tr>\n",
       "  </tbody>\n",
       "</table>\n",
       "</div>"
      ],
      "text/plain": [
       "       children  days_employed  dob_years education  education_id  \\\n",
       "5936          0            NaN         58    высшее             0   \n",
       "18697         0     520.848083         27    высшее             0   \n",
       "\n",
       "          family_status  family_status_id gender      income_type  debt  \\\n",
       "5936    женат / замужем                 0      M  предприниматель     0   \n",
       "18697  гражданский брак                 1      F  предприниматель     0   \n",
       "\n",
       "        total_income                     purpose  \n",
       "5936             NaN  покупка жилой недвижимости  \n",
       "18697  499163.144947       на проведение свадьбы  "
      ]
     },
     "execution_count": 26,
     "metadata": {},
     "output_type": "execute_result"
    }
   ],
   "source": [
    "data[data['income_type'] == 'предприниматель']"
   ]
  },
  {
   "cell_type": "markdown",
   "metadata": {},
   "source": [
    "Так как у нас всего два значения из предпринимателей, поступим так же как и с безработными."
   ]
  },
  {
   "cell_type": "code",
   "execution_count": 27,
   "metadata": {},
   "outputs": [],
   "source": [
    "data.drop(data[data['income_type'] == 'предприниматель'].index, inplace=True)"
   ]
  },
  {
   "cell_type": "markdown",
   "metadata": {},
   "source": [
    "Разберемся с пропусками по доходу, для этого получим медиану дохода по типу занятости:"
   ]
  },
  {
   "cell_type": "code",
   "execution_count": 28,
   "metadata": {},
   "outputs": [],
   "source": [
    "# Получение медианы по доходу\n",
    "median_total_income = (data[data['total_income'].notna()] \n",
    "                        .groupby('income_type')['total_income'] \n",
    "                        .median() \n",
    "                        .to_dict()) "
   ]
  },
  {
   "cell_type": "markdown",
   "metadata": {},
   "source": [
    "И заполним:"
   ]
  },
  {
   "cell_type": "code",
   "execution_count": 29,
   "metadata": {},
   "outputs": [],
   "source": [
    "# Заполнение дохода\n",
    "for key, value in median_total_income.items():\n",
    "    data.loc[((data['total_income'].isna()) \n",
    "              & (data['income_type'] == key), \n",
    "              'total_income')] = value"
   ]
  },
  {
   "cell_type": "code",
   "execution_count": 30,
   "metadata": {
    "scrolled": true
   },
   "outputs": [
    {
     "data": {
      "text/plain": [
       "children            0\n",
       "days_employed       0\n",
       "dob_years           0\n",
       "education           0\n",
       "education_id        0\n",
       "family_status       0\n",
       "family_status_id    0\n",
       "gender              0\n",
       "income_type         0\n",
       "debt                0\n",
       "total_income        0\n",
       "purpose             0\n",
       "dtype: int64"
      ]
     },
     "execution_count": 30,
     "metadata": {},
     "output_type": "execute_result"
    }
   ],
   "source": [
    "data.isna().sum()"
   ]
  },
  {
   "cell_type": "markdown",
   "metadata": {},
   "source": [
    "Разберемся с гендером:"
   ]
  },
  {
   "cell_type": "code",
   "execution_count": 31,
   "metadata": {},
   "outputs": [
    {
     "data": {
      "text/plain": [
       "F      14234\n",
       "M       7286\n",
       "XNA        1\n",
       "Name: gender, dtype: int64"
      ]
     },
     "execution_count": 31,
     "metadata": {},
     "output_type": "execute_result"
    }
   ],
   "source": [
    "data.gender.value_counts()"
   ]
  },
  {
   "cell_type": "markdown",
   "metadata": {},
   "source": [
    "Отклонение одно, поэтому просто удалим его:"
   ]
  },
  {
   "cell_type": "code",
   "execution_count": 32,
   "metadata": {},
   "outputs": [],
   "source": [
    "data.drop(data[data['gender'] == 'XNA'].index, inplace=True)"
   ]
  },
  {
   "cell_type": "markdown",
   "metadata": {},
   "source": [
    "Осталось разобраться с отрицательным значением в количестве детей:"
   ]
  },
  {
   "cell_type": "code",
   "execution_count": 33,
   "metadata": {},
   "outputs": [
    {
     "data": {
      "text/plain": [
       "47"
      ]
     },
     "execution_count": 33,
     "metadata": {},
     "output_type": "execute_result"
    }
   ],
   "source": [
    "data[data['children'] < 0]['children'].count()"
   ]
  },
  {
   "cell_type": "markdown",
   "metadata": {},
   "source": [
    "Целых 47 человек у которых -1 ребенок. Скорее всего это человеческая ошибка и минус здесь лишний."
   ]
  },
  {
   "cell_type": "code",
   "execution_count": 34,
   "metadata": {},
   "outputs": [],
   "source": [
    "data['children'] = abs(data['children'])"
   ]
  },
  {
   "cell_type": "code",
   "execution_count": 35,
   "metadata": {},
   "outputs": [
    {
     "data": {
      "text/plain": [
       "count    21520.000000\n",
       "mean         0.543355\n",
       "std          1.380013\n",
       "min          0.000000\n",
       "25%          0.000000\n",
       "50%          0.000000\n",
       "75%          1.000000\n",
       "max         20.000000\n",
       "Name: children, dtype: float64"
      ]
     },
     "execution_count": 35,
     "metadata": {},
     "output_type": "execute_result"
    }
   ],
   "source": [
    "data.children.describe()"
   ]
  },
  {
   "cell_type": "markdown",
   "metadata": {},
   "source": [
    "#### Вывод"
   ]
  },
  {
   "cell_type": "markdown",
   "metadata": {},
   "source": [
    "Обработка пропусков выявила следующие артефакты:\n",
    "\n",
    "* Отрицательные значения в стаже\n",
    "* Имеется стаж превышающий человеческую жизнь\n",
    "* Весь стаж пенсионеров некорректен\n",
    "* Так же была одна ошибка в гендере\n",
    "* Количество детей не может быть отрицательным\n",
    "\n",
    "Из этого следует:\n",
    "\n",
    "* Отрицательные значения скорее всего человеческая ошибка при заполнении\n",
    "* Гендерная ошибка под вопросом, так как XNA похож на NA, а это возможно ошибка выгрузки данных\n",
    "* Стаж превышающий человеческую жизнь в 89% случаев был выявлен у пенсионеров, а так как их стаж был полностью некорректен такое большое число вряд ли было введено человеком, имеет место быть техническая ошибка."
   ]
  },
  {
   "cell_type": "markdown",
   "metadata": {},
   "source": [
    "### Замена типа данных"
   ]
  },
  {
   "cell_type": "code",
   "execution_count": 36,
   "metadata": {
    "scrolled": true
   },
   "outputs": [
    {
     "name": "stdout",
     "output_type": "stream",
     "text": [
      "<class 'pandas.core.frame.DataFrame'>\n",
      "Int64Index: 21520 entries, 0 to 21524\n",
      "Data columns (total 12 columns):\n",
      " #   Column            Non-Null Count  Dtype  \n",
      "---  ------            --------------  -----  \n",
      " 0   children          21520 non-null  int64  \n",
      " 1   days_employed     21520 non-null  float64\n",
      " 2   dob_years         21520 non-null  int64  \n",
      " 3   education         21520 non-null  object \n",
      " 4   education_id      21520 non-null  int64  \n",
      " 5   family_status     21520 non-null  object \n",
      " 6   family_status_id  21520 non-null  int64  \n",
      " 7   gender            21520 non-null  object \n",
      " 8   income_type       21520 non-null  object \n",
      " 9   debt              21520 non-null  int64  \n",
      " 10  total_income      21520 non-null  float64\n",
      " 11  purpose           21520 non-null  object \n",
      "dtypes: float64(2), int64(5), object(5)\n",
      "memory usage: 2.1+ MB\n"
     ]
    }
   ],
   "source": [
    "data.info()"
   ]
  },
  {
   "cell_type": "markdown",
   "metadata": {},
   "source": [
    "Можно отметить, что столбец days_employed имеет неправильный тип данных, должен быть целочисленный, так же для удобства и экономии памяти переведем:\n",
    "- children в uint8\n",
    "- days_employed в uint16\n",
    "- dob_years в uint8\n",
    "- education_id в uint8\n",
    "- family_status_id в uint8\n",
    "- debt в uint8\n",
    "- total_income в uint32"
   ]
  },
  {
   "cell_type": "code",
   "execution_count": 37,
   "metadata": {},
   "outputs": [],
   "source": [
    "data['children'] = data['children'].astype('uint8')"
   ]
  },
  {
   "cell_type": "code",
   "execution_count": 38,
   "metadata": {},
   "outputs": [],
   "source": [
    "data['days_employed'] = data['days_employed'].astype('uint16')"
   ]
  },
  {
   "cell_type": "code",
   "execution_count": 39,
   "metadata": {},
   "outputs": [],
   "source": [
    "data['dob_years'] = data['dob_years'].astype('uint8')"
   ]
  },
  {
   "cell_type": "code",
   "execution_count": 40,
   "metadata": {},
   "outputs": [],
   "source": [
    "data['education_id'] = data['education_id'].astype('uint8')"
   ]
  },
  {
   "cell_type": "code",
   "execution_count": 41,
   "metadata": {},
   "outputs": [],
   "source": [
    "data['family_status_id'] = data['family_status_id'].astype('uint8')"
   ]
  },
  {
   "cell_type": "code",
   "execution_count": 42,
   "metadata": {},
   "outputs": [],
   "source": [
    "data['debt'] = data['debt'].astype('uint8')"
   ]
  },
  {
   "cell_type": "code",
   "execution_count": 43,
   "metadata": {},
   "outputs": [],
   "source": [
    "data['total_income'] = data['total_income'].astype('uint32')"
   ]
  },
  {
   "cell_type": "code",
   "execution_count": 44,
   "metadata": {
    "scrolled": true
   },
   "outputs": [
    {
     "name": "stdout",
     "output_type": "stream",
     "text": [
      "<class 'pandas.core.frame.DataFrame'>\n",
      "Int64Index: 21520 entries, 0 to 21524\n",
      "Data columns (total 12 columns):\n",
      " #   Column            Non-Null Count  Dtype \n",
      "---  ------            --------------  ----- \n",
      " 0   children          21520 non-null  uint8 \n",
      " 1   days_employed     21520 non-null  uint16\n",
      " 2   dob_years         21520 non-null  uint8 \n",
      " 3   education         21520 non-null  object\n",
      " 4   education_id      21520 non-null  uint8 \n",
      " 5   family_status     21520 non-null  object\n",
      " 6   family_status_id  21520 non-null  uint8 \n",
      " 7   gender            21520 non-null  object\n",
      " 8   income_type       21520 non-null  object\n",
      " 9   debt              21520 non-null  uint8 \n",
      " 10  total_income      21520 non-null  uint32\n",
      " 11  purpose           21520 non-null  object\n",
      "dtypes: object(5), uint16(1), uint32(1), uint8(5)\n",
      "memory usage: 1.2+ MB\n"
     ]
    }
   ],
   "source": [
    "data.info()"
   ]
  },
  {
   "cell_type": "markdown",
   "metadata": {},
   "source": [
    "#### Вывод"
   ]
  },
  {
   "cell_type": "markdown",
   "metadata": {},
   "source": [
    "В столбце days_employed вещественный тип данных был переведен в целочисленный, так как рабочий стаж в днях не может быть дробным. Причина появления кроется в наличии NaN при выгрузке данных. Так же после перевода других столбцов размер датафрейма сократился почти вдвое."
   ]
  },
  {
   "cell_type": "markdown",
   "metadata": {},
   "source": [
    "### Обработка дубликатов"
   ]
  },
  {
   "cell_type": "code",
   "execution_count": 45,
   "metadata": {},
   "outputs": [
    {
     "data": {
      "text/plain": [
       "array(['высшее', 'среднее', 'Среднее', 'СРЕДНЕЕ', 'ВЫСШЕЕ',\n",
       "       'неоконченное высшее', 'начальное', 'Высшее',\n",
       "       'НЕОКОНЧЕННОЕ ВЫСШЕЕ', 'Неоконченное высшее', 'НАЧАЛЬНОЕ',\n",
       "       'Начальное', 'Ученая степень', 'УЧЕНАЯ СТЕПЕНЬ', 'ученая степень'],\n",
       "      dtype=object)"
      ]
     },
     "execution_count": 45,
     "metadata": {},
     "output_type": "execute_result"
    }
   ],
   "source": [
    "data.education.unique()"
   ]
  },
  {
   "cell_type": "code",
   "execution_count": 46,
   "metadata": {},
   "outputs": [],
   "source": [
    "data['education'] = data['education'].str.lower()"
   ]
  },
  {
   "cell_type": "code",
   "execution_count": 47,
   "metadata": {},
   "outputs": [
    {
     "data": {
      "text/plain": [
       "71"
      ]
     },
     "execution_count": 47,
     "metadata": {},
     "output_type": "execute_result"
    }
   ],
   "source": [
    "data.duplicated().sum()"
   ]
  },
  {
   "cell_type": "code",
   "execution_count": 48,
   "metadata": {},
   "outputs": [],
   "source": [
    "data.drop_duplicates(inplace=True)"
   ]
  },
  {
   "cell_type": "code",
   "execution_count": 49,
   "metadata": {},
   "outputs": [],
   "source": [
    "data = data.reset_index(drop=True)"
   ]
  },
  {
   "cell_type": "markdown",
   "metadata": {},
   "source": [
    "#### Вывод\n",
    " \n",
    "Столбец education имел одинаковые значения в разном регистре, после приведения к нижнему регистру и применению метода drop_duplicates, датасет больше не имеет дубликатов. Причина разного регистра, скорее всего, в том что, образование вводится вручную, а наличие дубликатов в том что один человек может подавать несколько раз заявки на кредит."
   ]
  },
  {
   "cell_type": "markdown",
   "metadata": {},
   "source": [
    "### Лемматизация"
   ]
  },
  {
   "cell_type": "markdown",
   "metadata": {},
   "source": [
    "Проведем лемматизацию столбца с целями кредита."
   ]
  },
  {
   "cell_type": "code",
   "execution_count": 50,
   "metadata": {},
   "outputs": [],
   "source": [
    "def create_lemma_purpose(row, instance):\n",
    "    \"\"\"\n",
    "    row - строка датафрейма\n",
    "    instance - экземпляр класса для лемматизации\n",
    "    \n",
    "    \"\"\"\n",
    "    lemmas = instance.lemmatize(row['purpose'])\n",
    "\n",
    "    for lemma in lemmas:\n",
    "        if lemma.startswith('авто'):\n",
    "            return 'автомобиль'\n",
    "        elif lemma.startswith('свадьб'):\n",
    "            return 'свадьба'\n",
    "        elif lemma.startswith('недвижимост') or lemma.startswith('жиль'):\n",
    "            return 'недвижимость'\n",
    "        elif lemma.startswith('образован'):\n",
    "            return 'образование'\n",
    "    return np.nan"
   ]
  },
  {
   "cell_type": "code",
   "execution_count": 51,
   "metadata": {},
   "outputs": [],
   "source": [
    "m = Mystem()"
   ]
  },
  {
   "cell_type": "code",
   "execution_count": 52,
   "metadata": {
    "scrolled": false
   },
   "outputs": [],
   "source": [
    "data['lemmatize_purpose'] = data.apply(create_lemma_purpose, instance=m, axis=1)"
   ]
  },
  {
   "cell_type": "code",
   "execution_count": 53,
   "metadata": {},
   "outputs": [
    {
     "data": {
      "text/html": [
       "<div>\n",
       "<style scoped>\n",
       "    .dataframe tbody tr th:only-of-type {\n",
       "        vertical-align: middle;\n",
       "    }\n",
       "\n",
       "    .dataframe tbody tr th {\n",
       "        vertical-align: top;\n",
       "    }\n",
       "\n",
       "    .dataframe thead th {\n",
       "        text-align: right;\n",
       "    }\n",
       "</style>\n",
       "<table border=\"1\" class=\"dataframe\">\n",
       "  <thead>\n",
       "    <tr style=\"text-align: right;\">\n",
       "      <th></th>\n",
       "      <th>purpose</th>\n",
       "      <th>lemmatize_purpose</th>\n",
       "    </tr>\n",
       "  </thead>\n",
       "  <tbody>\n",
       "    <tr>\n",
       "      <th>0</th>\n",
       "      <td>покупка жилья</td>\n",
       "      <td>недвижимость</td>\n",
       "    </tr>\n",
       "    <tr>\n",
       "      <th>1</th>\n",
       "      <td>приобретение автомобиля</td>\n",
       "      <td>автомобиль</td>\n",
       "    </tr>\n",
       "    <tr>\n",
       "      <th>2</th>\n",
       "      <td>покупка жилья</td>\n",
       "      <td>недвижимость</td>\n",
       "    </tr>\n",
       "    <tr>\n",
       "      <th>3</th>\n",
       "      <td>дополнительное образование</td>\n",
       "      <td>образование</td>\n",
       "    </tr>\n",
       "    <tr>\n",
       "      <th>4</th>\n",
       "      <td>сыграть свадьбу</td>\n",
       "      <td>свадьба</td>\n",
       "    </tr>\n",
       "    <tr>\n",
       "      <th>5</th>\n",
       "      <td>покупка жилья</td>\n",
       "      <td>недвижимость</td>\n",
       "    </tr>\n",
       "    <tr>\n",
       "      <th>6</th>\n",
       "      <td>операции с жильем</td>\n",
       "      <td>недвижимость</td>\n",
       "    </tr>\n",
       "    <tr>\n",
       "      <th>7</th>\n",
       "      <td>образование</td>\n",
       "      <td>образование</td>\n",
       "    </tr>\n",
       "    <tr>\n",
       "      <th>8</th>\n",
       "      <td>на проведение свадьбы</td>\n",
       "      <td>свадьба</td>\n",
       "    </tr>\n",
       "    <tr>\n",
       "      <th>9</th>\n",
       "      <td>покупка жилья для семьи</td>\n",
       "      <td>недвижимость</td>\n",
       "    </tr>\n",
       "  </tbody>\n",
       "</table>\n",
       "</div>"
      ],
      "text/plain": [
       "                      purpose lemmatize_purpose\n",
       "0               покупка жилья      недвижимость\n",
       "1     приобретение автомобиля        автомобиль\n",
       "2               покупка жилья      недвижимость\n",
       "3  дополнительное образование       образование\n",
       "4             сыграть свадьбу           свадьба\n",
       "5               покупка жилья      недвижимость\n",
       "6           операции с жильем      недвижимость\n",
       "7                 образование       образование\n",
       "8       на проведение свадьбы           свадьба\n",
       "9     покупка жилья для семьи      недвижимость"
      ]
     },
     "execution_count": 53,
     "metadata": {},
     "output_type": "execute_result"
    }
   ],
   "source": [
    "data[['purpose', 'lemmatize_purpose']].head(10)"
   ]
  },
  {
   "cell_type": "code",
   "execution_count": 54,
   "metadata": {},
   "outputs": [
    {
     "data": {
      "text/plain": [
       "0"
      ]
     },
     "execution_count": 54,
     "metadata": {},
     "output_type": "execute_result"
    }
   ],
   "source": [
    "data.lemmatize_purpose.isna().sum()"
   ]
  },
  {
   "cell_type": "markdown",
   "metadata": {},
   "source": [
    "#### Вывод"
   ]
  },
  {
   "cell_type": "markdown",
   "metadata": {},
   "source": [
    "Была проведена лемматизация целей кредита с помощью библиотеки pymystem3. Теперь осуществлять поиск по целям кредита стало проще."
   ]
  },
  {
   "cell_type": "markdown",
   "metadata": {},
   "source": [
    "### Категоризация данных"
   ]
  },
  {
   "cell_type": "markdown",
   "metadata": {},
   "source": [
    "Для проверки гипотез объединим данные в категории:\n",
    "\n",
    "1. Наличие/отсутствие детей\n",
    "2. Наличие/отсутствие брака\n",
    "3. Уровень дохода"
   ]
  },
  {
   "cell_type": "code",
   "execution_count": 55,
   "metadata": {},
   "outputs": [],
   "source": [
    "# Категоризация по наличию детей\n",
    "data['have_children'] = data['children'].apply(lambda x: x > 0)"
   ]
  },
  {
   "cell_type": "markdown",
   "metadata": {},
   "source": [
    "Выделим следующие типы отношений:"
   ]
  },
  {
   "cell_type": "code",
   "execution_count": 56,
   "metadata": {},
   "outputs": [],
   "source": [
    "family_status = data[['family_status_id', 'family_status']]"
   ]
  },
  {
   "cell_type": "code",
   "execution_count": 57,
   "metadata": {},
   "outputs": [
    {
     "data": {
      "text/html": [
       "<div>\n",
       "<style scoped>\n",
       "    .dataframe tbody tr th:only-of-type {\n",
       "        vertical-align: middle;\n",
       "    }\n",
       "\n",
       "    .dataframe tbody tr th {\n",
       "        vertical-align: top;\n",
       "    }\n",
       "\n",
       "    .dataframe thead th {\n",
       "        text-align: right;\n",
       "    }\n",
       "</style>\n",
       "<table border=\"1\" class=\"dataframe\">\n",
       "  <thead>\n",
       "    <tr style=\"text-align: right;\">\n",
       "      <th></th>\n",
       "      <th>family_status_id</th>\n",
       "      <th>family_status</th>\n",
       "    </tr>\n",
       "  </thead>\n",
       "  <tbody>\n",
       "    <tr>\n",
       "      <th>0</th>\n",
       "      <td>0</td>\n",
       "      <td>женат / замужем</td>\n",
       "    </tr>\n",
       "    <tr>\n",
       "      <th>1</th>\n",
       "      <td>1</td>\n",
       "      <td>гражданский брак</td>\n",
       "    </tr>\n",
       "    <tr>\n",
       "      <th>2</th>\n",
       "      <td>2</td>\n",
       "      <td>вдовец / вдова</td>\n",
       "    </tr>\n",
       "    <tr>\n",
       "      <th>3</th>\n",
       "      <td>3</td>\n",
       "      <td>в разводе</td>\n",
       "    </tr>\n",
       "    <tr>\n",
       "      <th>4</th>\n",
       "      <td>4</td>\n",
       "      <td>Не женат / не замужем</td>\n",
       "    </tr>\n",
       "  </tbody>\n",
       "</table>\n",
       "</div>"
      ],
      "text/plain": [
       "   family_status_id          family_status\n",
       "0                 0        женат / замужем\n",
       "1                 1       гражданский брак\n",
       "2                 2         вдовец / вдова\n",
       "3                 3              в разводе\n",
       "4                 4  Не женат / не замужем"
      ]
     },
     "execution_count": 57,
     "metadata": {},
     "output_type": "execute_result"
    }
   ],
   "source": [
    "family_status.drop_duplicates().reset_index(drop=True)"
   ]
  },
  {
   "cell_type": "markdown",
   "metadata": {},
   "source": [
    "Имеется 5 типов которые можно классифицировать: имеется брак `family_status_id = 0, 1`/брак отсутствует `family_status_id = 2, 3, 4`, все это будет выведено в столбец `is_married`."
   ]
  },
  {
   "cell_type": "code",
   "execution_count": 58,
   "metadata": {},
   "outputs": [],
   "source": [
    "# Категоризация по наличию брака\n",
    "data['is_married'] = data['family_status_id'].apply(lambda x: x == 0 or x == 1)"
   ]
  },
  {
   "cell_type": "markdown",
   "metadata": {},
   "source": [
    "За уровень дохода примем 25, 50, 75 процентили. Выделим 4 подкатегории: меньше 25 процентиля - очень низкий, между 25 и 50 - средний, от 50 до 75 - высокий, выше 75 - очень высокий."
   ]
  },
  {
   "cell_type": "code",
   "execution_count": 59,
   "metadata": {},
   "outputs": [],
   "source": [
    "# Категоризация по уровню дохода\n",
    "def get_string_income(income, low, middle, high):\n",
    "    \"\"\"\n",
    "    income - уровень дохода\n",
    "    low - уровень дохода соответствующий низкому\n",
    "    middle - уровень дохода соответствующий среднему\n",
    "    high - уровень дохода соответствующий высокому\n",
    "    \n",
    "    \"\"\"\n",
    "    \n",
    "    if income < low:\n",
    "        return 'очень низкий'\n",
    "    elif low <= income <= middle:\n",
    "        return 'средний'\n",
    "    elif middle < income <= high:\n",
    "        return 'высокий'\n",
    "    else:\n",
    "        return 'очень высокий'"
   ]
  },
  {
   "cell_type": "code",
   "execution_count": 60,
   "metadata": {},
   "outputs": [],
   "source": [
    "low = data['total_income'].quantile(0.25)\n",
    "middle = data['total_income'].quantile(0.5)\n",
    "high = data['total_income'].quantile(0.75)"
   ]
  },
  {
   "cell_type": "code",
   "execution_count": 61,
   "metadata": {},
   "outputs": [],
   "source": [
    "data['income'] = (data['total_income'] \n",
    "                .apply(get_string_income, low=low, middle=middle, high=high))"
   ]
  },
  {
   "cell_type": "markdown",
   "metadata": {},
   "source": [
    "#### Вывод"
   ]
  },
  {
   "cell_type": "markdown",
   "metadata": {},
   "source": [
    "Были выделены три категории: наличие брака, наличие детей, уровень дохода, все эти категории помогут ответить на выдвинутые гипотезы. "
   ]
  },
  {
   "cell_type": "markdown",
   "metadata": {},
   "source": [
    "## Проверка гипотез"
   ]
  },
  {
   "cell_type": "markdown",
   "metadata": {},
   "source": [
    "***Проверим гипотезу: есть ли зависимость между наличием детей и возвратом кредита в срок?***"
   ]
  },
  {
   "cell_type": "code",
   "execution_count": 62,
   "metadata": {},
   "outputs": [
    {
     "data": {
      "text/html": [
       "<div>\n",
       "<style scoped>\n",
       "    .dataframe tbody tr th:only-of-type {\n",
       "        vertical-align: middle;\n",
       "    }\n",
       "\n",
       "    .dataframe tbody tr th {\n",
       "        vertical-align: top;\n",
       "    }\n",
       "\n",
       "    .dataframe thead th {\n",
       "        text-align: right;\n",
       "    }\n",
       "</style>\n",
       "<table border=\"1\" class=\"dataframe\">\n",
       "  <thead>\n",
       "    <tr style=\"text-align: right;\">\n",
       "      <th></th>\n",
       "      <th>have_children</th>\n",
       "      <th>debt</th>\n",
       "    </tr>\n",
       "  </thead>\n",
       "  <tbody>\n",
       "    <tr>\n",
       "      <th>0</th>\n",
       "      <td>False</td>\n",
       "      <td>0.075460</td>\n",
       "    </tr>\n",
       "    <tr>\n",
       "      <th>1</th>\n",
       "      <td>True</td>\n",
       "      <td>0.091959</td>\n",
       "    </tr>\n",
       "  </tbody>\n",
       "</table>\n",
       "</div>"
      ],
      "text/plain": [
       "   have_children      debt\n",
       "0          False  0.075460\n",
       "1           True  0.091959"
      ]
     },
     "execution_count": 62,
     "metadata": {},
     "output_type": "execute_result"
    }
   ],
   "source": [
    "data.groupby('have_children', as_index=False).agg({'debt': 'mean'})"
   ]
  },
  {
   "cell_type": "markdown",
   "metadata": {},
   "source": [
    "Наличие детей увеличивает шанс невозврата кредита. Проверим, увеличивает ли этот процент количество детей."
   ]
  },
  {
   "cell_type": "code",
   "execution_count": 63,
   "metadata": {
    "scrolled": true
   },
   "outputs": [
    {
     "data": {
      "text/html": [
       "<div>\n",
       "<style scoped>\n",
       "    .dataframe tbody tr th:only-of-type {\n",
       "        vertical-align: middle;\n",
       "    }\n",
       "\n",
       "    .dataframe tbody tr th {\n",
       "        vertical-align: top;\n",
       "    }\n",
       "\n",
       "    .dataframe thead th {\n",
       "        text-align: right;\n",
       "    }\n",
       "</style>\n",
       "<table border=\"1\" class=\"dataframe\">\n",
       "  <thead>\n",
       "    <tr style=\"text-align: right;\">\n",
       "      <th></th>\n",
       "      <th>children</th>\n",
       "      <th>debt</th>\n",
       "    </tr>\n",
       "  </thead>\n",
       "  <tbody>\n",
       "    <tr>\n",
       "      <th>0</th>\n",
       "      <td>0</td>\n",
       "      <td>0.075460</td>\n",
       "    </tr>\n",
       "    <tr>\n",
       "      <th>1</th>\n",
       "      <td>1</td>\n",
       "      <td>0.091471</td>\n",
       "    </tr>\n",
       "    <tr>\n",
       "      <th>2</th>\n",
       "      <td>2</td>\n",
       "      <td>0.094542</td>\n",
       "    </tr>\n",
       "    <tr>\n",
       "      <th>3</th>\n",
       "      <td>3</td>\n",
       "      <td>0.081818</td>\n",
       "    </tr>\n",
       "    <tr>\n",
       "      <th>4</th>\n",
       "      <td>4</td>\n",
       "      <td>0.097561</td>\n",
       "    </tr>\n",
       "    <tr>\n",
       "      <th>5</th>\n",
       "      <td>5</td>\n",
       "      <td>0.000000</td>\n",
       "    </tr>\n",
       "    <tr>\n",
       "      <th>6</th>\n",
       "      <td>20</td>\n",
       "      <td>0.105263</td>\n",
       "    </tr>\n",
       "  </tbody>\n",
       "</table>\n",
       "</div>"
      ],
      "text/plain": [
       "   children      debt\n",
       "0         0  0.075460\n",
       "1         1  0.091471\n",
       "2         2  0.094542\n",
       "3         3  0.081818\n",
       "4         4  0.097561\n",
       "5         5  0.000000\n",
       "6        20  0.105263"
      ]
     },
     "execution_count": 63,
     "metadata": {},
     "output_type": "execute_result"
    }
   ],
   "source": [
    "data.groupby('children', as_index=False).agg({'debt': 'mean'})"
   ]
  },
  {
   "cell_type": "markdown",
   "metadata": {},
   "source": [
    "Цифры плюс-минус одинаковые, если не считать случаев когда количество детей равно 5."
   ]
  },
  {
   "cell_type": "markdown",
   "metadata": {},
   "source": [
    "**Вывод**"
   ]
  },
  {
   "cell_type": "markdown",
   "metadata": {},
   "source": [
    "Гипотеза подтвердилась, наличие детей сказывается на шанс невозврата кредита, количество детей практически не сказывается на этом показателе."
   ]
  },
  {
   "cell_type": "markdown",
   "metadata": {},
   "source": [
    "***Проверим гипотезу: есть ли зависимость между семейным положением и возвратом кредита в срок?***"
   ]
  },
  {
   "cell_type": "code",
   "execution_count": 64,
   "metadata": {},
   "outputs": [
    {
     "data": {
      "text/html": [
       "<div>\n",
       "<style scoped>\n",
       "    .dataframe tbody tr th:only-of-type {\n",
       "        vertical-align: middle;\n",
       "    }\n",
       "\n",
       "    .dataframe tbody tr th {\n",
       "        vertical-align: top;\n",
       "    }\n",
       "\n",
       "    .dataframe thead th {\n",
       "        text-align: right;\n",
       "    }\n",
       "</style>\n",
       "<table border=\"1\" class=\"dataframe\">\n",
       "  <thead>\n",
       "    <tr style=\"text-align: right;\">\n",
       "      <th></th>\n",
       "      <th>is_married</th>\n",
       "      <th>debt</th>\n",
       "    </tr>\n",
       "  </thead>\n",
       "  <tbody>\n",
       "    <tr>\n",
       "      <th>0</th>\n",
       "      <td>False</td>\n",
       "      <td>0.085012</td>\n",
       "    </tr>\n",
       "    <tr>\n",
       "      <th>1</th>\n",
       "      <td>True</td>\n",
       "      <td>0.079951</td>\n",
       "    </tr>\n",
       "  </tbody>\n",
       "</table>\n",
       "</div>"
      ],
      "text/plain": [
       "   is_married      debt\n",
       "0       False  0.085012\n",
       "1        True  0.079951"
      ]
     },
     "execution_count": 64,
     "metadata": {},
     "output_type": "execute_result"
    }
   ],
   "source": [
    "data.groupby('is_married', as_index=False).agg({'debt': 'mean'})"
   ]
  },
  {
   "cell_type": "markdown",
   "metadata": {},
   "source": [
    "**Вывод**"
   ]
  },
  {
   "cell_type": "markdown",
   "metadata": {},
   "source": [
    "Зависимость действительно есть, люди несостоящие в браке реже возвращают кредит."
   ]
  },
  {
   "cell_type": "markdown",
   "metadata": {},
   "source": [
    "***Проверим гипотезу: есть ли зависимость между уровнем дохода и возвратом кредита в срок?***"
   ]
  },
  {
   "cell_type": "code",
   "execution_count": 65,
   "metadata": {},
   "outputs": [
    {
     "data": {
      "text/html": [
       "<div>\n",
       "<style scoped>\n",
       "    .dataframe tbody tr th:only-of-type {\n",
       "        vertical-align: middle;\n",
       "    }\n",
       "\n",
       "    .dataframe tbody tr th {\n",
       "        vertical-align: top;\n",
       "    }\n",
       "\n",
       "    .dataframe thead th {\n",
       "        text-align: right;\n",
       "    }\n",
       "</style>\n",
       "<table border=\"1\" class=\"dataframe\">\n",
       "  <thead>\n",
       "    <tr style=\"text-align: right;\">\n",
       "      <th></th>\n",
       "      <th>income</th>\n",
       "      <th>debt</th>\n",
       "    </tr>\n",
       "  </thead>\n",
       "  <tbody>\n",
       "    <tr>\n",
       "      <th>1</th>\n",
       "      <td>очень высокий</td>\n",
       "      <td>0.071429</td>\n",
       "    </tr>\n",
       "    <tr>\n",
       "      <th>2</th>\n",
       "      <td>очень низкий</td>\n",
       "      <td>0.079448</td>\n",
       "    </tr>\n",
       "    <tr>\n",
       "      <th>0</th>\n",
       "      <td>высокий</td>\n",
       "      <td>0.085415</td>\n",
       "    </tr>\n",
       "    <tr>\n",
       "      <th>3</th>\n",
       "      <td>средний</td>\n",
       "      <td>0.088139</td>\n",
       "    </tr>\n",
       "  </tbody>\n",
       "</table>\n",
       "</div>"
      ],
      "text/plain": [
       "          income      debt\n",
       "1  очень высокий  0.071429\n",
       "2   очень низкий  0.079448\n",
       "0        высокий  0.085415\n",
       "3        средний  0.088139"
      ]
     },
     "execution_count": 65,
     "metadata": {},
     "output_type": "execute_result"
    }
   ],
   "source": [
    "data.groupby('income', as_index=False).agg({'debt': 'mean'}).sort_values('debt')"
   ]
  },
  {
   "cell_type": "markdown",
   "metadata": {},
   "source": [
    "**Вывод**"
   ]
  },
  {
   "cell_type": "markdown",
   "metadata": {},
   "source": [
    "Самыми платежеспособными оказались те у кого доход или очень низкий, или очень высокий, у кого же доход ближе к среднему хуже платят по кредиту."
   ]
  },
  {
   "cell_type": "markdown",
   "metadata": {},
   "source": [
    "***Проверим гипотезу: как разные цели кредита влияют на его возврат в срок?***"
   ]
  },
  {
   "cell_type": "code",
   "execution_count": 66,
   "metadata": {},
   "outputs": [
    {
     "data": {
      "text/html": [
       "<div>\n",
       "<style scoped>\n",
       "    .dataframe tbody tr th:only-of-type {\n",
       "        vertical-align: middle;\n",
       "    }\n",
       "\n",
       "    .dataframe tbody tr th {\n",
       "        vertical-align: top;\n",
       "    }\n",
       "\n",
       "    .dataframe thead th {\n",
       "        text-align: right;\n",
       "    }\n",
       "</style>\n",
       "<table border=\"1\" class=\"dataframe\">\n",
       "  <thead>\n",
       "    <tr style=\"text-align: right;\">\n",
       "      <th></th>\n",
       "      <th>lemmatize_purpose</th>\n",
       "      <th>debt</th>\n",
       "    </tr>\n",
       "  </thead>\n",
       "  <tbody>\n",
       "    <tr>\n",
       "      <th>1</th>\n",
       "      <td>недвижимость</td>\n",
       "      <td>0.072268</td>\n",
       "    </tr>\n",
       "    <tr>\n",
       "      <th>3</th>\n",
       "      <td>свадьба</td>\n",
       "      <td>0.080069</td>\n",
       "    </tr>\n",
       "    <tr>\n",
       "      <th>2</th>\n",
       "      <td>образование</td>\n",
       "      <td>0.092200</td>\n",
       "    </tr>\n",
       "    <tr>\n",
       "      <th>0</th>\n",
       "      <td>автомобиль</td>\n",
       "      <td>0.093590</td>\n",
       "    </tr>\n",
       "  </tbody>\n",
       "</table>\n",
       "</div>"
      ],
      "text/plain": [
       "  lemmatize_purpose      debt\n",
       "1      недвижимость  0.072268\n",
       "3           свадьба  0.080069\n",
       "2       образование  0.092200\n",
       "0        автомобиль  0.093590"
      ]
     },
     "execution_count": 66,
     "metadata": {},
     "output_type": "execute_result"
    }
   ],
   "source": [
    "data.groupby('lemmatize_purpose', as_index=False).agg({'debt': 'mean'}).sort_values('debt')"
   ]
  },
  {
   "cell_type": "markdown",
   "metadata": {},
   "source": [
    "**Вывод**"
   ]
  },
  {
   "cell_type": "markdown",
   "metadata": {},
   "source": [
    "Самой выгодной целью в плане кредитования оказалась недвижимость, затем свадьба, образование и завершает все покупка автомобиля."
   ]
  },
  {
   "cell_type": "markdown",
   "metadata": {},
   "source": [
    "## Общий вывод"
   ]
  },
  {
   "cell_type": "markdown",
   "metadata": {},
   "source": [
    "* Первая гипотеза подтвердилась, наличие детей действительно сказывается на шанс невозврата кредита, а вот количество практически не сказывается на этом показателе.\n",
    "* Вторая гипотеза тоже подтвердилась зависимость действительно есть, люди несостоящие в браке реже возвращают кредит.\n",
    "* Самыми платежеспособными оказались те у кого доход или очень низкий, или очень высокий, у кого же доход ближе к среднему хуже платят по кредиту.\n",
    "* Самой выгодной целью в плане кредитования оказалась недвижимость, затем свадьба, образование и завершает все покупка автомобиля.\n"
   ]
  },
  {
   "cell_type": "markdown",
   "metadata": {},
   "source": [
    "Узнаем какой тип человека реже всего отдает кредит, для этого соберем данные в сводную таблицу, так как наличие детей напрямую сказывается на невозврат кредита, включим только эту категорию."
   ]
  },
  {
   "cell_type": "code",
   "execution_count": 67,
   "metadata": {},
   "outputs": [],
   "source": [
    "conclusion = (data.query(\"have_children == True\"). \n",
    "                    pivot_table(index='lemmatize_purpose', \n",
    "                                 columns=['income', 'is_married'], \n",
    "                                 values='debt', \n",
    "                                 aggfunc='mean', \n",
    "                                 fill_value=0))"
   ]
  },
  {
   "cell_type": "code",
   "execution_count": 68,
   "metadata": {
    "scrolled": true
   },
   "outputs": [
    {
     "data": {
      "text/html": [
       "<div>\n",
       "<style scoped>\n",
       "    .dataframe tbody tr th:only-of-type {\n",
       "        vertical-align: middle;\n",
       "    }\n",
       "\n",
       "    .dataframe tbody tr th {\n",
       "        vertical-align: top;\n",
       "    }\n",
       "\n",
       "    .dataframe thead tr th {\n",
       "        text-align: left;\n",
       "    }\n",
       "\n",
       "    .dataframe thead tr:last-of-type th {\n",
       "        text-align: right;\n",
       "    }\n",
       "</style>\n",
       "<table border=\"1\" class=\"dataframe\">\n",
       "  <thead>\n",
       "    <tr>\n",
       "      <th>income</th>\n",
       "      <th colspan=\"2\" halign=\"left\">высокий</th>\n",
       "      <th colspan=\"2\" halign=\"left\">очень высокий</th>\n",
       "      <th colspan=\"2\" halign=\"left\">очень низкий</th>\n",
       "      <th colspan=\"2\" halign=\"left\">средний</th>\n",
       "    </tr>\n",
       "    <tr>\n",
       "      <th>is_married</th>\n",
       "      <th>False</th>\n",
       "      <th>True</th>\n",
       "      <th>False</th>\n",
       "      <th>True</th>\n",
       "      <th>False</th>\n",
       "      <th>True</th>\n",
       "      <th>False</th>\n",
       "      <th>True</th>\n",
       "    </tr>\n",
       "    <tr>\n",
       "      <th>lemmatize_purpose</th>\n",
       "      <th></th>\n",
       "      <th></th>\n",
       "      <th></th>\n",
       "      <th></th>\n",
       "      <th></th>\n",
       "      <th></th>\n",
       "      <th></th>\n",
       "      <th></th>\n",
       "    </tr>\n",
       "  </thead>\n",
       "  <tbody>\n",
       "    <tr>\n",
       "      <th>автомобиль</th>\n",
       "      <td>0.250000</td>\n",
       "      <td>0.110749</td>\n",
       "      <td>0.094340</td>\n",
       "      <td>0.090909</td>\n",
       "      <td>0.020408</td>\n",
       "      <td>0.131387</td>\n",
       "      <td>0.117647</td>\n",
       "      <td>0.101307</td>\n",
       "    </tr>\n",
       "    <tr>\n",
       "      <th>недвижимость</th>\n",
       "      <td>0.102410</td>\n",
       "      <td>0.076923</td>\n",
       "      <td>0.095541</td>\n",
       "      <td>0.072202</td>\n",
       "      <td>0.097222</td>\n",
       "      <td>0.078103</td>\n",
       "      <td>0.081761</td>\n",
       "      <td>0.089514</td>\n",
       "    </tr>\n",
       "    <tr>\n",
       "      <th>образование</th>\n",
       "      <td>0.038462</td>\n",
       "      <td>0.109635</td>\n",
       "      <td>0.060000</td>\n",
       "      <td>0.097378</td>\n",
       "      <td>0.064516</td>\n",
       "      <td>0.092527</td>\n",
       "      <td>0.152542</td>\n",
       "      <td>0.127090</td>\n",
       "    </tr>\n",
       "    <tr>\n",
       "      <th>свадьба</th>\n",
       "      <td>0.000000</td>\n",
       "      <td>0.115789</td>\n",
       "      <td>0.000000</td>\n",
       "      <td>0.029268</td>\n",
       "      <td>0.000000</td>\n",
       "      <td>0.138462</td>\n",
       "      <td>0.000000</td>\n",
       "      <td>0.078431</td>\n",
       "    </tr>\n",
       "  </tbody>\n",
       "</table>\n",
       "</div>"
      ],
      "text/plain": [
       "income              высокий           очень высокий           очень низкий  \\\n",
       "is_married            False      True         False      True        False   \n",
       "lemmatize_purpose                                                            \n",
       "автомобиль         0.250000  0.110749      0.094340  0.090909     0.020408   \n",
       "недвижимость       0.102410  0.076923      0.095541  0.072202     0.097222   \n",
       "образование        0.038462  0.109635      0.060000  0.097378     0.064516   \n",
       "свадьба            0.000000  0.115789      0.000000  0.029268     0.000000   \n",
       "\n",
       "income                        средний            \n",
       "is_married             True     False      True  \n",
       "lemmatize_purpose                                \n",
       "автомобиль         0.131387  0.117647  0.101307  \n",
       "недвижимость       0.078103  0.081761  0.089514  \n",
       "образование        0.092527  0.152542  0.127090  \n",
       "свадьба            0.138462  0.000000  0.078431  "
      ]
     },
     "execution_count": 68,
     "metadata": {},
     "output_type": "execute_result"
    }
   ],
   "source": [
    "conclusion"
   ]
  },
  {
   "cell_type": "markdown",
   "metadata": {},
   "source": [
    "Теперь оставим только тот тип заемщика который хуже всего отдает кредит."
   ]
  },
  {
   "cell_type": "code",
   "execution_count": 69,
   "metadata": {},
   "outputs": [],
   "source": [
    "debt = (conclusion\n",
    "        .unstack()\n",
    "        .to_frame() \n",
    "        .rename(columns={0: 'debt'}) \n",
    "        .reset_index() \n",
    "        .query(\"debt > 0\") \n",
    "        .sort_values('debt'))"
   ]
  },
  {
   "cell_type": "code",
   "execution_count": 70,
   "metadata": {},
   "outputs": [
    {
     "data": {
      "text/html": [
       "<div>\n",
       "<style scoped>\n",
       "    .dataframe tbody tr th:only-of-type {\n",
       "        vertical-align: middle;\n",
       "    }\n",
       "\n",
       "    .dataframe tbody tr th {\n",
       "        vertical-align: top;\n",
       "    }\n",
       "\n",
       "    .dataframe thead th {\n",
       "        text-align: right;\n",
       "    }\n",
       "</style>\n",
       "<table border=\"1\" class=\"dataframe\">\n",
       "  <thead>\n",
       "    <tr style=\"text-align: right;\">\n",
       "      <th></th>\n",
       "      <th>income</th>\n",
       "      <th>is_married</th>\n",
       "      <th>lemmatize_purpose</th>\n",
       "      <th>debt</th>\n",
       "    </tr>\n",
       "  </thead>\n",
       "  <tbody>\n",
       "    <tr>\n",
       "      <th>0</th>\n",
       "      <td>высокий</td>\n",
       "      <td>False</td>\n",
       "      <td>автомобиль</td>\n",
       "      <td>0.25</td>\n",
       "    </tr>\n",
       "  </tbody>\n",
       "</table>\n",
       "</div>"
      ],
      "text/plain": [
       "    income  is_married lemmatize_purpose  debt\n",
       "0  высокий       False        автомобиль  0.25"
      ]
     },
     "execution_count": 70,
     "metadata": {},
     "output_type": "execute_result"
    }
   ],
   "source": [
    "debt.tail(1)"
   ]
  },
  {
   "cell_type": "markdown",
   "metadata": {},
   "source": [
    "Как можно видеть, кредит выданный человеку с высоким уровнем дохода, не состоящему в браке, с ребенком и под покупку автомобиля невозвращается в 25% случаев."
   ]
  },
  {
   "cell_type": "markdown",
   "metadata": {},
   "source": [
    "Так же хотелось бы отметить что для данного исследования стаж, образование и гендер не представляли интереса, и именно в этих данных закрались ошибки. Регистр в образовании легко поправить если пользователь будет его вводить не вручную, а путем выбора из предложенных вариантов, гендер, скорее всего, просто ошибка при выгрузке данных. Что касается стажа, то тут либо человеческая, либо техническая ошибка и последнее скорее всего, так как кроме отрицательных значений, предобработка выявила слишком большие цифры, которые вряд ли ввел бы человек."
   ]
  },
  {
   "cell_type": "code",
   "execution_count": null,
   "metadata": {},
   "outputs": [],
   "source": []
  }
 ],
 "metadata": {
  "ExecuteTimeLog": [
   {
    "duration": 772,
    "start_time": "2022-01-05T10:32:44.457Z"
   },
   {
    "duration": 4,
    "start_time": "2022-01-05T10:32:47.145Z"
   },
   {
    "duration": 68,
    "start_time": "2022-01-05T10:33:20.924Z"
   },
   {
    "duration": 16,
    "start_time": "2022-01-05T10:33:34.575Z"
   },
   {
    "duration": 31,
    "start_time": "2022-01-05T10:39:23.405Z"
   },
   {
    "duration": 19,
    "start_time": "2022-01-05T10:46:21.341Z"
   },
   {
    "duration": 11,
    "start_time": "2022-01-05T10:47:35.157Z"
   },
   {
    "duration": 21,
    "start_time": "2022-01-05T10:49:07.911Z"
   },
   {
    "duration": 66,
    "start_time": "2022-01-05T10:49:18.624Z"
   },
   {
    "duration": 50,
    "start_time": "2022-01-05T10:52:57.157Z"
   },
   {
    "duration": 33,
    "start_time": "2022-01-05T10:55:03.951Z"
   },
   {
    "duration": 10,
    "start_time": "2022-01-05T10:58:10.155Z"
   },
   {
    "duration": 11,
    "start_time": "2022-01-05T10:58:25.969Z"
   },
   {
    "duration": 12,
    "start_time": "2022-01-05T11:00:16.643Z"
   },
   {
    "duration": 348,
    "start_time": "2022-01-05T11:02:09.109Z"
   },
   {
    "duration": 13,
    "start_time": "2022-01-05T11:02:24.680Z"
   },
   {
    "duration": 14,
    "start_time": "2022-01-05T11:13:04.983Z"
   },
   {
    "duration": 20,
    "start_time": "2022-01-05T11:13:21.133Z"
   },
   {
    "duration": 23,
    "start_time": "2022-01-05T11:13:48.825Z"
   },
   {
    "duration": 10,
    "start_time": "2022-01-05T11:17:25.545Z"
   },
   {
    "duration": 286,
    "start_time": "2022-01-05T11:17:41.147Z"
   },
   {
    "duration": 262,
    "start_time": "2022-01-05T11:17:45.423Z"
   },
   {
    "duration": 9,
    "start_time": "2022-01-05T11:17:56.205Z"
   },
   {
    "duration": 34,
    "start_time": "2022-01-05T11:18:11.764Z"
   },
   {
    "duration": 17,
    "start_time": "2022-01-05T11:21:13.267Z"
   },
   {
    "duration": 28,
    "start_time": "2022-01-05T11:21:18.547Z"
   },
   {
    "duration": 27,
    "start_time": "2022-01-05T11:21:53.933Z"
   },
   {
    "duration": 39,
    "start_time": "2022-01-05T11:22:55.661Z"
   },
   {
    "duration": 30,
    "start_time": "2022-01-05T11:30:50.149Z"
   },
   {
    "duration": 15,
    "start_time": "2022-01-05T11:31:09.928Z"
   },
   {
    "duration": 15,
    "start_time": "2022-01-05T11:32:15.120Z"
   },
   {
    "duration": 62,
    "start_time": "2022-01-05T11:35:07.063Z"
   },
   {
    "duration": 35,
    "start_time": "2022-01-05T11:35:34.234Z"
   },
   {
    "duration": 31,
    "start_time": "2022-01-05T11:39:50.939Z"
   },
   {
    "duration": 14,
    "start_time": "2022-01-05T11:40:13.148Z"
   },
   {
    "duration": 14,
    "start_time": "2022-01-05T11:40:53.000Z"
   },
   {
    "duration": 266,
    "start_time": "2022-01-05T11:41:12.910Z"
   },
   {
    "duration": 13,
    "start_time": "2022-01-05T11:41:27.402Z"
   },
   {
    "duration": 277,
    "start_time": "2022-01-05T11:41:36.657Z"
   },
   {
    "duration": 104,
    "start_time": "2022-01-05T11:42:26.740Z"
   },
   {
    "duration": 267,
    "start_time": "2022-01-05T11:42:34.667Z"
   },
   {
    "duration": 13,
    "start_time": "2022-01-05T11:42:43.604Z"
   },
   {
    "duration": 15,
    "start_time": "2022-01-05T11:44:01.113Z"
   },
   {
    "duration": 13,
    "start_time": "2022-01-05T11:44:10.595Z"
   },
   {
    "duration": 269,
    "start_time": "2022-01-05T11:55:18.814Z"
   },
   {
    "duration": 11,
    "start_time": "2022-01-05T11:55:25.018Z"
   },
   {
    "duration": 41,
    "start_time": "2022-01-05T11:55:28.264Z"
   },
   {
    "duration": 33,
    "start_time": "2022-01-05T11:55:43.291Z"
   },
   {
    "duration": 12,
    "start_time": "2022-01-05T11:58:50.624Z"
   },
   {
    "duration": 13,
    "start_time": "2022-01-05T11:58:55.138Z"
   },
   {
    "duration": 86,
    "start_time": "2022-01-05T12:01:51.452Z"
   },
   {
    "duration": 82,
    "start_time": "2022-01-05T12:01:57.458Z"
   },
   {
    "duration": 5,
    "start_time": "2022-01-05T12:02:23.004Z"
   },
   {
    "duration": 100,
    "start_time": "2022-01-05T12:02:49.934Z"
   },
   {
    "duration": 87,
    "start_time": "2022-01-05T12:03:03.547Z"
   },
   {
    "duration": 288,
    "start_time": "2022-01-05T12:03:21.326Z"
   },
   {
    "duration": 7,
    "start_time": "2022-01-05T12:04:10.966Z"
   },
   {
    "duration": 9,
    "start_time": "2022-01-05T12:04:18.132Z"
   },
   {
    "duration": 18,
    "start_time": "2022-01-05T12:05:24.258Z"
   },
   {
    "duration": 47,
    "start_time": "2022-01-05T12:07:12.386Z"
   },
   {
    "duration": 37,
    "start_time": "2022-01-05T12:07:47.811Z"
   },
   {
    "duration": 11,
    "start_time": "2022-01-05T12:08:17.744Z"
   },
   {
    "duration": 14,
    "start_time": "2022-01-05T12:08:24.259Z"
   },
   {
    "duration": 11,
    "start_time": "2022-01-05T12:08:28.156Z"
   },
   {
    "duration": 59,
    "start_time": "2022-01-05T12:08:57.448Z"
   },
   {
    "duration": 13,
    "start_time": "2022-01-05T12:09:05.212Z"
   },
   {
    "duration": 12,
    "start_time": "2022-01-05T12:09:43.678Z"
   },
   {
    "duration": 12,
    "start_time": "2022-01-05T12:09:49.694Z"
   },
   {
    "duration": 13,
    "start_time": "2022-01-05T12:09:53.857Z"
   },
   {
    "duration": 13,
    "start_time": "2022-01-05T12:10:07.958Z"
   },
   {
    "duration": 12,
    "start_time": "2022-01-05T12:10:25.062Z"
   },
   {
    "duration": 11,
    "start_time": "2022-01-05T12:14:57.194Z"
   },
   {
    "duration": 8,
    "start_time": "2022-01-05T12:15:12.744Z"
   },
   {
    "duration": 140,
    "start_time": "2022-01-05T12:15:51.219Z"
   },
   {
    "duration": 13,
    "start_time": "2022-01-05T12:17:08.548Z"
   },
   {
    "duration": 12,
    "start_time": "2022-01-05T12:17:11.122Z"
   },
   {
    "duration": 5,
    "start_time": "2022-01-05T12:19:30.734Z"
   },
   {
    "duration": 6,
    "start_time": "2022-01-05T12:19:49.008Z"
   },
   {
    "duration": 10,
    "start_time": "2022-01-05T12:22:43.924Z"
   },
   {
    "duration": 13,
    "start_time": "2022-01-05T12:22:55.808Z"
   },
   {
    "duration": 6,
    "start_time": "2022-01-05T12:22:57.825Z"
   },
   {
    "duration": 12,
    "start_time": "2022-01-05T13:10:22.760Z"
   },
   {
    "duration": 262,
    "start_time": "2022-01-05T13:10:32.421Z"
   },
   {
    "duration": 11,
    "start_time": "2022-01-05T13:10:35.669Z"
   },
   {
    "duration": 11,
    "start_time": "2022-01-05T13:13:25.683Z"
   },
   {
    "duration": 5,
    "start_time": "2022-01-05T13:16:32.211Z"
   },
   {
    "duration": 8,
    "start_time": "2022-01-05T13:16:37.963Z"
   },
   {
    "duration": 5,
    "start_time": "2022-01-05T13:17:20.773Z"
   },
   {
    "duration": 39,
    "start_time": "2022-01-05T13:23:18.531Z"
   },
   {
    "duration": 9,
    "start_time": "2022-01-05T13:23:31.537Z"
   },
   {
    "duration": 6,
    "start_time": "2022-01-05T13:24:16.497Z"
   },
   {
    "duration": 6,
    "start_time": "2022-01-05T13:24:34.437Z"
   },
   {
    "duration": 5,
    "start_time": "2022-01-05T13:24:44.465Z"
   },
   {
    "duration": 41,
    "start_time": "2022-01-05T13:25:08.241Z"
   },
   {
    "duration": 46,
    "start_time": "2022-01-05T13:25:10.421Z"
   },
   {
    "duration": 10,
    "start_time": "2022-01-05T13:25:14.558Z"
   },
   {
    "duration": 300,
    "start_time": "2022-01-05T13:26:02.553Z"
   },
   {
    "duration": 38,
    "start_time": "2022-01-05T13:26:23.691Z"
   },
   {
    "duration": 6,
    "start_time": "2022-01-05T13:26:25.959Z"
   },
   {
    "duration": 257,
    "start_time": "2022-01-05T13:28:28.425Z"
   },
   {
    "duration": 32,
    "start_time": "2022-01-05T13:28:43.329Z"
   },
   {
    "duration": 5,
    "start_time": "2022-01-05T13:28:46.495Z"
   },
   {
    "duration": 11,
    "start_time": "2022-01-05T13:30:24.667Z"
   },
   {
    "duration": 30,
    "start_time": "2022-01-05T13:30:39.067Z"
   },
   {
    "duration": 5,
    "start_time": "2022-01-05T13:30:41.715Z"
   },
   {
    "duration": 15,
    "start_time": "2022-01-05T13:32:12.252Z"
   },
   {
    "duration": 14,
    "start_time": "2022-01-05T13:32:24.893Z"
   },
   {
    "duration": 14,
    "start_time": "2022-01-05T13:32:33.847Z"
   },
   {
    "duration": 39,
    "start_time": "2022-01-05T13:33:03.943Z"
   },
   {
    "duration": 37,
    "start_time": "2022-01-05T13:33:09.687Z"
   },
   {
    "duration": 17,
    "start_time": "2022-01-05T13:33:41.365Z"
   },
   {
    "duration": 37,
    "start_time": "2022-01-05T13:33:57.829Z"
   },
   {
    "duration": 36,
    "start_time": "2022-01-05T13:34:37.187Z"
   },
   {
    "duration": 19,
    "start_time": "2022-01-05T13:35:18.667Z"
   },
   {
    "duration": 10,
    "start_time": "2022-01-05T13:35:31.003Z"
   },
   {
    "duration": 295,
    "start_time": "2022-01-05T13:36:37.941Z"
   },
   {
    "duration": 48,
    "start_time": "2022-01-05T13:36:57.185Z"
   },
   {
    "duration": 10,
    "start_time": "2022-01-05T13:39:01.445Z"
   },
   {
    "duration": 16,
    "start_time": "2022-01-05T13:40:03.898Z"
   },
   {
    "duration": 15,
    "start_time": "2022-01-05T13:40:10.761Z"
   },
   {
    "duration": 38,
    "start_time": "2022-01-05T13:45:28.879Z"
   },
   {
    "duration": 15,
    "start_time": "2022-01-05T13:45:57.377Z"
   },
   {
    "duration": 10,
    "start_time": "2022-01-05T13:48:27.283Z"
   },
   {
    "duration": 10,
    "start_time": "2022-01-05T13:48:40.880Z"
   },
   {
    "duration": 10,
    "start_time": "2022-01-05T13:48:45.738Z"
   },
   {
    "duration": 23,
    "start_time": "2022-01-05T13:49:31.129Z"
   },
   {
    "duration": 15,
    "start_time": "2022-01-05T13:49:53.257Z"
   },
   {
    "duration": 12,
    "start_time": "2022-01-05T13:51:05.840Z"
   },
   {
    "duration": 12,
    "start_time": "2022-01-05T13:51:07.601Z"
   },
   {
    "duration": 62,
    "start_time": "2022-01-05T13:51:13.052Z"
   },
   {
    "duration": 6,
    "start_time": "2022-01-05T13:51:20.087Z"
   },
   {
    "duration": 48,
    "start_time": "2022-01-05T13:51:21.779Z"
   },
   {
    "duration": 8,
    "start_time": "2022-01-05T13:51:37.831Z"
   },
   {
    "duration": 11,
    "start_time": "2022-01-05T13:51:42.339Z"
   },
   {
    "duration": 90,
    "start_time": "2022-01-05T13:53:59.532Z"
   },
   {
    "duration": 85,
    "start_time": "2022-01-05T13:54:23.407Z"
   },
   {
    "duration": 16,
    "start_time": "2022-01-05T13:54:29.587Z"
   },
   {
    "duration": 14,
    "start_time": "2022-01-05T13:54:35.218Z"
   },
   {
    "duration": 8,
    "start_time": "2022-01-05T13:56:34.326Z"
   },
   {
    "duration": 6,
    "start_time": "2022-01-05T13:56:39.106Z"
   },
   {
    "duration": 26,
    "start_time": "2022-01-05T13:57:43.723Z"
   },
   {
    "duration": 5,
    "start_time": "2022-01-05T13:57:47.201Z"
   },
   {
    "duration": 10,
    "start_time": "2022-01-05T13:59:14.960Z"
   },
   {
    "duration": 8,
    "start_time": "2022-01-05T13:59:24.891Z"
   },
   {
    "duration": 20,
    "start_time": "2022-01-05T13:59:33.220Z"
   },
   {
    "duration": 10,
    "start_time": "2022-01-05T14:05:06.230Z"
   },
   {
    "duration": 11,
    "start_time": "2022-01-05T14:05:53.212Z"
   },
   {
    "duration": 13,
    "start_time": "2022-01-05T14:06:02.359Z"
   },
   {
    "duration": 26,
    "start_time": "2022-01-05T14:06:10.244Z"
   },
   {
    "duration": 5,
    "start_time": "2022-01-05T14:06:13.082Z"
   },
   {
    "duration": 8,
    "start_time": "2022-01-05T14:06:34.966Z"
   },
   {
    "duration": 21,
    "start_time": "2022-01-05T14:06:36.170Z"
   },
   {
    "duration": 5,
    "start_time": "2022-01-05T14:06:37.205Z"
   },
   {
    "duration": 6,
    "start_time": "2022-01-05T14:07:53.407Z"
   },
   {
    "duration": 23,
    "start_time": "2022-01-05T14:10:41.021Z"
   },
   {
    "duration": 5,
    "start_time": "2022-01-05T14:10:42.478Z"
   },
   {
    "duration": 21,
    "start_time": "2022-01-05T14:11:48.304Z"
   },
   {
    "duration": 5,
    "start_time": "2022-01-05T14:11:49.390Z"
   },
   {
    "duration": 104,
    "start_time": "2022-01-05T14:19:04.962Z"
   },
   {
    "duration": 19,
    "start_time": "2022-01-05T14:19:11.676Z"
   },
   {
    "duration": 13,
    "start_time": "2022-01-05T14:19:49.484Z"
   },
   {
    "duration": 11,
    "start_time": "2022-01-05T14:21:14.910Z"
   },
   {
    "duration": 56,
    "start_time": "2022-01-05T14:22:20.405Z"
   },
   {
    "duration": 17,
    "start_time": "2022-01-05T14:23:07.464Z"
   },
   {
    "duration": 6,
    "start_time": "2022-01-05T14:24:12.126Z"
   },
   {
    "duration": 5,
    "start_time": "2022-01-05T14:24:22.326Z"
   },
   {
    "duration": 35,
    "start_time": "2022-01-05T14:24:42.428Z"
   },
   {
    "duration": 41,
    "start_time": "2022-01-05T14:25:02.044Z"
   },
   {
    "duration": 16,
    "start_time": "2022-01-05T14:26:56.022Z"
   },
   {
    "duration": 45,
    "start_time": "2022-01-05T14:26:57.923Z"
   },
   {
    "duration": 12,
    "start_time": "2022-01-05T14:27:01.354Z"
   },
   {
    "duration": 13,
    "start_time": "2022-01-05T14:27:32.740Z"
   },
   {
    "duration": 12,
    "start_time": "2022-01-05T14:29:01.962Z"
   },
   {
    "duration": 6,
    "start_time": "2022-01-05T14:29:03.960Z"
   },
   {
    "duration": 37,
    "start_time": "2022-01-05T14:31:20.276Z"
   },
   {
    "duration": 13,
    "start_time": "2022-01-05T14:31:25.180Z"
   },
   {
    "duration": 8,
    "start_time": "2022-01-05T14:32:09.244Z"
   },
   {
    "duration": 17,
    "start_time": "2022-01-05T14:32:25.578Z"
   },
   {
    "duration": 3,
    "start_time": "2022-01-05T14:33:16.749Z"
   },
   {
    "duration": 63,
    "start_time": "2022-01-05T14:33:16.756Z"
   },
   {
    "duration": 14,
    "start_time": "2022-01-05T14:33:16.822Z"
   },
   {
    "duration": 33,
    "start_time": "2022-01-05T14:33:16.839Z"
   },
   {
    "duration": 13,
    "start_time": "2022-01-05T14:33:16.874Z"
   },
   {
    "duration": 51,
    "start_time": "2022-01-05T14:33:16.889Z"
   },
   {
    "duration": 15,
    "start_time": "2022-01-05T14:33:16.966Z"
   },
   {
    "duration": 35,
    "start_time": "2022-01-05T14:33:16.984Z"
   },
   {
    "duration": 5,
    "start_time": "2022-01-05T14:33:17.024Z"
   },
   {
    "duration": 85,
    "start_time": "2022-01-05T14:33:17.031Z"
   },
   {
    "duration": 9,
    "start_time": "2022-01-05T14:34:19.538Z"
   },
   {
    "duration": 10,
    "start_time": "2022-01-05T14:34:31.640Z"
   },
   {
    "duration": 10,
    "start_time": "2022-01-05T14:34:42.314Z"
   },
   {
    "duration": 15,
    "start_time": "2022-01-05T14:34:45.862Z"
   },
   {
    "duration": 13,
    "start_time": "2022-01-05T14:34:57.492Z"
   },
   {
    "duration": 11,
    "start_time": "2022-01-05T14:35:02.610Z"
   },
   {
    "duration": 8,
    "start_time": "2022-01-05T14:35:27.494Z"
   },
   {
    "duration": 15,
    "start_time": "2022-01-05T14:35:55.493Z"
   },
   {
    "duration": 21,
    "start_time": "2022-01-05T14:36:10.892Z"
   },
   {
    "duration": 16,
    "start_time": "2022-01-05T14:36:20.230Z"
   },
   {
    "duration": 13,
    "start_time": "2022-01-05T14:36:24.961Z"
   },
   {
    "duration": 7,
    "start_time": "2022-01-05T14:40:23.929Z"
   },
   {
    "duration": 18,
    "start_time": "2022-01-05T14:40:44.362Z"
   },
   {
    "duration": 1009,
    "start_time": "2022-01-05T14:51:29.992Z"
   },
   {
    "duration": 8,
    "start_time": "2022-01-05T14:52:00.640Z"
   },
   {
    "duration": 8,
    "start_time": "2022-01-05T14:52:06.380Z"
   },
   {
    "duration": 8,
    "start_time": "2022-01-05T14:52:56.860Z"
   },
   {
    "duration": 267,
    "start_time": "2022-01-05T14:53:17.290Z"
   },
   {
    "duration": 328,
    "start_time": "2022-01-05T14:53:36.058Z"
   },
   {
    "duration": 346,
    "start_time": "2022-01-05T14:53:54.220Z"
   },
   {
    "duration": 13,
    "start_time": "2022-01-05T14:54:40.796Z"
   },
   {
    "duration": 16,
    "start_time": "2022-01-05T14:56:09.956Z"
   },
   {
    "duration": 267,
    "start_time": "2022-01-05T14:56:35.275Z"
   },
   {
    "duration": 19,
    "start_time": "2022-01-05T14:56:38.353Z"
   },
   {
    "duration": 20,
    "start_time": "2022-01-05T14:56:50.316Z"
   },
   {
    "duration": 21,
    "start_time": "2022-01-05T14:56:55.618Z"
   },
   {
    "duration": 20,
    "start_time": "2022-01-05T14:57:24.477Z"
   },
   {
    "duration": 305,
    "start_time": "2022-01-05T14:58:01.161Z"
   },
   {
    "duration": 12,
    "start_time": "2022-01-05T14:58:14.443Z"
   },
   {
    "duration": 10,
    "start_time": "2022-01-05T14:58:57.473Z"
   },
   {
    "duration": 30,
    "start_time": "2022-01-05T14:59:18.873Z"
   },
   {
    "duration": 94,
    "start_time": "2022-01-05T15:01:24.949Z"
   },
   {
    "duration": 11,
    "start_time": "2022-01-05T15:02:19.465Z"
   },
   {
    "duration": 13,
    "start_time": "2022-01-05T15:02:45.976Z"
   },
   {
    "duration": 12,
    "start_time": "2022-01-05T15:03:19.392Z"
   },
   {
    "duration": 33,
    "start_time": "2022-01-05T15:03:48.678Z"
   },
   {
    "duration": 14,
    "start_time": "2022-01-05T15:04:01.685Z"
   },
   {
    "duration": 8,
    "start_time": "2022-01-05T15:05:30.432Z"
   },
   {
    "duration": 8,
    "start_time": "2022-01-05T15:05:37.909Z"
   },
   {
    "duration": 11,
    "start_time": "2022-01-05T15:06:03.376Z"
   },
   {
    "duration": 9,
    "start_time": "2022-01-05T15:06:35.705Z"
   },
   {
    "duration": 10,
    "start_time": "2022-01-05T15:06:42.034Z"
   },
   {
    "duration": 9,
    "start_time": "2022-01-05T15:07:05.532Z"
   },
   {
    "duration": 11,
    "start_time": "2022-01-05T15:07:13.571Z"
   },
   {
    "duration": 10,
    "start_time": "2022-01-05T15:07:26.916Z"
   },
   {
    "duration": 7,
    "start_time": "2022-01-05T15:07:54.555Z"
   },
   {
    "duration": 10,
    "start_time": "2022-01-05T15:08:05.130Z"
   },
   {
    "duration": 39,
    "start_time": "2022-01-05T15:08:51.674Z"
   },
   {
    "duration": 69,
    "start_time": "2022-01-05T15:09:26.437Z"
   },
   {
    "duration": 43,
    "start_time": "2022-01-05T15:10:00.613Z"
   },
   {
    "duration": 43,
    "start_time": "2022-01-05T15:12:52.759Z"
   },
   {
    "duration": 42,
    "start_time": "2022-01-05T15:13:08.201Z"
   },
   {
    "duration": 19,
    "start_time": "2022-01-05T15:15:02.557Z"
   },
   {
    "duration": 19,
    "start_time": "2022-01-05T15:15:57.749Z"
   },
   {
    "duration": 13,
    "start_time": "2022-01-05T15:18:02.001Z"
   },
   {
    "duration": 8,
    "start_time": "2022-01-05T15:18:05.137Z"
   },
   {
    "duration": 11,
    "start_time": "2022-01-05T15:18:07.301Z"
   },
   {
    "duration": 9,
    "start_time": "2022-01-05T15:18:10.359Z"
   },
   {
    "duration": 20,
    "start_time": "2022-01-05T15:18:22.159Z"
   },
   {
    "duration": 40,
    "start_time": "2022-01-05T15:18:29.455Z"
   },
   {
    "duration": 4,
    "start_time": "2022-01-05T15:19:04.529Z"
   },
   {
    "duration": 70,
    "start_time": "2022-01-05T15:19:04.536Z"
   },
   {
    "duration": 16,
    "start_time": "2022-01-05T15:19:04.608Z"
   },
   {
    "duration": 20,
    "start_time": "2022-01-05T15:19:04.627Z"
   },
   {
    "duration": 16,
    "start_time": "2022-01-05T15:19:04.668Z"
   },
   {
    "duration": 49,
    "start_time": "2022-01-05T15:19:04.686Z"
   },
   {
    "duration": 70,
    "start_time": "2022-01-05T15:19:04.737Z"
   },
   {
    "duration": 12,
    "start_time": "2022-01-05T15:19:04.810Z"
   },
   {
    "duration": 72,
    "start_time": "2022-01-05T15:19:04.826Z"
   },
   {
    "duration": 6,
    "start_time": "2022-01-05T15:19:04.901Z"
   },
   {
    "duration": 66,
    "start_time": "2022-01-05T15:19:04.909Z"
   },
   {
    "duration": 9,
    "start_time": "2022-01-05T15:19:04.978Z"
   },
   {
    "duration": 11,
    "start_time": "2022-01-05T15:19:04.990Z"
   },
   {
    "duration": 12,
    "start_time": "2022-01-05T15:19:05.003Z"
   },
   {
    "duration": 15,
    "start_time": "2022-01-05T15:19:10.580Z"
   },
   {
    "duration": 12,
    "start_time": "2022-01-05T15:19:19.625Z"
   },
   {
    "duration": 8,
    "start_time": "2022-01-05T15:19:32.921Z"
   },
   {
    "duration": 6,
    "start_time": "2022-01-05T15:19:35.591Z"
   },
   {
    "duration": 26,
    "start_time": "2022-01-05T15:20:18.726Z"
   },
   {
    "duration": 7,
    "start_time": "2022-01-05T15:20:40.884Z"
   },
   {
    "duration": 20,
    "start_time": "2022-01-05T15:20:48.779Z"
   },
   {
    "duration": 19,
    "start_time": "2022-01-05T15:20:56.295Z"
   },
   {
    "duration": 19,
    "start_time": "2022-01-05T15:21:20.685Z"
   },
   {
    "duration": 9,
    "start_time": "2022-01-05T15:24:31.244Z"
   },
   {
    "duration": 20,
    "start_time": "2022-01-05T15:24:41.835Z"
   },
   {
    "duration": 18,
    "start_time": "2022-01-05T15:24:59.741Z"
   },
   {
    "duration": 20,
    "start_time": "2022-01-05T15:25:20.437Z"
   },
   {
    "duration": 88,
    "start_time": "2022-01-05T15:30:23.911Z"
   },
   {
    "duration": 14,
    "start_time": "2022-01-05T15:30:31.231Z"
   },
   {
    "duration": 21,
    "start_time": "2022-01-05T15:30:40.303Z"
   },
   {
    "duration": 15,
    "start_time": "2022-01-05T15:31:27.072Z"
   },
   {
    "duration": 7,
    "start_time": "2022-01-05T15:31:30.665Z"
   },
   {
    "duration": 45,
    "start_time": "2022-01-05T15:31:43.969Z"
   },
   {
    "duration": 14,
    "start_time": "2022-01-05T15:31:48.075Z"
   },
   {
    "duration": 48,
    "start_time": "2022-01-05T15:32:00.659Z"
   },
   {
    "duration": 37,
    "start_time": "2022-01-05T15:33:00.779Z"
   },
   {
    "duration": 3,
    "start_time": "2022-01-05T15:33:08.417Z"
   },
   {
    "duration": 60,
    "start_time": "2022-01-05T15:33:09.887Z"
   },
   {
    "duration": 15,
    "start_time": "2022-01-05T15:33:09.949Z"
   },
   {
    "duration": 4,
    "start_time": "2022-01-05T15:34:15.747Z"
   },
   {
    "duration": 63,
    "start_time": "2022-01-05T15:34:15.753Z"
   },
   {
    "duration": 14,
    "start_time": "2022-01-05T15:34:15.819Z"
   },
   {
    "duration": 40,
    "start_time": "2022-01-05T15:34:15.836Z"
   },
   {
    "duration": 10,
    "start_time": "2022-01-05T15:34:15.879Z"
   },
   {
    "duration": 49,
    "start_time": "2022-01-05T15:34:15.892Z"
   },
   {
    "duration": 62,
    "start_time": "2022-01-05T15:34:15.943Z"
   },
   {
    "duration": 12,
    "start_time": "2022-01-05T15:34:16.007Z"
   },
   {
    "duration": 64,
    "start_time": "2022-01-05T15:34:16.022Z"
   },
   {
    "duration": 5,
    "start_time": "2022-01-05T15:34:16.089Z"
   },
   {
    "duration": 50,
    "start_time": "2022-01-05T15:34:16.096Z"
   },
   {
    "duration": 9,
    "start_time": "2022-01-05T15:34:16.167Z"
   },
   {
    "duration": 12,
    "start_time": "2022-01-05T15:34:16.178Z"
   },
   {
    "duration": 10,
    "start_time": "2022-01-05T15:34:16.192Z"
   },
   {
    "duration": 63,
    "start_time": "2022-01-05T15:34:16.205Z"
   },
   {
    "duration": 14,
    "start_time": "2022-01-05T15:34:16.271Z"
   },
   {
    "duration": 7,
    "start_time": "2022-01-05T15:34:59.482Z"
   },
   {
    "duration": 42,
    "start_time": "2022-01-05T15:35:01.104Z"
   },
   {
    "duration": 27,
    "start_time": "2022-01-05T15:35:47.032Z"
   },
   {
    "duration": 43,
    "start_time": "2022-01-05T15:35:52.737Z"
   },
   {
    "duration": 20,
    "start_time": "2022-01-05T15:35:56.603Z"
   },
   {
    "duration": 38,
    "start_time": "2022-01-05T15:36:03.581Z"
   },
   {
    "duration": 4,
    "start_time": "2022-01-05T15:38:25.593Z"
   },
   {
    "duration": 65,
    "start_time": "2022-01-05T15:38:25.600Z"
   },
   {
    "duration": 15,
    "start_time": "2022-01-05T15:38:25.668Z"
   },
   {
    "duration": 19,
    "start_time": "2022-01-05T15:38:25.686Z"
   },
   {
    "duration": 11,
    "start_time": "2022-01-05T15:38:25.707Z"
   },
   {
    "duration": 82,
    "start_time": "2022-01-05T15:38:25.720Z"
   },
   {
    "duration": 42,
    "start_time": "2022-01-05T15:38:25.804Z"
   },
   {
    "duration": 29,
    "start_time": "2022-01-05T15:38:25.848Z"
   },
   {
    "duration": 35,
    "start_time": "2022-01-05T15:38:25.881Z"
   },
   {
    "duration": 4,
    "start_time": "2022-01-05T15:38:25.919Z"
   },
   {
    "duration": 84,
    "start_time": "2022-01-05T15:38:25.925Z"
   },
   {
    "duration": 10,
    "start_time": "2022-01-05T15:38:26.011Z"
   },
   {
    "duration": 46,
    "start_time": "2022-01-05T15:38:26.024Z"
   },
   {
    "duration": 12,
    "start_time": "2022-01-05T15:38:26.073Z"
   },
   {
    "duration": 16,
    "start_time": "2022-01-05T15:38:26.088Z"
   },
   {
    "duration": 13,
    "start_time": "2022-01-05T15:38:26.107Z"
   },
   {
    "duration": 49,
    "start_time": "2022-01-05T15:38:26.123Z"
   },
   {
    "duration": 29,
    "start_time": "2022-01-05T15:38:26.175Z"
   },
   {
    "duration": 24,
    "start_time": "2022-01-05T15:38:34.387Z"
   },
   {
    "duration": 42,
    "start_time": "2022-01-05T15:38:36.217Z"
   },
   {
    "duration": 14,
    "start_time": "2022-01-05T15:38:49.349Z"
   },
   {
    "duration": 18,
    "start_time": "2022-01-05T15:39:03.075Z"
   },
   {
    "duration": 8,
    "start_time": "2022-01-05T15:39:04.545Z"
   },
   {
    "duration": 18,
    "start_time": "2022-01-05T15:39:06.916Z"
   },
   {
    "duration": 19,
    "start_time": "2022-01-05T15:39:12.955Z"
   },
   {
    "duration": 14,
    "start_time": "2022-01-05T15:39:18.283Z"
   },
   {
    "duration": 13,
    "start_time": "2022-01-05T15:39:28.413Z"
   },
   {
    "duration": 42,
    "start_time": "2022-01-05T15:39:30.145Z"
   },
   {
    "duration": 14,
    "start_time": "2022-01-05T15:39:32.085Z"
   },
   {
    "duration": 40,
    "start_time": "2022-01-05T15:39:36.443Z"
   },
   {
    "duration": 10,
    "start_time": "2022-01-05T15:40:30.819Z"
   },
   {
    "duration": 19,
    "start_time": "2022-01-05T15:40:53.369Z"
   },
   {
    "duration": 10,
    "start_time": "2022-01-05T15:41:25.591Z"
   },
   {
    "duration": 270,
    "start_time": "2022-01-05T15:42:34.221Z"
   },
   {
    "duration": 323,
    "start_time": "2022-01-05T15:42:53.329Z"
   },
   {
    "duration": 10,
    "start_time": "2022-01-05T15:43:04.207Z"
   },
   {
    "duration": 10,
    "start_time": "2022-01-05T15:43:14.841Z"
   },
   {
    "duration": 15,
    "start_time": "2022-01-05T15:51:49.387Z"
   },
   {
    "duration": 5,
    "start_time": "2022-01-05T15:56:38.203Z"
   },
   {
    "duration": 17,
    "start_time": "2022-01-05T15:56:48.517Z"
   },
   {
    "duration": 39,
    "start_time": "2022-01-05T16:00:54.373Z"
   },
   {
    "duration": 10,
    "start_time": "2022-01-05T16:01:04.775Z"
   },
   {
    "duration": 7,
    "start_time": "2022-01-05T16:01:16.899Z"
   },
   {
    "duration": 96,
    "start_time": "2022-01-05T16:01:50.629Z"
   },
   {
    "duration": 33,
    "start_time": "2022-01-05T16:02:06.487Z"
   },
   {
    "duration": 5,
    "start_time": "2022-01-05T16:04:14.922Z"
   },
   {
    "duration": 45,
    "start_time": "2022-01-05T16:04:25.033Z"
   },
   {
    "duration": 35,
    "start_time": "2022-01-05T16:05:51.461Z"
   },
   {
    "duration": 8,
    "start_time": "2022-01-05T16:13:00.137Z"
   },
   {
    "duration": 26,
    "start_time": "2022-01-05T16:13:03.974Z"
   },
   {
    "duration": 9,
    "start_time": "2022-01-05T16:13:10.572Z"
   },
   {
    "duration": 20,
    "start_time": "2022-01-05T16:13:43.700Z"
   },
   {
    "duration": 21,
    "start_time": "2022-01-05T16:13:50.470Z"
   },
   {
    "duration": 5,
    "start_time": "2022-01-05T16:14:03.411Z"
   },
   {
    "duration": 14,
    "start_time": "2022-01-05T16:15:18.114Z"
   },
   {
    "duration": 3,
    "start_time": "2022-01-05T16:15:28.679Z"
   },
   {
    "duration": 67,
    "start_time": "2022-01-05T16:15:28.685Z"
   },
   {
    "duration": 14,
    "start_time": "2022-01-05T16:15:28.755Z"
   },
   {
    "duration": 21,
    "start_time": "2022-01-05T16:15:28.772Z"
   },
   {
    "duration": 11,
    "start_time": "2022-01-05T16:15:28.796Z"
   },
   {
    "duration": 83,
    "start_time": "2022-01-05T16:15:28.810Z"
   },
   {
    "duration": 45,
    "start_time": "2022-01-05T16:15:28.895Z"
   },
   {
    "duration": 30,
    "start_time": "2022-01-05T16:15:28.943Z"
   },
   {
    "duration": 35,
    "start_time": "2022-01-05T16:15:28.976Z"
   },
   {
    "duration": 4,
    "start_time": "2022-01-05T16:15:29.014Z"
   },
   {
    "duration": 79,
    "start_time": "2022-01-05T16:15:29.021Z"
   },
   {
    "duration": 9,
    "start_time": "2022-01-05T16:15:29.103Z"
   },
   {
    "duration": 11,
    "start_time": "2022-01-05T16:15:29.114Z"
   },
   {
    "duration": 39,
    "start_time": "2022-01-05T16:15:29.127Z"
   },
   {
    "duration": 16,
    "start_time": "2022-01-05T16:15:29.169Z"
   },
   {
    "duration": 12,
    "start_time": "2022-01-05T16:15:29.187Z"
   },
   {
    "duration": 7,
    "start_time": "2022-01-05T16:15:29.202Z"
   },
   {
    "duration": 29,
    "start_time": "2022-01-05T16:15:32.714Z"
   },
   {
    "duration": 6,
    "start_time": "2022-01-05T16:15:34.578Z"
   },
   {
    "duration": 14,
    "start_time": "2022-01-05T16:15:37.138Z"
   },
   {
    "duration": 20,
    "start_time": "2022-01-05T16:15:46.215Z"
   },
   {
    "duration": 15,
    "start_time": "2022-01-05T16:15:56.258Z"
   },
   {
    "duration": 14,
    "start_time": "2022-01-05T16:16:22.592Z"
   },
   {
    "duration": 23,
    "start_time": "2022-01-05T16:16:29.291Z"
   },
   {
    "duration": 13,
    "start_time": "2022-01-05T16:16:31.061Z"
   },
   {
    "duration": 20,
    "start_time": "2022-01-05T16:16:36.756Z"
   },
   {
    "duration": 36,
    "start_time": "2022-01-05T16:16:47.256Z"
   },
   {
    "duration": 10,
    "start_time": "2022-01-05T16:17:11.830Z"
   },
   {
    "duration": 4,
    "start_time": "2022-01-05T16:23:00.376Z"
   },
   {
    "duration": 3,
    "start_time": "2022-01-05T16:23:38.088Z"
   },
   {
    "duration": 89,
    "start_time": "2022-01-05T16:24:17.226Z"
   },
   {
    "duration": 24,
    "start_time": "2022-01-05T16:24:30.991Z"
   },
   {
    "duration": 20,
    "start_time": "2022-01-05T16:24:33.270Z"
   },
   {
    "duration": 10,
    "start_time": "2022-01-05T16:24:37.577Z"
   },
   {
    "duration": 390,
    "start_time": "2022-01-05T16:27:01.766Z"
   },
   {
    "duration": 256,
    "start_time": "2022-01-05T16:27:05.996Z"
   },
   {
    "duration": 25,
    "start_time": "2022-01-05T16:27:24.936Z"
   },
   {
    "duration": 25,
    "start_time": "2022-01-05T16:27:29.292Z"
   },
   {
    "duration": 302,
    "start_time": "2022-01-05T16:28:03.465Z"
   },
   {
    "duration": 26,
    "start_time": "2022-01-05T16:28:15.648Z"
   },
   {
    "duration": 24,
    "start_time": "2022-01-05T16:28:25.104Z"
   },
   {
    "duration": 284,
    "start_time": "2022-01-05T16:29:02.782Z"
   },
   {
    "duration": 16,
    "start_time": "2022-01-05T16:30:56.466Z"
   },
   {
    "duration": 26,
    "start_time": "2022-01-05T16:30:58.426Z"
   },
   {
    "duration": 12,
    "start_time": "2022-01-05T16:31:58.920Z"
   },
   {
    "duration": 24,
    "start_time": "2022-01-05T16:35:36.382Z"
   },
   {
    "duration": 27,
    "start_time": "2022-01-05T16:35:47.798Z"
   },
   {
    "duration": 15,
    "start_time": "2022-01-05T16:35:55.277Z"
   },
   {
    "duration": 291,
    "start_time": "2022-01-05T16:37:55.772Z"
   },
   {
    "duration": 25,
    "start_time": "2022-01-05T16:38:12.468Z"
   },
   {
    "duration": 5,
    "start_time": "2022-01-05T16:38:35.572Z"
   },
   {
    "duration": 14,
    "start_time": "2022-01-05T16:38:37.854Z"
   },
   {
    "duration": 19,
    "start_time": "2022-01-05T16:39:09.580Z"
   },
   {
    "duration": 13,
    "start_time": "2022-01-05T16:48:30.412Z"
   },
   {
    "duration": 10,
    "start_time": "2022-01-05T16:48:56.734Z"
   },
   {
    "duration": 73,
    "start_time": "2022-01-05T16:51:28.461Z"
   },
   {
    "duration": 43,
    "start_time": "2022-01-05T16:52:40.783Z"
   },
   {
    "duration": 38,
    "start_time": "2022-01-05T16:52:57.983Z"
   },
   {
    "duration": 277,
    "start_time": "2022-01-05T17:00:55.856Z"
   },
   {
    "duration": 7,
    "start_time": "2022-01-05T17:01:07.362Z"
   },
   {
    "duration": 94,
    "start_time": "2022-01-06T09:31:40.090Z"
   },
   {
    "duration": 625,
    "start_time": "2022-01-06T09:36:58.325Z"
   },
   {
    "duration": 51,
    "start_time": "2022-01-06T09:36:58.951Z"
   },
   {
    "duration": 11,
    "start_time": "2022-01-06T09:36:59.004Z"
   },
   {
    "duration": 16,
    "start_time": "2022-01-06T09:36:59.017Z"
   },
   {
    "duration": 8,
    "start_time": "2022-01-06T09:36:59.035Z"
   },
   {
    "duration": 29,
    "start_time": "2022-01-06T09:36:59.060Z"
   },
   {
    "duration": 29,
    "start_time": "2022-01-06T09:36:59.091Z"
   },
   {
    "duration": 9,
    "start_time": "2022-01-06T09:36:59.121Z"
   },
   {
    "duration": 41,
    "start_time": "2022-01-06T09:36:59.132Z"
   },
   {
    "duration": 3,
    "start_time": "2022-01-06T09:36:59.175Z"
   },
   {
    "duration": 32,
    "start_time": "2022-01-06T09:36:59.179Z"
   },
   {
    "duration": 3,
    "start_time": "2022-01-06T09:36:59.212Z"
   },
   {
    "duration": 7,
    "start_time": "2022-01-06T09:36:59.216Z"
   },
   {
    "duration": 6,
    "start_time": "2022-01-06T09:36:59.225Z"
   },
   {
    "duration": 6,
    "start_time": "2022-01-06T09:36:59.261Z"
   },
   {
    "duration": 10,
    "start_time": "2022-01-06T09:36:59.269Z"
   },
   {
    "duration": 8,
    "start_time": "2022-01-06T09:36:59.281Z"
   },
   {
    "duration": 4,
    "start_time": "2022-01-06T09:36:59.290Z"
   },
   {
    "duration": 17,
    "start_time": "2022-01-06T09:36:59.296Z"
   },
   {
    "duration": 15,
    "start_time": "2022-01-06T09:36:59.314Z"
   },
   {
    "duration": 44,
    "start_time": "2022-01-06T09:36:59.331Z"
   },
   {
    "duration": 9,
    "start_time": "2022-01-06T09:36:59.377Z"
   },
   {
    "duration": 12,
    "start_time": "2022-01-06T09:36:59.388Z"
   },
   {
    "duration": 6,
    "start_time": "2022-01-06T09:36:59.401Z"
   },
   {
    "duration": 10,
    "start_time": "2022-01-06T09:36:59.409Z"
   },
   {
    "duration": 50,
    "start_time": "2022-01-06T09:36:59.421Z"
   },
   {
    "duration": 9,
    "start_time": "2022-01-06T09:36:59.475Z"
   },
   {
    "duration": 9,
    "start_time": "2022-01-06T09:36:59.486Z"
   },
   {
    "duration": 23,
    "start_time": "2022-01-06T09:36:59.496Z"
   },
   {
    "duration": 10,
    "start_time": "2022-01-06T09:37:08.340Z"
   },
   {
    "duration": 7,
    "start_time": "2022-01-06T09:37:17.072Z"
   },
   {
    "duration": 8,
    "start_time": "2022-01-06T09:37:20.568Z"
   },
   {
    "duration": 6,
    "start_time": "2022-01-06T09:37:23.884Z"
   },
   {
    "duration": 4,
    "start_time": "2022-01-06T09:37:36.708Z"
   },
   {
    "duration": 32,
    "start_time": "2022-01-06T09:37:37.890Z"
   },
   {
    "duration": 10,
    "start_time": "2022-01-06T09:37:55.162Z"
   },
   {
    "duration": 4,
    "start_time": "2022-01-06T09:38:14.572Z"
   },
   {
    "duration": 4,
    "start_time": "2022-01-06T09:38:17.408Z"
   },
   {
    "duration": 10,
    "start_time": "2022-01-06T09:38:18.770Z"
   },
   {
    "duration": 5,
    "start_time": "2022-01-06T09:38:42.283Z"
   },
   {
    "duration": 12,
    "start_time": "2022-01-06T09:38:44.752Z"
   },
   {
    "duration": 19,
    "start_time": "2022-01-06T09:38:45.726Z"
   },
   {
    "duration": 19,
    "start_time": "2022-01-06T09:39:00.338Z"
   },
   {
    "duration": 20,
    "start_time": "2022-01-06T09:39:30.178Z"
   },
   {
    "duration": 4,
    "start_time": "2022-01-06T09:39:33.556Z"
   },
   {
    "duration": 7,
    "start_time": "2022-01-06T10:03:56.406Z"
   },
   {
    "duration": 3,
    "start_time": "2022-01-06T10:04:48.866Z"
   },
   {
    "duration": 7,
    "start_time": "2022-01-06T10:06:52.588Z"
   },
   {
    "duration": 2,
    "start_time": "2022-01-06T10:20:14.458Z"
   },
   {
    "duration": 4,
    "start_time": "2022-01-06T10:20:37.806Z"
   },
   {
    "duration": 3,
    "start_time": "2022-01-06T10:21:58.406Z"
   },
   {
    "duration": 463,
    "start_time": "2022-01-06T10:22:19.642Z"
   },
   {
    "duration": 84628,
    "start_time": "2022-01-06T10:23:45.317Z"
   },
   {
    "duration": 25018,
    "start_time": "2022-01-06T10:26:16.548Z"
   },
   {
    "duration": 479,
    "start_time": "2022-01-06T10:28:22.432Z"
   },
   {
    "duration": 628,
    "start_time": "2022-01-06T10:30:33.759Z"
   },
   {
    "duration": 16,
    "start_time": "2022-01-06T10:31:10.304Z"
   },
   {
    "duration": 639,
    "start_time": "2022-01-06T10:31:33.094Z"
   },
   {
    "duration": 622,
    "start_time": "2022-01-06T10:31:57.110Z"
   },
   {
    "duration": 4,
    "start_time": "2022-01-06T10:32:13.638Z"
   },
   {
    "duration": 645,
    "start_time": "2022-01-06T10:32:16.798Z"
   },
   {
    "duration": 4,
    "start_time": "2022-01-06T10:33:09.822Z"
   },
   {
    "duration": 631,
    "start_time": "2022-01-06T10:33:12.518Z"
   },
   {
    "duration": 679,
    "start_time": "2022-01-06T10:33:19.320Z"
   },
   {
    "duration": 4,
    "start_time": "2022-01-06T10:33:26.958Z"
   },
   {
    "duration": 540,
    "start_time": "2022-01-06T10:33:37.523Z"
   },
   {
    "duration": 689,
    "start_time": "2022-01-06T10:34:11.614Z"
   },
   {
    "duration": 490,
    "start_time": "2022-01-06T10:36:20.676Z"
   },
   {
    "duration": 559,
    "start_time": "2022-01-06T10:36:44.374Z"
   },
   {
    "duration": 519,
    "start_time": "2022-01-06T10:36:52.681Z"
   },
   {
    "duration": 6185,
    "start_time": "2022-01-06T10:37:08.552Z"
   },
   {
    "duration": 5,
    "start_time": "2022-01-06T10:37:17.304Z"
   },
   {
    "duration": 6951,
    "start_time": "2022-01-06T10:37:20.382Z"
   },
   {
    "duration": 4,
    "start_time": "2022-01-06T10:38:25.672Z"
   },
   {
    "duration": 128348,
    "start_time": "2022-01-06T10:38:40.836Z"
   },
   {
    "duration": 413471,
    "start_time": "2022-01-06T10:55:55.028Z"
   },
   {
    "duration": 6686,
    "start_time": "2022-01-06T11:04:37.453Z"
   },
   {
    "duration": 19,
    "start_time": "2022-01-06T11:04:56.749Z"
   },
   {
    "duration": 4,
    "start_time": "2022-01-06T11:09:01.921Z"
   },
   {
    "duration": 3,
    "start_time": "2022-01-06T11:09:04.503Z"
   },
   {
    "duration": 675,
    "start_time": "2022-01-06T11:09:06.425Z"
   },
   {
    "duration": 15,
    "start_time": "2022-01-06T11:09:11.049Z"
   },
   {
    "duration": 4076,
    "start_time": "2022-01-06T11:09:30.661Z"
   },
   {
    "duration": 13,
    "start_time": "2022-01-06T11:09:37.286Z"
   },
   {
    "duration": 5,
    "start_time": "2022-01-06T11:16:29.839Z"
   },
   {
    "duration": 3693,
    "start_time": "2022-01-06T11:16:35.894Z"
   },
   {
    "duration": 14,
    "start_time": "2022-01-06T11:16:59.783Z"
   },
   {
    "duration": 3494,
    "start_time": "2022-01-06T11:18:24.824Z"
   },
   {
    "duration": 13,
    "start_time": "2022-01-06T11:19:17.642Z"
   },
   {
    "duration": 9,
    "start_time": "2022-01-06T11:19:47.680Z"
   },
   {
    "duration": 11,
    "start_time": "2022-01-06T11:23:30.692Z"
   },
   {
    "duration": 8,
    "start_time": "2022-01-06T11:23:44.458Z"
   },
   {
    "duration": 309,
    "start_time": "2022-01-06T11:38:14.266Z"
   },
   {
    "duration": 7,
    "start_time": "2022-01-06T11:38:31.325Z"
   },
   {
    "duration": 15,
    "start_time": "2022-01-06T11:38:43.387Z"
   },
   {
    "duration": 4,
    "start_time": "2022-01-06T11:42:14.211Z"
   },
   {
    "duration": 244,
    "start_time": "2022-01-06T11:43:04.104Z"
   },
   {
    "duration": 236,
    "start_time": "2022-01-06T11:43:16.733Z"
   },
   {
    "duration": 9,
    "start_time": "2022-01-06T11:43:26.666Z"
   },
   {
    "duration": 79,
    "start_time": "2022-01-06T11:52:19.577Z"
   },
   {
    "duration": 7,
    "start_time": "2022-01-06T11:52:28.617Z"
   },
   {
    "duration": 14,
    "start_time": "2022-01-06T11:52:42.025Z"
   },
   {
    "duration": 10,
    "start_time": "2022-01-06T11:53:16.275Z"
   },
   {
    "duration": 8,
    "start_time": "2022-01-06T11:53:28.481Z"
   },
   {
    "duration": 9,
    "start_time": "2022-01-06T11:54:36.473Z"
   },
   {
    "duration": 5,
    "start_time": "2022-01-06T11:54:55.945Z"
   },
   {
    "duration": 4,
    "start_time": "2022-01-06T11:55:04.325Z"
   },
   {
    "duration": 5,
    "start_time": "2022-01-06T11:55:10.797Z"
   },
   {
    "duration": 6,
    "start_time": "2022-01-06T11:55:23.707Z"
   },
   {
    "duration": 5,
    "start_time": "2022-01-06T11:55:28.945Z"
   },
   {
    "duration": 9,
    "start_time": "2022-01-06T11:55:53.669Z"
   },
   {
    "duration": 6,
    "start_time": "2022-01-06T11:58:03.349Z"
   },
   {
    "duration": 6,
    "start_time": "2022-01-06T11:58:09.011Z"
   },
   {
    "duration": 5,
    "start_time": "2022-01-06T11:58:12.721Z"
   },
   {
    "duration": 5,
    "start_time": "2022-01-06T11:58:19.745Z"
   },
   {
    "duration": 9,
    "start_time": "2022-01-06T12:01:02.201Z"
   },
   {
    "duration": 5,
    "start_time": "2022-01-06T12:18:55.597Z"
   },
   {
    "duration": 8,
    "start_time": "2022-01-06T12:21:20.567Z"
   },
   {
    "duration": 246,
    "start_time": "2022-01-06T12:24:18.530Z"
   },
   {
    "duration": 3,
    "start_time": "2022-01-06T12:24:34.218Z"
   },
   {
    "duration": 293,
    "start_time": "2022-01-06T12:24:36.180Z"
   },
   {
    "duration": 244,
    "start_time": "2022-01-06T12:25:10.906Z"
   },
   {
    "duration": 251,
    "start_time": "2022-01-06T12:25:35.520Z"
   },
   {
    "duration": 33,
    "start_time": "2022-01-06T12:26:25.622Z"
   },
   {
    "duration": 6,
    "start_time": "2022-01-06T12:26:54.148Z"
   },
   {
    "duration": 17,
    "start_time": "2022-01-06T12:27:01.920Z"
   },
   {
    "duration": 4,
    "start_time": "2022-01-06T12:27:23.522Z"
   },
   {
    "duration": 19,
    "start_time": "2022-01-06T12:28:05.490Z"
   },
   {
    "duration": 14,
    "start_time": "2022-01-06T12:28:34.350Z"
   },
   {
    "duration": 3,
    "start_time": "2022-01-06T12:29:07.650Z"
   },
   {
    "duration": 54,
    "start_time": "2022-01-06T12:29:10.072Z"
   },
   {
    "duration": 19,
    "start_time": "2022-01-06T12:29:12.600Z"
   },
   {
    "duration": 19,
    "start_time": "2022-01-06T12:29:35.034Z"
   },
   {
    "duration": 13,
    "start_time": "2022-01-06T12:30:07.264Z"
   },
   {
    "duration": 5,
    "start_time": "2022-01-06T12:31:21.712Z"
   },
   {
    "duration": 28,
    "start_time": "2022-01-06T12:31:23.536Z"
   },
   {
    "duration": 14,
    "start_time": "2022-01-06T12:31:25.666Z"
   },
   {
    "duration": 14,
    "start_time": "2022-01-06T12:31:42.238Z"
   },
   {
    "duration": 17,
    "start_time": "2022-01-06T12:31:52.444Z"
   },
   {
    "duration": 15,
    "start_time": "2022-01-06T13:36:58.436Z"
   },
   {
    "duration": 19,
    "start_time": "2022-01-06T13:37:51.134Z"
   },
   {
    "duration": 12,
    "start_time": "2022-01-06T13:38:11.789Z"
   },
   {
    "duration": 8,
    "start_time": "2022-01-06T13:38:16.840Z"
   },
   {
    "duration": 9,
    "start_time": "2022-01-06T13:38:37.712Z"
   },
   {
    "duration": 14,
    "start_time": "2022-01-06T13:39:53.306Z"
   },
   {
    "duration": 16,
    "start_time": "2022-01-06T13:40:47.380Z"
   },
   {
    "duration": 11,
    "start_time": "2022-01-06T13:41:39.950Z"
   },
   {
    "duration": 231,
    "start_time": "2022-01-06T13:42:51.112Z"
   },
   {
    "duration": 7,
    "start_time": "2022-01-06T13:43:01.366Z"
   },
   {
    "duration": 8,
    "start_time": "2022-01-06T13:43:31.740Z"
   },
   {
    "duration": 7,
    "start_time": "2022-01-06T13:43:40.886Z"
   },
   {
    "duration": 8,
    "start_time": "2022-01-06T13:43:46.773Z"
   },
   {
    "duration": 7,
    "start_time": "2022-01-06T13:44:04.092Z"
   },
   {
    "duration": 9,
    "start_time": "2022-01-06T13:44:06.078Z"
   },
   {
    "duration": 4,
    "start_time": "2022-01-06T13:44:36.914Z"
   },
   {
    "duration": 115,
    "start_time": "2022-01-06T13:45:25.504Z"
   },
   {
    "duration": 7,
    "start_time": "2022-01-06T13:45:35.763Z"
   },
   {
    "duration": 10,
    "start_time": "2022-01-06T13:47:31.165Z"
   },
   {
    "duration": 10,
    "start_time": "2022-01-06T13:47:38.118Z"
   },
   {
    "duration": 10,
    "start_time": "2022-01-06T13:48:42.447Z"
   },
   {
    "duration": 16,
    "start_time": "2022-01-06T13:52:01.062Z"
   },
   {
    "duration": 23,
    "start_time": "2022-01-06T13:52:23.350Z"
   },
   {
    "duration": 8,
    "start_time": "2022-01-06T13:53:01.110Z"
   },
   {
    "duration": 11,
    "start_time": "2022-01-06T13:57:34.717Z"
   },
   {
    "duration": 12,
    "start_time": "2022-01-06T14:00:38.207Z"
   },
   {
    "duration": 303,
    "start_time": "2022-01-06T14:00:56.202Z"
   },
   {
    "duration": 12,
    "start_time": "2022-01-06T14:01:00.369Z"
   },
   {
    "duration": 12,
    "start_time": "2022-01-06T14:04:34.617Z"
   },
   {
    "duration": 12,
    "start_time": "2022-01-06T14:05:05.684Z"
   },
   {
    "duration": 312,
    "start_time": "2022-01-06T14:06:15.700Z"
   },
   {
    "duration": 241,
    "start_time": "2022-01-06T14:07:08.945Z"
   },
   {
    "duration": 260,
    "start_time": "2022-01-06T14:07:24.048Z"
   },
   {
    "duration": 12,
    "start_time": "2022-01-06T14:07:56.151Z"
   },
   {
    "duration": 256,
    "start_time": "2022-01-06T14:08:26.214Z"
   },
   {
    "duration": 265,
    "start_time": "2022-01-06T14:09:15.573Z"
   },
   {
    "duration": 261,
    "start_time": "2022-01-06T14:09:27.613Z"
   },
   {
    "duration": 15,
    "start_time": "2022-01-06T14:09:41.585Z"
   },
   {
    "duration": 12,
    "start_time": "2022-01-06T14:10:09.787Z"
   },
   {
    "duration": 11,
    "start_time": "2022-01-06T14:12:25.632Z"
   },
   {
    "duration": 14,
    "start_time": "2022-01-06T14:24:57.085Z"
   },
   {
    "duration": 22,
    "start_time": "2022-01-06T14:25:45.347Z"
   },
   {
    "duration": 73,
    "start_time": "2022-01-06T14:26:30.389Z"
   },
   {
    "duration": 15,
    "start_time": "2022-01-06T14:26:53.987Z"
   },
   {
    "duration": 26,
    "start_time": "2022-01-06T14:27:09.839Z"
   },
   {
    "duration": 39,
    "start_time": "2022-01-06T14:28:26.863Z"
   },
   {
    "duration": 33,
    "start_time": "2022-01-06T14:29:38.833Z"
   },
   {
    "duration": 35,
    "start_time": "2022-01-06T14:29:57.949Z"
   },
   {
    "duration": 23,
    "start_time": "2022-01-06T14:31:43.227Z"
   },
   {
    "duration": 352,
    "start_time": "2022-01-06T14:31:55.571Z"
   },
   {
    "duration": 10,
    "start_time": "2022-01-06T14:32:12.985Z"
   },
   {
    "duration": 259,
    "start_time": "2022-01-06T14:33:26.953Z"
   },
   {
    "duration": 32,
    "start_time": "2022-01-06T14:34:00.089Z"
   },
   {
    "duration": 22,
    "start_time": "2022-01-06T14:38:13.365Z"
   },
   {
    "duration": 28,
    "start_time": "2022-01-06T14:38:35.029Z"
   },
   {
    "duration": 57,
    "start_time": "2022-01-06T14:39:35.325Z"
   },
   {
    "duration": 29,
    "start_time": "2022-01-06T14:40:19.845Z"
   },
   {
    "duration": 19,
    "start_time": "2022-01-06T14:41:24.205Z"
   },
   {
    "duration": 246,
    "start_time": "2022-01-06T14:41:31.337Z"
   },
   {
    "duration": 18,
    "start_time": "2022-01-06T14:41:37.983Z"
   },
   {
    "duration": 15,
    "start_time": "2022-01-06T14:41:39.627Z"
   },
   {
    "duration": 351,
    "start_time": "2022-01-06T14:41:58.905Z"
   },
   {
    "duration": 9,
    "start_time": "2022-01-06T14:42:38.809Z"
   },
   {
    "duration": 11,
    "start_time": "2022-01-06T14:42:53.907Z"
   },
   {
    "duration": 10,
    "start_time": "2022-01-06T14:43:21.768Z"
   },
   {
    "duration": 7,
    "start_time": "2022-01-06T14:43:40.099Z"
   },
   {
    "duration": 23,
    "start_time": "2022-01-06T14:47:51.083Z"
   },
   {
    "duration": 15,
    "start_time": "2022-01-06T14:47:52.305Z"
   },
   {
    "duration": 6,
    "start_time": "2022-01-06T14:48:21.885Z"
   },
   {
    "duration": 315,
    "start_time": "2022-01-06T14:49:01.751Z"
   },
   {
    "duration": 265,
    "start_time": "2022-01-06T14:49:08.575Z"
   },
   {
    "duration": 358,
    "start_time": "2022-01-06T14:51:30.325Z"
   },
   {
    "duration": 30,
    "start_time": "2022-01-06T14:52:47.374Z"
   },
   {
    "duration": 93,
    "start_time": "2022-01-06T14:53:06.775Z"
   },
   {
    "duration": 18,
    "start_time": "2022-01-06T14:53:10.357Z"
   },
   {
    "duration": 14,
    "start_time": "2022-01-06T14:53:11.369Z"
   },
   {
    "duration": 270,
    "start_time": "2022-01-06T14:54:37.201Z"
   },
   {
    "duration": -99,
    "start_time": "2022-01-06T14:56:17.335Z"
   },
   {
    "duration": 14,
    "start_time": "2022-01-06T14:56:23.000Z"
   },
   {
    "duration": 19,
    "start_time": "2022-01-06T14:56:34.135Z"
   },
   {
    "duration": 14,
    "start_time": "2022-01-06T14:56:35.565Z"
   },
   {
    "duration": 7,
    "start_time": "2022-01-06T14:56:44.043Z"
   },
   {
    "duration": 5,
    "start_time": "2022-01-06T15:00:29.346Z"
   },
   {
    "duration": 7,
    "start_time": "2022-01-06T15:03:27.023Z"
   },
   {
    "duration": 21,
    "start_time": "2022-01-06T15:05:24.574Z"
   },
   {
    "duration": 14,
    "start_time": "2022-01-06T15:05:25.942Z"
   },
   {
    "duration": 4668,
    "start_time": "2022-01-06T15:05:48.175Z"
   },
   {
    "duration": 9,
    "start_time": "2022-01-06T15:05:58.891Z"
   },
   {
    "duration": 7712,
    "start_time": "2022-01-06T15:06:10.406Z"
   },
   {
    "duration": 3133,
    "start_time": "2022-01-06T15:06:22.282Z"
   },
   {
    "duration": 9,
    "start_time": "2022-01-06T15:06:29.816Z"
   },
   {
    "duration": 6,
    "start_time": "2022-01-06T15:06:47.052Z"
   },
   {
    "duration": 297,
    "start_time": "2022-01-06T15:06:55.364Z"
   },
   {
    "duration": 8468,
    "start_time": "2022-01-06T15:08:55.694Z"
   },
   {
    "duration": 3012,
    "start_time": "2022-01-06T15:09:05.804Z"
   },
   {
    "duration": 15,
    "start_time": "2022-01-06T15:09:14.728Z"
   },
   {
    "duration": 4,
    "start_time": "2022-01-06T15:09:44.830Z"
   },
   {
    "duration": 17,
    "start_time": "2022-01-06T15:10:24.504Z"
   },
   {
    "duration": 35,
    "start_time": "2022-01-06T15:11:50.566Z"
   },
   {
    "duration": 22,
    "start_time": "2022-01-06T15:11:51.864Z"
   },
   {
    "duration": 51,
    "start_time": "2022-01-06T15:12:37.604Z"
   },
   {
    "duration": 15,
    "start_time": "2022-01-06T15:12:39.670Z"
   },
   {
    "duration": 22,
    "start_time": "2022-01-06T15:14:12.074Z"
   },
   {
    "duration": 16,
    "start_time": "2022-01-06T15:14:13.370Z"
   },
   {
    "duration": 6,
    "start_time": "2022-01-06T15:14:26.084Z"
   },
   {
    "duration": 5,
    "start_time": "2022-01-06T15:14:33.274Z"
   },
   {
    "duration": 7,
    "start_time": "2022-01-06T15:15:04.886Z"
   },
   {
    "duration": 19,
    "start_time": "2022-01-06T15:18:08.372Z"
   },
   {
    "duration": 14,
    "start_time": "2022-01-06T15:18:11.574Z"
   },
   {
    "duration": 263,
    "start_time": "2022-01-06T15:19:17.106Z"
   },
   {
    "duration": 258,
    "start_time": "2022-01-06T15:19:54.172Z"
   },
   {
    "duration": 331,
    "start_time": "2022-01-06T15:20:01.888Z"
   },
   {
    "duration": 314,
    "start_time": "2022-01-06T15:20:08.204Z"
   },
   {
    "duration": 393,
    "start_time": "2022-01-06T15:20:24.686Z"
   },
   {
    "duration": 323,
    "start_time": "2022-01-06T15:20:29.230Z"
   },
   {
    "duration": 282,
    "start_time": "2022-01-06T15:20:34.106Z"
   },
   {
    "duration": 21,
    "start_time": "2022-01-06T15:21:37.630Z"
   },
   {
    "duration": 19,
    "start_time": "2022-01-06T15:21:39.246Z"
   },
   {
    "duration": 8,
    "start_time": "2022-01-06T15:21:57.060Z"
   },
   {
    "duration": 6,
    "start_time": "2022-01-06T15:22:42.788Z"
   },
   {
    "duration": 6,
    "start_time": "2022-01-06T15:23:11.432Z"
   },
   {
    "duration": 10,
    "start_time": "2022-01-06T15:24:10.692Z"
   },
   {
    "duration": 10,
    "start_time": "2022-01-06T15:24:32.225Z"
   },
   {
    "duration": 22,
    "start_time": "2022-01-06T15:24:55.954Z"
   },
   {
    "duration": 20,
    "start_time": "2022-01-06T15:25:01.176Z"
   },
   {
    "duration": 372,
    "start_time": "2022-01-06T15:25:07.234Z"
   },
   {
    "duration": 252,
    "start_time": "2022-01-06T15:25:21.860Z"
   },
   {
    "duration": 7,
    "start_time": "2022-01-06T15:25:43.229Z"
   },
   {
    "duration": 18,
    "start_time": "2022-01-06T15:29:40.398Z"
   },
   {
    "duration": 19,
    "start_time": "2022-01-06T15:29:41.524Z"
   },
   {
    "duration": 6,
    "start_time": "2022-01-06T15:30:11.530Z"
   },
   {
    "duration": 20,
    "start_time": "2022-01-06T15:30:17.125Z"
   },
   {
    "duration": 261,
    "start_time": "2022-01-06T15:30:35.328Z"
   },
   {
    "duration": 5,
    "start_time": "2022-01-06T15:31:17.814Z"
   },
   {
    "duration": 6,
    "start_time": "2022-01-06T15:31:37.183Z"
   },
   {
    "duration": 6,
    "start_time": "2022-01-06T15:31:42.343Z"
   },
   {
    "duration": 20,
    "start_time": "2022-01-06T15:32:41.997Z"
   },
   {
    "duration": 13,
    "start_time": "2022-01-06T15:32:43.724Z"
   },
   {
    "duration": 6,
    "start_time": "2022-01-06T15:32:47.094Z"
   },
   {
    "duration": 7,
    "start_time": "2022-01-06T15:33:16.538Z"
   },
   {
    "duration": 7,
    "start_time": "2022-01-06T15:33:25.368Z"
   },
   {
    "duration": 18,
    "start_time": "2022-01-06T15:34:36.112Z"
   },
   {
    "duration": 13,
    "start_time": "2022-01-06T15:34:40.104Z"
   },
   {
    "duration": 92,
    "start_time": "2022-01-06T15:35:31.144Z"
   },
   {
    "duration": 284,
    "start_time": "2022-01-06T15:35:41.192Z"
   },
   {
    "duration": 18,
    "start_time": "2022-01-06T15:36:05.484Z"
   },
   {
    "duration": 11,
    "start_time": "2022-01-06T15:36:07.408Z"
   },
   {
    "duration": 6,
    "start_time": "2022-01-06T15:36:24.638Z"
   },
   {
    "duration": 8,
    "start_time": "2022-01-06T15:37:55.098Z"
   },
   {
    "duration": 17,
    "start_time": "2022-01-06T15:38:21.274Z"
   },
   {
    "duration": 10,
    "start_time": "2022-01-06T15:38:22.874Z"
   },
   {
    "duration": 261,
    "start_time": "2022-01-06T15:39:50.116Z"
   },
   {
    "duration": 277,
    "start_time": "2022-01-06T15:41:13.740Z"
   },
   {
    "duration": 315,
    "start_time": "2022-01-06T15:41:20.614Z"
   },
   {
    "duration": 264,
    "start_time": "2022-01-06T15:42:40.310Z"
   },
   {
    "duration": 264,
    "start_time": "2022-01-06T15:42:52.844Z"
   },
   {
    "duration": 20,
    "start_time": "2022-01-06T15:43:31.670Z"
   },
   {
    "duration": 9,
    "start_time": "2022-01-06T15:43:35.686Z"
   },
   {
    "duration": 18,
    "start_time": "2022-01-06T15:44:42.855Z"
   },
   {
    "duration": 11,
    "start_time": "2022-01-06T15:44:44.330Z"
   },
   {
    "duration": 278,
    "start_time": "2022-01-06T15:45:59.925Z"
   },
   {
    "duration": 293,
    "start_time": "2022-01-06T15:46:12.748Z"
   },
   {
    "duration": 20,
    "start_time": "2022-01-06T15:48:49.863Z"
   },
   {
    "duration": 6,
    "start_time": "2022-01-06T15:48:52.430Z"
   },
   {
    "duration": 17,
    "start_time": "2022-01-06T15:49:12.394Z"
   },
   {
    "duration": 13,
    "start_time": "2022-01-06T15:49:15.385Z"
   },
   {
    "duration": 11,
    "start_time": "2022-01-06T15:49:28.977Z"
   },
   {
    "duration": 11,
    "start_time": "2022-01-06T15:49:47.525Z"
   },
   {
    "duration": 20,
    "start_time": "2022-01-06T15:51:00.252Z"
   },
   {
    "duration": 15,
    "start_time": "2022-01-06T15:51:01.741Z"
   },
   {
    "duration": 406,
    "start_time": "2022-01-06T15:51:09.571Z"
   },
   {
    "duration": 21,
    "start_time": "2022-01-06T15:51:14.319Z"
   },
   {
    "duration": 647,
    "start_time": "2022-01-06T15:51:52.458Z"
   },
   {
    "duration": 22,
    "start_time": "2022-01-06T15:52:30.980Z"
   },
   {
    "duration": 13,
    "start_time": "2022-01-06T15:52:32.219Z"
   },
   {
    "duration": 20,
    "start_time": "2022-01-06T15:53:56.968Z"
   },
   {
    "duration": 12,
    "start_time": "2022-01-06T15:53:58.091Z"
   },
   {
    "duration": 16,
    "start_time": "2022-01-06T15:54:01.868Z"
   },
   {
    "duration": 7,
    "start_time": "2022-01-06T15:54:13.845Z"
   },
   {
    "duration": 19,
    "start_time": "2022-01-06T15:54:43.452Z"
   },
   {
    "duration": 13,
    "start_time": "2022-01-06T15:54:44.593Z"
   },
   {
    "duration": 5,
    "start_time": "2022-01-06T15:54:47.896Z"
   },
   {
    "duration": 7,
    "start_time": "2022-01-06T15:54:51.284Z"
   },
   {
    "duration": 11,
    "start_time": "2022-01-06T15:55:33.722Z"
   },
   {
    "duration": 13,
    "start_time": "2022-01-06T15:55:54.826Z"
   },
   {
    "duration": 12,
    "start_time": "2022-01-06T15:56:23.750Z"
   },
   {
    "duration": 14,
    "start_time": "2022-01-06T15:56:32.406Z"
   },
   {
    "duration": 246,
    "start_time": "2022-01-06T15:56:48.941Z"
   },
   {
    "duration": 11,
    "start_time": "2022-01-06T15:56:54.079Z"
   },
   {
    "duration": 15,
    "start_time": "2022-01-06T15:57:06.124Z"
   },
   {
    "duration": 17,
    "start_time": "2022-01-06T15:57:31.366Z"
   },
   {
    "duration": 18,
    "start_time": "2022-01-06T15:58:57.324Z"
   },
   {
    "duration": 10,
    "start_time": "2022-01-06T16:00:36.618Z"
   },
   {
    "duration": 8,
    "start_time": "2022-01-06T16:00:50.232Z"
   },
   {
    "duration": 8,
    "start_time": "2022-01-06T16:01:00.204Z"
   },
   {
    "duration": 3,
    "start_time": "2022-01-06T16:20:00.167Z"
   },
   {
    "duration": 55,
    "start_time": "2022-01-06T16:20:00.171Z"
   },
   {
    "duration": 13,
    "start_time": "2022-01-06T16:20:00.228Z"
   },
   {
    "duration": 15,
    "start_time": "2022-01-06T16:20:00.262Z"
   },
   {
    "duration": 11,
    "start_time": "2022-01-06T16:20:00.278Z"
   },
   {
    "duration": 36,
    "start_time": "2022-01-06T16:20:00.290Z"
   },
   {
    "duration": 46,
    "start_time": "2022-01-06T16:20:00.327Z"
   },
   {
    "duration": 10,
    "start_time": "2022-01-06T16:20:00.375Z"
   },
   {
    "duration": 24,
    "start_time": "2022-01-06T16:20:00.387Z"
   },
   {
    "duration": 4,
    "start_time": "2022-01-06T16:20:00.413Z"
   },
   {
    "duration": 60,
    "start_time": "2022-01-06T16:20:00.418Z"
   },
   {
    "duration": 2,
    "start_time": "2022-01-06T16:20:00.480Z"
   },
   {
    "duration": 25,
    "start_time": "2022-01-06T16:20:00.483Z"
   },
   {
    "duration": 55,
    "start_time": "2022-01-06T16:20:00.509Z"
   },
   {
    "duration": 67,
    "start_time": "2022-01-06T16:20:00.565Z"
   },
   {
    "duration": 35,
    "start_time": "2022-01-06T16:20:00.634Z"
   },
   {
    "duration": 29,
    "start_time": "2022-01-06T16:20:00.671Z"
   },
   {
    "duration": 38,
    "start_time": "2022-01-06T16:20:00.702Z"
   },
   {
    "duration": 32,
    "start_time": "2022-01-06T16:20:00.742Z"
   },
   {
    "duration": 36,
    "start_time": "2022-01-06T16:20:00.775Z"
   },
   {
    "duration": 21,
    "start_time": "2022-01-06T16:20:00.813Z"
   },
   {
    "duration": 35,
    "start_time": "2022-01-06T16:20:00.836Z"
   },
   {
    "duration": 28,
    "start_time": "2022-01-06T16:20:00.875Z"
   },
   {
    "duration": 33,
    "start_time": "2022-01-06T16:20:00.906Z"
   },
   {
    "duration": 42,
    "start_time": "2022-01-06T16:20:00.941Z"
   },
   {
    "duration": 31,
    "start_time": "2022-01-06T16:20:00.985Z"
   },
   {
    "duration": 40,
    "start_time": "2022-01-06T16:20:01.018Z"
   },
   {
    "duration": 11,
    "start_time": "2022-01-06T16:20:01.060Z"
   },
   {
    "duration": 28,
    "start_time": "2022-01-06T16:20:01.073Z"
   },
   {
    "duration": 10,
    "start_time": "2022-01-06T16:20:01.103Z"
   },
   {
    "duration": 13,
    "start_time": "2022-01-06T16:20:01.115Z"
   },
   {
    "duration": 14,
    "start_time": "2022-01-06T16:20:01.130Z"
   },
   {
    "duration": 19,
    "start_time": "2022-01-06T16:20:01.146Z"
   },
   {
    "duration": 15,
    "start_time": "2022-01-06T16:20:01.167Z"
   },
   {
    "duration": 45,
    "start_time": "2022-01-06T16:20:01.184Z"
   },
   {
    "duration": 12,
    "start_time": "2022-01-06T16:20:01.230Z"
   },
   {
    "duration": 13,
    "start_time": "2022-01-06T16:20:01.244Z"
   },
   {
    "duration": 16,
    "start_time": "2022-01-06T16:20:01.258Z"
   },
   {
    "duration": 21,
    "start_time": "2022-01-06T16:20:01.276Z"
   },
   {
    "duration": 16,
    "start_time": "2022-01-06T16:20:01.299Z"
   },
   {
    "duration": 21,
    "start_time": "2022-01-06T16:20:01.317Z"
   },
   {
    "duration": 41,
    "start_time": "2022-01-06T16:20:01.340Z"
   },
   {
    "duration": 16,
    "start_time": "2022-01-06T16:20:01.383Z"
   },
   {
    "duration": 12,
    "start_time": "2022-01-06T16:20:01.401Z"
   },
   {
    "duration": 10,
    "start_time": "2022-01-06T16:20:01.415Z"
   },
   {
    "duration": 19,
    "start_time": "2022-01-06T16:20:01.426Z"
   },
   {
    "duration": 4380,
    "start_time": "2022-01-06T16:20:01.447Z"
   },
   {
    "duration": 10,
    "start_time": "2022-01-06T16:20:05.829Z"
   },
   {
    "duration": 21,
    "start_time": "2022-01-06T16:20:05.841Z"
   },
   {
    "duration": 8,
    "start_time": "2022-01-06T16:20:05.864Z"
   },
   {
    "duration": 18,
    "start_time": "2022-01-06T16:20:05.874Z"
   },
   {
    "duration": 30,
    "start_time": "2022-01-06T16:20:05.894Z"
   },
   {
    "duration": 7,
    "start_time": "2022-01-06T16:20:05.925Z"
   },
   {
    "duration": 23,
    "start_time": "2022-01-06T16:20:05.933Z"
   },
   {
    "duration": 25,
    "start_time": "2022-01-06T16:20:05.958Z"
   },
   {
    "duration": 44,
    "start_time": "2022-01-06T16:20:05.985Z"
   },
   {
    "duration": 24,
    "start_time": "2022-01-06T16:20:06.030Z"
   },
   {
    "duration": 17,
    "start_time": "2022-01-06T16:20:06.056Z"
   },
   {
    "duration": 22,
    "start_time": "2022-01-06T16:20:06.075Z"
   },
   {
    "duration": 35,
    "start_time": "2022-01-06T16:20:06.098Z"
   },
   {
    "duration": 35,
    "start_time": "2022-01-06T16:20:06.135Z"
   },
   {
    "duration": 22,
    "start_time": "2022-01-06T16:20:06.171Z"
   },
   {
    "duration": 11,
    "start_time": "2022-01-06T16:20:06.195Z"
   },
   {
    "duration": 12,
    "start_time": "2022-01-06T16:20:06.208Z"
   },
   {
    "duration": 13,
    "start_time": "2022-01-06T16:20:06.221Z"
   },
   {
    "duration": 64,
    "start_time": "2022-01-08T07:39:54.287Z"
   },
   {
    "duration": 211,
    "start_time": "2022-01-08T07:41:28.135Z"
   },
   {
    "duration": 542,
    "start_time": "2022-01-08T07:41:39.322Z"
   },
   {
    "duration": 48,
    "start_time": "2022-01-08T07:41:39.866Z"
   },
   {
    "duration": 10,
    "start_time": "2022-01-08T07:41:39.916Z"
   },
   {
    "duration": 17,
    "start_time": "2022-01-08T07:41:39.928Z"
   },
   {
    "duration": 7,
    "start_time": "2022-01-08T07:41:39.947Z"
   },
   {
    "duration": 32,
    "start_time": "2022-01-08T07:41:53.443Z"
   },
   {
    "duration": 30,
    "start_time": "2022-01-08T07:42:45.039Z"
   },
   {
    "duration": 273,
    "start_time": "2022-01-08T07:45:01.557Z"
   },
   {
    "duration": 171,
    "start_time": "2022-01-08T07:45:44.839Z"
   },
   {
    "duration": 235,
    "start_time": "2022-01-08T07:45:54.109Z"
   },
   {
    "duration": 178,
    "start_time": "2022-01-08T07:47:31.757Z"
   },
   {
    "duration": 184,
    "start_time": "2022-01-08T07:47:59.043Z"
   },
   {
    "duration": 171,
    "start_time": "2022-01-08T07:48:05.155Z"
   },
   {
    "duration": 186,
    "start_time": "2022-01-08T07:48:15.197Z"
   },
   {
    "duration": 175,
    "start_time": "2022-01-08T07:51:02.637Z"
   },
   {
    "duration": 32,
    "start_time": "2022-01-08T07:51:07.661Z"
   },
   {
    "duration": 50,
    "start_time": "2022-01-08T07:53:52.421Z"
   },
   {
    "duration": 3,
    "start_time": "2022-01-08T08:04:48.726Z"
   },
   {
    "duration": 51,
    "start_time": "2022-01-08T08:04:48.731Z"
   },
   {
    "duration": 9,
    "start_time": "2022-01-08T08:04:48.784Z"
   },
   {
    "duration": 13,
    "start_time": "2022-01-08T08:04:48.795Z"
   },
   {
    "duration": 10,
    "start_time": "2022-01-08T08:04:48.809Z"
   },
   {
    "duration": 31,
    "start_time": "2022-01-08T08:04:48.820Z"
   },
   {
    "duration": 49,
    "start_time": "2022-01-08T08:04:48.853Z"
   },
   {
    "duration": 9,
    "start_time": "2022-01-08T08:04:48.904Z"
   },
   {
    "duration": 20,
    "start_time": "2022-01-08T08:04:48.915Z"
   },
   {
    "duration": 3,
    "start_time": "2022-01-08T08:04:48.937Z"
   },
   {
    "duration": 61,
    "start_time": "2022-01-08T08:04:48.942Z"
   },
   {
    "duration": 2,
    "start_time": "2022-01-08T08:04:49.005Z"
   },
   {
    "duration": 9,
    "start_time": "2022-01-08T08:04:49.008Z"
   },
   {
    "duration": 7,
    "start_time": "2022-01-08T08:04:49.018Z"
   },
   {
    "duration": 9,
    "start_time": "2022-01-08T08:04:49.027Z"
   },
   {
    "duration": 10,
    "start_time": "2022-01-08T08:04:49.037Z"
   },
   {
    "duration": 8,
    "start_time": "2022-01-08T08:04:49.048Z"
   },
   {
    "duration": 35,
    "start_time": "2022-01-08T08:04:49.058Z"
   },
   {
    "duration": 18,
    "start_time": "2022-01-08T08:05:00.083Z"
   },
   {
    "duration": 15,
    "start_time": "2022-01-08T08:05:02.517Z"
   },
   {
    "duration": 15,
    "start_time": "2022-01-08T08:07:14.551Z"
   },
   {
    "duration": 17,
    "start_time": "2022-01-08T08:09:08.491Z"
   },
   {
    "duration": 16,
    "start_time": "2022-01-08T08:09:09.599Z"
   },
   {
    "duration": 11,
    "start_time": "2022-01-08T08:09:52.657Z"
   },
   {
    "duration": 13,
    "start_time": "2022-01-08T08:09:56.273Z"
   },
   {
    "duration": 8,
    "start_time": "2022-01-08T08:10:01.587Z"
   },
   {
    "duration": 11,
    "start_time": "2022-01-08T08:10:04.555Z"
   },
   {
    "duration": 13,
    "start_time": "2022-01-08T08:10:08.479Z"
   },
   {
    "duration": 9,
    "start_time": "2022-01-08T08:10:10.901Z"
   },
   {
    "duration": 9,
    "start_time": "2022-01-08T08:11:08.945Z"
   },
   {
    "duration": 24,
    "start_time": "2022-01-08T08:12:09.273Z"
   },
   {
    "duration": 10,
    "start_time": "2022-01-08T08:12:17.227Z"
   },
   {
    "duration": 7,
    "start_time": "2022-01-08T08:12:38.851Z"
   },
   {
    "duration": 8,
    "start_time": "2022-01-08T08:12:52.137Z"
   },
   {
    "duration": 6,
    "start_time": "2022-01-08T08:12:55.977Z"
   },
   {
    "duration": 4,
    "start_time": "2022-01-08T08:13:01.315Z"
   },
   {
    "duration": 179,
    "start_time": "2022-01-08T08:14:27.225Z"
   },
   {
    "duration": 263,
    "start_time": "2022-01-08T08:14:32.511Z"
   },
   {
    "duration": 178,
    "start_time": "2022-01-08T08:15:03.789Z"
   },
   {
    "duration": 184,
    "start_time": "2022-01-08T08:16:20.987Z"
   },
   {
    "duration": 33,
    "start_time": "2022-01-08T08:16:26.353Z"
   },
   {
    "duration": 31,
    "start_time": "2022-01-08T08:16:39.163Z"
   },
   {
    "duration": 8,
    "start_time": "2022-01-08T08:16:58.768Z"
   },
   {
    "duration": 15,
    "start_time": "2022-01-08T08:17:11.244Z"
   },
   {
    "duration": 4,
    "start_time": "2022-01-08T08:17:15.527Z"
   },
   {
    "duration": 4,
    "start_time": "2022-01-08T08:17:16.247Z"
   },
   {
    "duration": 4,
    "start_time": "2022-01-08T08:17:19.249Z"
   },
   {
    "duration": 4,
    "start_time": "2022-01-08T08:29:50.417Z"
   },
   {
    "duration": 4,
    "start_time": "2022-01-08T08:29:51.109Z"
   },
   {
    "duration": 3,
    "start_time": "2022-01-08T08:29:51.755Z"
   },
   {
    "duration": 4,
    "start_time": "2022-01-08T08:29:52.395Z"
   },
   {
    "duration": 3,
    "start_time": "2022-01-08T08:29:53.689Z"
   },
   {
    "duration": 4,
    "start_time": "2022-01-08T08:29:54.229Z"
   },
   {
    "duration": 4,
    "start_time": "2022-01-08T08:29:55.057Z"
   },
   {
    "duration": 11,
    "start_time": "2022-01-08T08:29:56.513Z"
   },
   {
    "duration": 4,
    "start_time": "2022-01-08T08:31:28.043Z"
   },
   {
    "duration": 10,
    "start_time": "2022-01-08T08:31:32.953Z"
   },
   {
    "duration": 6,
    "start_time": "2022-01-08T08:39:49.903Z"
   },
   {
    "duration": 5,
    "start_time": "2022-01-08T08:41:13.012Z"
   },
   {
    "duration": 5,
    "start_time": "2022-01-08T08:41:36.656Z"
   },
   {
    "duration": 4,
    "start_time": "2022-01-08T08:43:35.625Z"
   },
   {
    "duration": 11,
    "start_time": "2022-01-08T08:43:37.252Z"
   },
   {
    "duration": 17,
    "start_time": "2022-01-08T08:43:39.543Z"
   },
   {
    "duration": 12,
    "start_time": "2022-01-08T08:44:03.439Z"
   },
   {
    "duration": 53,
    "start_time": "2022-01-08T08:46:14.997Z"
   },
   {
    "duration": 3,
    "start_time": "2022-01-08T08:47:07.017Z"
   },
   {
    "duration": 53,
    "start_time": "2022-01-08T08:47:07.022Z"
   },
   {
    "duration": 10,
    "start_time": "2022-01-08T08:47:07.077Z"
   },
   {
    "duration": 13,
    "start_time": "2022-01-08T08:47:07.089Z"
   },
   {
    "duration": 10,
    "start_time": "2022-01-08T08:47:07.103Z"
   },
   {
    "duration": 34,
    "start_time": "2022-01-08T08:47:07.115Z"
   },
   {
    "duration": 42,
    "start_time": "2022-01-08T08:47:07.150Z"
   },
   {
    "duration": 9,
    "start_time": "2022-01-08T08:47:07.193Z"
   },
   {
    "duration": 20,
    "start_time": "2022-01-08T08:47:07.204Z"
   },
   {
    "duration": 3,
    "start_time": "2022-01-08T08:47:07.226Z"
   },
   {
    "duration": 33,
    "start_time": "2022-01-08T08:47:07.230Z"
   },
   {
    "duration": 28,
    "start_time": "2022-01-08T08:47:07.264Z"
   },
   {
    "duration": 8,
    "start_time": "2022-01-08T08:47:07.293Z"
   },
   {
    "duration": 7,
    "start_time": "2022-01-08T08:47:07.302Z"
   },
   {
    "duration": 7,
    "start_time": "2022-01-08T08:47:07.310Z"
   },
   {
    "duration": 10,
    "start_time": "2022-01-08T08:47:07.318Z"
   },
   {
    "duration": 7,
    "start_time": "2022-01-08T08:47:07.330Z"
   },
   {
    "duration": 5,
    "start_time": "2022-01-08T08:47:07.338Z"
   },
   {
    "duration": 56,
    "start_time": "2022-01-08T08:47:07.344Z"
   },
   {
    "duration": 14,
    "start_time": "2022-01-08T08:47:07.402Z"
   },
   {
    "duration": 15,
    "start_time": "2022-01-08T08:47:07.417Z"
   },
   {
    "duration": 8,
    "start_time": "2022-01-08T08:47:07.433Z"
   },
   {
    "duration": 13,
    "start_time": "2022-01-08T08:47:07.443Z"
   },
   {
    "duration": 34,
    "start_time": "2022-01-08T08:47:07.457Z"
   },
   {
    "duration": 11,
    "start_time": "2022-01-08T08:47:07.493Z"
   },
   {
    "duration": 13,
    "start_time": "2022-01-08T08:47:07.505Z"
   },
   {
    "duration": 8,
    "start_time": "2022-01-08T08:47:07.521Z"
   },
   {
    "duration": 10,
    "start_time": "2022-01-08T08:47:07.531Z"
   },
   {
    "duration": 48,
    "start_time": "2022-01-08T08:47:07.542Z"
   },
   {
    "duration": 9,
    "start_time": "2022-01-08T08:47:07.592Z"
   },
   {
    "duration": 7,
    "start_time": "2022-01-08T08:47:07.603Z"
   },
   {
    "duration": 8,
    "start_time": "2022-01-08T08:47:07.611Z"
   },
   {
    "duration": 5,
    "start_time": "2022-01-08T08:47:07.621Z"
   },
   {
    "duration": 7,
    "start_time": "2022-01-08T08:47:07.627Z"
   },
   {
    "duration": 9,
    "start_time": "2022-01-08T08:47:07.636Z"
   },
   {
    "duration": 11,
    "start_time": "2022-01-08T08:47:10.783Z"
   },
   {
    "duration": 4,
    "start_time": "2022-01-08T08:47:35.408Z"
   },
   {
    "duration": 4,
    "start_time": "2022-01-08T08:47:38.961Z"
   },
   {
    "duration": 4,
    "start_time": "2022-01-08T08:47:39.351Z"
   },
   {
    "duration": 3,
    "start_time": "2022-01-08T08:47:39.677Z"
   },
   {
    "duration": 4,
    "start_time": "2022-01-08T08:47:40.069Z"
   },
   {
    "duration": 3,
    "start_time": "2022-01-08T08:47:40.827Z"
   },
   {
    "duration": 3,
    "start_time": "2022-01-08T08:47:41.229Z"
   },
   {
    "duration": 4,
    "start_time": "2022-01-08T08:47:42.001Z"
   },
   {
    "duration": 12,
    "start_time": "2022-01-08T08:47:43.293Z"
   },
   {
    "duration": 12,
    "start_time": "2022-01-08T08:47:56.111Z"
   },
   {
    "duration": 4,
    "start_time": "2022-01-08T08:48:42.299Z"
   },
   {
    "duration": 13,
    "start_time": "2022-01-08T08:48:49.890Z"
   },
   {
    "duration": 7,
    "start_time": "2022-01-08T08:53:29.404Z"
   },
   {
    "duration": 15,
    "start_time": "2022-01-08T08:55:04.576Z"
   },
   {
    "duration": 5,
    "start_time": "2022-01-08T08:55:43.068Z"
   },
   {
    "duration": 4,
    "start_time": "2022-01-08T08:56:12.130Z"
   },
   {
    "duration": 11,
    "start_time": "2022-01-08T08:56:18.756Z"
   },
   {
    "duration": 14,
    "start_time": "2022-01-08T08:56:23.130Z"
   },
   {
    "duration": 4,
    "start_time": "2022-01-08T08:57:38.262Z"
   },
   {
    "duration": 16,
    "start_time": "2022-01-08T08:57:41.125Z"
   },
   {
    "duration": 19,
    "start_time": "2022-01-08T08:57:44.986Z"
   },
   {
    "duration": 5,
    "start_time": "2022-01-08T09:02:16.642Z"
   },
   {
    "duration": 13,
    "start_time": "2022-01-08T09:02:20.766Z"
   },
   {
    "duration": 5,
    "start_time": "2022-01-08T09:02:27.620Z"
   },
   {
    "duration": 4,
    "start_time": "2022-01-08T09:02:36.014Z"
   },
   {
    "duration": 11,
    "start_time": "2022-01-08T09:02:39.368Z"
   },
   {
    "duration": 12,
    "start_time": "2022-01-08T09:02:46.442Z"
   },
   {
    "duration": 6,
    "start_time": "2022-01-08T09:02:57.352Z"
   },
   {
    "duration": 6,
    "start_time": "2022-01-08T09:03:01.394Z"
   },
   {
    "duration": 4,
    "start_time": "2022-01-08T09:03:07.850Z"
   },
   {
    "duration": 12,
    "start_time": "2022-01-08T09:03:10.466Z"
   },
   {
    "duration": 13,
    "start_time": "2022-01-08T09:03:14.410Z"
   },
   {
    "duration": 4,
    "start_time": "2022-01-08T09:04:59.466Z"
   },
   {
    "duration": 5,
    "start_time": "2022-01-08T09:05:10.510Z"
   },
   {
    "duration": 4,
    "start_time": "2022-01-08T09:06:34.008Z"
   },
   {
    "duration": 5,
    "start_time": "2022-01-08T09:06:36.370Z"
   },
   {
    "duration": 7,
    "start_time": "2022-01-08T09:06:36.760Z"
   },
   {
    "duration": 5,
    "start_time": "2022-01-08T09:06:37.290Z"
   },
   {
    "duration": 4,
    "start_time": "2022-01-08T09:06:37.716Z"
   },
   {
    "duration": 3,
    "start_time": "2022-01-08T09:06:38.608Z"
   },
   {
    "duration": 4,
    "start_time": "2022-01-08T09:06:38.964Z"
   },
   {
    "duration": 12,
    "start_time": "2022-01-08T09:06:39.854Z"
   },
   {
    "duration": 12,
    "start_time": "2022-01-08T09:06:47.818Z"
   },
   {
    "duration": 5,
    "start_time": "2022-01-08T09:07:20.206Z"
   },
   {
    "duration": 12,
    "start_time": "2022-01-08T09:07:21.226Z"
   },
   {
    "duration": 18,
    "start_time": "2022-01-08T09:07:21.900Z"
   },
   {
    "duration": 17,
    "start_time": "2022-01-08T09:07:28.070Z"
   },
   {
    "duration": 5,
    "start_time": "2022-01-08T09:07:29.254Z"
   },
   {
    "duration": 4,
    "start_time": "2022-01-08T09:07:36.071Z"
   },
   {
    "duration": 3,
    "start_time": "2022-01-08T09:07:43.532Z"
   },
   {
    "duration": 3961,
    "start_time": "2022-01-08T09:07:44.008Z"
   },
   {
    "duration": 14,
    "start_time": "2022-01-08T09:07:51.090Z"
   },
   {
    "duration": 6,
    "start_time": "2022-01-08T09:07:54.318Z"
   },
   {
    "duration": 7,
    "start_time": "2022-01-08T09:08:12.636Z"
   },
   {
    "duration": 4,
    "start_time": "2022-01-08T09:08:13.560Z"
   },
   {
    "duration": 10,
    "start_time": "2022-01-08T09:08:14.404Z"
   },
   {
    "duration": 8,
    "start_time": "2022-01-08T09:08:19.260Z"
   },
   {
    "duration": 4,
    "start_time": "2022-01-08T09:08:22.014Z"
   },
   {
    "duration": 8,
    "start_time": "2022-01-08T09:08:24.450Z"
   },
   {
    "duration": 29,
    "start_time": "2022-01-08T09:08:39.960Z"
   },
   {
    "duration": 21,
    "start_time": "2022-01-08T09:08:45.418Z"
   },
   {
    "duration": 11,
    "start_time": "2022-01-08T09:08:48.894Z"
   },
   {
    "duration": 11,
    "start_time": "2022-01-08T09:09:11.012Z"
   },
   {
    "duration": 12,
    "start_time": "2022-01-08T09:09:14.052Z"
   },
   {
    "duration": 12,
    "start_time": "2022-01-08T09:09:17.284Z"
   },
   {
    "duration": 22,
    "start_time": "2022-01-08T09:11:39.798Z"
   },
   {
    "duration": 12,
    "start_time": "2022-01-08T09:11:43.314Z"
   },
   {
    "duration": 61,
    "start_time": "2022-01-08T09:12:15.438Z"
   },
   {
    "duration": 55,
    "start_time": "2022-01-08T09:12:21.058Z"
   },
   {
    "duration": 60,
    "start_time": "2022-01-08T09:12:45.846Z"
   },
   {
    "duration": 66,
    "start_time": "2022-01-08T09:13:00.740Z"
   },
   {
    "duration": 11,
    "start_time": "2022-01-08T09:13:44.548Z"
   },
   {
    "duration": 8,
    "start_time": "2022-01-08T09:13:47.726Z"
   },
   {
    "duration": 615,
    "start_time": "2022-01-08T09:18:24.581Z"
   },
   {
    "duration": 50,
    "start_time": "2022-01-08T09:18:25.198Z"
   },
   {
    "duration": 10,
    "start_time": "2022-01-08T09:18:25.250Z"
   },
   {
    "duration": 29,
    "start_time": "2022-01-08T09:18:25.262Z"
   },
   {
    "duration": 7,
    "start_time": "2022-01-08T09:18:25.293Z"
   },
   {
    "duration": 34,
    "start_time": "2022-01-08T09:18:25.301Z"
   },
   {
    "duration": 29,
    "start_time": "2022-01-08T09:18:25.337Z"
   },
   {
    "duration": 29,
    "start_time": "2022-01-08T09:18:25.367Z"
   },
   {
    "duration": 21,
    "start_time": "2022-01-08T09:18:25.399Z"
   },
   {
    "duration": 3,
    "start_time": "2022-01-08T09:18:25.422Z"
   },
   {
    "duration": 33,
    "start_time": "2022-01-08T09:18:25.427Z"
   },
   {
    "duration": 2,
    "start_time": "2022-01-08T09:18:25.462Z"
   },
   {
    "duration": 30,
    "start_time": "2022-01-08T09:18:25.465Z"
   },
   {
    "duration": 8,
    "start_time": "2022-01-08T09:18:25.496Z"
   },
   {
    "duration": 8,
    "start_time": "2022-01-08T09:18:25.505Z"
   },
   {
    "duration": 11,
    "start_time": "2022-01-08T09:18:25.514Z"
   },
   {
    "duration": 10,
    "start_time": "2022-01-08T09:18:25.526Z"
   },
   {
    "duration": 5,
    "start_time": "2022-01-08T09:18:25.538Z"
   },
   {
    "duration": 57,
    "start_time": "2022-01-08T09:18:25.545Z"
   },
   {
    "duration": 16,
    "start_time": "2022-01-08T09:18:25.604Z"
   },
   {
    "duration": 16,
    "start_time": "2022-01-08T09:18:25.622Z"
   },
   {
    "duration": 10,
    "start_time": "2022-01-08T09:18:25.639Z"
   },
   {
    "duration": 40,
    "start_time": "2022-01-08T09:18:25.652Z"
   },
   {
    "duration": 7,
    "start_time": "2022-01-08T09:18:25.694Z"
   },
   {
    "duration": 11,
    "start_time": "2022-01-08T09:18:25.703Z"
   },
   {
    "duration": 12,
    "start_time": "2022-01-08T09:18:25.715Z"
   },
   {
    "duration": 8,
    "start_time": "2022-01-08T09:18:25.730Z"
   },
   {
    "duration": 7,
    "start_time": "2022-01-08T09:18:25.740Z"
   },
   {
    "duration": 53,
    "start_time": "2022-01-08T09:18:25.749Z"
   },
   {
    "duration": 9,
    "start_time": "2022-01-08T09:18:25.804Z"
   },
   {
    "duration": 7,
    "start_time": "2022-01-08T09:18:25.815Z"
   },
   {
    "duration": 10,
    "start_time": "2022-01-08T09:18:25.823Z"
   },
   {
    "duration": 5,
    "start_time": "2022-01-08T09:18:25.835Z"
   },
   {
    "duration": 3,
    "start_time": "2022-01-08T09:18:25.841Z"
   },
   {
    "duration": 10,
    "start_time": "2022-01-08T09:18:25.846Z"
   },
   {
    "duration": 38,
    "start_time": "2022-01-08T09:18:25.857Z"
   },
   {
    "duration": 3,
    "start_time": "2022-01-08T09:18:25.897Z"
   },
   {
    "duration": 5,
    "start_time": "2022-01-08T09:18:25.902Z"
   },
   {
    "duration": 7,
    "start_time": "2022-01-08T09:18:25.908Z"
   },
   {
    "duration": 5,
    "start_time": "2022-01-08T09:18:25.917Z"
   },
   {
    "duration": 4,
    "start_time": "2022-01-08T09:18:25.923Z"
   },
   {
    "duration": 4,
    "start_time": "2022-01-08T09:18:25.929Z"
   },
   {
    "duration": 5,
    "start_time": "2022-01-08T09:18:25.935Z"
   },
   {
    "duration": 13,
    "start_time": "2022-01-08T09:18:25.941Z"
   },
   {
    "duration": 37,
    "start_time": "2022-01-08T09:18:25.956Z"
   },
   {
    "duration": 12,
    "start_time": "2022-01-08T09:18:25.994Z"
   },
   {
    "duration": 22,
    "start_time": "2022-01-08T09:18:26.008Z"
   },
   {
    "duration": 16,
    "start_time": "2022-01-08T09:18:26.032Z"
   },
   {
    "duration": 3,
    "start_time": "2022-01-08T09:18:26.049Z"
   },
   {
    "duration": 38,
    "start_time": "2022-01-08T09:18:26.054Z"
   },
   {
    "duration": 5,
    "start_time": "2022-01-08T09:18:26.093Z"
   },
   {
    "duration": 3949,
    "start_time": "2022-01-08T09:18:26.100Z"
   },
   {
    "duration": 14,
    "start_time": "2022-01-08T09:18:30.051Z"
   },
   {
    "duration": 5,
    "start_time": "2022-01-08T09:18:30.066Z"
   },
   {
    "duration": 27,
    "start_time": "2022-01-08T09:18:30.073Z"
   },
   {
    "duration": 40,
    "start_time": "2022-01-08T09:18:30.102Z"
   },
   {
    "duration": 34,
    "start_time": "2022-01-08T09:18:30.144Z"
   },
   {
    "duration": 20,
    "start_time": "2022-01-08T09:18:30.180Z"
   },
   {
    "duration": 27,
    "start_time": "2022-01-08T09:18:30.202Z"
   },
   {
    "duration": 38,
    "start_time": "2022-01-08T09:18:30.231Z"
   },
   {
    "duration": 42,
    "start_time": "2022-01-08T09:18:30.270Z"
   },
   {
    "duration": 15,
    "start_time": "2022-01-08T09:18:30.314Z"
   },
   {
    "duration": 18,
    "start_time": "2022-01-08T09:18:30.331Z"
   },
   {
    "duration": 21,
    "start_time": "2022-01-08T09:18:30.350Z"
   },
   {
    "duration": 20,
    "start_time": "2022-01-08T09:18:30.372Z"
   },
   {
    "duration": 11,
    "start_time": "2022-01-08T09:18:30.393Z"
   },
   {
    "duration": 33,
    "start_time": "2022-01-08T09:18:30.405Z"
   },
   {
    "duration": 36,
    "start_time": "2022-01-08T09:18:30.440Z"
   },
   {
    "duration": 31,
    "start_time": "2022-01-08T09:18:30.478Z"
   },
   {
    "duration": 23,
    "start_time": "2022-01-08T09:18:30.511Z"
   }
  ],
  "kernelspec": {
   "display_name": "Python 3 (ipykernel)",
   "language": "python",
   "name": "python3"
  },
  "language_info": {
   "codemirror_mode": {
    "name": "ipython",
    "version": 3
   },
   "file_extension": ".py",
   "mimetype": "text/x-python",
   "name": "python",
   "nbconvert_exporter": "python",
   "pygments_lexer": "ipython3",
   "version": "3.8.11"
  },
  "toc": {
   "base_numbering": 1,
   "nav_menu": {},
   "number_sections": true,
   "sideBar": true,
   "skip_h1_title": true,
   "title_cell": "Содержание",
   "title_sidebar": "Contents",
   "toc_cell": true,
   "toc_position": {},
   "toc_section_display": true,
   "toc_window_display": false
  }
 },
 "nbformat": 4,
 "nbformat_minor": 2
}
