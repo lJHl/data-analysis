{
 "cells": [
  {
   "cell_type": "markdown",
   "metadata": {},
   "source": [
    "# Анализ товарного ассортимента интернет-магазина товаров для дома и быта"
   ]
  },
  {
   "cell_type": "markdown",
   "metadata": {},
   "source": [
    "**Цель проекта –** проанализировать ассортимент товаров, определить какие товары входят в основной и дополнительный ассортимент, чтобы грамотно предлагать покупателям дополнительные товары и оптимизировать закупки, для этого:\n",
    "- Проведем исследовательский анализ данных; \n",
    "- Проанализируем торговый ассортимент; \n",
    "- Сформулируем и проверим статистические гипотезы.\n",
    "\n",
    "*В качестве входных данных используется датасет описывающий транзакции интернет-магазина товаров для дома и быта.*\n",
    "\n",
    "[Презентация проекта](https://disk.yandex.ru/i/T6h0U-2-ByQtLw)  \n",
    "[Дашборд](https://public.tableau.com/app/profile/ljhl/viz/EcommerceDashboard_16554073462910/Dashboard1)\n",
    "\n",
    "**Ход анализа:**\n",
    "1. Обзор данных;\n",
    "2. Предобработка данных;\n",
    "3. Категоризация товарного ассортимента;\n",
    "4. Проведение исследовательского анализа данных (EDA);\n",
    "5. Проверка статистических гипотез;\n",
    "6. Расчет бизнес-показателей."
   ]
  },
  {
   "cell_type": "code",
   "execution_count": 1,
   "metadata": {},
   "outputs": [],
   "source": [
    "import pandas as pd\n",
    "import numpy as np\n",
    "import plotly.graph_objects as go\n",
    "import plotly.express as px\n",
    "import plotly.io as pio\n",
    "\n",
    "from scipy import stats as st\n",
    "from pymystem3 import Mystem\n",
    "from plotly.subplots import make_subplots"
   ]
  },
  {
   "cell_type": "code",
   "execution_count": 2,
   "metadata": {},
   "outputs": [],
   "source": [
    "%config InlineBackend.figure_format = 'retina'\n",
    "pd.set_option('display.max_colwidth', 100)\n",
    "pd.set_option(\"display.precision\", 2)\n",
    "pio.templates.default = 'seaborn'"
   ]
  },
  {
   "cell_type": "code",
   "execution_count": 3,
   "metadata": {},
   "outputs": [],
   "source": [
    "df = pd.read_csv('ecommerce_dataset.csv')"
   ]
  },
  {
   "cell_type": "markdown",
   "metadata": {},
   "source": [
    "## Обзор данных"
   ]
  },
  {
   "cell_type": "code",
   "execution_count": 4,
   "metadata": {},
   "outputs": [
    {
     "name": "stdout",
     "output_type": "stream",
     "text": [
      "<class 'pandas.core.frame.DataFrame'>\n",
      "RangeIndex: 6737 entries, 0 to 6736\n",
      "Data columns (total 6 columns):\n",
      " #   Column       Non-Null Count  Dtype  \n",
      "---  ------       --------------  -----  \n",
      " 0   date         6737 non-null   int64  \n",
      " 1   customer_id  6737 non-null   object \n",
      " 2   order_id     6737 non-null   int64  \n",
      " 3   product      6737 non-null   object \n",
      " 4   quantity     6737 non-null   int64  \n",
      " 5   price        6737 non-null   float64\n",
      "dtypes: float64(1), int64(3), object(2)\n",
      "memory usage: 315.9+ KB\n"
     ]
    }
   ],
   "source": [
    "df.info()"
   ]
  },
  {
   "cell_type": "markdown",
   "metadata": {},
   "source": [
    "**Согласно документации к данным:**  \n",
    "\n",
    "- `date` — дата заказа;  \n",
    "- `customer_id` — идентификатор покупателя; order_id — идентификатор заказа;  \n",
    "- `product` — наименование товара;  \n",
    "- `quantity` — количество товара в заказе; price — цена товара."
   ]
  },
  {
   "cell_type": "code",
   "execution_count": 5,
   "metadata": {},
   "outputs": [
    {
     "data": {
      "text/html": [
       "<div>\n",
       "<style scoped>\n",
       "    .dataframe tbody tr th:only-of-type {\n",
       "        vertical-align: middle;\n",
       "    }\n",
       "\n",
       "    .dataframe tbody tr th {\n",
       "        vertical-align: top;\n",
       "    }\n",
       "\n",
       "    .dataframe thead th {\n",
       "        text-align: right;\n",
       "    }\n",
       "</style>\n",
       "<table border=\"1\" class=\"dataframe\">\n",
       "  <thead>\n",
       "    <tr style=\"text-align: right;\">\n",
       "      <th></th>\n",
       "      <th>date</th>\n",
       "      <th>customer_id</th>\n",
       "      <th>order_id</th>\n",
       "      <th>product</th>\n",
       "      <th>quantity</th>\n",
       "      <th>price</th>\n",
       "    </tr>\n",
       "  </thead>\n",
       "  <tbody>\n",
       "    <tr>\n",
       "      <th>721</th>\n",
       "      <td>2018110908</td>\n",
       "      <td>8dbfb5d0-837c-4cb7-a5d9-88ff7ed304e8</td>\n",
       "      <td>68919</td>\n",
       "      <td>Муляж Морковь 16 см</td>\n",
       "      <td>1</td>\n",
       "      <td>59.0</td>\n",
       "    </tr>\n",
       "    <tr>\n",
       "      <th>4968</th>\n",
       "      <td>2019061007</td>\n",
       "      <td>1d6c8c1f-a799-4418-9af2-1ded47d7a85c</td>\n",
       "      <td>14833</td>\n",
       "      <td>Рассада Кабачка сорт Аэронавт, кассета по 6шт</td>\n",
       "      <td>1</td>\n",
       "      <td>120.0</td>\n",
       "    </tr>\n",
       "    <tr>\n",
       "      <th>3525</th>\n",
       "      <td>2019051119</td>\n",
       "      <td>dddcafaf-6ca9-4427-9e54-a1cdd9323bec</td>\n",
       "      <td>14750</td>\n",
       "      <td>Рассада Арбуза сорт Огонек горшок 9х9 см P-9</td>\n",
       "      <td>1</td>\n",
       "      <td>38.0</td>\n",
       "    </tr>\n",
       "    <tr>\n",
       "      <th>4730</th>\n",
       "      <td>2019060616</td>\n",
       "      <td>6a86cc77-ef15-496f-b5d3-89005597ee5d</td>\n",
       "      <td>14856</td>\n",
       "      <td>Бадан Сердцелистный Красная звезда красный объем 1 л</td>\n",
       "      <td>1</td>\n",
       "      <td>150.0</td>\n",
       "    </tr>\n",
       "    <tr>\n",
       "      <th>3798</th>\n",
       "      <td>2019051508</td>\n",
       "      <td>3976660e-6cca-4009-a170-be13f13ed459</td>\n",
       "      <td>14778</td>\n",
       "      <td>Арбуз Волгоградец Р-9</td>\n",
       "      <td>1</td>\n",
       "      <td>38.0</td>\n",
       "    </tr>\n",
       "  </tbody>\n",
       "</table>\n",
       "</div>"
      ],
      "text/plain": [
       "            date                           customer_id  order_id  \\\n",
       "721   2018110908  8dbfb5d0-837c-4cb7-a5d9-88ff7ed304e8     68919   \n",
       "4968  2019061007  1d6c8c1f-a799-4418-9af2-1ded47d7a85c     14833   \n",
       "3525  2019051119  dddcafaf-6ca9-4427-9e54-a1cdd9323bec     14750   \n",
       "4730  2019060616  6a86cc77-ef15-496f-b5d3-89005597ee5d     14856   \n",
       "3798  2019051508  3976660e-6cca-4009-a170-be13f13ed459     14778   \n",
       "\n",
       "                                                   product  quantity  price  \n",
       "721                                    Муляж Морковь 16 см         1   59.0  \n",
       "4968         Рассада Кабачка сорт Аэронавт, кассета по 6шт         1  120.0  \n",
       "3525          Рассада Арбуза сорт Огонек горшок 9х9 см P-9         1   38.0  \n",
       "4730  Бадан Сердцелистный Красная звезда красный объем 1 л         1  150.0  \n",
       "3798                                 Арбуз Волгоградец Р-9         1   38.0  "
      ]
     },
     "execution_count": 5,
     "metadata": {},
     "output_type": "execute_result"
    }
   ],
   "source": [
    "df.sample(5)"
   ]
  },
  {
   "cell_type": "code",
   "execution_count": 6,
   "metadata": {},
   "outputs": [
    {
     "data": {
      "text/plain": [
       "0"
      ]
     },
     "execution_count": 6,
     "metadata": {},
     "output_type": "execute_result"
    }
   ],
   "source": [
    "df.duplicated().sum()"
   ]
  },
  {
   "cell_type": "markdown",
   "metadata": {},
   "source": [
    "### Вывод\n",
    "\n",
    "- В датасете нет пропусков;\n",
    "- В датасете нет явных дубликатов;\n",
    "- Дата представлена с неправильным типом данных;\n",
    "- Столбец price можно преобразовать к int."
   ]
  },
  {
   "cell_type": "markdown",
   "metadata": {},
   "source": [
    "## Предобработка данных"
   ]
  },
  {
   "cell_type": "markdown",
   "metadata": {},
   "source": [
    "**Чтобы предобработать данные, выполним следующие действия:**\n",
    "\n",
    "- Преобразуем типы данных;\n",
    "- Заменим \"ё\" на \"е\";\n",
    "- Произведем поиск неявных дубликатов;\n",
    "- Добавим столбцы необходимые для дальнейшего исследования.\n",
    "  "
   ]
  },
  {
   "cell_type": "markdown",
   "metadata": {},
   "source": [
    "### Преобразование типов данных"
   ]
  },
  {
   "cell_type": "code",
   "execution_count": 7,
   "metadata": {},
   "outputs": [],
   "source": [
    "df['date'] = pd.to_datetime(df['date'], format='%Y%m%d%H')"
   ]
  },
  {
   "cell_type": "code",
   "execution_count": 8,
   "metadata": {},
   "outputs": [],
   "source": [
    "df['price'] = df['price'].astype('int')"
   ]
  },
  {
   "cell_type": "markdown",
   "metadata": {},
   "source": [
    "**Заменим \"ё\" на \"е\":**"
   ]
  },
  {
   "cell_type": "code",
   "execution_count": 9,
   "metadata": {},
   "outputs": [],
   "source": [
    "df['product'] = df['product'].str.replace('ё', 'е', regex=True).str.replace('Ë', 'Е', regex=True)"
   ]
  },
  {
   "cell_type": "markdown",
   "metadata": {},
   "source": [
    "### Поиск неявных дубликатов"
   ]
  },
  {
   "cell_type": "code",
   "execution_count": 10,
   "metadata": {},
   "outputs": [
    {
     "data": {
      "text/plain": [
       "1864"
      ]
     },
     "execution_count": 10,
     "metadata": {},
     "output_type": "execute_result"
    }
   ],
   "source": [
    "df.duplicated(subset=['customer_id', 'order_id', 'product', 'quantity', 'price']).sum()"
   ]
  },
  {
   "cell_type": "code",
   "execution_count": 11,
   "metadata": {},
   "outputs": [
    {
     "data": {
      "text/html": [
       "<div>\n",
       "<style scoped>\n",
       "    .dataframe tbody tr th:only-of-type {\n",
       "        vertical-align: middle;\n",
       "    }\n",
       "\n",
       "    .dataframe tbody tr th {\n",
       "        vertical-align: top;\n",
       "    }\n",
       "\n",
       "    .dataframe thead th {\n",
       "        text-align: right;\n",
       "    }\n",
       "</style>\n",
       "<table border=\"1\" class=\"dataframe\">\n",
       "  <thead>\n",
       "    <tr style=\"text-align: right;\">\n",
       "      <th></th>\n",
       "      <th>date</th>\n",
       "      <th>customer_id</th>\n",
       "      <th>order_id</th>\n",
       "      <th>product</th>\n",
       "      <th>quantity</th>\n",
       "      <th>price</th>\n",
       "    </tr>\n",
       "  </thead>\n",
       "  <tbody>\n",
       "    <tr>\n",
       "      <th>15</th>\n",
       "      <td>2018-10-01 18:00:00</td>\n",
       "      <td>17213b88-1514-47a4-b8aa-ce51378ab34e</td>\n",
       "      <td>68476</td>\n",
       "      <td>Мини-сковорода Marmiton \"Сердце\" с антипригарным покрытием 12 см, LG17085</td>\n",
       "      <td>1</td>\n",
       "      <td>239</td>\n",
       "    </tr>\n",
       "    <tr>\n",
       "      <th>16</th>\n",
       "      <td>2018-10-01 18:00:00</td>\n",
       "      <td>17213b88-1514-47a4-b8aa-ce51378ab34e</td>\n",
       "      <td>68476</td>\n",
       "      <td>Сковорода алюминиевая с антипригарным покрытием MARBLE ALPENKOK d = 26 см AK-0039A/26N</td>\n",
       "      <td>1</td>\n",
       "      <td>824</td>\n",
       "    </tr>\n",
       "    <tr>\n",
       "      <th>17</th>\n",
       "      <td>2018-10-01 18:00:00</td>\n",
       "      <td>17213b88-1514-47a4-b8aa-ce51378ab34e</td>\n",
       "      <td>68476</td>\n",
       "      <td>Стеклянная крышка для сковороды ALPENKOK 26 см AK-26GL</td>\n",
       "      <td>1</td>\n",
       "      <td>262</td>\n",
       "    </tr>\n",
       "    <tr>\n",
       "      <th>18</th>\n",
       "      <td>2018-10-01 18:00:00</td>\n",
       "      <td>17213b88-1514-47a4-b8aa-ce51378ab34e</td>\n",
       "      <td>68476</td>\n",
       "      <td>Сушилка для белья напольная Colombo Star 18, 3679</td>\n",
       "      <td>1</td>\n",
       "      <td>1049</td>\n",
       "    </tr>\n",
       "    <tr>\n",
       "      <th>19</th>\n",
       "      <td>2018-10-01 21:00:00</td>\n",
       "      <td>b731df05-98fa-4610-8496-716ec530a02c</td>\n",
       "      <td>68474</td>\n",
       "      <td>Доска гладильная Eurogold Professional 130х48 см металлическая сетка 35748W</td>\n",
       "      <td>1</td>\n",
       "      <td>3299</td>\n",
       "    </tr>\n",
       "    <tr>\n",
       "      <th>58</th>\n",
       "      <td>2018-10-02 18:00:00</td>\n",
       "      <td>b731df05-98fa-4610-8496-716ec530a02c</td>\n",
       "      <td>68474</td>\n",
       "      <td>Доска гладильная Eurogold Professional 130х48 см металлическая сетка 35748W</td>\n",
       "      <td>1</td>\n",
       "      <td>3299</td>\n",
       "    </tr>\n",
       "    <tr>\n",
       "      <th>59</th>\n",
       "      <td>2018-10-02 19:00:00</td>\n",
       "      <td>b731df05-98fa-4610-8496-716ec530a02c</td>\n",
       "      <td>68474</td>\n",
       "      <td>Доска гладильная Eurogold Professional 130х48 см металлическая сетка 35748W</td>\n",
       "      <td>1</td>\n",
       "      <td>3299</td>\n",
       "    </tr>\n",
       "    <tr>\n",
       "      <th>60</th>\n",
       "      <td>2018-10-02 20:00:00</td>\n",
       "      <td>b731df05-98fa-4610-8496-716ec530a02c</td>\n",
       "      <td>68474</td>\n",
       "      <td>Доска гладильная Eurogold Professional 130х48 см металлическая сетка 35748W</td>\n",
       "      <td>1</td>\n",
       "      <td>3299</td>\n",
       "    </tr>\n",
       "    <tr>\n",
       "      <th>63</th>\n",
       "      <td>2018-10-03 04:00:00</td>\n",
       "      <td>b731df05-98fa-4610-8496-716ec530a02c</td>\n",
       "      <td>68474</td>\n",
       "      <td>Доска гладильная Eurogold Professional 130х48 см металлическая сетка 35748W</td>\n",
       "      <td>1</td>\n",
       "      <td>3299</td>\n",
       "    </tr>\n",
       "    <tr>\n",
       "      <th>80</th>\n",
       "      <td>2018-10-04 09:00:00</td>\n",
       "      <td>32de7df8-8d4f-4c84-a7b9-c41d00dd83ba</td>\n",
       "      <td>68522</td>\n",
       "      <td>Эвкалипт Гунни d-17 см h-60 см</td>\n",
       "      <td>1</td>\n",
       "      <td>1409</td>\n",
       "    </tr>\n",
       "    <tr>\n",
       "      <th>94</th>\n",
       "      <td>2018-10-04 13:00:00</td>\n",
       "      <td>32de7df8-8d4f-4c84-a7b9-c41d00dd83ba</td>\n",
       "      <td>68522</td>\n",
       "      <td>Эвкалипт Гунни d-17 см h-60 см</td>\n",
       "      <td>1</td>\n",
       "      <td>1409</td>\n",
       "    </tr>\n",
       "    <tr>\n",
       "      <th>102</th>\n",
       "      <td>2018-10-05 00:00:00</td>\n",
       "      <td>b80e4826-7218-4bf9-ac08-eb2c81ab3f62</td>\n",
       "      <td>13547</td>\n",
       "      <td>Рассада зелени для кухни Лаванды в кассете по 6 шт</td>\n",
       "      <td>1</td>\n",
       "      <td>315</td>\n",
       "    </tr>\n",
       "    <tr>\n",
       "      <th>103</th>\n",
       "      <td>2018-10-05 00:00:00</td>\n",
       "      <td>b80e4826-7218-4bf9-ac08-eb2c81ab3f62</td>\n",
       "      <td>13547</td>\n",
       "      <td>Рассада зелени для кухни Розмарина в кассете по 6 шт</td>\n",
       "      <td>1</td>\n",
       "      <td>207</td>\n",
       "    </tr>\n",
       "    <tr>\n",
       "      <th>104</th>\n",
       "      <td>2018-10-05 00:00:00</td>\n",
       "      <td>b80e4826-7218-4bf9-ac08-eb2c81ab3f62</td>\n",
       "      <td>13547</td>\n",
       "      <td>Рассада зелени для кухни Тимьяна в кассете по 6 шт</td>\n",
       "      <td>1</td>\n",
       "      <td>162</td>\n",
       "    </tr>\n",
       "    <tr>\n",
       "      <th>124</th>\n",
       "      <td>2018-10-07 16:00:00</td>\n",
       "      <td>ce0e0c29-8c8b-4714-84bd-80957224d4cf</td>\n",
       "      <td>68557</td>\n",
       "      <td>Сумка-тележка хозяйственная Gimi Market синяя</td>\n",
       "      <td>1</td>\n",
       "      <td>1874</td>\n",
       "    </tr>\n",
       "    <tr>\n",
       "      <th>126</th>\n",
       "      <td>2018-10-07 17:00:00</td>\n",
       "      <td>ce0e0c29-8c8b-4714-84bd-80957224d4cf</td>\n",
       "      <td>68557</td>\n",
       "      <td>Сумка-тележка хозяйственная Gimi Market синяя</td>\n",
       "      <td>1</td>\n",
       "      <td>1874</td>\n",
       "    </tr>\n",
       "    <tr>\n",
       "      <th>140</th>\n",
       "      <td>2018-10-08 15:00:00</td>\n",
       "      <td>3de09660-90bc-4a28-aaf1-34c8435fe59c</td>\n",
       "      <td>68574</td>\n",
       "      <td>Таз пластмассовый 15,0 л пищевой овальный \"Ekko\" 2775, 1404032</td>\n",
       "      <td>1</td>\n",
       "      <td>209</td>\n",
       "    </tr>\n",
       "    <tr>\n",
       "      <th>141</th>\n",
       "      <td>2018-10-08 15:00:00</td>\n",
       "      <td>3de09660-90bc-4a28-aaf1-34c8435fe59c</td>\n",
       "      <td>68574</td>\n",
       "      <td>Таз пластмассовый 18,0 л пищевой (Иж), 1404047</td>\n",
       "      <td>1</td>\n",
       "      <td>194</td>\n",
       "    </tr>\n",
       "    <tr>\n",
       "      <th>142</th>\n",
       "      <td>2018-10-08 15:00:00</td>\n",
       "      <td>3de09660-90bc-4a28-aaf1-34c8435fe59c</td>\n",
       "      <td>68574</td>\n",
       "      <td>Таз пластмассовый 20,0 л пищевой (Минеральные воды), 1404045</td>\n",
       "      <td>1</td>\n",
       "      <td>277</td>\n",
       "    </tr>\n",
       "    <tr>\n",
       "      <th>143</th>\n",
       "      <td>2018-10-08 15:00:00</td>\n",
       "      <td>3de09660-90bc-4a28-aaf1-34c8435fe59c</td>\n",
       "      <td>68574</td>\n",
       "      <td>Таз пластмассовый 24,0 л пищевой круглый (Иж), 1404006</td>\n",
       "      <td>1</td>\n",
       "      <td>239</td>\n",
       "    </tr>\n",
       "  </tbody>\n",
       "</table>\n",
       "</div>"
      ],
      "text/plain": [
       "                   date                           customer_id  order_id  \\\n",
       "15  2018-10-01 18:00:00  17213b88-1514-47a4-b8aa-ce51378ab34e     68476   \n",
       "16  2018-10-01 18:00:00  17213b88-1514-47a4-b8aa-ce51378ab34e     68476   \n",
       "17  2018-10-01 18:00:00  17213b88-1514-47a4-b8aa-ce51378ab34e     68476   \n",
       "18  2018-10-01 18:00:00  17213b88-1514-47a4-b8aa-ce51378ab34e     68476   \n",
       "19  2018-10-01 21:00:00  b731df05-98fa-4610-8496-716ec530a02c     68474   \n",
       "58  2018-10-02 18:00:00  b731df05-98fa-4610-8496-716ec530a02c     68474   \n",
       "59  2018-10-02 19:00:00  b731df05-98fa-4610-8496-716ec530a02c     68474   \n",
       "60  2018-10-02 20:00:00  b731df05-98fa-4610-8496-716ec530a02c     68474   \n",
       "63  2018-10-03 04:00:00  b731df05-98fa-4610-8496-716ec530a02c     68474   \n",
       "80  2018-10-04 09:00:00  32de7df8-8d4f-4c84-a7b9-c41d00dd83ba     68522   \n",
       "94  2018-10-04 13:00:00  32de7df8-8d4f-4c84-a7b9-c41d00dd83ba     68522   \n",
       "102 2018-10-05 00:00:00  b80e4826-7218-4bf9-ac08-eb2c81ab3f62     13547   \n",
       "103 2018-10-05 00:00:00  b80e4826-7218-4bf9-ac08-eb2c81ab3f62     13547   \n",
       "104 2018-10-05 00:00:00  b80e4826-7218-4bf9-ac08-eb2c81ab3f62     13547   \n",
       "124 2018-10-07 16:00:00  ce0e0c29-8c8b-4714-84bd-80957224d4cf     68557   \n",
       "126 2018-10-07 17:00:00  ce0e0c29-8c8b-4714-84bd-80957224d4cf     68557   \n",
       "140 2018-10-08 15:00:00  3de09660-90bc-4a28-aaf1-34c8435fe59c     68574   \n",
       "141 2018-10-08 15:00:00  3de09660-90bc-4a28-aaf1-34c8435fe59c     68574   \n",
       "142 2018-10-08 15:00:00  3de09660-90bc-4a28-aaf1-34c8435fe59c     68574   \n",
       "143 2018-10-08 15:00:00  3de09660-90bc-4a28-aaf1-34c8435fe59c     68574   \n",
       "\n",
       "                                                                                    product  \\\n",
       "15                Мини-сковорода Marmiton \"Сердце\" с антипригарным покрытием 12 см, LG17085   \n",
       "16   Сковорода алюминиевая с антипригарным покрытием MARBLE ALPENKOK d = 26 см AK-0039A/26N   \n",
       "17                                   Стеклянная крышка для сковороды ALPENKOK 26 см AK-26GL   \n",
       "18                                        Сушилка для белья напольная Colombo Star 18, 3679   \n",
       "19              Доска гладильная Eurogold Professional 130х48 см металлическая сетка 35748W   \n",
       "58              Доска гладильная Eurogold Professional 130х48 см металлическая сетка 35748W   \n",
       "59              Доска гладильная Eurogold Professional 130х48 см металлическая сетка 35748W   \n",
       "60              Доска гладильная Eurogold Professional 130х48 см металлическая сетка 35748W   \n",
       "63              Доска гладильная Eurogold Professional 130х48 см металлическая сетка 35748W   \n",
       "80                                                           Эвкалипт Гунни d-17 см h-60 см   \n",
       "94                                                           Эвкалипт Гунни d-17 см h-60 см   \n",
       "102                                      Рассада зелени для кухни Лаванды в кассете по 6 шт   \n",
       "103                                    Рассада зелени для кухни Розмарина в кассете по 6 шт   \n",
       "104                                      Рассада зелени для кухни Тимьяна в кассете по 6 шт   \n",
       "124                                           Сумка-тележка хозяйственная Gimi Market синяя   \n",
       "126                                           Сумка-тележка хозяйственная Gimi Market синяя   \n",
       "140                          Таз пластмассовый 15,0 л пищевой овальный \"Ekko\" 2775, 1404032   \n",
       "141                                          Таз пластмассовый 18,0 л пищевой (Иж), 1404047   \n",
       "142                            Таз пластмассовый 20,0 л пищевой (Минеральные воды), 1404045   \n",
       "143                                  Таз пластмассовый 24,0 л пищевой круглый (Иж), 1404006   \n",
       "\n",
       "     quantity  price  \n",
       "15          1    239  \n",
       "16          1    824  \n",
       "17          1    262  \n",
       "18          1   1049  \n",
       "19          1   3299  \n",
       "58          1   3299  \n",
       "59          1   3299  \n",
       "60          1   3299  \n",
       "63          1   3299  \n",
       "80          1   1409  \n",
       "94          1   1409  \n",
       "102         1    315  \n",
       "103         1    207  \n",
       "104         1    162  \n",
       "124         1   1874  \n",
       "126         1   1874  \n",
       "140         1    209  \n",
       "141         1    194  \n",
       "142         1    277  \n",
       "143         1    239  "
      ]
     },
     "execution_count": 11,
     "metadata": {},
     "output_type": "execute_result"
    }
   ],
   "source": [
    "df[df.duplicated(subset=['customer_id', 'order_id', 'product', 'quantity', 'price'], keep=False)].head(20)"
   ]
  },
  {
   "cell_type": "code",
   "execution_count": 12,
   "metadata": {},
   "outputs": [
    {
     "data": {
      "text/plain": [
       "27.67"
      ]
     },
     "execution_count": 12,
     "metadata": {},
     "output_type": "execute_result"
    }
   ],
   "source": [
    "round(df.duplicated(subset=['customer_id', 'order_id', 'product', 'quantity', 'price']).sum() * 100 / len(df), 2)"
   ]
  },
  {
   "cell_type": "markdown",
   "metadata": {},
   "source": [
    "*Имеется почти 28% неявных дубликатов.*"
   ]
  },
  {
   "cell_type": "markdown",
   "metadata": {},
   "source": [
    "**Посмотрим на некоторые заказы:**"
   ]
  },
  {
   "cell_type": "code",
   "execution_count": 13,
   "metadata": {},
   "outputs": [
    {
     "data": {
      "text/html": [
       "<div>\n",
       "<style scoped>\n",
       "    .dataframe tbody tr th:only-of-type {\n",
       "        vertical-align: middle;\n",
       "    }\n",
       "\n",
       "    .dataframe tbody tr th {\n",
       "        vertical-align: top;\n",
       "    }\n",
       "\n",
       "    .dataframe thead th {\n",
       "        text-align: right;\n",
       "    }\n",
       "</style>\n",
       "<table border=\"1\" class=\"dataframe\">\n",
       "  <thead>\n",
       "    <tr style=\"text-align: right;\">\n",
       "      <th></th>\n",
       "      <th>date</th>\n",
       "      <th>customer_id</th>\n",
       "      <th>order_id</th>\n",
       "      <th>product</th>\n",
       "      <th>quantity</th>\n",
       "      <th>price</th>\n",
       "    </tr>\n",
       "  </thead>\n",
       "  <tbody>\n",
       "    <tr>\n",
       "      <th>15</th>\n",
       "      <td>2018-10-01 18:00:00</td>\n",
       "      <td>17213b88-1514-47a4-b8aa-ce51378ab34e</td>\n",
       "      <td>68476</td>\n",
       "      <td>Мини-сковорода Marmiton \"Сердце\" с антипригарным покрытием 12 см, LG17085</td>\n",
       "      <td>1</td>\n",
       "      <td>239</td>\n",
       "    </tr>\n",
       "    <tr>\n",
       "      <th>16</th>\n",
       "      <td>2018-10-01 18:00:00</td>\n",
       "      <td>17213b88-1514-47a4-b8aa-ce51378ab34e</td>\n",
       "      <td>68476</td>\n",
       "      <td>Сковорода алюминиевая с антипригарным покрытием MARBLE ALPENKOK d = 26 см AK-0039A/26N</td>\n",
       "      <td>1</td>\n",
       "      <td>824</td>\n",
       "    </tr>\n",
       "    <tr>\n",
       "      <th>17</th>\n",
       "      <td>2018-10-01 18:00:00</td>\n",
       "      <td>17213b88-1514-47a4-b8aa-ce51378ab34e</td>\n",
       "      <td>68476</td>\n",
       "      <td>Стеклянная крышка для сковороды ALPENKOK 26 см AK-26GL</td>\n",
       "      <td>1</td>\n",
       "      <td>262</td>\n",
       "    </tr>\n",
       "    <tr>\n",
       "      <th>18</th>\n",
       "      <td>2018-10-01 18:00:00</td>\n",
       "      <td>17213b88-1514-47a4-b8aa-ce51378ab34e</td>\n",
       "      <td>68476</td>\n",
       "      <td>Сушилка для белья напольная Colombo Star 18, 3679</td>\n",
       "      <td>1</td>\n",
       "      <td>1049</td>\n",
       "    </tr>\n",
       "    <tr>\n",
       "      <th>273</th>\n",
       "      <td>2018-10-16 17:00:00</td>\n",
       "      <td>17213b88-1514-47a4-b8aa-ce51378ab34e</td>\n",
       "      <td>68476</td>\n",
       "      <td>Мини-сковорода Marmiton \"Сердце\" с антипригарным покрытием 12 см, LG17085</td>\n",
       "      <td>1</td>\n",
       "      <td>239</td>\n",
       "    </tr>\n",
       "    <tr>\n",
       "      <th>274</th>\n",
       "      <td>2018-10-16 17:00:00</td>\n",
       "      <td>17213b88-1514-47a4-b8aa-ce51378ab34e</td>\n",
       "      <td>68476</td>\n",
       "      <td>Сковорода алюминиевая с антипригарным покрытием MARBLE ALPENKOK d = 26 см AK-0039A/26N</td>\n",
       "      <td>1</td>\n",
       "      <td>824</td>\n",
       "    </tr>\n",
       "    <tr>\n",
       "      <th>275</th>\n",
       "      <td>2018-10-16 17:00:00</td>\n",
       "      <td>17213b88-1514-47a4-b8aa-ce51378ab34e</td>\n",
       "      <td>68476</td>\n",
       "      <td>Стеклянная крышка для сковороды ALPENKOK 26 см AK-26GL</td>\n",
       "      <td>1</td>\n",
       "      <td>262</td>\n",
       "    </tr>\n",
       "    <tr>\n",
       "      <th>276</th>\n",
       "      <td>2018-10-16 17:00:00</td>\n",
       "      <td>17213b88-1514-47a4-b8aa-ce51378ab34e</td>\n",
       "      <td>68476</td>\n",
       "      <td>Сушилка для белья напольная Colombo Star 18, 3679</td>\n",
       "      <td>1</td>\n",
       "      <td>1049</td>\n",
       "    </tr>\n",
       "  </tbody>\n",
       "</table>\n",
       "</div>"
      ],
      "text/plain": [
       "                   date                           customer_id  order_id  \\\n",
       "15  2018-10-01 18:00:00  17213b88-1514-47a4-b8aa-ce51378ab34e     68476   \n",
       "16  2018-10-01 18:00:00  17213b88-1514-47a4-b8aa-ce51378ab34e     68476   \n",
       "17  2018-10-01 18:00:00  17213b88-1514-47a4-b8aa-ce51378ab34e     68476   \n",
       "18  2018-10-01 18:00:00  17213b88-1514-47a4-b8aa-ce51378ab34e     68476   \n",
       "273 2018-10-16 17:00:00  17213b88-1514-47a4-b8aa-ce51378ab34e     68476   \n",
       "274 2018-10-16 17:00:00  17213b88-1514-47a4-b8aa-ce51378ab34e     68476   \n",
       "275 2018-10-16 17:00:00  17213b88-1514-47a4-b8aa-ce51378ab34e     68476   \n",
       "276 2018-10-16 17:00:00  17213b88-1514-47a4-b8aa-ce51378ab34e     68476   \n",
       "\n",
       "                                                                                    product  \\\n",
       "15                Мини-сковорода Marmiton \"Сердце\" с антипригарным покрытием 12 см, LG17085   \n",
       "16   Сковорода алюминиевая с антипригарным покрытием MARBLE ALPENKOK d = 26 см AK-0039A/26N   \n",
       "17                                   Стеклянная крышка для сковороды ALPENKOK 26 см AK-26GL   \n",
       "18                                        Сушилка для белья напольная Colombo Star 18, 3679   \n",
       "273               Мини-сковорода Marmiton \"Сердце\" с антипригарным покрытием 12 см, LG17085   \n",
       "274  Сковорода алюминиевая с антипригарным покрытием MARBLE ALPENKOK d = 26 см AK-0039A/26N   \n",
       "275                                  Стеклянная крышка для сковороды ALPENKOK 26 см AK-26GL   \n",
       "276                                       Сушилка для белья напольная Colombo Star 18, 3679   \n",
       "\n",
       "     quantity  price  \n",
       "15          1    239  \n",
       "16          1    824  \n",
       "17          1    262  \n",
       "18          1   1049  \n",
       "273         1    239  \n",
       "274         1    824  \n",
       "275         1    262  \n",
       "276         1   1049  "
      ]
     },
     "execution_count": 13,
     "metadata": {},
     "output_type": "execute_result"
    }
   ],
   "source": [
    "df[df['order_id'] == 68476]"
   ]
  },
  {
   "cell_type": "code",
   "execution_count": 14,
   "metadata": {},
   "outputs": [
    {
     "data": {
      "text/html": [
       "<div>\n",
       "<style scoped>\n",
       "    .dataframe tbody tr th:only-of-type {\n",
       "        vertical-align: middle;\n",
       "    }\n",
       "\n",
       "    .dataframe tbody tr th {\n",
       "        vertical-align: top;\n",
       "    }\n",
       "\n",
       "    .dataframe thead th {\n",
       "        text-align: right;\n",
       "    }\n",
       "</style>\n",
       "<table border=\"1\" class=\"dataframe\">\n",
       "  <thead>\n",
       "    <tr style=\"text-align: right;\">\n",
       "      <th></th>\n",
       "      <th>date</th>\n",
       "      <th>customer_id</th>\n",
       "      <th>order_id</th>\n",
       "      <th>product</th>\n",
       "      <th>quantity</th>\n",
       "      <th>price</th>\n",
       "    </tr>\n",
       "  </thead>\n",
       "  <tbody>\n",
       "    <tr>\n",
       "      <th>140</th>\n",
       "      <td>2018-10-08 15:00:00</td>\n",
       "      <td>3de09660-90bc-4a28-aaf1-34c8435fe59c</td>\n",
       "      <td>68574</td>\n",
       "      <td>Таз пластмассовый 15,0 л пищевой овальный \"Ekko\" 2775, 1404032</td>\n",
       "      <td>1</td>\n",
       "      <td>209</td>\n",
       "    </tr>\n",
       "    <tr>\n",
       "      <th>141</th>\n",
       "      <td>2018-10-08 15:00:00</td>\n",
       "      <td>3de09660-90bc-4a28-aaf1-34c8435fe59c</td>\n",
       "      <td>68574</td>\n",
       "      <td>Таз пластмассовый 18,0 л пищевой (Иж), 1404047</td>\n",
       "      <td>1</td>\n",
       "      <td>194</td>\n",
       "    </tr>\n",
       "    <tr>\n",
       "      <th>142</th>\n",
       "      <td>2018-10-08 15:00:00</td>\n",
       "      <td>3de09660-90bc-4a28-aaf1-34c8435fe59c</td>\n",
       "      <td>68574</td>\n",
       "      <td>Таз пластмассовый 20,0 л пищевой (Минеральные воды), 1404045</td>\n",
       "      <td>1</td>\n",
       "      <td>277</td>\n",
       "    </tr>\n",
       "    <tr>\n",
       "      <th>143</th>\n",
       "      <td>2018-10-08 15:00:00</td>\n",
       "      <td>3de09660-90bc-4a28-aaf1-34c8435fe59c</td>\n",
       "      <td>68574</td>\n",
       "      <td>Таз пластмассовый 24,0 л пищевой круглый (Иж), 1404006</td>\n",
       "      <td>1</td>\n",
       "      <td>239</td>\n",
       "    </tr>\n",
       "    <tr>\n",
       "      <th>147</th>\n",
       "      <td>2018-10-08 19:00:00</td>\n",
       "      <td>3de09660-90bc-4a28-aaf1-34c8435fe59c</td>\n",
       "      <td>68574</td>\n",
       "      <td>Таз пластмассовый 15,0 л пищевой овальный \"Ekko\" 2775, 1404032</td>\n",
       "      <td>1</td>\n",
       "      <td>209</td>\n",
       "    </tr>\n",
       "    <tr>\n",
       "      <th>148</th>\n",
       "      <td>2018-10-08 19:00:00</td>\n",
       "      <td>3de09660-90bc-4a28-aaf1-34c8435fe59c</td>\n",
       "      <td>68574</td>\n",
       "      <td>Таз пластмассовый 18,0 л пищевой (Иж), 1404047</td>\n",
       "      <td>1</td>\n",
       "      <td>194</td>\n",
       "    </tr>\n",
       "    <tr>\n",
       "      <th>149</th>\n",
       "      <td>2018-10-08 19:00:00</td>\n",
       "      <td>3de09660-90bc-4a28-aaf1-34c8435fe59c</td>\n",
       "      <td>68574</td>\n",
       "      <td>Таз пластмассовый 20,0 л пищевой (Минеральные воды), 1404045</td>\n",
       "      <td>1</td>\n",
       "      <td>277</td>\n",
       "    </tr>\n",
       "    <tr>\n",
       "      <th>150</th>\n",
       "      <td>2018-10-08 19:00:00</td>\n",
       "      <td>3de09660-90bc-4a28-aaf1-34c8435fe59c</td>\n",
       "      <td>68574</td>\n",
       "      <td>Таз пластмассовый 24,0 л пищевой круглый (Иж), 1404006</td>\n",
       "      <td>1</td>\n",
       "      <td>239</td>\n",
       "    </tr>\n",
       "    <tr>\n",
       "      <th>152</th>\n",
       "      <td>2018-10-09 06:00:00</td>\n",
       "      <td>3de09660-90bc-4a28-aaf1-34c8435fe59c</td>\n",
       "      <td>68574</td>\n",
       "      <td>Таз пластмассовый 15,0 л пищевой овальный \"Ekko\" 2775, 1404032</td>\n",
       "      <td>1</td>\n",
       "      <td>209</td>\n",
       "    </tr>\n",
       "    <tr>\n",
       "      <th>153</th>\n",
       "      <td>2018-10-09 06:00:00</td>\n",
       "      <td>3de09660-90bc-4a28-aaf1-34c8435fe59c</td>\n",
       "      <td>68574</td>\n",
       "      <td>Таз пластмассовый 18,0 л пищевой (Иж), 1404047</td>\n",
       "      <td>1</td>\n",
       "      <td>194</td>\n",
       "    </tr>\n",
       "    <tr>\n",
       "      <th>154</th>\n",
       "      <td>2018-10-09 06:00:00</td>\n",
       "      <td>3de09660-90bc-4a28-aaf1-34c8435fe59c</td>\n",
       "      <td>68574</td>\n",
       "      <td>Таз пластмассовый 20,0 л пищевой (Минеральные воды), 1404045</td>\n",
       "      <td>1</td>\n",
       "      <td>277</td>\n",
       "    </tr>\n",
       "    <tr>\n",
       "      <th>155</th>\n",
       "      <td>2018-10-09 06:00:00</td>\n",
       "      <td>3de09660-90bc-4a28-aaf1-34c8435fe59c</td>\n",
       "      <td>68574</td>\n",
       "      <td>Таз пластмассовый 24,0 л пищевой круглый (Иж), 1404006</td>\n",
       "      <td>1</td>\n",
       "      <td>239</td>\n",
       "    </tr>\n",
       "  </tbody>\n",
       "</table>\n",
       "</div>"
      ],
      "text/plain": [
       "                   date                           customer_id  order_id  \\\n",
       "140 2018-10-08 15:00:00  3de09660-90bc-4a28-aaf1-34c8435fe59c     68574   \n",
       "141 2018-10-08 15:00:00  3de09660-90bc-4a28-aaf1-34c8435fe59c     68574   \n",
       "142 2018-10-08 15:00:00  3de09660-90bc-4a28-aaf1-34c8435fe59c     68574   \n",
       "143 2018-10-08 15:00:00  3de09660-90bc-4a28-aaf1-34c8435fe59c     68574   \n",
       "147 2018-10-08 19:00:00  3de09660-90bc-4a28-aaf1-34c8435fe59c     68574   \n",
       "148 2018-10-08 19:00:00  3de09660-90bc-4a28-aaf1-34c8435fe59c     68574   \n",
       "149 2018-10-08 19:00:00  3de09660-90bc-4a28-aaf1-34c8435fe59c     68574   \n",
       "150 2018-10-08 19:00:00  3de09660-90bc-4a28-aaf1-34c8435fe59c     68574   \n",
       "152 2018-10-09 06:00:00  3de09660-90bc-4a28-aaf1-34c8435fe59c     68574   \n",
       "153 2018-10-09 06:00:00  3de09660-90bc-4a28-aaf1-34c8435fe59c     68574   \n",
       "154 2018-10-09 06:00:00  3de09660-90bc-4a28-aaf1-34c8435fe59c     68574   \n",
       "155 2018-10-09 06:00:00  3de09660-90bc-4a28-aaf1-34c8435fe59c     68574   \n",
       "\n",
       "                                                            product  quantity  \\\n",
       "140  Таз пластмассовый 15,0 л пищевой овальный \"Ekko\" 2775, 1404032         1   \n",
       "141                  Таз пластмассовый 18,0 л пищевой (Иж), 1404047         1   \n",
       "142    Таз пластмассовый 20,0 л пищевой (Минеральные воды), 1404045         1   \n",
       "143          Таз пластмассовый 24,0 л пищевой круглый (Иж), 1404006         1   \n",
       "147  Таз пластмассовый 15,0 л пищевой овальный \"Ekko\" 2775, 1404032         1   \n",
       "148                  Таз пластмассовый 18,0 л пищевой (Иж), 1404047         1   \n",
       "149    Таз пластмассовый 20,0 л пищевой (Минеральные воды), 1404045         1   \n",
       "150          Таз пластмассовый 24,0 л пищевой круглый (Иж), 1404006         1   \n",
       "152  Таз пластмассовый 15,0 л пищевой овальный \"Ekko\" 2775, 1404032         1   \n",
       "153                  Таз пластмассовый 18,0 л пищевой (Иж), 1404047         1   \n",
       "154    Таз пластмассовый 20,0 л пищевой (Минеральные воды), 1404045         1   \n",
       "155          Таз пластмассовый 24,0 л пищевой круглый (Иж), 1404006         1   \n",
       "\n",
       "     price  \n",
       "140    209  \n",
       "141    194  \n",
       "142    277  \n",
       "143    239  \n",
       "147    209  \n",
       "148    194  \n",
       "149    277  \n",
       "150    239  \n",
       "152    209  \n",
       "153    194  \n",
       "154    277  \n",
       "155    239  "
      ]
     },
     "execution_count": 14,
     "metadata": {},
     "output_type": "execute_result"
    }
   ],
   "source": [
    "df[df['order_id'] == 68574]"
   ]
  },
  {
   "cell_type": "markdown",
   "metadata": {},
   "source": [
    "*Скорее всего система учитывает любые действия с заказом, покупатель может добавлять и удалять их с разным промежутком времени, т.к. у нас нет информации был ли оплачен заказ, актуальным целесообразно считать последний заказ.*"
   ]
  },
  {
   "cell_type": "code",
   "execution_count": 15,
   "metadata": {},
   "outputs": [],
   "source": [
    "df = df.drop_duplicates(subset=['customer_id', 'order_id', 'product', 'quantity', 'price'], keep = 'last')"
   ]
  },
  {
   "cell_type": "markdown",
   "metadata": {},
   "source": [
    "**Проверим, есть ли у одного заказа несколько покупателей:**"
   ]
  },
  {
   "cell_type": "code",
   "execution_count": 16,
   "metadata": {},
   "outputs": [
    {
     "data": {
      "text/html": [
       "<div>\n",
       "<style scoped>\n",
       "    .dataframe tbody tr th:only-of-type {\n",
       "        vertical-align: middle;\n",
       "    }\n",
       "\n",
       "    .dataframe tbody tr th {\n",
       "        vertical-align: top;\n",
       "    }\n",
       "\n",
       "    .dataframe thead th {\n",
       "        text-align: right;\n",
       "    }\n",
       "</style>\n",
       "<table border=\"1\" class=\"dataframe\">\n",
       "  <thead>\n",
       "    <tr style=\"text-align: right;\">\n",
       "      <th></th>\n",
       "      <th>customer_id</th>\n",
       "    </tr>\n",
       "    <tr>\n",
       "      <th>order_id</th>\n",
       "      <th></th>\n",
       "    </tr>\n",
       "  </thead>\n",
       "  <tbody>\n",
       "    <tr>\n",
       "      <th>14872</th>\n",
       "      <td>2</td>\n",
       "    </tr>\n",
       "    <tr>\n",
       "      <th>68785</th>\n",
       "      <td>2</td>\n",
       "    </tr>\n",
       "    <tr>\n",
       "      <th>69283</th>\n",
       "      <td>2</td>\n",
       "    </tr>\n",
       "    <tr>\n",
       "      <th>69310</th>\n",
       "      <td>2</td>\n",
       "    </tr>\n",
       "    <tr>\n",
       "      <th>69345</th>\n",
       "      <td>2</td>\n",
       "    </tr>\n",
       "    <tr>\n",
       "      <th>69410</th>\n",
       "      <td>2</td>\n",
       "    </tr>\n",
       "    <tr>\n",
       "      <th>69485</th>\n",
       "      <td>3</td>\n",
       "    </tr>\n",
       "    <tr>\n",
       "      <th>69531</th>\n",
       "      <td>2</td>\n",
       "    </tr>\n",
       "    <tr>\n",
       "      <th>69833</th>\n",
       "      <td>2</td>\n",
       "    </tr>\n",
       "    <tr>\n",
       "      <th>70114</th>\n",
       "      <td>2</td>\n",
       "    </tr>\n",
       "    <tr>\n",
       "      <th>70542</th>\n",
       "      <td>2</td>\n",
       "    </tr>\n",
       "    <tr>\n",
       "      <th>70631</th>\n",
       "      <td>2</td>\n",
       "    </tr>\n",
       "    <tr>\n",
       "      <th>70726</th>\n",
       "      <td>2</td>\n",
       "    </tr>\n",
       "    <tr>\n",
       "      <th>70808</th>\n",
       "      <td>2</td>\n",
       "    </tr>\n",
       "    <tr>\n",
       "      <th>70903</th>\n",
       "      <td>2</td>\n",
       "    </tr>\n",
       "    <tr>\n",
       "      <th>70946</th>\n",
       "      <td>2</td>\n",
       "    </tr>\n",
       "    <tr>\n",
       "      <th>71054</th>\n",
       "      <td>2</td>\n",
       "    </tr>\n",
       "    <tr>\n",
       "      <th>71226</th>\n",
       "      <td>2</td>\n",
       "    </tr>\n",
       "    <tr>\n",
       "      <th>71461</th>\n",
       "      <td>2</td>\n",
       "    </tr>\n",
       "    <tr>\n",
       "      <th>71480</th>\n",
       "      <td>3</td>\n",
       "    </tr>\n",
       "    <tr>\n",
       "      <th>71542</th>\n",
       "      <td>2</td>\n",
       "    </tr>\n",
       "    <tr>\n",
       "      <th>71571</th>\n",
       "      <td>2</td>\n",
       "    </tr>\n",
       "    <tr>\n",
       "      <th>71648</th>\n",
       "      <td>2</td>\n",
       "    </tr>\n",
       "    <tr>\n",
       "      <th>71663</th>\n",
       "      <td>2</td>\n",
       "    </tr>\n",
       "    <tr>\n",
       "      <th>72188</th>\n",
       "      <td>2</td>\n",
       "    </tr>\n",
       "    <tr>\n",
       "      <th>72778</th>\n",
       "      <td>2</td>\n",
       "    </tr>\n",
       "    <tr>\n",
       "      <th>72790</th>\n",
       "      <td>2</td>\n",
       "    </tr>\n",
       "    <tr>\n",
       "      <th>72845</th>\n",
       "      <td>4</td>\n",
       "    </tr>\n",
       "    <tr>\n",
       "      <th>72950</th>\n",
       "      <td>2</td>\n",
       "    </tr>\n",
       "  </tbody>\n",
       "</table>\n",
       "</div>"
      ],
      "text/plain": [
       "          customer_id\n",
       "order_id             \n",
       "14872               2\n",
       "68785               2\n",
       "69283               2\n",
       "69310               2\n",
       "69345               2\n",
       "69410               2\n",
       "69485               3\n",
       "69531               2\n",
       "69833               2\n",
       "70114               2\n",
       "70542               2\n",
       "70631               2\n",
       "70726               2\n",
       "70808               2\n",
       "70903               2\n",
       "70946               2\n",
       "71054               2\n",
       "71226               2\n",
       "71461               2\n",
       "71480               3\n",
       "71542               2\n",
       "71571               2\n",
       "71648               2\n",
       "71663               2\n",
       "72188               2\n",
       "72778               2\n",
       "72790               2\n",
       "72845               4\n",
       "72950               2"
      ]
     },
     "execution_count": 16,
     "metadata": {},
     "output_type": "execute_result"
    }
   ],
   "source": [
    "\n",
    "many_customers = (df\n",
    "            .groupby('order_id')\n",
    "            .agg({'customer_id': 'nunique'})\n",
    "            .query('customer_id > 1')\n",
    ")\n",
    "many_customers"
   ]
  },
  {
   "cell_type": "code",
   "execution_count": 17,
   "metadata": {},
   "outputs": [
    {
     "data": {
      "text/html": [
       "<div>\n",
       "<style scoped>\n",
       "    .dataframe tbody tr th:only-of-type {\n",
       "        vertical-align: middle;\n",
       "    }\n",
       "\n",
       "    .dataframe tbody tr th {\n",
       "        vertical-align: top;\n",
       "    }\n",
       "\n",
       "    .dataframe thead th {\n",
       "        text-align: right;\n",
       "    }\n",
       "</style>\n",
       "<table border=\"1\" class=\"dataframe\">\n",
       "  <thead>\n",
       "    <tr style=\"text-align: right;\">\n",
       "      <th></th>\n",
       "      <th>date</th>\n",
       "      <th>customer_id</th>\n",
       "      <th>order_id</th>\n",
       "      <th>product</th>\n",
       "      <th>quantity</th>\n",
       "      <th>price</th>\n",
       "    </tr>\n",
       "  </thead>\n",
       "  <tbody>\n",
       "    <tr>\n",
       "      <th>6504</th>\n",
       "      <td>2019-10-03 14:00:00</td>\n",
       "      <td>d8465f63-35db-4809-aff3-a8f7ebfc257f</td>\n",
       "      <td>72845</td>\n",
       "      <td>Муляж Яблоко зеленый 9 см полиуретан</td>\n",
       "      <td>40</td>\n",
       "      <td>59</td>\n",
       "    </tr>\n",
       "    <tr>\n",
       "      <th>6505</th>\n",
       "      <td>2019-10-03 15:00:00</td>\n",
       "      <td>0309d37c-ab5f-4793-ba72-5484c019b840</td>\n",
       "      <td>72845</td>\n",
       "      <td>Муляж Яблоко зеленый 9 см полиуретан</td>\n",
       "      <td>40</td>\n",
       "      <td>59</td>\n",
       "    </tr>\n",
       "    <tr>\n",
       "      <th>6508</th>\n",
       "      <td>2019-10-04 08:00:00</td>\n",
       "      <td>25a8cd52-3efa-48ee-a6bd-d413d7e2b42f</td>\n",
       "      <td>72845</td>\n",
       "      <td>Муляж Яблоко зеленый 9 см полиуретан</td>\n",
       "      <td>40</td>\n",
       "      <td>59</td>\n",
       "    </tr>\n",
       "    <tr>\n",
       "      <th>6538</th>\n",
       "      <td>2019-10-07 20:00:00</td>\n",
       "      <td>2ac05362-3ca7-4d19-899c-7ba266902611</td>\n",
       "      <td>72845</td>\n",
       "      <td>Муляж Яблоко зеленый 9 см полиуретан</td>\n",
       "      <td>40</td>\n",
       "      <td>59</td>\n",
       "    </tr>\n",
       "  </tbody>\n",
       "</table>\n",
       "</div>"
      ],
      "text/plain": [
       "                    date                           customer_id  order_id  \\\n",
       "6504 2019-10-03 14:00:00  d8465f63-35db-4809-aff3-a8f7ebfc257f     72845   \n",
       "6505 2019-10-03 15:00:00  0309d37c-ab5f-4793-ba72-5484c019b840     72845   \n",
       "6508 2019-10-04 08:00:00  25a8cd52-3efa-48ee-a6bd-d413d7e2b42f     72845   \n",
       "6538 2019-10-07 20:00:00  2ac05362-3ca7-4d19-899c-7ba266902611     72845   \n",
       "\n",
       "                                   product  quantity  price  \n",
       "6504  Муляж Яблоко зеленый 9 см полиуретан        40     59  \n",
       "6505  Муляж Яблоко зеленый 9 см полиуретан        40     59  \n",
       "6508  Муляж Яблоко зеленый 9 см полиуретан        40     59  \n",
       "6538  Муляж Яблоко зеленый 9 см полиуретан        40     59  "
      ]
     },
     "execution_count": 17,
     "metadata": {},
     "output_type": "execute_result"
    }
   ],
   "source": [
    "df[df['order_id'] == 72845]"
   ]
  },
  {
   "cell_type": "markdown",
   "metadata": {},
   "source": [
    "*Различие в id покупателя обусловлено тем, что для разных устройств назначается свой id. Будем считать, что последний заказ самый актуальный.*"
   ]
  },
  {
   "cell_type": "code",
   "execution_count": 18,
   "metadata": {},
   "outputs": [],
   "source": [
    "df = df.drop_duplicates(subset=['order_id', 'product', 'quantity', 'price'], keep = 'last')"
   ]
  },
  {
   "cell_type": "markdown",
   "metadata": {},
   "source": [
    "### Добавление столбцов для дальнейшего исследования"
   ]
  },
  {
   "cell_type": "markdown",
   "metadata": {},
   "source": [
    "**Добавим столбец с выручкой:**"
   ]
  },
  {
   "cell_type": "code",
   "execution_count": 19,
   "metadata": {},
   "outputs": [],
   "source": [
    "df['revenue'] = df['quantity'] * df['price']"
   ]
  },
  {
   "cell_type": "markdown",
   "metadata": {},
   "source": [
    "**Добавим столбцы с часом, днем, днем недели, месяцем и годом заказа:**"
   ]
  },
  {
   "cell_type": "code",
   "execution_count": 20,
   "metadata": {},
   "outputs": [],
   "source": [
    "df['hour'] = df['date'].dt.hour\n",
    "df['day'] = df['date'].dt.day\n",
    "df['day_of_week'] = df['date'].dt.day_name() \n",
    "df['week'] = df['date'].dt.isocalendar().week \n",
    "df['month'] = df['date'].astype('datetime64[M]')\n",
    "df['year'] = df['date'].dt.year \n",
    "df['dt'] = df['date'].astype('datetime64[D]')"
   ]
  },
  {
   "cell_type": "markdown",
   "metadata": {},
   "source": [
    "**Так же добавим столбцы указывающие, что товар в заказе был основным или дополнительным:**"
   ]
  },
  {
   "cell_type": "markdown",
   "metadata": {},
   "source": [
    "**Количество уникальных товаров в заказе:**"
   ]
  },
  {
   "cell_type": "code",
   "execution_count": 21,
   "metadata": {},
   "outputs": [],
   "source": [
    "df['unique_products_count'] = df.groupby('order_id')['product'].transform('nunique') "
   ]
  },
  {
   "cell_type": "markdown",
   "metadata": {},
   "source": [
    "**Если товар один в заказе, то 1, нет 0:**"
   ]
  },
  {
   "cell_type": "code",
   "execution_count": 22,
   "metadata": {},
   "outputs": [],
   "source": [
    "df['main'] = df['unique_products_count'].apply(lambda x: 1 if x == 1 else 0)"
   ]
  },
  {
   "cell_type": "markdown",
   "metadata": {},
   "source": [
    "**Если товар не один в заказе, то 1, нет 0:**"
   ]
  },
  {
   "cell_type": "code",
   "execution_count": 23,
   "metadata": {},
   "outputs": [],
   "source": [
    "df['additional'] = df['unique_products_count'].apply(lambda x: 0 if x == 1 else 1)"
   ]
  },
  {
   "cell_type": "markdown",
   "metadata": {},
   "source": [
    "### Вывод\n",
    "\n",
    "- Дата была приведена к формату даты;\n",
    "- Столбец `price` был пирведен к типу `int`;\n",
    "- Были найдены и удалены неявные дубликаты;\n",
    "- Добавлены дополнительные столбцы:\n",
    "  - С часом заказа;\n",
    "  - С днем заказа;\n",
    "  - Днем недели заказа;\n",
    "  - Месяцем заказа;\n",
    "  - Годом заказа;\n",
    "  - Столбец с выручкой;\n",
    "  - Столбец с количеством уникальных товаров в заказе;\n",
    "  - Столбец указывающий, что товар основной в заказе;\n",
    "  - Столбец указывающий, что товар дополнительный в заказе;\n",
    "\n",
    "**Так же хотелось бы отметить, неявные дубликаты – это следствие того, что система учитывает любые действия с заказом, будь то отмена или удаление заказа, в результате этого записи в таблице дублируются. Еще система присваивает разные идентификаторы одному и тому же пользователю для разных устройств.**"
   ]
  },
  {
   "cell_type": "markdown",
   "metadata": {},
   "source": [
    "## Категоризация товарного ассортимента"
   ]
  },
  {
   "cell_type": "markdown",
   "metadata": {},
   "source": [
    "**Чтобы категоризировать товар, создадим словарь с категориями, а после прогоним наименования товаром через лемматизацию.**"
   ]
  },
  {
   "cell_type": "markdown",
   "metadata": {},
   "source": [
    "**Словарь получен, следующим образом:**\n",
    "\n",
    "1. Датафрейм сортируется по количеству проданного товара по убыванию;\n",
    "2. Выделяются ключевые слова и заносятся в категории к которым они больше всего подходят;\n",
    "3. Все что не категоризировалось попадает в категорию \"Прочее\";\n",
    "4. Датафрейм снова сортируется по количеству проданного товара, но только по категории \"Прочее\";\n",
    "5. Повторяем шаг \"1\" пока товарный ассортимент не попадет в нужные категории."
   ]
  },
  {
   "cell_type": "code",
   "execution_count": 24,
   "metadata": {},
   "outputs": [],
   "source": [
    "categories = { \n",
    "    'Кухонные принадлежности': ['тарелка','венчик', 'косточка', 'вилка', 'сковорода', 'рассекатель', 'лопатка',\n",
    "                                'скалка', 'терка', 'толкушка', 'блюдо', 'термос', 'сотейник', 'рыбочистка', 'пароварка',\n",
    "                                'ложка', 'кружка', 'половник', 'Luminarc', 'тряпкодержатель', 'орехоколка', 'соковарка',\n",
    "                                'нож', 'скатерть', 'котел', 'термокружок', 'противень', 'сахарница', 'пресс',\n",
    "                                'салфетница', 'столовый','сервировочный', 'заварочный', 'трудновыводимый', 'соковыжималка',\n",
    "                                'хлебница', 'кухня', 'кастрюля', 'посуда', 'кувшин', 'просеиватель', 'стакан',\n",
    "                                'тортница', 'контейнер', 'овощечистка', 'банка', 'миска', 'кухонный', 'разделочный',\n",
    "                                'свч', 'банка', 'заварочный', 'салатник', 'дуршлаг', 'мерный', 'лоток', 'губка',\n",
    "                                'термостакан', 'WEBBER', 'фужер', 'ножеточка', 'выпечка', 'картофелемялка',\n",
    "                                'чайник', 'электроштопор', 'мантоварка', 'миксер', 'овощеварка', 'настольный'\n",
    "                               ],  \n",
    "\n",
    "    'Сад и огород': ['пеларгония','бархатцы','сельдерей','суккулент','рассада','клен','бакоп','юкка','шеффлер', 'лузеан','растение', \n",
    "                    'алоэ','радермахер','хризолидокарпус', 'лутесценс','томата','пеларгония', 'роза','петуния','герань', 'цветок',\n",
    "                    'однолетнее','флокс','цикламен', 'примула','калибрахоа','фуксия','вербена','пуансеттия','фиалка','дыня',\n",
    "                    'пиретрум', 'гайлардий', 'горох', 'любисток', 'змееголовник', 'валериана', 'анемон', 'лаватер', 'физостегия',\n",
    "                    'ель', 'лук', 'шалфей', 'георгин', 'лилейник', 'платикодон', 'энотера', 'годеция', 'эшшольций', 'эхинацея',\n",
    "                    'солидаго', 'бузульник', 'смолевка', 'незабудка', 'кодонант', 'морковь', 'гиностемма',\n",
    "                    'комнатное','базилик','бегония','бальзамин','бакопа','космея','мята','антуриум','огурец','хризантема', 'лапчатка',\n",
    "                    'эвкалипт','декабрист','томат','гвоздика','арбуз','петрушка','цинния', 'патиссон','алиссум','азалия','тимьян',\n",
    "                    'лобелия', 'капуста', 'газания', 'циперус','виола', 'хлорофитум', 'лаванда', 'розмарин', 'гипсофила', 'гвоздик',\n",
    "                    'мимоза', 'мединилла', 'тагетис', 'земляника', 'астра', ' зверобой', 'настурция', 'папоротник','календула',\n",
    "                    'каланхое', 'тыква', 'гербера','цветущее', 'афеляндра', 'нивянник', 'вербейник', 'гардения','d', 'гортензия',\n",
    "                    'калатея', 'алое', 'кореопсис', 'укроп', 'вигна', 'скиммия', 'колеус', 'душица', 'фатсия', 'лантана', 'кабачок',\n",
    "                    'салат', 'осина', 'целозия', 'портулак', 'крассула', 'аргирантерум', 'хоста', 'цинерария', 'монарда', 'тюльпан',\n",
    "                    'баклажан', 'вероника', 'сальвия', 'кориандр', 'лен', 'цитрофортунелла', 'пахира', 'фаленопсис', 'бадан',\n",
    "                    'эхеверия', 'клубника', 'многолетнее', 'кофе', 'седум', 'табак', 'спатифиллум', 'ранункулус', 'барвинок',\n",
    "                    'дендориум', 'калла', 'лавр', 'мирт','львиный', 'дендробиум', 'цветочная', 'кипарисовик', 'аврора', 'рудбекия',\n",
    "                    'колокольчик', 'овсянница', 'камнеломка', 'котовник', 'ясколка', 'd', 'h', 'кашпо', 'аквилегия', 'косметь'\n",
    "                    ], \n",
    "\n",
    "    'Товары для дома': ['сушилка', 'одежда', 'костюм', 'плечики', 'вешалка', 'прищепок', 'посудомоечный', 'бидон', 'сменный',\n",
    "                        'кофр', 'корзина', 'корзинка', 'подставка', 'шпагат', 'коробка', 'почтовый', 'коврик',\n",
    "                        'хранение', 'бак', 'подкладка', 'чехол', 'гладильный', 'подрукавник', 'фиксатор', 'глажение',\n",
    "                        'урна', 'придверный', 'термометр', 'влаговпитывающий', 'скребок', 'ткань', 'зажигалка',\n",
    "                        'таз', 'ведро', 'корыто', 'ковш', 'колесо', 'сумка', 'тележка', 'стеллажный', 'шнур', 'пьезозажигалка',\n",
    "                        'простыня', 'одеяло', 'наматрацник','пододеяльник', 'наволочка', 'полотенце', 'покрывало', 'наматрасник',\n",
    "                        'плед', 'наматрицник', 'белье', 'подушка', 'напольный', 'утюг', 'фен', 'пылесос', 'туалетный', 'увлажнять',\n",
    "                        'ванный', 'халат', 'ванна', 'зубной', 'противоскользящий', 'мыло', 'унитаз', 'подголовник'\n",
    "                       ],\n",
    "\n",
    "    'Интереьер': ['искусственный', 'искуственный', 'цветок', 'пуф','комод', 'фоторамка',\n",
    "                  'интерьерный', 'муляж', 'декоративный', 'светильник', 'штора', 'стеллаж',\n",
    "                  'обувница', 'этажерка', 'ключница'\n",
    "                 ],                   \n",
    "\n",
    "    'Все для ремонта': ['стремянка', 'скоба', 'пружина', 'крепеж', 'уголок', 'карниз'\n",
    "                        'завертка', 'шпингалет', 'крючок', 'петля', 'стяжка', 'угольник',\n",
    "                        'инструмент', 'полка', 'полк', 'фал', 'напильник', 'насадка валик',\n",
    "                        'нитрид', 'сварка', 'засор', 'дерево', 'электрический', 'завертка',\n",
    "                        'штангенциркуль', 'мебельный', 'линейка', 'гои'\n",
    "                       ],\n",
    "\n",
    "    'Все для уборки': ['веник', 'совок', 'швабра', 'мусорный', 'мусор', 'салфетка', 'отбеливатель', 'биопорошок',\n",
    "                       'щетка', 'ерш', 'вантуз', 'перчатка', 'сметка', 'мусор', 'DECS', 'ROZENBAL',\n",
    "                       'окномойка', 'тряпка', 'микрофибры', 'мытье', 'вентиляционный', 'антижир', 'стирка'\n",
    "                      ],  \n",
    "}"
   ]
  },
  {
   "cell_type": "code",
   "execution_count": 25,
   "metadata": {},
   "outputs": [],
   "source": [
    "def create_category(col, categories, instance):\n",
    "    \"\"\"\n",
    "    Функция для создания категорий путем лемматизации строки.\n",
    "\n",
    "    row - столбец датафрейма\n",
    "    category - категории товаров\n",
    "    instance - экземпляр класса для лемматизации\n",
    "    \"\"\"\n",
    "\n",
    "    lemmas = ' '.join(instance.lemmatize(col)).split()\n",
    "    for lemma in lemmas:\n",
    "        for key, values in categories.items():\n",
    "            if lemma in values:\n",
    "                return key\n",
    "    return 'Прочее'"
   ]
  },
  {
   "cell_type": "code",
   "execution_count": 26,
   "metadata": {},
   "outputs": [],
   "source": [
    "m = Mystem()"
   ]
  },
  {
   "cell_type": "code",
   "execution_count": 27,
   "metadata": {},
   "outputs": [],
   "source": [
    "df['category'] = df['product'].apply(create_category, categories=categories, instance=m)"
   ]
  },
  {
   "cell_type": "code",
   "execution_count": 28,
   "metadata": {},
   "outputs": [
    {
     "data": {
      "text/plain": [
       "Сад и огород               2519\n",
       "Товары для дома            1336\n",
       "Кухонные принадлежности     382\n",
       "Интереьер                   342\n",
       "Все для ремонта             131\n",
       "Все для уборки              130\n",
       "Name: category, dtype: int64"
      ]
     },
     "execution_count": 28,
     "metadata": {},
     "output_type": "execute_result"
    }
   ],
   "source": [
    "df['category'].value_counts()"
   ]
  },
  {
   "cell_type": "markdown",
   "metadata": {},
   "source": [
    "*Основной товарной категорией является \"Сад и огород\".*"
   ]
  },
  {
   "cell_type": "markdown",
   "metadata": {},
   "source": [
    "## Исследовательский анализ данных (EDA)"
   ]
  },
  {
   "cell_type": "markdown",
   "metadata": {},
   "source": [
    "**Чтобы провести исследовательский анализ данных, выполним следующие действия:**\n",
    "- Проверим описательную статистику;\n",
    "- Проанализируем:\n",
    "  - Количество заказов;\n",
    "  - Количество заказов по времени;\n",
    "  - Количество заказов по сезонам с учетом категории товаров;\n",
    "  - Количество покупателей по времени;\n",
    "  - Выручку по времени;\n",
    "  - Средний чек по времени;\n",
    "  - Товарный ассортимент;\n",
    "  - Основной и дополнительный товар."
   ]
  },
  {
   "cell_type": "markdown",
   "metadata": {},
   "source": [
    "### Проверка описательной статистики"
   ]
  },
  {
   "cell_type": "code",
   "execution_count": 29,
   "metadata": {},
   "outputs": [
    {
     "data": {
      "text/html": [
       "<div>\n",
       "<style scoped>\n",
       "    .dataframe tbody tr th:only-of-type {\n",
       "        vertical-align: middle;\n",
       "    }\n",
       "\n",
       "    .dataframe tbody tr th {\n",
       "        vertical-align: top;\n",
       "    }\n",
       "\n",
       "    .dataframe thead th {\n",
       "        text-align: right;\n",
       "    }\n",
       "</style>\n",
       "<table border=\"1\" class=\"dataframe\">\n",
       "  <thead>\n",
       "    <tr style=\"text-align: right;\">\n",
       "      <th></th>\n",
       "      <th>count</th>\n",
       "      <th>mean</th>\n",
       "      <th>std</th>\n",
       "      <th>min</th>\n",
       "      <th>25%</th>\n",
       "      <th>50%</th>\n",
       "      <th>75%</th>\n",
       "      <th>max</th>\n",
       "    </tr>\n",
       "  </thead>\n",
       "  <tbody>\n",
       "    <tr>\n",
       "      <th>order_id</th>\n",
       "      <td>4840.0</td>\n",
       "      <td>48110.61</td>\n",
       "      <td>27362.54</td>\n",
       "      <td>12624.0</td>\n",
       "      <td>14773.25</td>\n",
       "      <td>68854.0</td>\n",
       "      <td>70812.5</td>\n",
       "      <td>73164.0</td>\n",
       "    </tr>\n",
       "    <tr>\n",
       "      <th>quantity</th>\n",
       "      <td>4840.0</td>\n",
       "      <td>2.82</td>\n",
       "      <td>17.64</td>\n",
       "      <td>1.0</td>\n",
       "      <td>1.00</td>\n",
       "      <td>1.0</td>\n",
       "      <td>1.0</td>\n",
       "      <td>1000.0</td>\n",
       "    </tr>\n",
       "    <tr>\n",
       "      <th>price</th>\n",
       "      <td>4840.0</td>\n",
       "      <td>514.93</td>\n",
       "      <td>945.45</td>\n",
       "      <td>9.0</td>\n",
       "      <td>90.00</td>\n",
       "      <td>150.0</td>\n",
       "      <td>488.0</td>\n",
       "      <td>14917.0</td>\n",
       "    </tr>\n",
       "    <tr>\n",
       "      <th>revenue</th>\n",
       "      <td>4840.0</td>\n",
       "      <td>850.55</td>\n",
       "      <td>9840.40</td>\n",
       "      <td>9.0</td>\n",
       "      <td>120.00</td>\n",
       "      <td>194.0</td>\n",
       "      <td>734.0</td>\n",
       "      <td>675000.0</td>\n",
       "    </tr>\n",
       "    <tr>\n",
       "      <th>hour</th>\n",
       "      <td>4840.0</td>\n",
       "      <td>13.72</td>\n",
       "      <td>4.80</td>\n",
       "      <td>0.0</td>\n",
       "      <td>10.00</td>\n",
       "      <td>13.0</td>\n",
       "      <td>17.0</td>\n",
       "      <td>23.0</td>\n",
       "    </tr>\n",
       "    <tr>\n",
       "      <th>day</th>\n",
       "      <td>4840.0</td>\n",
       "      <td>15.39</td>\n",
       "      <td>8.80</td>\n",
       "      <td>1.0</td>\n",
       "      <td>8.00</td>\n",
       "      <td>15.0</td>\n",
       "      <td>23.0</td>\n",
       "      <td>31.0</td>\n",
       "    </tr>\n",
       "    <tr>\n",
       "      <th>week</th>\n",
       "      <td>4840.0</td>\n",
       "      <td>26.62</td>\n",
       "      <td>14.25</td>\n",
       "      <td>1.0</td>\n",
       "      <td>16.00</td>\n",
       "      <td>23.0</td>\n",
       "      <td>41.0</td>\n",
       "      <td>52.0</td>\n",
       "    </tr>\n",
       "    <tr>\n",
       "      <th>year</th>\n",
       "      <td>4840.0</td>\n",
       "      <td>2018.75</td>\n",
       "      <td>0.43</td>\n",
       "      <td>2018.0</td>\n",
       "      <td>2018.00</td>\n",
       "      <td>2019.0</td>\n",
       "      <td>2019.0</td>\n",
       "      <td>2019.0</td>\n",
       "    </tr>\n",
       "    <tr>\n",
       "      <th>unique_products_count</th>\n",
       "      <td>4840.0</td>\n",
       "      <td>6.25</td>\n",
       "      <td>8.76</td>\n",
       "      <td>1.0</td>\n",
       "      <td>1.00</td>\n",
       "      <td>2.0</td>\n",
       "      <td>8.0</td>\n",
       "      <td>51.0</td>\n",
       "    </tr>\n",
       "    <tr>\n",
       "      <th>main</th>\n",
       "      <td>4840.0</td>\n",
       "      <td>0.49</td>\n",
       "      <td>0.50</td>\n",
       "      <td>0.0</td>\n",
       "      <td>0.00</td>\n",
       "      <td>0.0</td>\n",
       "      <td>1.0</td>\n",
       "      <td>1.0</td>\n",
       "    </tr>\n",
       "    <tr>\n",
       "      <th>additional</th>\n",
       "      <td>4840.0</td>\n",
       "      <td>0.51</td>\n",
       "      <td>0.50</td>\n",
       "      <td>0.0</td>\n",
       "      <td>0.00</td>\n",
       "      <td>1.0</td>\n",
       "      <td>1.0</td>\n",
       "      <td>1.0</td>\n",
       "    </tr>\n",
       "  </tbody>\n",
       "</table>\n",
       "</div>"
      ],
      "text/plain": [
       "                        count      mean       std      min       25%      50%  \\\n",
       "order_id               4840.0  48110.61  27362.54  12624.0  14773.25  68854.0   \n",
       "quantity               4840.0      2.82     17.64      1.0      1.00      1.0   \n",
       "price                  4840.0    514.93    945.45      9.0     90.00    150.0   \n",
       "revenue                4840.0    850.55   9840.40      9.0    120.00    194.0   \n",
       "hour                   4840.0     13.72      4.80      0.0     10.00     13.0   \n",
       "day                    4840.0     15.39      8.80      1.0      8.00     15.0   \n",
       "week                   4840.0     26.62     14.25      1.0     16.00     23.0   \n",
       "year                   4840.0   2018.75      0.43   2018.0   2018.00   2019.0   \n",
       "unique_products_count  4840.0      6.25      8.76      1.0      1.00      2.0   \n",
       "main                   4840.0      0.49      0.50      0.0      0.00      0.0   \n",
       "additional             4840.0      0.51      0.50      0.0      0.00      1.0   \n",
       "\n",
       "                           75%       max  \n",
       "order_id               70812.5   73164.0  \n",
       "quantity                   1.0    1000.0  \n",
       "price                    488.0   14917.0  \n",
       "revenue                  734.0  675000.0  \n",
       "hour                      17.0      23.0  \n",
       "day                       23.0      31.0  \n",
       "week                      41.0      52.0  \n",
       "year                    2019.0    2019.0  \n",
       "unique_products_count      8.0      51.0  \n",
       "main                       1.0       1.0  \n",
       "additional                 1.0       1.0  "
      ]
     },
     "execution_count": 29,
     "metadata": {},
     "output_type": "execute_result"
    }
   ],
   "source": [
    "df.describe().T"
   ]
  },
  {
   "cell_type": "markdown",
   "metadata": {},
   "source": [
    "- Среднее количество товаров в заказе 2.8;\n",
    "- Имеются очень крупные заказы в 1000 штук;\n",
    "- Большой разброс цен, стандартное отклонение 945;\n",
    "- В магазине есть те, кто закупается на очень крупные суммы;\n",
    "- Медиана времени закупки приходится на 13 часов;\n",
    "- Поровну распределились основные и дополнительные товары."
   ]
  },
  {
   "cell_type": "markdown",
   "metadata": {},
   "source": [
    "### Количество заказов"
   ]
  },
  {
   "cell_type": "code",
   "execution_count": 30,
   "metadata": {},
   "outputs": [
    {
     "data": {
      "text/html": [
       "<div>\n",
       "<style scoped>\n",
       "    .dataframe tbody tr th:only-of-type {\n",
       "        vertical-align: middle;\n",
       "    }\n",
       "\n",
       "    .dataframe tbody tr th {\n",
       "        vertical-align: top;\n",
       "    }\n",
       "\n",
       "    .dataframe thead th {\n",
       "        text-align: right;\n",
       "    }\n",
       "</style>\n",
       "<table border=\"1\" class=\"dataframe\">\n",
       "  <thead>\n",
       "    <tr style=\"text-align: right;\">\n",
       "      <th></th>\n",
       "      <th>date</th>\n",
       "      <th>customer_id</th>\n",
       "      <th>order_id</th>\n",
       "      <th>product</th>\n",
       "      <th>quantity</th>\n",
       "      <th>price</th>\n",
       "      <th>revenue</th>\n",
       "      <th>hour</th>\n",
       "      <th>day</th>\n",
       "      <th>day_of_week</th>\n",
       "      <th>week</th>\n",
       "      <th>month</th>\n",
       "      <th>year</th>\n",
       "      <th>dt</th>\n",
       "      <th>unique_products_count</th>\n",
       "      <th>main</th>\n",
       "      <th>additional</th>\n",
       "      <th>category</th>\n",
       "    </tr>\n",
       "  </thead>\n",
       "  <tbody>\n",
       "    <tr>\n",
       "      <th>5456</th>\n",
       "      <td>2019-06-18 15:00:00</td>\n",
       "      <td>312e9a3e-5fca-43ff-a6a1-892d2b2d5ba6</td>\n",
       "      <td>71743</td>\n",
       "      <td>Вантуз с деревянной ручкой d14 см красный, Burstenmann, 0522/0000</td>\n",
       "      <td>1000</td>\n",
       "      <td>675</td>\n",
       "      <td>675000</td>\n",
       "      <td>15</td>\n",
       "      <td>18</td>\n",
       "      <td>Tuesday</td>\n",
       "      <td>25</td>\n",
       "      <td>2019-06-01</td>\n",
       "      <td>2019</td>\n",
       "      <td>2019-06-18</td>\n",
       "      <td>1</td>\n",
       "      <td>1</td>\n",
       "      <td>0</td>\n",
       "      <td>Все для уборки</td>\n",
       "    </tr>\n",
       "    <tr>\n",
       "      <th>5071</th>\n",
       "      <td>2019-06-11 07:00:00</td>\n",
       "      <td>146cd9bf-a95c-4afb-915b-5f6684b17444</td>\n",
       "      <td>71668</td>\n",
       "      <td>Вешалки мягкие для деликатных вещей 3 шт шоколад</td>\n",
       "      <td>334</td>\n",
       "      <td>148</td>\n",
       "      <td>49432</td>\n",
       "      <td>7</td>\n",
       "      <td>11</td>\n",
       "      <td>Tuesday</td>\n",
       "      <td>24</td>\n",
       "      <td>2019-06-01</td>\n",
       "      <td>2019</td>\n",
       "      <td>2019-06-11</td>\n",
       "      <td>1</td>\n",
       "      <td>1</td>\n",
       "      <td>0</td>\n",
       "      <td>Товары для дома</td>\n",
       "    </tr>\n",
       "    <tr>\n",
       "      <th>3961</th>\n",
       "      <td>2019-05-20 21:00:00</td>\n",
       "      <td>5d189e88-d4d6-4eac-ab43-fa65a3c4d106</td>\n",
       "      <td>71478</td>\n",
       "      <td>Муляж ЯБЛОКО 9 см красное</td>\n",
       "      <td>300</td>\n",
       "      <td>51</td>\n",
       "      <td>15300</td>\n",
       "      <td>21</td>\n",
       "      <td>20</td>\n",
       "      <td>Monday</td>\n",
       "      <td>21</td>\n",
       "      <td>2019-05-01</td>\n",
       "      <td>2019</td>\n",
       "      <td>2019-05-20</td>\n",
       "      <td>1</td>\n",
       "      <td>1</td>\n",
       "      <td>0</td>\n",
       "      <td>Интереьер</td>\n",
       "    </tr>\n",
       "    <tr>\n",
       "      <th>1158</th>\n",
       "      <td>2018-12-10 14:00:00</td>\n",
       "      <td>a984c5b7-ff7e-4647-b84e-ef0b85a2762d</td>\n",
       "      <td>69289</td>\n",
       "      <td>Ручка-скоба РС-100 белая *Трибатрон*, 1108035</td>\n",
       "      <td>200</td>\n",
       "      <td>29</td>\n",
       "      <td>5800</td>\n",
       "      <td>14</td>\n",
       "      <td>10</td>\n",
       "      <td>Monday</td>\n",
       "      <td>50</td>\n",
       "      <td>2018-12-01</td>\n",
       "      <td>2018</td>\n",
       "      <td>2018-12-10</td>\n",
       "      <td>1</td>\n",
       "      <td>1</td>\n",
       "      <td>0</td>\n",
       "      <td>Все для ремонта</td>\n",
       "    </tr>\n",
       "    <tr>\n",
       "      <th>568</th>\n",
       "      <td>2018-11-01 08:00:00</td>\n",
       "      <td>aa42dc38-780f-4b50-9a65-83b6fa64e766</td>\n",
       "      <td>68815</td>\n",
       "      <td>Муляж ЯБЛОКО 9 см красное</td>\n",
       "      <td>170</td>\n",
       "      <td>51</td>\n",
       "      <td>8670</td>\n",
       "      <td>8</td>\n",
       "      <td>1</td>\n",
       "      <td>Thursday</td>\n",
       "      <td>44</td>\n",
       "      <td>2018-11-01</td>\n",
       "      <td>2018</td>\n",
       "      <td>2018-11-01</td>\n",
       "      <td>1</td>\n",
       "      <td>1</td>\n",
       "      <td>0</td>\n",
       "      <td>Интереьер</td>\n",
       "    </tr>\n",
       "    <tr>\n",
       "      <th>267</th>\n",
       "      <td>2018-10-16 08:00:00</td>\n",
       "      <td>cd09ea73-d9ce-48c3-b4c5-018113735e80</td>\n",
       "      <td>68611</td>\n",
       "      <td>Пружина дверная 240 мм оцинкованная (Д-19 мм) без крепления, 1107014</td>\n",
       "      <td>150</td>\n",
       "      <td>38</td>\n",
       "      <td>5700</td>\n",
       "      <td>8</td>\n",
       "      <td>16</td>\n",
       "      <td>Tuesday</td>\n",
       "      <td>42</td>\n",
       "      <td>2018-10-01</td>\n",
       "      <td>2018</td>\n",
       "      <td>2018-10-16</td>\n",
       "      <td>2</td>\n",
       "      <td>0</td>\n",
       "      <td>1</td>\n",
       "      <td>Все для ремонта</td>\n",
       "    </tr>\n",
       "    <tr>\n",
       "      <th>2431</th>\n",
       "      <td>2019-03-23 10:00:00</td>\n",
       "      <td>685d3d84-aebb-485b-8e59-344b3df8b3d3</td>\n",
       "      <td>70841</td>\n",
       "      <td>Плечики пластмассовые Размер 52 - 54 Тула 1205158</td>\n",
       "      <td>150</td>\n",
       "      <td>20</td>\n",
       "      <td>3000</td>\n",
       "      <td>10</td>\n",
       "      <td>23</td>\n",
       "      <td>Saturday</td>\n",
       "      <td>12</td>\n",
       "      <td>2019-03-01</td>\n",
       "      <td>2019</td>\n",
       "      <td>2019-03-23</td>\n",
       "      <td>1</td>\n",
       "      <td>1</td>\n",
       "      <td>0</td>\n",
       "      <td>Товары для дома</td>\n",
       "    </tr>\n",
       "    <tr>\n",
       "      <th>266</th>\n",
       "      <td>2018-10-16 08:00:00</td>\n",
       "      <td>cd09ea73-d9ce-48c3-b4c5-018113735e80</td>\n",
       "      <td>68611</td>\n",
       "      <td>Крепеж для пружины дверной, 1107055</td>\n",
       "      <td>150</td>\n",
       "      <td>19</td>\n",
       "      <td>2850</td>\n",
       "      <td>8</td>\n",
       "      <td>16</td>\n",
       "      <td>Tuesday</td>\n",
       "      <td>42</td>\n",
       "      <td>2018-10-01</td>\n",
       "      <td>2018</td>\n",
       "      <td>2018-10-16</td>\n",
       "      <td>2</td>\n",
       "      <td>0</td>\n",
       "      <td>1</td>\n",
       "      <td>Все для ремонта</td>\n",
       "    </tr>\n",
       "    <tr>\n",
       "      <th>586</th>\n",
       "      <td>2018-11-02 11:00:00</td>\n",
       "      <td>0c5aaa88-e346-4f87-8f7a-ad8cbc04e965</td>\n",
       "      <td>68831</td>\n",
       "      <td>Муляж ЯБЛОКО 9 см красное</td>\n",
       "      <td>140</td>\n",
       "      <td>59</td>\n",
       "      <td>8260</td>\n",
       "      <td>11</td>\n",
       "      <td>2</td>\n",
       "      <td>Friday</td>\n",
       "      <td>44</td>\n",
       "      <td>2018-11-01</td>\n",
       "      <td>2018</td>\n",
       "      <td>2018-11-02</td>\n",
       "      <td>1</td>\n",
       "      <td>1</td>\n",
       "      <td>0</td>\n",
       "      <td>Интереьер</td>\n",
       "    </tr>\n",
       "    <tr>\n",
       "      <th>1103</th>\n",
       "      <td>2018-12-04 17:00:00</td>\n",
       "      <td>7d255526-fcc2-4f79-b28a-217d7d2373a8</td>\n",
       "      <td>69206</td>\n",
       "      <td>Щетка для посуды *ОЛЯ*, Мультипласт 1807010</td>\n",
       "      <td>100</td>\n",
       "      <td>26</td>\n",
       "      <td>2600</td>\n",
       "      <td>17</td>\n",
       "      <td>4</td>\n",
       "      <td>Tuesday</td>\n",
       "      <td>49</td>\n",
       "      <td>2018-12-01</td>\n",
       "      <td>2018</td>\n",
       "      <td>2018-12-04</td>\n",
       "      <td>1</td>\n",
       "      <td>1</td>\n",
       "      <td>0</td>\n",
       "      <td>Все для уборки</td>\n",
       "    </tr>\n",
       "  </tbody>\n",
       "</table>\n",
       "</div>"
      ],
      "text/plain": [
       "                    date                           customer_id  order_id  \\\n",
       "5456 2019-06-18 15:00:00  312e9a3e-5fca-43ff-a6a1-892d2b2d5ba6     71743   \n",
       "5071 2019-06-11 07:00:00  146cd9bf-a95c-4afb-915b-5f6684b17444     71668   \n",
       "3961 2019-05-20 21:00:00  5d189e88-d4d6-4eac-ab43-fa65a3c4d106     71478   \n",
       "1158 2018-12-10 14:00:00  a984c5b7-ff7e-4647-b84e-ef0b85a2762d     69289   \n",
       "568  2018-11-01 08:00:00  aa42dc38-780f-4b50-9a65-83b6fa64e766     68815   \n",
       "267  2018-10-16 08:00:00  cd09ea73-d9ce-48c3-b4c5-018113735e80     68611   \n",
       "2431 2019-03-23 10:00:00  685d3d84-aebb-485b-8e59-344b3df8b3d3     70841   \n",
       "266  2018-10-16 08:00:00  cd09ea73-d9ce-48c3-b4c5-018113735e80     68611   \n",
       "586  2018-11-02 11:00:00  0c5aaa88-e346-4f87-8f7a-ad8cbc04e965     68831   \n",
       "1103 2018-12-04 17:00:00  7d255526-fcc2-4f79-b28a-217d7d2373a8     69206   \n",
       "\n",
       "                                                                   product  \\\n",
       "5456     Вантуз с деревянной ручкой d14 см красный, Burstenmann, 0522/0000   \n",
       "5071                      Вешалки мягкие для деликатных вещей 3 шт шоколад   \n",
       "3961                                             Муляж ЯБЛОКО 9 см красное   \n",
       "1158                         Ручка-скоба РС-100 белая *Трибатрон*, 1108035   \n",
       "568                                              Муляж ЯБЛОКО 9 см красное   \n",
       "267   Пружина дверная 240 мм оцинкованная (Д-19 мм) без крепления, 1107014   \n",
       "2431                     Плечики пластмассовые Размер 52 - 54 Тула 1205158   \n",
       "266                                    Крепеж для пружины дверной, 1107055   \n",
       "586                                              Муляж ЯБЛОКО 9 см красное   \n",
       "1103                           Щетка для посуды *ОЛЯ*, Мультипласт 1807010   \n",
       "\n",
       "      quantity  price  revenue  hour  day day_of_week  week      month  year  \\\n",
       "5456      1000    675   675000    15   18     Tuesday    25 2019-06-01  2019   \n",
       "5071       334    148    49432     7   11     Tuesday    24 2019-06-01  2019   \n",
       "3961       300     51    15300    21   20      Monday    21 2019-05-01  2019   \n",
       "1158       200     29     5800    14   10      Monday    50 2018-12-01  2018   \n",
       "568        170     51     8670     8    1    Thursday    44 2018-11-01  2018   \n",
       "267        150     38     5700     8   16     Tuesday    42 2018-10-01  2018   \n",
       "2431       150     20     3000    10   23    Saturday    12 2019-03-01  2019   \n",
       "266        150     19     2850     8   16     Tuesday    42 2018-10-01  2018   \n",
       "586        140     59     8260    11    2      Friday    44 2018-11-01  2018   \n",
       "1103       100     26     2600    17    4     Tuesday    49 2018-12-01  2018   \n",
       "\n",
       "             dt  unique_products_count  main  additional         category  \n",
       "5456 2019-06-18                      1     1           0   Все для уборки  \n",
       "5071 2019-06-11                      1     1           0  Товары для дома  \n",
       "3961 2019-05-20                      1     1           0        Интереьер  \n",
       "1158 2018-12-10                      1     1           0  Все для ремонта  \n",
       "568  2018-11-01                      1     1           0        Интереьер  \n",
       "267  2018-10-16                      2     0           1  Все для ремонта  \n",
       "2431 2019-03-23                      1     1           0  Товары для дома  \n",
       "266  2018-10-16                      2     0           1  Все для ремонта  \n",
       "586  2018-11-02                      1     1           0        Интереьер  \n",
       "1103 2018-12-04                      1     1           0   Все для уборки  "
      ]
     },
     "execution_count": 30,
     "metadata": {},
     "output_type": "execute_result"
    }
   ],
   "source": [
    "df.sort_values(by='quantity', ascending=False).head(10)"
   ]
  },
  {
   "cell_type": "markdown",
   "metadata": {},
   "source": [
    "*Есть крупные оптовые заказы.*"
   ]
  },
  {
   "cell_type": "markdown",
   "metadata": {},
   "source": [
    "**Посмотрим много ли таких заказов:**"
   ]
  },
  {
   "cell_type": "code",
   "execution_count": 31,
   "metadata": {},
   "outputs": [
    {
     "data": {
      "text/plain": [
       "array([ 3.,  7., 30.])"
      ]
     },
     "execution_count": 31,
     "metadata": {},
     "output_type": "execute_result"
    }
   ],
   "source": [
    "np.percentile(df['quantity'], [90, 95, 99])"
   ]
  },
  {
   "cell_type": "markdown",
   "metadata": {},
   "source": [
    "**За точку отсчета возьмем 99 перцентиль:**"
   ]
  },
  {
   "cell_type": "code",
   "execution_count": 32,
   "metadata": {},
   "outputs": [],
   "source": [
    "very_large_orders = df[df['quantity'] > 30]"
   ]
  },
  {
   "cell_type": "code",
   "execution_count": 33,
   "metadata": {
    "scrolled": false
   },
   "outputs": [
    {
     "data": {
      "text/plain": [
       "36"
      ]
     },
     "execution_count": 33,
     "metadata": {},
     "output_type": "execute_result"
    }
   ],
   "source": [
    "very_large_orders['order_id'].nunique()"
   ]
  },
  {
   "cell_type": "markdown",
   "metadata": {},
   "source": [
    "**Посмотрим, как часто данные продукты заказывали:**"
   ]
  },
  {
   "cell_type": "code",
   "execution_count": 34,
   "metadata": {},
   "outputs": [
    {
     "data": {
      "text/html": [
       "<div>\n",
       "<style scoped>\n",
       "    .dataframe tbody tr th:only-of-type {\n",
       "        vertical-align: middle;\n",
       "    }\n",
       "\n",
       "    .dataframe tbody tr th {\n",
       "        vertical-align: top;\n",
       "    }\n",
       "\n",
       "    .dataframe thead th {\n",
       "        text-align: right;\n",
       "    }\n",
       "</style>\n",
       "<table border=\"1\" class=\"dataframe\">\n",
       "  <thead>\n",
       "    <tr style=\"text-align: right;\">\n",
       "      <th></th>\n",
       "      <th>product</th>\n",
       "      <th>order_id</th>\n",
       "    </tr>\n",
       "  </thead>\n",
       "  <tbody>\n",
       "    <tr>\n",
       "      <th>0</th>\n",
       "      <td>Муляж Яблоко зеленый 9 см полиуретан</td>\n",
       "      <td>7</td>\n",
       "    </tr>\n",
       "    <tr>\n",
       "      <th>1</th>\n",
       "      <td>Муляж Банан желтый 21 см полиуретан</td>\n",
       "      <td>6</td>\n",
       "    </tr>\n",
       "    <tr>\n",
       "      <th>2</th>\n",
       "      <td>Муляж ЯБЛОКО 9 см красное</td>\n",
       "      <td>6</td>\n",
       "    </tr>\n",
       "    <tr>\n",
       "      <th>3</th>\n",
       "      <td>Стяжка оконная с болтом СТ-55 цинк, 1108354</td>\n",
       "      <td>5</td>\n",
       "    </tr>\n",
       "    <tr>\n",
       "      <th>4</th>\n",
       "      <td>Муляж Лимон желтый 9 см полиуретан</td>\n",
       "      <td>5</td>\n",
       "    </tr>\n",
       "    <tr>\n",
       "      <th>5</th>\n",
       "      <td>Салфетка Protec Textil Polyline 30х43 см Аметист белая 6230</td>\n",
       "      <td>4</td>\n",
       "    </tr>\n",
       "    <tr>\n",
       "      <th>6</th>\n",
       "      <td>Цветок искусственный Гвоздика тканевая красная 50 см</td>\n",
       "      <td>3</td>\n",
       "    </tr>\n",
       "    <tr>\n",
       "      <th>7</th>\n",
       "      <td>Тележка багажная DELTA ТБР-22 синий грузоподъемность 20 кг сумка и 50 кг каркас РОССИЯ</td>\n",
       "      <td>3</td>\n",
       "    </tr>\n",
       "    <tr>\n",
       "      <th>8</th>\n",
       "      <td>Плечики пластмассовые Размер 52 - 54 Тула 1205158</td>\n",
       "      <td>2</td>\n",
       "    </tr>\n",
       "    <tr>\n",
       "      <th>9</th>\n",
       "      <td>Вешалки мягкие для деликатных вещей 3 шт шоколад</td>\n",
       "      <td>2</td>\n",
       "    </tr>\n",
       "    <tr>\n",
       "      <th>10</th>\n",
       "      <td>Петля приварная гаражная d 14х90 мм с шаром, 1103003</td>\n",
       "      <td>2</td>\n",
       "    </tr>\n",
       "    <tr>\n",
       "      <th>11</th>\n",
       "      <td>Спатифиллум Шопен d-12 см</td>\n",
       "      <td>2</td>\n",
       "    </tr>\n",
       "    <tr>\n",
       "      <th>12</th>\n",
       "      <td>Ковш пластмассовый Полимербыт С215, 1,5 л 1406006</td>\n",
       "      <td>2</td>\n",
       "    </tr>\n",
       "    <tr>\n",
       "      <th>13</th>\n",
       "      <td>Крепеж для пружины дверной, 1107055</td>\n",
       "      <td>2</td>\n",
       "    </tr>\n",
       "    <tr>\n",
       "      <th>14</th>\n",
       "      <td>Вантуз с деревянной ручкой d14 см красный, Burstenmann, 0522/0000</td>\n",
       "      <td>1</td>\n",
       "    </tr>\n",
       "    <tr>\n",
       "      <th>15</th>\n",
       "      <td>Ручка-скоба РС-100 белая *Трибатрон*, 1108035</td>\n",
       "      <td>1</td>\n",
       "    </tr>\n",
       "    <tr>\n",
       "      <th>16</th>\n",
       "      <td>Шпингалет 80 мм белый с пружиной, 1102188</td>\n",
       "      <td>1</td>\n",
       "    </tr>\n",
       "    <tr>\n",
       "      <th>17</th>\n",
       "      <td>Щетка для мытья посуды КОЛИБРИ М5202 большая</td>\n",
       "      <td>1</td>\n",
       "    </tr>\n",
       "    <tr>\n",
       "      <th>18</th>\n",
       "      <td>Щетка для посуды *Мила* SV3182 1807009</td>\n",
       "      <td>1</td>\n",
       "    </tr>\n",
       "    <tr>\n",
       "      <th>19</th>\n",
       "      <td>Щетка для посуды *ОЛЯ*, Мультипласт 1807010</td>\n",
       "      <td>1</td>\n",
       "    </tr>\n",
       "    <tr>\n",
       "      <th>20</th>\n",
       "      <td>Универсальный нож WEBBER из нержавеющей стали Русские мотивы 12,7 см с деревянной ручкой ВЕ-2252D</td>\n",
       "      <td>1</td>\n",
       "    </tr>\n",
       "    <tr>\n",
       "      <th>21</th>\n",
       "      <td>Набор ножей Attribute CHEF 5 предметов AKF522</td>\n",
       "      <td>1</td>\n",
       "    </tr>\n",
       "    <tr>\n",
       "      <th>22</th>\n",
       "      <td>Пружина дверная 240 мм оцинкованная (Д-19 мм) без крепления, 1107014</td>\n",
       "      <td>1</td>\n",
       "    </tr>\n",
       "    <tr>\n",
       "      <th>23</th>\n",
       "      <td>Насадка на валик ВММ-200/60 белый искусственный мех, 0703011</td>\n",
       "      <td>1</td>\n",
       "    </tr>\n",
       "    <tr>\n",
       "      <th>24</th>\n",
       "      <td>Ведро резинопластиковое строительное 12,0 л (МП), 1402018</td>\n",
       "      <td>1</td>\n",
       "    </tr>\n",
       "    <tr>\n",
       "      <th>25</th>\n",
       "      <td>Набор вешалок для костюма 45см 4шт цвет: кремовый, Attribute, AHP224</td>\n",
       "      <td>1</td>\n",
       "    </tr>\n",
       "    <tr>\n",
       "      <th>26</th>\n",
       "      <td>Крючок одежный 2-х рожковый серый металлик с полимерным покрытием *Тонар*, 1110027</td>\n",
       "      <td>1</td>\n",
       "    </tr>\n",
       "    <tr>\n",
       "      <th>27</th>\n",
       "      <td>Кружка с трубочкой Attribute МЯЧ 500 мл JAR501</td>\n",
       "      <td>1</td>\n",
       "    </tr>\n",
       "    <tr>\n",
       "      <th>28</th>\n",
       "      <td>Крепеж для пружины дверной оцинкованный, 1107054</td>\n",
       "      <td>1</td>\n",
       "    </tr>\n",
       "    <tr>\n",
       "      <th>29</th>\n",
       "      <td>Искусственный цветок Подснежник садовый пластиковый белый</td>\n",
       "      <td>1</td>\n",
       "    </tr>\n",
       "    <tr>\n",
       "      <th>30</th>\n",
       "      <td>Гвоздика стандартная Белая 60 см Колумбия Плантация Geoflora S.A.S. 25 штук в упаковке</td>\n",
       "      <td>1</td>\n",
       "    </tr>\n",
       "    <tr>\n",
       "      <th>31</th>\n",
       "      <td>Вешалка Valiant для брюк и юбок металлическая 30*10.5 см 121B11</td>\n",
       "      <td>1</td>\n",
       "    </tr>\n",
       "    <tr>\n",
       "      <th>32</th>\n",
       "      <td>Щетка-утюжок с ручкой Миди, Standart, York, G1126</td>\n",
       "      <td>1</td>\n",
       "    </tr>\n",
       "  </tbody>\n",
       "</table>\n",
       "</div>"
      ],
      "text/plain": [
       "                                                                                              product  \\\n",
       "0                                                                Муляж Яблоко зеленый 9 см полиуретан   \n",
       "1                                                                 Муляж Банан желтый 21 см полиуретан   \n",
       "2                                                                           Муляж ЯБЛОКО 9 см красное   \n",
       "3                                                         Стяжка оконная с болтом СТ-55 цинк, 1108354   \n",
       "4                                                                  Муляж Лимон желтый 9 см полиуретан   \n",
       "5                                         Салфетка Protec Textil Polyline 30х43 см Аметист белая 6230   \n",
       "6                                                Цветок искусственный Гвоздика тканевая красная 50 см   \n",
       "7              Тележка багажная DELTA ТБР-22 синий грузоподъемность 20 кг сумка и 50 кг каркас РОССИЯ   \n",
       "8                                                   Плечики пластмассовые Размер 52 - 54 Тула 1205158   \n",
       "9                                                    Вешалки мягкие для деликатных вещей 3 шт шоколад   \n",
       "10                                               Петля приварная гаражная d 14х90 мм с шаром, 1103003   \n",
       "11                                                                          Спатифиллум Шопен d-12 см   \n",
       "12                                                  Ковш пластмассовый Полимербыт С215, 1,5 л 1406006   \n",
       "13                                                                Крепеж для пружины дверной, 1107055   \n",
       "14                                  Вантуз с деревянной ручкой d14 см красный, Burstenmann, 0522/0000   \n",
       "15                                                      Ручка-скоба РС-100 белая *Трибатрон*, 1108035   \n",
       "16                                                          Шпингалет 80 мм белый с пружиной, 1102188   \n",
       "17                                                       Щетка для мытья посуды КОЛИБРИ М5202 большая   \n",
       "18                                                             Щетка для посуды *Мила* SV3182 1807009   \n",
       "19                                                        Щетка для посуды *ОЛЯ*, Мультипласт 1807010   \n",
       "20  Универсальный нож WEBBER из нержавеющей стали Русские мотивы 12,7 см с деревянной ручкой ВЕ-2252D   \n",
       "21                                                      Набор ножей Attribute CHEF 5 предметов AKF522   \n",
       "22                               Пружина дверная 240 мм оцинкованная (Д-19 мм) без крепления, 1107014   \n",
       "23                                       Насадка на валик ВММ-200/60 белый искусственный мех, 0703011   \n",
       "24                                          Ведро резинопластиковое строительное 12,0 л (МП), 1402018   \n",
       "25                               Набор вешалок для костюма 45см 4шт цвет: кремовый, Attribute, AHP224   \n",
       "26                 Крючок одежный 2-х рожковый серый металлик с полимерным покрытием *Тонар*, 1110027   \n",
       "27                                                     Кружка с трубочкой Attribute МЯЧ 500 мл JAR501   \n",
       "28                                                   Крепеж для пружины дверной оцинкованный, 1107054   \n",
       "29                                          Искусственный цветок Подснежник садовый пластиковый белый   \n",
       "30             Гвоздика стандартная Белая 60 см Колумбия Плантация Geoflora S.A.S. 25 штук в упаковке   \n",
       "31                                    Вешалка Valiant для брюк и юбок металлическая 30*10.5 см 121B11   \n",
       "32                                                  Щетка-утюжок с ручкой Миди, Standart, York, G1126   \n",
       "\n",
       "    order_id  \n",
       "0          7  \n",
       "1          6  \n",
       "2          6  \n",
       "3          5  \n",
       "4          5  \n",
       "5          4  \n",
       "6          3  \n",
       "7          3  \n",
       "8          2  \n",
       "9          2  \n",
       "10         2  \n",
       "11         2  \n",
       "12         2  \n",
       "13         2  \n",
       "14         1  \n",
       "15         1  \n",
       "16         1  \n",
       "17         1  \n",
       "18         1  \n",
       "19         1  \n",
       "20         1  \n",
       "21         1  \n",
       "22         1  \n",
       "23         1  \n",
       "24         1  \n",
       "25         1  \n",
       "26         1  \n",
       "27         1  \n",
       "28         1  \n",
       "29         1  \n",
       "30         1  \n",
       "31         1  \n",
       "32         1  "
      ]
     },
     "execution_count": 34,
     "metadata": {},
     "output_type": "execute_result"
    }
   ],
   "source": [
    "very_large_orders_counts = (df[df['product'].isin(very_large_orders['product'].unique())]\n",
    "                            .groupby('product')\n",
    "                            .agg({'order_id': 'nunique'})\n",
    "                            .sort_values(by='order_id', ascending=False) \n",
    "                            .reset_index()\n",
    ")\n",
    "very_large_orders_counts"
   ]
  },
  {
   "cell_type": "markdown",
   "metadata": {},
   "source": [
    "**Оставим только те, которые заказывали больше 1 раза:**"
   ]
  },
  {
   "cell_type": "code",
   "execution_count": 35,
   "metadata": {},
   "outputs": [],
   "source": [
    "for_drop = very_large_orders_counts[very_large_orders_counts['order_id'] == 1]['product']"
   ]
  },
  {
   "cell_type": "code",
   "execution_count": 36,
   "metadata": {},
   "outputs": [],
   "source": [
    "df = df.drop(df[df['product'].isin(for_drop)].index)"
   ]
  },
  {
   "cell_type": "markdown",
   "metadata": {},
   "source": [
    "*Были очень крупные заказы, оставили только те, в которых товар покупался не единожды.*"
   ]
  },
  {
   "cell_type": "markdown",
   "metadata": {},
   "source": [
    "### Количество заказов по времени"
   ]
  },
  {
   "cell_type": "markdown",
   "metadata": {},
   "source": [
    "**Выясним за какой промежуток времени мы обладаем данными:**"
   ]
  },
  {
   "cell_type": "code",
   "execution_count": 37,
   "metadata": {},
   "outputs": [
    {
     "data": {
      "text/plain": [
       "Timestamp('2018-10-01 00:00:00')"
      ]
     },
     "execution_count": 37,
     "metadata": {},
     "output_type": "execute_result"
    }
   ],
   "source": [
    "min_date = df['date'].min()\n",
    "min_date"
   ]
  },
  {
   "cell_type": "code",
   "execution_count": 38,
   "metadata": {},
   "outputs": [
    {
     "data": {
      "text/plain": [
       "Timestamp('2019-10-31 16:00:00')"
      ]
     },
     "execution_count": 38,
     "metadata": {},
     "output_type": "execute_result"
    }
   ],
   "source": [
    "max_date = df['date'].max()\n",
    "max_date"
   ]
  },
  {
   "cell_type": "markdown",
   "metadata": {},
   "source": [
    "*Мы обладаем данными с 1 октября 2018 по 31 октября 2019.*"
   ]
  },
  {
   "cell_type": "markdown",
   "metadata": {},
   "source": [
    "**Посмотрим на распределение заказов:**"
   ]
  },
  {
   "cell_type": "code",
   "execution_count": 39,
   "metadata": {},
   "outputs": [],
   "source": [
    "cats = [ 'Monday', 'Tuesday', 'Wednesday', 'Thursday', 'Friday', 'Saturday', 'Sunday']\n",
    "orders_pivot_by_month = df.pivot_table(index='month', values='order_id', aggfunc='nunique').reset_index()\n",
    "orders_pivot_by_day = df.pivot_table(index='day', values='order_id', aggfunc='nunique').reset_index()\n",
    "orders_pivot_by_weekday = df.pivot_table(index='day_of_week', values='order_id', aggfunc='nunique').reindex(cats).reset_index()\n",
    "orders_pivot_by_hour = df.pivot_table(index='hour', values='order_id', aggfunc='nunique').reset_index()"
   ]
  },
  {
   "cell_type": "code",
   "execution_count": 40,
   "metadata": {},
   "outputs": [],
   "source": [
    "def plot_bar_nm(n_rows, m_cols, params):\n",
    "    \"\"\"\n",
    "    Функция для построения столбчатых диаграмм размерности n x m.\n",
    "\n",
    "    n_rows - количество строк\n",
    "    m_cols - количество столбцов\n",
    "    params - параметры для построения\n",
    "    \"\"\"\n",
    "\n",
    "    fig = make_subplots(rows=n_rows, cols=m_cols, horizontal_spacing = 0.05)\n",
    "\n",
    "    for key, value in params.items():\n",
    "        data = value['df']\n",
    "        fig.add_trace(go.Bar(\n",
    "            name=value['name'],\n",
    "            x=data[value['x']],\n",
    "            y=data[value['y']],\n",
    "            hoverinfo=value['hoverinfo'],),\n",
    "            row=value['row'], col=value['col']\n",
    "            )\n",
    "\n",
    "    return fig"
   ]
  },
  {
   "cell_type": "code",
   "execution_count": 41,
   "metadata": {},
   "outputs": [],
   "source": [
    "orders_params = {\n",
    "    'data1': {'df': orders_pivot_by_month, 'name': 'По месяцам', 'x': 'month', 'y': 'order_id', 'hoverinfo': 'y', 'row': 1, 'col': 1},\n",
    "    'data2': {'df': orders_pivot_by_day, 'name': 'По дням', 'x': 'day', 'y': 'order_id', 'hoverinfo': 'y', 'row': 1, 'col': 2},\n",
    "    'data3': {'df': orders_pivot_by_weekday, 'name': 'По дням недели', 'x': 'day_of_week', 'y': 'order_id', 'hoverinfo': 'y', 'row': 2, 'col': 1},\n",
    "    'data4': {'df': orders_pivot_by_hour, 'name': 'По часам', 'x': 'hour', 'y': 'order_id', 'hoverinfo': 'y', 'row': 2, 'col': 2},\n",
    "}"
   ]
  },
  {
   "cell_type": "code",
   "execution_count": 42,
   "metadata": {},
   "outputs": [
    {
     "data": {
      "application/vnd.plotly.v1+json": {
       "config": {
        "plotlyServerURL": "https://plot.ly"
       },
       "data": [
        {
         "hoverinfo": "y",
         "name": "По месяцам",
         "type": "bar",
         "x": [
          "2018-10-01T00:00:00",
          "2018-11-01T00:00:00",
          "2018-12-01T00:00:00",
          "2019-01-01T00:00:00",
          "2019-02-01T00:00:00",
          "2019-03-01T00:00:00",
          "2019-04-01T00:00:00",
          "2019-05-01T00:00:00",
          "2019-06-01T00:00:00",
          "2019-07-01T00:00:00",
          "2019-08-01T00:00:00",
          "2019-09-01T00:00:00",
          "2019-10-01T00:00:00"
         ],
         "xaxis": "x",
         "y": [
          235,
          204,
          278,
          167,
          289,
          248,
          265,
          179,
          163,
          197,
          175,
          178,
          197
         ],
         "yaxis": "y"
        },
        {
         "hoverinfo": "y",
         "name": "По дням",
         "type": "bar",
         "x": [
          1,
          2,
          3,
          4,
          5,
          6,
          7,
          8,
          9,
          10,
          11,
          12,
          13,
          14,
          15,
          16,
          17,
          18,
          19,
          20,
          21,
          22,
          23,
          24,
          25,
          26,
          27,
          28,
          29,
          30,
          31
         ],
         "xaxis": "x2",
         "y": [
          90,
          78,
          88,
          123,
          112,
          91,
          88,
          73,
          82,
          109,
          111,
          96,
          94,
          82,
          84,
          108,
          88,
          96,
          85,
          84,
          98,
          85,
          105,
          104,
          74,
          95,
          92,
          102,
          63,
          71,
          40
         ],
         "yaxis": "y2"
        },
        {
         "hoverinfo": "y",
         "name": "По дням недели",
         "type": "bar",
         "x": [
          "Monday",
          "Tuesday",
          "Wednesday",
          "Thursday",
          "Friday",
          "Saturday",
          "Sunday"
         ],
         "xaxis": "x3",
         "y": [
          489,
          482,
          434,
          432,
          359,
          251,
          341
         ],
         "yaxis": "y3"
        },
        {
         "hoverinfo": "y",
         "name": "По часам",
         "type": "bar",
         "x": [
          0,
          1,
          2,
          3,
          4,
          5,
          6,
          7,
          8,
          9,
          10,
          11,
          12,
          13,
          14,
          15,
          16,
          17,
          18,
          19,
          20,
          21,
          22,
          23
         ],
         "xaxis": "x4",
         "y": [
          32,
          16,
          14,
          8,
          18,
          19,
          33,
          66,
          145,
          196,
          218,
          233,
          209,
          219,
          200,
          189,
          158,
          154,
          108,
          132,
          124,
          147,
          108,
          50
         ],
         "yaxis": "y4"
        }
       ],
       "layout": {
        "height": 800,
        "template": {
         "data": {
          "bar": [
           {
            "error_x": {
             "color": "rgb(36,36,36)"
            },
            "error_y": {
             "color": "rgb(36,36,36)"
            },
            "marker": {
             "line": {
              "color": "rgb(234,234,242)",
              "width": 0.5
             },
             "pattern": {
              "fillmode": "overlay",
              "size": 10,
              "solidity": 0.2
             }
            },
            "type": "bar"
           }
          ],
          "barpolar": [
           {
            "marker": {
             "line": {
              "color": "rgb(234,234,242)",
              "width": 0.5
             },
             "pattern": {
              "fillmode": "overlay",
              "size": 10,
              "solidity": 0.2
             }
            },
            "type": "barpolar"
           }
          ],
          "carpet": [
           {
            "aaxis": {
             "endlinecolor": "rgb(36,36,36)",
             "gridcolor": "white",
             "linecolor": "white",
             "minorgridcolor": "white",
             "startlinecolor": "rgb(36,36,36)"
            },
            "baxis": {
             "endlinecolor": "rgb(36,36,36)",
             "gridcolor": "white",
             "linecolor": "white",
             "minorgridcolor": "white",
             "startlinecolor": "rgb(36,36,36)"
            },
            "type": "carpet"
           }
          ],
          "choropleth": [
           {
            "colorbar": {
             "outlinewidth": 0,
             "tickcolor": "rgb(36,36,36)",
             "ticklen": 8,
             "ticks": "outside",
             "tickwidth": 2
            },
            "type": "choropleth"
           }
          ],
          "contour": [
           {
            "colorbar": {
             "outlinewidth": 0,
             "tickcolor": "rgb(36,36,36)",
             "ticklen": 8,
             "ticks": "outside",
             "tickwidth": 2
            },
            "colorscale": [
             [
              0,
              "rgb(2,4,25)"
             ],
             [
              0.06274509803921569,
              "rgb(24,15,41)"
             ],
             [
              0.12549019607843137,
              "rgb(47,23,57)"
             ],
             [
              0.18823529411764706,
              "rgb(71,28,72)"
             ],
             [
              0.25098039215686274,
              "rgb(97,30,82)"
             ],
             [
              0.3137254901960784,
              "rgb(123,30,89)"
             ],
             [
              0.3764705882352941,
              "rgb(150,27,91)"
             ],
             [
              0.4392156862745098,
              "rgb(177,22,88)"
             ],
             [
              0.5019607843137255,
              "rgb(203,26,79)"
             ],
             [
              0.5647058823529412,
              "rgb(223,47,67)"
             ],
             [
              0.6274509803921569,
              "rgb(236,76,61)"
             ],
             [
              0.6901960784313725,
              "rgb(242,107,73)"
             ],
             [
              0.7529411764705882,
              "rgb(244,135,95)"
             ],
             [
              0.8156862745098039,
              "rgb(245,162,122)"
             ],
             [
              0.8784313725490196,
              "rgb(246,188,153)"
             ],
             [
              0.9411764705882353,
              "rgb(247,212,187)"
             ],
             [
              1,
              "rgb(250,234,220)"
             ]
            ],
            "type": "contour"
           }
          ],
          "contourcarpet": [
           {
            "colorbar": {
             "outlinewidth": 0,
             "tickcolor": "rgb(36,36,36)",
             "ticklen": 8,
             "ticks": "outside",
             "tickwidth": 2
            },
            "type": "contourcarpet"
           }
          ],
          "heatmap": [
           {
            "colorbar": {
             "outlinewidth": 0,
             "tickcolor": "rgb(36,36,36)",
             "ticklen": 8,
             "ticks": "outside",
             "tickwidth": 2
            },
            "colorscale": [
             [
              0,
              "rgb(2,4,25)"
             ],
             [
              0.06274509803921569,
              "rgb(24,15,41)"
             ],
             [
              0.12549019607843137,
              "rgb(47,23,57)"
             ],
             [
              0.18823529411764706,
              "rgb(71,28,72)"
             ],
             [
              0.25098039215686274,
              "rgb(97,30,82)"
             ],
             [
              0.3137254901960784,
              "rgb(123,30,89)"
             ],
             [
              0.3764705882352941,
              "rgb(150,27,91)"
             ],
             [
              0.4392156862745098,
              "rgb(177,22,88)"
             ],
             [
              0.5019607843137255,
              "rgb(203,26,79)"
             ],
             [
              0.5647058823529412,
              "rgb(223,47,67)"
             ],
             [
              0.6274509803921569,
              "rgb(236,76,61)"
             ],
             [
              0.6901960784313725,
              "rgb(242,107,73)"
             ],
             [
              0.7529411764705882,
              "rgb(244,135,95)"
             ],
             [
              0.8156862745098039,
              "rgb(245,162,122)"
             ],
             [
              0.8784313725490196,
              "rgb(246,188,153)"
             ],
             [
              0.9411764705882353,
              "rgb(247,212,187)"
             ],
             [
              1,
              "rgb(250,234,220)"
             ]
            ],
            "type": "heatmap"
           }
          ],
          "heatmapgl": [
           {
            "colorbar": {
             "outlinewidth": 0,
             "tickcolor": "rgb(36,36,36)",
             "ticklen": 8,
             "ticks": "outside",
             "tickwidth": 2
            },
            "colorscale": [
             [
              0,
              "rgb(2,4,25)"
             ],
             [
              0.06274509803921569,
              "rgb(24,15,41)"
             ],
             [
              0.12549019607843137,
              "rgb(47,23,57)"
             ],
             [
              0.18823529411764706,
              "rgb(71,28,72)"
             ],
             [
              0.25098039215686274,
              "rgb(97,30,82)"
             ],
             [
              0.3137254901960784,
              "rgb(123,30,89)"
             ],
             [
              0.3764705882352941,
              "rgb(150,27,91)"
             ],
             [
              0.4392156862745098,
              "rgb(177,22,88)"
             ],
             [
              0.5019607843137255,
              "rgb(203,26,79)"
             ],
             [
              0.5647058823529412,
              "rgb(223,47,67)"
             ],
             [
              0.6274509803921569,
              "rgb(236,76,61)"
             ],
             [
              0.6901960784313725,
              "rgb(242,107,73)"
             ],
             [
              0.7529411764705882,
              "rgb(244,135,95)"
             ],
             [
              0.8156862745098039,
              "rgb(245,162,122)"
             ],
             [
              0.8784313725490196,
              "rgb(246,188,153)"
             ],
             [
              0.9411764705882353,
              "rgb(247,212,187)"
             ],
             [
              1,
              "rgb(250,234,220)"
             ]
            ],
            "type": "heatmapgl"
           }
          ],
          "histogram": [
           {
            "marker": {
             "pattern": {
              "fillmode": "overlay",
              "size": 10,
              "solidity": 0.2
             }
            },
            "type": "histogram"
           }
          ],
          "histogram2d": [
           {
            "colorbar": {
             "outlinewidth": 0,
             "tickcolor": "rgb(36,36,36)",
             "ticklen": 8,
             "ticks": "outside",
             "tickwidth": 2
            },
            "colorscale": [
             [
              0,
              "rgb(2,4,25)"
             ],
             [
              0.06274509803921569,
              "rgb(24,15,41)"
             ],
             [
              0.12549019607843137,
              "rgb(47,23,57)"
             ],
             [
              0.18823529411764706,
              "rgb(71,28,72)"
             ],
             [
              0.25098039215686274,
              "rgb(97,30,82)"
             ],
             [
              0.3137254901960784,
              "rgb(123,30,89)"
             ],
             [
              0.3764705882352941,
              "rgb(150,27,91)"
             ],
             [
              0.4392156862745098,
              "rgb(177,22,88)"
             ],
             [
              0.5019607843137255,
              "rgb(203,26,79)"
             ],
             [
              0.5647058823529412,
              "rgb(223,47,67)"
             ],
             [
              0.6274509803921569,
              "rgb(236,76,61)"
             ],
             [
              0.6901960784313725,
              "rgb(242,107,73)"
             ],
             [
              0.7529411764705882,
              "rgb(244,135,95)"
             ],
             [
              0.8156862745098039,
              "rgb(245,162,122)"
             ],
             [
              0.8784313725490196,
              "rgb(246,188,153)"
             ],
             [
              0.9411764705882353,
              "rgb(247,212,187)"
             ],
             [
              1,
              "rgb(250,234,220)"
             ]
            ],
            "type": "histogram2d"
           }
          ],
          "histogram2dcontour": [
           {
            "colorbar": {
             "outlinewidth": 0,
             "tickcolor": "rgb(36,36,36)",
             "ticklen": 8,
             "ticks": "outside",
             "tickwidth": 2
            },
            "colorscale": [
             [
              0,
              "rgb(2,4,25)"
             ],
             [
              0.06274509803921569,
              "rgb(24,15,41)"
             ],
             [
              0.12549019607843137,
              "rgb(47,23,57)"
             ],
             [
              0.18823529411764706,
              "rgb(71,28,72)"
             ],
             [
              0.25098039215686274,
              "rgb(97,30,82)"
             ],
             [
              0.3137254901960784,
              "rgb(123,30,89)"
             ],
             [
              0.3764705882352941,
              "rgb(150,27,91)"
             ],
             [
              0.4392156862745098,
              "rgb(177,22,88)"
             ],
             [
              0.5019607843137255,
              "rgb(203,26,79)"
             ],
             [
              0.5647058823529412,
              "rgb(223,47,67)"
             ],
             [
              0.6274509803921569,
              "rgb(236,76,61)"
             ],
             [
              0.6901960784313725,
              "rgb(242,107,73)"
             ],
             [
              0.7529411764705882,
              "rgb(244,135,95)"
             ],
             [
              0.8156862745098039,
              "rgb(245,162,122)"
             ],
             [
              0.8784313725490196,
              "rgb(246,188,153)"
             ],
             [
              0.9411764705882353,
              "rgb(247,212,187)"
             ],
             [
              1,
              "rgb(250,234,220)"
             ]
            ],
            "type": "histogram2dcontour"
           }
          ],
          "mesh3d": [
           {
            "colorbar": {
             "outlinewidth": 0,
             "tickcolor": "rgb(36,36,36)",
             "ticklen": 8,
             "ticks": "outside",
             "tickwidth": 2
            },
            "type": "mesh3d"
           }
          ],
          "parcoords": [
           {
            "line": {
             "colorbar": {
              "outlinewidth": 0,
              "tickcolor": "rgb(36,36,36)",
              "ticklen": 8,
              "ticks": "outside",
              "tickwidth": 2
             }
            },
            "type": "parcoords"
           }
          ],
          "pie": [
           {
            "automargin": true,
            "type": "pie"
           }
          ],
          "scatter": [
           {
            "fillpattern": {
             "fillmode": "overlay",
             "size": 10,
             "solidity": 0.2
            },
            "type": "scatter"
           }
          ],
          "scatter3d": [
           {
            "line": {
             "colorbar": {
              "outlinewidth": 0,
              "tickcolor": "rgb(36,36,36)",
              "ticklen": 8,
              "ticks": "outside",
              "tickwidth": 2
             }
            },
            "marker": {
             "colorbar": {
              "outlinewidth": 0,
              "tickcolor": "rgb(36,36,36)",
              "ticklen": 8,
              "ticks": "outside",
              "tickwidth": 2
             }
            },
            "type": "scatter3d"
           }
          ],
          "scattercarpet": [
           {
            "marker": {
             "colorbar": {
              "outlinewidth": 0,
              "tickcolor": "rgb(36,36,36)",
              "ticklen": 8,
              "ticks": "outside",
              "tickwidth": 2
             }
            },
            "type": "scattercarpet"
           }
          ],
          "scattergeo": [
           {
            "marker": {
             "colorbar": {
              "outlinewidth": 0,
              "tickcolor": "rgb(36,36,36)",
              "ticklen": 8,
              "ticks": "outside",
              "tickwidth": 2
             }
            },
            "type": "scattergeo"
           }
          ],
          "scattergl": [
           {
            "marker": {
             "colorbar": {
              "outlinewidth": 0,
              "tickcolor": "rgb(36,36,36)",
              "ticklen": 8,
              "ticks": "outside",
              "tickwidth": 2
             }
            },
            "type": "scattergl"
           }
          ],
          "scattermapbox": [
           {
            "marker": {
             "colorbar": {
              "outlinewidth": 0,
              "tickcolor": "rgb(36,36,36)",
              "ticklen": 8,
              "ticks": "outside",
              "tickwidth": 2
             }
            },
            "type": "scattermapbox"
           }
          ],
          "scatterpolar": [
           {
            "marker": {
             "colorbar": {
              "outlinewidth": 0,
              "tickcolor": "rgb(36,36,36)",
              "ticklen": 8,
              "ticks": "outside",
              "tickwidth": 2
             }
            },
            "type": "scatterpolar"
           }
          ],
          "scatterpolargl": [
           {
            "marker": {
             "colorbar": {
              "outlinewidth": 0,
              "tickcolor": "rgb(36,36,36)",
              "ticklen": 8,
              "ticks": "outside",
              "tickwidth": 2
             }
            },
            "type": "scatterpolargl"
           }
          ],
          "scatterternary": [
           {
            "marker": {
             "colorbar": {
              "outlinewidth": 0,
              "tickcolor": "rgb(36,36,36)",
              "ticklen": 8,
              "ticks": "outside",
              "tickwidth": 2
             }
            },
            "type": "scatterternary"
           }
          ],
          "surface": [
           {
            "colorbar": {
             "outlinewidth": 0,
             "tickcolor": "rgb(36,36,36)",
             "ticklen": 8,
             "ticks": "outside",
             "tickwidth": 2
            },
            "colorscale": [
             [
              0,
              "rgb(2,4,25)"
             ],
             [
              0.06274509803921569,
              "rgb(24,15,41)"
             ],
             [
              0.12549019607843137,
              "rgb(47,23,57)"
             ],
             [
              0.18823529411764706,
              "rgb(71,28,72)"
             ],
             [
              0.25098039215686274,
              "rgb(97,30,82)"
             ],
             [
              0.3137254901960784,
              "rgb(123,30,89)"
             ],
             [
              0.3764705882352941,
              "rgb(150,27,91)"
             ],
             [
              0.4392156862745098,
              "rgb(177,22,88)"
             ],
             [
              0.5019607843137255,
              "rgb(203,26,79)"
             ],
             [
              0.5647058823529412,
              "rgb(223,47,67)"
             ],
             [
              0.6274509803921569,
              "rgb(236,76,61)"
             ],
             [
              0.6901960784313725,
              "rgb(242,107,73)"
             ],
             [
              0.7529411764705882,
              "rgb(244,135,95)"
             ],
             [
              0.8156862745098039,
              "rgb(245,162,122)"
             ],
             [
              0.8784313725490196,
              "rgb(246,188,153)"
             ],
             [
              0.9411764705882353,
              "rgb(247,212,187)"
             ],
             [
              1,
              "rgb(250,234,220)"
             ]
            ],
            "type": "surface"
           }
          ],
          "table": [
           {
            "cells": {
             "fill": {
              "color": "rgb(231,231,240)"
             },
             "line": {
              "color": "white"
             }
            },
            "header": {
             "fill": {
              "color": "rgb(183,183,191)"
             },
             "line": {
              "color": "white"
             }
            },
            "type": "table"
           }
          ]
         },
         "layout": {
          "annotationdefaults": {
           "arrowcolor": "rgb(67,103,167)"
          },
          "autotypenumbers": "strict",
          "coloraxis": {
           "colorbar": {
            "outlinewidth": 0,
            "tickcolor": "rgb(36,36,36)",
            "ticklen": 8,
            "ticks": "outside",
            "tickwidth": 2
           }
          },
          "colorscale": {
           "sequential": [
            [
             0,
             "rgb(2,4,25)"
            ],
            [
             0.06274509803921569,
             "rgb(24,15,41)"
            ],
            [
             0.12549019607843137,
             "rgb(47,23,57)"
            ],
            [
             0.18823529411764706,
             "rgb(71,28,72)"
            ],
            [
             0.25098039215686274,
             "rgb(97,30,82)"
            ],
            [
             0.3137254901960784,
             "rgb(123,30,89)"
            ],
            [
             0.3764705882352941,
             "rgb(150,27,91)"
            ],
            [
             0.4392156862745098,
             "rgb(177,22,88)"
            ],
            [
             0.5019607843137255,
             "rgb(203,26,79)"
            ],
            [
             0.5647058823529412,
             "rgb(223,47,67)"
            ],
            [
             0.6274509803921569,
             "rgb(236,76,61)"
            ],
            [
             0.6901960784313725,
             "rgb(242,107,73)"
            ],
            [
             0.7529411764705882,
             "rgb(244,135,95)"
            ],
            [
             0.8156862745098039,
             "rgb(245,162,122)"
            ],
            [
             0.8784313725490196,
             "rgb(246,188,153)"
            ],
            [
             0.9411764705882353,
             "rgb(247,212,187)"
            ],
            [
             1,
             "rgb(250,234,220)"
            ]
           ],
           "sequentialminus": [
            [
             0,
             "rgb(2,4,25)"
            ],
            [
             0.06274509803921569,
             "rgb(24,15,41)"
            ],
            [
             0.12549019607843137,
             "rgb(47,23,57)"
            ],
            [
             0.18823529411764706,
             "rgb(71,28,72)"
            ],
            [
             0.25098039215686274,
             "rgb(97,30,82)"
            ],
            [
             0.3137254901960784,
             "rgb(123,30,89)"
            ],
            [
             0.3764705882352941,
             "rgb(150,27,91)"
            ],
            [
             0.4392156862745098,
             "rgb(177,22,88)"
            ],
            [
             0.5019607843137255,
             "rgb(203,26,79)"
            ],
            [
             0.5647058823529412,
             "rgb(223,47,67)"
            ],
            [
             0.6274509803921569,
             "rgb(236,76,61)"
            ],
            [
             0.6901960784313725,
             "rgb(242,107,73)"
            ],
            [
             0.7529411764705882,
             "rgb(244,135,95)"
            ],
            [
             0.8156862745098039,
             "rgb(245,162,122)"
            ],
            [
             0.8784313725490196,
             "rgb(246,188,153)"
            ],
            [
             0.9411764705882353,
             "rgb(247,212,187)"
            ],
            [
             1,
             "rgb(250,234,220)"
            ]
           ]
          },
          "colorway": [
           "rgb(76,114,176)",
           "rgb(221,132,82)",
           "rgb(85,168,104)",
           "rgb(196,78,82)",
           "rgb(129,114,179)",
           "rgb(147,120,96)",
           "rgb(218,139,195)",
           "rgb(140,140,140)",
           "rgb(204,185,116)",
           "rgb(100,181,205)"
          ],
          "font": {
           "color": "rgb(36,36,36)"
          },
          "geo": {
           "bgcolor": "white",
           "lakecolor": "white",
           "landcolor": "rgb(234,234,242)",
           "showlakes": true,
           "showland": true,
           "subunitcolor": "white"
          },
          "hoverlabel": {
           "align": "left"
          },
          "hovermode": "closest",
          "paper_bgcolor": "white",
          "plot_bgcolor": "rgb(234,234,242)",
          "polar": {
           "angularaxis": {
            "gridcolor": "white",
            "linecolor": "white",
            "showgrid": true,
            "ticks": ""
           },
           "bgcolor": "rgb(234,234,242)",
           "radialaxis": {
            "gridcolor": "white",
            "linecolor": "white",
            "showgrid": true,
            "ticks": ""
           }
          },
          "scene": {
           "xaxis": {
            "backgroundcolor": "rgb(234,234,242)",
            "gridcolor": "white",
            "gridwidth": 2,
            "linecolor": "white",
            "showbackground": true,
            "showgrid": true,
            "ticks": "",
            "zerolinecolor": "white"
           },
           "yaxis": {
            "backgroundcolor": "rgb(234,234,242)",
            "gridcolor": "white",
            "gridwidth": 2,
            "linecolor": "white",
            "showbackground": true,
            "showgrid": true,
            "ticks": "",
            "zerolinecolor": "white"
           },
           "zaxis": {
            "backgroundcolor": "rgb(234,234,242)",
            "gridcolor": "white",
            "gridwidth": 2,
            "linecolor": "white",
            "showbackground": true,
            "showgrid": true,
            "ticks": "",
            "zerolinecolor": "white"
           }
          },
          "shapedefaults": {
           "fillcolor": "rgb(67,103,167)",
           "line": {
            "width": 0
           },
           "opacity": 0.5
          },
          "ternary": {
           "aaxis": {
            "gridcolor": "white",
            "linecolor": "white",
            "showgrid": true,
            "ticks": ""
           },
           "baxis": {
            "gridcolor": "white",
            "linecolor": "white",
            "showgrid": true,
            "ticks": ""
           },
           "bgcolor": "rgb(234,234,242)",
           "caxis": {
            "gridcolor": "white",
            "linecolor": "white",
            "showgrid": true,
            "ticks": ""
           }
          },
          "xaxis": {
           "automargin": true,
           "gridcolor": "white",
           "linecolor": "white",
           "showgrid": true,
           "ticks": "",
           "title": {
            "standoff": 15
           },
           "zerolinecolor": "white"
          },
          "yaxis": {
           "automargin": true,
           "gridcolor": "white",
           "linecolor": "white",
           "showgrid": true,
           "ticks": "",
           "title": {
            "standoff": 15
           },
           "zerolinecolor": "white"
          }
         }
        },
        "title": {
         "text": "Количество заказов по времени"
        },
        "xaxis": {
         "anchor": "y",
         "domain": [
          0,
          0.475
         ],
         "showgrid": false,
         "tickangle": 45,
         "tickvals": [
          "2018-10-01T00:00:00",
          "2018-11-01T00:00:00",
          "2018-12-01T00:00:00",
          "2019-01-01T00:00:00",
          "2019-02-01T00:00:00",
          "2019-03-01T00:00:00",
          "2019-04-01T00:00:00",
          "2019-05-01T00:00:00",
          "2019-06-01T00:00:00",
          "2019-07-01T00:00:00",
          "2019-08-01T00:00:00",
          "2019-09-01T00:00:00",
          "2019-10-01T00:00:00"
         ]
        },
        "xaxis2": {
         "anchor": "y2",
         "domain": [
          0.525,
          1
         ],
         "showgrid": false,
         "tickangle": 45,
         "tickvals": [
          1,
          2,
          3,
          4,
          5,
          6,
          7,
          8,
          9,
          10,
          11,
          12,
          13,
          14,
          15,
          16,
          17,
          18,
          19,
          20,
          21,
          22,
          23,
          24,
          25,
          26,
          27,
          28,
          29,
          30,
          31
         ]
        },
        "xaxis3": {
         "anchor": "y3",
         "domain": [
          0,
          0.475
         ],
         "showgrid": false
        },
        "xaxis4": {
         "anchor": "y4",
         "domain": [
          0.525,
          1
         ],
         "showgrid": false,
         "tickangle": 45,
         "tickvals": [
          0,
          1,
          2,
          3,
          4,
          5,
          6,
          7,
          8,
          9,
          10,
          11,
          12,
          13,
          14,
          15,
          16,
          17,
          18,
          19,
          20,
          21,
          22,
          23
         ]
        },
        "yaxis": {
         "anchor": "x",
         "domain": [
          0.575,
          1
         ]
        },
        "yaxis2": {
         "anchor": "x2",
         "domain": [
          0.575,
          1
         ]
        },
        "yaxis3": {
         "anchor": "x3",
         "domain": [
          0,
          0.425
         ]
        },
        "yaxis4": {
         "anchor": "x4",
         "domain": [
          0,
          0.425
         ]
        }
       }
      }
     },
     "metadata": {},
     "output_type": "display_data"
    }
   ],
   "source": [
    "fig = plot_bar_nm(2, 2, orders_params)\n",
    "\n",
    "fig.update_xaxes(tickangle=45, tickvals = orders_pivot_by_month['month'], showgrid=False, row=1, col=1)\n",
    "fig.update_xaxes(tickangle=45, tickvals = orders_pivot_by_day['day'], showgrid=False, row=1, col=2)\n",
    "fig.update_xaxes(showgrid=False, row=2, col=1)\n",
    "fig.update_xaxes(tickangle=45, tickvals = orders_pivot_by_hour['hour'], showgrid=False, row=2, col=2)\n",
    "\n",
    "fig.update_layout(title_text='Количество заказов по времени', height=800)\n",
    "fig.show()"
   ]
  },
  {
   "cell_type": "markdown",
   "metadata": {},
   "source": [
    "- Больше всего заказов с февраля по март включительно, учитывая основной ассортимент \"Сад и огород\", люди готовятся к дачному сезону;\n",
    "- По дням картина плюс минус одинаковая;\n",
    "- Больше всего заказов делают в будние дни, меньше всего по выходным;\n",
    "- Пик заказов приходится на промежуток с 10 до 13 часов."
   ]
  },
  {
   "cell_type": "markdown",
   "metadata": {},
   "source": [
    "### Количество заказов по сезонам с учетом категории товаров"
   ]
  },
  {
   "cell_type": "markdown",
   "metadata": {},
   "source": [
    "**Разобьем датафрейм на 4 сезона:**"
   ]
  },
  {
   "cell_type": "code",
   "execution_count": 43,
   "metadata": {},
   "outputs": [],
   "source": [
    "winter = (df[df['month']\n",
    "            .dt\n",
    "            .strftime('%Y-%m-%d')\n",
    "            .str\n",
    "            .contains(r'\\d{4}\\-12\\-01|\\d{4}\\-01\\-01|\\d{4}\\-02\\-01', regex=True)\n",
    "            ]\n",
    ")\n",
    "winter_pivot = (winter\n",
    "                .pivot_table(index='category', values='order_id', aggfunc='nunique')\n",
    "                .sort_values(by='order_id', ascending=False)\n",
    "                .reset_index()\n",
    ")"
   ]
  },
  {
   "cell_type": "code",
   "execution_count": 44,
   "metadata": {},
   "outputs": [],
   "source": [
    "spring = (df[df['month']\n",
    "            .dt\n",
    "            .strftime('%Y-%m-%d')\n",
    "            .str\n",
    "            .contains(r'\\d{4}\\-03\\-01|\\d{4}\\-04\\-01|\\d{4}\\-05\\-01', regex=True)\n",
    "            ]\n",
    ")\n",
    "spring_pivot = (spring\n",
    "                .pivot_table(index='category', values='order_id', aggfunc='nunique')\n",
    "                .sort_values(by='order_id', ascending=False)\n",
    "                .reset_index()\n",
    ")"
   ]
  },
  {
   "cell_type": "code",
   "execution_count": 45,
   "metadata": {},
   "outputs": [],
   "source": [
    "summer = (df[df['month']\n",
    "            .dt\n",
    "            .strftime('%Y-%m-%d')\n",
    "            .str\n",
    "            .contains(r'\\d{4}\\-06\\-01|\\d{4}\\-07\\-01|\\d{4}\\-08\\-01', regex=True)\n",
    "            ]\n",
    ")\n",
    "summer_pivot = (summer\n",
    "                .pivot_table(index='category', values='order_id', aggfunc='nunique')\n",
    "                .sort_values(by='order_id', ascending=False)\n",
    "                .reset_index()\n",
    ")"
   ]
  },
  {
   "cell_type": "code",
   "execution_count": 46,
   "metadata": {},
   "outputs": [],
   "source": [
    "autumn = (df[df['month']\n",
    "            .dt\n",
    "            .strftime('%Y-%m-%d')\n",
    "            .str\n",
    "            .contains(r'\\d{4}\\-09\\-01|\\d{4}\\-10\\-01|\\d{4}\\-11\\-01', regex=True)\n",
    "            ]\n",
    ")\n",
    "autumn_pivot = (autumn\n",
    "                .pivot_table(index='category', values='order_id', aggfunc='nunique')\n",
    "                .sort_values(by='order_id', ascending=False)\n",
    "                .reset_index()\n",
    ")"
   ]
  },
  {
   "cell_type": "code",
   "execution_count": 47,
   "metadata": {},
   "outputs": [],
   "source": [
    "seasons_params = {\n",
    "    'data1': {'df': winter_pivot, 'name': 'Зима', 'x': 'category', 'y': 'order_id', 'hoverinfo': 'y', 'row': 1, 'col': 1},\n",
    "    'data2': {'df': spring_pivot, 'name': 'Весна', 'x': 'category', 'y': 'order_id', 'hoverinfo': 'y', 'row': 1, 'col': 2},\n",
    "    'data3': {'df': summer_pivot, 'name': 'Лето', 'x': 'category', 'y': 'order_id', 'hoverinfo': 'y', 'row': 2, 'col': 1},\n",
    "    'data4': {'df': autumn_pivot, 'name': 'Осень', 'x': 'category', 'y': 'order_id', 'hoverinfo': 'y', 'row': 2, 'col': 2},\n",
    "}"
   ]
  },
  {
   "cell_type": "code",
   "execution_count": 48,
   "metadata": {},
   "outputs": [
    {
     "data": {
      "application/vnd.plotly.v1+json": {
       "config": {
        "plotlyServerURL": "https://plot.ly"
       },
       "data": [
        {
         "hoverinfo": "y",
         "name": "Зима",
         "type": "bar",
         "x": [
          "Товары для дома",
          "Сад и огород",
          "Кухонные принадлежности",
          "Интереьер",
          "Все для ремонта",
          "Все для уборки"
         ],
         "xaxis": "x",
         "y": [
          337,
          149,
          118,
          68,
          38,
          26
         ],
         "yaxis": "y"
        },
        {
         "hoverinfo": "y",
         "name": "Весна",
         "type": "bar",
         "x": [
          "Сад и огород",
          "Товары для дома",
          "Интереьер",
          "Кухонные принадлежности",
          "Все для уборки",
          "Все для ремонта"
         ],
         "xaxis": "x2",
         "y": [
          294,
          222,
          72,
          55,
          32,
          16
         ],
         "yaxis": "y2"
        },
        {
         "hoverinfo": "y",
         "name": "Лето",
         "type": "bar",
         "x": [
          "Товары для дома",
          "Сад и огород",
          "Интереьер",
          "Кухонные принадлежности",
          "Все для ремонта",
          "Все для уборки"
         ],
         "xaxis": "x3",
         "y": [
          266,
          147,
          46,
          42,
          22,
          12
         ],
         "yaxis": "y3"
        },
        {
         "hoverinfo": "y",
         "name": "Осень",
         "type": "bar",
         "x": [
          "Товары для дома",
          "Сад и огород",
          "Кухонные принадлежности",
          "Интереьер",
          "Все для ремонта",
          "Все для уборки"
         ],
         "xaxis": "x4",
         "y": [
          414,
          182,
          105,
          75,
          45,
          43
         ],
         "yaxis": "y4"
        }
       ],
       "layout": {
        "height": 800,
        "template": {
         "data": {
          "bar": [
           {
            "error_x": {
             "color": "rgb(36,36,36)"
            },
            "error_y": {
             "color": "rgb(36,36,36)"
            },
            "marker": {
             "line": {
              "color": "rgb(234,234,242)",
              "width": 0.5
             },
             "pattern": {
              "fillmode": "overlay",
              "size": 10,
              "solidity": 0.2
             }
            },
            "type": "bar"
           }
          ],
          "barpolar": [
           {
            "marker": {
             "line": {
              "color": "rgb(234,234,242)",
              "width": 0.5
             },
             "pattern": {
              "fillmode": "overlay",
              "size": 10,
              "solidity": 0.2
             }
            },
            "type": "barpolar"
           }
          ],
          "carpet": [
           {
            "aaxis": {
             "endlinecolor": "rgb(36,36,36)",
             "gridcolor": "white",
             "linecolor": "white",
             "minorgridcolor": "white",
             "startlinecolor": "rgb(36,36,36)"
            },
            "baxis": {
             "endlinecolor": "rgb(36,36,36)",
             "gridcolor": "white",
             "linecolor": "white",
             "minorgridcolor": "white",
             "startlinecolor": "rgb(36,36,36)"
            },
            "type": "carpet"
           }
          ],
          "choropleth": [
           {
            "colorbar": {
             "outlinewidth": 0,
             "tickcolor": "rgb(36,36,36)",
             "ticklen": 8,
             "ticks": "outside",
             "tickwidth": 2
            },
            "type": "choropleth"
           }
          ],
          "contour": [
           {
            "colorbar": {
             "outlinewidth": 0,
             "tickcolor": "rgb(36,36,36)",
             "ticklen": 8,
             "ticks": "outside",
             "tickwidth": 2
            },
            "colorscale": [
             [
              0,
              "rgb(2,4,25)"
             ],
             [
              0.06274509803921569,
              "rgb(24,15,41)"
             ],
             [
              0.12549019607843137,
              "rgb(47,23,57)"
             ],
             [
              0.18823529411764706,
              "rgb(71,28,72)"
             ],
             [
              0.25098039215686274,
              "rgb(97,30,82)"
             ],
             [
              0.3137254901960784,
              "rgb(123,30,89)"
             ],
             [
              0.3764705882352941,
              "rgb(150,27,91)"
             ],
             [
              0.4392156862745098,
              "rgb(177,22,88)"
             ],
             [
              0.5019607843137255,
              "rgb(203,26,79)"
             ],
             [
              0.5647058823529412,
              "rgb(223,47,67)"
             ],
             [
              0.6274509803921569,
              "rgb(236,76,61)"
             ],
             [
              0.6901960784313725,
              "rgb(242,107,73)"
             ],
             [
              0.7529411764705882,
              "rgb(244,135,95)"
             ],
             [
              0.8156862745098039,
              "rgb(245,162,122)"
             ],
             [
              0.8784313725490196,
              "rgb(246,188,153)"
             ],
             [
              0.9411764705882353,
              "rgb(247,212,187)"
             ],
             [
              1,
              "rgb(250,234,220)"
             ]
            ],
            "type": "contour"
           }
          ],
          "contourcarpet": [
           {
            "colorbar": {
             "outlinewidth": 0,
             "tickcolor": "rgb(36,36,36)",
             "ticklen": 8,
             "ticks": "outside",
             "tickwidth": 2
            },
            "type": "contourcarpet"
           }
          ],
          "heatmap": [
           {
            "colorbar": {
             "outlinewidth": 0,
             "tickcolor": "rgb(36,36,36)",
             "ticklen": 8,
             "ticks": "outside",
             "tickwidth": 2
            },
            "colorscale": [
             [
              0,
              "rgb(2,4,25)"
             ],
             [
              0.06274509803921569,
              "rgb(24,15,41)"
             ],
             [
              0.12549019607843137,
              "rgb(47,23,57)"
             ],
             [
              0.18823529411764706,
              "rgb(71,28,72)"
             ],
             [
              0.25098039215686274,
              "rgb(97,30,82)"
             ],
             [
              0.3137254901960784,
              "rgb(123,30,89)"
             ],
             [
              0.3764705882352941,
              "rgb(150,27,91)"
             ],
             [
              0.4392156862745098,
              "rgb(177,22,88)"
             ],
             [
              0.5019607843137255,
              "rgb(203,26,79)"
             ],
             [
              0.5647058823529412,
              "rgb(223,47,67)"
             ],
             [
              0.6274509803921569,
              "rgb(236,76,61)"
             ],
             [
              0.6901960784313725,
              "rgb(242,107,73)"
             ],
             [
              0.7529411764705882,
              "rgb(244,135,95)"
             ],
             [
              0.8156862745098039,
              "rgb(245,162,122)"
             ],
             [
              0.8784313725490196,
              "rgb(246,188,153)"
             ],
             [
              0.9411764705882353,
              "rgb(247,212,187)"
             ],
             [
              1,
              "rgb(250,234,220)"
             ]
            ],
            "type": "heatmap"
           }
          ],
          "heatmapgl": [
           {
            "colorbar": {
             "outlinewidth": 0,
             "tickcolor": "rgb(36,36,36)",
             "ticklen": 8,
             "ticks": "outside",
             "tickwidth": 2
            },
            "colorscale": [
             [
              0,
              "rgb(2,4,25)"
             ],
             [
              0.06274509803921569,
              "rgb(24,15,41)"
             ],
             [
              0.12549019607843137,
              "rgb(47,23,57)"
             ],
             [
              0.18823529411764706,
              "rgb(71,28,72)"
             ],
             [
              0.25098039215686274,
              "rgb(97,30,82)"
             ],
             [
              0.3137254901960784,
              "rgb(123,30,89)"
             ],
             [
              0.3764705882352941,
              "rgb(150,27,91)"
             ],
             [
              0.4392156862745098,
              "rgb(177,22,88)"
             ],
             [
              0.5019607843137255,
              "rgb(203,26,79)"
             ],
             [
              0.5647058823529412,
              "rgb(223,47,67)"
             ],
             [
              0.6274509803921569,
              "rgb(236,76,61)"
             ],
             [
              0.6901960784313725,
              "rgb(242,107,73)"
             ],
             [
              0.7529411764705882,
              "rgb(244,135,95)"
             ],
             [
              0.8156862745098039,
              "rgb(245,162,122)"
             ],
             [
              0.8784313725490196,
              "rgb(246,188,153)"
             ],
             [
              0.9411764705882353,
              "rgb(247,212,187)"
             ],
             [
              1,
              "rgb(250,234,220)"
             ]
            ],
            "type": "heatmapgl"
           }
          ],
          "histogram": [
           {
            "marker": {
             "pattern": {
              "fillmode": "overlay",
              "size": 10,
              "solidity": 0.2
             }
            },
            "type": "histogram"
           }
          ],
          "histogram2d": [
           {
            "colorbar": {
             "outlinewidth": 0,
             "tickcolor": "rgb(36,36,36)",
             "ticklen": 8,
             "ticks": "outside",
             "tickwidth": 2
            },
            "colorscale": [
             [
              0,
              "rgb(2,4,25)"
             ],
             [
              0.06274509803921569,
              "rgb(24,15,41)"
             ],
             [
              0.12549019607843137,
              "rgb(47,23,57)"
             ],
             [
              0.18823529411764706,
              "rgb(71,28,72)"
             ],
             [
              0.25098039215686274,
              "rgb(97,30,82)"
             ],
             [
              0.3137254901960784,
              "rgb(123,30,89)"
             ],
             [
              0.3764705882352941,
              "rgb(150,27,91)"
             ],
             [
              0.4392156862745098,
              "rgb(177,22,88)"
             ],
             [
              0.5019607843137255,
              "rgb(203,26,79)"
             ],
             [
              0.5647058823529412,
              "rgb(223,47,67)"
             ],
             [
              0.6274509803921569,
              "rgb(236,76,61)"
             ],
             [
              0.6901960784313725,
              "rgb(242,107,73)"
             ],
             [
              0.7529411764705882,
              "rgb(244,135,95)"
             ],
             [
              0.8156862745098039,
              "rgb(245,162,122)"
             ],
             [
              0.8784313725490196,
              "rgb(246,188,153)"
             ],
             [
              0.9411764705882353,
              "rgb(247,212,187)"
             ],
             [
              1,
              "rgb(250,234,220)"
             ]
            ],
            "type": "histogram2d"
           }
          ],
          "histogram2dcontour": [
           {
            "colorbar": {
             "outlinewidth": 0,
             "tickcolor": "rgb(36,36,36)",
             "ticklen": 8,
             "ticks": "outside",
             "tickwidth": 2
            },
            "colorscale": [
             [
              0,
              "rgb(2,4,25)"
             ],
             [
              0.06274509803921569,
              "rgb(24,15,41)"
             ],
             [
              0.12549019607843137,
              "rgb(47,23,57)"
             ],
             [
              0.18823529411764706,
              "rgb(71,28,72)"
             ],
             [
              0.25098039215686274,
              "rgb(97,30,82)"
             ],
             [
              0.3137254901960784,
              "rgb(123,30,89)"
             ],
             [
              0.3764705882352941,
              "rgb(150,27,91)"
             ],
             [
              0.4392156862745098,
              "rgb(177,22,88)"
             ],
             [
              0.5019607843137255,
              "rgb(203,26,79)"
             ],
             [
              0.5647058823529412,
              "rgb(223,47,67)"
             ],
             [
              0.6274509803921569,
              "rgb(236,76,61)"
             ],
             [
              0.6901960784313725,
              "rgb(242,107,73)"
             ],
             [
              0.7529411764705882,
              "rgb(244,135,95)"
             ],
             [
              0.8156862745098039,
              "rgb(245,162,122)"
             ],
             [
              0.8784313725490196,
              "rgb(246,188,153)"
             ],
             [
              0.9411764705882353,
              "rgb(247,212,187)"
             ],
             [
              1,
              "rgb(250,234,220)"
             ]
            ],
            "type": "histogram2dcontour"
           }
          ],
          "mesh3d": [
           {
            "colorbar": {
             "outlinewidth": 0,
             "tickcolor": "rgb(36,36,36)",
             "ticklen": 8,
             "ticks": "outside",
             "tickwidth": 2
            },
            "type": "mesh3d"
           }
          ],
          "parcoords": [
           {
            "line": {
             "colorbar": {
              "outlinewidth": 0,
              "tickcolor": "rgb(36,36,36)",
              "ticklen": 8,
              "ticks": "outside",
              "tickwidth": 2
             }
            },
            "type": "parcoords"
           }
          ],
          "pie": [
           {
            "automargin": true,
            "type": "pie"
           }
          ],
          "scatter": [
           {
            "fillpattern": {
             "fillmode": "overlay",
             "size": 10,
             "solidity": 0.2
            },
            "type": "scatter"
           }
          ],
          "scatter3d": [
           {
            "line": {
             "colorbar": {
              "outlinewidth": 0,
              "tickcolor": "rgb(36,36,36)",
              "ticklen": 8,
              "ticks": "outside",
              "tickwidth": 2
             }
            },
            "marker": {
             "colorbar": {
              "outlinewidth": 0,
              "tickcolor": "rgb(36,36,36)",
              "ticklen": 8,
              "ticks": "outside",
              "tickwidth": 2
             }
            },
            "type": "scatter3d"
           }
          ],
          "scattercarpet": [
           {
            "marker": {
             "colorbar": {
              "outlinewidth": 0,
              "tickcolor": "rgb(36,36,36)",
              "ticklen": 8,
              "ticks": "outside",
              "tickwidth": 2
             }
            },
            "type": "scattercarpet"
           }
          ],
          "scattergeo": [
           {
            "marker": {
             "colorbar": {
              "outlinewidth": 0,
              "tickcolor": "rgb(36,36,36)",
              "ticklen": 8,
              "ticks": "outside",
              "tickwidth": 2
             }
            },
            "type": "scattergeo"
           }
          ],
          "scattergl": [
           {
            "marker": {
             "colorbar": {
              "outlinewidth": 0,
              "tickcolor": "rgb(36,36,36)",
              "ticklen": 8,
              "ticks": "outside",
              "tickwidth": 2
             }
            },
            "type": "scattergl"
           }
          ],
          "scattermapbox": [
           {
            "marker": {
             "colorbar": {
              "outlinewidth": 0,
              "tickcolor": "rgb(36,36,36)",
              "ticklen": 8,
              "ticks": "outside",
              "tickwidth": 2
             }
            },
            "type": "scattermapbox"
           }
          ],
          "scatterpolar": [
           {
            "marker": {
             "colorbar": {
              "outlinewidth": 0,
              "tickcolor": "rgb(36,36,36)",
              "ticklen": 8,
              "ticks": "outside",
              "tickwidth": 2
             }
            },
            "type": "scatterpolar"
           }
          ],
          "scatterpolargl": [
           {
            "marker": {
             "colorbar": {
              "outlinewidth": 0,
              "tickcolor": "rgb(36,36,36)",
              "ticklen": 8,
              "ticks": "outside",
              "tickwidth": 2
             }
            },
            "type": "scatterpolargl"
           }
          ],
          "scatterternary": [
           {
            "marker": {
             "colorbar": {
              "outlinewidth": 0,
              "tickcolor": "rgb(36,36,36)",
              "ticklen": 8,
              "ticks": "outside",
              "tickwidth": 2
             }
            },
            "type": "scatterternary"
           }
          ],
          "surface": [
           {
            "colorbar": {
             "outlinewidth": 0,
             "tickcolor": "rgb(36,36,36)",
             "ticklen": 8,
             "ticks": "outside",
             "tickwidth": 2
            },
            "colorscale": [
             [
              0,
              "rgb(2,4,25)"
             ],
             [
              0.06274509803921569,
              "rgb(24,15,41)"
             ],
             [
              0.12549019607843137,
              "rgb(47,23,57)"
             ],
             [
              0.18823529411764706,
              "rgb(71,28,72)"
             ],
             [
              0.25098039215686274,
              "rgb(97,30,82)"
             ],
             [
              0.3137254901960784,
              "rgb(123,30,89)"
             ],
             [
              0.3764705882352941,
              "rgb(150,27,91)"
             ],
             [
              0.4392156862745098,
              "rgb(177,22,88)"
             ],
             [
              0.5019607843137255,
              "rgb(203,26,79)"
             ],
             [
              0.5647058823529412,
              "rgb(223,47,67)"
             ],
             [
              0.6274509803921569,
              "rgb(236,76,61)"
             ],
             [
              0.6901960784313725,
              "rgb(242,107,73)"
             ],
             [
              0.7529411764705882,
              "rgb(244,135,95)"
             ],
             [
              0.8156862745098039,
              "rgb(245,162,122)"
             ],
             [
              0.8784313725490196,
              "rgb(246,188,153)"
             ],
             [
              0.9411764705882353,
              "rgb(247,212,187)"
             ],
             [
              1,
              "rgb(250,234,220)"
             ]
            ],
            "type": "surface"
           }
          ],
          "table": [
           {
            "cells": {
             "fill": {
              "color": "rgb(231,231,240)"
             },
             "line": {
              "color": "white"
             }
            },
            "header": {
             "fill": {
              "color": "rgb(183,183,191)"
             },
             "line": {
              "color": "white"
             }
            },
            "type": "table"
           }
          ]
         },
         "layout": {
          "annotationdefaults": {
           "arrowcolor": "rgb(67,103,167)"
          },
          "autotypenumbers": "strict",
          "coloraxis": {
           "colorbar": {
            "outlinewidth": 0,
            "tickcolor": "rgb(36,36,36)",
            "ticklen": 8,
            "ticks": "outside",
            "tickwidth": 2
           }
          },
          "colorscale": {
           "sequential": [
            [
             0,
             "rgb(2,4,25)"
            ],
            [
             0.06274509803921569,
             "rgb(24,15,41)"
            ],
            [
             0.12549019607843137,
             "rgb(47,23,57)"
            ],
            [
             0.18823529411764706,
             "rgb(71,28,72)"
            ],
            [
             0.25098039215686274,
             "rgb(97,30,82)"
            ],
            [
             0.3137254901960784,
             "rgb(123,30,89)"
            ],
            [
             0.3764705882352941,
             "rgb(150,27,91)"
            ],
            [
             0.4392156862745098,
             "rgb(177,22,88)"
            ],
            [
             0.5019607843137255,
             "rgb(203,26,79)"
            ],
            [
             0.5647058823529412,
             "rgb(223,47,67)"
            ],
            [
             0.6274509803921569,
             "rgb(236,76,61)"
            ],
            [
             0.6901960784313725,
             "rgb(242,107,73)"
            ],
            [
             0.7529411764705882,
             "rgb(244,135,95)"
            ],
            [
             0.8156862745098039,
             "rgb(245,162,122)"
            ],
            [
             0.8784313725490196,
             "rgb(246,188,153)"
            ],
            [
             0.9411764705882353,
             "rgb(247,212,187)"
            ],
            [
             1,
             "rgb(250,234,220)"
            ]
           ],
           "sequentialminus": [
            [
             0,
             "rgb(2,4,25)"
            ],
            [
             0.06274509803921569,
             "rgb(24,15,41)"
            ],
            [
             0.12549019607843137,
             "rgb(47,23,57)"
            ],
            [
             0.18823529411764706,
             "rgb(71,28,72)"
            ],
            [
             0.25098039215686274,
             "rgb(97,30,82)"
            ],
            [
             0.3137254901960784,
             "rgb(123,30,89)"
            ],
            [
             0.3764705882352941,
             "rgb(150,27,91)"
            ],
            [
             0.4392156862745098,
             "rgb(177,22,88)"
            ],
            [
             0.5019607843137255,
             "rgb(203,26,79)"
            ],
            [
             0.5647058823529412,
             "rgb(223,47,67)"
            ],
            [
             0.6274509803921569,
             "rgb(236,76,61)"
            ],
            [
             0.6901960784313725,
             "rgb(242,107,73)"
            ],
            [
             0.7529411764705882,
             "rgb(244,135,95)"
            ],
            [
             0.8156862745098039,
             "rgb(245,162,122)"
            ],
            [
             0.8784313725490196,
             "rgb(246,188,153)"
            ],
            [
             0.9411764705882353,
             "rgb(247,212,187)"
            ],
            [
             1,
             "rgb(250,234,220)"
            ]
           ]
          },
          "colorway": [
           "rgb(76,114,176)",
           "rgb(221,132,82)",
           "rgb(85,168,104)",
           "rgb(196,78,82)",
           "rgb(129,114,179)",
           "rgb(147,120,96)",
           "rgb(218,139,195)",
           "rgb(140,140,140)",
           "rgb(204,185,116)",
           "rgb(100,181,205)"
          ],
          "font": {
           "color": "rgb(36,36,36)"
          },
          "geo": {
           "bgcolor": "white",
           "lakecolor": "white",
           "landcolor": "rgb(234,234,242)",
           "showlakes": true,
           "showland": true,
           "subunitcolor": "white"
          },
          "hoverlabel": {
           "align": "left"
          },
          "hovermode": "closest",
          "paper_bgcolor": "white",
          "plot_bgcolor": "rgb(234,234,242)",
          "polar": {
           "angularaxis": {
            "gridcolor": "white",
            "linecolor": "white",
            "showgrid": true,
            "ticks": ""
           },
           "bgcolor": "rgb(234,234,242)",
           "radialaxis": {
            "gridcolor": "white",
            "linecolor": "white",
            "showgrid": true,
            "ticks": ""
           }
          },
          "scene": {
           "xaxis": {
            "backgroundcolor": "rgb(234,234,242)",
            "gridcolor": "white",
            "gridwidth": 2,
            "linecolor": "white",
            "showbackground": true,
            "showgrid": true,
            "ticks": "",
            "zerolinecolor": "white"
           },
           "yaxis": {
            "backgroundcolor": "rgb(234,234,242)",
            "gridcolor": "white",
            "gridwidth": 2,
            "linecolor": "white",
            "showbackground": true,
            "showgrid": true,
            "ticks": "",
            "zerolinecolor": "white"
           },
           "zaxis": {
            "backgroundcolor": "rgb(234,234,242)",
            "gridcolor": "white",
            "gridwidth": 2,
            "linecolor": "white",
            "showbackground": true,
            "showgrid": true,
            "ticks": "",
            "zerolinecolor": "white"
           }
          },
          "shapedefaults": {
           "fillcolor": "rgb(67,103,167)",
           "line": {
            "width": 0
           },
           "opacity": 0.5
          },
          "ternary": {
           "aaxis": {
            "gridcolor": "white",
            "linecolor": "white",
            "showgrid": true,
            "ticks": ""
           },
           "baxis": {
            "gridcolor": "white",
            "linecolor": "white",
            "showgrid": true,
            "ticks": ""
           },
           "bgcolor": "rgb(234,234,242)",
           "caxis": {
            "gridcolor": "white",
            "linecolor": "white",
            "showgrid": true,
            "ticks": ""
           }
          },
          "xaxis": {
           "automargin": true,
           "gridcolor": "white",
           "linecolor": "white",
           "showgrid": true,
           "ticks": "",
           "title": {
            "standoff": 15
           },
           "zerolinecolor": "white"
          },
          "yaxis": {
           "automargin": true,
           "gridcolor": "white",
           "linecolor": "white",
           "showgrid": true,
           "ticks": "",
           "title": {
            "standoff": 15
           },
           "zerolinecolor": "white"
          }
         }
        },
        "title": {
         "text": "Количество заказов по сезонам с учетом категории товаров"
        },
        "xaxis": {
         "anchor": "y",
         "domain": [
          0,
          0.475
         ],
         "showgrid": false,
         "tickangle": 20
        },
        "xaxis2": {
         "anchor": "y2",
         "domain": [
          0.525,
          1
         ],
         "showgrid": false,
         "tickangle": 20
        },
        "xaxis3": {
         "anchor": "y3",
         "domain": [
          0,
          0.475
         ],
         "showgrid": false,
         "tickangle": 20
        },
        "xaxis4": {
         "anchor": "y4",
         "domain": [
          0.525,
          1
         ],
         "showgrid": false,
         "tickangle": 20
        },
        "yaxis": {
         "anchor": "x",
         "domain": [
          0.575,
          1
         ]
        },
        "yaxis2": {
         "anchor": "x2",
         "domain": [
          0.575,
          1
         ]
        },
        "yaxis3": {
         "anchor": "x3",
         "domain": [
          0,
          0.425
         ]
        },
        "yaxis4": {
         "anchor": "x4",
         "domain": [
          0,
          0.425
         ]
        }
       }
      }
     },
     "metadata": {},
     "output_type": "display_data"
    }
   ],
   "source": [
    "fig = plot_bar_nm(2, 2, seasons_params)\n",
    "\n",
    "fig.update_xaxes(tickangle=20, showgrid=False, row=1, col=1)\n",
    "fig.update_xaxes(tickangle=20, showgrid=False, row=1, col=2)\n",
    "fig.update_xaxes(tickangle=20, showgrid=False, row=2, col=1)\n",
    "fig.update_xaxes(tickangle=20, showgrid=False, row=2, col=2)\n",
    "\n",
    "fig.update_layout(title_text='Количество заказов по сезонам с учетом категории товаров', height=800)\n",
    "fig.show()"
   ]
  },
  {
   "cell_type": "markdown",
   "metadata": {},
   "source": [
    "*Весной, ожидаемо, товары категории \"Сад и огород\" продаются лучше, чем в остальные сезоны.*"
   ]
  },
  {
   "cell_type": "markdown",
   "metadata": {},
   "source": [
    "### Количество покупателей по времени"
   ]
  },
  {
   "cell_type": "code",
   "execution_count": 49,
   "metadata": {},
   "outputs": [],
   "source": [
    "customers_pivot_by_month = df.pivot_table(index='month', values='customer_id', aggfunc='nunique').reset_index()\n",
    "customers_pivot_by_day = df.pivot_table(index='day', values='customer_id', aggfunc='nunique').reset_index()\n",
    "customers_pivot_by_weekday = df.pivot_table(index='day_of_week', values='customer_id', aggfunc='nunique').reindex(cats).reset_index()\n",
    "customers_pivot_by_hour = df.pivot_table(index='hour', values='customer_id', aggfunc='nunique').reset_index()"
   ]
  },
  {
   "cell_type": "code",
   "execution_count": 50,
   "metadata": {},
   "outputs": [],
   "source": [
    "customers_params = {\n",
    "    'data1': {'df': customers_pivot_by_month, 'name': 'По месяцам', 'x': 'month', 'y': 'customer_id', 'hoverinfo': 'y', 'row': 1, 'col': 1},\n",
    "    'data2': {'df': customers_pivot_by_day, 'name': 'По дням', 'x': 'day', 'y': 'customer_id', 'hoverinfo': 'y', 'row': 1, 'col': 2},\n",
    "    'data3': {'df': customers_pivot_by_weekday, 'name': 'По дням недели', 'x': 'day_of_week', 'y': 'customer_id', 'hoverinfo': 'y', 'row': 2, 'col': 1},\n",
    "    'data4': {'df': customers_pivot_by_hour, 'name': 'По часам', 'x': 'hour', 'y': 'customer_id', 'hoverinfo': 'y', 'row': 2, 'col': 2},\n",
    "}"
   ]
  },
  {
   "cell_type": "code",
   "execution_count": 51,
   "metadata": {},
   "outputs": [
    {
     "data": {
      "application/vnd.plotly.v1+json": {
       "config": {
        "plotlyServerURL": "https://plot.ly"
       },
       "data": [
        {
         "hoverinfo": "y",
         "name": "По месяцам",
         "type": "bar",
         "x": [
          "2018-10-01T00:00:00",
          "2018-11-01T00:00:00",
          "2018-12-01T00:00:00",
          "2019-01-01T00:00:00",
          "2019-02-01T00:00:00",
          "2019-03-01T00:00:00",
          "2019-04-01T00:00:00",
          "2019-05-01T00:00:00",
          "2019-06-01T00:00:00",
          "2019-07-01T00:00:00",
          "2019-08-01T00:00:00",
          "2019-09-01T00:00:00",
          "2019-10-01T00:00:00"
         ],
         "xaxis": "x",
         "y": [
          177,
          178,
          229,
          151,
          247,
          233,
          236,
          165,
          153,
          185,
          166,
          171,
          168
         ],
         "yaxis": "y"
        },
        {
         "hoverinfo": "y",
         "name": "По дням",
         "type": "bar",
         "x": [
          1,
          2,
          3,
          4,
          5,
          6,
          7,
          8,
          9,
          10,
          11,
          12,
          13,
          14,
          15,
          16,
          17,
          18,
          19,
          20,
          21,
          22,
          23,
          24,
          25,
          26,
          27,
          28,
          29,
          30,
          31
         ],
         "xaxis": "x2",
         "y": [
          82,
          74,
          83,
          113,
          105,
          87,
          80,
          64,
          75,
          99,
          98,
          88,
          89,
          78,
          81,
          101,
          82,
          91,
          74,
          76,
          93,
          83,
          99,
          96,
          70,
          87,
          90,
          90,
          57,
          64,
          38
         ],
         "yaxis": "y2"
        },
        {
         "hoverinfo": "y",
         "name": "По дням недели",
         "type": "bar",
         "x": [
          "Monday",
          "Tuesday",
          "Wednesday",
          "Thursday",
          "Friday",
          "Saturday",
          "Sunday"
         ],
         "xaxis": "x3",
         "y": [
          429,
          431,
          388,
          393,
          319,
          239,
          330
         ],
         "yaxis": "y3"
        },
        {
         "hoverinfo": "y",
         "name": "По часам",
         "type": "bar",
         "x": [
          0,
          1,
          2,
          3,
          4,
          5,
          6,
          7,
          8,
          9,
          10,
          11,
          12,
          13,
          14,
          15,
          16,
          17,
          18,
          19,
          20,
          21,
          22,
          23
         ],
         "xaxis": "x4",
         "y": [
          30,
          16,
          14,
          8,
          17,
          18,
          32,
          64,
          122,
          171,
          197,
          200,
          192,
          192,
          188,
          173,
          151,
          143,
          106,
          126,
          122,
          144,
          105,
          50
         ],
         "yaxis": "y4"
        }
       ],
       "layout": {
        "height": 800,
        "template": {
         "data": {
          "bar": [
           {
            "error_x": {
             "color": "rgb(36,36,36)"
            },
            "error_y": {
             "color": "rgb(36,36,36)"
            },
            "marker": {
             "line": {
              "color": "rgb(234,234,242)",
              "width": 0.5
             },
             "pattern": {
              "fillmode": "overlay",
              "size": 10,
              "solidity": 0.2
             }
            },
            "type": "bar"
           }
          ],
          "barpolar": [
           {
            "marker": {
             "line": {
              "color": "rgb(234,234,242)",
              "width": 0.5
             },
             "pattern": {
              "fillmode": "overlay",
              "size": 10,
              "solidity": 0.2
             }
            },
            "type": "barpolar"
           }
          ],
          "carpet": [
           {
            "aaxis": {
             "endlinecolor": "rgb(36,36,36)",
             "gridcolor": "white",
             "linecolor": "white",
             "minorgridcolor": "white",
             "startlinecolor": "rgb(36,36,36)"
            },
            "baxis": {
             "endlinecolor": "rgb(36,36,36)",
             "gridcolor": "white",
             "linecolor": "white",
             "minorgridcolor": "white",
             "startlinecolor": "rgb(36,36,36)"
            },
            "type": "carpet"
           }
          ],
          "choropleth": [
           {
            "colorbar": {
             "outlinewidth": 0,
             "tickcolor": "rgb(36,36,36)",
             "ticklen": 8,
             "ticks": "outside",
             "tickwidth": 2
            },
            "type": "choropleth"
           }
          ],
          "contour": [
           {
            "colorbar": {
             "outlinewidth": 0,
             "tickcolor": "rgb(36,36,36)",
             "ticklen": 8,
             "ticks": "outside",
             "tickwidth": 2
            },
            "colorscale": [
             [
              0,
              "rgb(2,4,25)"
             ],
             [
              0.06274509803921569,
              "rgb(24,15,41)"
             ],
             [
              0.12549019607843137,
              "rgb(47,23,57)"
             ],
             [
              0.18823529411764706,
              "rgb(71,28,72)"
             ],
             [
              0.25098039215686274,
              "rgb(97,30,82)"
             ],
             [
              0.3137254901960784,
              "rgb(123,30,89)"
             ],
             [
              0.3764705882352941,
              "rgb(150,27,91)"
             ],
             [
              0.4392156862745098,
              "rgb(177,22,88)"
             ],
             [
              0.5019607843137255,
              "rgb(203,26,79)"
             ],
             [
              0.5647058823529412,
              "rgb(223,47,67)"
             ],
             [
              0.6274509803921569,
              "rgb(236,76,61)"
             ],
             [
              0.6901960784313725,
              "rgb(242,107,73)"
             ],
             [
              0.7529411764705882,
              "rgb(244,135,95)"
             ],
             [
              0.8156862745098039,
              "rgb(245,162,122)"
             ],
             [
              0.8784313725490196,
              "rgb(246,188,153)"
             ],
             [
              0.9411764705882353,
              "rgb(247,212,187)"
             ],
             [
              1,
              "rgb(250,234,220)"
             ]
            ],
            "type": "contour"
           }
          ],
          "contourcarpet": [
           {
            "colorbar": {
             "outlinewidth": 0,
             "tickcolor": "rgb(36,36,36)",
             "ticklen": 8,
             "ticks": "outside",
             "tickwidth": 2
            },
            "type": "contourcarpet"
           }
          ],
          "heatmap": [
           {
            "colorbar": {
             "outlinewidth": 0,
             "tickcolor": "rgb(36,36,36)",
             "ticklen": 8,
             "ticks": "outside",
             "tickwidth": 2
            },
            "colorscale": [
             [
              0,
              "rgb(2,4,25)"
             ],
             [
              0.06274509803921569,
              "rgb(24,15,41)"
             ],
             [
              0.12549019607843137,
              "rgb(47,23,57)"
             ],
             [
              0.18823529411764706,
              "rgb(71,28,72)"
             ],
             [
              0.25098039215686274,
              "rgb(97,30,82)"
             ],
             [
              0.3137254901960784,
              "rgb(123,30,89)"
             ],
             [
              0.3764705882352941,
              "rgb(150,27,91)"
             ],
             [
              0.4392156862745098,
              "rgb(177,22,88)"
             ],
             [
              0.5019607843137255,
              "rgb(203,26,79)"
             ],
             [
              0.5647058823529412,
              "rgb(223,47,67)"
             ],
             [
              0.6274509803921569,
              "rgb(236,76,61)"
             ],
             [
              0.6901960784313725,
              "rgb(242,107,73)"
             ],
             [
              0.7529411764705882,
              "rgb(244,135,95)"
             ],
             [
              0.8156862745098039,
              "rgb(245,162,122)"
             ],
             [
              0.8784313725490196,
              "rgb(246,188,153)"
             ],
             [
              0.9411764705882353,
              "rgb(247,212,187)"
             ],
             [
              1,
              "rgb(250,234,220)"
             ]
            ],
            "type": "heatmap"
           }
          ],
          "heatmapgl": [
           {
            "colorbar": {
             "outlinewidth": 0,
             "tickcolor": "rgb(36,36,36)",
             "ticklen": 8,
             "ticks": "outside",
             "tickwidth": 2
            },
            "colorscale": [
             [
              0,
              "rgb(2,4,25)"
             ],
             [
              0.06274509803921569,
              "rgb(24,15,41)"
             ],
             [
              0.12549019607843137,
              "rgb(47,23,57)"
             ],
             [
              0.18823529411764706,
              "rgb(71,28,72)"
             ],
             [
              0.25098039215686274,
              "rgb(97,30,82)"
             ],
             [
              0.3137254901960784,
              "rgb(123,30,89)"
             ],
             [
              0.3764705882352941,
              "rgb(150,27,91)"
             ],
             [
              0.4392156862745098,
              "rgb(177,22,88)"
             ],
             [
              0.5019607843137255,
              "rgb(203,26,79)"
             ],
             [
              0.5647058823529412,
              "rgb(223,47,67)"
             ],
             [
              0.6274509803921569,
              "rgb(236,76,61)"
             ],
             [
              0.6901960784313725,
              "rgb(242,107,73)"
             ],
             [
              0.7529411764705882,
              "rgb(244,135,95)"
             ],
             [
              0.8156862745098039,
              "rgb(245,162,122)"
             ],
             [
              0.8784313725490196,
              "rgb(246,188,153)"
             ],
             [
              0.9411764705882353,
              "rgb(247,212,187)"
             ],
             [
              1,
              "rgb(250,234,220)"
             ]
            ],
            "type": "heatmapgl"
           }
          ],
          "histogram": [
           {
            "marker": {
             "pattern": {
              "fillmode": "overlay",
              "size": 10,
              "solidity": 0.2
             }
            },
            "type": "histogram"
           }
          ],
          "histogram2d": [
           {
            "colorbar": {
             "outlinewidth": 0,
             "tickcolor": "rgb(36,36,36)",
             "ticklen": 8,
             "ticks": "outside",
             "tickwidth": 2
            },
            "colorscale": [
             [
              0,
              "rgb(2,4,25)"
             ],
             [
              0.06274509803921569,
              "rgb(24,15,41)"
             ],
             [
              0.12549019607843137,
              "rgb(47,23,57)"
             ],
             [
              0.18823529411764706,
              "rgb(71,28,72)"
             ],
             [
              0.25098039215686274,
              "rgb(97,30,82)"
             ],
             [
              0.3137254901960784,
              "rgb(123,30,89)"
             ],
             [
              0.3764705882352941,
              "rgb(150,27,91)"
             ],
             [
              0.4392156862745098,
              "rgb(177,22,88)"
             ],
             [
              0.5019607843137255,
              "rgb(203,26,79)"
             ],
             [
              0.5647058823529412,
              "rgb(223,47,67)"
             ],
             [
              0.6274509803921569,
              "rgb(236,76,61)"
             ],
             [
              0.6901960784313725,
              "rgb(242,107,73)"
             ],
             [
              0.7529411764705882,
              "rgb(244,135,95)"
             ],
             [
              0.8156862745098039,
              "rgb(245,162,122)"
             ],
             [
              0.8784313725490196,
              "rgb(246,188,153)"
             ],
             [
              0.9411764705882353,
              "rgb(247,212,187)"
             ],
             [
              1,
              "rgb(250,234,220)"
             ]
            ],
            "type": "histogram2d"
           }
          ],
          "histogram2dcontour": [
           {
            "colorbar": {
             "outlinewidth": 0,
             "tickcolor": "rgb(36,36,36)",
             "ticklen": 8,
             "ticks": "outside",
             "tickwidth": 2
            },
            "colorscale": [
             [
              0,
              "rgb(2,4,25)"
             ],
             [
              0.06274509803921569,
              "rgb(24,15,41)"
             ],
             [
              0.12549019607843137,
              "rgb(47,23,57)"
             ],
             [
              0.18823529411764706,
              "rgb(71,28,72)"
             ],
             [
              0.25098039215686274,
              "rgb(97,30,82)"
             ],
             [
              0.3137254901960784,
              "rgb(123,30,89)"
             ],
             [
              0.3764705882352941,
              "rgb(150,27,91)"
             ],
             [
              0.4392156862745098,
              "rgb(177,22,88)"
             ],
             [
              0.5019607843137255,
              "rgb(203,26,79)"
             ],
             [
              0.5647058823529412,
              "rgb(223,47,67)"
             ],
             [
              0.6274509803921569,
              "rgb(236,76,61)"
             ],
             [
              0.6901960784313725,
              "rgb(242,107,73)"
             ],
             [
              0.7529411764705882,
              "rgb(244,135,95)"
             ],
             [
              0.8156862745098039,
              "rgb(245,162,122)"
             ],
             [
              0.8784313725490196,
              "rgb(246,188,153)"
             ],
             [
              0.9411764705882353,
              "rgb(247,212,187)"
             ],
             [
              1,
              "rgb(250,234,220)"
             ]
            ],
            "type": "histogram2dcontour"
           }
          ],
          "mesh3d": [
           {
            "colorbar": {
             "outlinewidth": 0,
             "tickcolor": "rgb(36,36,36)",
             "ticklen": 8,
             "ticks": "outside",
             "tickwidth": 2
            },
            "type": "mesh3d"
           }
          ],
          "parcoords": [
           {
            "line": {
             "colorbar": {
              "outlinewidth": 0,
              "tickcolor": "rgb(36,36,36)",
              "ticklen": 8,
              "ticks": "outside",
              "tickwidth": 2
             }
            },
            "type": "parcoords"
           }
          ],
          "pie": [
           {
            "automargin": true,
            "type": "pie"
           }
          ],
          "scatter": [
           {
            "fillpattern": {
             "fillmode": "overlay",
             "size": 10,
             "solidity": 0.2
            },
            "type": "scatter"
           }
          ],
          "scatter3d": [
           {
            "line": {
             "colorbar": {
              "outlinewidth": 0,
              "tickcolor": "rgb(36,36,36)",
              "ticklen": 8,
              "ticks": "outside",
              "tickwidth": 2
             }
            },
            "marker": {
             "colorbar": {
              "outlinewidth": 0,
              "tickcolor": "rgb(36,36,36)",
              "ticklen": 8,
              "ticks": "outside",
              "tickwidth": 2
             }
            },
            "type": "scatter3d"
           }
          ],
          "scattercarpet": [
           {
            "marker": {
             "colorbar": {
              "outlinewidth": 0,
              "tickcolor": "rgb(36,36,36)",
              "ticklen": 8,
              "ticks": "outside",
              "tickwidth": 2
             }
            },
            "type": "scattercarpet"
           }
          ],
          "scattergeo": [
           {
            "marker": {
             "colorbar": {
              "outlinewidth": 0,
              "tickcolor": "rgb(36,36,36)",
              "ticklen": 8,
              "ticks": "outside",
              "tickwidth": 2
             }
            },
            "type": "scattergeo"
           }
          ],
          "scattergl": [
           {
            "marker": {
             "colorbar": {
              "outlinewidth": 0,
              "tickcolor": "rgb(36,36,36)",
              "ticklen": 8,
              "ticks": "outside",
              "tickwidth": 2
             }
            },
            "type": "scattergl"
           }
          ],
          "scattermapbox": [
           {
            "marker": {
             "colorbar": {
              "outlinewidth": 0,
              "tickcolor": "rgb(36,36,36)",
              "ticklen": 8,
              "ticks": "outside",
              "tickwidth": 2
             }
            },
            "type": "scattermapbox"
           }
          ],
          "scatterpolar": [
           {
            "marker": {
             "colorbar": {
              "outlinewidth": 0,
              "tickcolor": "rgb(36,36,36)",
              "ticklen": 8,
              "ticks": "outside",
              "tickwidth": 2
             }
            },
            "type": "scatterpolar"
           }
          ],
          "scatterpolargl": [
           {
            "marker": {
             "colorbar": {
              "outlinewidth": 0,
              "tickcolor": "rgb(36,36,36)",
              "ticklen": 8,
              "ticks": "outside",
              "tickwidth": 2
             }
            },
            "type": "scatterpolargl"
           }
          ],
          "scatterternary": [
           {
            "marker": {
             "colorbar": {
              "outlinewidth": 0,
              "tickcolor": "rgb(36,36,36)",
              "ticklen": 8,
              "ticks": "outside",
              "tickwidth": 2
             }
            },
            "type": "scatterternary"
           }
          ],
          "surface": [
           {
            "colorbar": {
             "outlinewidth": 0,
             "tickcolor": "rgb(36,36,36)",
             "ticklen": 8,
             "ticks": "outside",
             "tickwidth": 2
            },
            "colorscale": [
             [
              0,
              "rgb(2,4,25)"
             ],
             [
              0.06274509803921569,
              "rgb(24,15,41)"
             ],
             [
              0.12549019607843137,
              "rgb(47,23,57)"
             ],
             [
              0.18823529411764706,
              "rgb(71,28,72)"
             ],
             [
              0.25098039215686274,
              "rgb(97,30,82)"
             ],
             [
              0.3137254901960784,
              "rgb(123,30,89)"
             ],
             [
              0.3764705882352941,
              "rgb(150,27,91)"
             ],
             [
              0.4392156862745098,
              "rgb(177,22,88)"
             ],
             [
              0.5019607843137255,
              "rgb(203,26,79)"
             ],
             [
              0.5647058823529412,
              "rgb(223,47,67)"
             ],
             [
              0.6274509803921569,
              "rgb(236,76,61)"
             ],
             [
              0.6901960784313725,
              "rgb(242,107,73)"
             ],
             [
              0.7529411764705882,
              "rgb(244,135,95)"
             ],
             [
              0.8156862745098039,
              "rgb(245,162,122)"
             ],
             [
              0.8784313725490196,
              "rgb(246,188,153)"
             ],
             [
              0.9411764705882353,
              "rgb(247,212,187)"
             ],
             [
              1,
              "rgb(250,234,220)"
             ]
            ],
            "type": "surface"
           }
          ],
          "table": [
           {
            "cells": {
             "fill": {
              "color": "rgb(231,231,240)"
             },
             "line": {
              "color": "white"
             }
            },
            "header": {
             "fill": {
              "color": "rgb(183,183,191)"
             },
             "line": {
              "color": "white"
             }
            },
            "type": "table"
           }
          ]
         },
         "layout": {
          "annotationdefaults": {
           "arrowcolor": "rgb(67,103,167)"
          },
          "autotypenumbers": "strict",
          "coloraxis": {
           "colorbar": {
            "outlinewidth": 0,
            "tickcolor": "rgb(36,36,36)",
            "ticklen": 8,
            "ticks": "outside",
            "tickwidth": 2
           }
          },
          "colorscale": {
           "sequential": [
            [
             0,
             "rgb(2,4,25)"
            ],
            [
             0.06274509803921569,
             "rgb(24,15,41)"
            ],
            [
             0.12549019607843137,
             "rgb(47,23,57)"
            ],
            [
             0.18823529411764706,
             "rgb(71,28,72)"
            ],
            [
             0.25098039215686274,
             "rgb(97,30,82)"
            ],
            [
             0.3137254901960784,
             "rgb(123,30,89)"
            ],
            [
             0.3764705882352941,
             "rgb(150,27,91)"
            ],
            [
             0.4392156862745098,
             "rgb(177,22,88)"
            ],
            [
             0.5019607843137255,
             "rgb(203,26,79)"
            ],
            [
             0.5647058823529412,
             "rgb(223,47,67)"
            ],
            [
             0.6274509803921569,
             "rgb(236,76,61)"
            ],
            [
             0.6901960784313725,
             "rgb(242,107,73)"
            ],
            [
             0.7529411764705882,
             "rgb(244,135,95)"
            ],
            [
             0.8156862745098039,
             "rgb(245,162,122)"
            ],
            [
             0.8784313725490196,
             "rgb(246,188,153)"
            ],
            [
             0.9411764705882353,
             "rgb(247,212,187)"
            ],
            [
             1,
             "rgb(250,234,220)"
            ]
           ],
           "sequentialminus": [
            [
             0,
             "rgb(2,4,25)"
            ],
            [
             0.06274509803921569,
             "rgb(24,15,41)"
            ],
            [
             0.12549019607843137,
             "rgb(47,23,57)"
            ],
            [
             0.18823529411764706,
             "rgb(71,28,72)"
            ],
            [
             0.25098039215686274,
             "rgb(97,30,82)"
            ],
            [
             0.3137254901960784,
             "rgb(123,30,89)"
            ],
            [
             0.3764705882352941,
             "rgb(150,27,91)"
            ],
            [
             0.4392156862745098,
             "rgb(177,22,88)"
            ],
            [
             0.5019607843137255,
             "rgb(203,26,79)"
            ],
            [
             0.5647058823529412,
             "rgb(223,47,67)"
            ],
            [
             0.6274509803921569,
             "rgb(236,76,61)"
            ],
            [
             0.6901960784313725,
             "rgb(242,107,73)"
            ],
            [
             0.7529411764705882,
             "rgb(244,135,95)"
            ],
            [
             0.8156862745098039,
             "rgb(245,162,122)"
            ],
            [
             0.8784313725490196,
             "rgb(246,188,153)"
            ],
            [
             0.9411764705882353,
             "rgb(247,212,187)"
            ],
            [
             1,
             "rgb(250,234,220)"
            ]
           ]
          },
          "colorway": [
           "rgb(76,114,176)",
           "rgb(221,132,82)",
           "rgb(85,168,104)",
           "rgb(196,78,82)",
           "rgb(129,114,179)",
           "rgb(147,120,96)",
           "rgb(218,139,195)",
           "rgb(140,140,140)",
           "rgb(204,185,116)",
           "rgb(100,181,205)"
          ],
          "font": {
           "color": "rgb(36,36,36)"
          },
          "geo": {
           "bgcolor": "white",
           "lakecolor": "white",
           "landcolor": "rgb(234,234,242)",
           "showlakes": true,
           "showland": true,
           "subunitcolor": "white"
          },
          "hoverlabel": {
           "align": "left"
          },
          "hovermode": "closest",
          "paper_bgcolor": "white",
          "plot_bgcolor": "rgb(234,234,242)",
          "polar": {
           "angularaxis": {
            "gridcolor": "white",
            "linecolor": "white",
            "showgrid": true,
            "ticks": ""
           },
           "bgcolor": "rgb(234,234,242)",
           "radialaxis": {
            "gridcolor": "white",
            "linecolor": "white",
            "showgrid": true,
            "ticks": ""
           }
          },
          "scene": {
           "xaxis": {
            "backgroundcolor": "rgb(234,234,242)",
            "gridcolor": "white",
            "gridwidth": 2,
            "linecolor": "white",
            "showbackground": true,
            "showgrid": true,
            "ticks": "",
            "zerolinecolor": "white"
           },
           "yaxis": {
            "backgroundcolor": "rgb(234,234,242)",
            "gridcolor": "white",
            "gridwidth": 2,
            "linecolor": "white",
            "showbackground": true,
            "showgrid": true,
            "ticks": "",
            "zerolinecolor": "white"
           },
           "zaxis": {
            "backgroundcolor": "rgb(234,234,242)",
            "gridcolor": "white",
            "gridwidth": 2,
            "linecolor": "white",
            "showbackground": true,
            "showgrid": true,
            "ticks": "",
            "zerolinecolor": "white"
           }
          },
          "shapedefaults": {
           "fillcolor": "rgb(67,103,167)",
           "line": {
            "width": 0
           },
           "opacity": 0.5
          },
          "ternary": {
           "aaxis": {
            "gridcolor": "white",
            "linecolor": "white",
            "showgrid": true,
            "ticks": ""
           },
           "baxis": {
            "gridcolor": "white",
            "linecolor": "white",
            "showgrid": true,
            "ticks": ""
           },
           "bgcolor": "rgb(234,234,242)",
           "caxis": {
            "gridcolor": "white",
            "linecolor": "white",
            "showgrid": true,
            "ticks": ""
           }
          },
          "xaxis": {
           "automargin": true,
           "gridcolor": "white",
           "linecolor": "white",
           "showgrid": true,
           "ticks": "",
           "title": {
            "standoff": 15
           },
           "zerolinecolor": "white"
          },
          "yaxis": {
           "automargin": true,
           "gridcolor": "white",
           "linecolor": "white",
           "showgrid": true,
           "ticks": "",
           "title": {
            "standoff": 15
           },
           "zerolinecolor": "white"
          }
         }
        },
        "title": {
         "text": "Количество покупателей по времени"
        },
        "xaxis": {
         "anchor": "y",
         "domain": [
          0,
          0.475
         ],
         "showgrid": false,
         "tickangle": 45,
         "tickvals": [
          "2018-10-01T00:00:00",
          "2018-11-01T00:00:00",
          "2018-12-01T00:00:00",
          "2019-01-01T00:00:00",
          "2019-02-01T00:00:00",
          "2019-03-01T00:00:00",
          "2019-04-01T00:00:00",
          "2019-05-01T00:00:00",
          "2019-06-01T00:00:00",
          "2019-07-01T00:00:00",
          "2019-08-01T00:00:00",
          "2019-09-01T00:00:00",
          "2019-10-01T00:00:00"
         ]
        },
        "xaxis2": {
         "anchor": "y2",
         "domain": [
          0.525,
          1
         ],
         "showgrid": false,
         "tickangle": 45,
         "tickvals": [
          1,
          2,
          3,
          4,
          5,
          6,
          7,
          8,
          9,
          10,
          11,
          12,
          13,
          14,
          15,
          16,
          17,
          18,
          19,
          20,
          21,
          22,
          23,
          24,
          25,
          26,
          27,
          28,
          29,
          30,
          31
         ]
        },
        "xaxis3": {
         "anchor": "y3",
         "domain": [
          0,
          0.475
         ],
         "showgrid": false
        },
        "xaxis4": {
         "anchor": "y4",
         "domain": [
          0.525,
          1
         ],
         "showgrid": false,
         "tickangle": 45,
         "tickvals": [
          0,
          1,
          2,
          3,
          4,
          5,
          6,
          7,
          8,
          9,
          10,
          11,
          12,
          13,
          14,
          15,
          16,
          17,
          18,
          19,
          20,
          21,
          22,
          23
         ]
        },
        "yaxis": {
         "anchor": "x",
         "domain": [
          0.575,
          1
         ]
        },
        "yaxis2": {
         "anchor": "x2",
         "domain": [
          0.575,
          1
         ]
        },
        "yaxis3": {
         "anchor": "x3",
         "domain": [
          0,
          0.425
         ]
        },
        "yaxis4": {
         "anchor": "x4",
         "domain": [
          0,
          0.425
         ]
        }
       }
      }
     },
     "metadata": {},
     "output_type": "display_data"
    }
   ],
   "source": [
    "fig = plot_bar_nm(2, 2, customers_params)\n",
    "\n",
    "fig.update_xaxes(tickangle=45, tickvals = customers_pivot_by_month['month'], showgrid=False, row=1, col=1)\n",
    "fig.update_xaxes(tickangle=45, tickvals = customers_pivot_by_day['day'], showgrid=False, row=1, col=2)\n",
    "fig.update_xaxes(showgrid=False, row=2, col=1)\n",
    "fig.update_xaxes(tickangle=45, tickvals = customers_pivot_by_hour['hour'], showgrid=False, row=2, col=2)\n",
    "\n",
    "fig.update_layout(title_text='Количество покупателей по времени', height=800)\n",
    "fig.show()"
   ]
  },
  {
   "cell_type": "markdown",
   "metadata": {},
   "source": [
    "*Картина аналогична количеству заказов*"
   ]
  },
  {
   "cell_type": "markdown",
   "metadata": {},
   "source": [
    "### Размер выручки по времени"
   ]
  },
  {
   "cell_type": "code",
   "execution_count": 52,
   "metadata": {},
   "outputs": [],
   "source": [
    "revenue_pivot_by_month = df.pivot_table(index='month', values='revenue', aggfunc='sum').reset_index()\n",
    "revenue_pivot_by_day = df.pivot_table(index='day', values='revenue', aggfunc='sum').reset_index()\n",
    "revenue_pivot_by_weekday = df.pivot_table(index='day_of_week', values='revenue', aggfunc='sum').reindex(cats).reset_index()\n",
    "revenue_pivot_by_hour = df.pivot_table(index='hour', values='revenue', aggfunc='sum').reset_index()"
   ]
  },
  {
   "cell_type": "code",
   "execution_count": 53,
   "metadata": {},
   "outputs": [],
   "source": [
    "revenue_params = {\n",
    "    'data1': {'df': revenue_pivot_by_month, 'name': 'По месяцам', 'x': 'month', 'y': 'revenue', 'hoverinfo': 'y', 'row': 1, 'col': 1},\n",
    "    'data2': {'df': revenue_pivot_by_day, 'name': 'По дням', 'x': 'day', 'y': 'revenue', 'hoverinfo': 'y', 'row': 1, 'col': 2},\n",
    "    'data3': {'df': revenue_pivot_by_weekday, 'name': 'По дням недели', 'x': 'day_of_week', 'y': 'revenue', 'hoverinfo': 'y', 'row': 2, 'col': 1},\n",
    "    'data4': {'df': revenue_pivot_by_hour, 'name': 'По часам', 'x': 'hour', 'y': 'revenue', 'hoverinfo': 'y', 'row': 2, 'col': 2},\n",
    "}"
   ]
  },
  {
   "cell_type": "code",
   "execution_count": 54,
   "metadata": {},
   "outputs": [
    {
     "data": {
      "application/vnd.plotly.v1+json": {
       "config": {
        "plotlyServerURL": "https://plot.ly"
       },
       "data": [
        {
         "hoverinfo": "y",
         "name": "По месяцам",
         "type": "bar",
         "x": [
          "2018-10-01T00:00:00",
          "2018-11-01T00:00:00",
          "2018-12-01T00:00:00",
          "2019-01-01T00:00:00",
          "2019-02-01T00:00:00",
          "2019-03-01T00:00:00",
          "2019-04-01T00:00:00",
          "2019-05-01T00:00:00",
          "2019-06-01T00:00:00",
          "2019-07-01T00:00:00",
          "2019-08-01T00:00:00",
          "2019-09-01T00:00:00",
          "2019-10-01T00:00:00"
         ],
         "xaxis": "x",
         "y": [
          330376,
          330524,
          337339,
          226771,
          306537,
          255693,
          316691,
          230238,
          240178,
          226600,
          181231,
          171320,
          199509
         ],
         "yaxis": "y"
        },
        {
         "hoverinfo": "y",
         "name": "По дням",
         "type": "bar",
         "x": [
          1,
          2,
          3,
          4,
          5,
          6,
          7,
          8,
          9,
          10,
          11,
          12,
          13,
          14,
          15,
          16,
          17,
          18,
          19,
          20,
          21,
          22,
          23,
          24,
          25,
          26,
          27,
          28,
          29,
          30,
          31
         ],
         "xaxis": "x2",
         "y": [
          91027,
          104454,
          81494,
          176980,
          141937,
          128877,
          125059,
          92112,
          90315,
          116546,
          177723,
          121316,
          86395,
          85831,
          136685,
          120099,
          93149,
          92304,
          138985,
          90876,
          139044,
          84180,
          129299,
          119972,
          72012,
          83474,
          97788,
          118985,
          108829,
          64610,
          42650
         ],
         "yaxis": "y2"
        },
        {
         "hoverinfo": "y",
         "name": "По дням недели",
         "type": "bar",
         "x": [
          "Monday",
          "Tuesday",
          "Wednesday",
          "Thursday",
          "Friday",
          "Saturday",
          "Sunday"
         ],
         "xaxis": "x3",
         "y": [
          562194,
          667362,
          510426,
          505725,
          502745,
          263256,
          341299
         ],
         "yaxis": "y3"
        },
        {
         "hoverinfo": "y",
         "name": "По часам",
         "type": "bar",
         "x": [
          0,
          1,
          2,
          3,
          4,
          5,
          6,
          7,
          8,
          9,
          10,
          11,
          12,
          13,
          14,
          15,
          16,
          17,
          18,
          19,
          20,
          21,
          22,
          23
         ],
         "xaxis": "x4",
         "y": [
          31392,
          21633,
          22479,
          6415,
          18937,
          19232,
          54184,
          147160,
          175268,
          229596,
          214164,
          278014,
          237762,
          302528,
          205039,
          232408,
          213997,
          211703,
          160943,
          148266,
          120795,
          148492,
          115672,
          36928
         ],
         "yaxis": "y4"
        }
       ],
       "layout": {
        "height": 800,
        "template": {
         "data": {
          "bar": [
           {
            "error_x": {
             "color": "rgb(36,36,36)"
            },
            "error_y": {
             "color": "rgb(36,36,36)"
            },
            "marker": {
             "line": {
              "color": "rgb(234,234,242)",
              "width": 0.5
             },
             "pattern": {
              "fillmode": "overlay",
              "size": 10,
              "solidity": 0.2
             }
            },
            "type": "bar"
           }
          ],
          "barpolar": [
           {
            "marker": {
             "line": {
              "color": "rgb(234,234,242)",
              "width": 0.5
             },
             "pattern": {
              "fillmode": "overlay",
              "size": 10,
              "solidity": 0.2
             }
            },
            "type": "barpolar"
           }
          ],
          "carpet": [
           {
            "aaxis": {
             "endlinecolor": "rgb(36,36,36)",
             "gridcolor": "white",
             "linecolor": "white",
             "minorgridcolor": "white",
             "startlinecolor": "rgb(36,36,36)"
            },
            "baxis": {
             "endlinecolor": "rgb(36,36,36)",
             "gridcolor": "white",
             "linecolor": "white",
             "minorgridcolor": "white",
             "startlinecolor": "rgb(36,36,36)"
            },
            "type": "carpet"
           }
          ],
          "choropleth": [
           {
            "colorbar": {
             "outlinewidth": 0,
             "tickcolor": "rgb(36,36,36)",
             "ticklen": 8,
             "ticks": "outside",
             "tickwidth": 2
            },
            "type": "choropleth"
           }
          ],
          "contour": [
           {
            "colorbar": {
             "outlinewidth": 0,
             "tickcolor": "rgb(36,36,36)",
             "ticklen": 8,
             "ticks": "outside",
             "tickwidth": 2
            },
            "colorscale": [
             [
              0,
              "rgb(2,4,25)"
             ],
             [
              0.06274509803921569,
              "rgb(24,15,41)"
             ],
             [
              0.12549019607843137,
              "rgb(47,23,57)"
             ],
             [
              0.18823529411764706,
              "rgb(71,28,72)"
             ],
             [
              0.25098039215686274,
              "rgb(97,30,82)"
             ],
             [
              0.3137254901960784,
              "rgb(123,30,89)"
             ],
             [
              0.3764705882352941,
              "rgb(150,27,91)"
             ],
             [
              0.4392156862745098,
              "rgb(177,22,88)"
             ],
             [
              0.5019607843137255,
              "rgb(203,26,79)"
             ],
             [
              0.5647058823529412,
              "rgb(223,47,67)"
             ],
             [
              0.6274509803921569,
              "rgb(236,76,61)"
             ],
             [
              0.6901960784313725,
              "rgb(242,107,73)"
             ],
             [
              0.7529411764705882,
              "rgb(244,135,95)"
             ],
             [
              0.8156862745098039,
              "rgb(245,162,122)"
             ],
             [
              0.8784313725490196,
              "rgb(246,188,153)"
             ],
             [
              0.9411764705882353,
              "rgb(247,212,187)"
             ],
             [
              1,
              "rgb(250,234,220)"
             ]
            ],
            "type": "contour"
           }
          ],
          "contourcarpet": [
           {
            "colorbar": {
             "outlinewidth": 0,
             "tickcolor": "rgb(36,36,36)",
             "ticklen": 8,
             "ticks": "outside",
             "tickwidth": 2
            },
            "type": "contourcarpet"
           }
          ],
          "heatmap": [
           {
            "colorbar": {
             "outlinewidth": 0,
             "tickcolor": "rgb(36,36,36)",
             "ticklen": 8,
             "ticks": "outside",
             "tickwidth": 2
            },
            "colorscale": [
             [
              0,
              "rgb(2,4,25)"
             ],
             [
              0.06274509803921569,
              "rgb(24,15,41)"
             ],
             [
              0.12549019607843137,
              "rgb(47,23,57)"
             ],
             [
              0.18823529411764706,
              "rgb(71,28,72)"
             ],
             [
              0.25098039215686274,
              "rgb(97,30,82)"
             ],
             [
              0.3137254901960784,
              "rgb(123,30,89)"
             ],
             [
              0.3764705882352941,
              "rgb(150,27,91)"
             ],
             [
              0.4392156862745098,
              "rgb(177,22,88)"
             ],
             [
              0.5019607843137255,
              "rgb(203,26,79)"
             ],
             [
              0.5647058823529412,
              "rgb(223,47,67)"
             ],
             [
              0.6274509803921569,
              "rgb(236,76,61)"
             ],
             [
              0.6901960784313725,
              "rgb(242,107,73)"
             ],
             [
              0.7529411764705882,
              "rgb(244,135,95)"
             ],
             [
              0.8156862745098039,
              "rgb(245,162,122)"
             ],
             [
              0.8784313725490196,
              "rgb(246,188,153)"
             ],
             [
              0.9411764705882353,
              "rgb(247,212,187)"
             ],
             [
              1,
              "rgb(250,234,220)"
             ]
            ],
            "type": "heatmap"
           }
          ],
          "heatmapgl": [
           {
            "colorbar": {
             "outlinewidth": 0,
             "tickcolor": "rgb(36,36,36)",
             "ticklen": 8,
             "ticks": "outside",
             "tickwidth": 2
            },
            "colorscale": [
             [
              0,
              "rgb(2,4,25)"
             ],
             [
              0.06274509803921569,
              "rgb(24,15,41)"
             ],
             [
              0.12549019607843137,
              "rgb(47,23,57)"
             ],
             [
              0.18823529411764706,
              "rgb(71,28,72)"
             ],
             [
              0.25098039215686274,
              "rgb(97,30,82)"
             ],
             [
              0.3137254901960784,
              "rgb(123,30,89)"
             ],
             [
              0.3764705882352941,
              "rgb(150,27,91)"
             ],
             [
              0.4392156862745098,
              "rgb(177,22,88)"
             ],
             [
              0.5019607843137255,
              "rgb(203,26,79)"
             ],
             [
              0.5647058823529412,
              "rgb(223,47,67)"
             ],
             [
              0.6274509803921569,
              "rgb(236,76,61)"
             ],
             [
              0.6901960784313725,
              "rgb(242,107,73)"
             ],
             [
              0.7529411764705882,
              "rgb(244,135,95)"
             ],
             [
              0.8156862745098039,
              "rgb(245,162,122)"
             ],
             [
              0.8784313725490196,
              "rgb(246,188,153)"
             ],
             [
              0.9411764705882353,
              "rgb(247,212,187)"
             ],
             [
              1,
              "rgb(250,234,220)"
             ]
            ],
            "type": "heatmapgl"
           }
          ],
          "histogram": [
           {
            "marker": {
             "pattern": {
              "fillmode": "overlay",
              "size": 10,
              "solidity": 0.2
             }
            },
            "type": "histogram"
           }
          ],
          "histogram2d": [
           {
            "colorbar": {
             "outlinewidth": 0,
             "tickcolor": "rgb(36,36,36)",
             "ticklen": 8,
             "ticks": "outside",
             "tickwidth": 2
            },
            "colorscale": [
             [
              0,
              "rgb(2,4,25)"
             ],
             [
              0.06274509803921569,
              "rgb(24,15,41)"
             ],
             [
              0.12549019607843137,
              "rgb(47,23,57)"
             ],
             [
              0.18823529411764706,
              "rgb(71,28,72)"
             ],
             [
              0.25098039215686274,
              "rgb(97,30,82)"
             ],
             [
              0.3137254901960784,
              "rgb(123,30,89)"
             ],
             [
              0.3764705882352941,
              "rgb(150,27,91)"
             ],
             [
              0.4392156862745098,
              "rgb(177,22,88)"
             ],
             [
              0.5019607843137255,
              "rgb(203,26,79)"
             ],
             [
              0.5647058823529412,
              "rgb(223,47,67)"
             ],
             [
              0.6274509803921569,
              "rgb(236,76,61)"
             ],
             [
              0.6901960784313725,
              "rgb(242,107,73)"
             ],
             [
              0.7529411764705882,
              "rgb(244,135,95)"
             ],
             [
              0.8156862745098039,
              "rgb(245,162,122)"
             ],
             [
              0.8784313725490196,
              "rgb(246,188,153)"
             ],
             [
              0.9411764705882353,
              "rgb(247,212,187)"
             ],
             [
              1,
              "rgb(250,234,220)"
             ]
            ],
            "type": "histogram2d"
           }
          ],
          "histogram2dcontour": [
           {
            "colorbar": {
             "outlinewidth": 0,
             "tickcolor": "rgb(36,36,36)",
             "ticklen": 8,
             "ticks": "outside",
             "tickwidth": 2
            },
            "colorscale": [
             [
              0,
              "rgb(2,4,25)"
             ],
             [
              0.06274509803921569,
              "rgb(24,15,41)"
             ],
             [
              0.12549019607843137,
              "rgb(47,23,57)"
             ],
             [
              0.18823529411764706,
              "rgb(71,28,72)"
             ],
             [
              0.25098039215686274,
              "rgb(97,30,82)"
             ],
             [
              0.3137254901960784,
              "rgb(123,30,89)"
             ],
             [
              0.3764705882352941,
              "rgb(150,27,91)"
             ],
             [
              0.4392156862745098,
              "rgb(177,22,88)"
             ],
             [
              0.5019607843137255,
              "rgb(203,26,79)"
             ],
             [
              0.5647058823529412,
              "rgb(223,47,67)"
             ],
             [
              0.6274509803921569,
              "rgb(236,76,61)"
             ],
             [
              0.6901960784313725,
              "rgb(242,107,73)"
             ],
             [
              0.7529411764705882,
              "rgb(244,135,95)"
             ],
             [
              0.8156862745098039,
              "rgb(245,162,122)"
             ],
             [
              0.8784313725490196,
              "rgb(246,188,153)"
             ],
             [
              0.9411764705882353,
              "rgb(247,212,187)"
             ],
             [
              1,
              "rgb(250,234,220)"
             ]
            ],
            "type": "histogram2dcontour"
           }
          ],
          "mesh3d": [
           {
            "colorbar": {
             "outlinewidth": 0,
             "tickcolor": "rgb(36,36,36)",
             "ticklen": 8,
             "ticks": "outside",
             "tickwidth": 2
            },
            "type": "mesh3d"
           }
          ],
          "parcoords": [
           {
            "line": {
             "colorbar": {
              "outlinewidth": 0,
              "tickcolor": "rgb(36,36,36)",
              "ticklen": 8,
              "ticks": "outside",
              "tickwidth": 2
             }
            },
            "type": "parcoords"
           }
          ],
          "pie": [
           {
            "automargin": true,
            "type": "pie"
           }
          ],
          "scatter": [
           {
            "fillpattern": {
             "fillmode": "overlay",
             "size": 10,
             "solidity": 0.2
            },
            "type": "scatter"
           }
          ],
          "scatter3d": [
           {
            "line": {
             "colorbar": {
              "outlinewidth": 0,
              "tickcolor": "rgb(36,36,36)",
              "ticklen": 8,
              "ticks": "outside",
              "tickwidth": 2
             }
            },
            "marker": {
             "colorbar": {
              "outlinewidth": 0,
              "tickcolor": "rgb(36,36,36)",
              "ticklen": 8,
              "ticks": "outside",
              "tickwidth": 2
             }
            },
            "type": "scatter3d"
           }
          ],
          "scattercarpet": [
           {
            "marker": {
             "colorbar": {
              "outlinewidth": 0,
              "tickcolor": "rgb(36,36,36)",
              "ticklen": 8,
              "ticks": "outside",
              "tickwidth": 2
             }
            },
            "type": "scattercarpet"
           }
          ],
          "scattergeo": [
           {
            "marker": {
             "colorbar": {
              "outlinewidth": 0,
              "tickcolor": "rgb(36,36,36)",
              "ticklen": 8,
              "ticks": "outside",
              "tickwidth": 2
             }
            },
            "type": "scattergeo"
           }
          ],
          "scattergl": [
           {
            "marker": {
             "colorbar": {
              "outlinewidth": 0,
              "tickcolor": "rgb(36,36,36)",
              "ticklen": 8,
              "ticks": "outside",
              "tickwidth": 2
             }
            },
            "type": "scattergl"
           }
          ],
          "scattermapbox": [
           {
            "marker": {
             "colorbar": {
              "outlinewidth": 0,
              "tickcolor": "rgb(36,36,36)",
              "ticklen": 8,
              "ticks": "outside",
              "tickwidth": 2
             }
            },
            "type": "scattermapbox"
           }
          ],
          "scatterpolar": [
           {
            "marker": {
             "colorbar": {
              "outlinewidth": 0,
              "tickcolor": "rgb(36,36,36)",
              "ticklen": 8,
              "ticks": "outside",
              "tickwidth": 2
             }
            },
            "type": "scatterpolar"
           }
          ],
          "scatterpolargl": [
           {
            "marker": {
             "colorbar": {
              "outlinewidth": 0,
              "tickcolor": "rgb(36,36,36)",
              "ticklen": 8,
              "ticks": "outside",
              "tickwidth": 2
             }
            },
            "type": "scatterpolargl"
           }
          ],
          "scatterternary": [
           {
            "marker": {
             "colorbar": {
              "outlinewidth": 0,
              "tickcolor": "rgb(36,36,36)",
              "ticklen": 8,
              "ticks": "outside",
              "tickwidth": 2
             }
            },
            "type": "scatterternary"
           }
          ],
          "surface": [
           {
            "colorbar": {
             "outlinewidth": 0,
             "tickcolor": "rgb(36,36,36)",
             "ticklen": 8,
             "ticks": "outside",
             "tickwidth": 2
            },
            "colorscale": [
             [
              0,
              "rgb(2,4,25)"
             ],
             [
              0.06274509803921569,
              "rgb(24,15,41)"
             ],
             [
              0.12549019607843137,
              "rgb(47,23,57)"
             ],
             [
              0.18823529411764706,
              "rgb(71,28,72)"
             ],
             [
              0.25098039215686274,
              "rgb(97,30,82)"
             ],
             [
              0.3137254901960784,
              "rgb(123,30,89)"
             ],
             [
              0.3764705882352941,
              "rgb(150,27,91)"
             ],
             [
              0.4392156862745098,
              "rgb(177,22,88)"
             ],
             [
              0.5019607843137255,
              "rgb(203,26,79)"
             ],
             [
              0.5647058823529412,
              "rgb(223,47,67)"
             ],
             [
              0.6274509803921569,
              "rgb(236,76,61)"
             ],
             [
              0.6901960784313725,
              "rgb(242,107,73)"
             ],
             [
              0.7529411764705882,
              "rgb(244,135,95)"
             ],
             [
              0.8156862745098039,
              "rgb(245,162,122)"
             ],
             [
              0.8784313725490196,
              "rgb(246,188,153)"
             ],
             [
              0.9411764705882353,
              "rgb(247,212,187)"
             ],
             [
              1,
              "rgb(250,234,220)"
             ]
            ],
            "type": "surface"
           }
          ],
          "table": [
           {
            "cells": {
             "fill": {
              "color": "rgb(231,231,240)"
             },
             "line": {
              "color": "white"
             }
            },
            "header": {
             "fill": {
              "color": "rgb(183,183,191)"
             },
             "line": {
              "color": "white"
             }
            },
            "type": "table"
           }
          ]
         },
         "layout": {
          "annotationdefaults": {
           "arrowcolor": "rgb(67,103,167)"
          },
          "autotypenumbers": "strict",
          "coloraxis": {
           "colorbar": {
            "outlinewidth": 0,
            "tickcolor": "rgb(36,36,36)",
            "ticklen": 8,
            "ticks": "outside",
            "tickwidth": 2
           }
          },
          "colorscale": {
           "sequential": [
            [
             0,
             "rgb(2,4,25)"
            ],
            [
             0.06274509803921569,
             "rgb(24,15,41)"
            ],
            [
             0.12549019607843137,
             "rgb(47,23,57)"
            ],
            [
             0.18823529411764706,
             "rgb(71,28,72)"
            ],
            [
             0.25098039215686274,
             "rgb(97,30,82)"
            ],
            [
             0.3137254901960784,
             "rgb(123,30,89)"
            ],
            [
             0.3764705882352941,
             "rgb(150,27,91)"
            ],
            [
             0.4392156862745098,
             "rgb(177,22,88)"
            ],
            [
             0.5019607843137255,
             "rgb(203,26,79)"
            ],
            [
             0.5647058823529412,
             "rgb(223,47,67)"
            ],
            [
             0.6274509803921569,
             "rgb(236,76,61)"
            ],
            [
             0.6901960784313725,
             "rgb(242,107,73)"
            ],
            [
             0.7529411764705882,
             "rgb(244,135,95)"
            ],
            [
             0.8156862745098039,
             "rgb(245,162,122)"
            ],
            [
             0.8784313725490196,
             "rgb(246,188,153)"
            ],
            [
             0.9411764705882353,
             "rgb(247,212,187)"
            ],
            [
             1,
             "rgb(250,234,220)"
            ]
           ],
           "sequentialminus": [
            [
             0,
             "rgb(2,4,25)"
            ],
            [
             0.06274509803921569,
             "rgb(24,15,41)"
            ],
            [
             0.12549019607843137,
             "rgb(47,23,57)"
            ],
            [
             0.18823529411764706,
             "rgb(71,28,72)"
            ],
            [
             0.25098039215686274,
             "rgb(97,30,82)"
            ],
            [
             0.3137254901960784,
             "rgb(123,30,89)"
            ],
            [
             0.3764705882352941,
             "rgb(150,27,91)"
            ],
            [
             0.4392156862745098,
             "rgb(177,22,88)"
            ],
            [
             0.5019607843137255,
             "rgb(203,26,79)"
            ],
            [
             0.5647058823529412,
             "rgb(223,47,67)"
            ],
            [
             0.6274509803921569,
             "rgb(236,76,61)"
            ],
            [
             0.6901960784313725,
             "rgb(242,107,73)"
            ],
            [
             0.7529411764705882,
             "rgb(244,135,95)"
            ],
            [
             0.8156862745098039,
             "rgb(245,162,122)"
            ],
            [
             0.8784313725490196,
             "rgb(246,188,153)"
            ],
            [
             0.9411764705882353,
             "rgb(247,212,187)"
            ],
            [
             1,
             "rgb(250,234,220)"
            ]
           ]
          },
          "colorway": [
           "rgb(76,114,176)",
           "rgb(221,132,82)",
           "rgb(85,168,104)",
           "rgb(196,78,82)",
           "rgb(129,114,179)",
           "rgb(147,120,96)",
           "rgb(218,139,195)",
           "rgb(140,140,140)",
           "rgb(204,185,116)",
           "rgb(100,181,205)"
          ],
          "font": {
           "color": "rgb(36,36,36)"
          },
          "geo": {
           "bgcolor": "white",
           "lakecolor": "white",
           "landcolor": "rgb(234,234,242)",
           "showlakes": true,
           "showland": true,
           "subunitcolor": "white"
          },
          "hoverlabel": {
           "align": "left"
          },
          "hovermode": "closest",
          "paper_bgcolor": "white",
          "plot_bgcolor": "rgb(234,234,242)",
          "polar": {
           "angularaxis": {
            "gridcolor": "white",
            "linecolor": "white",
            "showgrid": true,
            "ticks": ""
           },
           "bgcolor": "rgb(234,234,242)",
           "radialaxis": {
            "gridcolor": "white",
            "linecolor": "white",
            "showgrid": true,
            "ticks": ""
           }
          },
          "scene": {
           "xaxis": {
            "backgroundcolor": "rgb(234,234,242)",
            "gridcolor": "white",
            "gridwidth": 2,
            "linecolor": "white",
            "showbackground": true,
            "showgrid": true,
            "ticks": "",
            "zerolinecolor": "white"
           },
           "yaxis": {
            "backgroundcolor": "rgb(234,234,242)",
            "gridcolor": "white",
            "gridwidth": 2,
            "linecolor": "white",
            "showbackground": true,
            "showgrid": true,
            "ticks": "",
            "zerolinecolor": "white"
           },
           "zaxis": {
            "backgroundcolor": "rgb(234,234,242)",
            "gridcolor": "white",
            "gridwidth": 2,
            "linecolor": "white",
            "showbackground": true,
            "showgrid": true,
            "ticks": "",
            "zerolinecolor": "white"
           }
          },
          "shapedefaults": {
           "fillcolor": "rgb(67,103,167)",
           "line": {
            "width": 0
           },
           "opacity": 0.5
          },
          "ternary": {
           "aaxis": {
            "gridcolor": "white",
            "linecolor": "white",
            "showgrid": true,
            "ticks": ""
           },
           "baxis": {
            "gridcolor": "white",
            "linecolor": "white",
            "showgrid": true,
            "ticks": ""
           },
           "bgcolor": "rgb(234,234,242)",
           "caxis": {
            "gridcolor": "white",
            "linecolor": "white",
            "showgrid": true,
            "ticks": ""
           }
          },
          "xaxis": {
           "automargin": true,
           "gridcolor": "white",
           "linecolor": "white",
           "showgrid": true,
           "ticks": "",
           "title": {
            "standoff": 15
           },
           "zerolinecolor": "white"
          },
          "yaxis": {
           "automargin": true,
           "gridcolor": "white",
           "linecolor": "white",
           "showgrid": true,
           "ticks": "",
           "title": {
            "standoff": 15
           },
           "zerolinecolor": "white"
          }
         }
        },
        "title": {
         "text": "Размер выручки по времени"
        },
        "xaxis": {
         "anchor": "y",
         "domain": [
          0,
          0.475
         ],
         "showgrid": false,
         "tickangle": 45,
         "tickvals": [
          "2018-10-01T00:00:00",
          "2018-11-01T00:00:00",
          "2018-12-01T00:00:00",
          "2019-01-01T00:00:00",
          "2019-02-01T00:00:00",
          "2019-03-01T00:00:00",
          "2019-04-01T00:00:00",
          "2019-05-01T00:00:00",
          "2019-06-01T00:00:00",
          "2019-07-01T00:00:00",
          "2019-08-01T00:00:00",
          "2019-09-01T00:00:00",
          "2019-10-01T00:00:00"
         ]
        },
        "xaxis2": {
         "anchor": "y2",
         "domain": [
          0.525,
          1
         ],
         "showgrid": false,
         "tickangle": 45,
         "tickvals": [
          1,
          2,
          3,
          4,
          5,
          6,
          7,
          8,
          9,
          10,
          11,
          12,
          13,
          14,
          15,
          16,
          17,
          18,
          19,
          20,
          21,
          22,
          23,
          24,
          25,
          26,
          27,
          28,
          29,
          30,
          31
         ]
        },
        "xaxis3": {
         "anchor": "y3",
         "domain": [
          0,
          0.475
         ],
         "showgrid": false
        },
        "xaxis4": {
         "anchor": "y4",
         "domain": [
          0.525,
          1
         ],
         "showgrid": false,
         "tickangle": 45,
         "tickvals": [
          0,
          1,
          2,
          3,
          4,
          5,
          6,
          7,
          8,
          9,
          10,
          11,
          12,
          13,
          14,
          15,
          16,
          17,
          18,
          19,
          20,
          21,
          22,
          23
         ]
        },
        "yaxis": {
         "anchor": "x",
         "domain": [
          0.575,
          1
         ]
        },
        "yaxis2": {
         "anchor": "x2",
         "domain": [
          0.575,
          1
         ]
        },
        "yaxis3": {
         "anchor": "x3",
         "domain": [
          0,
          0.425
         ]
        },
        "yaxis4": {
         "anchor": "x4",
         "domain": [
          0,
          0.425
         ]
        }
       }
      }
     },
     "metadata": {},
     "output_type": "display_data"
    }
   ],
   "source": [
    "fig = plot_bar_nm(2, 2, revenue_params)\n",
    "\n",
    "fig.update_xaxes(tickangle=45, tickvals = revenue_pivot_by_month['month'], showgrid=False, row=1, col=1)\n",
    "fig.update_xaxes(tickangle=45, tickvals = revenue_pivot_by_day['day'], showgrid=False, row=1, col=2)\n",
    "fig.update_xaxes(showgrid=False, row=2, col=1)\n",
    "fig.update_xaxes(tickangle=45, tickvals = revenue_pivot_by_hour['hour'], showgrid=False, row=2, col=2)\n",
    "\n",
    "fig.update_layout(title_text='Размер выручки по времени', height=800)\n",
    "fig.show()"
   ]
  },
  {
   "cell_type": "markdown",
   "metadata": {},
   "source": [
    "- Самую большую выручку магазин сделал в последние месяцы 2018 года;\n",
    "- Во вторник выручка больше, чем в другие дни;\n",
    "- В течении суток картина аналогична количеству заказов и основная выручка делается днем."
   ]
  },
  {
   "cell_type": "markdown",
   "metadata": {},
   "source": [
    "### Средний чек по времени"
   ]
  },
  {
   "cell_type": "code",
   "execution_count": 55,
   "metadata": {},
   "outputs": [],
   "source": [
    "avg_revenue_pivot_by_month = df.pivot_table(index=['month', 'order_id'], values='revenue').groupby('month').agg({'revenue': 'mean'}).reset_index()\n",
    "avg_revenue_pivot_by_day = df.pivot_table(index=['day', 'order_id'], values='revenue').groupby('day').agg({'revenue': 'mean'}).reset_index()\n",
    "avg_revenue_pivot_by_weekday = df.pivot_table(index=['day_of_week', 'order_id'], values='revenue').groupby('day_of_week').agg({'revenue': 'mean'}).reindex(cats).reset_index()\n",
    "avg_revenue_pivot_by_hour = df.pivot_table(index=['hour', 'order_id'], values='revenue').groupby('hour').agg({'revenue': 'mean'}).reset_index()"
   ]
  },
  {
   "cell_type": "code",
   "execution_count": 56,
   "metadata": {},
   "outputs": [],
   "source": [
    "avg_revenue_params = {\n",
    "    'data1': {'df': avg_revenue_pivot_by_month, 'name': 'По месяцам', 'x': 'month', 'y': 'revenue', 'hoverinfo': 'y', 'row': 1, 'col': 1},\n",
    "    'data2': {'df': avg_revenue_pivot_by_day, 'name': 'По дням', 'x': 'day', 'y': 'revenue', 'hoverinfo': 'y', 'row': 1, 'col': 2},\n",
    "    'data3': {'df': avg_revenue_pivot_by_weekday, 'name': 'По дням недели', 'x': 'day_of_week', 'y': 'revenue', 'hoverinfo': 'y', 'row': 2, 'col': 1},\n",
    "    'data4': {'df': avg_revenue_pivot_by_hour, 'name': 'По часам', 'x': 'hour', 'y': 'revenue', 'hoverinfo': 'y', 'row': 2, 'col': 2},\n",
    "}"
   ]
  },
  {
   "cell_type": "code",
   "execution_count": 57,
   "metadata": {},
   "outputs": [
    {
     "data": {
      "application/vnd.plotly.v1+json": {
       "config": {
        "plotlyServerURL": "https://plot.ly"
       },
       "data": [
        {
         "hoverinfo": "y",
         "name": "По месяцам",
         "type": "bar",
         "x": [
          "2018-10-01T00:00:00",
          "2018-11-01T00:00:00",
          "2018-12-01T00:00:00",
          "2019-01-01T00:00:00",
          "2019-02-01T00:00:00",
          "2019-03-01T00:00:00",
          "2019-04-01T00:00:00",
          "2019-05-01T00:00:00",
          "2019-06-01T00:00:00",
          "2019-07-01T00:00:00",
          "2019-08-01T00:00:00",
          "2019-09-01T00:00:00",
          "2019-10-01T00:00:00"
         ],
         "xaxis": "x",
         "y": [
          998.3868198884969,
          1304.2068402450107,
          1182.3022581934451,
          1341.2353293413173,
          1016.6547701433515,
          931.4948139691614,
          957.47484918908,
          830.1676189983876,
          1264.8196756261862,
          1064.920922816608,
          1003.9357142857143,
          935.8931514178705,
          999.050902425268
         ],
         "yaxis": "y"
        },
        {
         "hoverinfo": "y",
         "name": "По дням",
         "type": "bar",
         "x": [
          1,
          2,
          3,
          4,
          5,
          6,
          7,
          8,
          9,
          10,
          11,
          12,
          13,
          14,
          15,
          16,
          17,
          18,
          19,
          20,
          21,
          22,
          23,
          24,
          25,
          26,
          27,
          28,
          29,
          30,
          31
         ],
         "xaxis": "x2",
         "y": [
          909.1302910052909,
          1092.3891821685938,
          769.7694567427523,
          1207.8360016677088,
          1080.329097985348,
          1390.3919413919414,
          1349.7057133838384,
          1001.4517848707741,
          938.1508631612289,
          941.5284171725617,
          1521.0147433147433,
          1170.2531746031746,
          756.979649642181,
          912.2864991894762,
          1532.2561507936507,
          992.2286473692541,
          921.8584644522144,
          871.1523223304474,
          1426.7777170868346,
          983.8608843537414,
          1290.2201895043731,
          819.4319047619048,
          1162.9324819624821,
          968.9118892532199,
          802.878041028041,
          808.7947368421053,
          889.9666286079649,
          1062.382066276803,
          1170.295286484887,
          788.0243704652155,
          991.76875
         ],
         "yaxis": "y2"
        },
        {
         "hoverinfo": "y",
         "name": "По дням недели",
         "type": "bar",
         "x": [
          "Monday",
          "Tuesday",
          "Wednesday",
          "Thursday",
          "Friday",
          "Saturday",
          "Sunday"
         ],
         "xaxis": "x3",
         "y": [
          963.7688157870116,
          1256.8410721773548,
          1031.9452565106906,
          1009.994657725789,
          1269.4856245348585,
          908.6135777954539,
          878.8854690601025
         ],
         "yaxis": "y3"
        },
        {
         "hoverinfo": "y",
         "name": "По часам",
         "type": "bar",
         "x": [
          0,
          1,
          2,
          3,
          4,
          5,
          6,
          7,
          8,
          9,
          10,
          11,
          12,
          13,
          14,
          15,
          16,
          17,
          18,
          19,
          20,
          21,
          22,
          23
         ],
         "xaxis": "x4",
         "y": [
          925.9315476190476,
          1102.5598214285715,
          1572.8035714285713,
          801.875,
          945.540404040404,
          809.2061403508771,
          1560.3257575757575,
          2091.1898989898987,
          1078.5962379442465,
          1031.8562330243453,
          848.4936181682741,
          1094.7269543648868,
          1027.3216580489939,
          1157.0871766434316,
          870.3573188608777,
          1046.4956434805642,
          1224.5228172185637,
          1111.2328927025355,
          1376.728472222222,
          1005.7987401066948,
          845.8507590132828,
          924.059529034348,
          916.9671738376417,
          598.9016666666668
         ],
         "yaxis": "y4"
        }
       ],
       "layout": {
        "height": 800,
        "template": {
         "data": {
          "bar": [
           {
            "error_x": {
             "color": "rgb(36,36,36)"
            },
            "error_y": {
             "color": "rgb(36,36,36)"
            },
            "marker": {
             "line": {
              "color": "rgb(234,234,242)",
              "width": 0.5
             },
             "pattern": {
              "fillmode": "overlay",
              "size": 10,
              "solidity": 0.2
             }
            },
            "type": "bar"
           }
          ],
          "barpolar": [
           {
            "marker": {
             "line": {
              "color": "rgb(234,234,242)",
              "width": 0.5
             },
             "pattern": {
              "fillmode": "overlay",
              "size": 10,
              "solidity": 0.2
             }
            },
            "type": "barpolar"
           }
          ],
          "carpet": [
           {
            "aaxis": {
             "endlinecolor": "rgb(36,36,36)",
             "gridcolor": "white",
             "linecolor": "white",
             "minorgridcolor": "white",
             "startlinecolor": "rgb(36,36,36)"
            },
            "baxis": {
             "endlinecolor": "rgb(36,36,36)",
             "gridcolor": "white",
             "linecolor": "white",
             "minorgridcolor": "white",
             "startlinecolor": "rgb(36,36,36)"
            },
            "type": "carpet"
           }
          ],
          "choropleth": [
           {
            "colorbar": {
             "outlinewidth": 0,
             "tickcolor": "rgb(36,36,36)",
             "ticklen": 8,
             "ticks": "outside",
             "tickwidth": 2
            },
            "type": "choropleth"
           }
          ],
          "contour": [
           {
            "colorbar": {
             "outlinewidth": 0,
             "tickcolor": "rgb(36,36,36)",
             "ticklen": 8,
             "ticks": "outside",
             "tickwidth": 2
            },
            "colorscale": [
             [
              0,
              "rgb(2,4,25)"
             ],
             [
              0.06274509803921569,
              "rgb(24,15,41)"
             ],
             [
              0.12549019607843137,
              "rgb(47,23,57)"
             ],
             [
              0.18823529411764706,
              "rgb(71,28,72)"
             ],
             [
              0.25098039215686274,
              "rgb(97,30,82)"
             ],
             [
              0.3137254901960784,
              "rgb(123,30,89)"
             ],
             [
              0.3764705882352941,
              "rgb(150,27,91)"
             ],
             [
              0.4392156862745098,
              "rgb(177,22,88)"
             ],
             [
              0.5019607843137255,
              "rgb(203,26,79)"
             ],
             [
              0.5647058823529412,
              "rgb(223,47,67)"
             ],
             [
              0.6274509803921569,
              "rgb(236,76,61)"
             ],
             [
              0.6901960784313725,
              "rgb(242,107,73)"
             ],
             [
              0.7529411764705882,
              "rgb(244,135,95)"
             ],
             [
              0.8156862745098039,
              "rgb(245,162,122)"
             ],
             [
              0.8784313725490196,
              "rgb(246,188,153)"
             ],
             [
              0.9411764705882353,
              "rgb(247,212,187)"
             ],
             [
              1,
              "rgb(250,234,220)"
             ]
            ],
            "type": "contour"
           }
          ],
          "contourcarpet": [
           {
            "colorbar": {
             "outlinewidth": 0,
             "tickcolor": "rgb(36,36,36)",
             "ticklen": 8,
             "ticks": "outside",
             "tickwidth": 2
            },
            "type": "contourcarpet"
           }
          ],
          "heatmap": [
           {
            "colorbar": {
             "outlinewidth": 0,
             "tickcolor": "rgb(36,36,36)",
             "ticklen": 8,
             "ticks": "outside",
             "tickwidth": 2
            },
            "colorscale": [
             [
              0,
              "rgb(2,4,25)"
             ],
             [
              0.06274509803921569,
              "rgb(24,15,41)"
             ],
             [
              0.12549019607843137,
              "rgb(47,23,57)"
             ],
             [
              0.18823529411764706,
              "rgb(71,28,72)"
             ],
             [
              0.25098039215686274,
              "rgb(97,30,82)"
             ],
             [
              0.3137254901960784,
              "rgb(123,30,89)"
             ],
             [
              0.3764705882352941,
              "rgb(150,27,91)"
             ],
             [
              0.4392156862745098,
              "rgb(177,22,88)"
             ],
             [
              0.5019607843137255,
              "rgb(203,26,79)"
             ],
             [
              0.5647058823529412,
              "rgb(223,47,67)"
             ],
             [
              0.6274509803921569,
              "rgb(236,76,61)"
             ],
             [
              0.6901960784313725,
              "rgb(242,107,73)"
             ],
             [
              0.7529411764705882,
              "rgb(244,135,95)"
             ],
             [
              0.8156862745098039,
              "rgb(245,162,122)"
             ],
             [
              0.8784313725490196,
              "rgb(246,188,153)"
             ],
             [
              0.9411764705882353,
              "rgb(247,212,187)"
             ],
             [
              1,
              "rgb(250,234,220)"
             ]
            ],
            "type": "heatmap"
           }
          ],
          "heatmapgl": [
           {
            "colorbar": {
             "outlinewidth": 0,
             "tickcolor": "rgb(36,36,36)",
             "ticklen": 8,
             "ticks": "outside",
             "tickwidth": 2
            },
            "colorscale": [
             [
              0,
              "rgb(2,4,25)"
             ],
             [
              0.06274509803921569,
              "rgb(24,15,41)"
             ],
             [
              0.12549019607843137,
              "rgb(47,23,57)"
             ],
             [
              0.18823529411764706,
              "rgb(71,28,72)"
             ],
             [
              0.25098039215686274,
              "rgb(97,30,82)"
             ],
             [
              0.3137254901960784,
              "rgb(123,30,89)"
             ],
             [
              0.3764705882352941,
              "rgb(150,27,91)"
             ],
             [
              0.4392156862745098,
              "rgb(177,22,88)"
             ],
             [
              0.5019607843137255,
              "rgb(203,26,79)"
             ],
             [
              0.5647058823529412,
              "rgb(223,47,67)"
             ],
             [
              0.6274509803921569,
              "rgb(236,76,61)"
             ],
             [
              0.6901960784313725,
              "rgb(242,107,73)"
             ],
             [
              0.7529411764705882,
              "rgb(244,135,95)"
             ],
             [
              0.8156862745098039,
              "rgb(245,162,122)"
             ],
             [
              0.8784313725490196,
              "rgb(246,188,153)"
             ],
             [
              0.9411764705882353,
              "rgb(247,212,187)"
             ],
             [
              1,
              "rgb(250,234,220)"
             ]
            ],
            "type": "heatmapgl"
           }
          ],
          "histogram": [
           {
            "marker": {
             "pattern": {
              "fillmode": "overlay",
              "size": 10,
              "solidity": 0.2
             }
            },
            "type": "histogram"
           }
          ],
          "histogram2d": [
           {
            "colorbar": {
             "outlinewidth": 0,
             "tickcolor": "rgb(36,36,36)",
             "ticklen": 8,
             "ticks": "outside",
             "tickwidth": 2
            },
            "colorscale": [
             [
              0,
              "rgb(2,4,25)"
             ],
             [
              0.06274509803921569,
              "rgb(24,15,41)"
             ],
             [
              0.12549019607843137,
              "rgb(47,23,57)"
             ],
             [
              0.18823529411764706,
              "rgb(71,28,72)"
             ],
             [
              0.25098039215686274,
              "rgb(97,30,82)"
             ],
             [
              0.3137254901960784,
              "rgb(123,30,89)"
             ],
             [
              0.3764705882352941,
              "rgb(150,27,91)"
             ],
             [
              0.4392156862745098,
              "rgb(177,22,88)"
             ],
             [
              0.5019607843137255,
              "rgb(203,26,79)"
             ],
             [
              0.5647058823529412,
              "rgb(223,47,67)"
             ],
             [
              0.6274509803921569,
              "rgb(236,76,61)"
             ],
             [
              0.6901960784313725,
              "rgb(242,107,73)"
             ],
             [
              0.7529411764705882,
              "rgb(244,135,95)"
             ],
             [
              0.8156862745098039,
              "rgb(245,162,122)"
             ],
             [
              0.8784313725490196,
              "rgb(246,188,153)"
             ],
             [
              0.9411764705882353,
              "rgb(247,212,187)"
             ],
             [
              1,
              "rgb(250,234,220)"
             ]
            ],
            "type": "histogram2d"
           }
          ],
          "histogram2dcontour": [
           {
            "colorbar": {
             "outlinewidth": 0,
             "tickcolor": "rgb(36,36,36)",
             "ticklen": 8,
             "ticks": "outside",
             "tickwidth": 2
            },
            "colorscale": [
             [
              0,
              "rgb(2,4,25)"
             ],
             [
              0.06274509803921569,
              "rgb(24,15,41)"
             ],
             [
              0.12549019607843137,
              "rgb(47,23,57)"
             ],
             [
              0.18823529411764706,
              "rgb(71,28,72)"
             ],
             [
              0.25098039215686274,
              "rgb(97,30,82)"
             ],
             [
              0.3137254901960784,
              "rgb(123,30,89)"
             ],
             [
              0.3764705882352941,
              "rgb(150,27,91)"
             ],
             [
              0.4392156862745098,
              "rgb(177,22,88)"
             ],
             [
              0.5019607843137255,
              "rgb(203,26,79)"
             ],
             [
              0.5647058823529412,
              "rgb(223,47,67)"
             ],
             [
              0.6274509803921569,
              "rgb(236,76,61)"
             ],
             [
              0.6901960784313725,
              "rgb(242,107,73)"
             ],
             [
              0.7529411764705882,
              "rgb(244,135,95)"
             ],
             [
              0.8156862745098039,
              "rgb(245,162,122)"
             ],
             [
              0.8784313725490196,
              "rgb(246,188,153)"
             ],
             [
              0.9411764705882353,
              "rgb(247,212,187)"
             ],
             [
              1,
              "rgb(250,234,220)"
             ]
            ],
            "type": "histogram2dcontour"
           }
          ],
          "mesh3d": [
           {
            "colorbar": {
             "outlinewidth": 0,
             "tickcolor": "rgb(36,36,36)",
             "ticklen": 8,
             "ticks": "outside",
             "tickwidth": 2
            },
            "type": "mesh3d"
           }
          ],
          "parcoords": [
           {
            "line": {
             "colorbar": {
              "outlinewidth": 0,
              "tickcolor": "rgb(36,36,36)",
              "ticklen": 8,
              "ticks": "outside",
              "tickwidth": 2
             }
            },
            "type": "parcoords"
           }
          ],
          "pie": [
           {
            "automargin": true,
            "type": "pie"
           }
          ],
          "scatter": [
           {
            "fillpattern": {
             "fillmode": "overlay",
             "size": 10,
             "solidity": 0.2
            },
            "type": "scatter"
           }
          ],
          "scatter3d": [
           {
            "line": {
             "colorbar": {
              "outlinewidth": 0,
              "tickcolor": "rgb(36,36,36)",
              "ticklen": 8,
              "ticks": "outside",
              "tickwidth": 2
             }
            },
            "marker": {
             "colorbar": {
              "outlinewidth": 0,
              "tickcolor": "rgb(36,36,36)",
              "ticklen": 8,
              "ticks": "outside",
              "tickwidth": 2
             }
            },
            "type": "scatter3d"
           }
          ],
          "scattercarpet": [
           {
            "marker": {
             "colorbar": {
              "outlinewidth": 0,
              "tickcolor": "rgb(36,36,36)",
              "ticklen": 8,
              "ticks": "outside",
              "tickwidth": 2
             }
            },
            "type": "scattercarpet"
           }
          ],
          "scattergeo": [
           {
            "marker": {
             "colorbar": {
              "outlinewidth": 0,
              "tickcolor": "rgb(36,36,36)",
              "ticklen": 8,
              "ticks": "outside",
              "tickwidth": 2
             }
            },
            "type": "scattergeo"
           }
          ],
          "scattergl": [
           {
            "marker": {
             "colorbar": {
              "outlinewidth": 0,
              "tickcolor": "rgb(36,36,36)",
              "ticklen": 8,
              "ticks": "outside",
              "tickwidth": 2
             }
            },
            "type": "scattergl"
           }
          ],
          "scattermapbox": [
           {
            "marker": {
             "colorbar": {
              "outlinewidth": 0,
              "tickcolor": "rgb(36,36,36)",
              "ticklen": 8,
              "ticks": "outside",
              "tickwidth": 2
             }
            },
            "type": "scattermapbox"
           }
          ],
          "scatterpolar": [
           {
            "marker": {
             "colorbar": {
              "outlinewidth": 0,
              "tickcolor": "rgb(36,36,36)",
              "ticklen": 8,
              "ticks": "outside",
              "tickwidth": 2
             }
            },
            "type": "scatterpolar"
           }
          ],
          "scatterpolargl": [
           {
            "marker": {
             "colorbar": {
              "outlinewidth": 0,
              "tickcolor": "rgb(36,36,36)",
              "ticklen": 8,
              "ticks": "outside",
              "tickwidth": 2
             }
            },
            "type": "scatterpolargl"
           }
          ],
          "scatterternary": [
           {
            "marker": {
             "colorbar": {
              "outlinewidth": 0,
              "tickcolor": "rgb(36,36,36)",
              "ticklen": 8,
              "ticks": "outside",
              "tickwidth": 2
             }
            },
            "type": "scatterternary"
           }
          ],
          "surface": [
           {
            "colorbar": {
             "outlinewidth": 0,
             "tickcolor": "rgb(36,36,36)",
             "ticklen": 8,
             "ticks": "outside",
             "tickwidth": 2
            },
            "colorscale": [
             [
              0,
              "rgb(2,4,25)"
             ],
             [
              0.06274509803921569,
              "rgb(24,15,41)"
             ],
             [
              0.12549019607843137,
              "rgb(47,23,57)"
             ],
             [
              0.18823529411764706,
              "rgb(71,28,72)"
             ],
             [
              0.25098039215686274,
              "rgb(97,30,82)"
             ],
             [
              0.3137254901960784,
              "rgb(123,30,89)"
             ],
             [
              0.3764705882352941,
              "rgb(150,27,91)"
             ],
             [
              0.4392156862745098,
              "rgb(177,22,88)"
             ],
             [
              0.5019607843137255,
              "rgb(203,26,79)"
             ],
             [
              0.5647058823529412,
              "rgb(223,47,67)"
             ],
             [
              0.6274509803921569,
              "rgb(236,76,61)"
             ],
             [
              0.6901960784313725,
              "rgb(242,107,73)"
             ],
             [
              0.7529411764705882,
              "rgb(244,135,95)"
             ],
             [
              0.8156862745098039,
              "rgb(245,162,122)"
             ],
             [
              0.8784313725490196,
              "rgb(246,188,153)"
             ],
             [
              0.9411764705882353,
              "rgb(247,212,187)"
             ],
             [
              1,
              "rgb(250,234,220)"
             ]
            ],
            "type": "surface"
           }
          ],
          "table": [
           {
            "cells": {
             "fill": {
              "color": "rgb(231,231,240)"
             },
             "line": {
              "color": "white"
             }
            },
            "header": {
             "fill": {
              "color": "rgb(183,183,191)"
             },
             "line": {
              "color": "white"
             }
            },
            "type": "table"
           }
          ]
         },
         "layout": {
          "annotationdefaults": {
           "arrowcolor": "rgb(67,103,167)"
          },
          "autotypenumbers": "strict",
          "coloraxis": {
           "colorbar": {
            "outlinewidth": 0,
            "tickcolor": "rgb(36,36,36)",
            "ticklen": 8,
            "ticks": "outside",
            "tickwidth": 2
           }
          },
          "colorscale": {
           "sequential": [
            [
             0,
             "rgb(2,4,25)"
            ],
            [
             0.06274509803921569,
             "rgb(24,15,41)"
            ],
            [
             0.12549019607843137,
             "rgb(47,23,57)"
            ],
            [
             0.18823529411764706,
             "rgb(71,28,72)"
            ],
            [
             0.25098039215686274,
             "rgb(97,30,82)"
            ],
            [
             0.3137254901960784,
             "rgb(123,30,89)"
            ],
            [
             0.3764705882352941,
             "rgb(150,27,91)"
            ],
            [
             0.4392156862745098,
             "rgb(177,22,88)"
            ],
            [
             0.5019607843137255,
             "rgb(203,26,79)"
            ],
            [
             0.5647058823529412,
             "rgb(223,47,67)"
            ],
            [
             0.6274509803921569,
             "rgb(236,76,61)"
            ],
            [
             0.6901960784313725,
             "rgb(242,107,73)"
            ],
            [
             0.7529411764705882,
             "rgb(244,135,95)"
            ],
            [
             0.8156862745098039,
             "rgb(245,162,122)"
            ],
            [
             0.8784313725490196,
             "rgb(246,188,153)"
            ],
            [
             0.9411764705882353,
             "rgb(247,212,187)"
            ],
            [
             1,
             "rgb(250,234,220)"
            ]
           ],
           "sequentialminus": [
            [
             0,
             "rgb(2,4,25)"
            ],
            [
             0.06274509803921569,
             "rgb(24,15,41)"
            ],
            [
             0.12549019607843137,
             "rgb(47,23,57)"
            ],
            [
             0.18823529411764706,
             "rgb(71,28,72)"
            ],
            [
             0.25098039215686274,
             "rgb(97,30,82)"
            ],
            [
             0.3137254901960784,
             "rgb(123,30,89)"
            ],
            [
             0.3764705882352941,
             "rgb(150,27,91)"
            ],
            [
             0.4392156862745098,
             "rgb(177,22,88)"
            ],
            [
             0.5019607843137255,
             "rgb(203,26,79)"
            ],
            [
             0.5647058823529412,
             "rgb(223,47,67)"
            ],
            [
             0.6274509803921569,
             "rgb(236,76,61)"
            ],
            [
             0.6901960784313725,
             "rgb(242,107,73)"
            ],
            [
             0.7529411764705882,
             "rgb(244,135,95)"
            ],
            [
             0.8156862745098039,
             "rgb(245,162,122)"
            ],
            [
             0.8784313725490196,
             "rgb(246,188,153)"
            ],
            [
             0.9411764705882353,
             "rgb(247,212,187)"
            ],
            [
             1,
             "rgb(250,234,220)"
            ]
           ]
          },
          "colorway": [
           "rgb(76,114,176)",
           "rgb(221,132,82)",
           "rgb(85,168,104)",
           "rgb(196,78,82)",
           "rgb(129,114,179)",
           "rgb(147,120,96)",
           "rgb(218,139,195)",
           "rgb(140,140,140)",
           "rgb(204,185,116)",
           "rgb(100,181,205)"
          ],
          "font": {
           "color": "rgb(36,36,36)"
          },
          "geo": {
           "bgcolor": "white",
           "lakecolor": "white",
           "landcolor": "rgb(234,234,242)",
           "showlakes": true,
           "showland": true,
           "subunitcolor": "white"
          },
          "hoverlabel": {
           "align": "left"
          },
          "hovermode": "closest",
          "paper_bgcolor": "white",
          "plot_bgcolor": "rgb(234,234,242)",
          "polar": {
           "angularaxis": {
            "gridcolor": "white",
            "linecolor": "white",
            "showgrid": true,
            "ticks": ""
           },
           "bgcolor": "rgb(234,234,242)",
           "radialaxis": {
            "gridcolor": "white",
            "linecolor": "white",
            "showgrid": true,
            "ticks": ""
           }
          },
          "scene": {
           "xaxis": {
            "backgroundcolor": "rgb(234,234,242)",
            "gridcolor": "white",
            "gridwidth": 2,
            "linecolor": "white",
            "showbackground": true,
            "showgrid": true,
            "ticks": "",
            "zerolinecolor": "white"
           },
           "yaxis": {
            "backgroundcolor": "rgb(234,234,242)",
            "gridcolor": "white",
            "gridwidth": 2,
            "linecolor": "white",
            "showbackground": true,
            "showgrid": true,
            "ticks": "",
            "zerolinecolor": "white"
           },
           "zaxis": {
            "backgroundcolor": "rgb(234,234,242)",
            "gridcolor": "white",
            "gridwidth": 2,
            "linecolor": "white",
            "showbackground": true,
            "showgrid": true,
            "ticks": "",
            "zerolinecolor": "white"
           }
          },
          "shapedefaults": {
           "fillcolor": "rgb(67,103,167)",
           "line": {
            "width": 0
           },
           "opacity": 0.5
          },
          "ternary": {
           "aaxis": {
            "gridcolor": "white",
            "linecolor": "white",
            "showgrid": true,
            "ticks": ""
           },
           "baxis": {
            "gridcolor": "white",
            "linecolor": "white",
            "showgrid": true,
            "ticks": ""
           },
           "bgcolor": "rgb(234,234,242)",
           "caxis": {
            "gridcolor": "white",
            "linecolor": "white",
            "showgrid": true,
            "ticks": ""
           }
          },
          "xaxis": {
           "automargin": true,
           "gridcolor": "white",
           "linecolor": "white",
           "showgrid": true,
           "ticks": "",
           "title": {
            "standoff": 15
           },
           "zerolinecolor": "white"
          },
          "yaxis": {
           "automargin": true,
           "gridcolor": "white",
           "linecolor": "white",
           "showgrid": true,
           "ticks": "",
           "title": {
            "standoff": 15
           },
           "zerolinecolor": "white"
          }
         }
        },
        "title": {
         "text": "Средний чек по времени"
        },
        "xaxis": {
         "anchor": "y",
         "domain": [
          0,
          0.475
         ],
         "showgrid": false,
         "tickangle": 45,
         "tickvals": [
          "2018-10-01T00:00:00",
          "2018-11-01T00:00:00",
          "2018-12-01T00:00:00",
          "2019-01-01T00:00:00",
          "2019-02-01T00:00:00",
          "2019-03-01T00:00:00",
          "2019-04-01T00:00:00",
          "2019-05-01T00:00:00",
          "2019-06-01T00:00:00",
          "2019-07-01T00:00:00",
          "2019-08-01T00:00:00",
          "2019-09-01T00:00:00",
          "2019-10-01T00:00:00"
         ]
        },
        "xaxis2": {
         "anchor": "y2",
         "domain": [
          0.525,
          1
         ],
         "showgrid": false,
         "tickangle": 45,
         "tickvals": [
          1,
          2,
          3,
          4,
          5,
          6,
          7,
          8,
          9,
          10,
          11,
          12,
          13,
          14,
          15,
          16,
          17,
          18,
          19,
          20,
          21,
          22,
          23,
          24,
          25,
          26,
          27,
          28,
          29,
          30,
          31
         ]
        },
        "xaxis3": {
         "anchor": "y3",
         "domain": [
          0,
          0.475
         ],
         "showgrid": false
        },
        "xaxis4": {
         "anchor": "y4",
         "domain": [
          0.525,
          1
         ],
         "showgrid": false,
         "tickangle": 45,
         "tickvals": [
          0,
          1,
          2,
          3,
          4,
          5,
          6,
          7,
          8,
          9,
          10,
          11,
          12,
          13,
          14,
          15,
          16,
          17,
          18,
          19,
          20,
          21,
          22,
          23
         ]
        },
        "yaxis": {
         "anchor": "x",
         "domain": [
          0.575,
          1
         ]
        },
        "yaxis2": {
         "anchor": "x2",
         "domain": [
          0.575,
          1
         ]
        },
        "yaxis3": {
         "anchor": "x3",
         "domain": [
          0,
          0.425
         ]
        },
        "yaxis4": {
         "anchor": "x4",
         "domain": [
          0,
          0.425
         ]
        }
       }
      }
     },
     "metadata": {},
     "output_type": "display_data"
    }
   ],
   "source": [
    "fig = plot_bar_nm(2, 2, avg_revenue_params)\n",
    "\n",
    "fig.update_xaxes(tickangle=45, tickvals = avg_revenue_pivot_by_month['month'], showgrid=False, row=1, col=1)\n",
    "fig.update_xaxes(tickangle=45, tickvals = avg_revenue_pivot_by_day['day'], showgrid=False, row=1, col=2)\n",
    "fig.update_xaxes(showgrid=False, row=2, col=1)\n",
    "fig.update_xaxes(tickangle=45, tickvals = avg_revenue_pivot_by_hour['hour'], showgrid=False, row=2, col=2)\n",
    "\n",
    "fig.update_layout(title_text='Средний чек по времени', height=800)\n",
    "fig.show()"
   ]
  },
  {
   "cell_type": "markdown",
   "metadata": {},
   "source": [
    "- В весенние месяцы покупатели в среднем делают более дешевые покупки;\n",
    "- Самый выгодный месяц январь, скорее всего связано с большим количеством выходных дней;\n",
    "- Средний чек во вторник и пятницу больше чем в остальные дни;\n",
    "- В 7 утра самый большой чек, возможно это юр.лица закупаются перед началом рабочего дня."
   ]
  },
  {
   "cell_type": "markdown",
   "metadata": {},
   "source": [
    "### Исследование товарного ассортимента"
   ]
  },
  {
   "cell_type": "markdown",
   "metadata": {},
   "source": [
    "**Топ-10 по количеству проданных товаров:**"
   ]
  },
  {
   "cell_type": "code",
   "execution_count": 58,
   "metadata": {},
   "outputs": [],
   "source": [
    "product_quantity = df.groupby('product').agg({'quantity': 'sum', 'revenue': 'sum', 'category': 'first'}).sort_values(by='quantity', ascending=False)"
   ]
  },
  {
   "cell_type": "code",
   "execution_count": 59,
   "metadata": {},
   "outputs": [
    {
     "data": {
      "text/html": [
       "<div>\n",
       "<style scoped>\n",
       "    .dataframe tbody tr th:only-of-type {\n",
       "        vertical-align: middle;\n",
       "    }\n",
       "\n",
       "    .dataframe tbody tr th {\n",
       "        vertical-align: top;\n",
       "    }\n",
       "\n",
       "    .dataframe thead th {\n",
       "        text-align: right;\n",
       "    }\n",
       "</style>\n",
       "<table border=\"1\" class=\"dataframe\">\n",
       "  <thead>\n",
       "    <tr style=\"text-align: right;\">\n",
       "      <th></th>\n",
       "      <th>quantity</th>\n",
       "      <th>revenue</th>\n",
       "      <th>category</th>\n",
       "    </tr>\n",
       "    <tr>\n",
       "      <th>product</th>\n",
       "      <th></th>\n",
       "      <th></th>\n",
       "      <th></th>\n",
       "    </tr>\n",
       "  </thead>\n",
       "  <tbody>\n",
       "    <tr>\n",
       "      <th>Муляж ЯБЛОКО 9 см красное</th>\n",
       "      <td>618</td>\n",
       "      <td>32702</td>\n",
       "      <td>Интереьер</td>\n",
       "    </tr>\n",
       "    <tr>\n",
       "      <th>Вешалки мягкие для деликатных вещей 3 шт шоколад</th>\n",
       "      <td>335</td>\n",
       "      <td>49596</td>\n",
       "      <td>Товары для дома</td>\n",
       "    </tr>\n",
       "    <tr>\n",
       "      <th>Муляж Яблоко зеленый 9 см полиуретан</th>\n",
       "      <td>188</td>\n",
       "      <td>10492</td>\n",
       "      <td>Интереьер</td>\n",
       "    </tr>\n",
       "    <tr>\n",
       "      <th>Крепеж для пружины дверной, 1107055</th>\n",
       "      <td>170</td>\n",
       "      <td>3290</td>\n",
       "      <td>Все для ремонта</td>\n",
       "    </tr>\n",
       "    <tr>\n",
       "      <th>Плечики пластмассовые Размер 52 - 54 Тула 1205158</th>\n",
       "      <td>160</td>\n",
       "      <td>3210</td>\n",
       "      <td>Товары для дома</td>\n",
       "    </tr>\n",
       "    <tr>\n",
       "      <th>Муляж Банан желтый 21 см полиуретан</th>\n",
       "      <td>109</td>\n",
       "      <td>5831</td>\n",
       "      <td>Интереьер</td>\n",
       "    </tr>\n",
       "    <tr>\n",
       "      <th>Щетка-сметка 4-х рядная деревянная 300 мм (фигурная ручка) ворс 5,5 см 1801096</th>\n",
       "      <td>105</td>\n",
       "      <td>6810</td>\n",
       "      <td>Все для уборки</td>\n",
       "    </tr>\n",
       "    <tr>\n",
       "      <th>Ёрш унитазный с деревянной ручкой , Ваир 1712012</th>\n",
       "      <td>103</td>\n",
       "      <td>5633</td>\n",
       "      <td>Все для уборки</td>\n",
       "    </tr>\n",
       "    <tr>\n",
       "      <th>Стяжка оконная с болтом СТ-55 цинк, 1108354</th>\n",
       "      <td>100</td>\n",
       "      <td>1944</td>\n",
       "      <td>Все для ремонта</td>\n",
       "    </tr>\n",
       "    <tr>\n",
       "      <th>Цветок искусственный Гвоздика пластиковая одиночная в ассортименте 50 см</th>\n",
       "      <td>96</td>\n",
       "      <td>2007</td>\n",
       "      <td>Сад и огород</td>\n",
       "    </tr>\n",
       "  </tbody>\n",
       "</table>\n",
       "</div>"
      ],
      "text/plain": [
       "                                                                                quantity  \\\n",
       "product                                                                                    \n",
       "Муляж ЯБЛОКО 9 см красное                                                            618   \n",
       "Вешалки мягкие для деликатных вещей 3 шт шоколад                                     335   \n",
       "Муляж Яблоко зеленый 9 см полиуретан                                                 188   \n",
       "Крепеж для пружины дверной, 1107055                                                  170   \n",
       "Плечики пластмассовые Размер 52 - 54 Тула 1205158                                    160   \n",
       "Муляж Банан желтый 21 см полиуретан                                                  109   \n",
       "Щетка-сметка 4-х рядная деревянная 300 мм (фигурная ручка) ворс 5,5 см 1801096       105   \n",
       "Ёрш унитазный с деревянной ручкой , Ваир 1712012                                     103   \n",
       "Стяжка оконная с болтом СТ-55 цинк, 1108354                                          100   \n",
       "Цветок искусственный Гвоздика пластиковая одиночная в ассортименте 50 см              96   \n",
       "\n",
       "                                                                                revenue  \\\n",
       "product                                                                                   \n",
       "Муляж ЯБЛОКО 9 см красное                                                         32702   \n",
       "Вешалки мягкие для деликатных вещей 3 шт шоколад                                  49596   \n",
       "Муляж Яблоко зеленый 9 см полиуретан                                              10492   \n",
       "Крепеж для пружины дверной, 1107055                                                3290   \n",
       "Плечики пластмассовые Размер 52 - 54 Тула 1205158                                  3210   \n",
       "Муляж Банан желтый 21 см полиуретан                                                5831   \n",
       "Щетка-сметка 4-х рядная деревянная 300 мм (фигурная ручка) ворс 5,5 см 1801096     6810   \n",
       "Ёрш унитазный с деревянной ручкой , Ваир 1712012                                   5633   \n",
       "Стяжка оконная с болтом СТ-55 цинк, 1108354                                        1944   \n",
       "Цветок искусственный Гвоздика пластиковая одиночная в ассортименте 50 см           2007   \n",
       "\n",
       "                                                                                       category  \n",
       "product                                                                                          \n",
       "Муляж ЯБЛОКО 9 см красное                                                             Интереьер  \n",
       "Вешалки мягкие для деликатных вещей 3 шт шоколад                                Товары для дома  \n",
       "Муляж Яблоко зеленый 9 см полиуретан                                                  Интереьер  \n",
       "Крепеж для пружины дверной, 1107055                                             Все для ремонта  \n",
       "Плечики пластмассовые Размер 52 - 54 Тула 1205158                               Товары для дома  \n",
       "Муляж Банан желтый 21 см полиуретан                                                   Интереьер  \n",
       "Щетка-сметка 4-х рядная деревянная 300 мм (фигурная ручка) ворс 5,5 см 1801096   Все для уборки  \n",
       "Ёрш унитазный с деревянной ручкой , Ваир 1712012                                 Все для уборки  \n",
       "Стяжка оконная с болтом СТ-55 цинк, 1108354                                     Все для ремонта  \n",
       "Цветок искусственный Гвоздика пластиковая одиночная в ассортименте 50 см           Сад и огород  "
      ]
     },
     "execution_count": 59,
     "metadata": {},
     "output_type": "execute_result"
    }
   ],
   "source": [
    "product_quantity.head(10)"
   ]
  },
  {
   "cell_type": "markdown",
   "metadata": {},
   "source": [
    "*Самый продаваемый товар \"Муляж ЯБЛОКО 9 см красное\"*"
   ]
  },
  {
   "cell_type": "markdown",
   "metadata": {},
   "source": [
    "**Худшие 10 товаров по продажам:**"
   ]
  },
  {
   "cell_type": "code",
   "execution_count": 60,
   "metadata": {},
   "outputs": [
    {
     "data": {
      "text/html": [
       "<div>\n",
       "<style scoped>\n",
       "    .dataframe tbody tr th:only-of-type {\n",
       "        vertical-align: middle;\n",
       "    }\n",
       "\n",
       "    .dataframe tbody tr th {\n",
       "        vertical-align: top;\n",
       "    }\n",
       "\n",
       "    .dataframe thead th {\n",
       "        text-align: right;\n",
       "    }\n",
       "</style>\n",
       "<table border=\"1\" class=\"dataframe\">\n",
       "  <thead>\n",
       "    <tr style=\"text-align: right;\">\n",
       "      <th></th>\n",
       "      <th>quantity</th>\n",
       "      <th>revenue</th>\n",
       "      <th>category</th>\n",
       "    </tr>\n",
       "    <tr>\n",
       "      <th>product</th>\n",
       "      <th></th>\n",
       "      <th></th>\n",
       "      <th></th>\n",
       "    </tr>\n",
       "  </thead>\n",
       "  <tbody>\n",
       "    <tr>\n",
       "      <th>Скатерть 350х150 см WELLNESS MT355-Джулия*16 36% полиэстер 64% хлопок</th>\n",
       "      <td>1</td>\n",
       "      <td>2249</td>\n",
       "      <td>Кухонные принадлежности</td>\n",
       "    </tr>\n",
       "    <tr>\n",
       "      <th>Корзина для белья INFINITY CURVER 59 л белая 04754-N23-00</th>\n",
       "      <td>1</td>\n",
       "      <td>1087</td>\n",
       "      <td>Товары для дома</td>\n",
       "    </tr>\n",
       "    <tr>\n",
       "      <th>Скатерть 150х120 см WELLNESS WT125-Куэна 100% полиэстер</th>\n",
       "      <td>1</td>\n",
       "      <td>764</td>\n",
       "      <td>Кухонные принадлежности</td>\n",
       "    </tr>\n",
       "    <tr>\n",
       "      <th>Скалка силиконовая, Lekue, 0200800M02U050</th>\n",
       "      <td>1</td>\n",
       "      <td>1312</td>\n",
       "      <td>Кухонные принадлежности</td>\n",
       "    </tr>\n",
       "    <tr>\n",
       "      <th>Сито WEBBER из нержавеющей стали d = 21 см с пластиковой ручкой ВЕ-7335</th>\n",
       "      <td>1</td>\n",
       "      <td>194</td>\n",
       "      <td>Кухонные принадлежности</td>\n",
       "    </tr>\n",
       "    <tr>\n",
       "      <th>Синнингия (глоксиния) фиолетовая d-12 см h-20</th>\n",
       "      <td>1</td>\n",
       "      <td>389</td>\n",
       "      <td>Сад и огород</td>\n",
       "    </tr>\n",
       "    <tr>\n",
       "      <th>Сиденье для унитаза Росспласт АЖУР белое РП-813</th>\n",
       "      <td>1</td>\n",
       "      <td>374</td>\n",
       "      <td>Товары для дома</td>\n",
       "    </tr>\n",
       "    <tr>\n",
       "      <th>Сиденье для гладильной доски Leifheit Niveau, 71325</th>\n",
       "      <td>1</td>\n",
       "      <td>6149</td>\n",
       "      <td>Товары для дома</td>\n",
       "    </tr>\n",
       "    <tr>\n",
       "      <th>Сиденье для ванны пластмассовое М1552 1714003</th>\n",
       "      <td>1</td>\n",
       "      <td>517</td>\n",
       "      <td>Товары для дома</td>\n",
       "    </tr>\n",
       "    <tr>\n",
       "      <th>Tepмокружка AVEX Freeflow 700 мл зеленый AVEX0759</th>\n",
       "      <td>1</td>\n",
       "      <td>2399</td>\n",
       "      <td>Кухонные принадлежности</td>\n",
       "    </tr>\n",
       "  </tbody>\n",
       "</table>\n",
       "</div>"
      ],
      "text/plain": [
       "                                                                         quantity  \\\n",
       "product                                                                             \n",
       "Скатерть 350х150 см WELLNESS MT355-Джулия*16 36% полиэстер 64% хлопок           1   \n",
       "Корзина для белья INFINITY CURVER 59 л белая 04754-N23-00                       1   \n",
       "Скатерть 150х120 см WELLNESS WT125-Куэна 100% полиэстер                         1   \n",
       "Скалка силиконовая, Lekue, 0200800M02U050                                       1   \n",
       "Сито WEBBER из нержавеющей стали d = 21 см с пластиковой ручкой ВЕ-7335         1   \n",
       "Синнингия (глоксиния) фиолетовая d-12 см h-20                                   1   \n",
       "Сиденье для унитаза Росспласт АЖУР белое РП-813                                 1   \n",
       "Сиденье для гладильной доски Leifheit Niveau, 71325                             1   \n",
       "Сиденье для ванны пластмассовое М1552 1714003                                   1   \n",
       "Tepмокружка AVEX Freeflow 700 мл зеленый AVEX0759                               1   \n",
       "\n",
       "                                                                         revenue  \\\n",
       "product                                                                            \n",
       "Скатерть 350х150 см WELLNESS MT355-Джулия*16 36% полиэстер 64% хлопок       2249   \n",
       "Корзина для белья INFINITY CURVER 59 л белая 04754-N23-00                   1087   \n",
       "Скатерть 150х120 см WELLNESS WT125-Куэна 100% полиэстер                      764   \n",
       "Скалка силиконовая, Lekue, 0200800M02U050                                   1312   \n",
       "Сито WEBBER из нержавеющей стали d = 21 см с пластиковой ручкой ВЕ-7335      194   \n",
       "Синнингия (глоксиния) фиолетовая d-12 см h-20                                389   \n",
       "Сиденье для унитаза Росспласт АЖУР белое РП-813                              374   \n",
       "Сиденье для гладильной доски Leifheit Niveau, 71325                         6149   \n",
       "Сиденье для ванны пластмассовое М1552 1714003                                517   \n",
       "Tepмокружка AVEX Freeflow 700 мл зеленый AVEX0759                           2399   \n",
       "\n",
       "                                                                                        category  \n",
       "product                                                                                           \n",
       "Скатерть 350х150 см WELLNESS MT355-Джулия*16 36% полиэстер 64% хлопок    Кухонные принадлежности  \n",
       "Корзина для белья INFINITY CURVER 59 л белая 04754-N23-00                        Товары для дома  \n",
       "Скатерть 150х120 см WELLNESS WT125-Куэна 100% полиэстер                  Кухонные принадлежности  \n",
       "Скалка силиконовая, Lekue, 0200800M02U050                                Кухонные принадлежности  \n",
       "Сито WEBBER из нержавеющей стали d = 21 см с пластиковой ручкой ВЕ-7335  Кухонные принадлежности  \n",
       "Синнингия (глоксиния) фиолетовая d-12 см h-20                                       Сад и огород  \n",
       "Сиденье для унитаза Росспласт АЖУР белое РП-813                                  Товары для дома  \n",
       "Сиденье для гладильной доски Leifheit Niveau, 71325                              Товары для дома  \n",
       "Сиденье для ванны пластмассовое М1552 1714003                                    Товары для дома  \n",
       "Tepмокружка AVEX Freeflow 700 мл зеленый AVEX0759                        Кухонные принадлежности  "
      ]
     },
     "execution_count": 60,
     "metadata": {},
     "output_type": "execute_result"
    }
   ],
   "source": [
    "product_quantity.tail(10)"
   ]
  },
  {
   "cell_type": "markdown",
   "metadata": {},
   "source": [
    "*Дорогая термокружк не пользуется популярностью.*"
   ]
  },
  {
   "cell_type": "markdown",
   "metadata": {},
   "source": [
    "**Топ-10 товаров по выручке:**"
   ]
  },
  {
   "cell_type": "code",
   "execution_count": 61,
   "metadata": {},
   "outputs": [],
   "source": [
    "product_revenue = df.groupby('product').agg({'quantity': 'sum', 'revenue': 'sum', 'category': 'first'}).sort_values(by='revenue', ascending=False)"
   ]
  },
  {
   "cell_type": "code",
   "execution_count": 62,
   "metadata": {},
   "outputs": [
    {
     "data": {
      "text/html": [
       "<div>\n",
       "<style scoped>\n",
       "    .dataframe tbody tr th:only-of-type {\n",
       "        vertical-align: middle;\n",
       "    }\n",
       "\n",
       "    .dataframe tbody tr th {\n",
       "        vertical-align: top;\n",
       "    }\n",
       "\n",
       "    .dataframe thead th {\n",
       "        text-align: right;\n",
       "    }\n",
       "</style>\n",
       "<table border=\"1\" class=\"dataframe\">\n",
       "  <thead>\n",
       "    <tr style=\"text-align: right;\">\n",
       "      <th></th>\n",
       "      <th>quantity</th>\n",
       "      <th>revenue</th>\n",
       "      <th>category</th>\n",
       "    </tr>\n",
       "    <tr>\n",
       "      <th>product</th>\n",
       "      <th></th>\n",
       "      <th></th>\n",
       "      <th></th>\n",
       "    </tr>\n",
       "  </thead>\n",
       "  <tbody>\n",
       "    <tr>\n",
       "      <th>Простынь вафельная 200х180 см WELLNESS RW180-01 100% хлопок</th>\n",
       "      <td>30</td>\n",
       "      <td>53232</td>\n",
       "      <td>Товары для дома</td>\n",
       "    </tr>\n",
       "    <tr>\n",
       "      <th>Сумка-тележка 2-х колесная Gimi Argo синяя</th>\n",
       "      <td>47</td>\n",
       "      <td>50405</td>\n",
       "      <td>Товары для дома</td>\n",
       "    </tr>\n",
       "    <tr>\n",
       "      <th>Вешалки мягкие для деликатных вещей 3 шт шоколад</th>\n",
       "      <td>335</td>\n",
       "      <td>49596</td>\n",
       "      <td>Товары для дома</td>\n",
       "    </tr>\n",
       "    <tr>\n",
       "      <th>Тележка багажная DELTA ТБР-22 синий грузоподъемность 20 кг сумка и 50 кг каркас РОССИЯ</th>\n",
       "      <td>59</td>\n",
       "      <td>33992</td>\n",
       "      <td>Товары для дома</td>\n",
       "    </tr>\n",
       "    <tr>\n",
       "      <th>Муляж ЯБЛОКО 9 см красное</th>\n",
       "      <td>618</td>\n",
       "      <td>32702</td>\n",
       "      <td>Интереьер</td>\n",
       "    </tr>\n",
       "    <tr>\n",
       "      <th>Сумка-тележка хозяйственная Andersen Scala Shopper Plus, Lini, синяя 133-108-90</th>\n",
       "      <td>5</td>\n",
       "      <td>28045</td>\n",
       "      <td>Товары для дома</td>\n",
       "    </tr>\n",
       "    <tr>\n",
       "      <th>Урна уличная \"Гео\", Hobbyka/Хоббика, 59*37,5см, сталь</th>\n",
       "      <td>5</td>\n",
       "      <td>24370</td>\n",
       "      <td>Товары для дома</td>\n",
       "    </tr>\n",
       "    <tr>\n",
       "      <th>Веник сорго с деревянной ручкой с 4-мя швами, Rozenbal, R206204</th>\n",
       "      <td>37</td>\n",
       "      <td>20010</td>\n",
       "      <td>Все для уборки</td>\n",
       "    </tr>\n",
       "    <tr>\n",
       "      <th>Сумка-тележка 3-х колесная Gimi Tris Floral синяя</th>\n",
       "      <td>7</td>\n",
       "      <td>18893</td>\n",
       "      <td>Товары для дома</td>\n",
       "    </tr>\n",
       "    <tr>\n",
       "      <th>Сумка-тележка хозяйственная Andersen Treppensteiger Scala Shopper, Hera, черная 119-004-80</th>\n",
       "      <td>3</td>\n",
       "      <td>18560</td>\n",
       "      <td>Товары для дома</td>\n",
       "    </tr>\n",
       "  </tbody>\n",
       "</table>\n",
       "</div>"
      ],
      "text/plain": [
       "                                                                                            quantity  \\\n",
       "product                                                                                                \n",
       "Простынь вафельная 200х180 см WELLNESS RW180-01 100% хлопок                                       30   \n",
       "Сумка-тележка 2-х колесная Gimi Argo синяя                                                        47   \n",
       "Вешалки мягкие для деликатных вещей 3 шт шоколад                                                 335   \n",
       "Тележка багажная DELTA ТБР-22 синий грузоподъемность 20 кг сумка и 50 кг каркас РОССИЯ            59   \n",
       "Муляж ЯБЛОКО 9 см красное                                                                        618   \n",
       "Сумка-тележка хозяйственная Andersen Scala Shopper Plus, Lini, синяя 133-108-90                    5   \n",
       "Урна уличная \"Гео\", Hobbyka/Хоббика, 59*37,5см, сталь                                              5   \n",
       "Веник сорго с деревянной ручкой с 4-мя швами, Rozenbal, R206204                                   37   \n",
       "Сумка-тележка 3-х колесная Gimi Tris Floral синяя                                                  7   \n",
       "Сумка-тележка хозяйственная Andersen Treppensteiger Scala Shopper, Hera, черная 119-004-80         3   \n",
       "\n",
       "                                                                                            revenue  \\\n",
       "product                                                                                               \n",
       "Простынь вафельная 200х180 см WELLNESS RW180-01 100% хлопок                                   53232   \n",
       "Сумка-тележка 2-х колесная Gimi Argo синяя                                                    50405   \n",
       "Вешалки мягкие для деликатных вещей 3 шт шоколад                                              49596   \n",
       "Тележка багажная DELTA ТБР-22 синий грузоподъемность 20 кг сумка и 50 кг каркас РОССИЯ        33992   \n",
       "Муляж ЯБЛОКО 9 см красное                                                                     32702   \n",
       "Сумка-тележка хозяйственная Andersen Scala Shopper Plus, Lini, синяя 133-108-90               28045   \n",
       "Урна уличная \"Гео\", Hobbyka/Хоббика, 59*37,5см, сталь                                         24370   \n",
       "Веник сорго с деревянной ручкой с 4-мя швами, Rozenbal, R206204                               20010   \n",
       "Сумка-тележка 3-х колесная Gimi Tris Floral синяя                                             18893   \n",
       "Сумка-тележка хозяйственная Andersen Treppensteiger Scala Shopper, Hera, черная 119-004-80    18560   \n",
       "\n",
       "                                                                                                   category  \n",
       "product                                                                                                      \n",
       "Простынь вафельная 200х180 см WELLNESS RW180-01 100% хлопок                                 Товары для дома  \n",
       "Сумка-тележка 2-х колесная Gimi Argo синяя                                                  Товары для дома  \n",
       "Вешалки мягкие для деликатных вещей 3 шт шоколад                                            Товары для дома  \n",
       "Тележка багажная DELTA ТБР-22 синий грузоподъемность 20 кг сумка и 50 кг каркас РОССИЯ      Товары для дома  \n",
       "Муляж ЯБЛОКО 9 см красное                                                                         Интереьер  \n",
       "Сумка-тележка хозяйственная Andersen Scala Shopper Plus, Lini, синяя 133-108-90             Товары для дома  \n",
       "Урна уличная \"Гео\", Hobbyka/Хоббика, 59*37,5см, сталь                                       Товары для дома  \n",
       "Веник сорго с деревянной ручкой с 4-мя швами, Rozenbal, R206204                              Все для уборки  \n",
       "Сумка-тележка 3-х колесная Gimi Tris Floral синяя                                           Товары для дома  \n",
       "Сумка-тележка хозяйственная Andersen Treppensteiger Scala Shopper, Hera, черная 119-004-80  Товары для дома  "
      ]
     },
     "execution_count": 62,
     "metadata": {},
     "output_type": "execute_result"
    }
   ],
   "source": [
    "product_revenue.head(10)"
   ]
  },
  {
   "cell_type": "markdown",
   "metadata": {},
   "source": [
    "*Больше всего выручки получено на продаже \"Простынь вафельная 200х180 см WELLNESS RW180-01 100% хлопок\"*"
   ]
  },
  {
   "cell_type": "markdown",
   "metadata": {},
   "source": [
    "**Худшие 10 товаров по выручке:**"
   ]
  },
  {
   "cell_type": "code",
   "execution_count": 63,
   "metadata": {},
   "outputs": [
    {
     "data": {
      "text/html": [
       "<div>\n",
       "<style scoped>\n",
       "    .dataframe tbody tr th:only-of-type {\n",
       "        vertical-align: middle;\n",
       "    }\n",
       "\n",
       "    .dataframe tbody tr th {\n",
       "        vertical-align: top;\n",
       "    }\n",
       "\n",
       "    .dataframe thead th {\n",
       "        text-align: right;\n",
       "    }\n",
       "</style>\n",
       "<table border=\"1\" class=\"dataframe\">\n",
       "  <thead>\n",
       "    <tr style=\"text-align: right;\">\n",
       "      <th></th>\n",
       "      <th>quantity</th>\n",
       "      <th>revenue</th>\n",
       "      <th>category</th>\n",
       "    </tr>\n",
       "    <tr>\n",
       "      <th>product</th>\n",
       "      <th></th>\n",
       "      <th></th>\n",
       "      <th></th>\n",
       "    </tr>\n",
       "  </thead>\n",
       "  <tbody>\n",
       "    <tr>\n",
       "      <th>Бархатцы Веселая полянка 0,3 г 4660010777505</th>\n",
       "      <td>1</td>\n",
       "      <td>11</td>\n",
       "      <td>Сад и огород</td>\n",
       "    </tr>\n",
       "    <tr>\n",
       "      <th>Календула Суприм 0,5 г 4650091480227</th>\n",
       "      <td>1</td>\n",
       "      <td>11</td>\n",
       "      <td>Сад и огород</td>\n",
       "    </tr>\n",
       "    <tr>\n",
       "      <th>Огурец Засолочный 0,3 г 4660010776102</th>\n",
       "      <td>1</td>\n",
       "      <td>10</td>\n",
       "      <td>Сад и огород</td>\n",
       "    </tr>\n",
       "    <tr>\n",
       "      <th>Петрушка Итальянский гигант 2 г 4660010776553</th>\n",
       "      <td>1</td>\n",
       "      <td>10</td>\n",
       "      <td>Сад и огород</td>\n",
       "    </tr>\n",
       "    <tr>\n",
       "      <th>Незабудка смесь 0,1 г 4650091480340</th>\n",
       "      <td>1</td>\n",
       "      <td>10</td>\n",
       "      <td>Сад и огород</td>\n",
       "    </tr>\n",
       "    <tr>\n",
       "      <th>Цинния Оранжевый король 0,5 г 4660010770520</th>\n",
       "      <td>1</td>\n",
       "      <td>10</td>\n",
       "      <td>Сад и огород</td>\n",
       "    </tr>\n",
       "    <tr>\n",
       "      <th>Цинния Коралловая красавица 0,2 г 4660010773323</th>\n",
       "      <td>1</td>\n",
       "      <td>10</td>\n",
       "      <td>Сад и огород</td>\n",
       "    </tr>\n",
       "    <tr>\n",
       "      <th>Морковь Детская сладость 2 г 4660010775921</th>\n",
       "      <td>1</td>\n",
       "      <td>10</td>\n",
       "      <td>Сад и огород</td>\n",
       "    </tr>\n",
       "    <tr>\n",
       "      <th>Горох Амброзия 10,0 г 4660010772616</th>\n",
       "      <td>1</td>\n",
       "      <td>9</td>\n",
       "      <td>Сад и огород</td>\n",
       "    </tr>\n",
       "    <tr>\n",
       "      <th>Львиный зев Волшебный ковер 0,05 г 4660010779639</th>\n",
       "      <td>1</td>\n",
       "      <td>9</td>\n",
       "      <td>Сад и огород</td>\n",
       "    </tr>\n",
       "  </tbody>\n",
       "</table>\n",
       "</div>"
      ],
      "text/plain": [
       "                                                  quantity  revenue  \\\n",
       "product                                                               \n",
       "Бархатцы Веселая полянка 0,3 г 4660010777505             1       11   \n",
       "Календула Суприм 0,5 г 4650091480227                     1       11   \n",
       "Огурец Засолочный 0,3 г 4660010776102                    1       10   \n",
       "Петрушка Итальянский гигант 2 г 4660010776553            1       10   \n",
       "Незабудка смесь 0,1 г 4650091480340                      1       10   \n",
       "Цинния Оранжевый король 0,5 г 4660010770520              1       10   \n",
       "Цинния Коралловая красавица 0,2 г 4660010773323          1       10   \n",
       "Морковь Детская сладость 2 г 4660010775921               1       10   \n",
       "Горох Амброзия 10,0 г 4660010772616                      1        9   \n",
       "Львиный зев Волшебный ковер 0,05 г 4660010779639         1        9   \n",
       "\n",
       "                                                      category  \n",
       "product                                                         \n",
       "Бархатцы Веселая полянка 0,3 г 4660010777505      Сад и огород  \n",
       "Календула Суприм 0,5 г 4650091480227              Сад и огород  \n",
       "Огурец Засолочный 0,3 г 4660010776102             Сад и огород  \n",
       "Петрушка Итальянский гигант 2 г 4660010776553     Сад и огород  \n",
       "Незабудка смесь 0,1 г 4650091480340               Сад и огород  \n",
       "Цинния Оранжевый король 0,5 г 4660010770520       Сад и огород  \n",
       "Цинния Коралловая красавица 0,2 г 4660010773323   Сад и огород  \n",
       "Морковь Детская сладость 2 г 4660010775921        Сад и огород  \n",
       "Горох Амброзия 10,0 г 4660010772616               Сад и огород  \n",
       "Львиный зев Волшебный ковер 0,05 г 4660010779639  Сад и огород  "
      ]
     },
     "execution_count": 63,
     "metadata": {},
     "output_type": "execute_result"
    }
   ],
   "source": [
    "product_revenue.tail(10)"
   ]
  },
  {
   "cell_type": "markdown",
   "metadata": {},
   "source": [
    "*Тут не все так однозначно, многие семена стоят дешего, это не значит что они чем-то хуже других товаров.*"
   ]
  },
  {
   "cell_type": "markdown",
   "metadata": {},
   "source": [
    "**Посмотрим на распределение продажи товара по категориям:**"
   ]
  },
  {
   "cell_type": "code",
   "execution_count": 64,
   "metadata": {},
   "outputs": [],
   "source": [
    "quantity_by_category = (df\n",
    "                        .groupby('category')\n",
    "                        .agg({'quantity': 'sum'})\n",
    "                        .sort_values(by='quantity', ascending=False)\n",
    "                        .reset_index()\n",
    "                        )"
   ]
  },
  {
   "cell_type": "code",
   "execution_count": 65,
   "metadata": {},
   "outputs": [],
   "source": [
    "revenue_by_category = (df\n",
    "                        .groupby('category')\n",
    "                        .agg({'revenue': 'sum'})\n",
    "                        .sort_values(by='revenue', ascending=False)\n",
    "                        .reset_index()\n",
    "                        )"
   ]
  },
  {
   "cell_type": "code",
   "execution_count": 66,
   "metadata": {},
   "outputs": [
    {
     "data": {
      "application/vnd.plotly.v1+json": {
       "config": {
        "plotlyServerURL": "https://plot.ly"
       },
       "data": [
        {
         "alignmentgroup": "True",
         "hovertemplate": "Категория=%{x}<br>Количество=%{y}<extra></extra>",
         "legendgroup": "",
         "marker": {
          "color": "rgb(76,114,176)",
          "pattern": {
           "shape": ""
          }
         },
         "name": "",
         "offsetgroup": "",
         "orientation": "v",
         "showlegend": false,
         "textposition": "auto",
         "type": "bar",
         "x": [
          "Сад и огород",
          "Товары для дома",
          "Интереьер",
          "Кухонные принадлежности",
          "Все для ремонта",
          "Все для уборки"
         ],
         "xaxis": "x",
         "y": [
          4035,
          2829,
          2056,
          1010,
          631,
          602
         ],
         "yaxis": "y"
        },
        {
         "alignmentgroup": "True",
         "hovertemplate": "Категория=%{x}<br>Выручка=%{y}<extra></extra>",
         "legendgroup": "",
         "marker": {
          "color": "rgb(76,114,176)",
          "pattern": {
           "shape": ""
          }
         },
         "name": "",
         "offsetgroup": "",
         "orientation": "v",
         "showlegend": false,
         "textposition": "auto",
         "type": "bar",
         "x": [
          "Товары для дома",
          "Сад и огород",
          "Кухонные принадлежности",
          "Интереьер",
          "Все для ремонта",
          "Все для уборки"
         ],
         "xaxis": "x2",
         "y": [
          1944631,
          513874,
          301345,
          217543,
          216670,
          158944
         ],
         "yaxis": "y2"
        }
       ],
       "layout": {
        "annotations": [
         {
          "font": {
           "size": 16
          },
          "showarrow": false,
          "text": "Количество проданного товара по категориям",
          "x": 0.225,
          "xanchor": "center",
          "xref": "paper",
          "y": 1,
          "yanchor": "bottom",
          "yref": "paper"
         },
         {
          "font": {
           "size": 16
          },
          "showarrow": false,
          "text": "Размер выручки по категориям",
          "x": 0.775,
          "xanchor": "center",
          "xref": "paper",
          "y": 1,
          "yanchor": "bottom",
          "yref": "paper"
         }
        ],
        "height": 700,
        "template": {
         "data": {
          "bar": [
           {
            "error_x": {
             "color": "rgb(36,36,36)"
            },
            "error_y": {
             "color": "rgb(36,36,36)"
            },
            "marker": {
             "line": {
              "color": "rgb(234,234,242)",
              "width": 0.5
             },
             "pattern": {
              "fillmode": "overlay",
              "size": 10,
              "solidity": 0.2
             }
            },
            "type": "bar"
           }
          ],
          "barpolar": [
           {
            "marker": {
             "line": {
              "color": "rgb(234,234,242)",
              "width": 0.5
             },
             "pattern": {
              "fillmode": "overlay",
              "size": 10,
              "solidity": 0.2
             }
            },
            "type": "barpolar"
           }
          ],
          "carpet": [
           {
            "aaxis": {
             "endlinecolor": "rgb(36,36,36)",
             "gridcolor": "white",
             "linecolor": "white",
             "minorgridcolor": "white",
             "startlinecolor": "rgb(36,36,36)"
            },
            "baxis": {
             "endlinecolor": "rgb(36,36,36)",
             "gridcolor": "white",
             "linecolor": "white",
             "minorgridcolor": "white",
             "startlinecolor": "rgb(36,36,36)"
            },
            "type": "carpet"
           }
          ],
          "choropleth": [
           {
            "colorbar": {
             "outlinewidth": 0,
             "tickcolor": "rgb(36,36,36)",
             "ticklen": 8,
             "ticks": "outside",
             "tickwidth": 2
            },
            "type": "choropleth"
           }
          ],
          "contour": [
           {
            "colorbar": {
             "outlinewidth": 0,
             "tickcolor": "rgb(36,36,36)",
             "ticklen": 8,
             "ticks": "outside",
             "tickwidth": 2
            },
            "colorscale": [
             [
              0,
              "rgb(2,4,25)"
             ],
             [
              0.06274509803921569,
              "rgb(24,15,41)"
             ],
             [
              0.12549019607843137,
              "rgb(47,23,57)"
             ],
             [
              0.18823529411764706,
              "rgb(71,28,72)"
             ],
             [
              0.25098039215686274,
              "rgb(97,30,82)"
             ],
             [
              0.3137254901960784,
              "rgb(123,30,89)"
             ],
             [
              0.3764705882352941,
              "rgb(150,27,91)"
             ],
             [
              0.4392156862745098,
              "rgb(177,22,88)"
             ],
             [
              0.5019607843137255,
              "rgb(203,26,79)"
             ],
             [
              0.5647058823529412,
              "rgb(223,47,67)"
             ],
             [
              0.6274509803921569,
              "rgb(236,76,61)"
             ],
             [
              0.6901960784313725,
              "rgb(242,107,73)"
             ],
             [
              0.7529411764705882,
              "rgb(244,135,95)"
             ],
             [
              0.8156862745098039,
              "rgb(245,162,122)"
             ],
             [
              0.8784313725490196,
              "rgb(246,188,153)"
             ],
             [
              0.9411764705882353,
              "rgb(247,212,187)"
             ],
             [
              1,
              "rgb(250,234,220)"
             ]
            ],
            "type": "contour"
           }
          ],
          "contourcarpet": [
           {
            "colorbar": {
             "outlinewidth": 0,
             "tickcolor": "rgb(36,36,36)",
             "ticklen": 8,
             "ticks": "outside",
             "tickwidth": 2
            },
            "type": "contourcarpet"
           }
          ],
          "heatmap": [
           {
            "colorbar": {
             "outlinewidth": 0,
             "tickcolor": "rgb(36,36,36)",
             "ticklen": 8,
             "ticks": "outside",
             "tickwidth": 2
            },
            "colorscale": [
             [
              0,
              "rgb(2,4,25)"
             ],
             [
              0.06274509803921569,
              "rgb(24,15,41)"
             ],
             [
              0.12549019607843137,
              "rgb(47,23,57)"
             ],
             [
              0.18823529411764706,
              "rgb(71,28,72)"
             ],
             [
              0.25098039215686274,
              "rgb(97,30,82)"
             ],
             [
              0.3137254901960784,
              "rgb(123,30,89)"
             ],
             [
              0.3764705882352941,
              "rgb(150,27,91)"
             ],
             [
              0.4392156862745098,
              "rgb(177,22,88)"
             ],
             [
              0.5019607843137255,
              "rgb(203,26,79)"
             ],
             [
              0.5647058823529412,
              "rgb(223,47,67)"
             ],
             [
              0.6274509803921569,
              "rgb(236,76,61)"
             ],
             [
              0.6901960784313725,
              "rgb(242,107,73)"
             ],
             [
              0.7529411764705882,
              "rgb(244,135,95)"
             ],
             [
              0.8156862745098039,
              "rgb(245,162,122)"
             ],
             [
              0.8784313725490196,
              "rgb(246,188,153)"
             ],
             [
              0.9411764705882353,
              "rgb(247,212,187)"
             ],
             [
              1,
              "rgb(250,234,220)"
             ]
            ],
            "type": "heatmap"
           }
          ],
          "heatmapgl": [
           {
            "colorbar": {
             "outlinewidth": 0,
             "tickcolor": "rgb(36,36,36)",
             "ticklen": 8,
             "ticks": "outside",
             "tickwidth": 2
            },
            "colorscale": [
             [
              0,
              "rgb(2,4,25)"
             ],
             [
              0.06274509803921569,
              "rgb(24,15,41)"
             ],
             [
              0.12549019607843137,
              "rgb(47,23,57)"
             ],
             [
              0.18823529411764706,
              "rgb(71,28,72)"
             ],
             [
              0.25098039215686274,
              "rgb(97,30,82)"
             ],
             [
              0.3137254901960784,
              "rgb(123,30,89)"
             ],
             [
              0.3764705882352941,
              "rgb(150,27,91)"
             ],
             [
              0.4392156862745098,
              "rgb(177,22,88)"
             ],
             [
              0.5019607843137255,
              "rgb(203,26,79)"
             ],
             [
              0.5647058823529412,
              "rgb(223,47,67)"
             ],
             [
              0.6274509803921569,
              "rgb(236,76,61)"
             ],
             [
              0.6901960784313725,
              "rgb(242,107,73)"
             ],
             [
              0.7529411764705882,
              "rgb(244,135,95)"
             ],
             [
              0.8156862745098039,
              "rgb(245,162,122)"
             ],
             [
              0.8784313725490196,
              "rgb(246,188,153)"
             ],
             [
              0.9411764705882353,
              "rgb(247,212,187)"
             ],
             [
              1,
              "rgb(250,234,220)"
             ]
            ],
            "type": "heatmapgl"
           }
          ],
          "histogram": [
           {
            "marker": {
             "pattern": {
              "fillmode": "overlay",
              "size": 10,
              "solidity": 0.2
             }
            },
            "type": "histogram"
           }
          ],
          "histogram2d": [
           {
            "colorbar": {
             "outlinewidth": 0,
             "tickcolor": "rgb(36,36,36)",
             "ticklen": 8,
             "ticks": "outside",
             "tickwidth": 2
            },
            "colorscale": [
             [
              0,
              "rgb(2,4,25)"
             ],
             [
              0.06274509803921569,
              "rgb(24,15,41)"
             ],
             [
              0.12549019607843137,
              "rgb(47,23,57)"
             ],
             [
              0.18823529411764706,
              "rgb(71,28,72)"
             ],
             [
              0.25098039215686274,
              "rgb(97,30,82)"
             ],
             [
              0.3137254901960784,
              "rgb(123,30,89)"
             ],
             [
              0.3764705882352941,
              "rgb(150,27,91)"
             ],
             [
              0.4392156862745098,
              "rgb(177,22,88)"
             ],
             [
              0.5019607843137255,
              "rgb(203,26,79)"
             ],
             [
              0.5647058823529412,
              "rgb(223,47,67)"
             ],
             [
              0.6274509803921569,
              "rgb(236,76,61)"
             ],
             [
              0.6901960784313725,
              "rgb(242,107,73)"
             ],
             [
              0.7529411764705882,
              "rgb(244,135,95)"
             ],
             [
              0.8156862745098039,
              "rgb(245,162,122)"
             ],
             [
              0.8784313725490196,
              "rgb(246,188,153)"
             ],
             [
              0.9411764705882353,
              "rgb(247,212,187)"
             ],
             [
              1,
              "rgb(250,234,220)"
             ]
            ],
            "type": "histogram2d"
           }
          ],
          "histogram2dcontour": [
           {
            "colorbar": {
             "outlinewidth": 0,
             "tickcolor": "rgb(36,36,36)",
             "ticklen": 8,
             "ticks": "outside",
             "tickwidth": 2
            },
            "colorscale": [
             [
              0,
              "rgb(2,4,25)"
             ],
             [
              0.06274509803921569,
              "rgb(24,15,41)"
             ],
             [
              0.12549019607843137,
              "rgb(47,23,57)"
             ],
             [
              0.18823529411764706,
              "rgb(71,28,72)"
             ],
             [
              0.25098039215686274,
              "rgb(97,30,82)"
             ],
             [
              0.3137254901960784,
              "rgb(123,30,89)"
             ],
             [
              0.3764705882352941,
              "rgb(150,27,91)"
             ],
             [
              0.4392156862745098,
              "rgb(177,22,88)"
             ],
             [
              0.5019607843137255,
              "rgb(203,26,79)"
             ],
             [
              0.5647058823529412,
              "rgb(223,47,67)"
             ],
             [
              0.6274509803921569,
              "rgb(236,76,61)"
             ],
             [
              0.6901960784313725,
              "rgb(242,107,73)"
             ],
             [
              0.7529411764705882,
              "rgb(244,135,95)"
             ],
             [
              0.8156862745098039,
              "rgb(245,162,122)"
             ],
             [
              0.8784313725490196,
              "rgb(246,188,153)"
             ],
             [
              0.9411764705882353,
              "rgb(247,212,187)"
             ],
             [
              1,
              "rgb(250,234,220)"
             ]
            ],
            "type": "histogram2dcontour"
           }
          ],
          "mesh3d": [
           {
            "colorbar": {
             "outlinewidth": 0,
             "tickcolor": "rgb(36,36,36)",
             "ticklen": 8,
             "ticks": "outside",
             "tickwidth": 2
            },
            "type": "mesh3d"
           }
          ],
          "parcoords": [
           {
            "line": {
             "colorbar": {
              "outlinewidth": 0,
              "tickcolor": "rgb(36,36,36)",
              "ticklen": 8,
              "ticks": "outside",
              "tickwidth": 2
             }
            },
            "type": "parcoords"
           }
          ],
          "pie": [
           {
            "automargin": true,
            "type": "pie"
           }
          ],
          "scatter": [
           {
            "fillpattern": {
             "fillmode": "overlay",
             "size": 10,
             "solidity": 0.2
            },
            "type": "scatter"
           }
          ],
          "scatter3d": [
           {
            "line": {
             "colorbar": {
              "outlinewidth": 0,
              "tickcolor": "rgb(36,36,36)",
              "ticklen": 8,
              "ticks": "outside",
              "tickwidth": 2
             }
            },
            "marker": {
             "colorbar": {
              "outlinewidth": 0,
              "tickcolor": "rgb(36,36,36)",
              "ticklen": 8,
              "ticks": "outside",
              "tickwidth": 2
             }
            },
            "type": "scatter3d"
           }
          ],
          "scattercarpet": [
           {
            "marker": {
             "colorbar": {
              "outlinewidth": 0,
              "tickcolor": "rgb(36,36,36)",
              "ticklen": 8,
              "ticks": "outside",
              "tickwidth": 2
             }
            },
            "type": "scattercarpet"
           }
          ],
          "scattergeo": [
           {
            "marker": {
             "colorbar": {
              "outlinewidth": 0,
              "tickcolor": "rgb(36,36,36)",
              "ticklen": 8,
              "ticks": "outside",
              "tickwidth": 2
             }
            },
            "type": "scattergeo"
           }
          ],
          "scattergl": [
           {
            "marker": {
             "colorbar": {
              "outlinewidth": 0,
              "tickcolor": "rgb(36,36,36)",
              "ticklen": 8,
              "ticks": "outside",
              "tickwidth": 2
             }
            },
            "type": "scattergl"
           }
          ],
          "scattermapbox": [
           {
            "marker": {
             "colorbar": {
              "outlinewidth": 0,
              "tickcolor": "rgb(36,36,36)",
              "ticklen": 8,
              "ticks": "outside",
              "tickwidth": 2
             }
            },
            "type": "scattermapbox"
           }
          ],
          "scatterpolar": [
           {
            "marker": {
             "colorbar": {
              "outlinewidth": 0,
              "tickcolor": "rgb(36,36,36)",
              "ticklen": 8,
              "ticks": "outside",
              "tickwidth": 2
             }
            },
            "type": "scatterpolar"
           }
          ],
          "scatterpolargl": [
           {
            "marker": {
             "colorbar": {
              "outlinewidth": 0,
              "tickcolor": "rgb(36,36,36)",
              "ticklen": 8,
              "ticks": "outside",
              "tickwidth": 2
             }
            },
            "type": "scatterpolargl"
           }
          ],
          "scatterternary": [
           {
            "marker": {
             "colorbar": {
              "outlinewidth": 0,
              "tickcolor": "rgb(36,36,36)",
              "ticklen": 8,
              "ticks": "outside",
              "tickwidth": 2
             }
            },
            "type": "scatterternary"
           }
          ],
          "surface": [
           {
            "colorbar": {
             "outlinewidth": 0,
             "tickcolor": "rgb(36,36,36)",
             "ticklen": 8,
             "ticks": "outside",
             "tickwidth": 2
            },
            "colorscale": [
             [
              0,
              "rgb(2,4,25)"
             ],
             [
              0.06274509803921569,
              "rgb(24,15,41)"
             ],
             [
              0.12549019607843137,
              "rgb(47,23,57)"
             ],
             [
              0.18823529411764706,
              "rgb(71,28,72)"
             ],
             [
              0.25098039215686274,
              "rgb(97,30,82)"
             ],
             [
              0.3137254901960784,
              "rgb(123,30,89)"
             ],
             [
              0.3764705882352941,
              "rgb(150,27,91)"
             ],
             [
              0.4392156862745098,
              "rgb(177,22,88)"
             ],
             [
              0.5019607843137255,
              "rgb(203,26,79)"
             ],
             [
              0.5647058823529412,
              "rgb(223,47,67)"
             ],
             [
              0.6274509803921569,
              "rgb(236,76,61)"
             ],
             [
              0.6901960784313725,
              "rgb(242,107,73)"
             ],
             [
              0.7529411764705882,
              "rgb(244,135,95)"
             ],
             [
              0.8156862745098039,
              "rgb(245,162,122)"
             ],
             [
              0.8784313725490196,
              "rgb(246,188,153)"
             ],
             [
              0.9411764705882353,
              "rgb(247,212,187)"
             ],
             [
              1,
              "rgb(250,234,220)"
             ]
            ],
            "type": "surface"
           }
          ],
          "table": [
           {
            "cells": {
             "fill": {
              "color": "rgb(231,231,240)"
             },
             "line": {
              "color": "white"
             }
            },
            "header": {
             "fill": {
              "color": "rgb(183,183,191)"
             },
             "line": {
              "color": "white"
             }
            },
            "type": "table"
           }
          ]
         },
         "layout": {
          "annotationdefaults": {
           "arrowcolor": "rgb(67,103,167)"
          },
          "autotypenumbers": "strict",
          "coloraxis": {
           "colorbar": {
            "outlinewidth": 0,
            "tickcolor": "rgb(36,36,36)",
            "ticklen": 8,
            "ticks": "outside",
            "tickwidth": 2
           }
          },
          "colorscale": {
           "sequential": [
            [
             0,
             "rgb(2,4,25)"
            ],
            [
             0.06274509803921569,
             "rgb(24,15,41)"
            ],
            [
             0.12549019607843137,
             "rgb(47,23,57)"
            ],
            [
             0.18823529411764706,
             "rgb(71,28,72)"
            ],
            [
             0.25098039215686274,
             "rgb(97,30,82)"
            ],
            [
             0.3137254901960784,
             "rgb(123,30,89)"
            ],
            [
             0.3764705882352941,
             "rgb(150,27,91)"
            ],
            [
             0.4392156862745098,
             "rgb(177,22,88)"
            ],
            [
             0.5019607843137255,
             "rgb(203,26,79)"
            ],
            [
             0.5647058823529412,
             "rgb(223,47,67)"
            ],
            [
             0.6274509803921569,
             "rgb(236,76,61)"
            ],
            [
             0.6901960784313725,
             "rgb(242,107,73)"
            ],
            [
             0.7529411764705882,
             "rgb(244,135,95)"
            ],
            [
             0.8156862745098039,
             "rgb(245,162,122)"
            ],
            [
             0.8784313725490196,
             "rgb(246,188,153)"
            ],
            [
             0.9411764705882353,
             "rgb(247,212,187)"
            ],
            [
             1,
             "rgb(250,234,220)"
            ]
           ],
           "sequentialminus": [
            [
             0,
             "rgb(2,4,25)"
            ],
            [
             0.06274509803921569,
             "rgb(24,15,41)"
            ],
            [
             0.12549019607843137,
             "rgb(47,23,57)"
            ],
            [
             0.18823529411764706,
             "rgb(71,28,72)"
            ],
            [
             0.25098039215686274,
             "rgb(97,30,82)"
            ],
            [
             0.3137254901960784,
             "rgb(123,30,89)"
            ],
            [
             0.3764705882352941,
             "rgb(150,27,91)"
            ],
            [
             0.4392156862745098,
             "rgb(177,22,88)"
            ],
            [
             0.5019607843137255,
             "rgb(203,26,79)"
            ],
            [
             0.5647058823529412,
             "rgb(223,47,67)"
            ],
            [
             0.6274509803921569,
             "rgb(236,76,61)"
            ],
            [
             0.6901960784313725,
             "rgb(242,107,73)"
            ],
            [
             0.7529411764705882,
             "rgb(244,135,95)"
            ],
            [
             0.8156862745098039,
             "rgb(245,162,122)"
            ],
            [
             0.8784313725490196,
             "rgb(246,188,153)"
            ],
            [
             0.9411764705882353,
             "rgb(247,212,187)"
            ],
            [
             1,
             "rgb(250,234,220)"
            ]
           ]
          },
          "colorway": [
           "rgb(76,114,176)",
           "rgb(221,132,82)",
           "rgb(85,168,104)",
           "rgb(196,78,82)",
           "rgb(129,114,179)",
           "rgb(147,120,96)",
           "rgb(218,139,195)",
           "rgb(140,140,140)",
           "rgb(204,185,116)",
           "rgb(100,181,205)"
          ],
          "font": {
           "color": "rgb(36,36,36)"
          },
          "geo": {
           "bgcolor": "white",
           "lakecolor": "white",
           "landcolor": "rgb(234,234,242)",
           "showlakes": true,
           "showland": true,
           "subunitcolor": "white"
          },
          "hoverlabel": {
           "align": "left"
          },
          "hovermode": "closest",
          "paper_bgcolor": "white",
          "plot_bgcolor": "rgb(234,234,242)",
          "polar": {
           "angularaxis": {
            "gridcolor": "white",
            "linecolor": "white",
            "showgrid": true,
            "ticks": ""
           },
           "bgcolor": "rgb(234,234,242)",
           "radialaxis": {
            "gridcolor": "white",
            "linecolor": "white",
            "showgrid": true,
            "ticks": ""
           }
          },
          "scene": {
           "xaxis": {
            "backgroundcolor": "rgb(234,234,242)",
            "gridcolor": "white",
            "gridwidth": 2,
            "linecolor": "white",
            "showbackground": true,
            "showgrid": true,
            "ticks": "",
            "zerolinecolor": "white"
           },
           "yaxis": {
            "backgroundcolor": "rgb(234,234,242)",
            "gridcolor": "white",
            "gridwidth": 2,
            "linecolor": "white",
            "showbackground": true,
            "showgrid": true,
            "ticks": "",
            "zerolinecolor": "white"
           },
           "zaxis": {
            "backgroundcolor": "rgb(234,234,242)",
            "gridcolor": "white",
            "gridwidth": 2,
            "linecolor": "white",
            "showbackground": true,
            "showgrid": true,
            "ticks": "",
            "zerolinecolor": "white"
           }
          },
          "shapedefaults": {
           "fillcolor": "rgb(67,103,167)",
           "line": {
            "width": 0
           },
           "opacity": 0.5
          },
          "ternary": {
           "aaxis": {
            "gridcolor": "white",
            "linecolor": "white",
            "showgrid": true,
            "ticks": ""
           },
           "baxis": {
            "gridcolor": "white",
            "linecolor": "white",
            "showgrid": true,
            "ticks": ""
           },
           "bgcolor": "rgb(234,234,242)",
           "caxis": {
            "gridcolor": "white",
            "linecolor": "white",
            "showgrid": true,
            "ticks": ""
           }
          },
          "xaxis": {
           "automargin": true,
           "gridcolor": "white",
           "linecolor": "white",
           "showgrid": true,
           "ticks": "",
           "title": {
            "standoff": 15
           },
           "zerolinecolor": "white"
          },
          "yaxis": {
           "automargin": true,
           "gridcolor": "white",
           "linecolor": "white",
           "showgrid": true,
           "ticks": "",
           "title": {
            "standoff": 15
           },
           "zerolinecolor": "white"
          }
         }
        },
        "xaxis": {
         "anchor": "y",
         "domain": [
          0,
          0.45
         ]
        },
        "xaxis2": {
         "anchor": "y2",
         "domain": [
          0.55,
          1
         ]
        },
        "yaxis": {
         "anchor": "x",
         "domain": [
          0,
          1
         ]
        },
        "yaxis2": {
         "anchor": "x2",
         "domain": [
          0,
          1
         ]
        }
       }
      }
     },
     "metadata": {},
     "output_type": "display_data"
    }
   ],
   "source": [
    "fig1 = px.bar(quantity_by_category,  \n",
    "              x='category', \n",
    "              y='quantity',\n",
    "              labels={'category': 'Категория', 'quantity': 'Количество'}\n",
    "              )\n",
    "fig2 = px.bar(revenue_by_category,  \n",
    "              x='category', \n",
    "              y='revenue',\n",
    "              labels={'category': 'Категория', 'revenue': 'Выручка'}\n",
    "              )\n",
    "\n",
    "fig = make_subplots(rows=1, \n",
    "                    cols=2, \n",
    "                    subplot_titles=(\"Количество проданного товара по категориям\", \"Размер выручки по категориям\")\n",
    "                    )\n",
    "\n",
    "fig.add_trace(fig1['data'][0], row=1, col=1)\n",
    "fig.add_trace(fig2['data'][0], row=1, col=2)\n",
    "\n",
    "fig.update_layout(height=700)\n",
    "fig.show()"
   ]
  },
  {
   "cell_type": "markdown",
   "metadata": {},
   "source": [
    "- Больше всего товаров продается в категории \"Сад и огород\";\n",
    "- Самую большую выручку приносит категория \"Товары для дома\"."
   ]
  },
  {
   "cell_type": "markdown",
   "metadata": {},
   "source": [
    "**Посмотрим на количество уникальных товаров по категориям:**"
   ]
  },
  {
   "cell_type": "code",
   "execution_count": 67,
   "metadata": {},
   "outputs": [
    {
     "data": {
      "text/html": [
       "<div>\n",
       "<style scoped>\n",
       "    .dataframe tbody tr th:only-of-type {\n",
       "        vertical-align: middle;\n",
       "    }\n",
       "\n",
       "    .dataframe tbody tr th {\n",
       "        vertical-align: top;\n",
       "    }\n",
       "\n",
       "    .dataframe thead th {\n",
       "        text-align: right;\n",
       "    }\n",
       "</style>\n",
       "<table border=\"1\" class=\"dataframe\">\n",
       "  <thead>\n",
       "    <tr style=\"text-align: right;\">\n",
       "      <th></th>\n",
       "      <th>product</th>\n",
       "    </tr>\n",
       "    <tr>\n",
       "      <th>category</th>\n",
       "      <th></th>\n",
       "    </tr>\n",
       "  </thead>\n",
       "  <tbody>\n",
       "    <tr>\n",
       "      <th>Сад и огород</th>\n",
       "      <td>941</td>\n",
       "    </tr>\n",
       "    <tr>\n",
       "      <th>Товары для дома</th>\n",
       "      <td>703</td>\n",
       "    </tr>\n",
       "    <tr>\n",
       "      <th>Кухонные принадлежности</th>\n",
       "      <td>319</td>\n",
       "    </tr>\n",
       "    <tr>\n",
       "      <th>Интереьер</th>\n",
       "      <td>181</td>\n",
       "    </tr>\n",
       "    <tr>\n",
       "      <th>Все для уборки</th>\n",
       "      <td>91</td>\n",
       "    </tr>\n",
       "    <tr>\n",
       "      <th>Все для ремонта</th>\n",
       "      <td>89</td>\n",
       "    </tr>\n",
       "  </tbody>\n",
       "</table>\n",
       "</div>"
      ],
      "text/plain": [
       "                         product\n",
       "category                        \n",
       "Сад и огород                 941\n",
       "Товары для дома              703\n",
       "Кухонные принадлежности      319\n",
       "Интереьер                    181\n",
       "Все для уборки                91\n",
       "Все для ремонта               89"
      ]
     },
     "execution_count": 67,
     "metadata": {},
     "output_type": "execute_result"
    }
   ],
   "source": [
    "df.groupby('category').agg({'product': 'nunique'}).sort_values(by='product', ascending=False)"
   ]
  },
  {
   "cell_type": "markdown",
   "metadata": {},
   "source": [
    "*Самый большой ассортимент в категории \"Сад и огород\", дальше идут \"Товары для дома\".*"
   ]
  },
  {
   "cell_type": "markdown",
   "metadata": {},
   "source": [
    "### Анализ основного и дополнительного товара"
   ]
  },
  {
   "cell_type": "markdown",
   "metadata": {},
   "source": [
    "**Создадим класс и метод в нем, который будет советовать дополнительный товар, на основе товара в заказе:**"
   ]
  },
  {
   "cell_type": "code",
   "execution_count": 68,
   "metadata": {},
   "outputs": [],
   "source": [
    "class AdditionalProduct:\n",
    "    \"\"\"Класс для рекомендации дополнительного товара.\"\"\"\n",
    "\n",
    "    def __init__(self, data, category_col, rate=0.5):\n",
    "        \"\"\"\n",
    "        Метод инициализации класса AdditionalProduct.\n",
    "\n",
    "        data - датафрейм\n",
    "        category_col - название столбца с категориями товара\n",
    "        rate - как часто товар покупали, как дополнительный\n",
    "        \"\"\"\n",
    "\n",
    "        self.data = data\n",
    "        self.category_col = category_col\n",
    "        self.rate = rate\n",
    "        self.__suggest_dfs = self.__categorize()\n",
    "\n",
    "    def __categorize(self):\n",
    "        \"\"\"Метод для составления словаря датафреймов по категориям.\"\"\"\n",
    "\n",
    "        dfs_dict = {}   # Словарь: ключ - название категории, значение - датафрейм\n",
    "\n",
    "        for x in self.data[self.category_col].unique():\n",
    "            suggest_df_by_category = (self.data[self.data[self.category_col] == x]\n",
    "                                        .groupby('product')\n",
    "                                        .agg({'main': 'sum', 'additional': 'sum'})\n",
    "                                        .reset_index()\n",
    "                                     )\n",
    "            suggest_df_by_category['additional_rate'] = (\n",
    "                    suggest_df_by_category['additional'] / \n",
    "                    (suggest_df_by_category['additional'] + suggest_df_by_category['main'])\n",
    "                    )\n",
    "            suggest_df_by_category = (\n",
    "                suggest_df_by_category[suggest_df_by_category['additional_rate'] >= self.rate] \n",
    "            )\n",
    "\n",
    "            dfs_dict[x] = suggest_df_by_category[['product', 'additional_rate']]\n",
    "        \n",
    "        return dfs_dict\n",
    "\n",
    "    def get_additional_product(self, row):\n",
    "        \"\"\"\n",
    "        Метод для рекомендации дополнительного товара.\n",
    "\n",
    "        row - строка содержащая товар для которого нужно получить рекомендацию\n",
    "        \"\"\"\n",
    "\n",
    "        category = row['category']\n",
    "\n",
    "        df_by_category = self.__suggest_dfs[category]      \n",
    "\n",
    "        n = 0\n",
    "        suggest = df_by_category['product'].sample(replace=False)\n",
    "        while n < 10:\n",
    "            if len(self.data[self.data['product'].isin(suggest)]) < 3:\n",
    "                n += 1\n",
    "            else: \n",
    "                return suggest.values[0]\n",
    "\n",
    "        return suggest.values[0]"
   ]
  },
  {
   "cell_type": "code",
   "execution_count": 69,
   "metadata": {},
   "outputs": [],
   "source": [
    "ap = AdditionalProduct(df, 'category')"
   ]
  },
  {
   "cell_type": "code",
   "execution_count": 70,
   "metadata": {},
   "outputs": [],
   "source": [
    "df['additional_product'] = df.apply(ap.get_additional_product, axis=1)"
   ]
  },
  {
   "cell_type": "code",
   "execution_count": 71,
   "metadata": {},
   "outputs": [
    {
     "data": {
      "text/html": [
       "<div>\n",
       "<style scoped>\n",
       "    .dataframe tbody tr th:only-of-type {\n",
       "        vertical-align: middle;\n",
       "    }\n",
       "\n",
       "    .dataframe tbody tr th {\n",
       "        vertical-align: top;\n",
       "    }\n",
       "\n",
       "    .dataframe thead th {\n",
       "        text-align: right;\n",
       "    }\n",
       "</style>\n",
       "<table border=\"1\" class=\"dataframe\">\n",
       "  <thead>\n",
       "    <tr style=\"text-align: right;\">\n",
       "      <th></th>\n",
       "      <th>date</th>\n",
       "      <th>customer_id</th>\n",
       "      <th>order_id</th>\n",
       "      <th>product</th>\n",
       "      <th>quantity</th>\n",
       "      <th>price</th>\n",
       "      <th>revenue</th>\n",
       "      <th>hour</th>\n",
       "      <th>day</th>\n",
       "      <th>day_of_week</th>\n",
       "      <th>week</th>\n",
       "      <th>month</th>\n",
       "      <th>year</th>\n",
       "      <th>dt</th>\n",
       "      <th>unique_products_count</th>\n",
       "      <th>main</th>\n",
       "      <th>additional</th>\n",
       "      <th>category</th>\n",
       "      <th>additional_product</th>\n",
       "    </tr>\n",
       "  </thead>\n",
       "  <tbody>\n",
       "    <tr>\n",
       "      <th>2629</th>\n",
       "      <td>2019-04-03 16:00:00</td>\n",
       "      <td>b7b865ab-0735-407f-8d0c-31f74d2806cc</td>\n",
       "      <td>14611</td>\n",
       "      <td>Рассада томата (помидор) Ола Полка № 96 сорт детерминантный раннеспелый оранжевый</td>\n",
       "      <td>5</td>\n",
       "      <td>38</td>\n",
       "      <td>190</td>\n",
       "      <td>16</td>\n",
       "      <td>3</td>\n",
       "      <td>Wednesday</td>\n",
       "      <td>14</td>\n",
       "      <td>2019-04-01</td>\n",
       "      <td>2019</td>\n",
       "      <td>2019-04-03</td>\n",
       "      <td>4</td>\n",
       "      <td>0</td>\n",
       "      <td>1</td>\n",
       "      <td>Сад и огород</td>\n",
       "      <td>Рассада Дыни сорт Дина горшок 9х9 см P-9</td>\n",
       "    </tr>\n",
       "    <tr>\n",
       "      <th>5689</th>\n",
       "      <td>2019-07-05 14:00:00</td>\n",
       "      <td>4a3e8c01-1d47-4867-8a7f-14195a8dbb3d</td>\n",
       "      <td>14893</td>\n",
       "      <td>Базилик овощной Тонус в кассете 4 штуки среднеспелый</td>\n",
       "      <td>1</td>\n",
       "      <td>60</td>\n",
       "      <td>60</td>\n",
       "      <td>14</td>\n",
       "      <td>5</td>\n",
       "      <td>Friday</td>\n",
       "      <td>27</td>\n",
       "      <td>2019-07-01</td>\n",
       "      <td>2019</td>\n",
       "      <td>2019-07-05</td>\n",
       "      <td>24</td>\n",
       "      <td>0</td>\n",
       "      <td>1</td>\n",
       "      <td>Сад и огород</td>\n",
       "      <td>Роза кордана Красная Мерседес d-10 см</td>\n",
       "    </tr>\n",
       "    <tr>\n",
       "      <th>918</th>\n",
       "      <td>2018-11-22 22:00:00</td>\n",
       "      <td>138739ef-7689-4359-952c-ef623835db85</td>\n",
       "      <td>69089</td>\n",
       "      <td>Коврик придверный APACHE 45х76 см Flagstone 5415</td>\n",
       "      <td>1</td>\n",
       "      <td>1199</td>\n",
       "      <td>1199</td>\n",
       "      <td>22</td>\n",
       "      <td>22</td>\n",
       "      <td>Thursday</td>\n",
       "      <td>47</td>\n",
       "      <td>2018-11-01</td>\n",
       "      <td>2018</td>\n",
       "      <td>2018-11-22</td>\n",
       "      <td>1</td>\n",
       "      <td>1</td>\n",
       "      <td>0</td>\n",
       "      <td>Товары для дома</td>\n",
       "      <td>Сушилка для белья ЛИАНА ЛЮКС 190 см потолочная</td>\n",
       "    </tr>\n",
       "    <tr>\n",
       "      <th>5533</th>\n",
       "      <td>2019-06-22 06:00:00</td>\n",
       "      <td>1d6c8c1f-a799-4418-9af2-1ded47d7a85c</td>\n",
       "      <td>14833</td>\n",
       "      <td>Рассада Кабачка сорт Аэронавт, кассета по 6шт</td>\n",
       "      <td>1</td>\n",
       "      <td>120</td>\n",
       "      <td>120</td>\n",
       "      <td>6</td>\n",
       "      <td>22</td>\n",
       "      <td>Saturday</td>\n",
       "      <td>25</td>\n",
       "      <td>2019-06-01</td>\n",
       "      <td>2019</td>\n",
       "      <td>2019-06-22</td>\n",
       "      <td>12</td>\n",
       "      <td>0</td>\n",
       "      <td>1</td>\n",
       "      <td>Сад и огород</td>\n",
       "      <td>Энотера Миссурийская Золотая желтый объем 1 л</td>\n",
       "    </tr>\n",
       "    <tr>\n",
       "      <th>2969</th>\n",
       "      <td>2019-04-19 18:00:00</td>\n",
       "      <td>498f12a4-6a62-4725-8516-cf5dc9ab8a3a</td>\n",
       "      <td>71204</td>\n",
       "      <td>Салфетка Protec Textil Polyline 30х43 см Аметист белая 6230</td>\n",
       "      <td>60</td>\n",
       "      <td>191</td>\n",
       "      <td>11460</td>\n",
       "      <td>18</td>\n",
       "      <td>19</td>\n",
       "      <td>Friday</td>\n",
       "      <td>16</td>\n",
       "      <td>2019-04-01</td>\n",
       "      <td>2019</td>\n",
       "      <td>2019-04-19</td>\n",
       "      <td>1</td>\n",
       "      <td>1</td>\n",
       "      <td>0</td>\n",
       "      <td>Все для уборки</td>\n",
       "      <td>Швабра САЛЬСА треугольная МИНИ, Y8110</td>\n",
       "    </tr>\n",
       "  </tbody>\n",
       "</table>\n",
       "</div>"
      ],
      "text/plain": [
       "                    date                           customer_id  order_id  \\\n",
       "2629 2019-04-03 16:00:00  b7b865ab-0735-407f-8d0c-31f74d2806cc     14611   \n",
       "5689 2019-07-05 14:00:00  4a3e8c01-1d47-4867-8a7f-14195a8dbb3d     14893   \n",
       "918  2018-11-22 22:00:00  138739ef-7689-4359-952c-ef623835db85     69089   \n",
       "5533 2019-06-22 06:00:00  1d6c8c1f-a799-4418-9af2-1ded47d7a85c     14833   \n",
       "2969 2019-04-19 18:00:00  498f12a4-6a62-4725-8516-cf5dc9ab8a3a     71204   \n",
       "\n",
       "                                                                                product  \\\n",
       "2629  Рассада томата (помидор) Ола Полка № 96 сорт детерминантный раннеспелый оранжевый   \n",
       "5689                               Базилик овощной Тонус в кассете 4 штуки среднеспелый   \n",
       "918                                    Коврик придверный APACHE 45х76 см Flagstone 5415   \n",
       "5533                                      Рассада Кабачка сорт Аэронавт, кассета по 6шт   \n",
       "2969                        Салфетка Protec Textil Polyline 30х43 см Аметист белая 6230   \n",
       "\n",
       "      quantity  price  revenue  hour  day day_of_week  week      month  year  \\\n",
       "2629         5     38      190    16    3   Wednesday    14 2019-04-01  2019   \n",
       "5689         1     60       60    14    5      Friday    27 2019-07-01  2019   \n",
       "918          1   1199     1199    22   22    Thursday    47 2018-11-01  2018   \n",
       "5533         1    120      120     6   22    Saturday    25 2019-06-01  2019   \n",
       "2969        60    191    11460    18   19      Friday    16 2019-04-01  2019   \n",
       "\n",
       "             dt  unique_products_count  main  additional         category  \\\n",
       "2629 2019-04-03                      4     0           1     Сад и огород   \n",
       "5689 2019-07-05                     24     0           1     Сад и огород   \n",
       "918  2018-11-22                      1     1           0  Товары для дома   \n",
       "5533 2019-06-22                     12     0           1     Сад и огород   \n",
       "2969 2019-04-19                      1     1           0   Все для уборки   \n",
       "\n",
       "                                  additional_product  \n",
       "2629        Рассада Дыни сорт Дина горшок 9х9 см P-9  \n",
       "5689           Роза кордана Красная Мерседес d-10 см  \n",
       "918   Сушилка для белья ЛИАНА ЛЮКС 190 см потолочная  \n",
       "5533   Энотера Миссурийская Золотая желтый объем 1 л  \n",
       "2969           Швабра САЛЬСА треугольная МИНИ, Y8110  "
      ]
     },
     "execution_count": 71,
     "metadata": {},
     "output_type": "execute_result"
    }
   ],
   "source": [
    "df.sample(5)"
   ]
  },
  {
   "cell_type": "markdown",
   "metadata": {},
   "source": [
    "### Вывод\n",
    "\n",
    "**По результатам проверки описательной статистики:**\n",
    "\n",
    "- Среднее количество товаров в заказе 2.8;\n",
    "- Был очень крупный заказ на 1000 вантузов, отнесли его к аномалии;\n",
    "- Большой разброс цен, стандартное отклонение 945;\n",
    "- Поровну распределились основные и дополнительные товары.\n",
    "\n",
    "**По анализу количества заказов по времени и сезону:**\n",
    "\n",
    "- Весной, ожидаемо, товары категории \"Сад и огород\" продаются лучше, чем в остальные сезоны;\n",
    "- Во все остальные сезоны лидирует категория \"Товары для дома\";\n",
    "- По дням картина плюс минус одинаковая;\n",
    "- Больше всего заказов делают в будние дни, меньше всего по выходным;\n",
    "- Пик заказов приходится на промежуток с 10 до 13 часов.\n",
    "\n",
    "**По анализу количества покупателей по времени картина аналогична количеству заказов.**\n",
    "\n",
    "**По анализу выручки по времени:**\n",
    "\n",
    "- Был выброс 18 июня 2019 в 15 часов (вторник) - это аномалия с \"вантузами\";\n",
    "- Самую большую выручку магазин сделал в последние месяцы 2018 года;\n",
    "- Во вторник выручка больше, чем в другие дни;\n",
    "- В течении суток картина аналогична количеству заказов и оснавная выручка делается днем.\n",
    "\n",
    "**По анализу среднего чека по времени:**\n",
    "\n",
    "- В весенние месяцы покупатели, в среднем, делают более дешевые покупки;\n",
    "- Самый выгодный месяц январь, скорее всего, это связано с большим количеством выходных дней;\n",
    "- Средний чек во вторник и пятницу больше, чем в остальные дни;\n",
    "- В 7 утра самый большой чек, возможно это юр.лица закупаются перед началом рабочего дня.\n",
    "\n",
    "**По исследованию товарного ассортимента:**\n",
    "\n",
    "- Самым продаваемым товаром оказался \"Муляж ЯБЛОКО 9 см красное\" из категории \"Интерьер\", его купили 618 штук;\n",
    "- Хуже всего продавалась \"Термокружка\";\n",
    "- Самую большую выручку сделал товар \"Простынь вафельная 200х180 см WELLNESS RW180-01 100% хлопок\", он принес 53 тыс у.е.;\n",
    "- Больше всего товаров продается в категории \"Сад и огород\";\n",
    "- Самую большую выручку приносит категория \"Товары для дома\";\n",
    "- Самый большой ассортимент в категории \"Сад и огород\", дальше идут \"Товары для дома\";\n",
    "\n",
    "**Так же хотелось бы отметить, что был создан класс для рекомендации дополнительного товара на основе добавленного в заказ.**"
   ]
  },
  {
   "cell_type": "markdown",
   "metadata": {},
   "source": [
    "## Проверка статистических гипотез"
   ]
  },
  {
   "cell_type": "markdown",
   "metadata": {},
   "source": [
    "**На основании исследовательского анализа проверим следующие гипотезы:**\n",
    "\n",
    "- Средний чек по будням такой же, как и по выходным;\n",
    "- Средний чек днем такой же, как и ночью;\n",
    "- Средний чек в разные сезоны не отличается. Мы располагаем данными с 1 октября 2018 по 31 октября 2019, \n",
    "  поэтому для проверки будут взяты только данные с 1 декабря 2018 по 31 августа 2019 (зима, весна, лето);\n",
    "- Для всех гипотез возьмем критический уровень статистической значимости 5%."
   ]
  },
  {
   "cell_type": "markdown",
   "metadata": {},
   "source": [
    "### Средний чек по будням такой же, как и по выходным"
   ]
  },
  {
   "cell_type": "markdown",
   "metadata": {},
   "source": [
    "***Сформулируем нулевую гипотезу:*** *средний чек по будням такой же, как и по выходным.*  \n",
    "***Сформулируем алтернативную гипотезу:*** *средний чек по будням и по выходным различаются.*"
   ]
  },
  {
   "cell_type": "markdown",
   "metadata": {},
   "source": [
    "**Создадим две выборки weekday и day_off:**"
   ]
  },
  {
   "cell_type": "markdown",
   "metadata": {},
   "source": [
    "**Посмотрим на распределение по выборкам:**"
   ]
  },
  {
   "cell_type": "code",
   "execution_count": 72,
   "metadata": {},
   "outputs": [],
   "source": [
    "def draw_distribution(samples, titles):\n",
    "    \"\"\"\n",
    "    Функция для отрисовки распределения по выборкам.   \n",
    "\n",
    "    samples - кортеж содержащий выборки\n",
    "    titles - кортеж содержащий заголовки для выборок\n",
    "    \"\"\"\n",
    "\n",
    "    fig = make_subplots(rows=2, \n",
    "                        cols=len(samples), \n",
    "                        horizontal_spacing = 0.05, \n",
    "                        vertical_spacing = 0.1, \n",
    "                        subplot_titles=titles\n",
    "                       )\n",
    "\n",
    "    for n, value in enumerate(samples):\n",
    "        fig.add_trace(go.Histogram(\n",
    "            x=value,\n",
    "            showlegend=False,\n",
    "            hoverinfo=\"x\"),\n",
    "            row=1, col=n+1\n",
    "        )\n",
    "\n",
    "        fig.add_trace(go.Box(\n",
    "            x=value,\n",
    "            showlegend=False,\n",
    "            name='',\n",
    "            hoverinfo=\"x\"),\n",
    "            row=2, col=n+1\n",
    "        )\n",
    "\n",
    "    fig.update_layout(height=800)\n",
    "    fig.show()"
   ]
  },
  {
   "cell_type": "code",
   "execution_count": 73,
   "metadata": {},
   "outputs": [],
   "source": [
    "day_off_list = ['Saturday', 'Sunday']"
   ]
  },
  {
   "cell_type": "code",
   "execution_count": 74,
   "metadata": {},
   "outputs": [],
   "source": [
    "weekday = df[~df['day_of_week'].isin(day_off_list)].groupby('order_id')['revenue'].sum().reset_index()['revenue']"
   ]
  },
  {
   "cell_type": "code",
   "execution_count": 75,
   "metadata": {},
   "outputs": [],
   "source": [
    "day_off = df[df['day_of_week'].isin(day_off_list)].groupby('order_id')['revenue'].sum().reset_index()['revenue']"
   ]
  },
  {
   "cell_type": "code",
   "execution_count": 76,
   "metadata": {},
   "outputs": [
    {
     "data": {
      "application/vnd.plotly.v1+json": {
       "config": {
        "plotlyServerURL": "https://plot.ly"
       },
       "data": [
        {
         "hoverinfo": "x",
         "showlegend": false,
         "type": "histogram",
         "x": [
          684,
          359,
          600,
          676,
          1880,
          514,
          750,
          752,
          1238,
          303,
          1132,
          404,
          1051,
          564,
          750,
          573,
          488,
          1127,
          434,
          564,
          752,
          376,
          291,
          314,
          787,
          864,
          1214,
          300,
          90,
          540,
          300,
          135,
          360,
          832,
          2395,
          300,
          270,
          1470,
          450,
          2788,
          1320,
          812,
          428,
          114,
          488,
          413,
          1090,
          540,
          450,
          405,
          955,
          993,
          2154,
          494,
          863,
          1481,
          470,
          1910,
          1415,
          405,
          1215,
          1276,
          1140,
          2723,
          1759,
          843,
          1128,
          577,
          1916,
          164,
          1407,
          561,
          473,
          698,
          300,
          370,
          2254,
          405,
          1164,
          593,
          2704,
          376,
          1696,
          434,
          771,
          1218,
          2166,
          384,
          2824,
          4303,
          1276,
          2090,
          304,
          285,
          405,
          836,
          555,
          975,
          914,
          1483,
          1534,
          2280,
          608,
          540,
          900,
          1222,
          426,
          2050,
          209,
          4682,
          810,
          3776,
          1056,
          705,
          1588,
          4558,
          526,
          1784,
          1071,
          10656,
          900,
          840,
          1067,
          2707,
          1434,
          1381,
          2068,
          830,
          1210,
          1035,
          2644,
          506,
          690,
          976,
          1786,
          3388,
          1612,
          690,
          532,
          1775,
          968,
          1077,
          1503,
          712,
          2090,
          924,
          507,
          405,
          1064,
          2421,
          1618,
          1292,
          942,
          964,
          915,
          360,
          480,
          1266,
          466,
          1350,
          808,
          818,
          1408,
          795,
          704,
          456,
          408,
          480,
          1974,
          684,
          1271,
          830,
          456,
          4187,
          1379,
          570,
          420,
          3060,
          3620,
          1350,
          410,
          976,
          2180,
          632,
          600,
          3970,
          510,
          97,
          225,
          877,
          1111,
          135,
          584,
          2452,
          1504,
          690,
          292,
          270,
          374,
          944,
          591,
          488,
          902,
          1148,
          1018,
          1225,
          2928,
          420,
          584,
          376,
          285,
          488,
          1432,
          848,
          2528,
          209,
          1457,
          742,
          190,
          726,
          1128,
          188,
          135,
          676,
          600,
          510,
          420,
          2658,
          544,
          728,
          564,
          345,
          675,
          488,
          577,
          728,
          675,
          600,
          646,
          135,
          1699,
          270,
          555,
          232,
          376,
          260,
          1837,
          418,
          194,
          374,
          3299,
          2374,
          1037,
          269,
          824,
          674,
          820,
          614,
          187,
          188,
          1162,
          1049,
          1785,
          976,
          703,
          1236,
          3524,
          1562,
          2924,
          299,
          193,
          860,
          749,
          1941,
          1649,
          127,
          187,
          1762,
          524,
          567,
          1409,
          4379,
          374,
          840,
          1874,
          149,
          3298,
          8758,
          2998,
          149,
          582,
          239,
          149,
          2453,
          464,
          1199,
          742,
          712,
          614,
          1724,
          280,
          3822,
          254,
          1420,
          292,
          919,
          749,
          1949,
          2083,
          239,
          1216,
          2699,
          449,
          1425,
          1049,
          599,
          525,
          1274,
          374,
          742,
          200,
          2699,
          3899,
          1139,
          2550,
          463,
          1012,
          637,
          596,
          1770,
          3089,
          188,
          1574,
          2324,
          2850,
          672,
          1093,
          156,
          539,
          1874,
          164,
          1490,
          1012,
          1900,
          224,
          374,
          2398,
          1874,
          2324,
          314,
          2990,
          2174,
          831,
          562,
          300,
          862,
          4796,
          3974,
          397,
          570,
          447,
          1199,
          560,
          621,
          734,
          1347,
          937,
          1012,
          1615,
          1531,
          2020,
          1649,
          1798,
          1836,
          897,
          1723,
          224,
          852,
          824,
          3658,
          343,
          1190,
          1083,
          734,
          2399,
          1981,
          599,
          637,
          2099,
          1199,
          9010,
          1724,
          560,
          2549,
          149,
          299,
          1574,
          5469,
          449,
          896,
          82,
          1574,
          1612,
          644,
          1274,
          2924,
          928,
          1012,
          3749,
          749,
          18982,
          1515,
          374,
          2999,
          307,
          1147,
          824,
          374,
          2623,
          1199,
          1101,
          1686,
          236,
          210,
          3133,
          2996,
          742,
          974,
          149,
          44,
          8670,
          742,
          742,
          748,
          1440,
          544,
          1191,
          1012,
          8260,
          600,
          1499,
          1473,
          5249,
          6007,
          1408,
          1619,
          974,
          486,
          3298,
          614,
          81,
          6007,
          7597,
          524,
          24370,
          1949,
          937,
          974,
          2728,
          1124,
          637,
          267,
          928,
          697,
          5970,
          1949,
          547,
          149,
          381,
          599,
          374,
          7722,
          894,
          449,
          3440,
          749,
          460,
          1949,
          450,
          546,
          734,
          440,
          1649,
          2774,
          742,
          487,
          3374,
          4949,
          820,
          1574,
          470,
          268,
          993,
          1073,
          1874,
          2998,
          2849,
          899,
          67,
          637,
          638,
          354,
          15,
          824,
          449,
          2698,
          404,
          104,
          742,
          412,
          787,
          225,
          749,
          1648,
          599,
          478,
          539,
          1574,
          899,
          59,
          712,
          1799,
          1662,
          1649,
          2441,
          3006,
          1203,
          2424,
          2532,
          1196,
          708,
          2209,
          380,
          909,
          2924,
          45,
          922,
          894,
          239,
          1199,
          2109,
          1349,
          1874,
          1912,
          2624,
          363,
          490,
          44,
          447,
          300,
          637,
          1716,
          4495,
          1213,
          9915,
          247,
          1274,
          427,
          2249,
          2624,
          4049,
          1124,
          1010,
          524,
          224,
          2699,
          5160,
          740,
          2399,
          2924,
          1837,
          4432,
          59,
          446,
          930,
          937,
          937,
          187,
          810,
          299,
          1049,
          2827,
          3224,
          734,
          60,
          1649,
          299,
          689,
          749,
          712,
          749,
          749,
          194,
          4859,
          974,
          2024,
          1856,
          112,
          697,
          1049,
          112,
          5249,
          1049,
          2849,
          292,
          1912,
          6134,
          88,
          134,
          127,
          3329,
          1034,
          1461,
          134,
          329,
          1874,
          1049,
          264,
          509,
          149,
          1725,
          689,
          528,
          164,
          2324,
          402,
          149,
          584,
          479,
          1574,
          3299,
          704,
          1649,
          202,
          359,
          2699,
          1164,
          1799,
          5024,
          59,
          899,
          447,
          292,
          44,
          5662,
          177,
          239,
          134,
          449,
          118,
          2849,
          224,
          719,
          2174,
          656,
          328,
          52,
          637,
          749,
          157,
          674,
          134,
          1049,
          2024,
          1874,
          1049,
          745,
          89,
          389,
          1724,
          449,
          704,
          418,
          209,
          66,
          148,
          624,
          651,
          7424,
          4124,
          780,
          637,
          412,
          898,
          52,
          149,
          1049,
          1049,
          442,
          637,
          1649,
          1049,
          568,
          442,
          2699,
          268,
          1649,
          448,
          134,
          708,
          88,
          374,
          3524,
          749,
          359,
          374,
          87,
          1049,
          367,
          539,
          712,
          745,
          1199,
          172,
          2361,
          2098,
          1874,
          1612,
          44,
          598,
          1049,
          516,
          787,
          2699,
          149,
          6270,
          74,
          824,
          1649,
          32718,
          3598,
          2361,
          464,
          4139,
          149,
          44,
          134,
          2999,
          149,
          862,
          464,
          1649,
          344,
          1424,
          3148,
          416,
          375,
          1139,
          2924,
          1049,
          712,
          194,
          3247,
          112,
          149,
          1049,
          1049,
          907,
          974,
          2460,
          1912,
          1139,
          1574,
          1649,
          112,
          748,
          2624,
          1987,
          1049,
          450,
          1574,
          224,
          442,
          3329,
          299,
          254,
          1874,
          187,
          1799,
          298,
          1049,
          471,
          1049,
          1499,
          637,
          1349,
          2174,
          749,
          2549,
          899,
          1612,
          149,
          1162,
          262,
          1049,
          202,
          239,
          584,
          945,
          479,
          487,
          1799,
          1874,
          299,
          389,
          899,
          2024,
          1162,
          1214,
          134,
          1199,
          2460,
          488,
          899,
          974,
          5998,
          937,
          374,
          5399,
          154,
          472,
          5847,
          1056,
          487,
          209,
          448,
          2849,
          112,
          492,
          224,
          590,
          958,
          127,
          652,
          1874,
          112,
          157,
          135,
          1724,
          59,
          59,
          47385,
          598,
          2800,
          232,
          1649,
          22,
          749,
          1237,
          112,
          134,
          134,
          328,
          1198,
          44,
          2699,
          373,
          382,
          312,
          727,
          164,
          1572,
          569,
          487,
          554,
          569,
          554,
          374,
          2399,
          689,
          1302,
          374,
          149,
          2219,
          4272,
          11250,
          742,
          119,
          74,
          157,
          710,
          164,
          1515,
          1368,
          224,
          554,
          1344,
          539,
          1642,
          1574,
          374,
          517,
          764,
          2099,
          674,
          389,
          119,
          149,
          374,
          149,
          1916,
          4424,
          2527,
          5775,
          299,
          1574,
          1012,
          524,
          487,
          224,
          299,
          4957,
          1162,
          127,
          448,
          81,
          727,
          3749,
          974,
          1424,
          74,
          1424,
          667,
          157,
          464,
          209,
          635,
          5249,
          727,
          16536,
          2699,
          299,
          1574,
          974,
          1799,
          22,
          6149,
          1275,
          937,
          802,
          82,
          67,
          1949,
          2697,
          286,
          104,
          134,
          899,
          667,
          164,
          268,
          44,
          899,
          899,
          1649,
          1498,
          652,
          1424,
          208,
          569,
          727,
          59,
          11000,
          592,
          7480,
          187,
          1649,
          516,
          1124,
          1799,
          614,
          2999,
          88,
          134,
          3524,
          1139,
          1949,
          292,
          1522,
          1574,
          277,
          614,
          1162,
          209,
          1799,
          787,
          336,
          1799,
          389,
          134,
          232,
          1574,
          1087,
          66,
          374,
          164,
          134,
          44,
          1409,
          3329,
          134,
          299,
          3562,
          328,
          748,
          899,
          134,
          607,
          3667,
          157,
          179,
          59,
          3329,
          134,
          1874,
          2324,
          328,
          1087,
          440,
          3112,
          1736,
          378,
          299,
          2120,
          157,
          479,
          127,
          787,
          727,
          562,
          1124,
          2211,
          560,
          224,
          741,
          502,
          2699,
          2146,
          2550,
          1087,
          2849,
          492,
          88,
          1198,
          862,
          804,
          1568,
          1649,
          749,
          337,
          749,
          974,
          2849,
          149,
          680,
          899,
          3674,
          134,
          1649,
          449,
          314,
          134,
          374,
          727,
          1085,
          112,
          2699,
          487,
          209,
          299,
          157,
          1780,
          2774,
          120,
          820,
          674,
          134,
          1087,
          134,
          471,
          2099,
          194,
          157,
          157,
          239,
          487,
          87,
          487,
          119,
          637,
          134,
          1120,
          134,
          735,
          824,
          520,
          1898,
          164,
          59,
          1199,
          614,
          1350,
          742,
          742,
          149,
          717,
          389,
          674,
          464,
          900,
          974,
          187,
          104,
          430,
          58,
          2550,
          562,
          914,
          74,
          194,
          67,
          74,
          487,
          727,
          2041,
          2220,
          487,
          67,
          350,
          599,
          74,
          2024,
          727,
          5594,
          4900,
          560,
          1649,
          74,
          388,
          127,
          670,
          1154,
          1087,
          388,
          74,
          1288,
          307,
          127,
          1349,
          3525,
          599,
          922,
          134,
          1762,
          776,
          295,
          1949,
          119,
          292,
          1087,
          666,
          374,
          689,
          1199,
          603,
          898,
          555,
          764,
          74,
          2137,
          134,
          449,
          104,
          3719,
          1949,
          480,
          2249,
          614,
          134,
          412,
          225,
          5459,
          4117,
          3787,
          810,
          74,
          194,
          1012,
          413,
          1087,
          134,
          1376,
          1087,
          974,
          637,
          5249,
          727,
          727,
          1049,
          74,
          112,
          1312,
          1199,
          1087,
          314,
          2549,
          614,
          209,
          314,
          52,
          1874,
          1649,
          209,
          779,
          509,
          397,
          2998,
          652,
          187,
          2915,
          52,
          157,
          1087,
          268,
          127,
          1574,
          1949,
          7679,
          187,
          1892,
          727,
          1049,
          1874,
          1124,
          222,
          104,
          157,
          67,
          59,
          749,
          194,
          444,
          742,
          3749,
          1087,
          299,
          5594,
          412,
          750,
          225,
          590,
          727,
          59,
          74,
          712,
          652,
          134,
          236,
          2399,
          59,
          2694,
          187,
          1574,
          974,
          2247,
          1649,
          157,
          3599,
          734,
          1056,
          104,
          898,
          1799,
          4049,
          1770,
          1056,
          508,
          254,
          1496,
          712,
          134,
          280,
          2624,
          74,
          74,
          824,
          246,
          134,
          134,
          3787,
          74,
          524,
          620,
          74,
          44,
          1770,
          59,
          3448,
          1949,
          734,
          134,
          734,
          148,
          209,
          357,
          87,
          1167,
          1087,
          600,
          1162,
          148,
          84,
          928,
          3776,
          5287,
          298,
          925,
          1762,
          52,
          352,
          405,
          1649,
          119,
          22,
          3329,
          988,
          547,
          2624,
          487,
          412,
          140,
          1177,
          5398,
          749,
          734,
          4574,
          974,
          600,
          134,
          2245,
          2249,
          742,
          749,
          6149,
          449,
          712,
          52,
          734,
          8737,
          430,
          1087,
          134,
          74,
          6149,
          2999,
          134,
          734,
          280,
          134,
          268,
          1049,
          442,
          2234,
          3074,
          374,
          659,
          74,
          224,
          524,
          734,
          198,
          44,
          5249,
          1574,
          1049,
          1949,
          22,
          147,
          899,
          118,
          5397,
          787,
          389,
          974,
          1012,
          1199,
          194,
          1649,
          59,
          397,
          236,
          269,
          87,
          1424,
          1424,
          718,
          869,
          200,
          370,
          22,
          599,
          899,
          374,
          2001,
          232,
          59,
          524,
          148,
          1312,
          1312,
          11460,
          14196,
          15680,
          564,
          134,
          412,
          569,
          569,
          74,
          312,
          28,
          688,
          22,
          22,
          464,
          412,
          2624,
          2699,
          134,
          475,
          179,
          239,
          2699,
          97,
          231,
          1499,
          787,
          4470,
          592,
          134,
          97,
          374,
          156,
          896,
          472,
          472,
          217,
          217,
          217,
          637,
          1087,
          1087,
          22,
          1920,
          134,
          37,
          1574,
          134,
          157,
          224,
          224,
          295,
          74,
          487,
          120,
          1122,
          208,
          389,
          2999,
          2999,
          1012,
          2774,
          134,
          502,
          164,
          359,
          937,
          88,
          898,
          899,
          208,
          4874,
          1087,
          1087,
          1499,
          1724,
          509,
          672,
          509,
          284,
          599,
          299,
          1076,
          3898,
          6097,
          232,
          74,
          44,
          200,
          568,
          6097,
          284,
          734,
          1642,
          157,
          449,
          314,
          749,
          134,
          15300,
          1087,
          112,
          652,
          1574,
          1920,
          74,
          209,
          3562,
          1649,
          337,
          1530,
          157,
          974,
          734,
          6449,
          344,
          1499,
          1498,
          3787,
          464,
          299,
          22,
          397,
          134,
          4312,
          1920,
          38,
          149,
          164,
          38,
          217,
          1912,
          2926,
          2230,
          217,
          448,
          134,
          487,
          1949,
          419,
          487,
          74,
          1180,
          1664,
          299,
          734,
          11400,
          599,
          134,
          134,
          412,
          1649,
          329,
          1196,
          224,
          328,
          1762,
          3760,
          987,
          299,
          4040,
          74,
          5549,
          14,
          445,
          472,
          164,
          778,
          412,
          15,
          208,
          134,
          750,
          974,
          1087,
          49432,
          336,
          824,
          7004,
          6809,
          487,
          2549,
          296,
          734,
          704,
          8832,
          6614,
          899,
          539,
          208,
          450,
          164,
          704,
          388,
          734,
          1880,
          749,
          734,
          1574,
          74,
          3749,
          1162,
          3974,
          487,
          300,
          239,
          2549,
          268,
          239,
          1649,
          524,
          749,
          1649,
          974,
          402,
          1800,
          164,
          74,
          157,
          187,
          164,
          74,
          1275,
          600,
          734,
          1087,
          1087,
          374,
          134,
          824,
          376,
          824,
          1520,
          262,
          194,
          974,
          200,
          149,
          314,
          97,
          2324,
          1087,
          734,
          402,
          1087,
          449,
          427,
          5939,
          614,
          149,
          1424,
          147,
          560,
          600,
          2527,
          787,
          749,
          599,
          596,
          134,
          404,
          134,
          88,
          697,
          3899,
          74,
          2527,
          449,
          4494,
          329,
          157,
          488,
          412,
          134,
          164,
          397,
          599,
          295,
          52,
          277,
          328,
          464,
          2699,
          674,
          277,
          239,
          717,
          194,
          134,
          2249,
          592,
          1349,
          413,
          104,
          59,
          2174,
          7870,
          1087,
          500,
          254,
          3787,
          157,
          44,
          734,
          552,
          59,
          187,
          950,
          697,
          1762,
          134,
          652,
          134,
          118,
          569,
          4390,
          247,
          1649,
          66,
          119,
          1874,
          1087,
          6148,
          194,
          899,
          389,
          1649,
          749,
          598,
          3375,
          3674,
          3748,
          3449,
          149,
          577,
          1612,
          412,
          59,
          935,
          2025,
          375,
          2136,
          434,
          749,
          830,
          3749,
          220,
          1034,
          674,
          127,
          74,
          58,
          1424,
          1060,
          1649,
          464,
          1649,
          592,
          554,
          2699,
          1087,
          599,
          749,
          562,
          638,
          118,
          1447,
          52,
          42,
          1274,
          1162,
          14917,
          7679,
          150,
          150,
          1124,
          149,
          449,
          404,
          7199,
          1648,
          974,
          8810,
          614,
          899,
          74,
          247,
          2527,
          44,
          97,
          82,
          337,
          745,
          150,
          4574,
          1499,
          97,
          734,
          2699,
          134,
          224,
          74,
          1162,
          1612,
          524,
          1204,
          134,
          1199,
          1162,
          74,
          299,
          440,
          268,
          1125,
          1874,
          1108,
          1124,
          509,
          1050,
          300,
          1087,
          582,
          208,
          116,
          787,
          525,
          674,
          2549,
          404,
          975,
          110,
          134,
          449,
          3674,
          524,
          2699,
          674,
          577,
          3562,
          838,
          449,
          5399,
          564,
          2399,
          1574,
          472,
          635,
          370,
          1649,
          172,
          375,
          4495,
          74,
          1087,
          104,
          899,
          487,
          450,
          1349,
          1349,
          188,
          1642,
          1124,
          546,
          202,
          450,
          157,
          450,
          111,
          7349,
          59,
          82,
          45,
          6449,
          450,
          374,
          29,
          1837,
          299,
          1368,
          412,
          150,
          1912,
          1900,
          389,
          831,
          1124,
          164,
          712,
          134,
          525,
          1087,
          262,
          968,
          4574,
          3524,
          1087,
          1649,
          402,
          1649,
          74,
          145,
          1050,
          389,
          1034,
          1349,
          450,
          1060,
          1874,
          412,
          1087,
          389,
          164,
          412,
          1049,
          2624,
          75,
          1949,
          59,
          374,
          268,
          188,
          157,
          225,
          268,
          1612,
          374,
          2137,
          674,
          1424,
          748,
          4648,
          1034,
          239,
          974,
          74,
          195,
          225,
          2249,
          74,
          3375,
          853,
          1050,
          1124,
          1087,
          600,
          734,
          749,
          1124,
          5594,
          1087,
          1124,
          599,
          3898,
          675,
          524,
          448,
          202,
          596,
          134,
          157,
          1499,
          1649,
          750,
          134,
          150,
          157,
          157,
          134,
          1499,
          824,
          1274,
          3598,
          59,
          524,
          478,
          450,
          1649,
          7496,
          614,
          74,
          1425,
          3599,
          2774,
          127,
          1124,
          824,
          74,
          1349,
          577,
          269,
          74,
          2249,
          134,
          598,
          224,
          217,
          52,
          2099,
          412,
          787,
          134,
          674,
          134,
          3290,
          554,
          307,
          299,
          74,
          134,
          74,
          156,
          734,
          300,
          734,
          3580,
          402,
          599,
          472,
          149,
          1649,
          734,
          1087,
          3599,
          1424,
          1124,
          74,
          157,
          599,
          1087,
          374,
          1574,
          599,
          5136,
          74,
          1660,
          404,
          66,
          1087,
          119,
          174,
          1168,
          704,
          3975,
          3975,
          2360,
          599,
          59,
          172,
          404,
          2024,
          2024,
          599,
          187,
          224,
          3712,
          749,
          112,
          5420,
          149,
          638,
          187,
          1199,
          374,
          37,
          599,
          517,
          974,
          374,
          312,
          2849,
          1649,
          599,
          328,
          524,
          524,
          1087,
          1087,
          225,
          262,
          1500,
          202,
          6075,
          329,
          1087,
          88,
          4724,
          974,
          74,
          472,
          142,
          914,
          674,
          3149,
          3524,
          224,
          222,
          974,
          4198,
          202,
          1087,
          1649,
          1087,
          6600,
          1949,
          224,
          439,
          7724,
          404,
          149,
          824,
          862,
          149,
          2474,
          445,
          1048,
          974,
          2474,
          1087,
          220,
          149,
          900,
          749,
          1574,
          352,
          1087,
          37,
          134,
          637,
          524,
          177,
          577,
          2550,
          375,
          2399,
          3298,
          697,
          74,
          74,
          6899,
          3779,
          58,
          439,
          1649,
          500,
          224,
          134,
          1034,
          74,
          749,
          149,
          344,
          149,
          149,
          397,
          1087,
          447,
          509,
          1349,
          88,
          1949,
          524,
          119,
          899,
          127,
          314,
          112,
          329,
          404,
          1087,
          157,
          397
         ],
         "xaxis": "x",
         "yaxis": "y"
        },
        {
         "hoverinfo": "x",
         "name": "",
         "showlegend": false,
         "type": "box",
         "x": [
          684,
          359,
          600,
          676,
          1880,
          514,
          750,
          752,
          1238,
          303,
          1132,
          404,
          1051,
          564,
          750,
          573,
          488,
          1127,
          434,
          564,
          752,
          376,
          291,
          314,
          787,
          864,
          1214,
          300,
          90,
          540,
          300,
          135,
          360,
          832,
          2395,
          300,
          270,
          1470,
          450,
          2788,
          1320,
          812,
          428,
          114,
          488,
          413,
          1090,
          540,
          450,
          405,
          955,
          993,
          2154,
          494,
          863,
          1481,
          470,
          1910,
          1415,
          405,
          1215,
          1276,
          1140,
          2723,
          1759,
          843,
          1128,
          577,
          1916,
          164,
          1407,
          561,
          473,
          698,
          300,
          370,
          2254,
          405,
          1164,
          593,
          2704,
          376,
          1696,
          434,
          771,
          1218,
          2166,
          384,
          2824,
          4303,
          1276,
          2090,
          304,
          285,
          405,
          836,
          555,
          975,
          914,
          1483,
          1534,
          2280,
          608,
          540,
          900,
          1222,
          426,
          2050,
          209,
          4682,
          810,
          3776,
          1056,
          705,
          1588,
          4558,
          526,
          1784,
          1071,
          10656,
          900,
          840,
          1067,
          2707,
          1434,
          1381,
          2068,
          830,
          1210,
          1035,
          2644,
          506,
          690,
          976,
          1786,
          3388,
          1612,
          690,
          532,
          1775,
          968,
          1077,
          1503,
          712,
          2090,
          924,
          507,
          405,
          1064,
          2421,
          1618,
          1292,
          942,
          964,
          915,
          360,
          480,
          1266,
          466,
          1350,
          808,
          818,
          1408,
          795,
          704,
          456,
          408,
          480,
          1974,
          684,
          1271,
          830,
          456,
          4187,
          1379,
          570,
          420,
          3060,
          3620,
          1350,
          410,
          976,
          2180,
          632,
          600,
          3970,
          510,
          97,
          225,
          877,
          1111,
          135,
          584,
          2452,
          1504,
          690,
          292,
          270,
          374,
          944,
          591,
          488,
          902,
          1148,
          1018,
          1225,
          2928,
          420,
          584,
          376,
          285,
          488,
          1432,
          848,
          2528,
          209,
          1457,
          742,
          190,
          726,
          1128,
          188,
          135,
          676,
          600,
          510,
          420,
          2658,
          544,
          728,
          564,
          345,
          675,
          488,
          577,
          728,
          675,
          600,
          646,
          135,
          1699,
          270,
          555,
          232,
          376,
          260,
          1837,
          418,
          194,
          374,
          3299,
          2374,
          1037,
          269,
          824,
          674,
          820,
          614,
          187,
          188,
          1162,
          1049,
          1785,
          976,
          703,
          1236,
          3524,
          1562,
          2924,
          299,
          193,
          860,
          749,
          1941,
          1649,
          127,
          187,
          1762,
          524,
          567,
          1409,
          4379,
          374,
          840,
          1874,
          149,
          3298,
          8758,
          2998,
          149,
          582,
          239,
          149,
          2453,
          464,
          1199,
          742,
          712,
          614,
          1724,
          280,
          3822,
          254,
          1420,
          292,
          919,
          749,
          1949,
          2083,
          239,
          1216,
          2699,
          449,
          1425,
          1049,
          599,
          525,
          1274,
          374,
          742,
          200,
          2699,
          3899,
          1139,
          2550,
          463,
          1012,
          637,
          596,
          1770,
          3089,
          188,
          1574,
          2324,
          2850,
          672,
          1093,
          156,
          539,
          1874,
          164,
          1490,
          1012,
          1900,
          224,
          374,
          2398,
          1874,
          2324,
          314,
          2990,
          2174,
          831,
          562,
          300,
          862,
          4796,
          3974,
          397,
          570,
          447,
          1199,
          560,
          621,
          734,
          1347,
          937,
          1012,
          1615,
          1531,
          2020,
          1649,
          1798,
          1836,
          897,
          1723,
          224,
          852,
          824,
          3658,
          343,
          1190,
          1083,
          734,
          2399,
          1981,
          599,
          637,
          2099,
          1199,
          9010,
          1724,
          560,
          2549,
          149,
          299,
          1574,
          5469,
          449,
          896,
          82,
          1574,
          1612,
          644,
          1274,
          2924,
          928,
          1012,
          3749,
          749,
          18982,
          1515,
          374,
          2999,
          307,
          1147,
          824,
          374,
          2623,
          1199,
          1101,
          1686,
          236,
          210,
          3133,
          2996,
          742,
          974,
          149,
          44,
          8670,
          742,
          742,
          748,
          1440,
          544,
          1191,
          1012,
          8260,
          600,
          1499,
          1473,
          5249,
          6007,
          1408,
          1619,
          974,
          486,
          3298,
          614,
          81,
          6007,
          7597,
          524,
          24370,
          1949,
          937,
          974,
          2728,
          1124,
          637,
          267,
          928,
          697,
          5970,
          1949,
          547,
          149,
          381,
          599,
          374,
          7722,
          894,
          449,
          3440,
          749,
          460,
          1949,
          450,
          546,
          734,
          440,
          1649,
          2774,
          742,
          487,
          3374,
          4949,
          820,
          1574,
          470,
          268,
          993,
          1073,
          1874,
          2998,
          2849,
          899,
          67,
          637,
          638,
          354,
          15,
          824,
          449,
          2698,
          404,
          104,
          742,
          412,
          787,
          225,
          749,
          1648,
          599,
          478,
          539,
          1574,
          899,
          59,
          712,
          1799,
          1662,
          1649,
          2441,
          3006,
          1203,
          2424,
          2532,
          1196,
          708,
          2209,
          380,
          909,
          2924,
          45,
          922,
          894,
          239,
          1199,
          2109,
          1349,
          1874,
          1912,
          2624,
          363,
          490,
          44,
          447,
          300,
          637,
          1716,
          4495,
          1213,
          9915,
          247,
          1274,
          427,
          2249,
          2624,
          4049,
          1124,
          1010,
          524,
          224,
          2699,
          5160,
          740,
          2399,
          2924,
          1837,
          4432,
          59,
          446,
          930,
          937,
          937,
          187,
          810,
          299,
          1049,
          2827,
          3224,
          734,
          60,
          1649,
          299,
          689,
          749,
          712,
          749,
          749,
          194,
          4859,
          974,
          2024,
          1856,
          112,
          697,
          1049,
          112,
          5249,
          1049,
          2849,
          292,
          1912,
          6134,
          88,
          134,
          127,
          3329,
          1034,
          1461,
          134,
          329,
          1874,
          1049,
          264,
          509,
          149,
          1725,
          689,
          528,
          164,
          2324,
          402,
          149,
          584,
          479,
          1574,
          3299,
          704,
          1649,
          202,
          359,
          2699,
          1164,
          1799,
          5024,
          59,
          899,
          447,
          292,
          44,
          5662,
          177,
          239,
          134,
          449,
          118,
          2849,
          224,
          719,
          2174,
          656,
          328,
          52,
          637,
          749,
          157,
          674,
          134,
          1049,
          2024,
          1874,
          1049,
          745,
          89,
          389,
          1724,
          449,
          704,
          418,
          209,
          66,
          148,
          624,
          651,
          7424,
          4124,
          780,
          637,
          412,
          898,
          52,
          149,
          1049,
          1049,
          442,
          637,
          1649,
          1049,
          568,
          442,
          2699,
          268,
          1649,
          448,
          134,
          708,
          88,
          374,
          3524,
          749,
          359,
          374,
          87,
          1049,
          367,
          539,
          712,
          745,
          1199,
          172,
          2361,
          2098,
          1874,
          1612,
          44,
          598,
          1049,
          516,
          787,
          2699,
          149,
          6270,
          74,
          824,
          1649,
          32718,
          3598,
          2361,
          464,
          4139,
          149,
          44,
          134,
          2999,
          149,
          862,
          464,
          1649,
          344,
          1424,
          3148,
          416,
          375,
          1139,
          2924,
          1049,
          712,
          194,
          3247,
          112,
          149,
          1049,
          1049,
          907,
          974,
          2460,
          1912,
          1139,
          1574,
          1649,
          112,
          748,
          2624,
          1987,
          1049,
          450,
          1574,
          224,
          442,
          3329,
          299,
          254,
          1874,
          187,
          1799,
          298,
          1049,
          471,
          1049,
          1499,
          637,
          1349,
          2174,
          749,
          2549,
          899,
          1612,
          149,
          1162,
          262,
          1049,
          202,
          239,
          584,
          945,
          479,
          487,
          1799,
          1874,
          299,
          389,
          899,
          2024,
          1162,
          1214,
          134,
          1199,
          2460,
          488,
          899,
          974,
          5998,
          937,
          374,
          5399,
          154,
          472,
          5847,
          1056,
          487,
          209,
          448,
          2849,
          112,
          492,
          224,
          590,
          958,
          127,
          652,
          1874,
          112,
          157,
          135,
          1724,
          59,
          59,
          47385,
          598,
          2800,
          232,
          1649,
          22,
          749,
          1237,
          112,
          134,
          134,
          328,
          1198,
          44,
          2699,
          373,
          382,
          312,
          727,
          164,
          1572,
          569,
          487,
          554,
          569,
          554,
          374,
          2399,
          689,
          1302,
          374,
          149,
          2219,
          4272,
          11250,
          742,
          119,
          74,
          157,
          710,
          164,
          1515,
          1368,
          224,
          554,
          1344,
          539,
          1642,
          1574,
          374,
          517,
          764,
          2099,
          674,
          389,
          119,
          149,
          374,
          149,
          1916,
          4424,
          2527,
          5775,
          299,
          1574,
          1012,
          524,
          487,
          224,
          299,
          4957,
          1162,
          127,
          448,
          81,
          727,
          3749,
          974,
          1424,
          74,
          1424,
          667,
          157,
          464,
          209,
          635,
          5249,
          727,
          16536,
          2699,
          299,
          1574,
          974,
          1799,
          22,
          6149,
          1275,
          937,
          802,
          82,
          67,
          1949,
          2697,
          286,
          104,
          134,
          899,
          667,
          164,
          268,
          44,
          899,
          899,
          1649,
          1498,
          652,
          1424,
          208,
          569,
          727,
          59,
          11000,
          592,
          7480,
          187,
          1649,
          516,
          1124,
          1799,
          614,
          2999,
          88,
          134,
          3524,
          1139,
          1949,
          292,
          1522,
          1574,
          277,
          614,
          1162,
          209,
          1799,
          787,
          336,
          1799,
          389,
          134,
          232,
          1574,
          1087,
          66,
          374,
          164,
          134,
          44,
          1409,
          3329,
          134,
          299,
          3562,
          328,
          748,
          899,
          134,
          607,
          3667,
          157,
          179,
          59,
          3329,
          134,
          1874,
          2324,
          328,
          1087,
          440,
          3112,
          1736,
          378,
          299,
          2120,
          157,
          479,
          127,
          787,
          727,
          562,
          1124,
          2211,
          560,
          224,
          741,
          502,
          2699,
          2146,
          2550,
          1087,
          2849,
          492,
          88,
          1198,
          862,
          804,
          1568,
          1649,
          749,
          337,
          749,
          974,
          2849,
          149,
          680,
          899,
          3674,
          134,
          1649,
          449,
          314,
          134,
          374,
          727,
          1085,
          112,
          2699,
          487,
          209,
          299,
          157,
          1780,
          2774,
          120,
          820,
          674,
          134,
          1087,
          134,
          471,
          2099,
          194,
          157,
          157,
          239,
          487,
          87,
          487,
          119,
          637,
          134,
          1120,
          134,
          735,
          824,
          520,
          1898,
          164,
          59,
          1199,
          614,
          1350,
          742,
          742,
          149,
          717,
          389,
          674,
          464,
          900,
          974,
          187,
          104,
          430,
          58,
          2550,
          562,
          914,
          74,
          194,
          67,
          74,
          487,
          727,
          2041,
          2220,
          487,
          67,
          350,
          599,
          74,
          2024,
          727,
          5594,
          4900,
          560,
          1649,
          74,
          388,
          127,
          670,
          1154,
          1087,
          388,
          74,
          1288,
          307,
          127,
          1349,
          3525,
          599,
          922,
          134,
          1762,
          776,
          295,
          1949,
          119,
          292,
          1087,
          666,
          374,
          689,
          1199,
          603,
          898,
          555,
          764,
          74,
          2137,
          134,
          449,
          104,
          3719,
          1949,
          480,
          2249,
          614,
          134,
          412,
          225,
          5459,
          4117,
          3787,
          810,
          74,
          194,
          1012,
          413,
          1087,
          134,
          1376,
          1087,
          974,
          637,
          5249,
          727,
          727,
          1049,
          74,
          112,
          1312,
          1199,
          1087,
          314,
          2549,
          614,
          209,
          314,
          52,
          1874,
          1649,
          209,
          779,
          509,
          397,
          2998,
          652,
          187,
          2915,
          52,
          157,
          1087,
          268,
          127,
          1574,
          1949,
          7679,
          187,
          1892,
          727,
          1049,
          1874,
          1124,
          222,
          104,
          157,
          67,
          59,
          749,
          194,
          444,
          742,
          3749,
          1087,
          299,
          5594,
          412,
          750,
          225,
          590,
          727,
          59,
          74,
          712,
          652,
          134,
          236,
          2399,
          59,
          2694,
          187,
          1574,
          974,
          2247,
          1649,
          157,
          3599,
          734,
          1056,
          104,
          898,
          1799,
          4049,
          1770,
          1056,
          508,
          254,
          1496,
          712,
          134,
          280,
          2624,
          74,
          74,
          824,
          246,
          134,
          134,
          3787,
          74,
          524,
          620,
          74,
          44,
          1770,
          59,
          3448,
          1949,
          734,
          134,
          734,
          148,
          209,
          357,
          87,
          1167,
          1087,
          600,
          1162,
          148,
          84,
          928,
          3776,
          5287,
          298,
          925,
          1762,
          52,
          352,
          405,
          1649,
          119,
          22,
          3329,
          988,
          547,
          2624,
          487,
          412,
          140,
          1177,
          5398,
          749,
          734,
          4574,
          974,
          600,
          134,
          2245,
          2249,
          742,
          749,
          6149,
          449,
          712,
          52,
          734,
          8737,
          430,
          1087,
          134,
          74,
          6149,
          2999,
          134,
          734,
          280,
          134,
          268,
          1049,
          442,
          2234,
          3074,
          374,
          659,
          74,
          224,
          524,
          734,
          198,
          44,
          5249,
          1574,
          1049,
          1949,
          22,
          147,
          899,
          118,
          5397,
          787,
          389,
          974,
          1012,
          1199,
          194,
          1649,
          59,
          397,
          236,
          269,
          87,
          1424,
          1424,
          718,
          869,
          200,
          370,
          22,
          599,
          899,
          374,
          2001,
          232,
          59,
          524,
          148,
          1312,
          1312,
          11460,
          14196,
          15680,
          564,
          134,
          412,
          569,
          569,
          74,
          312,
          28,
          688,
          22,
          22,
          464,
          412,
          2624,
          2699,
          134,
          475,
          179,
          239,
          2699,
          97,
          231,
          1499,
          787,
          4470,
          592,
          134,
          97,
          374,
          156,
          896,
          472,
          472,
          217,
          217,
          217,
          637,
          1087,
          1087,
          22,
          1920,
          134,
          37,
          1574,
          134,
          157,
          224,
          224,
          295,
          74,
          487,
          120,
          1122,
          208,
          389,
          2999,
          2999,
          1012,
          2774,
          134,
          502,
          164,
          359,
          937,
          88,
          898,
          899,
          208,
          4874,
          1087,
          1087,
          1499,
          1724,
          509,
          672,
          509,
          284,
          599,
          299,
          1076,
          3898,
          6097,
          232,
          74,
          44,
          200,
          568,
          6097,
          284,
          734,
          1642,
          157,
          449,
          314,
          749,
          134,
          15300,
          1087,
          112,
          652,
          1574,
          1920,
          74,
          209,
          3562,
          1649,
          337,
          1530,
          157,
          974,
          734,
          6449,
          344,
          1499,
          1498,
          3787,
          464,
          299,
          22,
          397,
          134,
          4312,
          1920,
          38,
          149,
          164,
          38,
          217,
          1912,
          2926,
          2230,
          217,
          448,
          134,
          487,
          1949,
          419,
          487,
          74,
          1180,
          1664,
          299,
          734,
          11400,
          599,
          134,
          134,
          412,
          1649,
          329,
          1196,
          224,
          328,
          1762,
          3760,
          987,
          299,
          4040,
          74,
          5549,
          14,
          445,
          472,
          164,
          778,
          412,
          15,
          208,
          134,
          750,
          974,
          1087,
          49432,
          336,
          824,
          7004,
          6809,
          487,
          2549,
          296,
          734,
          704,
          8832,
          6614,
          899,
          539,
          208,
          450,
          164,
          704,
          388,
          734,
          1880,
          749,
          734,
          1574,
          74,
          3749,
          1162,
          3974,
          487,
          300,
          239,
          2549,
          268,
          239,
          1649,
          524,
          749,
          1649,
          974,
          402,
          1800,
          164,
          74,
          157,
          187,
          164,
          74,
          1275,
          600,
          734,
          1087,
          1087,
          374,
          134,
          824,
          376,
          824,
          1520,
          262,
          194,
          974,
          200,
          149,
          314,
          97,
          2324,
          1087,
          734,
          402,
          1087,
          449,
          427,
          5939,
          614,
          149,
          1424,
          147,
          560,
          600,
          2527,
          787,
          749,
          599,
          596,
          134,
          404,
          134,
          88,
          697,
          3899,
          74,
          2527,
          449,
          4494,
          329,
          157,
          488,
          412,
          134,
          164,
          397,
          599,
          295,
          52,
          277,
          328,
          464,
          2699,
          674,
          277,
          239,
          717,
          194,
          134,
          2249,
          592,
          1349,
          413,
          104,
          59,
          2174,
          7870,
          1087,
          500,
          254,
          3787,
          157,
          44,
          734,
          552,
          59,
          187,
          950,
          697,
          1762,
          134,
          652,
          134,
          118,
          569,
          4390,
          247,
          1649,
          66,
          119,
          1874,
          1087,
          6148,
          194,
          899,
          389,
          1649,
          749,
          598,
          3375,
          3674,
          3748,
          3449,
          149,
          577,
          1612,
          412,
          59,
          935,
          2025,
          375,
          2136,
          434,
          749,
          830,
          3749,
          220,
          1034,
          674,
          127,
          74,
          58,
          1424,
          1060,
          1649,
          464,
          1649,
          592,
          554,
          2699,
          1087,
          599,
          749,
          562,
          638,
          118,
          1447,
          52,
          42,
          1274,
          1162,
          14917,
          7679,
          150,
          150,
          1124,
          149,
          449,
          404,
          7199,
          1648,
          974,
          8810,
          614,
          899,
          74,
          247,
          2527,
          44,
          97,
          82,
          337,
          745,
          150,
          4574,
          1499,
          97,
          734,
          2699,
          134,
          224,
          74,
          1162,
          1612,
          524,
          1204,
          134,
          1199,
          1162,
          74,
          299,
          440,
          268,
          1125,
          1874,
          1108,
          1124,
          509,
          1050,
          300,
          1087,
          582,
          208,
          116,
          787,
          525,
          674,
          2549,
          404,
          975,
          110,
          134,
          449,
          3674,
          524,
          2699,
          674,
          577,
          3562,
          838,
          449,
          5399,
          564,
          2399,
          1574,
          472,
          635,
          370,
          1649,
          172,
          375,
          4495,
          74,
          1087,
          104,
          899,
          487,
          450,
          1349,
          1349,
          188,
          1642,
          1124,
          546,
          202,
          450,
          157,
          450,
          111,
          7349,
          59,
          82,
          45,
          6449,
          450,
          374,
          29,
          1837,
          299,
          1368,
          412,
          150,
          1912,
          1900,
          389,
          831,
          1124,
          164,
          712,
          134,
          525,
          1087,
          262,
          968,
          4574,
          3524,
          1087,
          1649,
          402,
          1649,
          74,
          145,
          1050,
          389,
          1034,
          1349,
          450,
          1060,
          1874,
          412,
          1087,
          389,
          164,
          412,
          1049,
          2624,
          75,
          1949,
          59,
          374,
          268,
          188,
          157,
          225,
          268,
          1612,
          374,
          2137,
          674,
          1424,
          748,
          4648,
          1034,
          239,
          974,
          74,
          195,
          225,
          2249,
          74,
          3375,
          853,
          1050,
          1124,
          1087,
          600,
          734,
          749,
          1124,
          5594,
          1087,
          1124,
          599,
          3898,
          675,
          524,
          448,
          202,
          596,
          134,
          157,
          1499,
          1649,
          750,
          134,
          150,
          157,
          157,
          134,
          1499,
          824,
          1274,
          3598,
          59,
          524,
          478,
          450,
          1649,
          7496,
          614,
          74,
          1425,
          3599,
          2774,
          127,
          1124,
          824,
          74,
          1349,
          577,
          269,
          74,
          2249,
          134,
          598,
          224,
          217,
          52,
          2099,
          412,
          787,
          134,
          674,
          134,
          3290,
          554,
          307,
          299,
          74,
          134,
          74,
          156,
          734,
          300,
          734,
          3580,
          402,
          599,
          472,
          149,
          1649,
          734,
          1087,
          3599,
          1424,
          1124,
          74,
          157,
          599,
          1087,
          374,
          1574,
          599,
          5136,
          74,
          1660,
          404,
          66,
          1087,
          119,
          174,
          1168,
          704,
          3975,
          3975,
          2360,
          599,
          59,
          172,
          404,
          2024,
          2024,
          599,
          187,
          224,
          3712,
          749,
          112,
          5420,
          149,
          638,
          187,
          1199,
          374,
          37,
          599,
          517,
          974,
          374,
          312,
          2849,
          1649,
          599,
          328,
          524,
          524,
          1087,
          1087,
          225,
          262,
          1500,
          202,
          6075,
          329,
          1087,
          88,
          4724,
          974,
          74,
          472,
          142,
          914,
          674,
          3149,
          3524,
          224,
          222,
          974,
          4198,
          202,
          1087,
          1649,
          1087,
          6600,
          1949,
          224,
          439,
          7724,
          404,
          149,
          824,
          862,
          149,
          2474,
          445,
          1048,
          974,
          2474,
          1087,
          220,
          149,
          900,
          749,
          1574,
          352,
          1087,
          37,
          134,
          637,
          524,
          177,
          577,
          2550,
          375,
          2399,
          3298,
          697,
          74,
          74,
          6899,
          3779,
          58,
          439,
          1649,
          500,
          224,
          134,
          1034,
          74,
          749,
          149,
          344,
          149,
          149,
          397,
          1087,
          447,
          509,
          1349,
          88,
          1949,
          524,
          119,
          899,
          127,
          314,
          112,
          329,
          404,
          1087,
          157,
          397
         ],
         "xaxis": "x3",
         "yaxis": "y3"
        },
        {
         "hoverinfo": "x",
         "showlegend": false,
         "type": "histogram",
         "x": [
          375,
          376,
          303,
          613,
          379,
          1014,
          376,
          750,
          665,
          1418,
          893,
          1677,
          405,
          783,
          1005,
          1471,
          1504,
          802,
          580,
          1800,
          563,
          852,
          300,
          562,
          752,
          1216,
          150,
          468,
          2850,
          2922,
          1012,
          352,
          1470,
          786,
          1377,
          803,
          1187,
          954,
          2236,
          135,
          249,
          152,
          2778,
          270,
          600,
          1530,
          3380,
          360,
          190,
          1804,
          1036,
          240,
          2460,
          840,
          929,
          836,
          240,
          1275,
          420,
          300,
          1574,
          742,
          1012,
          710,
          1949,
          1281,
          4949,
          1349,
          1874,
          1574,
          1049,
          209,
          553,
          1949,
          868,
          247,
          447,
          1049,
          614,
          2134,
          2453,
          749,
          674,
          427,
          3147,
          149,
          937,
          2999,
          2549,
          2923,
          1547,
          3074,
          1797,
          277,
          134,
          225,
          631,
          300,
          637,
          4049,
          1475,
          224,
          225,
          328,
          104,
          2249,
          149,
          448,
          1049,
          1951,
          4139,
          239,
          2849,
          404,
          447,
          5090,
          1199,
          1049,
          1836,
          411,
          2111,
          156,
          88,
          180,
          1199,
          1049,
          1087,
          356,
          3749,
          5474,
          472,
          239,
          749,
          770,
          1049,
          380,
          308,
          336,
          380,
          299,
          397,
          59,
          734,
          479,
          2166,
          3974,
          1346,
          734,
          427,
          2473,
          224,
          4867,
          1738,
          88,
          1049,
          89,
          449,
          734,
          240,
          487,
          577,
          963,
          963,
          2187,
          1447,
          1373,
          1347,
          449,
          59,
          2549,
          712,
          1087,
          239,
          1162,
          264,
          413,
          974,
          389,
          2999,
          1574,
          524,
          59,
          3298,
          449,
          2249,
          1049,
          734,
          1237,
          802,
          974,
          434,
          637,
          224,
          52,
          1215,
          584,
          1049,
          1049,
          2360,
          478,
          1912,
          599,
          300,
          298,
          888,
          2249,
          134,
          6307,
          824,
          1049,
          4499,
          472,
          524,
          749,
          277,
          718,
          1912,
          1912,
          712,
          110,
          898,
          937,
          518,
          2699,
          1794,
          220,
          1574,
          599,
          449,
          1087,
          2024,
          22,
          300,
          112,
          209,
          1536,
          1799,
          627,
          1649,
          449,
          67,
          727,
          3974,
          134,
          44,
          300,
          599,
          149,
          202,
          1200,
          2024,
          389,
          119,
          88,
          142,
          240,
          940,
          652,
          592,
          1087,
          104,
          284,
          434,
          110,
          449,
          824,
          442,
          1994,
          194,
          149,
          67,
          464,
          134,
          727,
          1162,
          29,
          127,
          524,
          1087,
          1724,
          974,
          974,
          134,
          1987,
          8437,
          3562,
          974,
          2399,
          112,
          134,
          3329,
          442,
          1649,
          959,
          134,
          1874,
          157,
          2924,
          734,
          2924,
          727,
          134,
          680,
          1087,
          487,
          225,
          194,
          74,
          629,
          614,
          2549,
          974,
          148,
          3074,
          74,
          2399,
          344,
          149,
          157,
          2249,
          2699,
          1087,
          1574,
          449,
          508,
          134,
          1760,
          1199,
          974,
          3000,
          449,
          5098,
          552,
          592,
          1649,
          210,
          176,
          149,
          1180,
          104,
          74,
          622,
          922,
          442,
          374,
          524,
          268,
          74,
          434,
          74,
          164,
          134,
          1649,
          562,
          524,
          787,
          3224,
          1087,
          119,
          157,
          1649,
          3705,
          598,
          1462,
          37,
          674,
          402,
          300,
          177,
          59,
          1087,
          200,
          7229,
          187,
          74,
          337,
          119,
          119,
          232,
          2774,
          58,
          74,
          1274,
          569,
          8077,
          127,
          254,
          1200,
          142,
          356,
          97,
          3674,
          520,
          262,
          1574,
          1874,
          599,
          734,
          2848,
          434,
          299,
          74,
          899,
          3925,
          284,
          1087,
          127,
          187,
          899,
          974,
          239,
          127,
          142,
          6494,
          296,
          194,
          734,
          52,
          2527,
          704,
          1574,
          1649,
          1087,
          560,
          674,
          254,
          1348,
          492,
          374,
          254,
          179,
          3147,
          1949,
          427,
          502,
          74,
          1424,
          2924,
          1424,
          1798,
          749,
          449,
          352,
          2527,
          74,
          268,
          427,
          2249,
          2699,
          614,
          674,
          1199,
          134,
          1087,
          734,
          674,
          1800,
          242,
          198,
          220,
          1101,
          89,
          22,
          599,
          254,
          1087,
          97,
          1087,
          2025,
          402,
          592,
          1177,
          2774,
          134,
          442,
          127,
          116,
          134,
          1649,
          134,
          750,
          284,
          734,
          195,
          3449,
          3449,
          2549,
          674,
          614,
          134,
          525,
          194,
          74,
          562,
          614,
          569,
          1087,
          749,
          1087,
          1087,
          1856,
          2699,
          1649,
          599,
          412,
          320,
          52,
          1949,
          412,
          1319,
          66,
          187,
          899,
          449,
          599,
          3524,
          4574,
          3375,
          30,
          562,
          134,
          1574,
          487,
          134,
          188,
          29,
          74,
          4274,
          375,
          672,
          22,
          260,
          638,
          262,
          1210,
          1199,
          637,
          658,
          1574,
          974,
          1649,
          745,
          2324,
          74,
          862,
          112,
          157,
          599,
          1424,
          1649,
          224,
          74,
          328,
          1199,
          2024,
          329,
          1498,
          119,
          1424,
          487,
          1087,
          697,
          734,
          2774,
          938,
          149,
          1012,
          1228,
          2849,
          637,
          127,
          314,
          74,
          937,
          187,
          824,
          157,
          149,
          240,
          156,
          150,
          742,
          4124,
          200,
          22,
          570,
          112,
          1649,
          952,
          562,
          148,
          254
         ],
         "xaxis": "x2",
         "yaxis": "y2"
        },
        {
         "hoverinfo": "x",
         "name": "",
         "showlegend": false,
         "type": "box",
         "x": [
          375,
          376,
          303,
          613,
          379,
          1014,
          376,
          750,
          665,
          1418,
          893,
          1677,
          405,
          783,
          1005,
          1471,
          1504,
          802,
          580,
          1800,
          563,
          852,
          300,
          562,
          752,
          1216,
          150,
          468,
          2850,
          2922,
          1012,
          352,
          1470,
          786,
          1377,
          803,
          1187,
          954,
          2236,
          135,
          249,
          152,
          2778,
          270,
          600,
          1530,
          3380,
          360,
          190,
          1804,
          1036,
          240,
          2460,
          840,
          929,
          836,
          240,
          1275,
          420,
          300,
          1574,
          742,
          1012,
          710,
          1949,
          1281,
          4949,
          1349,
          1874,
          1574,
          1049,
          209,
          553,
          1949,
          868,
          247,
          447,
          1049,
          614,
          2134,
          2453,
          749,
          674,
          427,
          3147,
          149,
          937,
          2999,
          2549,
          2923,
          1547,
          3074,
          1797,
          277,
          134,
          225,
          631,
          300,
          637,
          4049,
          1475,
          224,
          225,
          328,
          104,
          2249,
          149,
          448,
          1049,
          1951,
          4139,
          239,
          2849,
          404,
          447,
          5090,
          1199,
          1049,
          1836,
          411,
          2111,
          156,
          88,
          180,
          1199,
          1049,
          1087,
          356,
          3749,
          5474,
          472,
          239,
          749,
          770,
          1049,
          380,
          308,
          336,
          380,
          299,
          397,
          59,
          734,
          479,
          2166,
          3974,
          1346,
          734,
          427,
          2473,
          224,
          4867,
          1738,
          88,
          1049,
          89,
          449,
          734,
          240,
          487,
          577,
          963,
          963,
          2187,
          1447,
          1373,
          1347,
          449,
          59,
          2549,
          712,
          1087,
          239,
          1162,
          264,
          413,
          974,
          389,
          2999,
          1574,
          524,
          59,
          3298,
          449,
          2249,
          1049,
          734,
          1237,
          802,
          974,
          434,
          637,
          224,
          52,
          1215,
          584,
          1049,
          1049,
          2360,
          478,
          1912,
          599,
          300,
          298,
          888,
          2249,
          134,
          6307,
          824,
          1049,
          4499,
          472,
          524,
          749,
          277,
          718,
          1912,
          1912,
          712,
          110,
          898,
          937,
          518,
          2699,
          1794,
          220,
          1574,
          599,
          449,
          1087,
          2024,
          22,
          300,
          112,
          209,
          1536,
          1799,
          627,
          1649,
          449,
          67,
          727,
          3974,
          134,
          44,
          300,
          599,
          149,
          202,
          1200,
          2024,
          389,
          119,
          88,
          142,
          240,
          940,
          652,
          592,
          1087,
          104,
          284,
          434,
          110,
          449,
          824,
          442,
          1994,
          194,
          149,
          67,
          464,
          134,
          727,
          1162,
          29,
          127,
          524,
          1087,
          1724,
          974,
          974,
          134,
          1987,
          8437,
          3562,
          974,
          2399,
          112,
          134,
          3329,
          442,
          1649,
          959,
          134,
          1874,
          157,
          2924,
          734,
          2924,
          727,
          134,
          680,
          1087,
          487,
          225,
          194,
          74,
          629,
          614,
          2549,
          974,
          148,
          3074,
          74,
          2399,
          344,
          149,
          157,
          2249,
          2699,
          1087,
          1574,
          449,
          508,
          134,
          1760,
          1199,
          974,
          3000,
          449,
          5098,
          552,
          592,
          1649,
          210,
          176,
          149,
          1180,
          104,
          74,
          622,
          922,
          442,
          374,
          524,
          268,
          74,
          434,
          74,
          164,
          134,
          1649,
          562,
          524,
          787,
          3224,
          1087,
          119,
          157,
          1649,
          3705,
          598,
          1462,
          37,
          674,
          402,
          300,
          177,
          59,
          1087,
          200,
          7229,
          187,
          74,
          337,
          119,
          119,
          232,
          2774,
          58,
          74,
          1274,
          569,
          8077,
          127,
          254,
          1200,
          142,
          356,
          97,
          3674,
          520,
          262,
          1574,
          1874,
          599,
          734,
          2848,
          434,
          299,
          74,
          899,
          3925,
          284,
          1087,
          127,
          187,
          899,
          974,
          239,
          127,
          142,
          6494,
          296,
          194,
          734,
          52,
          2527,
          704,
          1574,
          1649,
          1087,
          560,
          674,
          254,
          1348,
          492,
          374,
          254,
          179,
          3147,
          1949,
          427,
          502,
          74,
          1424,
          2924,
          1424,
          1798,
          749,
          449,
          352,
          2527,
          74,
          268,
          427,
          2249,
          2699,
          614,
          674,
          1199,
          134,
          1087,
          734,
          674,
          1800,
          242,
          198,
          220,
          1101,
          89,
          22,
          599,
          254,
          1087,
          97,
          1087,
          2025,
          402,
          592,
          1177,
          2774,
          134,
          442,
          127,
          116,
          134,
          1649,
          134,
          750,
          284,
          734,
          195,
          3449,
          3449,
          2549,
          674,
          614,
          134,
          525,
          194,
          74,
          562,
          614,
          569,
          1087,
          749,
          1087,
          1087,
          1856,
          2699,
          1649,
          599,
          412,
          320,
          52,
          1949,
          412,
          1319,
          66,
          187,
          899,
          449,
          599,
          3524,
          4574,
          3375,
          30,
          562,
          134,
          1574,
          487,
          134,
          188,
          29,
          74,
          4274,
          375,
          672,
          22,
          260,
          638,
          262,
          1210,
          1199,
          637,
          658,
          1574,
          974,
          1649,
          745,
          2324,
          74,
          862,
          112,
          157,
          599,
          1424,
          1649,
          224,
          74,
          328,
          1199,
          2024,
          329,
          1498,
          119,
          1424,
          487,
          1087,
          697,
          734,
          2774,
          938,
          149,
          1012,
          1228,
          2849,
          637,
          127,
          314,
          74,
          937,
          187,
          824,
          157,
          149,
          240,
          156,
          150,
          742,
          4124,
          200,
          22,
          570,
          112,
          1649,
          952,
          562,
          148,
          254
         ],
         "xaxis": "x4",
         "yaxis": "y4"
        }
       ],
       "layout": {
        "annotations": [
         {
          "font": {
           "size": 16
          },
          "showarrow": false,
          "text": "\"Будние\"",
          "x": 0.2375,
          "xanchor": "center",
          "xref": "paper",
          "y": 1,
          "yanchor": "bottom",
          "yref": "paper"
         },
         {
          "font": {
           "size": 16
          },
          "showarrow": false,
          "text": "\"Выходные\"",
          "x": 0.7625,
          "xanchor": "center",
          "xref": "paper",
          "y": 1,
          "yanchor": "bottom",
          "yref": "paper"
         }
        ],
        "height": 800,
        "template": {
         "data": {
          "bar": [
           {
            "error_x": {
             "color": "rgb(36,36,36)"
            },
            "error_y": {
             "color": "rgb(36,36,36)"
            },
            "marker": {
             "line": {
              "color": "rgb(234,234,242)",
              "width": 0.5
             },
             "pattern": {
              "fillmode": "overlay",
              "size": 10,
              "solidity": 0.2
             }
            },
            "type": "bar"
           }
          ],
          "barpolar": [
           {
            "marker": {
             "line": {
              "color": "rgb(234,234,242)",
              "width": 0.5
             },
             "pattern": {
              "fillmode": "overlay",
              "size": 10,
              "solidity": 0.2
             }
            },
            "type": "barpolar"
           }
          ],
          "carpet": [
           {
            "aaxis": {
             "endlinecolor": "rgb(36,36,36)",
             "gridcolor": "white",
             "linecolor": "white",
             "minorgridcolor": "white",
             "startlinecolor": "rgb(36,36,36)"
            },
            "baxis": {
             "endlinecolor": "rgb(36,36,36)",
             "gridcolor": "white",
             "linecolor": "white",
             "minorgridcolor": "white",
             "startlinecolor": "rgb(36,36,36)"
            },
            "type": "carpet"
           }
          ],
          "choropleth": [
           {
            "colorbar": {
             "outlinewidth": 0,
             "tickcolor": "rgb(36,36,36)",
             "ticklen": 8,
             "ticks": "outside",
             "tickwidth": 2
            },
            "type": "choropleth"
           }
          ],
          "contour": [
           {
            "colorbar": {
             "outlinewidth": 0,
             "tickcolor": "rgb(36,36,36)",
             "ticklen": 8,
             "ticks": "outside",
             "tickwidth": 2
            },
            "colorscale": [
             [
              0,
              "rgb(2,4,25)"
             ],
             [
              0.06274509803921569,
              "rgb(24,15,41)"
             ],
             [
              0.12549019607843137,
              "rgb(47,23,57)"
             ],
             [
              0.18823529411764706,
              "rgb(71,28,72)"
             ],
             [
              0.25098039215686274,
              "rgb(97,30,82)"
             ],
             [
              0.3137254901960784,
              "rgb(123,30,89)"
             ],
             [
              0.3764705882352941,
              "rgb(150,27,91)"
             ],
             [
              0.4392156862745098,
              "rgb(177,22,88)"
             ],
             [
              0.5019607843137255,
              "rgb(203,26,79)"
             ],
             [
              0.5647058823529412,
              "rgb(223,47,67)"
             ],
             [
              0.6274509803921569,
              "rgb(236,76,61)"
             ],
             [
              0.6901960784313725,
              "rgb(242,107,73)"
             ],
             [
              0.7529411764705882,
              "rgb(244,135,95)"
             ],
             [
              0.8156862745098039,
              "rgb(245,162,122)"
             ],
             [
              0.8784313725490196,
              "rgb(246,188,153)"
             ],
             [
              0.9411764705882353,
              "rgb(247,212,187)"
             ],
             [
              1,
              "rgb(250,234,220)"
             ]
            ],
            "type": "contour"
           }
          ],
          "contourcarpet": [
           {
            "colorbar": {
             "outlinewidth": 0,
             "tickcolor": "rgb(36,36,36)",
             "ticklen": 8,
             "ticks": "outside",
             "tickwidth": 2
            },
            "type": "contourcarpet"
           }
          ],
          "heatmap": [
           {
            "colorbar": {
             "outlinewidth": 0,
             "tickcolor": "rgb(36,36,36)",
             "ticklen": 8,
             "ticks": "outside",
             "tickwidth": 2
            },
            "colorscale": [
             [
              0,
              "rgb(2,4,25)"
             ],
             [
              0.06274509803921569,
              "rgb(24,15,41)"
             ],
             [
              0.12549019607843137,
              "rgb(47,23,57)"
             ],
             [
              0.18823529411764706,
              "rgb(71,28,72)"
             ],
             [
              0.25098039215686274,
              "rgb(97,30,82)"
             ],
             [
              0.3137254901960784,
              "rgb(123,30,89)"
             ],
             [
              0.3764705882352941,
              "rgb(150,27,91)"
             ],
             [
              0.4392156862745098,
              "rgb(177,22,88)"
             ],
             [
              0.5019607843137255,
              "rgb(203,26,79)"
             ],
             [
              0.5647058823529412,
              "rgb(223,47,67)"
             ],
             [
              0.6274509803921569,
              "rgb(236,76,61)"
             ],
             [
              0.6901960784313725,
              "rgb(242,107,73)"
             ],
             [
              0.7529411764705882,
              "rgb(244,135,95)"
             ],
             [
              0.8156862745098039,
              "rgb(245,162,122)"
             ],
             [
              0.8784313725490196,
              "rgb(246,188,153)"
             ],
             [
              0.9411764705882353,
              "rgb(247,212,187)"
             ],
             [
              1,
              "rgb(250,234,220)"
             ]
            ],
            "type": "heatmap"
           }
          ],
          "heatmapgl": [
           {
            "colorbar": {
             "outlinewidth": 0,
             "tickcolor": "rgb(36,36,36)",
             "ticklen": 8,
             "ticks": "outside",
             "tickwidth": 2
            },
            "colorscale": [
             [
              0,
              "rgb(2,4,25)"
             ],
             [
              0.06274509803921569,
              "rgb(24,15,41)"
             ],
             [
              0.12549019607843137,
              "rgb(47,23,57)"
             ],
             [
              0.18823529411764706,
              "rgb(71,28,72)"
             ],
             [
              0.25098039215686274,
              "rgb(97,30,82)"
             ],
             [
              0.3137254901960784,
              "rgb(123,30,89)"
             ],
             [
              0.3764705882352941,
              "rgb(150,27,91)"
             ],
             [
              0.4392156862745098,
              "rgb(177,22,88)"
             ],
             [
              0.5019607843137255,
              "rgb(203,26,79)"
             ],
             [
              0.5647058823529412,
              "rgb(223,47,67)"
             ],
             [
              0.6274509803921569,
              "rgb(236,76,61)"
             ],
             [
              0.6901960784313725,
              "rgb(242,107,73)"
             ],
             [
              0.7529411764705882,
              "rgb(244,135,95)"
             ],
             [
              0.8156862745098039,
              "rgb(245,162,122)"
             ],
             [
              0.8784313725490196,
              "rgb(246,188,153)"
             ],
             [
              0.9411764705882353,
              "rgb(247,212,187)"
             ],
             [
              1,
              "rgb(250,234,220)"
             ]
            ],
            "type": "heatmapgl"
           }
          ],
          "histogram": [
           {
            "marker": {
             "pattern": {
              "fillmode": "overlay",
              "size": 10,
              "solidity": 0.2
             }
            },
            "type": "histogram"
           }
          ],
          "histogram2d": [
           {
            "colorbar": {
             "outlinewidth": 0,
             "tickcolor": "rgb(36,36,36)",
             "ticklen": 8,
             "ticks": "outside",
             "tickwidth": 2
            },
            "colorscale": [
             [
              0,
              "rgb(2,4,25)"
             ],
             [
              0.06274509803921569,
              "rgb(24,15,41)"
             ],
             [
              0.12549019607843137,
              "rgb(47,23,57)"
             ],
             [
              0.18823529411764706,
              "rgb(71,28,72)"
             ],
             [
              0.25098039215686274,
              "rgb(97,30,82)"
             ],
             [
              0.3137254901960784,
              "rgb(123,30,89)"
             ],
             [
              0.3764705882352941,
              "rgb(150,27,91)"
             ],
             [
              0.4392156862745098,
              "rgb(177,22,88)"
             ],
             [
              0.5019607843137255,
              "rgb(203,26,79)"
             ],
             [
              0.5647058823529412,
              "rgb(223,47,67)"
             ],
             [
              0.6274509803921569,
              "rgb(236,76,61)"
             ],
             [
              0.6901960784313725,
              "rgb(242,107,73)"
             ],
             [
              0.7529411764705882,
              "rgb(244,135,95)"
             ],
             [
              0.8156862745098039,
              "rgb(245,162,122)"
             ],
             [
              0.8784313725490196,
              "rgb(246,188,153)"
             ],
             [
              0.9411764705882353,
              "rgb(247,212,187)"
             ],
             [
              1,
              "rgb(250,234,220)"
             ]
            ],
            "type": "histogram2d"
           }
          ],
          "histogram2dcontour": [
           {
            "colorbar": {
             "outlinewidth": 0,
             "tickcolor": "rgb(36,36,36)",
             "ticklen": 8,
             "ticks": "outside",
             "tickwidth": 2
            },
            "colorscale": [
             [
              0,
              "rgb(2,4,25)"
             ],
             [
              0.06274509803921569,
              "rgb(24,15,41)"
             ],
             [
              0.12549019607843137,
              "rgb(47,23,57)"
             ],
             [
              0.18823529411764706,
              "rgb(71,28,72)"
             ],
             [
              0.25098039215686274,
              "rgb(97,30,82)"
             ],
             [
              0.3137254901960784,
              "rgb(123,30,89)"
             ],
             [
              0.3764705882352941,
              "rgb(150,27,91)"
             ],
             [
              0.4392156862745098,
              "rgb(177,22,88)"
             ],
             [
              0.5019607843137255,
              "rgb(203,26,79)"
             ],
             [
              0.5647058823529412,
              "rgb(223,47,67)"
             ],
             [
              0.6274509803921569,
              "rgb(236,76,61)"
             ],
             [
              0.6901960784313725,
              "rgb(242,107,73)"
             ],
             [
              0.7529411764705882,
              "rgb(244,135,95)"
             ],
             [
              0.8156862745098039,
              "rgb(245,162,122)"
             ],
             [
              0.8784313725490196,
              "rgb(246,188,153)"
             ],
             [
              0.9411764705882353,
              "rgb(247,212,187)"
             ],
             [
              1,
              "rgb(250,234,220)"
             ]
            ],
            "type": "histogram2dcontour"
           }
          ],
          "mesh3d": [
           {
            "colorbar": {
             "outlinewidth": 0,
             "tickcolor": "rgb(36,36,36)",
             "ticklen": 8,
             "ticks": "outside",
             "tickwidth": 2
            },
            "type": "mesh3d"
           }
          ],
          "parcoords": [
           {
            "line": {
             "colorbar": {
              "outlinewidth": 0,
              "tickcolor": "rgb(36,36,36)",
              "ticklen": 8,
              "ticks": "outside",
              "tickwidth": 2
             }
            },
            "type": "parcoords"
           }
          ],
          "pie": [
           {
            "automargin": true,
            "type": "pie"
           }
          ],
          "scatter": [
           {
            "fillpattern": {
             "fillmode": "overlay",
             "size": 10,
             "solidity": 0.2
            },
            "type": "scatter"
           }
          ],
          "scatter3d": [
           {
            "line": {
             "colorbar": {
              "outlinewidth": 0,
              "tickcolor": "rgb(36,36,36)",
              "ticklen": 8,
              "ticks": "outside",
              "tickwidth": 2
             }
            },
            "marker": {
             "colorbar": {
              "outlinewidth": 0,
              "tickcolor": "rgb(36,36,36)",
              "ticklen": 8,
              "ticks": "outside",
              "tickwidth": 2
             }
            },
            "type": "scatter3d"
           }
          ],
          "scattercarpet": [
           {
            "marker": {
             "colorbar": {
              "outlinewidth": 0,
              "tickcolor": "rgb(36,36,36)",
              "ticklen": 8,
              "ticks": "outside",
              "tickwidth": 2
             }
            },
            "type": "scattercarpet"
           }
          ],
          "scattergeo": [
           {
            "marker": {
             "colorbar": {
              "outlinewidth": 0,
              "tickcolor": "rgb(36,36,36)",
              "ticklen": 8,
              "ticks": "outside",
              "tickwidth": 2
             }
            },
            "type": "scattergeo"
           }
          ],
          "scattergl": [
           {
            "marker": {
             "colorbar": {
              "outlinewidth": 0,
              "tickcolor": "rgb(36,36,36)",
              "ticklen": 8,
              "ticks": "outside",
              "tickwidth": 2
             }
            },
            "type": "scattergl"
           }
          ],
          "scattermapbox": [
           {
            "marker": {
             "colorbar": {
              "outlinewidth": 0,
              "tickcolor": "rgb(36,36,36)",
              "ticklen": 8,
              "ticks": "outside",
              "tickwidth": 2
             }
            },
            "type": "scattermapbox"
           }
          ],
          "scatterpolar": [
           {
            "marker": {
             "colorbar": {
              "outlinewidth": 0,
              "tickcolor": "rgb(36,36,36)",
              "ticklen": 8,
              "ticks": "outside",
              "tickwidth": 2
             }
            },
            "type": "scatterpolar"
           }
          ],
          "scatterpolargl": [
           {
            "marker": {
             "colorbar": {
              "outlinewidth": 0,
              "tickcolor": "rgb(36,36,36)",
              "ticklen": 8,
              "ticks": "outside",
              "tickwidth": 2
             }
            },
            "type": "scatterpolargl"
           }
          ],
          "scatterternary": [
           {
            "marker": {
             "colorbar": {
              "outlinewidth": 0,
              "tickcolor": "rgb(36,36,36)",
              "ticklen": 8,
              "ticks": "outside",
              "tickwidth": 2
             }
            },
            "type": "scatterternary"
           }
          ],
          "surface": [
           {
            "colorbar": {
             "outlinewidth": 0,
             "tickcolor": "rgb(36,36,36)",
             "ticklen": 8,
             "ticks": "outside",
             "tickwidth": 2
            },
            "colorscale": [
             [
              0,
              "rgb(2,4,25)"
             ],
             [
              0.06274509803921569,
              "rgb(24,15,41)"
             ],
             [
              0.12549019607843137,
              "rgb(47,23,57)"
             ],
             [
              0.18823529411764706,
              "rgb(71,28,72)"
             ],
             [
              0.25098039215686274,
              "rgb(97,30,82)"
             ],
             [
              0.3137254901960784,
              "rgb(123,30,89)"
             ],
             [
              0.3764705882352941,
              "rgb(150,27,91)"
             ],
             [
              0.4392156862745098,
              "rgb(177,22,88)"
             ],
             [
              0.5019607843137255,
              "rgb(203,26,79)"
             ],
             [
              0.5647058823529412,
              "rgb(223,47,67)"
             ],
             [
              0.6274509803921569,
              "rgb(236,76,61)"
             ],
             [
              0.6901960784313725,
              "rgb(242,107,73)"
             ],
             [
              0.7529411764705882,
              "rgb(244,135,95)"
             ],
             [
              0.8156862745098039,
              "rgb(245,162,122)"
             ],
             [
              0.8784313725490196,
              "rgb(246,188,153)"
             ],
             [
              0.9411764705882353,
              "rgb(247,212,187)"
             ],
             [
              1,
              "rgb(250,234,220)"
             ]
            ],
            "type": "surface"
           }
          ],
          "table": [
           {
            "cells": {
             "fill": {
              "color": "rgb(231,231,240)"
             },
             "line": {
              "color": "white"
             }
            },
            "header": {
             "fill": {
              "color": "rgb(183,183,191)"
             },
             "line": {
              "color": "white"
             }
            },
            "type": "table"
           }
          ]
         },
         "layout": {
          "annotationdefaults": {
           "arrowcolor": "rgb(67,103,167)"
          },
          "autotypenumbers": "strict",
          "coloraxis": {
           "colorbar": {
            "outlinewidth": 0,
            "tickcolor": "rgb(36,36,36)",
            "ticklen": 8,
            "ticks": "outside",
            "tickwidth": 2
           }
          },
          "colorscale": {
           "sequential": [
            [
             0,
             "rgb(2,4,25)"
            ],
            [
             0.06274509803921569,
             "rgb(24,15,41)"
            ],
            [
             0.12549019607843137,
             "rgb(47,23,57)"
            ],
            [
             0.18823529411764706,
             "rgb(71,28,72)"
            ],
            [
             0.25098039215686274,
             "rgb(97,30,82)"
            ],
            [
             0.3137254901960784,
             "rgb(123,30,89)"
            ],
            [
             0.3764705882352941,
             "rgb(150,27,91)"
            ],
            [
             0.4392156862745098,
             "rgb(177,22,88)"
            ],
            [
             0.5019607843137255,
             "rgb(203,26,79)"
            ],
            [
             0.5647058823529412,
             "rgb(223,47,67)"
            ],
            [
             0.6274509803921569,
             "rgb(236,76,61)"
            ],
            [
             0.6901960784313725,
             "rgb(242,107,73)"
            ],
            [
             0.7529411764705882,
             "rgb(244,135,95)"
            ],
            [
             0.8156862745098039,
             "rgb(245,162,122)"
            ],
            [
             0.8784313725490196,
             "rgb(246,188,153)"
            ],
            [
             0.9411764705882353,
             "rgb(247,212,187)"
            ],
            [
             1,
             "rgb(250,234,220)"
            ]
           ],
           "sequentialminus": [
            [
             0,
             "rgb(2,4,25)"
            ],
            [
             0.06274509803921569,
             "rgb(24,15,41)"
            ],
            [
             0.12549019607843137,
             "rgb(47,23,57)"
            ],
            [
             0.18823529411764706,
             "rgb(71,28,72)"
            ],
            [
             0.25098039215686274,
             "rgb(97,30,82)"
            ],
            [
             0.3137254901960784,
             "rgb(123,30,89)"
            ],
            [
             0.3764705882352941,
             "rgb(150,27,91)"
            ],
            [
             0.4392156862745098,
             "rgb(177,22,88)"
            ],
            [
             0.5019607843137255,
             "rgb(203,26,79)"
            ],
            [
             0.5647058823529412,
             "rgb(223,47,67)"
            ],
            [
             0.6274509803921569,
             "rgb(236,76,61)"
            ],
            [
             0.6901960784313725,
             "rgb(242,107,73)"
            ],
            [
             0.7529411764705882,
             "rgb(244,135,95)"
            ],
            [
             0.8156862745098039,
             "rgb(245,162,122)"
            ],
            [
             0.8784313725490196,
             "rgb(246,188,153)"
            ],
            [
             0.9411764705882353,
             "rgb(247,212,187)"
            ],
            [
             1,
             "rgb(250,234,220)"
            ]
           ]
          },
          "colorway": [
           "rgb(76,114,176)",
           "rgb(221,132,82)",
           "rgb(85,168,104)",
           "rgb(196,78,82)",
           "rgb(129,114,179)",
           "rgb(147,120,96)",
           "rgb(218,139,195)",
           "rgb(140,140,140)",
           "rgb(204,185,116)",
           "rgb(100,181,205)"
          ],
          "font": {
           "color": "rgb(36,36,36)"
          },
          "geo": {
           "bgcolor": "white",
           "lakecolor": "white",
           "landcolor": "rgb(234,234,242)",
           "showlakes": true,
           "showland": true,
           "subunitcolor": "white"
          },
          "hoverlabel": {
           "align": "left"
          },
          "hovermode": "closest",
          "paper_bgcolor": "white",
          "plot_bgcolor": "rgb(234,234,242)",
          "polar": {
           "angularaxis": {
            "gridcolor": "white",
            "linecolor": "white",
            "showgrid": true,
            "ticks": ""
           },
           "bgcolor": "rgb(234,234,242)",
           "radialaxis": {
            "gridcolor": "white",
            "linecolor": "white",
            "showgrid": true,
            "ticks": ""
           }
          },
          "scene": {
           "xaxis": {
            "backgroundcolor": "rgb(234,234,242)",
            "gridcolor": "white",
            "gridwidth": 2,
            "linecolor": "white",
            "showbackground": true,
            "showgrid": true,
            "ticks": "",
            "zerolinecolor": "white"
           },
           "yaxis": {
            "backgroundcolor": "rgb(234,234,242)",
            "gridcolor": "white",
            "gridwidth": 2,
            "linecolor": "white",
            "showbackground": true,
            "showgrid": true,
            "ticks": "",
            "zerolinecolor": "white"
           },
           "zaxis": {
            "backgroundcolor": "rgb(234,234,242)",
            "gridcolor": "white",
            "gridwidth": 2,
            "linecolor": "white",
            "showbackground": true,
            "showgrid": true,
            "ticks": "",
            "zerolinecolor": "white"
           }
          },
          "shapedefaults": {
           "fillcolor": "rgb(67,103,167)",
           "line": {
            "width": 0
           },
           "opacity": 0.5
          },
          "ternary": {
           "aaxis": {
            "gridcolor": "white",
            "linecolor": "white",
            "showgrid": true,
            "ticks": ""
           },
           "baxis": {
            "gridcolor": "white",
            "linecolor": "white",
            "showgrid": true,
            "ticks": ""
           },
           "bgcolor": "rgb(234,234,242)",
           "caxis": {
            "gridcolor": "white",
            "linecolor": "white",
            "showgrid": true,
            "ticks": ""
           }
          },
          "xaxis": {
           "automargin": true,
           "gridcolor": "white",
           "linecolor": "white",
           "showgrid": true,
           "ticks": "",
           "title": {
            "standoff": 15
           },
           "zerolinecolor": "white"
          },
          "yaxis": {
           "automargin": true,
           "gridcolor": "white",
           "linecolor": "white",
           "showgrid": true,
           "ticks": "",
           "title": {
            "standoff": 15
           },
           "zerolinecolor": "white"
          }
         }
        },
        "xaxis": {
         "anchor": "y",
         "domain": [
          0,
          0.475
         ]
        },
        "xaxis2": {
         "anchor": "y2",
         "domain": [
          0.525,
          1
         ]
        },
        "xaxis3": {
         "anchor": "y3",
         "domain": [
          0,
          0.475
         ]
        },
        "xaxis4": {
         "anchor": "y4",
         "domain": [
          0.525,
          1
         ]
        },
        "yaxis": {
         "anchor": "x",
         "domain": [
          0.55,
          1
         ]
        },
        "yaxis2": {
         "anchor": "x2",
         "domain": [
          0.55,
          1
         ]
        },
        "yaxis3": {
         "anchor": "x3",
         "domain": [
          0,
          0.45
         ]
        },
        "yaxis4": {
         "anchor": "x4",
         "domain": [
          0,
          0.45
         ]
        }
       }
      }
     },
     "metadata": {},
     "output_type": "display_data"
    }
   ],
   "source": [
    "draw_distribution((weekday, day_off), ('\"Будние\"', '\"Выходные\"'))"
   ]
  },
  {
   "cell_type": "markdown",
   "metadata": {},
   "source": [
    "*Много выбросов, будем использовать непараметрический тест Манна-Уитни.*"
   ]
  },
  {
   "cell_type": "code",
   "execution_count": 77,
   "metadata": {},
   "outputs": [],
   "source": [
    "def mannwhitneyu(sample1, sample2, alternative='two-sided', alpha=.05):\n",
    "    \"\"\"\n",
    "    Функция для проверки статистической гипотезы с помощью U-критерия Манна—Уитни.\n",
    "\n",
    "    sample1 - первая выборка\n",
    "    sample2 - вторая выборка\n",
    "    alternative - вид проверки {two-sided, less, greater}\n",
    "    alpha - критический уровень статистической значимости       \n",
    "    \"\"\"\n",
    "    \n",
    "    alpha = alpha \n",
    "        \n",
    "    results = st.mannwhitneyu(sample1, sample2, alternative=alternative)\n",
    "    print('p-значение:', results.pvalue)\n",
    "    \n",
    "    if results.pvalue < alpha:\n",
    "        print(\"Отвергаем нулевую гипотезу\")\n",
    "    else:\n",
    "        print(\"Не получилось отвергнуть нулевую гипотезу\") "
   ]
  },
  {
   "cell_type": "code",
   "execution_count": 78,
   "metadata": {},
   "outputs": [
    {
     "name": "stdout",
     "output_type": "stream",
     "text": [
      "p-значение: 0.13933503131871902\n",
      "Не получилось отвергнуть нулевую гипотезу\n"
     ]
    }
   ],
   "source": [
    "mannwhitneyu(weekday, day_off)"
   ]
  },
  {
   "cell_type": "markdown",
   "metadata": {},
   "source": [
    "*После проведения теста, можно оставить нулевую гипотезу, средний чек по будням не отличается.*"
   ]
  },
  {
   "cell_type": "markdown",
   "metadata": {},
   "source": [
    "### Средний чек днем такой же, как и ночью"
   ]
  },
  {
   "cell_type": "markdown",
   "metadata": {},
   "source": [
    "***Сформулируем нулевую гипотезу:*** *средний чек днем такой же, как и ночью.*  \n",
    "***Сформулируем алтернативную гипотезу:*** *средний чек днем и ночью различаются.*"
   ]
  },
  {
   "cell_type": "markdown",
   "metadata": {},
   "source": [
    "**Создадим две выборки day и night:**"
   ]
  },
  {
   "cell_type": "markdown",
   "metadata": {},
   "source": [
    "**Посмотрим на распределение по выборкам:**"
   ]
  },
  {
   "cell_type": "code",
   "execution_count": 79,
   "metadata": {},
   "outputs": [],
   "source": [
    "day = df[(df['hour'] >= 6) & (df['hour'] <= 23)].groupby('order_id')['revenue'].sum().reset_index()['revenue']"
   ]
  },
  {
   "cell_type": "code",
   "execution_count": 80,
   "metadata": {},
   "outputs": [],
   "source": [
    "night = df[(df['hour'] >= 0) & (df['hour'] < 6)].groupby('order_id')['revenue'].sum().reset_index()['revenue']"
   ]
  },
  {
   "cell_type": "code",
   "execution_count": 81,
   "metadata": {},
   "outputs": [
    {
     "data": {
      "application/vnd.plotly.v1+json": {
       "config": {
        "plotlyServerURL": "https://plot.ly"
       },
       "data": [
        {
         "hoverinfo": "x",
         "showlegend": false,
         "type": "histogram",
         "x": [
          375,
          684,
          359,
          600,
          376,
          676,
          1880,
          514,
          750,
          752,
          303,
          303,
          1511,
          1014,
          376,
          404,
          1051,
          564,
          750,
          573,
          750,
          665,
          488,
          1127,
          434,
          564,
          1418,
          752,
          376,
          291,
          893,
          314,
          787,
          864,
          1214,
          1677,
          300,
          90,
          405,
          783,
          540,
          300,
          135,
          360,
          832,
          1005,
          2395,
          300,
          270,
          1470,
          450,
          2788,
          1320,
          1471,
          812,
          114,
          488,
          1090,
          540,
          450,
          1504,
          802,
          405,
          955,
          580,
          993,
          2154,
          494,
          863,
          1481,
          470,
          1910,
          1415,
          405,
          1800,
          563,
          1215,
          1276,
          1140,
          2723,
          1759,
          843,
          1128,
          577,
          1916,
          852,
          1407,
          561,
          473,
          698,
          300,
          370,
          2254,
          405,
          1164,
          300,
          562,
          752,
          1216,
          150,
          593,
          2704,
          376,
          1696,
          434,
          771,
          1218,
          2166,
          384,
          2824,
          468,
          2850,
          4303,
          1276,
          2090,
          304,
          285,
          405,
          836,
          975,
          914,
          1483,
          1534,
          2280,
          608,
          540,
          900,
          1222,
          426,
          2050,
          209,
          2922,
          1012,
          4682,
          810,
          3776,
          1056,
          705,
          1588,
          4558,
          526,
          352,
          1470,
          786,
          1784,
          1071,
          10656,
          900,
          840,
          1067,
          2707,
          1434,
          1381,
          2068,
          830,
          1377,
          803,
          1187,
          1210,
          954,
          1035,
          2644,
          506,
          690,
          976,
          1786,
          3388,
          1612,
          690,
          532,
          1775,
          968,
          1077,
          1503,
          712,
          2090,
          924,
          507,
          405,
          1064,
          2421,
          1618,
          1292,
          2236,
          135,
          249,
          152,
          2778,
          270,
          942,
          964,
          915,
          360,
          480,
          1266,
          466,
          1350,
          808,
          818,
          1408,
          795,
          600,
          704,
          456,
          408,
          480,
          1974,
          684,
          1271,
          830,
          456,
          4187,
          1379,
          570,
          420,
          4590,
          3380,
          360,
          190,
          1804,
          1036,
          3620,
          1350,
          410,
          976,
          2180,
          632,
          3970,
          510,
          97,
          225,
          877,
          1111,
          135,
          584,
          2452,
          240,
          1504,
          690,
          292,
          270,
          374,
          944,
          591,
          488,
          902,
          1148,
          1018,
          1225,
          2928,
          420,
          584,
          376,
          285,
          488,
          1432,
          848,
          2528,
          209,
          1457,
          742,
          190,
          726,
          2460,
          1128,
          188,
          135,
          676,
          600,
          840,
          510,
          929,
          420,
          2658,
          544,
          564,
          345,
          488,
          577,
          728,
          836,
          240,
          675,
          600,
          1275,
          420,
          646,
          135,
          1699,
          270,
          555,
          232,
          300,
          376,
          260,
          1837,
          1574,
          742,
          418,
          1012,
          194,
          374,
          2374,
          269,
          824,
          674,
          820,
          614,
          187,
          188,
          1162,
          1049,
          1785,
          976,
          703,
          1236,
          3524,
          1562,
          2924,
          299,
          193,
          860,
          749,
          1941,
          1649,
          127,
          187,
          1762,
          567,
          1409,
          4379,
          374,
          840,
          1874,
          149,
          3298,
          8758,
          2998,
          149,
          582,
          239,
          149,
          2453,
          464,
          1949,
          4949,
          1349,
          1874,
          1574,
          1049,
          742,
          712,
          614,
          1724,
          280,
          3822,
          254,
          1420,
          292,
          919,
          749,
          1949,
          2083,
          239,
          1216,
          2699,
          449,
          1425,
          1049,
          599,
          525,
          1274,
          374,
          742,
          200,
          2699,
          3899,
          1139,
          2550,
          463,
          1012,
          637,
          596,
          1770,
          3089,
          188,
          1574,
          2324,
          2850,
          672,
          1093,
          156,
          539,
          1874,
          164,
          1490,
          1012,
          1900,
          224,
          374,
          209,
          553,
          1949,
          868,
          247,
          447,
          614,
          2134,
          2453,
          2398,
          1874,
          2324,
          314,
          2990,
          2174,
          831,
          562,
          300,
          862,
          4796,
          3974,
          397,
          570,
          447,
          1199,
          560,
          621,
          734,
          1347,
          937,
          1012,
          1615,
          1531,
          2020,
          1649,
          1798,
          1836,
          897,
          1723,
          224,
          852,
          824,
          3658,
          343,
          749,
          674,
          427,
          3147,
          149,
          2999,
          2549,
          2923,
          1547,
          1190,
          1083,
          734,
          2399,
          1981,
          599,
          637,
          2099,
          1199,
          9010,
          1724,
          560,
          2549,
          149,
          299,
          1574,
          5469,
          449,
          896,
          82,
          1574,
          1612,
          644,
          1274,
          2924,
          928,
          1012,
          3749,
          749,
          22056,
          1515,
          1797,
          277,
          134,
          225,
          631,
          300,
          637,
          1475,
          224,
          225,
          328,
          374,
          2999,
          307,
          1147,
          824,
          374,
          2623,
          1199,
          1101,
          1686,
          236,
          3133,
          2996,
          742,
          974,
          149,
          148,
          8670,
          742,
          742,
          748,
          1440,
          544,
          1191,
          1012,
          8260,
          600,
          1499,
          1473,
          5249,
          2249,
          149,
          448,
          1951,
          4139,
          239,
          2849,
          404,
          447,
          5090,
          1408,
          1619,
          974,
          486,
          3298,
          614,
          81,
          6007,
          7597,
          524,
          24370,
          1949,
          937,
          974,
          2728,
          1124,
          637,
          267,
          928,
          697,
          5970,
          1949,
          547,
          149,
          381,
          599,
          374,
          7722,
          894,
          449,
          3440,
          749,
          460,
          1949,
          450,
          546,
          734,
          440,
          1649,
          2774,
          742,
          487,
          3374,
          4949,
          1199,
          1049,
          1836,
          411,
          2111,
          156,
          88,
          180,
          1199,
          1049,
          1087,
          356,
          3749,
          5474,
          472,
          239,
          749,
          1574,
          470,
          268,
          993,
          1073,
          1874,
          2998,
          2849,
          899,
          67,
          637,
          638,
          354,
          15,
          824,
          449,
          2698,
          404,
          104,
          742,
          412,
          787,
          225,
          749,
          1648,
          599,
          478,
          539,
          1574,
          899,
          59,
          1049,
          380,
          308,
          336,
          380,
          299,
          397,
          59,
          734,
          479,
          1799,
          1662,
          1649,
          2441,
          3006,
          1203,
          2424,
          2532,
          1196,
          708,
          2209,
          380,
          909,
          2924,
          45,
          922,
          894,
          239,
          1199,
          1349,
          1874,
          1912,
          2624,
          363,
          3974,
          1346,
          734,
          427,
          490,
          2473,
          224,
          4867,
          44,
          447,
          300,
          637,
          1716,
          4495,
          1213,
          9915,
          247,
          1274,
          427,
          2249,
          2624,
          4049,
          1124,
          1010,
          524,
          224,
          2699,
          5160,
          740,
          2399,
          2924,
          1837,
          4432,
          59,
          446,
          930,
          1738,
          88,
          1049,
          89,
          449,
          734,
          240,
          487,
          577,
          963,
          963,
          2187,
          1447,
          1373,
          937,
          937,
          187,
          810,
          299,
          1049,
          3224,
          734,
          60,
          1649,
          299,
          689,
          749,
          712,
          749,
          749,
          194,
          4859,
          974,
          2024,
          1856,
          112,
          697,
          1049,
          5249,
          1049,
          2849,
          292,
          1912,
          6134,
          88,
          134,
          127,
          3329,
          1034,
          1461,
          134,
          329,
          1347,
          449,
          59,
          2549,
          712,
          1087,
          239,
          1162,
          1874,
          1049,
          264,
          509,
          149,
          1725,
          689,
          792,
          164,
          2324,
          402,
          149,
          584,
          479,
          1574,
          3299,
          704,
          1649,
          202,
          359,
          2699,
          1164,
          1799,
          5024,
          59,
          899,
          447,
          413,
          292,
          44,
          5662,
          177,
          239,
          134,
          449,
          118,
          2849,
          224,
          2174,
          656,
          328,
          974,
          52,
          637,
          749,
          157,
          674,
          134,
          1049,
          2024,
          1874,
          389,
          2999,
          1574,
          524,
          59,
          3298,
          1049,
          449,
          2249,
          1049,
          734,
          1237,
          745,
          89,
          389,
          1724,
          449,
          704,
          418,
          209,
          66,
          148,
          624,
          651,
          7424,
          4124,
          780,
          637,
          412,
          898,
          52,
          149,
          1049,
          1049,
          442,
          637,
          1649,
          1049,
          568,
          442,
          2699,
          268,
          1649,
          448,
          134,
          708,
          88,
          374,
          3524,
          749,
          359,
          374,
          87,
          1049,
          367,
          539,
          712,
          745,
          1199,
          172,
          2361,
          2098,
          1874,
          1612,
          44,
          1049,
          516,
          787,
          2699,
          149,
          6270,
          74,
          824,
          1649,
          32718,
          3598,
          802,
          974,
          434,
          637,
          224,
          52,
          584,
          1049,
          1049,
          2360,
          478,
          2361,
          464,
          4139,
          1912,
          599,
          300,
          298,
          888,
          2249,
          2999,
          149,
          862,
          464,
          1649,
          344,
          1424,
          3148,
          416,
          375,
          1139,
          2924,
          1049,
          712,
          194,
          3247,
          112,
          149,
          1049,
          1049,
          907,
          974,
          2460,
          1912,
          1139,
          1574,
          1649,
          112,
          748,
          2624,
          1987,
          1049,
          450,
          1574,
          224,
          442,
          3329,
          299,
          254,
          1874,
          187,
          1799,
          298,
          1049,
          471,
          1049,
          1499,
          637,
          1349,
          2174,
          749,
          2549,
          899,
          1612,
          149,
          1162,
          262,
          1049,
          202,
          239,
          584,
          134,
          6307,
          945,
          479,
          487,
          1799,
          1874,
          299,
          389,
          899,
          1049,
          4499,
          472,
          524,
          749,
          277,
          718,
          2024,
          1162,
          1214,
          134,
          1199,
          2460,
          488,
          899,
          974,
          5998,
          937,
          374,
          5399,
          154,
          5847,
          1056,
          487,
          209,
          448,
          2849,
          112,
          492,
          224,
          1912,
          1912,
          590,
          712,
          110,
          898,
          937,
          518,
          958,
          127,
          652,
          1874,
          112,
          157,
          135,
          1724,
          59,
          59,
          47385,
          598,
          2800,
          232,
          1649,
          22,
          749,
          1237,
          112,
          134,
          134,
          328,
          1198,
          44,
          2699,
          373,
          382,
          2699,
          312,
          727,
          164,
          1572,
          569,
          220,
          487,
          1574,
          599,
          554,
          569,
          554,
          374,
          2399,
          689,
          1302,
          374,
          149,
          2219,
          4272,
          11250,
          742,
          119,
          74,
          157,
          710,
          164,
          1515,
          1368,
          224,
          554,
          1344,
          539,
          1642,
          1574,
          374,
          517,
          764,
          449,
          1087,
          2024,
          22,
          300,
          112,
          209,
          1536,
          1799,
          627,
          1649,
          449,
          67,
          2099,
          674,
          389,
          119,
          149,
          374,
          149,
          1916,
          4424,
          2527,
          5775,
          299,
          1574,
          1012,
          524,
          487,
          224,
          299,
          4957,
          1162,
          127,
          448,
          81,
          727,
          3749,
          974,
          1424,
          74,
          1424,
          667,
          157,
          464,
          209,
          635,
          5249,
          727,
          727,
          3974,
          134,
          44,
          300,
          599,
          149,
          202,
          16536,
          2699,
          299,
          1574,
          974,
          1799,
          22,
          6149,
          1275,
          937,
          802,
          82,
          67,
          1949,
          2697,
          286,
          104,
          134,
          899,
          667,
          1200,
          164,
          268,
          44,
          899,
          899,
          1649,
          1498,
          652,
          1424,
          208,
          569,
          727,
          59,
          11000,
          592,
          7480,
          187,
          1649,
          516,
          1124,
          1799,
          614,
          2999,
          88,
          134,
          3524,
          1139,
          1949,
          292,
          1522,
          2024,
          389,
          119,
          88,
          1716,
          240,
          940,
          652,
          592,
          1087,
          104,
          284,
          434,
          110,
          277,
          614,
          1162,
          209,
          1799,
          787,
          336,
          1799,
          389,
          134,
          232,
          1574,
          1087,
          66,
          374,
          134,
          44,
          1409,
          3329,
          134,
          299,
          3562,
          328,
          748,
          134,
          607,
          3667,
          157,
          179,
          59,
          3329,
          134,
          1874,
          2324,
          328,
          1087,
          440,
          3112,
          1736,
          378,
          299,
          2120,
          157,
          479,
          127,
          787,
          449,
          824,
          442,
          1994,
          194,
          149,
          67,
          464,
          134,
          727,
          1162,
          29,
          127,
          524,
          562,
          1124,
          2211,
          560,
          224,
          741,
          502,
          2699,
          2146,
          2550,
          1087,
          2849,
          88,
          1198,
          862,
          804,
          1568,
          1649,
          749,
          337,
          749,
          974,
          2849,
          149,
          680,
          899,
          3674,
          134,
          1649,
          449,
          314,
          134,
          374,
          727,
          1085,
          112,
          2699,
          487,
          209,
          299,
          157,
          1780,
          2774,
          120,
          820,
          674,
          134,
          1087,
          134,
          471,
          194,
          157,
          157,
          239,
          487,
          87,
          487,
          119,
          1087,
          1724,
          974,
          974,
          134,
          637,
          1987,
          8437,
          3562,
          974,
          2399,
          112,
          134,
          3329,
          442,
          1649,
          134,
          1120,
          134,
          735,
          824,
          520,
          1898,
          164,
          59,
          1199,
          1350,
          742,
          742,
          149,
          717,
          389,
          674,
          464,
          900,
          974,
          104,
          430,
          58,
          2550,
          562,
          914,
          74,
          194,
          67,
          74,
          487,
          727,
          2041,
          2220,
          487,
          67,
          350,
          599,
          74,
          2024,
          727,
          5594,
          4900,
          560,
          1649,
          74,
          388,
          127,
          670,
          1154,
          1087,
          388,
          74,
          1288,
          307,
          127,
          1349,
          959,
          3525,
          599,
          134,
          1874,
          157,
          2924,
          134,
          734,
          2924,
          727,
          134,
          680,
          1087,
          487,
          225,
          194,
          74,
          629,
          1762,
          776,
          295,
          1949,
          119,
          292,
          1087,
          666,
          374,
          689,
          1199,
          603,
          898,
          555,
          764,
          74,
          2137,
          134,
          449,
          104,
          3719,
          1949,
          480,
          2249,
          614,
          134,
          412,
          225,
          5459,
          4117,
          3787,
          810,
          74,
          194,
          1012,
          413,
          1087,
          134,
          1376,
          1087,
          974,
          5249,
          727,
          727,
          1049,
          74,
          112,
          614,
          2549,
          974,
          148,
          3074,
          74,
          2399,
          344,
          149,
          1312,
          1199,
          1087,
          314,
          2549,
          614,
          209,
          314,
          52,
          1874,
          1649,
          209,
          779,
          509,
          397,
          2998,
          652,
          187,
          2915,
          52,
          157,
          1087,
          268,
          127,
          1574,
          157,
          1949,
          7679,
          187,
          1892,
          1049,
          1874,
          1124,
          222,
          104,
          2249,
          2699,
          1087,
          1574,
          449,
          508,
          134,
          1760,
          1199,
          67,
          59,
          749,
          194,
          444,
          742,
          3749,
          1087,
          299,
          5594,
          412,
          750,
          225,
          590,
          727,
          59,
          74,
          712,
          652,
          134,
          236,
          2399,
          59,
          2694,
          187,
          1574,
          974,
          2247,
          1649,
          3000,
          449,
          5098,
          552,
          592,
          1649,
          210,
          176,
          149,
          157,
          1180,
          104,
          74,
          622,
          3599,
          922,
          1056,
          104,
          898,
          1799,
          4049,
          1770,
          1056,
          508,
          1496,
          712,
          134,
          280,
          2624,
          74,
          74,
          824,
          104,
          134,
          134,
          3787,
          74,
          524,
          620,
          74,
          44,
          1770,
          59,
          3448,
          442,
          374,
          524,
          268,
          74,
          434,
          1949,
          734,
          134,
          734,
          148,
          209,
          357,
          87,
          1167,
          1087,
          600,
          148,
          84,
          928,
          3776,
          5287,
          298,
          925,
          1762,
          52,
          352,
          405,
          1649,
          119,
          22,
          3329,
          988,
          547,
          2624,
          487,
          412,
          140,
          1177,
          5398,
          749,
          734,
          4574,
          974,
          600,
          2245,
          2249,
          742,
          749,
          6149,
          449,
          712,
          52,
          734,
          8737,
          74,
          164,
          134,
          1649,
          562,
          524,
          787,
          1087,
          119,
          157,
          1649,
          430,
          3705,
          134,
          74,
          6149,
          2999,
          134,
          734,
          280,
          134,
          268,
          1049,
          442,
          2234,
          3074,
          374,
          659,
          74,
          224,
          524,
          734,
          198,
          44,
          5249,
          1574,
          1049,
          1949,
          22,
          147,
          598,
          1462,
          899,
          674,
          402,
          300,
          177,
          59,
          1087,
          200,
          118,
          5397,
          787,
          389,
          974,
          1012,
          1199,
          194,
          1649,
          59,
          236,
          269,
          87,
          1424,
          1424,
          869,
          200,
          370,
          22,
          599,
          899,
          374,
          2001,
          232,
          59,
          524,
          148,
          1312,
          1312,
          11460,
          14196,
          15680,
          564,
          7229,
          187,
          74,
          337,
          119,
          119,
          232,
          2774,
          58,
          74,
          1274,
          569,
          8077,
          412,
          569,
          569,
          74,
          312,
          28,
          688,
          22,
          22,
          464,
          412,
          2624,
          2699,
          134,
          475,
          239,
          2699,
          97,
          231,
          1499,
          787,
          4470,
          592,
          134,
          97,
          374,
          156,
          896,
          472,
          472,
          217,
          217,
          217,
          127,
          637,
          1087,
          1087,
          254,
          1200,
          142,
          22,
          1920,
          134,
          37,
          1574,
          134,
          157,
          224,
          224,
          295,
          487,
          120,
          1122,
          208,
          356,
          97,
          3674,
          520,
          262,
          1574,
          1874,
          389,
          2999,
          1012,
          2774,
          134,
          502,
          359,
          937,
          88,
          898,
          899,
          208,
          4874,
          599,
          734,
          1087,
          2848,
          1087,
          1499,
          1724,
          509,
          672,
          509,
          284,
          599,
          299,
          1076,
          1949,
          6097,
          232,
          74,
          44,
          200,
          568,
          6097,
          284,
          734,
          434,
          1642,
          299,
          157,
          449,
          314,
          749,
          134,
          15300,
          112,
          652,
          1574,
          1920,
          74,
          209,
          3562,
          1649,
          337,
          899,
          3925,
          284,
          1087,
          1530,
          157,
          974,
          734,
          6449,
          344,
          1499,
          1498,
          3787,
          464,
          299,
          22,
          397,
          134,
          4312,
          1920,
          38,
          149,
          164,
          38,
          217,
          1912,
          2230,
          217,
          448,
          127,
          187,
          899,
          134,
          974,
          239,
          127,
          487,
          1949,
          419,
          487,
          74,
          1180,
          1664,
          299,
          11400,
          599,
          134,
          134,
          412,
          1649,
          329,
          1196,
          224,
          328,
          1762,
          3760,
          987,
          299,
          4040,
          74,
          5549,
          14,
          445,
          472,
          164,
          778,
          142,
          6494,
          296,
          194,
          734,
          52,
          704,
          412,
          15,
          208,
          134,
          750,
          974,
          1087,
          49432,
          336,
          824,
          7004,
          6809,
          487,
          2549,
          296,
          734,
          704,
          8832,
          6614,
          899,
          539,
          208,
          450,
          164,
          704,
          388,
          734,
          1880,
          749,
          734,
          1574,
          74,
          3749,
          1574,
          1649,
          1087,
          1162,
          3974,
          487,
          300,
          2549,
          268,
          239,
          1649,
          524,
          749,
          1649,
          974,
          402,
          164,
          74,
          157,
          187,
          164,
          74,
          1275,
          560,
          600,
          734,
          1087,
          1087,
          374,
          134,
          824,
          376,
          824,
          1520,
          262,
          194,
          974,
          200,
          149,
          314,
          97,
          674,
          254,
          1348,
          492,
          374,
          2324,
          1087,
          734,
          402,
          1087,
          449,
          427,
          5939,
          614,
          149,
          1424,
          254,
          147,
          560,
          600,
          787,
          749,
          599,
          596,
          134,
          404,
          134,
          88,
          697,
          3899,
          179,
          74,
          1949,
          427,
          502,
          74,
          2527,
          449,
          4494,
          329,
          157,
          488,
          412,
          134,
          164,
          397,
          599,
          295,
          52,
          277,
          328,
          464,
          2699,
          674,
          277,
          239,
          717,
          194,
          134,
          2249,
          592,
          1349,
          413,
          104,
          59,
          2174,
          7870,
          1087,
          500,
          1424,
          2924,
          1424,
          1798,
          749,
          254,
          3787,
          157,
          44,
          734,
          552,
          59,
          187,
          950,
          697,
          1762,
          134,
          652,
          134,
          118,
          569,
          4390,
          247,
          1649,
          66,
          1874,
          1087,
          6148,
          194,
          899,
          389,
          1649,
          749,
          598,
          3375,
          3674,
          3748,
          3449,
          149,
          449,
          352,
          2527,
          74,
          268,
          427,
          2249,
          2699,
          614,
          674,
          1199,
          577,
          1612,
          412,
          59,
          935,
          2025,
          375,
          2136,
          434,
          749,
          830,
          3749,
          220,
          1034,
          674,
          127,
          74,
          58,
          1424,
          1060,
          1649,
          464,
          1649,
          592,
          554,
          2699,
          1087,
          599,
          749,
          562,
          638,
          1087,
          734,
          674,
          1800,
          118,
          242,
          198,
          220,
          1101,
          89,
          52,
          42,
          1274,
          1162,
          14917,
          1124,
          149,
          449,
          404,
          7199,
          1648,
          974,
          8810,
          614,
          899,
          74,
          247,
          2527,
          44,
          97,
          82,
          337,
          745,
          22,
          150,
          4574,
          599,
          254,
          1087,
          97,
          1087,
          2025,
          402,
          592,
          1177,
          2774,
          134,
          442,
          1499,
          97,
          734,
          2699,
          134,
          224,
          74,
          1162,
          1612,
          524,
          1204,
          134,
          1199,
          1162,
          74,
          299,
          440,
          268,
          1125,
          1874,
          1108,
          1124,
          509,
          1050,
          300,
          127,
          116,
          134,
          1087,
          582,
          208,
          116,
          787,
          525,
          674,
          2549,
          404,
          975,
          110,
          134,
          524,
          2699,
          674,
          577,
          3562,
          838,
          449,
          5399,
          564,
          1574,
          472,
          635,
          370,
          1649,
          172,
          1649,
          134,
          750,
          284,
          734,
          3449,
          3449,
          2549,
          674,
          614,
          134,
          525,
          194,
          74,
          562,
          375,
          4495,
          74,
          1087,
          104,
          899,
          487,
          450,
          1349,
          188,
          1642,
          1124,
          546,
          202,
          450,
          157,
          450,
          7349,
          59,
          82,
          45,
          6449,
          450,
          614,
          569,
          1087,
          749,
          1087,
          1087,
          374,
          29,
          1837,
          299,
          1368,
          412,
          150,
          1912,
          1900,
          389,
          831,
          1124,
          712,
          134,
          525,
          1087,
          262,
          968,
          3524,
          1087,
          1649,
          402,
          1649,
          74,
          145,
          1050,
          389,
          1856,
          2699,
          1649,
          599,
          412,
          320,
          52,
          1949,
          412,
          1319,
          1034,
          450,
          1060,
          1874,
          412,
          1087,
          389,
          164,
          412,
          1049,
          2624,
          75,
          1949,
          59,
          374,
          268,
          188,
          157,
          225,
          268,
          1612,
          374,
          2137,
          1424,
          748,
          4648,
          1034,
          66,
          187,
          899,
          449,
          599,
          3524,
          4574,
          239,
          974,
          74,
          2249,
          74,
          3375,
          853,
          1050,
          1124,
          1087,
          600,
          749,
          1124,
          5594,
          1087,
          1124,
          599,
          675,
          524,
          448,
          202,
          596,
          134,
          157,
          1499,
          1649,
          750,
          134,
          150,
          157,
          157,
          3375,
          30,
          562,
          134,
          1574,
          487,
          134,
          188,
          29,
          134,
          1499,
          824,
          1274,
          3598,
          59,
          524,
          478,
          450,
          1649,
          7496,
          614,
          74,
          1425,
          3599,
          2774,
          127,
          1124,
          824,
          74,
          1349,
          577,
          269,
          74,
          2249,
          134,
          598,
          74,
          4274,
          375,
          672,
          22,
          260,
          638,
          262,
          1210,
          224,
          217,
          52,
          2099,
          412,
          787,
          134,
          674,
          134,
          3290,
          554,
          307,
          299,
          74,
          134,
          734,
          300,
          734,
          3580,
          402,
          599,
          472,
          149,
          1649,
          734,
          1087,
          1199,
          3599,
          1424,
          658,
          1574,
          974,
          1649,
          745,
          2324,
          74,
          862,
          112,
          157,
          599,
          1424,
          1124,
          74,
          157,
          599,
          1087,
          374,
          1574,
          599,
          5136,
          74,
          1660,
          404,
          66,
          1087,
          119,
          174,
          1168,
          704,
          3975,
          3975,
          2360,
          59,
          172,
          404,
          2024,
          2024,
          1649,
          599,
          224,
          74,
          328,
          1199,
          2024,
          329,
          1498,
          119,
          1424,
          487,
          1087,
          697,
          734,
          187,
          224,
          3712,
          749,
          112,
          5420,
          149,
          638,
          187,
          1199,
          37,
          599,
          517,
          974,
          374,
          312,
          2849,
          1649,
          599,
          328,
          524,
          524,
          1087,
          1087,
          225,
          262,
          1500,
          202,
          6075,
          329,
          1087,
          88,
          4724,
          938,
          149,
          1012,
          1228,
          2849,
          637,
          127,
          314,
          974,
          74,
          937,
          187,
          472,
          142,
          914,
          674,
          3149,
          3524,
          224,
          222,
          974,
          202,
          1087,
          1649,
          1087,
          6600,
          1949,
          224,
          439,
          7724,
          404,
          149,
          824,
          862,
          149,
          2474,
          445,
          1048,
          974,
          2474,
          149,
          900,
          749,
          824,
          157,
          149,
          240,
          156,
          150,
          742,
          4124,
          200,
          22,
          570,
          1574,
          352,
          1087,
          37,
          134,
          637,
          524,
          177,
          577,
          2550,
          375,
          2399,
          3298,
          697,
          74,
          74,
          6899,
          3779,
          58,
          1649,
          500,
          1649,
          952,
          562,
          148,
          224,
          254,
          134,
          1034,
          74,
          749,
          149,
          344,
          149,
          149,
          1087,
          447,
          509,
          1349,
          88,
          1949,
          524,
          119,
          899,
          127,
          314,
          112,
          329,
          404,
          1087,
          157,
          397
         ],
         "xaxis": "x",
         "yaxis": "y"
        },
        {
         "hoverinfo": "x",
         "name": "",
         "showlegend": false,
         "type": "box",
         "x": [
          375,
          684,
          359,
          600,
          376,
          676,
          1880,
          514,
          750,
          752,
          303,
          303,
          1511,
          1014,
          376,
          404,
          1051,
          564,
          750,
          573,
          750,
          665,
          488,
          1127,
          434,
          564,
          1418,
          752,
          376,
          291,
          893,
          314,
          787,
          864,
          1214,
          1677,
          300,
          90,
          405,
          783,
          540,
          300,
          135,
          360,
          832,
          1005,
          2395,
          300,
          270,
          1470,
          450,
          2788,
          1320,
          1471,
          812,
          114,
          488,
          1090,
          540,
          450,
          1504,
          802,
          405,
          955,
          580,
          993,
          2154,
          494,
          863,
          1481,
          470,
          1910,
          1415,
          405,
          1800,
          563,
          1215,
          1276,
          1140,
          2723,
          1759,
          843,
          1128,
          577,
          1916,
          852,
          1407,
          561,
          473,
          698,
          300,
          370,
          2254,
          405,
          1164,
          300,
          562,
          752,
          1216,
          150,
          593,
          2704,
          376,
          1696,
          434,
          771,
          1218,
          2166,
          384,
          2824,
          468,
          2850,
          4303,
          1276,
          2090,
          304,
          285,
          405,
          836,
          975,
          914,
          1483,
          1534,
          2280,
          608,
          540,
          900,
          1222,
          426,
          2050,
          209,
          2922,
          1012,
          4682,
          810,
          3776,
          1056,
          705,
          1588,
          4558,
          526,
          352,
          1470,
          786,
          1784,
          1071,
          10656,
          900,
          840,
          1067,
          2707,
          1434,
          1381,
          2068,
          830,
          1377,
          803,
          1187,
          1210,
          954,
          1035,
          2644,
          506,
          690,
          976,
          1786,
          3388,
          1612,
          690,
          532,
          1775,
          968,
          1077,
          1503,
          712,
          2090,
          924,
          507,
          405,
          1064,
          2421,
          1618,
          1292,
          2236,
          135,
          249,
          152,
          2778,
          270,
          942,
          964,
          915,
          360,
          480,
          1266,
          466,
          1350,
          808,
          818,
          1408,
          795,
          600,
          704,
          456,
          408,
          480,
          1974,
          684,
          1271,
          830,
          456,
          4187,
          1379,
          570,
          420,
          4590,
          3380,
          360,
          190,
          1804,
          1036,
          3620,
          1350,
          410,
          976,
          2180,
          632,
          3970,
          510,
          97,
          225,
          877,
          1111,
          135,
          584,
          2452,
          240,
          1504,
          690,
          292,
          270,
          374,
          944,
          591,
          488,
          902,
          1148,
          1018,
          1225,
          2928,
          420,
          584,
          376,
          285,
          488,
          1432,
          848,
          2528,
          209,
          1457,
          742,
          190,
          726,
          2460,
          1128,
          188,
          135,
          676,
          600,
          840,
          510,
          929,
          420,
          2658,
          544,
          564,
          345,
          488,
          577,
          728,
          836,
          240,
          675,
          600,
          1275,
          420,
          646,
          135,
          1699,
          270,
          555,
          232,
          300,
          376,
          260,
          1837,
          1574,
          742,
          418,
          1012,
          194,
          374,
          2374,
          269,
          824,
          674,
          820,
          614,
          187,
          188,
          1162,
          1049,
          1785,
          976,
          703,
          1236,
          3524,
          1562,
          2924,
          299,
          193,
          860,
          749,
          1941,
          1649,
          127,
          187,
          1762,
          567,
          1409,
          4379,
          374,
          840,
          1874,
          149,
          3298,
          8758,
          2998,
          149,
          582,
          239,
          149,
          2453,
          464,
          1949,
          4949,
          1349,
          1874,
          1574,
          1049,
          742,
          712,
          614,
          1724,
          280,
          3822,
          254,
          1420,
          292,
          919,
          749,
          1949,
          2083,
          239,
          1216,
          2699,
          449,
          1425,
          1049,
          599,
          525,
          1274,
          374,
          742,
          200,
          2699,
          3899,
          1139,
          2550,
          463,
          1012,
          637,
          596,
          1770,
          3089,
          188,
          1574,
          2324,
          2850,
          672,
          1093,
          156,
          539,
          1874,
          164,
          1490,
          1012,
          1900,
          224,
          374,
          209,
          553,
          1949,
          868,
          247,
          447,
          614,
          2134,
          2453,
          2398,
          1874,
          2324,
          314,
          2990,
          2174,
          831,
          562,
          300,
          862,
          4796,
          3974,
          397,
          570,
          447,
          1199,
          560,
          621,
          734,
          1347,
          937,
          1012,
          1615,
          1531,
          2020,
          1649,
          1798,
          1836,
          897,
          1723,
          224,
          852,
          824,
          3658,
          343,
          749,
          674,
          427,
          3147,
          149,
          2999,
          2549,
          2923,
          1547,
          1190,
          1083,
          734,
          2399,
          1981,
          599,
          637,
          2099,
          1199,
          9010,
          1724,
          560,
          2549,
          149,
          299,
          1574,
          5469,
          449,
          896,
          82,
          1574,
          1612,
          644,
          1274,
          2924,
          928,
          1012,
          3749,
          749,
          22056,
          1515,
          1797,
          277,
          134,
          225,
          631,
          300,
          637,
          1475,
          224,
          225,
          328,
          374,
          2999,
          307,
          1147,
          824,
          374,
          2623,
          1199,
          1101,
          1686,
          236,
          3133,
          2996,
          742,
          974,
          149,
          148,
          8670,
          742,
          742,
          748,
          1440,
          544,
          1191,
          1012,
          8260,
          600,
          1499,
          1473,
          5249,
          2249,
          149,
          448,
          1951,
          4139,
          239,
          2849,
          404,
          447,
          5090,
          1408,
          1619,
          974,
          486,
          3298,
          614,
          81,
          6007,
          7597,
          524,
          24370,
          1949,
          937,
          974,
          2728,
          1124,
          637,
          267,
          928,
          697,
          5970,
          1949,
          547,
          149,
          381,
          599,
          374,
          7722,
          894,
          449,
          3440,
          749,
          460,
          1949,
          450,
          546,
          734,
          440,
          1649,
          2774,
          742,
          487,
          3374,
          4949,
          1199,
          1049,
          1836,
          411,
          2111,
          156,
          88,
          180,
          1199,
          1049,
          1087,
          356,
          3749,
          5474,
          472,
          239,
          749,
          1574,
          470,
          268,
          993,
          1073,
          1874,
          2998,
          2849,
          899,
          67,
          637,
          638,
          354,
          15,
          824,
          449,
          2698,
          404,
          104,
          742,
          412,
          787,
          225,
          749,
          1648,
          599,
          478,
          539,
          1574,
          899,
          59,
          1049,
          380,
          308,
          336,
          380,
          299,
          397,
          59,
          734,
          479,
          1799,
          1662,
          1649,
          2441,
          3006,
          1203,
          2424,
          2532,
          1196,
          708,
          2209,
          380,
          909,
          2924,
          45,
          922,
          894,
          239,
          1199,
          1349,
          1874,
          1912,
          2624,
          363,
          3974,
          1346,
          734,
          427,
          490,
          2473,
          224,
          4867,
          44,
          447,
          300,
          637,
          1716,
          4495,
          1213,
          9915,
          247,
          1274,
          427,
          2249,
          2624,
          4049,
          1124,
          1010,
          524,
          224,
          2699,
          5160,
          740,
          2399,
          2924,
          1837,
          4432,
          59,
          446,
          930,
          1738,
          88,
          1049,
          89,
          449,
          734,
          240,
          487,
          577,
          963,
          963,
          2187,
          1447,
          1373,
          937,
          937,
          187,
          810,
          299,
          1049,
          3224,
          734,
          60,
          1649,
          299,
          689,
          749,
          712,
          749,
          749,
          194,
          4859,
          974,
          2024,
          1856,
          112,
          697,
          1049,
          5249,
          1049,
          2849,
          292,
          1912,
          6134,
          88,
          134,
          127,
          3329,
          1034,
          1461,
          134,
          329,
          1347,
          449,
          59,
          2549,
          712,
          1087,
          239,
          1162,
          1874,
          1049,
          264,
          509,
          149,
          1725,
          689,
          792,
          164,
          2324,
          402,
          149,
          584,
          479,
          1574,
          3299,
          704,
          1649,
          202,
          359,
          2699,
          1164,
          1799,
          5024,
          59,
          899,
          447,
          413,
          292,
          44,
          5662,
          177,
          239,
          134,
          449,
          118,
          2849,
          224,
          2174,
          656,
          328,
          974,
          52,
          637,
          749,
          157,
          674,
          134,
          1049,
          2024,
          1874,
          389,
          2999,
          1574,
          524,
          59,
          3298,
          1049,
          449,
          2249,
          1049,
          734,
          1237,
          745,
          89,
          389,
          1724,
          449,
          704,
          418,
          209,
          66,
          148,
          624,
          651,
          7424,
          4124,
          780,
          637,
          412,
          898,
          52,
          149,
          1049,
          1049,
          442,
          637,
          1649,
          1049,
          568,
          442,
          2699,
          268,
          1649,
          448,
          134,
          708,
          88,
          374,
          3524,
          749,
          359,
          374,
          87,
          1049,
          367,
          539,
          712,
          745,
          1199,
          172,
          2361,
          2098,
          1874,
          1612,
          44,
          1049,
          516,
          787,
          2699,
          149,
          6270,
          74,
          824,
          1649,
          32718,
          3598,
          802,
          974,
          434,
          637,
          224,
          52,
          584,
          1049,
          1049,
          2360,
          478,
          2361,
          464,
          4139,
          1912,
          599,
          300,
          298,
          888,
          2249,
          2999,
          149,
          862,
          464,
          1649,
          344,
          1424,
          3148,
          416,
          375,
          1139,
          2924,
          1049,
          712,
          194,
          3247,
          112,
          149,
          1049,
          1049,
          907,
          974,
          2460,
          1912,
          1139,
          1574,
          1649,
          112,
          748,
          2624,
          1987,
          1049,
          450,
          1574,
          224,
          442,
          3329,
          299,
          254,
          1874,
          187,
          1799,
          298,
          1049,
          471,
          1049,
          1499,
          637,
          1349,
          2174,
          749,
          2549,
          899,
          1612,
          149,
          1162,
          262,
          1049,
          202,
          239,
          584,
          134,
          6307,
          945,
          479,
          487,
          1799,
          1874,
          299,
          389,
          899,
          1049,
          4499,
          472,
          524,
          749,
          277,
          718,
          2024,
          1162,
          1214,
          134,
          1199,
          2460,
          488,
          899,
          974,
          5998,
          937,
          374,
          5399,
          154,
          5847,
          1056,
          487,
          209,
          448,
          2849,
          112,
          492,
          224,
          1912,
          1912,
          590,
          712,
          110,
          898,
          937,
          518,
          958,
          127,
          652,
          1874,
          112,
          157,
          135,
          1724,
          59,
          59,
          47385,
          598,
          2800,
          232,
          1649,
          22,
          749,
          1237,
          112,
          134,
          134,
          328,
          1198,
          44,
          2699,
          373,
          382,
          2699,
          312,
          727,
          164,
          1572,
          569,
          220,
          487,
          1574,
          599,
          554,
          569,
          554,
          374,
          2399,
          689,
          1302,
          374,
          149,
          2219,
          4272,
          11250,
          742,
          119,
          74,
          157,
          710,
          164,
          1515,
          1368,
          224,
          554,
          1344,
          539,
          1642,
          1574,
          374,
          517,
          764,
          449,
          1087,
          2024,
          22,
          300,
          112,
          209,
          1536,
          1799,
          627,
          1649,
          449,
          67,
          2099,
          674,
          389,
          119,
          149,
          374,
          149,
          1916,
          4424,
          2527,
          5775,
          299,
          1574,
          1012,
          524,
          487,
          224,
          299,
          4957,
          1162,
          127,
          448,
          81,
          727,
          3749,
          974,
          1424,
          74,
          1424,
          667,
          157,
          464,
          209,
          635,
          5249,
          727,
          727,
          3974,
          134,
          44,
          300,
          599,
          149,
          202,
          16536,
          2699,
          299,
          1574,
          974,
          1799,
          22,
          6149,
          1275,
          937,
          802,
          82,
          67,
          1949,
          2697,
          286,
          104,
          134,
          899,
          667,
          1200,
          164,
          268,
          44,
          899,
          899,
          1649,
          1498,
          652,
          1424,
          208,
          569,
          727,
          59,
          11000,
          592,
          7480,
          187,
          1649,
          516,
          1124,
          1799,
          614,
          2999,
          88,
          134,
          3524,
          1139,
          1949,
          292,
          1522,
          2024,
          389,
          119,
          88,
          1716,
          240,
          940,
          652,
          592,
          1087,
          104,
          284,
          434,
          110,
          277,
          614,
          1162,
          209,
          1799,
          787,
          336,
          1799,
          389,
          134,
          232,
          1574,
          1087,
          66,
          374,
          134,
          44,
          1409,
          3329,
          134,
          299,
          3562,
          328,
          748,
          134,
          607,
          3667,
          157,
          179,
          59,
          3329,
          134,
          1874,
          2324,
          328,
          1087,
          440,
          3112,
          1736,
          378,
          299,
          2120,
          157,
          479,
          127,
          787,
          449,
          824,
          442,
          1994,
          194,
          149,
          67,
          464,
          134,
          727,
          1162,
          29,
          127,
          524,
          562,
          1124,
          2211,
          560,
          224,
          741,
          502,
          2699,
          2146,
          2550,
          1087,
          2849,
          88,
          1198,
          862,
          804,
          1568,
          1649,
          749,
          337,
          749,
          974,
          2849,
          149,
          680,
          899,
          3674,
          134,
          1649,
          449,
          314,
          134,
          374,
          727,
          1085,
          112,
          2699,
          487,
          209,
          299,
          157,
          1780,
          2774,
          120,
          820,
          674,
          134,
          1087,
          134,
          471,
          194,
          157,
          157,
          239,
          487,
          87,
          487,
          119,
          1087,
          1724,
          974,
          974,
          134,
          637,
          1987,
          8437,
          3562,
          974,
          2399,
          112,
          134,
          3329,
          442,
          1649,
          134,
          1120,
          134,
          735,
          824,
          520,
          1898,
          164,
          59,
          1199,
          1350,
          742,
          742,
          149,
          717,
          389,
          674,
          464,
          900,
          974,
          104,
          430,
          58,
          2550,
          562,
          914,
          74,
          194,
          67,
          74,
          487,
          727,
          2041,
          2220,
          487,
          67,
          350,
          599,
          74,
          2024,
          727,
          5594,
          4900,
          560,
          1649,
          74,
          388,
          127,
          670,
          1154,
          1087,
          388,
          74,
          1288,
          307,
          127,
          1349,
          959,
          3525,
          599,
          134,
          1874,
          157,
          2924,
          134,
          734,
          2924,
          727,
          134,
          680,
          1087,
          487,
          225,
          194,
          74,
          629,
          1762,
          776,
          295,
          1949,
          119,
          292,
          1087,
          666,
          374,
          689,
          1199,
          603,
          898,
          555,
          764,
          74,
          2137,
          134,
          449,
          104,
          3719,
          1949,
          480,
          2249,
          614,
          134,
          412,
          225,
          5459,
          4117,
          3787,
          810,
          74,
          194,
          1012,
          413,
          1087,
          134,
          1376,
          1087,
          974,
          5249,
          727,
          727,
          1049,
          74,
          112,
          614,
          2549,
          974,
          148,
          3074,
          74,
          2399,
          344,
          149,
          1312,
          1199,
          1087,
          314,
          2549,
          614,
          209,
          314,
          52,
          1874,
          1649,
          209,
          779,
          509,
          397,
          2998,
          652,
          187,
          2915,
          52,
          157,
          1087,
          268,
          127,
          1574,
          157,
          1949,
          7679,
          187,
          1892,
          1049,
          1874,
          1124,
          222,
          104,
          2249,
          2699,
          1087,
          1574,
          449,
          508,
          134,
          1760,
          1199,
          67,
          59,
          749,
          194,
          444,
          742,
          3749,
          1087,
          299,
          5594,
          412,
          750,
          225,
          590,
          727,
          59,
          74,
          712,
          652,
          134,
          236,
          2399,
          59,
          2694,
          187,
          1574,
          974,
          2247,
          1649,
          3000,
          449,
          5098,
          552,
          592,
          1649,
          210,
          176,
          149,
          157,
          1180,
          104,
          74,
          622,
          3599,
          922,
          1056,
          104,
          898,
          1799,
          4049,
          1770,
          1056,
          508,
          1496,
          712,
          134,
          280,
          2624,
          74,
          74,
          824,
          104,
          134,
          134,
          3787,
          74,
          524,
          620,
          74,
          44,
          1770,
          59,
          3448,
          442,
          374,
          524,
          268,
          74,
          434,
          1949,
          734,
          134,
          734,
          148,
          209,
          357,
          87,
          1167,
          1087,
          600,
          148,
          84,
          928,
          3776,
          5287,
          298,
          925,
          1762,
          52,
          352,
          405,
          1649,
          119,
          22,
          3329,
          988,
          547,
          2624,
          487,
          412,
          140,
          1177,
          5398,
          749,
          734,
          4574,
          974,
          600,
          2245,
          2249,
          742,
          749,
          6149,
          449,
          712,
          52,
          734,
          8737,
          74,
          164,
          134,
          1649,
          562,
          524,
          787,
          1087,
          119,
          157,
          1649,
          430,
          3705,
          134,
          74,
          6149,
          2999,
          134,
          734,
          280,
          134,
          268,
          1049,
          442,
          2234,
          3074,
          374,
          659,
          74,
          224,
          524,
          734,
          198,
          44,
          5249,
          1574,
          1049,
          1949,
          22,
          147,
          598,
          1462,
          899,
          674,
          402,
          300,
          177,
          59,
          1087,
          200,
          118,
          5397,
          787,
          389,
          974,
          1012,
          1199,
          194,
          1649,
          59,
          236,
          269,
          87,
          1424,
          1424,
          869,
          200,
          370,
          22,
          599,
          899,
          374,
          2001,
          232,
          59,
          524,
          148,
          1312,
          1312,
          11460,
          14196,
          15680,
          564,
          7229,
          187,
          74,
          337,
          119,
          119,
          232,
          2774,
          58,
          74,
          1274,
          569,
          8077,
          412,
          569,
          569,
          74,
          312,
          28,
          688,
          22,
          22,
          464,
          412,
          2624,
          2699,
          134,
          475,
          239,
          2699,
          97,
          231,
          1499,
          787,
          4470,
          592,
          134,
          97,
          374,
          156,
          896,
          472,
          472,
          217,
          217,
          217,
          127,
          637,
          1087,
          1087,
          254,
          1200,
          142,
          22,
          1920,
          134,
          37,
          1574,
          134,
          157,
          224,
          224,
          295,
          487,
          120,
          1122,
          208,
          356,
          97,
          3674,
          520,
          262,
          1574,
          1874,
          389,
          2999,
          1012,
          2774,
          134,
          502,
          359,
          937,
          88,
          898,
          899,
          208,
          4874,
          599,
          734,
          1087,
          2848,
          1087,
          1499,
          1724,
          509,
          672,
          509,
          284,
          599,
          299,
          1076,
          1949,
          6097,
          232,
          74,
          44,
          200,
          568,
          6097,
          284,
          734,
          434,
          1642,
          299,
          157,
          449,
          314,
          749,
          134,
          15300,
          112,
          652,
          1574,
          1920,
          74,
          209,
          3562,
          1649,
          337,
          899,
          3925,
          284,
          1087,
          1530,
          157,
          974,
          734,
          6449,
          344,
          1499,
          1498,
          3787,
          464,
          299,
          22,
          397,
          134,
          4312,
          1920,
          38,
          149,
          164,
          38,
          217,
          1912,
          2230,
          217,
          448,
          127,
          187,
          899,
          134,
          974,
          239,
          127,
          487,
          1949,
          419,
          487,
          74,
          1180,
          1664,
          299,
          11400,
          599,
          134,
          134,
          412,
          1649,
          329,
          1196,
          224,
          328,
          1762,
          3760,
          987,
          299,
          4040,
          74,
          5549,
          14,
          445,
          472,
          164,
          778,
          142,
          6494,
          296,
          194,
          734,
          52,
          704,
          412,
          15,
          208,
          134,
          750,
          974,
          1087,
          49432,
          336,
          824,
          7004,
          6809,
          487,
          2549,
          296,
          734,
          704,
          8832,
          6614,
          899,
          539,
          208,
          450,
          164,
          704,
          388,
          734,
          1880,
          749,
          734,
          1574,
          74,
          3749,
          1574,
          1649,
          1087,
          1162,
          3974,
          487,
          300,
          2549,
          268,
          239,
          1649,
          524,
          749,
          1649,
          974,
          402,
          164,
          74,
          157,
          187,
          164,
          74,
          1275,
          560,
          600,
          734,
          1087,
          1087,
          374,
          134,
          824,
          376,
          824,
          1520,
          262,
          194,
          974,
          200,
          149,
          314,
          97,
          674,
          254,
          1348,
          492,
          374,
          2324,
          1087,
          734,
          402,
          1087,
          449,
          427,
          5939,
          614,
          149,
          1424,
          254,
          147,
          560,
          600,
          787,
          749,
          599,
          596,
          134,
          404,
          134,
          88,
          697,
          3899,
          179,
          74,
          1949,
          427,
          502,
          74,
          2527,
          449,
          4494,
          329,
          157,
          488,
          412,
          134,
          164,
          397,
          599,
          295,
          52,
          277,
          328,
          464,
          2699,
          674,
          277,
          239,
          717,
          194,
          134,
          2249,
          592,
          1349,
          413,
          104,
          59,
          2174,
          7870,
          1087,
          500,
          1424,
          2924,
          1424,
          1798,
          749,
          254,
          3787,
          157,
          44,
          734,
          552,
          59,
          187,
          950,
          697,
          1762,
          134,
          652,
          134,
          118,
          569,
          4390,
          247,
          1649,
          66,
          1874,
          1087,
          6148,
          194,
          899,
          389,
          1649,
          749,
          598,
          3375,
          3674,
          3748,
          3449,
          149,
          449,
          352,
          2527,
          74,
          268,
          427,
          2249,
          2699,
          614,
          674,
          1199,
          577,
          1612,
          412,
          59,
          935,
          2025,
          375,
          2136,
          434,
          749,
          830,
          3749,
          220,
          1034,
          674,
          127,
          74,
          58,
          1424,
          1060,
          1649,
          464,
          1649,
          592,
          554,
          2699,
          1087,
          599,
          749,
          562,
          638,
          1087,
          734,
          674,
          1800,
          118,
          242,
          198,
          220,
          1101,
          89,
          52,
          42,
          1274,
          1162,
          14917,
          1124,
          149,
          449,
          404,
          7199,
          1648,
          974,
          8810,
          614,
          899,
          74,
          247,
          2527,
          44,
          97,
          82,
          337,
          745,
          22,
          150,
          4574,
          599,
          254,
          1087,
          97,
          1087,
          2025,
          402,
          592,
          1177,
          2774,
          134,
          442,
          1499,
          97,
          734,
          2699,
          134,
          224,
          74,
          1162,
          1612,
          524,
          1204,
          134,
          1199,
          1162,
          74,
          299,
          440,
          268,
          1125,
          1874,
          1108,
          1124,
          509,
          1050,
          300,
          127,
          116,
          134,
          1087,
          582,
          208,
          116,
          787,
          525,
          674,
          2549,
          404,
          975,
          110,
          134,
          524,
          2699,
          674,
          577,
          3562,
          838,
          449,
          5399,
          564,
          1574,
          472,
          635,
          370,
          1649,
          172,
          1649,
          134,
          750,
          284,
          734,
          3449,
          3449,
          2549,
          674,
          614,
          134,
          525,
          194,
          74,
          562,
          375,
          4495,
          74,
          1087,
          104,
          899,
          487,
          450,
          1349,
          188,
          1642,
          1124,
          546,
          202,
          450,
          157,
          450,
          7349,
          59,
          82,
          45,
          6449,
          450,
          614,
          569,
          1087,
          749,
          1087,
          1087,
          374,
          29,
          1837,
          299,
          1368,
          412,
          150,
          1912,
          1900,
          389,
          831,
          1124,
          712,
          134,
          525,
          1087,
          262,
          968,
          3524,
          1087,
          1649,
          402,
          1649,
          74,
          145,
          1050,
          389,
          1856,
          2699,
          1649,
          599,
          412,
          320,
          52,
          1949,
          412,
          1319,
          1034,
          450,
          1060,
          1874,
          412,
          1087,
          389,
          164,
          412,
          1049,
          2624,
          75,
          1949,
          59,
          374,
          268,
          188,
          157,
          225,
          268,
          1612,
          374,
          2137,
          1424,
          748,
          4648,
          1034,
          66,
          187,
          899,
          449,
          599,
          3524,
          4574,
          239,
          974,
          74,
          2249,
          74,
          3375,
          853,
          1050,
          1124,
          1087,
          600,
          749,
          1124,
          5594,
          1087,
          1124,
          599,
          675,
          524,
          448,
          202,
          596,
          134,
          157,
          1499,
          1649,
          750,
          134,
          150,
          157,
          157,
          3375,
          30,
          562,
          134,
          1574,
          487,
          134,
          188,
          29,
          134,
          1499,
          824,
          1274,
          3598,
          59,
          524,
          478,
          450,
          1649,
          7496,
          614,
          74,
          1425,
          3599,
          2774,
          127,
          1124,
          824,
          74,
          1349,
          577,
          269,
          74,
          2249,
          134,
          598,
          74,
          4274,
          375,
          672,
          22,
          260,
          638,
          262,
          1210,
          224,
          217,
          52,
          2099,
          412,
          787,
          134,
          674,
          134,
          3290,
          554,
          307,
          299,
          74,
          134,
          734,
          300,
          734,
          3580,
          402,
          599,
          472,
          149,
          1649,
          734,
          1087,
          1199,
          3599,
          1424,
          658,
          1574,
          974,
          1649,
          745,
          2324,
          74,
          862,
          112,
          157,
          599,
          1424,
          1124,
          74,
          157,
          599,
          1087,
          374,
          1574,
          599,
          5136,
          74,
          1660,
          404,
          66,
          1087,
          119,
          174,
          1168,
          704,
          3975,
          3975,
          2360,
          59,
          172,
          404,
          2024,
          2024,
          1649,
          599,
          224,
          74,
          328,
          1199,
          2024,
          329,
          1498,
          119,
          1424,
          487,
          1087,
          697,
          734,
          187,
          224,
          3712,
          749,
          112,
          5420,
          149,
          638,
          187,
          1199,
          37,
          599,
          517,
          974,
          374,
          312,
          2849,
          1649,
          599,
          328,
          524,
          524,
          1087,
          1087,
          225,
          262,
          1500,
          202,
          6075,
          329,
          1087,
          88,
          4724,
          938,
          149,
          1012,
          1228,
          2849,
          637,
          127,
          314,
          974,
          74,
          937,
          187,
          472,
          142,
          914,
          674,
          3149,
          3524,
          224,
          222,
          974,
          202,
          1087,
          1649,
          1087,
          6600,
          1949,
          224,
          439,
          7724,
          404,
          149,
          824,
          862,
          149,
          2474,
          445,
          1048,
          974,
          2474,
          149,
          900,
          749,
          824,
          157,
          149,
          240,
          156,
          150,
          742,
          4124,
          200,
          22,
          570,
          1574,
          352,
          1087,
          37,
          134,
          637,
          524,
          177,
          577,
          2550,
          375,
          2399,
          3298,
          697,
          74,
          74,
          6899,
          3779,
          58,
          1649,
          500,
          1649,
          952,
          562,
          148,
          224,
          254,
          134,
          1034,
          74,
          749,
          149,
          344,
          149,
          149,
          1087,
          447,
          509,
          1349,
          88,
          1949,
          524,
          119,
          899,
          127,
          314,
          112,
          329,
          404,
          1087,
          157,
          397
         ],
         "xaxis": "x3",
         "yaxis": "y3"
        },
        {
         "hoverinfo": "x",
         "showlegend": false,
         "type": "histogram",
         "x": [
          1238,
          613,
          428,
          413,
          164,
          555,
          600,
          728,
          675,
          3299,
          1037,
          524,
          710,
          1281,
          1199,
          1049,
          937,
          4049,
          210,
          1049,
          6007,
          820,
          770,
          712,
          2109,
          2166,
          2827,
          112,
          719,
          598,
          1215,
          149,
          44,
          134,
          824,
          472,
          1794,
          164,
          899,
          727,
          492,
          2099,
          614,
          187,
          922,
          637,
          727,
          157,
          974,
          734,
          254,
          142,
          1162,
          134,
          3224,
          1087,
          37,
          397,
          718,
          134,
          179,
          74,
          2999,
          164,
          1949,
          1087,
          74,
          2926,
          734,
          2527,
          239,
          1800,
          2527,
          3147,
          119,
          134,
          1447,
          7679,
          150,
          150,
          449,
          3674,
          2399,
          195,
          1349,
          111,
          164,
          4574,
          1349,
          674,
          195,
          225,
          734,
          3898,
          74,
          156,
          637,
          599,
          374,
          2774,
          74,
          4198,
          1087,
          220,
          439,
          112,
          397
         ],
         "xaxis": "x2",
         "yaxis": "y2"
        },
        {
         "hoverinfo": "x",
         "name": "",
         "showlegend": false,
         "type": "box",
         "x": [
          1238,
          613,
          428,
          413,
          164,
          555,
          600,
          728,
          675,
          3299,
          1037,
          524,
          710,
          1281,
          1199,
          1049,
          937,
          4049,
          210,
          1049,
          6007,
          820,
          770,
          712,
          2109,
          2166,
          2827,
          112,
          719,
          598,
          1215,
          149,
          44,
          134,
          824,
          472,
          1794,
          164,
          899,
          727,
          492,
          2099,
          614,
          187,
          922,
          637,
          727,
          157,
          974,
          734,
          254,
          142,
          1162,
          134,
          3224,
          1087,
          37,
          397,
          718,
          134,
          179,
          74,
          2999,
          164,
          1949,
          1087,
          74,
          2926,
          734,
          2527,
          239,
          1800,
          2527,
          3147,
          119,
          134,
          1447,
          7679,
          150,
          150,
          449,
          3674,
          2399,
          195,
          1349,
          111,
          164,
          4574,
          1349,
          674,
          195,
          225,
          734,
          3898,
          74,
          156,
          637,
          599,
          374,
          2774,
          74,
          4198,
          1087,
          220,
          439,
          112,
          397
         ],
         "xaxis": "x4",
         "yaxis": "y4"
        }
       ],
       "layout": {
        "annotations": [
         {
          "font": {
           "size": 16
          },
          "showarrow": false,
          "text": "\"День\"",
          "x": 0.2375,
          "xanchor": "center",
          "xref": "paper",
          "y": 1,
          "yanchor": "bottom",
          "yref": "paper"
         },
         {
          "font": {
           "size": 16
          },
          "showarrow": false,
          "text": "\"Ночь\"",
          "x": 0.7625,
          "xanchor": "center",
          "xref": "paper",
          "y": 1,
          "yanchor": "bottom",
          "yref": "paper"
         }
        ],
        "height": 800,
        "template": {
         "data": {
          "bar": [
           {
            "error_x": {
             "color": "rgb(36,36,36)"
            },
            "error_y": {
             "color": "rgb(36,36,36)"
            },
            "marker": {
             "line": {
              "color": "rgb(234,234,242)",
              "width": 0.5
             },
             "pattern": {
              "fillmode": "overlay",
              "size": 10,
              "solidity": 0.2
             }
            },
            "type": "bar"
           }
          ],
          "barpolar": [
           {
            "marker": {
             "line": {
              "color": "rgb(234,234,242)",
              "width": 0.5
             },
             "pattern": {
              "fillmode": "overlay",
              "size": 10,
              "solidity": 0.2
             }
            },
            "type": "barpolar"
           }
          ],
          "carpet": [
           {
            "aaxis": {
             "endlinecolor": "rgb(36,36,36)",
             "gridcolor": "white",
             "linecolor": "white",
             "minorgridcolor": "white",
             "startlinecolor": "rgb(36,36,36)"
            },
            "baxis": {
             "endlinecolor": "rgb(36,36,36)",
             "gridcolor": "white",
             "linecolor": "white",
             "minorgridcolor": "white",
             "startlinecolor": "rgb(36,36,36)"
            },
            "type": "carpet"
           }
          ],
          "choropleth": [
           {
            "colorbar": {
             "outlinewidth": 0,
             "tickcolor": "rgb(36,36,36)",
             "ticklen": 8,
             "ticks": "outside",
             "tickwidth": 2
            },
            "type": "choropleth"
           }
          ],
          "contour": [
           {
            "colorbar": {
             "outlinewidth": 0,
             "tickcolor": "rgb(36,36,36)",
             "ticklen": 8,
             "ticks": "outside",
             "tickwidth": 2
            },
            "colorscale": [
             [
              0,
              "rgb(2,4,25)"
             ],
             [
              0.06274509803921569,
              "rgb(24,15,41)"
             ],
             [
              0.12549019607843137,
              "rgb(47,23,57)"
             ],
             [
              0.18823529411764706,
              "rgb(71,28,72)"
             ],
             [
              0.25098039215686274,
              "rgb(97,30,82)"
             ],
             [
              0.3137254901960784,
              "rgb(123,30,89)"
             ],
             [
              0.3764705882352941,
              "rgb(150,27,91)"
             ],
             [
              0.4392156862745098,
              "rgb(177,22,88)"
             ],
             [
              0.5019607843137255,
              "rgb(203,26,79)"
             ],
             [
              0.5647058823529412,
              "rgb(223,47,67)"
             ],
             [
              0.6274509803921569,
              "rgb(236,76,61)"
             ],
             [
              0.6901960784313725,
              "rgb(242,107,73)"
             ],
             [
              0.7529411764705882,
              "rgb(244,135,95)"
             ],
             [
              0.8156862745098039,
              "rgb(245,162,122)"
             ],
             [
              0.8784313725490196,
              "rgb(246,188,153)"
             ],
             [
              0.9411764705882353,
              "rgb(247,212,187)"
             ],
             [
              1,
              "rgb(250,234,220)"
             ]
            ],
            "type": "contour"
           }
          ],
          "contourcarpet": [
           {
            "colorbar": {
             "outlinewidth": 0,
             "tickcolor": "rgb(36,36,36)",
             "ticklen": 8,
             "ticks": "outside",
             "tickwidth": 2
            },
            "type": "contourcarpet"
           }
          ],
          "heatmap": [
           {
            "colorbar": {
             "outlinewidth": 0,
             "tickcolor": "rgb(36,36,36)",
             "ticklen": 8,
             "ticks": "outside",
             "tickwidth": 2
            },
            "colorscale": [
             [
              0,
              "rgb(2,4,25)"
             ],
             [
              0.06274509803921569,
              "rgb(24,15,41)"
             ],
             [
              0.12549019607843137,
              "rgb(47,23,57)"
             ],
             [
              0.18823529411764706,
              "rgb(71,28,72)"
             ],
             [
              0.25098039215686274,
              "rgb(97,30,82)"
             ],
             [
              0.3137254901960784,
              "rgb(123,30,89)"
             ],
             [
              0.3764705882352941,
              "rgb(150,27,91)"
             ],
             [
              0.4392156862745098,
              "rgb(177,22,88)"
             ],
             [
              0.5019607843137255,
              "rgb(203,26,79)"
             ],
             [
              0.5647058823529412,
              "rgb(223,47,67)"
             ],
             [
              0.6274509803921569,
              "rgb(236,76,61)"
             ],
             [
              0.6901960784313725,
              "rgb(242,107,73)"
             ],
             [
              0.7529411764705882,
              "rgb(244,135,95)"
             ],
             [
              0.8156862745098039,
              "rgb(245,162,122)"
             ],
             [
              0.8784313725490196,
              "rgb(246,188,153)"
             ],
             [
              0.9411764705882353,
              "rgb(247,212,187)"
             ],
             [
              1,
              "rgb(250,234,220)"
             ]
            ],
            "type": "heatmap"
           }
          ],
          "heatmapgl": [
           {
            "colorbar": {
             "outlinewidth": 0,
             "tickcolor": "rgb(36,36,36)",
             "ticklen": 8,
             "ticks": "outside",
             "tickwidth": 2
            },
            "colorscale": [
             [
              0,
              "rgb(2,4,25)"
             ],
             [
              0.06274509803921569,
              "rgb(24,15,41)"
             ],
             [
              0.12549019607843137,
              "rgb(47,23,57)"
             ],
             [
              0.18823529411764706,
              "rgb(71,28,72)"
             ],
             [
              0.25098039215686274,
              "rgb(97,30,82)"
             ],
             [
              0.3137254901960784,
              "rgb(123,30,89)"
             ],
             [
              0.3764705882352941,
              "rgb(150,27,91)"
             ],
             [
              0.4392156862745098,
              "rgb(177,22,88)"
             ],
             [
              0.5019607843137255,
              "rgb(203,26,79)"
             ],
             [
              0.5647058823529412,
              "rgb(223,47,67)"
             ],
             [
              0.6274509803921569,
              "rgb(236,76,61)"
             ],
             [
              0.6901960784313725,
              "rgb(242,107,73)"
             ],
             [
              0.7529411764705882,
              "rgb(244,135,95)"
             ],
             [
              0.8156862745098039,
              "rgb(245,162,122)"
             ],
             [
              0.8784313725490196,
              "rgb(246,188,153)"
             ],
             [
              0.9411764705882353,
              "rgb(247,212,187)"
             ],
             [
              1,
              "rgb(250,234,220)"
             ]
            ],
            "type": "heatmapgl"
           }
          ],
          "histogram": [
           {
            "marker": {
             "pattern": {
              "fillmode": "overlay",
              "size": 10,
              "solidity": 0.2
             }
            },
            "type": "histogram"
           }
          ],
          "histogram2d": [
           {
            "colorbar": {
             "outlinewidth": 0,
             "tickcolor": "rgb(36,36,36)",
             "ticklen": 8,
             "ticks": "outside",
             "tickwidth": 2
            },
            "colorscale": [
             [
              0,
              "rgb(2,4,25)"
             ],
             [
              0.06274509803921569,
              "rgb(24,15,41)"
             ],
             [
              0.12549019607843137,
              "rgb(47,23,57)"
             ],
             [
              0.18823529411764706,
              "rgb(71,28,72)"
             ],
             [
              0.25098039215686274,
              "rgb(97,30,82)"
             ],
             [
              0.3137254901960784,
              "rgb(123,30,89)"
             ],
             [
              0.3764705882352941,
              "rgb(150,27,91)"
             ],
             [
              0.4392156862745098,
              "rgb(177,22,88)"
             ],
             [
              0.5019607843137255,
              "rgb(203,26,79)"
             ],
             [
              0.5647058823529412,
              "rgb(223,47,67)"
             ],
             [
              0.6274509803921569,
              "rgb(236,76,61)"
             ],
             [
              0.6901960784313725,
              "rgb(242,107,73)"
             ],
             [
              0.7529411764705882,
              "rgb(244,135,95)"
             ],
             [
              0.8156862745098039,
              "rgb(245,162,122)"
             ],
             [
              0.8784313725490196,
              "rgb(246,188,153)"
             ],
             [
              0.9411764705882353,
              "rgb(247,212,187)"
             ],
             [
              1,
              "rgb(250,234,220)"
             ]
            ],
            "type": "histogram2d"
           }
          ],
          "histogram2dcontour": [
           {
            "colorbar": {
             "outlinewidth": 0,
             "tickcolor": "rgb(36,36,36)",
             "ticklen": 8,
             "ticks": "outside",
             "tickwidth": 2
            },
            "colorscale": [
             [
              0,
              "rgb(2,4,25)"
             ],
             [
              0.06274509803921569,
              "rgb(24,15,41)"
             ],
             [
              0.12549019607843137,
              "rgb(47,23,57)"
             ],
             [
              0.18823529411764706,
              "rgb(71,28,72)"
             ],
             [
              0.25098039215686274,
              "rgb(97,30,82)"
             ],
             [
              0.3137254901960784,
              "rgb(123,30,89)"
             ],
             [
              0.3764705882352941,
              "rgb(150,27,91)"
             ],
             [
              0.4392156862745098,
              "rgb(177,22,88)"
             ],
             [
              0.5019607843137255,
              "rgb(203,26,79)"
             ],
             [
              0.5647058823529412,
              "rgb(223,47,67)"
             ],
             [
              0.6274509803921569,
              "rgb(236,76,61)"
             ],
             [
              0.6901960784313725,
              "rgb(242,107,73)"
             ],
             [
              0.7529411764705882,
              "rgb(244,135,95)"
             ],
             [
              0.8156862745098039,
              "rgb(245,162,122)"
             ],
             [
              0.8784313725490196,
              "rgb(246,188,153)"
             ],
             [
              0.9411764705882353,
              "rgb(247,212,187)"
             ],
             [
              1,
              "rgb(250,234,220)"
             ]
            ],
            "type": "histogram2dcontour"
           }
          ],
          "mesh3d": [
           {
            "colorbar": {
             "outlinewidth": 0,
             "tickcolor": "rgb(36,36,36)",
             "ticklen": 8,
             "ticks": "outside",
             "tickwidth": 2
            },
            "type": "mesh3d"
           }
          ],
          "parcoords": [
           {
            "line": {
             "colorbar": {
              "outlinewidth": 0,
              "tickcolor": "rgb(36,36,36)",
              "ticklen": 8,
              "ticks": "outside",
              "tickwidth": 2
             }
            },
            "type": "parcoords"
           }
          ],
          "pie": [
           {
            "automargin": true,
            "type": "pie"
           }
          ],
          "scatter": [
           {
            "fillpattern": {
             "fillmode": "overlay",
             "size": 10,
             "solidity": 0.2
            },
            "type": "scatter"
           }
          ],
          "scatter3d": [
           {
            "line": {
             "colorbar": {
              "outlinewidth": 0,
              "tickcolor": "rgb(36,36,36)",
              "ticklen": 8,
              "ticks": "outside",
              "tickwidth": 2
             }
            },
            "marker": {
             "colorbar": {
              "outlinewidth": 0,
              "tickcolor": "rgb(36,36,36)",
              "ticklen": 8,
              "ticks": "outside",
              "tickwidth": 2
             }
            },
            "type": "scatter3d"
           }
          ],
          "scattercarpet": [
           {
            "marker": {
             "colorbar": {
              "outlinewidth": 0,
              "tickcolor": "rgb(36,36,36)",
              "ticklen": 8,
              "ticks": "outside",
              "tickwidth": 2
             }
            },
            "type": "scattercarpet"
           }
          ],
          "scattergeo": [
           {
            "marker": {
             "colorbar": {
              "outlinewidth": 0,
              "tickcolor": "rgb(36,36,36)",
              "ticklen": 8,
              "ticks": "outside",
              "tickwidth": 2
             }
            },
            "type": "scattergeo"
           }
          ],
          "scattergl": [
           {
            "marker": {
             "colorbar": {
              "outlinewidth": 0,
              "tickcolor": "rgb(36,36,36)",
              "ticklen": 8,
              "ticks": "outside",
              "tickwidth": 2
             }
            },
            "type": "scattergl"
           }
          ],
          "scattermapbox": [
           {
            "marker": {
             "colorbar": {
              "outlinewidth": 0,
              "tickcolor": "rgb(36,36,36)",
              "ticklen": 8,
              "ticks": "outside",
              "tickwidth": 2
             }
            },
            "type": "scattermapbox"
           }
          ],
          "scatterpolar": [
           {
            "marker": {
             "colorbar": {
              "outlinewidth": 0,
              "tickcolor": "rgb(36,36,36)",
              "ticklen": 8,
              "ticks": "outside",
              "tickwidth": 2
             }
            },
            "type": "scatterpolar"
           }
          ],
          "scatterpolargl": [
           {
            "marker": {
             "colorbar": {
              "outlinewidth": 0,
              "tickcolor": "rgb(36,36,36)",
              "ticklen": 8,
              "ticks": "outside",
              "tickwidth": 2
             }
            },
            "type": "scatterpolargl"
           }
          ],
          "scatterternary": [
           {
            "marker": {
             "colorbar": {
              "outlinewidth": 0,
              "tickcolor": "rgb(36,36,36)",
              "ticklen": 8,
              "ticks": "outside",
              "tickwidth": 2
             }
            },
            "type": "scatterternary"
           }
          ],
          "surface": [
           {
            "colorbar": {
             "outlinewidth": 0,
             "tickcolor": "rgb(36,36,36)",
             "ticklen": 8,
             "ticks": "outside",
             "tickwidth": 2
            },
            "colorscale": [
             [
              0,
              "rgb(2,4,25)"
             ],
             [
              0.06274509803921569,
              "rgb(24,15,41)"
             ],
             [
              0.12549019607843137,
              "rgb(47,23,57)"
             ],
             [
              0.18823529411764706,
              "rgb(71,28,72)"
             ],
             [
              0.25098039215686274,
              "rgb(97,30,82)"
             ],
             [
              0.3137254901960784,
              "rgb(123,30,89)"
             ],
             [
              0.3764705882352941,
              "rgb(150,27,91)"
             ],
             [
              0.4392156862745098,
              "rgb(177,22,88)"
             ],
             [
              0.5019607843137255,
              "rgb(203,26,79)"
             ],
             [
              0.5647058823529412,
              "rgb(223,47,67)"
             ],
             [
              0.6274509803921569,
              "rgb(236,76,61)"
             ],
             [
              0.6901960784313725,
              "rgb(242,107,73)"
             ],
             [
              0.7529411764705882,
              "rgb(244,135,95)"
             ],
             [
              0.8156862745098039,
              "rgb(245,162,122)"
             ],
             [
              0.8784313725490196,
              "rgb(246,188,153)"
             ],
             [
              0.9411764705882353,
              "rgb(247,212,187)"
             ],
             [
              1,
              "rgb(250,234,220)"
             ]
            ],
            "type": "surface"
           }
          ],
          "table": [
           {
            "cells": {
             "fill": {
              "color": "rgb(231,231,240)"
             },
             "line": {
              "color": "white"
             }
            },
            "header": {
             "fill": {
              "color": "rgb(183,183,191)"
             },
             "line": {
              "color": "white"
             }
            },
            "type": "table"
           }
          ]
         },
         "layout": {
          "annotationdefaults": {
           "arrowcolor": "rgb(67,103,167)"
          },
          "autotypenumbers": "strict",
          "coloraxis": {
           "colorbar": {
            "outlinewidth": 0,
            "tickcolor": "rgb(36,36,36)",
            "ticklen": 8,
            "ticks": "outside",
            "tickwidth": 2
           }
          },
          "colorscale": {
           "sequential": [
            [
             0,
             "rgb(2,4,25)"
            ],
            [
             0.06274509803921569,
             "rgb(24,15,41)"
            ],
            [
             0.12549019607843137,
             "rgb(47,23,57)"
            ],
            [
             0.18823529411764706,
             "rgb(71,28,72)"
            ],
            [
             0.25098039215686274,
             "rgb(97,30,82)"
            ],
            [
             0.3137254901960784,
             "rgb(123,30,89)"
            ],
            [
             0.3764705882352941,
             "rgb(150,27,91)"
            ],
            [
             0.4392156862745098,
             "rgb(177,22,88)"
            ],
            [
             0.5019607843137255,
             "rgb(203,26,79)"
            ],
            [
             0.5647058823529412,
             "rgb(223,47,67)"
            ],
            [
             0.6274509803921569,
             "rgb(236,76,61)"
            ],
            [
             0.6901960784313725,
             "rgb(242,107,73)"
            ],
            [
             0.7529411764705882,
             "rgb(244,135,95)"
            ],
            [
             0.8156862745098039,
             "rgb(245,162,122)"
            ],
            [
             0.8784313725490196,
             "rgb(246,188,153)"
            ],
            [
             0.9411764705882353,
             "rgb(247,212,187)"
            ],
            [
             1,
             "rgb(250,234,220)"
            ]
           ],
           "sequentialminus": [
            [
             0,
             "rgb(2,4,25)"
            ],
            [
             0.06274509803921569,
             "rgb(24,15,41)"
            ],
            [
             0.12549019607843137,
             "rgb(47,23,57)"
            ],
            [
             0.18823529411764706,
             "rgb(71,28,72)"
            ],
            [
             0.25098039215686274,
             "rgb(97,30,82)"
            ],
            [
             0.3137254901960784,
             "rgb(123,30,89)"
            ],
            [
             0.3764705882352941,
             "rgb(150,27,91)"
            ],
            [
             0.4392156862745098,
             "rgb(177,22,88)"
            ],
            [
             0.5019607843137255,
             "rgb(203,26,79)"
            ],
            [
             0.5647058823529412,
             "rgb(223,47,67)"
            ],
            [
             0.6274509803921569,
             "rgb(236,76,61)"
            ],
            [
             0.6901960784313725,
             "rgb(242,107,73)"
            ],
            [
             0.7529411764705882,
             "rgb(244,135,95)"
            ],
            [
             0.8156862745098039,
             "rgb(245,162,122)"
            ],
            [
             0.8784313725490196,
             "rgb(246,188,153)"
            ],
            [
             0.9411764705882353,
             "rgb(247,212,187)"
            ],
            [
             1,
             "rgb(250,234,220)"
            ]
           ]
          },
          "colorway": [
           "rgb(76,114,176)",
           "rgb(221,132,82)",
           "rgb(85,168,104)",
           "rgb(196,78,82)",
           "rgb(129,114,179)",
           "rgb(147,120,96)",
           "rgb(218,139,195)",
           "rgb(140,140,140)",
           "rgb(204,185,116)",
           "rgb(100,181,205)"
          ],
          "font": {
           "color": "rgb(36,36,36)"
          },
          "geo": {
           "bgcolor": "white",
           "lakecolor": "white",
           "landcolor": "rgb(234,234,242)",
           "showlakes": true,
           "showland": true,
           "subunitcolor": "white"
          },
          "hoverlabel": {
           "align": "left"
          },
          "hovermode": "closest",
          "paper_bgcolor": "white",
          "plot_bgcolor": "rgb(234,234,242)",
          "polar": {
           "angularaxis": {
            "gridcolor": "white",
            "linecolor": "white",
            "showgrid": true,
            "ticks": ""
           },
           "bgcolor": "rgb(234,234,242)",
           "radialaxis": {
            "gridcolor": "white",
            "linecolor": "white",
            "showgrid": true,
            "ticks": ""
           }
          },
          "scene": {
           "xaxis": {
            "backgroundcolor": "rgb(234,234,242)",
            "gridcolor": "white",
            "gridwidth": 2,
            "linecolor": "white",
            "showbackground": true,
            "showgrid": true,
            "ticks": "",
            "zerolinecolor": "white"
           },
           "yaxis": {
            "backgroundcolor": "rgb(234,234,242)",
            "gridcolor": "white",
            "gridwidth": 2,
            "linecolor": "white",
            "showbackground": true,
            "showgrid": true,
            "ticks": "",
            "zerolinecolor": "white"
           },
           "zaxis": {
            "backgroundcolor": "rgb(234,234,242)",
            "gridcolor": "white",
            "gridwidth": 2,
            "linecolor": "white",
            "showbackground": true,
            "showgrid": true,
            "ticks": "",
            "zerolinecolor": "white"
           }
          },
          "shapedefaults": {
           "fillcolor": "rgb(67,103,167)",
           "line": {
            "width": 0
           },
           "opacity": 0.5
          },
          "ternary": {
           "aaxis": {
            "gridcolor": "white",
            "linecolor": "white",
            "showgrid": true,
            "ticks": ""
           },
           "baxis": {
            "gridcolor": "white",
            "linecolor": "white",
            "showgrid": true,
            "ticks": ""
           },
           "bgcolor": "rgb(234,234,242)",
           "caxis": {
            "gridcolor": "white",
            "linecolor": "white",
            "showgrid": true,
            "ticks": ""
           }
          },
          "xaxis": {
           "automargin": true,
           "gridcolor": "white",
           "linecolor": "white",
           "showgrid": true,
           "ticks": "",
           "title": {
            "standoff": 15
           },
           "zerolinecolor": "white"
          },
          "yaxis": {
           "automargin": true,
           "gridcolor": "white",
           "linecolor": "white",
           "showgrid": true,
           "ticks": "",
           "title": {
            "standoff": 15
           },
           "zerolinecolor": "white"
          }
         }
        },
        "xaxis": {
         "anchor": "y",
         "domain": [
          0,
          0.475
         ]
        },
        "xaxis2": {
         "anchor": "y2",
         "domain": [
          0.525,
          1
         ]
        },
        "xaxis3": {
         "anchor": "y3",
         "domain": [
          0,
          0.475
         ]
        },
        "xaxis4": {
         "anchor": "y4",
         "domain": [
          0.525,
          1
         ]
        },
        "yaxis": {
         "anchor": "x",
         "domain": [
          0.55,
          1
         ]
        },
        "yaxis2": {
         "anchor": "x2",
         "domain": [
          0.55,
          1
         ]
        },
        "yaxis3": {
         "anchor": "x3",
         "domain": [
          0,
          0.45
         ]
        },
        "yaxis4": {
         "anchor": "x4",
         "domain": [
          0,
          0.45
         ]
        }
       }
      },
      "text/html": [
       "<div>                            <div id=\"4d98b652-c582-4ae6-b4e7-32e2d3e827ab\" class=\"plotly-graph-div\" style=\"height:800px; width:100%;\"></div>            <script type=\"text/javascript\">                require([\"plotly\"], function(Plotly) {                    window.PLOTLYENV=window.PLOTLYENV || {};                                    if (document.getElementById(\"4d98b652-c582-4ae6-b4e7-32e2d3e827ab\")) {                    Plotly.newPlot(                        \"4d98b652-c582-4ae6-b4e7-32e2d3e827ab\",                        [{\"hoverinfo\":\"x\",\"showlegend\":false,\"x\":[375,684,359,600,376,676,1880,514,750,752,303,303,1511,1014,376,404,1051,564,750,573,750,665,488,1127,434,564,1418,752,376,291,893,314,787,864,1214,1677,300,90,405,783,540,300,135,360,832,1005,2395,300,270,1470,450,2788,1320,1471,812,114,488,1090,540,450,1504,802,405,955,580,993,2154,494,863,1481,470,1910,1415,405,1800,563,1215,1276,1140,2723,1759,843,1128,577,1916,852,1407,561,473,698,300,370,2254,405,1164,300,562,752,1216,150,593,2704,376,1696,434,771,1218,2166,384,2824,468,2850,4303,1276,2090,304,285,405,836,975,914,1483,1534,2280,608,540,900,1222,426,2050,209,2922,1012,4682,810,3776,1056,705,1588,4558,526,352,1470,786,1784,1071,10656,900,840,1067,2707,1434,1381,2068,830,1377,803,1187,1210,954,1035,2644,506,690,976,1786,3388,1612,690,532,1775,968,1077,1503,712,2090,924,507,405,1064,2421,1618,1292,2236,135,249,152,2778,270,942,964,915,360,480,1266,466,1350,808,818,1408,795,600,704,456,408,480,1974,684,1271,830,456,4187,1379,570,420,4590,3380,360,190,1804,1036,3620,1350,410,976,2180,632,3970,510,97,225,877,1111,135,584,2452,240,1504,690,292,270,374,944,591,488,902,1148,1018,1225,2928,420,584,376,285,488,1432,848,2528,209,1457,742,190,726,2460,1128,188,135,676,600,840,510,929,420,2658,544,564,345,488,577,728,836,240,675,600,1275,420,646,135,1699,270,555,232,300,376,260,1837,1574,742,418,1012,194,374,2374,269,824,674,820,614,187,188,1162,1049,1785,976,703,1236,3524,1562,2924,299,193,860,749,1941,1649,127,187,1762,567,1409,4379,374,840,1874,149,3298,8758,2998,149,582,239,149,2453,464,1949,4949,1349,1874,1574,1049,742,712,614,1724,280,3822,254,1420,292,919,749,1949,2083,239,1216,2699,449,1425,1049,599,525,1274,374,742,200,2699,3899,1139,2550,463,1012,637,596,1770,3089,188,1574,2324,2850,672,1093,156,539,1874,164,1490,1012,1900,224,374,209,553,1949,868,247,447,614,2134,2453,2398,1874,2324,314,2990,2174,831,562,300,862,4796,3974,397,570,447,1199,560,621,734,1347,937,1012,1615,1531,2020,1649,1798,1836,897,1723,224,852,824,3658,343,749,674,427,3147,149,2999,2549,2923,1547,1190,1083,734,2399,1981,599,637,2099,1199,9010,1724,560,2549,149,299,1574,5469,449,896,82,1574,1612,644,1274,2924,928,1012,3749,749,22056,1515,1797,277,134,225,631,300,637,1475,224,225,328,374,2999,307,1147,824,374,2623,1199,1101,1686,236,3133,2996,742,974,149,148,8670,742,742,748,1440,544,1191,1012,8260,600,1499,1473,5249,2249,149,448,1951,4139,239,2849,404,447,5090,1408,1619,974,486,3298,614,81,6007,7597,524,24370,1949,937,974,2728,1124,637,267,928,697,5970,1949,547,149,381,599,374,7722,894,449,3440,749,460,1949,450,546,734,440,1649,2774,742,487,3374,4949,1199,1049,1836,411,2111,156,88,180,1199,1049,1087,356,3749,5474,472,239,749,1574,470,268,993,1073,1874,2998,2849,899,67,637,638,354,15,824,449,2698,404,104,742,412,787,225,749,1648,599,478,539,1574,899,59,1049,380,308,336,380,299,397,59,734,479,1799,1662,1649,2441,3006,1203,2424,2532,1196,708,2209,380,909,2924,45,922,894,239,1199,1349,1874,1912,2624,363,3974,1346,734,427,490,2473,224,4867,44,447,300,637,1716,4495,1213,9915,247,1274,427,2249,2624,4049,1124,1010,524,224,2699,5160,740,2399,2924,1837,4432,59,446,930,1738,88,1049,89,449,734,240,487,577,963,963,2187,1447,1373,937,937,187,810,299,1049,3224,734,60,1649,299,689,749,712,749,749,194,4859,974,2024,1856,112,697,1049,5249,1049,2849,292,1912,6134,88,134,127,3329,1034,1461,134,329,1347,449,59,2549,712,1087,239,1162,1874,1049,264,509,149,1725,689,792,164,2324,402,149,584,479,1574,3299,704,1649,202,359,2699,1164,1799,5024,59,899,447,413,292,44,5662,177,239,134,449,118,2849,224,2174,656,328,974,52,637,749,157,674,134,1049,2024,1874,389,2999,1574,524,59,3298,1049,449,2249,1049,734,1237,745,89,389,1724,449,704,418,209,66,148,624,651,7424,4124,780,637,412,898,52,149,1049,1049,442,637,1649,1049,568,442,2699,268,1649,448,134,708,88,374,3524,749,359,374,87,1049,367,539,712,745,1199,172,2361,2098,1874,1612,44,1049,516,787,2699,149,6270,74,824,1649,32718,3598,802,974,434,637,224,52,584,1049,1049,2360,478,2361,464,4139,1912,599,300,298,888,2249,2999,149,862,464,1649,344,1424,3148,416,375,1139,2924,1049,712,194,3247,112,149,1049,1049,907,974,2460,1912,1139,1574,1649,112,748,2624,1987,1049,450,1574,224,442,3329,299,254,1874,187,1799,298,1049,471,1049,1499,637,1349,2174,749,2549,899,1612,149,1162,262,1049,202,239,584,134,6307,945,479,487,1799,1874,299,389,899,1049,4499,472,524,749,277,718,2024,1162,1214,134,1199,2460,488,899,974,5998,937,374,5399,154,5847,1056,487,209,448,2849,112,492,224,1912,1912,590,712,110,898,937,518,958,127,652,1874,112,157,135,1724,59,59,47385,598,2800,232,1649,22,749,1237,112,134,134,328,1198,44,2699,373,382,2699,312,727,164,1572,569,220,487,1574,599,554,569,554,374,2399,689,1302,374,149,2219,4272,11250,742,119,74,157,710,164,1515,1368,224,554,1344,539,1642,1574,374,517,764,449,1087,2024,22,300,112,209,1536,1799,627,1649,449,67,2099,674,389,119,149,374,149,1916,4424,2527,5775,299,1574,1012,524,487,224,299,4957,1162,127,448,81,727,3749,974,1424,74,1424,667,157,464,209,635,5249,727,727,3974,134,44,300,599,149,202,16536,2699,299,1574,974,1799,22,6149,1275,937,802,82,67,1949,2697,286,104,134,899,667,1200,164,268,44,899,899,1649,1498,652,1424,208,569,727,59,11000,592,7480,187,1649,516,1124,1799,614,2999,88,134,3524,1139,1949,292,1522,2024,389,119,88,1716,240,940,652,592,1087,104,284,434,110,277,614,1162,209,1799,787,336,1799,389,134,232,1574,1087,66,374,134,44,1409,3329,134,299,3562,328,748,134,607,3667,157,179,59,3329,134,1874,2324,328,1087,440,3112,1736,378,299,2120,157,479,127,787,449,824,442,1994,194,149,67,464,134,727,1162,29,127,524,562,1124,2211,560,224,741,502,2699,2146,2550,1087,2849,88,1198,862,804,1568,1649,749,337,749,974,2849,149,680,899,3674,134,1649,449,314,134,374,727,1085,112,2699,487,209,299,157,1780,2774,120,820,674,134,1087,134,471,194,157,157,239,487,87,487,119,1087,1724,974,974,134,637,1987,8437,3562,974,2399,112,134,3329,442,1649,134,1120,134,735,824,520,1898,164,59,1199,1350,742,742,149,717,389,674,464,900,974,104,430,58,2550,562,914,74,194,67,74,487,727,2041,2220,487,67,350,599,74,2024,727,5594,4900,560,1649,74,388,127,670,1154,1087,388,74,1288,307,127,1349,959,3525,599,134,1874,157,2924,134,734,2924,727,134,680,1087,487,225,194,74,629,1762,776,295,1949,119,292,1087,666,374,689,1199,603,898,555,764,74,2137,134,449,104,3719,1949,480,2249,614,134,412,225,5459,4117,3787,810,74,194,1012,413,1087,134,1376,1087,974,5249,727,727,1049,74,112,614,2549,974,148,3074,74,2399,344,149,1312,1199,1087,314,2549,614,209,314,52,1874,1649,209,779,509,397,2998,652,187,2915,52,157,1087,268,127,1574,157,1949,7679,187,1892,1049,1874,1124,222,104,2249,2699,1087,1574,449,508,134,1760,1199,67,59,749,194,444,742,3749,1087,299,5594,412,750,225,590,727,59,74,712,652,134,236,2399,59,2694,187,1574,974,2247,1649,3000,449,5098,552,592,1649,210,176,149,157,1180,104,74,622,3599,922,1056,104,898,1799,4049,1770,1056,508,1496,712,134,280,2624,74,74,824,104,134,134,3787,74,524,620,74,44,1770,59,3448,442,374,524,268,74,434,1949,734,134,734,148,209,357,87,1167,1087,600,148,84,928,3776,5287,298,925,1762,52,352,405,1649,119,22,3329,988,547,2624,487,412,140,1177,5398,749,734,4574,974,600,2245,2249,742,749,6149,449,712,52,734,8737,74,164,134,1649,562,524,787,1087,119,157,1649,430,3705,134,74,6149,2999,134,734,280,134,268,1049,442,2234,3074,374,659,74,224,524,734,198,44,5249,1574,1049,1949,22,147,598,1462,899,674,402,300,177,59,1087,200,118,5397,787,389,974,1012,1199,194,1649,59,236,269,87,1424,1424,869,200,370,22,599,899,374,2001,232,59,524,148,1312,1312,11460,14196,15680,564,7229,187,74,337,119,119,232,2774,58,74,1274,569,8077,412,569,569,74,312,28,688,22,22,464,412,2624,2699,134,475,239,2699,97,231,1499,787,4470,592,134,97,374,156,896,472,472,217,217,217,127,637,1087,1087,254,1200,142,22,1920,134,37,1574,134,157,224,224,295,487,120,1122,208,356,97,3674,520,262,1574,1874,389,2999,1012,2774,134,502,359,937,88,898,899,208,4874,599,734,1087,2848,1087,1499,1724,509,672,509,284,599,299,1076,1949,6097,232,74,44,200,568,6097,284,734,434,1642,299,157,449,314,749,134,15300,112,652,1574,1920,74,209,3562,1649,337,899,3925,284,1087,1530,157,974,734,6449,344,1499,1498,3787,464,299,22,397,134,4312,1920,38,149,164,38,217,1912,2230,217,448,127,187,899,134,974,239,127,487,1949,419,487,74,1180,1664,299,11400,599,134,134,412,1649,329,1196,224,328,1762,3760,987,299,4040,74,5549,14,445,472,164,778,142,6494,296,194,734,52,704,412,15,208,134,750,974,1087,49432,336,824,7004,6809,487,2549,296,734,704,8832,6614,899,539,208,450,164,704,388,734,1880,749,734,1574,74,3749,1574,1649,1087,1162,3974,487,300,2549,268,239,1649,524,749,1649,974,402,164,74,157,187,164,74,1275,560,600,734,1087,1087,374,134,824,376,824,1520,262,194,974,200,149,314,97,674,254,1348,492,374,2324,1087,734,402,1087,449,427,5939,614,149,1424,254,147,560,600,787,749,599,596,134,404,134,88,697,3899,179,74,1949,427,502,74,2527,449,4494,329,157,488,412,134,164,397,599,295,52,277,328,464,2699,674,277,239,717,194,134,2249,592,1349,413,104,59,2174,7870,1087,500,1424,2924,1424,1798,749,254,3787,157,44,734,552,59,187,950,697,1762,134,652,134,118,569,4390,247,1649,66,1874,1087,6148,194,899,389,1649,749,598,3375,3674,3748,3449,149,449,352,2527,74,268,427,2249,2699,614,674,1199,577,1612,412,59,935,2025,375,2136,434,749,830,3749,220,1034,674,127,74,58,1424,1060,1649,464,1649,592,554,2699,1087,599,749,562,638,1087,734,674,1800,118,242,198,220,1101,89,52,42,1274,1162,14917,1124,149,449,404,7199,1648,974,8810,614,899,74,247,2527,44,97,82,337,745,22,150,4574,599,254,1087,97,1087,2025,402,592,1177,2774,134,442,1499,97,734,2699,134,224,74,1162,1612,524,1204,134,1199,1162,74,299,440,268,1125,1874,1108,1124,509,1050,300,127,116,134,1087,582,208,116,787,525,674,2549,404,975,110,134,524,2699,674,577,3562,838,449,5399,564,1574,472,635,370,1649,172,1649,134,750,284,734,3449,3449,2549,674,614,134,525,194,74,562,375,4495,74,1087,104,899,487,450,1349,188,1642,1124,546,202,450,157,450,7349,59,82,45,6449,450,614,569,1087,749,1087,1087,374,29,1837,299,1368,412,150,1912,1900,389,831,1124,712,134,525,1087,262,968,3524,1087,1649,402,1649,74,145,1050,389,1856,2699,1649,599,412,320,52,1949,412,1319,1034,450,1060,1874,412,1087,389,164,412,1049,2624,75,1949,59,374,268,188,157,225,268,1612,374,2137,1424,748,4648,1034,66,187,899,449,599,3524,4574,239,974,74,2249,74,3375,853,1050,1124,1087,600,749,1124,5594,1087,1124,599,675,524,448,202,596,134,157,1499,1649,750,134,150,157,157,3375,30,562,134,1574,487,134,188,29,134,1499,824,1274,3598,59,524,478,450,1649,7496,614,74,1425,3599,2774,127,1124,824,74,1349,577,269,74,2249,134,598,74,4274,375,672,22,260,638,262,1210,224,217,52,2099,412,787,134,674,134,3290,554,307,299,74,134,734,300,734,3580,402,599,472,149,1649,734,1087,1199,3599,1424,658,1574,974,1649,745,2324,74,862,112,157,599,1424,1124,74,157,599,1087,374,1574,599,5136,74,1660,404,66,1087,119,174,1168,704,3975,3975,2360,59,172,404,2024,2024,1649,599,224,74,328,1199,2024,329,1498,119,1424,487,1087,697,734,187,224,3712,749,112,5420,149,638,187,1199,37,599,517,974,374,312,2849,1649,599,328,524,524,1087,1087,225,262,1500,202,6075,329,1087,88,4724,938,149,1012,1228,2849,637,127,314,974,74,937,187,472,142,914,674,3149,3524,224,222,974,202,1087,1649,1087,6600,1949,224,439,7724,404,149,824,862,149,2474,445,1048,974,2474,149,900,749,824,157,149,240,156,150,742,4124,200,22,570,1574,352,1087,37,134,637,524,177,577,2550,375,2399,3298,697,74,74,6899,3779,58,1649,500,1649,952,562,148,224,254,134,1034,74,749,149,344,149,149,1087,447,509,1349,88,1949,524,119,899,127,314,112,329,404,1087,157,397],\"type\":\"histogram\",\"xaxis\":\"x\",\"yaxis\":\"y\"},{\"hoverinfo\":\"x\",\"name\":\"\",\"showlegend\":false,\"x\":[375,684,359,600,376,676,1880,514,750,752,303,303,1511,1014,376,404,1051,564,750,573,750,665,488,1127,434,564,1418,752,376,291,893,314,787,864,1214,1677,300,90,405,783,540,300,135,360,832,1005,2395,300,270,1470,450,2788,1320,1471,812,114,488,1090,540,450,1504,802,405,955,580,993,2154,494,863,1481,470,1910,1415,405,1800,563,1215,1276,1140,2723,1759,843,1128,577,1916,852,1407,561,473,698,300,370,2254,405,1164,300,562,752,1216,150,593,2704,376,1696,434,771,1218,2166,384,2824,468,2850,4303,1276,2090,304,285,405,836,975,914,1483,1534,2280,608,540,900,1222,426,2050,209,2922,1012,4682,810,3776,1056,705,1588,4558,526,352,1470,786,1784,1071,10656,900,840,1067,2707,1434,1381,2068,830,1377,803,1187,1210,954,1035,2644,506,690,976,1786,3388,1612,690,532,1775,968,1077,1503,712,2090,924,507,405,1064,2421,1618,1292,2236,135,249,152,2778,270,942,964,915,360,480,1266,466,1350,808,818,1408,795,600,704,456,408,480,1974,684,1271,830,456,4187,1379,570,420,4590,3380,360,190,1804,1036,3620,1350,410,976,2180,632,3970,510,97,225,877,1111,135,584,2452,240,1504,690,292,270,374,944,591,488,902,1148,1018,1225,2928,420,584,376,285,488,1432,848,2528,209,1457,742,190,726,2460,1128,188,135,676,600,840,510,929,420,2658,544,564,345,488,577,728,836,240,675,600,1275,420,646,135,1699,270,555,232,300,376,260,1837,1574,742,418,1012,194,374,2374,269,824,674,820,614,187,188,1162,1049,1785,976,703,1236,3524,1562,2924,299,193,860,749,1941,1649,127,187,1762,567,1409,4379,374,840,1874,149,3298,8758,2998,149,582,239,149,2453,464,1949,4949,1349,1874,1574,1049,742,712,614,1724,280,3822,254,1420,292,919,749,1949,2083,239,1216,2699,449,1425,1049,599,525,1274,374,742,200,2699,3899,1139,2550,463,1012,637,596,1770,3089,188,1574,2324,2850,672,1093,156,539,1874,164,1490,1012,1900,224,374,209,553,1949,868,247,447,614,2134,2453,2398,1874,2324,314,2990,2174,831,562,300,862,4796,3974,397,570,447,1199,560,621,734,1347,937,1012,1615,1531,2020,1649,1798,1836,897,1723,224,852,824,3658,343,749,674,427,3147,149,2999,2549,2923,1547,1190,1083,734,2399,1981,599,637,2099,1199,9010,1724,560,2549,149,299,1574,5469,449,896,82,1574,1612,644,1274,2924,928,1012,3749,749,22056,1515,1797,277,134,225,631,300,637,1475,224,225,328,374,2999,307,1147,824,374,2623,1199,1101,1686,236,3133,2996,742,974,149,148,8670,742,742,748,1440,544,1191,1012,8260,600,1499,1473,5249,2249,149,448,1951,4139,239,2849,404,447,5090,1408,1619,974,486,3298,614,81,6007,7597,524,24370,1949,937,974,2728,1124,637,267,928,697,5970,1949,547,149,381,599,374,7722,894,449,3440,749,460,1949,450,546,734,440,1649,2774,742,487,3374,4949,1199,1049,1836,411,2111,156,88,180,1199,1049,1087,356,3749,5474,472,239,749,1574,470,268,993,1073,1874,2998,2849,899,67,637,638,354,15,824,449,2698,404,104,742,412,787,225,749,1648,599,478,539,1574,899,59,1049,380,308,336,380,299,397,59,734,479,1799,1662,1649,2441,3006,1203,2424,2532,1196,708,2209,380,909,2924,45,922,894,239,1199,1349,1874,1912,2624,363,3974,1346,734,427,490,2473,224,4867,44,447,300,637,1716,4495,1213,9915,247,1274,427,2249,2624,4049,1124,1010,524,224,2699,5160,740,2399,2924,1837,4432,59,446,930,1738,88,1049,89,449,734,240,487,577,963,963,2187,1447,1373,937,937,187,810,299,1049,3224,734,60,1649,299,689,749,712,749,749,194,4859,974,2024,1856,112,697,1049,5249,1049,2849,292,1912,6134,88,134,127,3329,1034,1461,134,329,1347,449,59,2549,712,1087,239,1162,1874,1049,264,509,149,1725,689,792,164,2324,402,149,584,479,1574,3299,704,1649,202,359,2699,1164,1799,5024,59,899,447,413,292,44,5662,177,239,134,449,118,2849,224,2174,656,328,974,52,637,749,157,674,134,1049,2024,1874,389,2999,1574,524,59,3298,1049,449,2249,1049,734,1237,745,89,389,1724,449,704,418,209,66,148,624,651,7424,4124,780,637,412,898,52,149,1049,1049,442,637,1649,1049,568,442,2699,268,1649,448,134,708,88,374,3524,749,359,374,87,1049,367,539,712,745,1199,172,2361,2098,1874,1612,44,1049,516,787,2699,149,6270,74,824,1649,32718,3598,802,974,434,637,224,52,584,1049,1049,2360,478,2361,464,4139,1912,599,300,298,888,2249,2999,149,862,464,1649,344,1424,3148,416,375,1139,2924,1049,712,194,3247,112,149,1049,1049,907,974,2460,1912,1139,1574,1649,112,748,2624,1987,1049,450,1574,224,442,3329,299,254,1874,187,1799,298,1049,471,1049,1499,637,1349,2174,749,2549,899,1612,149,1162,262,1049,202,239,584,134,6307,945,479,487,1799,1874,299,389,899,1049,4499,472,524,749,277,718,2024,1162,1214,134,1199,2460,488,899,974,5998,937,374,5399,154,5847,1056,487,209,448,2849,112,492,224,1912,1912,590,712,110,898,937,518,958,127,652,1874,112,157,135,1724,59,59,47385,598,2800,232,1649,22,749,1237,112,134,134,328,1198,44,2699,373,382,2699,312,727,164,1572,569,220,487,1574,599,554,569,554,374,2399,689,1302,374,149,2219,4272,11250,742,119,74,157,710,164,1515,1368,224,554,1344,539,1642,1574,374,517,764,449,1087,2024,22,300,112,209,1536,1799,627,1649,449,67,2099,674,389,119,149,374,149,1916,4424,2527,5775,299,1574,1012,524,487,224,299,4957,1162,127,448,81,727,3749,974,1424,74,1424,667,157,464,209,635,5249,727,727,3974,134,44,300,599,149,202,16536,2699,299,1574,974,1799,22,6149,1275,937,802,82,67,1949,2697,286,104,134,899,667,1200,164,268,44,899,899,1649,1498,652,1424,208,569,727,59,11000,592,7480,187,1649,516,1124,1799,614,2999,88,134,3524,1139,1949,292,1522,2024,389,119,88,1716,240,940,652,592,1087,104,284,434,110,277,614,1162,209,1799,787,336,1799,389,134,232,1574,1087,66,374,134,44,1409,3329,134,299,3562,328,748,134,607,3667,157,179,59,3329,134,1874,2324,328,1087,440,3112,1736,378,299,2120,157,479,127,787,449,824,442,1994,194,149,67,464,134,727,1162,29,127,524,562,1124,2211,560,224,741,502,2699,2146,2550,1087,2849,88,1198,862,804,1568,1649,749,337,749,974,2849,149,680,899,3674,134,1649,449,314,134,374,727,1085,112,2699,487,209,299,157,1780,2774,120,820,674,134,1087,134,471,194,157,157,239,487,87,487,119,1087,1724,974,974,134,637,1987,8437,3562,974,2399,112,134,3329,442,1649,134,1120,134,735,824,520,1898,164,59,1199,1350,742,742,149,717,389,674,464,900,974,104,430,58,2550,562,914,74,194,67,74,487,727,2041,2220,487,67,350,599,74,2024,727,5594,4900,560,1649,74,388,127,670,1154,1087,388,74,1288,307,127,1349,959,3525,599,134,1874,157,2924,134,734,2924,727,134,680,1087,487,225,194,74,629,1762,776,295,1949,119,292,1087,666,374,689,1199,603,898,555,764,74,2137,134,449,104,3719,1949,480,2249,614,134,412,225,5459,4117,3787,810,74,194,1012,413,1087,134,1376,1087,974,5249,727,727,1049,74,112,614,2549,974,148,3074,74,2399,344,149,1312,1199,1087,314,2549,614,209,314,52,1874,1649,209,779,509,397,2998,652,187,2915,52,157,1087,268,127,1574,157,1949,7679,187,1892,1049,1874,1124,222,104,2249,2699,1087,1574,449,508,134,1760,1199,67,59,749,194,444,742,3749,1087,299,5594,412,750,225,590,727,59,74,712,652,134,236,2399,59,2694,187,1574,974,2247,1649,3000,449,5098,552,592,1649,210,176,149,157,1180,104,74,622,3599,922,1056,104,898,1799,4049,1770,1056,508,1496,712,134,280,2624,74,74,824,104,134,134,3787,74,524,620,74,44,1770,59,3448,442,374,524,268,74,434,1949,734,134,734,148,209,357,87,1167,1087,600,148,84,928,3776,5287,298,925,1762,52,352,405,1649,119,22,3329,988,547,2624,487,412,140,1177,5398,749,734,4574,974,600,2245,2249,742,749,6149,449,712,52,734,8737,74,164,134,1649,562,524,787,1087,119,157,1649,430,3705,134,74,6149,2999,134,734,280,134,268,1049,442,2234,3074,374,659,74,224,524,734,198,44,5249,1574,1049,1949,22,147,598,1462,899,674,402,300,177,59,1087,200,118,5397,787,389,974,1012,1199,194,1649,59,236,269,87,1424,1424,869,200,370,22,599,899,374,2001,232,59,524,148,1312,1312,11460,14196,15680,564,7229,187,74,337,119,119,232,2774,58,74,1274,569,8077,412,569,569,74,312,28,688,22,22,464,412,2624,2699,134,475,239,2699,97,231,1499,787,4470,592,134,97,374,156,896,472,472,217,217,217,127,637,1087,1087,254,1200,142,22,1920,134,37,1574,134,157,224,224,295,487,120,1122,208,356,97,3674,520,262,1574,1874,389,2999,1012,2774,134,502,359,937,88,898,899,208,4874,599,734,1087,2848,1087,1499,1724,509,672,509,284,599,299,1076,1949,6097,232,74,44,200,568,6097,284,734,434,1642,299,157,449,314,749,134,15300,112,652,1574,1920,74,209,3562,1649,337,899,3925,284,1087,1530,157,974,734,6449,344,1499,1498,3787,464,299,22,397,134,4312,1920,38,149,164,38,217,1912,2230,217,448,127,187,899,134,974,239,127,487,1949,419,487,74,1180,1664,299,11400,599,134,134,412,1649,329,1196,224,328,1762,3760,987,299,4040,74,5549,14,445,472,164,778,142,6494,296,194,734,52,704,412,15,208,134,750,974,1087,49432,336,824,7004,6809,487,2549,296,734,704,8832,6614,899,539,208,450,164,704,388,734,1880,749,734,1574,74,3749,1574,1649,1087,1162,3974,487,300,2549,268,239,1649,524,749,1649,974,402,164,74,157,187,164,74,1275,560,600,734,1087,1087,374,134,824,376,824,1520,262,194,974,200,149,314,97,674,254,1348,492,374,2324,1087,734,402,1087,449,427,5939,614,149,1424,254,147,560,600,787,749,599,596,134,404,134,88,697,3899,179,74,1949,427,502,74,2527,449,4494,329,157,488,412,134,164,397,599,295,52,277,328,464,2699,674,277,239,717,194,134,2249,592,1349,413,104,59,2174,7870,1087,500,1424,2924,1424,1798,749,254,3787,157,44,734,552,59,187,950,697,1762,134,652,134,118,569,4390,247,1649,66,1874,1087,6148,194,899,389,1649,749,598,3375,3674,3748,3449,149,449,352,2527,74,268,427,2249,2699,614,674,1199,577,1612,412,59,935,2025,375,2136,434,749,830,3749,220,1034,674,127,74,58,1424,1060,1649,464,1649,592,554,2699,1087,599,749,562,638,1087,734,674,1800,118,242,198,220,1101,89,52,42,1274,1162,14917,1124,149,449,404,7199,1648,974,8810,614,899,74,247,2527,44,97,82,337,745,22,150,4574,599,254,1087,97,1087,2025,402,592,1177,2774,134,442,1499,97,734,2699,134,224,74,1162,1612,524,1204,134,1199,1162,74,299,440,268,1125,1874,1108,1124,509,1050,300,127,116,134,1087,582,208,116,787,525,674,2549,404,975,110,134,524,2699,674,577,3562,838,449,5399,564,1574,472,635,370,1649,172,1649,134,750,284,734,3449,3449,2549,674,614,134,525,194,74,562,375,4495,74,1087,104,899,487,450,1349,188,1642,1124,546,202,450,157,450,7349,59,82,45,6449,450,614,569,1087,749,1087,1087,374,29,1837,299,1368,412,150,1912,1900,389,831,1124,712,134,525,1087,262,968,3524,1087,1649,402,1649,74,145,1050,389,1856,2699,1649,599,412,320,52,1949,412,1319,1034,450,1060,1874,412,1087,389,164,412,1049,2624,75,1949,59,374,268,188,157,225,268,1612,374,2137,1424,748,4648,1034,66,187,899,449,599,3524,4574,239,974,74,2249,74,3375,853,1050,1124,1087,600,749,1124,5594,1087,1124,599,675,524,448,202,596,134,157,1499,1649,750,134,150,157,157,3375,30,562,134,1574,487,134,188,29,134,1499,824,1274,3598,59,524,478,450,1649,7496,614,74,1425,3599,2774,127,1124,824,74,1349,577,269,74,2249,134,598,74,4274,375,672,22,260,638,262,1210,224,217,52,2099,412,787,134,674,134,3290,554,307,299,74,134,734,300,734,3580,402,599,472,149,1649,734,1087,1199,3599,1424,658,1574,974,1649,745,2324,74,862,112,157,599,1424,1124,74,157,599,1087,374,1574,599,5136,74,1660,404,66,1087,119,174,1168,704,3975,3975,2360,59,172,404,2024,2024,1649,599,224,74,328,1199,2024,329,1498,119,1424,487,1087,697,734,187,224,3712,749,112,5420,149,638,187,1199,37,599,517,974,374,312,2849,1649,599,328,524,524,1087,1087,225,262,1500,202,6075,329,1087,88,4724,938,149,1012,1228,2849,637,127,314,974,74,937,187,472,142,914,674,3149,3524,224,222,974,202,1087,1649,1087,6600,1949,224,439,7724,404,149,824,862,149,2474,445,1048,974,2474,149,900,749,824,157,149,240,156,150,742,4124,200,22,570,1574,352,1087,37,134,637,524,177,577,2550,375,2399,3298,697,74,74,6899,3779,58,1649,500,1649,952,562,148,224,254,134,1034,74,749,149,344,149,149,1087,447,509,1349,88,1949,524,119,899,127,314,112,329,404,1087,157,397],\"type\":\"box\",\"xaxis\":\"x3\",\"yaxis\":\"y3\"},{\"hoverinfo\":\"x\",\"showlegend\":false,\"x\":[1238,613,428,413,164,555,600,728,675,3299,1037,524,710,1281,1199,1049,937,4049,210,1049,6007,820,770,712,2109,2166,2827,112,719,598,1215,149,44,134,824,472,1794,164,899,727,492,2099,614,187,922,637,727,157,974,734,254,142,1162,134,3224,1087,37,397,718,134,179,74,2999,164,1949,1087,74,2926,734,2527,239,1800,2527,3147,119,134,1447,7679,150,150,449,3674,2399,195,1349,111,164,4574,1349,674,195,225,734,3898,74,156,637,599,374,2774,74,4198,1087,220,439,112,397],\"type\":\"histogram\",\"xaxis\":\"x2\",\"yaxis\":\"y2\"},{\"hoverinfo\":\"x\",\"name\":\"\",\"showlegend\":false,\"x\":[1238,613,428,413,164,555,600,728,675,3299,1037,524,710,1281,1199,1049,937,4049,210,1049,6007,820,770,712,2109,2166,2827,112,719,598,1215,149,44,134,824,472,1794,164,899,727,492,2099,614,187,922,637,727,157,974,734,254,142,1162,134,3224,1087,37,397,718,134,179,74,2999,164,1949,1087,74,2926,734,2527,239,1800,2527,3147,119,134,1447,7679,150,150,449,3674,2399,195,1349,111,164,4574,1349,674,195,225,734,3898,74,156,637,599,374,2774,74,4198,1087,220,439,112,397],\"type\":\"box\",\"xaxis\":\"x4\",\"yaxis\":\"y4\"}],                        {\"template\":{\"data\":{\"histogram2dcontour\":[{\"type\":\"histogram2dcontour\",\"colorbar\":{\"outlinewidth\":0,\"tickcolor\":\"rgb(36,36,36)\",\"ticklen\":8,\"ticks\":\"outside\",\"tickwidth\":2},\"colorscale\":[[0.0,\"rgb(2,4,25)\"],[0.06274509803921569,\"rgb(24,15,41)\"],[0.12549019607843137,\"rgb(47,23,57)\"],[0.18823529411764706,\"rgb(71,28,72)\"],[0.25098039215686274,\"rgb(97,30,82)\"],[0.3137254901960784,\"rgb(123,30,89)\"],[0.3764705882352941,\"rgb(150,27,91)\"],[0.4392156862745098,\"rgb(177,22,88)\"],[0.5019607843137255,\"rgb(203,26,79)\"],[0.5647058823529412,\"rgb(223,47,67)\"],[0.6274509803921569,\"rgb(236,76,61)\"],[0.6901960784313725,\"rgb(242,107,73)\"],[0.7529411764705882,\"rgb(244,135,95)\"],[0.8156862745098039,\"rgb(245,162,122)\"],[0.8784313725490196,\"rgb(246,188,153)\"],[0.9411764705882353,\"rgb(247,212,187)\"],[1.0,\"rgb(250,234,220)\"]]}],\"choropleth\":[{\"type\":\"choropleth\",\"colorbar\":{\"outlinewidth\":0,\"tickcolor\":\"rgb(36,36,36)\",\"ticklen\":8,\"ticks\":\"outside\",\"tickwidth\":2}}],\"histogram2d\":[{\"type\":\"histogram2d\",\"colorbar\":{\"outlinewidth\":0,\"tickcolor\":\"rgb(36,36,36)\",\"ticklen\":8,\"ticks\":\"outside\",\"tickwidth\":2},\"colorscale\":[[0.0,\"rgb(2,4,25)\"],[0.06274509803921569,\"rgb(24,15,41)\"],[0.12549019607843137,\"rgb(47,23,57)\"],[0.18823529411764706,\"rgb(71,28,72)\"],[0.25098039215686274,\"rgb(97,30,82)\"],[0.3137254901960784,\"rgb(123,30,89)\"],[0.3764705882352941,\"rgb(150,27,91)\"],[0.4392156862745098,\"rgb(177,22,88)\"],[0.5019607843137255,\"rgb(203,26,79)\"],[0.5647058823529412,\"rgb(223,47,67)\"],[0.6274509803921569,\"rgb(236,76,61)\"],[0.6901960784313725,\"rgb(242,107,73)\"],[0.7529411764705882,\"rgb(244,135,95)\"],[0.8156862745098039,\"rgb(245,162,122)\"],[0.8784313725490196,\"rgb(246,188,153)\"],[0.9411764705882353,\"rgb(247,212,187)\"],[1.0,\"rgb(250,234,220)\"]]}],\"heatmap\":[{\"type\":\"heatmap\",\"colorbar\":{\"outlinewidth\":0,\"tickcolor\":\"rgb(36,36,36)\",\"ticklen\":8,\"ticks\":\"outside\",\"tickwidth\":2},\"colorscale\":[[0.0,\"rgb(2,4,25)\"],[0.06274509803921569,\"rgb(24,15,41)\"],[0.12549019607843137,\"rgb(47,23,57)\"],[0.18823529411764706,\"rgb(71,28,72)\"],[0.25098039215686274,\"rgb(97,30,82)\"],[0.3137254901960784,\"rgb(123,30,89)\"],[0.3764705882352941,\"rgb(150,27,91)\"],[0.4392156862745098,\"rgb(177,22,88)\"],[0.5019607843137255,\"rgb(203,26,79)\"],[0.5647058823529412,\"rgb(223,47,67)\"],[0.6274509803921569,\"rgb(236,76,61)\"],[0.6901960784313725,\"rgb(242,107,73)\"],[0.7529411764705882,\"rgb(244,135,95)\"],[0.8156862745098039,\"rgb(245,162,122)\"],[0.8784313725490196,\"rgb(246,188,153)\"],[0.9411764705882353,\"rgb(247,212,187)\"],[1.0,\"rgb(250,234,220)\"]]}],\"heatmapgl\":[{\"type\":\"heatmapgl\",\"colorbar\":{\"outlinewidth\":0,\"tickcolor\":\"rgb(36,36,36)\",\"ticklen\":8,\"ticks\":\"outside\",\"tickwidth\":2},\"colorscale\":[[0.0,\"rgb(2,4,25)\"],[0.06274509803921569,\"rgb(24,15,41)\"],[0.12549019607843137,\"rgb(47,23,57)\"],[0.18823529411764706,\"rgb(71,28,72)\"],[0.25098039215686274,\"rgb(97,30,82)\"],[0.3137254901960784,\"rgb(123,30,89)\"],[0.3764705882352941,\"rgb(150,27,91)\"],[0.4392156862745098,\"rgb(177,22,88)\"],[0.5019607843137255,\"rgb(203,26,79)\"],[0.5647058823529412,\"rgb(223,47,67)\"],[0.6274509803921569,\"rgb(236,76,61)\"],[0.6901960784313725,\"rgb(242,107,73)\"],[0.7529411764705882,\"rgb(244,135,95)\"],[0.8156862745098039,\"rgb(245,162,122)\"],[0.8784313725490196,\"rgb(246,188,153)\"],[0.9411764705882353,\"rgb(247,212,187)\"],[1.0,\"rgb(250,234,220)\"]]}],\"contourcarpet\":[{\"type\":\"contourcarpet\",\"colorbar\":{\"outlinewidth\":0,\"tickcolor\":\"rgb(36,36,36)\",\"ticklen\":8,\"ticks\":\"outside\",\"tickwidth\":2}}],\"contour\":[{\"type\":\"contour\",\"colorbar\":{\"outlinewidth\":0,\"tickcolor\":\"rgb(36,36,36)\",\"ticklen\":8,\"ticks\":\"outside\",\"tickwidth\":2},\"colorscale\":[[0.0,\"rgb(2,4,25)\"],[0.06274509803921569,\"rgb(24,15,41)\"],[0.12549019607843137,\"rgb(47,23,57)\"],[0.18823529411764706,\"rgb(71,28,72)\"],[0.25098039215686274,\"rgb(97,30,82)\"],[0.3137254901960784,\"rgb(123,30,89)\"],[0.3764705882352941,\"rgb(150,27,91)\"],[0.4392156862745098,\"rgb(177,22,88)\"],[0.5019607843137255,\"rgb(203,26,79)\"],[0.5647058823529412,\"rgb(223,47,67)\"],[0.6274509803921569,\"rgb(236,76,61)\"],[0.6901960784313725,\"rgb(242,107,73)\"],[0.7529411764705882,\"rgb(244,135,95)\"],[0.8156862745098039,\"rgb(245,162,122)\"],[0.8784313725490196,\"rgb(246,188,153)\"],[0.9411764705882353,\"rgb(247,212,187)\"],[1.0,\"rgb(250,234,220)\"]]}],\"surface\":[{\"type\":\"surface\",\"colorbar\":{\"outlinewidth\":0,\"tickcolor\":\"rgb(36,36,36)\",\"ticklen\":8,\"ticks\":\"outside\",\"tickwidth\":2},\"colorscale\":[[0.0,\"rgb(2,4,25)\"],[0.06274509803921569,\"rgb(24,15,41)\"],[0.12549019607843137,\"rgb(47,23,57)\"],[0.18823529411764706,\"rgb(71,28,72)\"],[0.25098039215686274,\"rgb(97,30,82)\"],[0.3137254901960784,\"rgb(123,30,89)\"],[0.3764705882352941,\"rgb(150,27,91)\"],[0.4392156862745098,\"rgb(177,22,88)\"],[0.5019607843137255,\"rgb(203,26,79)\"],[0.5647058823529412,\"rgb(223,47,67)\"],[0.6274509803921569,\"rgb(236,76,61)\"],[0.6901960784313725,\"rgb(242,107,73)\"],[0.7529411764705882,\"rgb(244,135,95)\"],[0.8156862745098039,\"rgb(245,162,122)\"],[0.8784313725490196,\"rgb(246,188,153)\"],[0.9411764705882353,\"rgb(247,212,187)\"],[1.0,\"rgb(250,234,220)\"]]}],\"mesh3d\":[{\"type\":\"mesh3d\",\"colorbar\":{\"outlinewidth\":0,\"tickcolor\":\"rgb(36,36,36)\",\"ticklen\":8,\"ticks\":\"outside\",\"tickwidth\":2}}],\"scatter\":[{\"fillpattern\":{\"fillmode\":\"overlay\",\"size\":10,\"solidity\":0.2},\"type\":\"scatter\"}],\"parcoords\":[{\"type\":\"parcoords\",\"line\":{\"colorbar\":{\"outlinewidth\":0,\"tickcolor\":\"rgb(36,36,36)\",\"ticklen\":8,\"ticks\":\"outside\",\"tickwidth\":2}}}],\"scatterpolargl\":[{\"type\":\"scatterpolargl\",\"marker\":{\"colorbar\":{\"outlinewidth\":0,\"tickcolor\":\"rgb(36,36,36)\",\"ticklen\":8,\"ticks\":\"outside\",\"tickwidth\":2}}}],\"bar\":[{\"error_x\":{\"color\":\"rgb(36,36,36)\"},\"error_y\":{\"color\":\"rgb(36,36,36)\"},\"marker\":{\"line\":{\"color\":\"rgb(234,234,242)\",\"width\":0.5},\"pattern\":{\"fillmode\":\"overlay\",\"size\":10,\"solidity\":0.2}},\"type\":\"bar\"}],\"scattergeo\":[{\"type\":\"scattergeo\",\"marker\":{\"colorbar\":{\"outlinewidth\":0,\"tickcolor\":\"rgb(36,36,36)\",\"ticklen\":8,\"ticks\":\"outside\",\"tickwidth\":2}}}],\"scatterpolar\":[{\"type\":\"scatterpolar\",\"marker\":{\"colorbar\":{\"outlinewidth\":0,\"tickcolor\":\"rgb(36,36,36)\",\"ticklen\":8,\"ticks\":\"outside\",\"tickwidth\":2}}}],\"histogram\":[{\"marker\":{\"pattern\":{\"fillmode\":\"overlay\",\"size\":10,\"solidity\":0.2}},\"type\":\"histogram\"}],\"scattergl\":[{\"type\":\"scattergl\",\"marker\":{\"colorbar\":{\"outlinewidth\":0,\"tickcolor\":\"rgb(36,36,36)\",\"ticklen\":8,\"ticks\":\"outside\",\"tickwidth\":2}}}],\"scatter3d\":[{\"type\":\"scatter3d\",\"line\":{\"colorbar\":{\"outlinewidth\":0,\"tickcolor\":\"rgb(36,36,36)\",\"ticklen\":8,\"ticks\":\"outside\",\"tickwidth\":2}},\"marker\":{\"colorbar\":{\"outlinewidth\":0,\"tickcolor\":\"rgb(36,36,36)\",\"ticklen\":8,\"ticks\":\"outside\",\"tickwidth\":2}}}],\"scattermapbox\":[{\"type\":\"scattermapbox\",\"marker\":{\"colorbar\":{\"outlinewidth\":0,\"tickcolor\":\"rgb(36,36,36)\",\"ticklen\":8,\"ticks\":\"outside\",\"tickwidth\":2}}}],\"scatterternary\":[{\"type\":\"scatterternary\",\"marker\":{\"colorbar\":{\"outlinewidth\":0,\"tickcolor\":\"rgb(36,36,36)\",\"ticklen\":8,\"ticks\":\"outside\",\"tickwidth\":2}}}],\"scattercarpet\":[{\"type\":\"scattercarpet\",\"marker\":{\"colorbar\":{\"outlinewidth\":0,\"tickcolor\":\"rgb(36,36,36)\",\"ticklen\":8,\"ticks\":\"outside\",\"tickwidth\":2}}}],\"carpet\":[{\"aaxis\":{\"endlinecolor\":\"rgb(36,36,36)\",\"gridcolor\":\"white\",\"linecolor\":\"white\",\"minorgridcolor\":\"white\",\"startlinecolor\":\"rgb(36,36,36)\"},\"baxis\":{\"endlinecolor\":\"rgb(36,36,36)\",\"gridcolor\":\"white\",\"linecolor\":\"white\",\"minorgridcolor\":\"white\",\"startlinecolor\":\"rgb(36,36,36)\"},\"type\":\"carpet\"}],\"table\":[{\"cells\":{\"fill\":{\"color\":\"rgb(231,231,240)\"},\"line\":{\"color\":\"white\"}},\"header\":{\"fill\":{\"color\":\"rgb(183,183,191)\"},\"line\":{\"color\":\"white\"}},\"type\":\"table\"}],\"barpolar\":[{\"marker\":{\"line\":{\"color\":\"rgb(234,234,242)\",\"width\":0.5},\"pattern\":{\"fillmode\":\"overlay\",\"size\":10,\"solidity\":0.2}},\"type\":\"barpolar\"}],\"pie\":[{\"automargin\":true,\"type\":\"pie\"}]},\"layout\":{\"autotypenumbers\":\"strict\",\"colorway\":[\"rgb(76,114,176)\",\"rgb(221,132,82)\",\"rgb(85,168,104)\",\"rgb(196,78,82)\",\"rgb(129,114,179)\",\"rgb(147,120,96)\",\"rgb(218,139,195)\",\"rgb(140,140,140)\",\"rgb(204,185,116)\",\"rgb(100,181,205)\"],\"font\":{\"color\":\"rgb(36,36,36)\"},\"hovermode\":\"closest\",\"hoverlabel\":{\"align\":\"left\"},\"paper_bgcolor\":\"white\",\"plot_bgcolor\":\"rgb(234,234,242)\",\"polar\":{\"bgcolor\":\"rgb(234,234,242)\",\"angularaxis\":{\"gridcolor\":\"white\",\"linecolor\":\"white\",\"showgrid\":true,\"ticks\":\"\"},\"radialaxis\":{\"gridcolor\":\"white\",\"linecolor\":\"white\",\"showgrid\":true,\"ticks\":\"\"}},\"ternary\":{\"bgcolor\":\"rgb(234,234,242)\",\"aaxis\":{\"gridcolor\":\"white\",\"linecolor\":\"white\",\"showgrid\":true,\"ticks\":\"\"},\"baxis\":{\"gridcolor\":\"white\",\"linecolor\":\"white\",\"showgrid\":true,\"ticks\":\"\"},\"caxis\":{\"gridcolor\":\"white\",\"linecolor\":\"white\",\"showgrid\":true,\"ticks\":\"\"}},\"coloraxis\":{\"colorbar\":{\"outlinewidth\":0,\"tickcolor\":\"rgb(36,36,36)\",\"ticklen\":8,\"ticks\":\"outside\",\"tickwidth\":2}},\"colorscale\":{\"sequential\":[[0.0,\"rgb(2,4,25)\"],[0.06274509803921569,\"rgb(24,15,41)\"],[0.12549019607843137,\"rgb(47,23,57)\"],[0.18823529411764706,\"rgb(71,28,72)\"],[0.25098039215686274,\"rgb(97,30,82)\"],[0.3137254901960784,\"rgb(123,30,89)\"],[0.3764705882352941,\"rgb(150,27,91)\"],[0.4392156862745098,\"rgb(177,22,88)\"],[0.5019607843137255,\"rgb(203,26,79)\"],[0.5647058823529412,\"rgb(223,47,67)\"],[0.6274509803921569,\"rgb(236,76,61)\"],[0.6901960784313725,\"rgb(242,107,73)\"],[0.7529411764705882,\"rgb(244,135,95)\"],[0.8156862745098039,\"rgb(245,162,122)\"],[0.8784313725490196,\"rgb(246,188,153)\"],[0.9411764705882353,\"rgb(247,212,187)\"],[1.0,\"rgb(250,234,220)\"]],\"sequentialminus\":[[0.0,\"rgb(2,4,25)\"],[0.06274509803921569,\"rgb(24,15,41)\"],[0.12549019607843137,\"rgb(47,23,57)\"],[0.18823529411764706,\"rgb(71,28,72)\"],[0.25098039215686274,\"rgb(97,30,82)\"],[0.3137254901960784,\"rgb(123,30,89)\"],[0.3764705882352941,\"rgb(150,27,91)\"],[0.4392156862745098,\"rgb(177,22,88)\"],[0.5019607843137255,\"rgb(203,26,79)\"],[0.5647058823529412,\"rgb(223,47,67)\"],[0.6274509803921569,\"rgb(236,76,61)\"],[0.6901960784313725,\"rgb(242,107,73)\"],[0.7529411764705882,\"rgb(244,135,95)\"],[0.8156862745098039,\"rgb(245,162,122)\"],[0.8784313725490196,\"rgb(246,188,153)\"],[0.9411764705882353,\"rgb(247,212,187)\"],[1.0,\"rgb(250,234,220)\"]]},\"xaxis\":{\"gridcolor\":\"white\",\"linecolor\":\"white\",\"showgrid\":true,\"ticks\":\"\",\"title\":{\"standoff\":15},\"zerolinecolor\":\"white\",\"automargin\":true},\"yaxis\":{\"gridcolor\":\"white\",\"linecolor\":\"white\",\"showgrid\":true,\"ticks\":\"\",\"title\":{\"standoff\":15},\"zerolinecolor\":\"white\",\"automargin\":true},\"scene\":{\"xaxis\":{\"backgroundcolor\":\"rgb(234,234,242)\",\"gridcolor\":\"white\",\"linecolor\":\"white\",\"showbackground\":true,\"showgrid\":true,\"ticks\":\"\",\"zerolinecolor\":\"white\",\"gridwidth\":2},\"yaxis\":{\"backgroundcolor\":\"rgb(234,234,242)\",\"gridcolor\":\"white\",\"linecolor\":\"white\",\"showbackground\":true,\"showgrid\":true,\"ticks\":\"\",\"zerolinecolor\":\"white\",\"gridwidth\":2},\"zaxis\":{\"backgroundcolor\":\"rgb(234,234,242)\",\"gridcolor\":\"white\",\"linecolor\":\"white\",\"showbackground\":true,\"showgrid\":true,\"ticks\":\"\",\"zerolinecolor\":\"white\",\"gridwidth\":2}},\"shapedefaults\":{\"fillcolor\":\"rgb(67,103,167)\",\"line\":{\"width\":0},\"opacity\":0.5},\"annotationdefaults\":{\"arrowcolor\":\"rgb(67,103,167)\"},\"geo\":{\"bgcolor\":\"white\",\"landcolor\":\"rgb(234,234,242)\",\"subunitcolor\":\"white\",\"showland\":true,\"showlakes\":true,\"lakecolor\":\"white\"}}},\"xaxis\":{\"anchor\":\"y\",\"domain\":[0.0,0.475]},\"yaxis\":{\"anchor\":\"x\",\"domain\":[0.55,1.0]},\"xaxis2\":{\"anchor\":\"y2\",\"domain\":[0.525,1.0]},\"yaxis2\":{\"anchor\":\"x2\",\"domain\":[0.55,1.0]},\"xaxis3\":{\"anchor\":\"y3\",\"domain\":[0.0,0.475]},\"yaxis3\":{\"anchor\":\"x3\",\"domain\":[0.0,0.45]},\"xaxis4\":{\"anchor\":\"y4\",\"domain\":[0.525,1.0]},\"yaxis4\":{\"anchor\":\"x4\",\"domain\":[0.0,0.45]},\"annotations\":[{\"font\":{\"size\":16},\"showarrow\":false,\"text\":\"\\\"\\u0414\\u0435\\u043d\\u044c\\\"\",\"x\":0.2375,\"xanchor\":\"center\",\"xref\":\"paper\",\"y\":1.0,\"yanchor\":\"bottom\",\"yref\":\"paper\"},{\"font\":{\"size\":16},\"showarrow\":false,\"text\":\"\\\"\\u041d\\u043e\\u0447\\u044c\\\"\",\"x\":0.7625,\"xanchor\":\"center\",\"xref\":\"paper\",\"y\":1.0,\"yanchor\":\"bottom\",\"yref\":\"paper\"}],\"height\":800},                        {\"responsive\": true}                    ).then(function(){\n",
       "                            \n",
       "var gd = document.getElementById('4d98b652-c582-4ae6-b4e7-32e2d3e827ab');\n",
       "var x = new MutationObserver(function (mutations, observer) {{\n",
       "        var display = window.getComputedStyle(gd).display;\n",
       "        if (!display || display === 'none') {{\n",
       "            console.log([gd, 'removed!']);\n",
       "            Plotly.purge(gd);\n",
       "            observer.disconnect();\n",
       "        }}\n",
       "}});\n",
       "\n",
       "// Listen for the removal of the full notebook cells\n",
       "var notebookContainer = gd.closest('#notebook-container');\n",
       "if (notebookContainer) {{\n",
       "    x.observe(notebookContainer, {childList: true});\n",
       "}}\n",
       "\n",
       "// Listen for the clearing of the current output cell\n",
       "var outputEl = gd.closest('.output');\n",
       "if (outputEl) {{\n",
       "    x.observe(outputEl, {childList: true});\n",
       "}}\n",
       "\n",
       "                        })                };                });            </script>        </div>"
      ]
     },
     "metadata": {},
     "output_type": "display_data"
    }
   ],
   "source": [
    "draw_distribution((day, night), ('\"День\"', '\"Ночь\"'))"
   ]
  },
  {
   "cell_type": "markdown",
   "metadata": {},
   "source": [
    "*Много выбросов, будем использовать непараметрический тест Манна-Уитни.*"
   ]
  },
  {
   "cell_type": "code",
   "execution_count": 82,
   "metadata": {},
   "outputs": [
    {
     "name": "stdout",
     "output_type": "stream",
     "text": [
      "p-значение: 0.7580129831918525\n",
      "Не получилось отвергнуть нулевую гипотезу\n"
     ]
    }
   ],
   "source": [
    "mannwhitneyu(day, night)"
   ]
  },
  {
   "cell_type": "markdown",
   "metadata": {},
   "source": [
    "*После проведения теста, можно оставить нулевую гипотезу, средний чек днем такой же, как и ночью.*"
   ]
  },
  {
   "cell_type": "markdown",
   "metadata": {},
   "source": [
    "### Средний чек в разные сезоны не отличается"
   ]
  },
  {
   "cell_type": "markdown",
   "metadata": {},
   "source": [
    "***Сформулируем нулевую гипотезу:*** *средний чек в разные сезоны не отличается.*  \n",
    "***Сформулируем алтернативную гипотезу:*** *средний чек в разные сезоны различается.*"
   ]
  },
  {
   "cell_type": "markdown",
   "metadata": {},
   "source": [
    "**Создадим три выборки winter, spring, summer:**"
   ]
  },
  {
   "cell_type": "code",
   "execution_count": 83,
   "metadata": {},
   "outputs": [],
   "source": [
    "winter_sample = df[df['month'].isin(['2018-12-01', '2019-02-01', '2019-03-01'])].groupby('order_id')['revenue'].sum().reset_index()['revenue']"
   ]
  },
  {
   "cell_type": "code",
   "execution_count": 84,
   "metadata": {},
   "outputs": [],
   "source": [
    "spring_sample = df[df['month'].isin(['2019-03-01', '2019-04-01', '2019-05-01'])].groupby('order_id')['revenue'].sum().reset_index()['revenue']"
   ]
  },
  {
   "cell_type": "code",
   "execution_count": 85,
   "metadata": {},
   "outputs": [],
   "source": [
    "summer_sample = df[df['month'].isin(['2018-06-01', '2019-07-01', '2019-08-01'])].groupby('order_id')['revenue'].sum().reset_index()['revenue']"
   ]
  },
  {
   "cell_type": "markdown",
   "metadata": {},
   "source": [
    "**Посмотрим на распределение по выборкам:**"
   ]
  },
  {
   "cell_type": "code",
   "execution_count": 86,
   "metadata": {},
   "outputs": [
    {
     "data": {
      "application/vnd.plotly.v1+json": {
       "config": {
        "plotlyServerURL": "https://plot.ly"
       },
       "data": [
        {
         "hoverinfo": "x",
         "showlegend": false,
         "type": "histogram",
         "x": [
          1127,
          434,
          893,
          314,
          787,
          864,
          1214,
          1677,
          300,
          90,
          405,
          783,
          540,
          300,
          135,
          360,
          832,
          1005,
          2395,
          300,
          270,
          1470,
          450,
          2788,
          1320,
          1471,
          812,
          428,
          114,
          488,
          413,
          1090,
          540,
          450,
          1504,
          802,
          405,
          955,
          580,
          993,
          2154,
          494,
          863,
          1481,
          470,
          1910,
          1415,
          405,
          1800,
          563,
          260,
          742,
          194,
          104,
          1738,
          88,
          1049,
          89,
          449,
          734,
          240,
          487,
          577,
          963,
          963,
          2187,
          1447,
          1373,
          937,
          937,
          187,
          810,
          299,
          1049,
          2827,
          3224,
          734,
          60,
          1649,
          299,
          689,
          749,
          712,
          749,
          749,
          194,
          4859,
          974,
          2024,
          1856,
          112,
          697,
          1049,
          112,
          5249,
          1049,
          2849,
          292,
          1912,
          6134,
          88,
          134,
          127,
          3329,
          1034,
          1461,
          134,
          329,
          1347,
          449,
          59,
          2549,
          712,
          1087,
          239,
          1162,
          1874,
          1049,
          264,
          509,
          149,
          1725,
          689,
          792,
          164,
          2324,
          402,
          149,
          584,
          479,
          1574,
          3299,
          704,
          1649,
          202,
          359,
          2699,
          1164,
          1799,
          5024,
          59,
          899,
          447,
          413,
          292,
          44,
          5662,
          177,
          239,
          134,
          449,
          118,
          2849,
          224,
          719,
          2174,
          656,
          328,
          974,
          52,
          637,
          749,
          157,
          674,
          134,
          1049,
          2024,
          1874,
          389,
          2999,
          1574,
          524,
          59,
          3298,
          449,
          2249,
          1049,
          734,
          1237,
          745,
          89,
          389,
          1724,
          449,
          704,
          418,
          209,
          66,
          148,
          624,
          651,
          7424,
          4124,
          637,
          412,
          898,
          52,
          149,
          1049,
          1049,
          442,
          637,
          1649,
          1049,
          568,
          442,
          2699,
          268,
          1649,
          448,
          134,
          708,
          88,
          374,
          3524,
          749,
          359,
          374,
          87,
          1049,
          367,
          539,
          712,
          745,
          1199,
          172,
          2361,
          2098,
          1874,
          1612,
          44,
          598,
          1049,
          516,
          787,
          2699,
          149,
          6270,
          74,
          824,
          1649,
          32718,
          3598,
          802,
          974,
          434,
          637,
          224,
          52,
          1215,
          584,
          1049,
          1049,
          2360,
          478,
          712,
          464,
          4139,
          1912,
          599,
          300,
          298,
          888,
          2249,
          149,
          44,
          134,
          2999,
          149,
          862,
          464,
          1649,
          344,
          1424,
          3148,
          416,
          375,
          1139,
          2924,
          1049,
          712,
          194,
          3247,
          112,
          149,
          1049,
          1049,
          907,
          974,
          2460,
          1912,
          1139,
          1574,
          1649,
          112,
          748,
          2624,
          1987,
          1049,
          450,
          1574,
          224,
          442,
          3329,
          299,
          254,
          1874,
          187,
          1799,
          298,
          471,
          1049,
          1499,
          637,
          1349,
          2174,
          749,
          2549,
          899,
          1612,
          149,
          1162,
          262,
          1049,
          202,
          239,
          584,
          134,
          6307,
          2999,
          899,
          59,
          157,
          464,
          209,
          635,
          5249,
          727,
          727,
          3974,
          134,
          44,
          300,
          599,
          149,
          202,
          16536,
          2699,
          299,
          1574,
          974,
          1799,
          22,
          6149,
          1275,
          937,
          802,
          82,
          67,
          1949,
          2697,
          286,
          104,
          134,
          899,
          667,
          1200,
          164,
          268,
          44,
          899,
          899,
          1649,
          1498,
          652,
          1424,
          208,
          569,
          727,
          59,
          11000,
          592,
          7480,
          187,
          1649,
          516,
          1124,
          1799,
          614,
          2999,
          88,
          134,
          3524,
          1139,
          1949,
          292,
          1522,
          2024,
          389,
          119,
          88,
          1716,
          240,
          940,
          652,
          592,
          1087,
          104,
          284,
          434,
          110,
          277,
          614,
          1162,
          209,
          1799,
          787,
          336,
          1799,
          389,
          134,
          232,
          1574,
          1087,
          66,
          374,
          164,
          134,
          44,
          1409,
          3329,
          134,
          299,
          3562,
          328,
          748,
          899,
          134,
          607,
          3667,
          157,
          179,
          59,
          3329,
          134,
          1874,
          2324,
          328,
          1087,
          440,
          3112,
          1736,
          378,
          299,
          2120,
          157,
          479,
          127,
          787,
          449,
          824,
          442,
          1994,
          194,
          149,
          67,
          464,
          134,
          727,
          1162,
          29,
          127,
          524,
          727,
          562,
          1124,
          2211,
          560,
          224,
          741,
          502,
          2699,
          2146,
          2550,
          1087,
          2849,
          492,
          88,
          1198,
          862,
          804,
          1568,
          1649,
          749,
          337,
          749,
          974,
          2849,
          149,
          680,
          899,
          3674,
          134,
          1649,
          449,
          314,
          134,
          374,
          727,
          1085,
          112,
          2699,
          487,
          209,
          299,
          157,
          1780,
          2774,
          120,
          820,
          674,
          134,
          1087,
          134,
          471,
          2099,
          194,
          157,
          157,
          239,
          487,
          87,
          487,
          119,
          1087,
          1724,
          974,
          974,
          134,
          637,
          1987,
          8437,
          3562,
          974,
          2399,
          112,
          134,
          3329,
          442,
          1649,
          134,
          1120,
          134,
          735,
          824,
          520,
          1898,
          164,
          59,
          1199,
          614,
          1350,
          742,
          742,
          149,
          717,
          389,
          674,
          464,
          900,
          974,
          187,
          104,
          430,
          58,
          2550,
          562,
          914,
          74,
          194,
          67,
          74,
          487,
          727,
          2041,
          2220,
          487,
          67,
          350,
          599,
          74,
          2024,
          727,
          5594,
          4900,
          560,
          1649,
          74,
          388,
          127,
          670,
          1154,
          1087,
          388,
          74,
          1288,
          307,
          127,
          1349,
          959,
          3525,
          599,
          134,
          1874,
          922,
          157,
          2924,
          134,
          734,
          2924,
          727,
          134,
          680,
          1087,
          487,
          225,
          194,
          74,
          629,
          1762,
          776,
          295,
          1949,
          119,
          292,
          1087,
          666,
          374,
          689,
          1199,
          603,
          898,
          555,
          764,
          74,
          2137,
          134,
          449,
          104,
          3719,
          1949,
          480,
          2249,
          614,
          134,
          412,
          225,
          5459,
          4117,
          3787,
          810,
          74,
          194,
          1012,
          413,
          1087,
          134,
          1376,
          1087,
          974,
          637,
          5249,
          727,
          727,
          1049,
          74,
          112,
          614,
          2549,
          974,
          148,
          3074,
          74,
          2399,
          344,
          149,
          1312,
          1199,
          1087,
          314,
          2549,
          614,
          209,
          314,
          52,
          1874,
          1649,
          209,
          779,
          509,
          397,
          2998,
          652,
          187,
          2915,
          52,
          157,
          1087,
          268,
          127,
          1574,
          157,
          1949,
          7679,
          187,
          1892,
          727,
          1049,
          1874,
          1124,
          222,
          104,
          2249,
          2699,
          1087,
          1574,
          449,
          508,
          134,
          1760,
          1199,
          157,
          67,
          59,
          749,
          194,
          444,
          742,
          3749,
          1087,
          299,
          5594,
          412,
          750,
          225,
          590,
          727,
          59,
          74,
          712,
          652,
          134,
          236,
          2399,
          59,
          2694,
          187,
          1574,
          974,
          2247,
          1649,
          974,
          3000,
          449,
          5098,
          552,
          592,
          1649,
          210,
          176,
          149,
          157,
          1180,
          104,
          74,
          622,
          3599,
          922,
          734,
          1056,
          104,
          898,
          1799,
          4049,
          1770,
          1056,
          508,
          254,
          1496,
          712,
          134,
          280,
          2624,
          74,
          74,
          824,
          104,
          134,
          134,
          3787,
          74,
          524,
          620,
          74,
          44,
          1770,
          59,
          3448,
          442,
          374,
          524,
          268,
          74,
          434
         ],
         "xaxis": "x",
         "yaxis": "y"
        },
        {
         "hoverinfo": "x",
         "name": "",
         "showlegend": false,
         "type": "box",
         "x": [
          1127,
          434,
          893,
          314,
          787,
          864,
          1214,
          1677,
          300,
          90,
          405,
          783,
          540,
          300,
          135,
          360,
          832,
          1005,
          2395,
          300,
          270,
          1470,
          450,
          2788,
          1320,
          1471,
          812,
          428,
          114,
          488,
          413,
          1090,
          540,
          450,
          1504,
          802,
          405,
          955,
          580,
          993,
          2154,
          494,
          863,
          1481,
          470,
          1910,
          1415,
          405,
          1800,
          563,
          260,
          742,
          194,
          104,
          1738,
          88,
          1049,
          89,
          449,
          734,
          240,
          487,
          577,
          963,
          963,
          2187,
          1447,
          1373,
          937,
          937,
          187,
          810,
          299,
          1049,
          2827,
          3224,
          734,
          60,
          1649,
          299,
          689,
          749,
          712,
          749,
          749,
          194,
          4859,
          974,
          2024,
          1856,
          112,
          697,
          1049,
          112,
          5249,
          1049,
          2849,
          292,
          1912,
          6134,
          88,
          134,
          127,
          3329,
          1034,
          1461,
          134,
          329,
          1347,
          449,
          59,
          2549,
          712,
          1087,
          239,
          1162,
          1874,
          1049,
          264,
          509,
          149,
          1725,
          689,
          792,
          164,
          2324,
          402,
          149,
          584,
          479,
          1574,
          3299,
          704,
          1649,
          202,
          359,
          2699,
          1164,
          1799,
          5024,
          59,
          899,
          447,
          413,
          292,
          44,
          5662,
          177,
          239,
          134,
          449,
          118,
          2849,
          224,
          719,
          2174,
          656,
          328,
          974,
          52,
          637,
          749,
          157,
          674,
          134,
          1049,
          2024,
          1874,
          389,
          2999,
          1574,
          524,
          59,
          3298,
          449,
          2249,
          1049,
          734,
          1237,
          745,
          89,
          389,
          1724,
          449,
          704,
          418,
          209,
          66,
          148,
          624,
          651,
          7424,
          4124,
          637,
          412,
          898,
          52,
          149,
          1049,
          1049,
          442,
          637,
          1649,
          1049,
          568,
          442,
          2699,
          268,
          1649,
          448,
          134,
          708,
          88,
          374,
          3524,
          749,
          359,
          374,
          87,
          1049,
          367,
          539,
          712,
          745,
          1199,
          172,
          2361,
          2098,
          1874,
          1612,
          44,
          598,
          1049,
          516,
          787,
          2699,
          149,
          6270,
          74,
          824,
          1649,
          32718,
          3598,
          802,
          974,
          434,
          637,
          224,
          52,
          1215,
          584,
          1049,
          1049,
          2360,
          478,
          712,
          464,
          4139,
          1912,
          599,
          300,
          298,
          888,
          2249,
          149,
          44,
          134,
          2999,
          149,
          862,
          464,
          1649,
          344,
          1424,
          3148,
          416,
          375,
          1139,
          2924,
          1049,
          712,
          194,
          3247,
          112,
          149,
          1049,
          1049,
          907,
          974,
          2460,
          1912,
          1139,
          1574,
          1649,
          112,
          748,
          2624,
          1987,
          1049,
          450,
          1574,
          224,
          442,
          3329,
          299,
          254,
          1874,
          187,
          1799,
          298,
          471,
          1049,
          1499,
          637,
          1349,
          2174,
          749,
          2549,
          899,
          1612,
          149,
          1162,
          262,
          1049,
          202,
          239,
          584,
          134,
          6307,
          2999,
          899,
          59,
          157,
          464,
          209,
          635,
          5249,
          727,
          727,
          3974,
          134,
          44,
          300,
          599,
          149,
          202,
          16536,
          2699,
          299,
          1574,
          974,
          1799,
          22,
          6149,
          1275,
          937,
          802,
          82,
          67,
          1949,
          2697,
          286,
          104,
          134,
          899,
          667,
          1200,
          164,
          268,
          44,
          899,
          899,
          1649,
          1498,
          652,
          1424,
          208,
          569,
          727,
          59,
          11000,
          592,
          7480,
          187,
          1649,
          516,
          1124,
          1799,
          614,
          2999,
          88,
          134,
          3524,
          1139,
          1949,
          292,
          1522,
          2024,
          389,
          119,
          88,
          1716,
          240,
          940,
          652,
          592,
          1087,
          104,
          284,
          434,
          110,
          277,
          614,
          1162,
          209,
          1799,
          787,
          336,
          1799,
          389,
          134,
          232,
          1574,
          1087,
          66,
          374,
          164,
          134,
          44,
          1409,
          3329,
          134,
          299,
          3562,
          328,
          748,
          899,
          134,
          607,
          3667,
          157,
          179,
          59,
          3329,
          134,
          1874,
          2324,
          328,
          1087,
          440,
          3112,
          1736,
          378,
          299,
          2120,
          157,
          479,
          127,
          787,
          449,
          824,
          442,
          1994,
          194,
          149,
          67,
          464,
          134,
          727,
          1162,
          29,
          127,
          524,
          727,
          562,
          1124,
          2211,
          560,
          224,
          741,
          502,
          2699,
          2146,
          2550,
          1087,
          2849,
          492,
          88,
          1198,
          862,
          804,
          1568,
          1649,
          749,
          337,
          749,
          974,
          2849,
          149,
          680,
          899,
          3674,
          134,
          1649,
          449,
          314,
          134,
          374,
          727,
          1085,
          112,
          2699,
          487,
          209,
          299,
          157,
          1780,
          2774,
          120,
          820,
          674,
          134,
          1087,
          134,
          471,
          2099,
          194,
          157,
          157,
          239,
          487,
          87,
          487,
          119,
          1087,
          1724,
          974,
          974,
          134,
          637,
          1987,
          8437,
          3562,
          974,
          2399,
          112,
          134,
          3329,
          442,
          1649,
          134,
          1120,
          134,
          735,
          824,
          520,
          1898,
          164,
          59,
          1199,
          614,
          1350,
          742,
          742,
          149,
          717,
          389,
          674,
          464,
          900,
          974,
          187,
          104,
          430,
          58,
          2550,
          562,
          914,
          74,
          194,
          67,
          74,
          487,
          727,
          2041,
          2220,
          487,
          67,
          350,
          599,
          74,
          2024,
          727,
          5594,
          4900,
          560,
          1649,
          74,
          388,
          127,
          670,
          1154,
          1087,
          388,
          74,
          1288,
          307,
          127,
          1349,
          959,
          3525,
          599,
          134,
          1874,
          922,
          157,
          2924,
          134,
          734,
          2924,
          727,
          134,
          680,
          1087,
          487,
          225,
          194,
          74,
          629,
          1762,
          776,
          295,
          1949,
          119,
          292,
          1087,
          666,
          374,
          689,
          1199,
          603,
          898,
          555,
          764,
          74,
          2137,
          134,
          449,
          104,
          3719,
          1949,
          480,
          2249,
          614,
          134,
          412,
          225,
          5459,
          4117,
          3787,
          810,
          74,
          194,
          1012,
          413,
          1087,
          134,
          1376,
          1087,
          974,
          637,
          5249,
          727,
          727,
          1049,
          74,
          112,
          614,
          2549,
          974,
          148,
          3074,
          74,
          2399,
          344,
          149,
          1312,
          1199,
          1087,
          314,
          2549,
          614,
          209,
          314,
          52,
          1874,
          1649,
          209,
          779,
          509,
          397,
          2998,
          652,
          187,
          2915,
          52,
          157,
          1087,
          268,
          127,
          1574,
          157,
          1949,
          7679,
          187,
          1892,
          727,
          1049,
          1874,
          1124,
          222,
          104,
          2249,
          2699,
          1087,
          1574,
          449,
          508,
          134,
          1760,
          1199,
          157,
          67,
          59,
          749,
          194,
          444,
          742,
          3749,
          1087,
          299,
          5594,
          412,
          750,
          225,
          590,
          727,
          59,
          74,
          712,
          652,
          134,
          236,
          2399,
          59,
          2694,
          187,
          1574,
          974,
          2247,
          1649,
          974,
          3000,
          449,
          5098,
          552,
          592,
          1649,
          210,
          176,
          149,
          157,
          1180,
          104,
          74,
          622,
          3599,
          922,
          734,
          1056,
          104,
          898,
          1799,
          4049,
          1770,
          1056,
          508,
          254,
          1496,
          712,
          134,
          280,
          2624,
          74,
          74,
          824,
          104,
          134,
          134,
          3787,
          74,
          524,
          620,
          74,
          44,
          1770,
          59,
          3448,
          442,
          374,
          524,
          268,
          74,
          434
         ],
         "xaxis": "x4",
         "yaxis": "y4"
        },
        {
         "hoverinfo": "x",
         "showlegend": false,
         "type": "histogram",
         "x": [
          1470,
          450,
          2788,
          1320,
          1471,
          812,
          428,
          114,
          488,
          413,
          1090,
          540,
          450,
          1504,
          802,
          405,
          955,
          580,
          993,
          2154,
          494,
          863,
          1481,
          470,
          1910,
          1415,
          405,
          1800,
          563,
          1215,
          1276,
          1140,
          2723,
          1759,
          843,
          1128,
          577,
          1916,
          852,
          164,
          1407,
          561,
          473,
          698,
          300,
          370,
          2254,
          405,
          1164,
          300,
          562,
          752,
          1216,
          150,
          593,
          2704,
          376,
          1696,
          434,
          771,
          1218,
          2166,
          384,
          2824,
          468,
          2850,
          4303,
          1276,
          2090,
          304,
          285,
          405,
          836,
          555,
          975,
          914,
          1483,
          1534,
          2280,
          608,
          540,
          900,
          1222,
          426,
          2050,
          209,
          2922,
          1012,
          4682,
          810,
          3776,
          1056,
          705,
          1588,
          4558,
          526,
          352,
          1470,
          786,
          1784,
          1071,
          10656,
          900,
          840,
          1067,
          2707,
          1434,
          1381,
          2068,
          830,
          1377,
          803,
          1187,
          1210,
          954,
          1035,
          2644,
          506,
          690,
          976,
          1786,
          3388,
          1612,
          690,
          532,
          1775,
          968,
          1077,
          1503,
          712,
          2090,
          924,
          507,
          405,
          1064,
          2421,
          1618,
          1292,
          2236,
          135,
          249,
          152,
          2778,
          270,
          942,
          964,
          915,
          360,
          480,
          1266,
          466,
          1350,
          808,
          818,
          1408,
          795,
          600,
          704,
          456,
          408,
          480,
          1974,
          684,
          1271,
          830,
          456,
          4187,
          1379,
          570,
          420,
          4139,
          590,
          239,
          430,
          388,
          127,
          670,
          1154,
          1087,
          388,
          74,
          1288,
          307,
          127,
          1349,
          959,
          3525,
          599,
          134,
          1874,
          922,
          157,
          2924,
          134,
          734,
          2924,
          727,
          134,
          680,
          1087,
          487,
          225,
          194,
          74,
          629,
          1762,
          776,
          295,
          1949,
          119,
          292,
          1087,
          666,
          374,
          689,
          1199,
          603,
          898,
          555,
          764,
          74,
          2137,
          134,
          449,
          104,
          3719,
          1949,
          480,
          2249,
          614,
          134,
          412,
          225,
          5459,
          4117,
          3787,
          810,
          74,
          194,
          1012,
          413,
          1087,
          134,
          1376,
          1087,
          974,
          637,
          5249,
          727,
          727,
          1049,
          74,
          112,
          614,
          2549,
          974,
          148,
          3074,
          74,
          2399,
          344,
          149,
          1312,
          1199,
          1087,
          314,
          2549,
          614,
          209,
          314,
          52,
          1874,
          1649,
          209,
          779,
          509,
          397,
          2998,
          652,
          187,
          2915,
          52,
          157,
          1087,
          268,
          127,
          1574,
          157,
          1949,
          7679,
          187,
          1892,
          727,
          1049,
          1874,
          1124,
          222,
          104,
          2249,
          2699,
          1087,
          1574,
          449,
          508,
          134,
          1760,
          1199,
          157,
          67,
          59,
          749,
          194,
          444,
          742,
          3749,
          1087,
          299,
          5594,
          412,
          750,
          225,
          590,
          727,
          59,
          74,
          712,
          652,
          134,
          236,
          2399,
          59,
          2694,
          187,
          1574,
          974,
          2247,
          1649,
          974,
          3000,
          449,
          5098,
          552,
          592,
          1649,
          210,
          176,
          149,
          157,
          1180,
          104,
          74,
          622,
          3599,
          922,
          734,
          1056,
          104,
          898,
          1799,
          4049,
          1770,
          1056,
          508,
          254,
          1496,
          712,
          134,
          280,
          2624,
          74,
          74,
          824,
          246,
          134,
          134,
          3787,
          74,
          524,
          620,
          74,
          44,
          1770,
          59,
          3448,
          442,
          374,
          524,
          268,
          74,
          434,
          1949,
          734,
          134,
          734,
          148,
          209,
          357,
          87,
          1167,
          600,
          1162,
          148,
          84,
          928,
          3776,
          5287,
          298,
          925,
          1762,
          52,
          352,
          405,
          1649,
          119,
          22,
          3329,
          988,
          547,
          2624,
          487,
          412,
          140,
          1177,
          5398,
          749,
          734,
          4574,
          974,
          600,
          134,
          2245,
          2249,
          742,
          749,
          6149,
          449,
          712,
          52,
          734,
          8737,
          74,
          164,
          134,
          1649,
          562,
          524,
          787,
          3224,
          1087,
          119,
          157,
          1649,
          3705,
          1087,
          134,
          74,
          6149,
          2999,
          134,
          734,
          280,
          134,
          268,
          1049,
          442,
          2234,
          3074,
          374,
          659,
          74,
          224,
          524,
          734,
          198,
          44,
          5249,
          1574,
          1049,
          1949,
          22,
          147,
          598,
          1462,
          899,
          37,
          674,
          402,
          300,
          177,
          59,
          1087,
          200,
          118,
          787,
          389,
          974,
          1012,
          1199,
          194,
          1649,
          59,
          397,
          236,
          269,
          87,
          1424,
          1424,
          718,
          869,
          200,
          370,
          22,
          599,
          899,
          374,
          2001,
          232,
          59,
          524,
          148,
          1312,
          1312,
          11460,
          14196,
          15680,
          564,
          7229,
          187,
          74,
          337,
          119,
          119,
          232,
          2774,
          58,
          74,
          1274,
          569,
          8077,
          134,
          412,
          569,
          569,
          74,
          312,
          28,
          688,
          22,
          22,
          464,
          412,
          2624,
          2699,
          134,
          475,
          179,
          239,
          2699,
          97,
          231,
          1499,
          787,
          4470,
          592,
          134,
          97,
          374,
          156,
          896,
          472,
          472,
          217,
          217,
          217,
          127,
          637,
          1087,
          1087,
          254,
          1200,
          142,
          22,
          1920,
          134,
          37,
          1574,
          134,
          157,
          224,
          224,
          295,
          74,
          487,
          120,
          1122,
          208,
          356,
          97,
          3674,
          520,
          262,
          1574,
          1874,
          389,
          2999,
          2999,
          1012,
          2774,
          134,
          502,
          164,
          359,
          937,
          88,
          898,
          899,
          208,
          4874,
          599,
          734,
          1087,
          2848,
          1087,
          1499,
          1724,
          509,
          672,
          509,
          284,
          599,
          299,
          1076,
          3898,
          6097,
          232,
          74,
          44,
          200,
          568,
          6097,
          284,
          734,
          434,
          1642,
          299,
          157,
          449,
          314,
          749,
          134,
          15300,
          1087,
          74,
          112,
          652,
          1574,
          1920,
          74,
          209,
          3562,
          1649,
          337,
          899,
          3925,
          284,
          1087,
          1530,
          157,
          974,
          734,
          6449,
          344,
          1499,
          1498,
          3787,
          464,
          22,
          397,
          134,
          4312,
          1920,
          38,
          149,
          164,
          38,
          217,
          1912,
          2926,
          2230,
          217,
          448
         ],
         "xaxis": "x2",
         "yaxis": "y2"
        },
        {
         "hoverinfo": "x",
         "name": "",
         "showlegend": false,
         "type": "box",
         "x": [
          1470,
          450,
          2788,
          1320,
          1471,
          812,
          428,
          114,
          488,
          413,
          1090,
          540,
          450,
          1504,
          802,
          405,
          955,
          580,
          993,
          2154,
          494,
          863,
          1481,
          470,
          1910,
          1415,
          405,
          1800,
          563,
          1215,
          1276,
          1140,
          2723,
          1759,
          843,
          1128,
          577,
          1916,
          852,
          164,
          1407,
          561,
          473,
          698,
          300,
          370,
          2254,
          405,
          1164,
          300,
          562,
          752,
          1216,
          150,
          593,
          2704,
          376,
          1696,
          434,
          771,
          1218,
          2166,
          384,
          2824,
          468,
          2850,
          4303,
          1276,
          2090,
          304,
          285,
          405,
          836,
          555,
          975,
          914,
          1483,
          1534,
          2280,
          608,
          540,
          900,
          1222,
          426,
          2050,
          209,
          2922,
          1012,
          4682,
          810,
          3776,
          1056,
          705,
          1588,
          4558,
          526,
          352,
          1470,
          786,
          1784,
          1071,
          10656,
          900,
          840,
          1067,
          2707,
          1434,
          1381,
          2068,
          830,
          1377,
          803,
          1187,
          1210,
          954,
          1035,
          2644,
          506,
          690,
          976,
          1786,
          3388,
          1612,
          690,
          532,
          1775,
          968,
          1077,
          1503,
          712,
          2090,
          924,
          507,
          405,
          1064,
          2421,
          1618,
          1292,
          2236,
          135,
          249,
          152,
          2778,
          270,
          942,
          964,
          915,
          360,
          480,
          1266,
          466,
          1350,
          808,
          818,
          1408,
          795,
          600,
          704,
          456,
          408,
          480,
          1974,
          684,
          1271,
          830,
          456,
          4187,
          1379,
          570,
          420,
          4139,
          590,
          239,
          430,
          388,
          127,
          670,
          1154,
          1087,
          388,
          74,
          1288,
          307,
          127,
          1349,
          959,
          3525,
          599,
          134,
          1874,
          922,
          157,
          2924,
          134,
          734,
          2924,
          727,
          134,
          680,
          1087,
          487,
          225,
          194,
          74,
          629,
          1762,
          776,
          295,
          1949,
          119,
          292,
          1087,
          666,
          374,
          689,
          1199,
          603,
          898,
          555,
          764,
          74,
          2137,
          134,
          449,
          104,
          3719,
          1949,
          480,
          2249,
          614,
          134,
          412,
          225,
          5459,
          4117,
          3787,
          810,
          74,
          194,
          1012,
          413,
          1087,
          134,
          1376,
          1087,
          974,
          637,
          5249,
          727,
          727,
          1049,
          74,
          112,
          614,
          2549,
          974,
          148,
          3074,
          74,
          2399,
          344,
          149,
          1312,
          1199,
          1087,
          314,
          2549,
          614,
          209,
          314,
          52,
          1874,
          1649,
          209,
          779,
          509,
          397,
          2998,
          652,
          187,
          2915,
          52,
          157,
          1087,
          268,
          127,
          1574,
          157,
          1949,
          7679,
          187,
          1892,
          727,
          1049,
          1874,
          1124,
          222,
          104,
          2249,
          2699,
          1087,
          1574,
          449,
          508,
          134,
          1760,
          1199,
          157,
          67,
          59,
          749,
          194,
          444,
          742,
          3749,
          1087,
          299,
          5594,
          412,
          750,
          225,
          590,
          727,
          59,
          74,
          712,
          652,
          134,
          236,
          2399,
          59,
          2694,
          187,
          1574,
          974,
          2247,
          1649,
          974,
          3000,
          449,
          5098,
          552,
          592,
          1649,
          210,
          176,
          149,
          157,
          1180,
          104,
          74,
          622,
          3599,
          922,
          734,
          1056,
          104,
          898,
          1799,
          4049,
          1770,
          1056,
          508,
          254,
          1496,
          712,
          134,
          280,
          2624,
          74,
          74,
          824,
          246,
          134,
          134,
          3787,
          74,
          524,
          620,
          74,
          44,
          1770,
          59,
          3448,
          442,
          374,
          524,
          268,
          74,
          434,
          1949,
          734,
          134,
          734,
          148,
          209,
          357,
          87,
          1167,
          600,
          1162,
          148,
          84,
          928,
          3776,
          5287,
          298,
          925,
          1762,
          52,
          352,
          405,
          1649,
          119,
          22,
          3329,
          988,
          547,
          2624,
          487,
          412,
          140,
          1177,
          5398,
          749,
          734,
          4574,
          974,
          600,
          134,
          2245,
          2249,
          742,
          749,
          6149,
          449,
          712,
          52,
          734,
          8737,
          74,
          164,
          134,
          1649,
          562,
          524,
          787,
          3224,
          1087,
          119,
          157,
          1649,
          3705,
          1087,
          134,
          74,
          6149,
          2999,
          134,
          734,
          280,
          134,
          268,
          1049,
          442,
          2234,
          3074,
          374,
          659,
          74,
          224,
          524,
          734,
          198,
          44,
          5249,
          1574,
          1049,
          1949,
          22,
          147,
          598,
          1462,
          899,
          37,
          674,
          402,
          300,
          177,
          59,
          1087,
          200,
          118,
          787,
          389,
          974,
          1012,
          1199,
          194,
          1649,
          59,
          397,
          236,
          269,
          87,
          1424,
          1424,
          718,
          869,
          200,
          370,
          22,
          599,
          899,
          374,
          2001,
          232,
          59,
          524,
          148,
          1312,
          1312,
          11460,
          14196,
          15680,
          564,
          7229,
          187,
          74,
          337,
          119,
          119,
          232,
          2774,
          58,
          74,
          1274,
          569,
          8077,
          134,
          412,
          569,
          569,
          74,
          312,
          28,
          688,
          22,
          22,
          464,
          412,
          2624,
          2699,
          134,
          475,
          179,
          239,
          2699,
          97,
          231,
          1499,
          787,
          4470,
          592,
          134,
          97,
          374,
          156,
          896,
          472,
          472,
          217,
          217,
          217,
          127,
          637,
          1087,
          1087,
          254,
          1200,
          142,
          22,
          1920,
          134,
          37,
          1574,
          134,
          157,
          224,
          224,
          295,
          74,
          487,
          120,
          1122,
          208,
          356,
          97,
          3674,
          520,
          262,
          1574,
          1874,
          389,
          2999,
          2999,
          1012,
          2774,
          134,
          502,
          164,
          359,
          937,
          88,
          898,
          899,
          208,
          4874,
          599,
          734,
          1087,
          2848,
          1087,
          1499,
          1724,
          509,
          672,
          509,
          284,
          599,
          299,
          1076,
          3898,
          6097,
          232,
          74,
          44,
          200,
          568,
          6097,
          284,
          734,
          434,
          1642,
          299,
          157,
          449,
          314,
          749,
          134,
          15300,
          1087,
          74,
          112,
          652,
          1574,
          1920,
          74,
          209,
          3562,
          1649,
          337,
          899,
          3925,
          284,
          1087,
          1530,
          157,
          974,
          734,
          6449,
          344,
          1499,
          1498,
          3787,
          464,
          22,
          397,
          134,
          4312,
          1920,
          38,
          149,
          164,
          38,
          217,
          1912,
          2926,
          2230,
          217,
          448
         ],
         "xaxis": "x5",
         "yaxis": "y5"
        },
        {
         "hoverinfo": "x",
         "showlegend": false,
         "type": "histogram",
         "x": [
          1018,
          1225,
          2928,
          420,
          584,
          376,
          285,
          488,
          1432,
          848,
          2528,
          209,
          1457,
          742,
          190,
          726,
          2460,
          1128,
          188,
          135,
          676,
          600,
          840,
          510,
          929,
          420,
          2658,
          544,
          728,
          564,
          345,
          675,
          488,
          299,
          2324,
          1087,
          734,
          402,
          1087,
          449,
          427,
          5939,
          614,
          149,
          1424,
          254,
          147,
          560,
          600,
          2527,
          787,
          749,
          599,
          596,
          134,
          404,
          134,
          88,
          697,
          3899,
          179,
          3147,
          74,
          1949,
          427,
          502,
          74,
          2527,
          449,
          4494,
          329,
          157,
          488,
          412,
          134,
          164,
          397,
          599,
          295,
          52,
          277,
          328,
          464,
          2699,
          674,
          277,
          239,
          717,
          194,
          134,
          2249,
          592,
          1349,
          413,
          104,
          59,
          2174,
          7870,
          1087,
          500,
          1424,
          2924,
          1424,
          1798,
          749,
          254,
          3787,
          157,
          44,
          734,
          552,
          59,
          187,
          950,
          697,
          1762,
          134,
          652,
          134,
          118,
          569,
          4390,
          247,
          1649,
          66,
          119,
          1874,
          1087,
          6148,
          194,
          899,
          389,
          1649,
          749,
          598,
          3375,
          3674,
          3748,
          3449,
          149,
          449,
          352,
          2527,
          74,
          268,
          427,
          2249,
          2699,
          614,
          674,
          1199,
          577,
          1612,
          412,
          59,
          935,
          2025,
          375,
          2136,
          434,
          749,
          830,
          3749,
          220,
          1034,
          674,
          127,
          74,
          58,
          1424,
          1649,
          464,
          1649,
          592,
          554,
          2699,
          1087,
          599,
          749,
          562,
          638,
          134,
          1087,
          734,
          674,
          1800,
          118,
          242,
          198,
          220,
          1101,
          89,
          1447,
          52,
          42,
          1274,
          1162,
          14917,
          7679,
          150,
          150,
          1124,
          149,
          449,
          404,
          7199,
          1648,
          974,
          8810,
          614,
          899,
          74,
          247,
          2527,
          44,
          97,
          82,
          337,
          745,
          22,
          150,
          4574,
          599,
          254,
          1087,
          97,
          1087,
          2025,
          402,
          592,
          1177,
          2774,
          134,
          442,
          1499,
          97,
          734,
          2699,
          134,
          224,
          74,
          1162,
          1612,
          524,
          1204,
          134,
          1199,
          1162,
          74,
          299,
          440,
          268,
          1125,
          1874,
          1108,
          1124,
          509,
          1050,
          300,
          127,
          116,
          134,
          1087,
          582,
          208,
          116,
          787,
          525,
          674,
          2549,
          404,
          975,
          110,
          134,
          449,
          3674,
          524,
          2699,
          674,
          577,
          3562,
          838,
          449,
          5399,
          564,
          2399,
          1574,
          472,
          635,
          370,
          1649,
          172,
          1649,
          134,
          750,
          284,
          734,
          195,
          3449,
          3449,
          2549,
          674,
          614,
          134,
          525,
          194,
          74,
          562,
          375,
          4495,
          74,
          1087,
          104,
          899,
          487,
          450,
          1349,
          1349,
          188,
          1642,
          1124,
          546,
          202,
          450,
          157,
          450,
          111,
          7349,
          59,
          82,
          45,
          6449,
          450,
          614,
          569,
          1087,
          749,
          1087,
          1087,
          374,
          1837,
          299,
          1368,
          412,
          150,
          1912,
          1900,
          389,
          831,
          1124,
          164,
          712,
          134,
          525,
          1087,
          262,
          968,
          4574,
          3524,
          1087,
          1649,
          402,
          1649,
          74,
          145,
          1050,
          389,
          1856,
          2699,
          1649,
          599,
          412
         ],
         "xaxis": "x3",
         "yaxis": "y3"
        },
        {
         "hoverinfo": "x",
         "name": "",
         "showlegend": false,
         "type": "box",
         "x": [
          1018,
          1225,
          2928,
          420,
          584,
          376,
          285,
          488,
          1432,
          848,
          2528,
          209,
          1457,
          742,
          190,
          726,
          2460,
          1128,
          188,
          135,
          676,
          600,
          840,
          510,
          929,
          420,
          2658,
          544,
          728,
          564,
          345,
          675,
          488,
          299,
          2324,
          1087,
          734,
          402,
          1087,
          449,
          427,
          5939,
          614,
          149,
          1424,
          254,
          147,
          560,
          600,
          2527,
          787,
          749,
          599,
          596,
          134,
          404,
          134,
          88,
          697,
          3899,
          179,
          3147,
          74,
          1949,
          427,
          502,
          74,
          2527,
          449,
          4494,
          329,
          157,
          488,
          412,
          134,
          164,
          397,
          599,
          295,
          52,
          277,
          328,
          464,
          2699,
          674,
          277,
          239,
          717,
          194,
          134,
          2249,
          592,
          1349,
          413,
          104,
          59,
          2174,
          7870,
          1087,
          500,
          1424,
          2924,
          1424,
          1798,
          749,
          254,
          3787,
          157,
          44,
          734,
          552,
          59,
          187,
          950,
          697,
          1762,
          134,
          652,
          134,
          118,
          569,
          4390,
          247,
          1649,
          66,
          119,
          1874,
          1087,
          6148,
          194,
          899,
          389,
          1649,
          749,
          598,
          3375,
          3674,
          3748,
          3449,
          149,
          449,
          352,
          2527,
          74,
          268,
          427,
          2249,
          2699,
          614,
          674,
          1199,
          577,
          1612,
          412,
          59,
          935,
          2025,
          375,
          2136,
          434,
          749,
          830,
          3749,
          220,
          1034,
          674,
          127,
          74,
          58,
          1424,
          1649,
          464,
          1649,
          592,
          554,
          2699,
          1087,
          599,
          749,
          562,
          638,
          134,
          1087,
          734,
          674,
          1800,
          118,
          242,
          198,
          220,
          1101,
          89,
          1447,
          52,
          42,
          1274,
          1162,
          14917,
          7679,
          150,
          150,
          1124,
          149,
          449,
          404,
          7199,
          1648,
          974,
          8810,
          614,
          899,
          74,
          247,
          2527,
          44,
          97,
          82,
          337,
          745,
          22,
          150,
          4574,
          599,
          254,
          1087,
          97,
          1087,
          2025,
          402,
          592,
          1177,
          2774,
          134,
          442,
          1499,
          97,
          734,
          2699,
          134,
          224,
          74,
          1162,
          1612,
          524,
          1204,
          134,
          1199,
          1162,
          74,
          299,
          440,
          268,
          1125,
          1874,
          1108,
          1124,
          509,
          1050,
          300,
          127,
          116,
          134,
          1087,
          582,
          208,
          116,
          787,
          525,
          674,
          2549,
          404,
          975,
          110,
          134,
          449,
          3674,
          524,
          2699,
          674,
          577,
          3562,
          838,
          449,
          5399,
          564,
          2399,
          1574,
          472,
          635,
          370,
          1649,
          172,
          1649,
          134,
          750,
          284,
          734,
          195,
          3449,
          3449,
          2549,
          674,
          614,
          134,
          525,
          194,
          74,
          562,
          375,
          4495,
          74,
          1087,
          104,
          899,
          487,
          450,
          1349,
          1349,
          188,
          1642,
          1124,
          546,
          202,
          450,
          157,
          450,
          111,
          7349,
          59,
          82,
          45,
          6449,
          450,
          614,
          569,
          1087,
          749,
          1087,
          1087,
          374,
          1837,
          299,
          1368,
          412,
          150,
          1912,
          1900,
          389,
          831,
          1124,
          164,
          712,
          134,
          525,
          1087,
          262,
          968,
          4574,
          3524,
          1087,
          1649,
          402,
          1649,
          74,
          145,
          1050,
          389,
          1856,
          2699,
          1649,
          599,
          412
         ],
         "xaxis": "x6",
         "yaxis": "y6"
        }
       ],
       "layout": {
        "annotations": [
         {
          "font": {
           "size": 16
          },
          "showarrow": false,
          "text": "\"Зима\"",
          "x": 0.15,
          "xanchor": "center",
          "xref": "paper",
          "y": 1,
          "yanchor": "bottom",
          "yref": "paper"
         },
         {
          "font": {
           "size": 16
          },
          "showarrow": false,
          "text": "\"Весна\"",
          "x": 0.49999999999999994,
          "xanchor": "center",
          "xref": "paper",
          "y": 1,
          "yanchor": "bottom",
          "yref": "paper"
         },
         {
          "font": {
           "size": 16
          },
          "showarrow": false,
          "text": "\"Лето\"",
          "x": 0.85,
          "xanchor": "center",
          "xref": "paper",
          "y": 1,
          "yanchor": "bottom",
          "yref": "paper"
         }
        ],
        "height": 800,
        "template": {
         "data": {
          "bar": [
           {
            "error_x": {
             "color": "rgb(36,36,36)"
            },
            "error_y": {
             "color": "rgb(36,36,36)"
            },
            "marker": {
             "line": {
              "color": "rgb(234,234,242)",
              "width": 0.5
             },
             "pattern": {
              "fillmode": "overlay",
              "size": 10,
              "solidity": 0.2
             }
            },
            "type": "bar"
           }
          ],
          "barpolar": [
           {
            "marker": {
             "line": {
              "color": "rgb(234,234,242)",
              "width": 0.5
             },
             "pattern": {
              "fillmode": "overlay",
              "size": 10,
              "solidity": 0.2
             }
            },
            "type": "barpolar"
           }
          ],
          "carpet": [
           {
            "aaxis": {
             "endlinecolor": "rgb(36,36,36)",
             "gridcolor": "white",
             "linecolor": "white",
             "minorgridcolor": "white",
             "startlinecolor": "rgb(36,36,36)"
            },
            "baxis": {
             "endlinecolor": "rgb(36,36,36)",
             "gridcolor": "white",
             "linecolor": "white",
             "minorgridcolor": "white",
             "startlinecolor": "rgb(36,36,36)"
            },
            "type": "carpet"
           }
          ],
          "choropleth": [
           {
            "colorbar": {
             "outlinewidth": 0,
             "tickcolor": "rgb(36,36,36)",
             "ticklen": 8,
             "ticks": "outside",
             "tickwidth": 2
            },
            "type": "choropleth"
           }
          ],
          "contour": [
           {
            "colorbar": {
             "outlinewidth": 0,
             "tickcolor": "rgb(36,36,36)",
             "ticklen": 8,
             "ticks": "outside",
             "tickwidth": 2
            },
            "colorscale": [
             [
              0,
              "rgb(2,4,25)"
             ],
             [
              0.06274509803921569,
              "rgb(24,15,41)"
             ],
             [
              0.12549019607843137,
              "rgb(47,23,57)"
             ],
             [
              0.18823529411764706,
              "rgb(71,28,72)"
             ],
             [
              0.25098039215686274,
              "rgb(97,30,82)"
             ],
             [
              0.3137254901960784,
              "rgb(123,30,89)"
             ],
             [
              0.3764705882352941,
              "rgb(150,27,91)"
             ],
             [
              0.4392156862745098,
              "rgb(177,22,88)"
             ],
             [
              0.5019607843137255,
              "rgb(203,26,79)"
             ],
             [
              0.5647058823529412,
              "rgb(223,47,67)"
             ],
             [
              0.6274509803921569,
              "rgb(236,76,61)"
             ],
             [
              0.6901960784313725,
              "rgb(242,107,73)"
             ],
             [
              0.7529411764705882,
              "rgb(244,135,95)"
             ],
             [
              0.8156862745098039,
              "rgb(245,162,122)"
             ],
             [
              0.8784313725490196,
              "rgb(246,188,153)"
             ],
             [
              0.9411764705882353,
              "rgb(247,212,187)"
             ],
             [
              1,
              "rgb(250,234,220)"
             ]
            ],
            "type": "contour"
           }
          ],
          "contourcarpet": [
           {
            "colorbar": {
             "outlinewidth": 0,
             "tickcolor": "rgb(36,36,36)",
             "ticklen": 8,
             "ticks": "outside",
             "tickwidth": 2
            },
            "type": "contourcarpet"
           }
          ],
          "heatmap": [
           {
            "colorbar": {
             "outlinewidth": 0,
             "tickcolor": "rgb(36,36,36)",
             "ticklen": 8,
             "ticks": "outside",
             "tickwidth": 2
            },
            "colorscale": [
             [
              0,
              "rgb(2,4,25)"
             ],
             [
              0.06274509803921569,
              "rgb(24,15,41)"
             ],
             [
              0.12549019607843137,
              "rgb(47,23,57)"
             ],
             [
              0.18823529411764706,
              "rgb(71,28,72)"
             ],
             [
              0.25098039215686274,
              "rgb(97,30,82)"
             ],
             [
              0.3137254901960784,
              "rgb(123,30,89)"
             ],
             [
              0.3764705882352941,
              "rgb(150,27,91)"
             ],
             [
              0.4392156862745098,
              "rgb(177,22,88)"
             ],
             [
              0.5019607843137255,
              "rgb(203,26,79)"
             ],
             [
              0.5647058823529412,
              "rgb(223,47,67)"
             ],
             [
              0.6274509803921569,
              "rgb(236,76,61)"
             ],
             [
              0.6901960784313725,
              "rgb(242,107,73)"
             ],
             [
              0.7529411764705882,
              "rgb(244,135,95)"
             ],
             [
              0.8156862745098039,
              "rgb(245,162,122)"
             ],
             [
              0.8784313725490196,
              "rgb(246,188,153)"
             ],
             [
              0.9411764705882353,
              "rgb(247,212,187)"
             ],
             [
              1,
              "rgb(250,234,220)"
             ]
            ],
            "type": "heatmap"
           }
          ],
          "heatmapgl": [
           {
            "colorbar": {
             "outlinewidth": 0,
             "tickcolor": "rgb(36,36,36)",
             "ticklen": 8,
             "ticks": "outside",
             "tickwidth": 2
            },
            "colorscale": [
             [
              0,
              "rgb(2,4,25)"
             ],
             [
              0.06274509803921569,
              "rgb(24,15,41)"
             ],
             [
              0.12549019607843137,
              "rgb(47,23,57)"
             ],
             [
              0.18823529411764706,
              "rgb(71,28,72)"
             ],
             [
              0.25098039215686274,
              "rgb(97,30,82)"
             ],
             [
              0.3137254901960784,
              "rgb(123,30,89)"
             ],
             [
              0.3764705882352941,
              "rgb(150,27,91)"
             ],
             [
              0.4392156862745098,
              "rgb(177,22,88)"
             ],
             [
              0.5019607843137255,
              "rgb(203,26,79)"
             ],
             [
              0.5647058823529412,
              "rgb(223,47,67)"
             ],
             [
              0.6274509803921569,
              "rgb(236,76,61)"
             ],
             [
              0.6901960784313725,
              "rgb(242,107,73)"
             ],
             [
              0.7529411764705882,
              "rgb(244,135,95)"
             ],
             [
              0.8156862745098039,
              "rgb(245,162,122)"
             ],
             [
              0.8784313725490196,
              "rgb(246,188,153)"
             ],
             [
              0.9411764705882353,
              "rgb(247,212,187)"
             ],
             [
              1,
              "rgb(250,234,220)"
             ]
            ],
            "type": "heatmapgl"
           }
          ],
          "histogram": [
           {
            "marker": {
             "pattern": {
              "fillmode": "overlay",
              "size": 10,
              "solidity": 0.2
             }
            },
            "type": "histogram"
           }
          ],
          "histogram2d": [
           {
            "colorbar": {
             "outlinewidth": 0,
             "tickcolor": "rgb(36,36,36)",
             "ticklen": 8,
             "ticks": "outside",
             "tickwidth": 2
            },
            "colorscale": [
             [
              0,
              "rgb(2,4,25)"
             ],
             [
              0.06274509803921569,
              "rgb(24,15,41)"
             ],
             [
              0.12549019607843137,
              "rgb(47,23,57)"
             ],
             [
              0.18823529411764706,
              "rgb(71,28,72)"
             ],
             [
              0.25098039215686274,
              "rgb(97,30,82)"
             ],
             [
              0.3137254901960784,
              "rgb(123,30,89)"
             ],
             [
              0.3764705882352941,
              "rgb(150,27,91)"
             ],
             [
              0.4392156862745098,
              "rgb(177,22,88)"
             ],
             [
              0.5019607843137255,
              "rgb(203,26,79)"
             ],
             [
              0.5647058823529412,
              "rgb(223,47,67)"
             ],
             [
              0.6274509803921569,
              "rgb(236,76,61)"
             ],
             [
              0.6901960784313725,
              "rgb(242,107,73)"
             ],
             [
              0.7529411764705882,
              "rgb(244,135,95)"
             ],
             [
              0.8156862745098039,
              "rgb(245,162,122)"
             ],
             [
              0.8784313725490196,
              "rgb(246,188,153)"
             ],
             [
              0.9411764705882353,
              "rgb(247,212,187)"
             ],
             [
              1,
              "rgb(250,234,220)"
             ]
            ],
            "type": "histogram2d"
           }
          ],
          "histogram2dcontour": [
           {
            "colorbar": {
             "outlinewidth": 0,
             "tickcolor": "rgb(36,36,36)",
             "ticklen": 8,
             "ticks": "outside",
             "tickwidth": 2
            },
            "colorscale": [
             [
              0,
              "rgb(2,4,25)"
             ],
             [
              0.06274509803921569,
              "rgb(24,15,41)"
             ],
             [
              0.12549019607843137,
              "rgb(47,23,57)"
             ],
             [
              0.18823529411764706,
              "rgb(71,28,72)"
             ],
             [
              0.25098039215686274,
              "rgb(97,30,82)"
             ],
             [
              0.3137254901960784,
              "rgb(123,30,89)"
             ],
             [
              0.3764705882352941,
              "rgb(150,27,91)"
             ],
             [
              0.4392156862745098,
              "rgb(177,22,88)"
             ],
             [
              0.5019607843137255,
              "rgb(203,26,79)"
             ],
             [
              0.5647058823529412,
              "rgb(223,47,67)"
             ],
             [
              0.6274509803921569,
              "rgb(236,76,61)"
             ],
             [
              0.6901960784313725,
              "rgb(242,107,73)"
             ],
             [
              0.7529411764705882,
              "rgb(244,135,95)"
             ],
             [
              0.8156862745098039,
              "rgb(245,162,122)"
             ],
             [
              0.8784313725490196,
              "rgb(246,188,153)"
             ],
             [
              0.9411764705882353,
              "rgb(247,212,187)"
             ],
             [
              1,
              "rgb(250,234,220)"
             ]
            ],
            "type": "histogram2dcontour"
           }
          ],
          "mesh3d": [
           {
            "colorbar": {
             "outlinewidth": 0,
             "tickcolor": "rgb(36,36,36)",
             "ticklen": 8,
             "ticks": "outside",
             "tickwidth": 2
            },
            "type": "mesh3d"
           }
          ],
          "parcoords": [
           {
            "line": {
             "colorbar": {
              "outlinewidth": 0,
              "tickcolor": "rgb(36,36,36)",
              "ticklen": 8,
              "ticks": "outside",
              "tickwidth": 2
             }
            },
            "type": "parcoords"
           }
          ],
          "pie": [
           {
            "automargin": true,
            "type": "pie"
           }
          ],
          "scatter": [
           {
            "fillpattern": {
             "fillmode": "overlay",
             "size": 10,
             "solidity": 0.2
            },
            "type": "scatter"
           }
          ],
          "scatter3d": [
           {
            "line": {
             "colorbar": {
              "outlinewidth": 0,
              "tickcolor": "rgb(36,36,36)",
              "ticklen": 8,
              "ticks": "outside",
              "tickwidth": 2
             }
            },
            "marker": {
             "colorbar": {
              "outlinewidth": 0,
              "tickcolor": "rgb(36,36,36)",
              "ticklen": 8,
              "ticks": "outside",
              "tickwidth": 2
             }
            },
            "type": "scatter3d"
           }
          ],
          "scattercarpet": [
           {
            "marker": {
             "colorbar": {
              "outlinewidth": 0,
              "tickcolor": "rgb(36,36,36)",
              "ticklen": 8,
              "ticks": "outside",
              "tickwidth": 2
             }
            },
            "type": "scattercarpet"
           }
          ],
          "scattergeo": [
           {
            "marker": {
             "colorbar": {
              "outlinewidth": 0,
              "tickcolor": "rgb(36,36,36)",
              "ticklen": 8,
              "ticks": "outside",
              "tickwidth": 2
             }
            },
            "type": "scattergeo"
           }
          ],
          "scattergl": [
           {
            "marker": {
             "colorbar": {
              "outlinewidth": 0,
              "tickcolor": "rgb(36,36,36)",
              "ticklen": 8,
              "ticks": "outside",
              "tickwidth": 2
             }
            },
            "type": "scattergl"
           }
          ],
          "scattermapbox": [
           {
            "marker": {
             "colorbar": {
              "outlinewidth": 0,
              "tickcolor": "rgb(36,36,36)",
              "ticklen": 8,
              "ticks": "outside",
              "tickwidth": 2
             }
            },
            "type": "scattermapbox"
           }
          ],
          "scatterpolar": [
           {
            "marker": {
             "colorbar": {
              "outlinewidth": 0,
              "tickcolor": "rgb(36,36,36)",
              "ticklen": 8,
              "ticks": "outside",
              "tickwidth": 2
             }
            },
            "type": "scatterpolar"
           }
          ],
          "scatterpolargl": [
           {
            "marker": {
             "colorbar": {
              "outlinewidth": 0,
              "tickcolor": "rgb(36,36,36)",
              "ticklen": 8,
              "ticks": "outside",
              "tickwidth": 2
             }
            },
            "type": "scatterpolargl"
           }
          ],
          "scatterternary": [
           {
            "marker": {
             "colorbar": {
              "outlinewidth": 0,
              "tickcolor": "rgb(36,36,36)",
              "ticklen": 8,
              "ticks": "outside",
              "tickwidth": 2
             }
            },
            "type": "scatterternary"
           }
          ],
          "surface": [
           {
            "colorbar": {
             "outlinewidth": 0,
             "tickcolor": "rgb(36,36,36)",
             "ticklen": 8,
             "ticks": "outside",
             "tickwidth": 2
            },
            "colorscale": [
             [
              0,
              "rgb(2,4,25)"
             ],
             [
              0.06274509803921569,
              "rgb(24,15,41)"
             ],
             [
              0.12549019607843137,
              "rgb(47,23,57)"
             ],
             [
              0.18823529411764706,
              "rgb(71,28,72)"
             ],
             [
              0.25098039215686274,
              "rgb(97,30,82)"
             ],
             [
              0.3137254901960784,
              "rgb(123,30,89)"
             ],
             [
              0.3764705882352941,
              "rgb(150,27,91)"
             ],
             [
              0.4392156862745098,
              "rgb(177,22,88)"
             ],
             [
              0.5019607843137255,
              "rgb(203,26,79)"
             ],
             [
              0.5647058823529412,
              "rgb(223,47,67)"
             ],
             [
              0.6274509803921569,
              "rgb(236,76,61)"
             ],
             [
              0.6901960784313725,
              "rgb(242,107,73)"
             ],
             [
              0.7529411764705882,
              "rgb(244,135,95)"
             ],
             [
              0.8156862745098039,
              "rgb(245,162,122)"
             ],
             [
              0.8784313725490196,
              "rgb(246,188,153)"
             ],
             [
              0.9411764705882353,
              "rgb(247,212,187)"
             ],
             [
              1,
              "rgb(250,234,220)"
             ]
            ],
            "type": "surface"
           }
          ],
          "table": [
           {
            "cells": {
             "fill": {
              "color": "rgb(231,231,240)"
             },
             "line": {
              "color": "white"
             }
            },
            "header": {
             "fill": {
              "color": "rgb(183,183,191)"
             },
             "line": {
              "color": "white"
             }
            },
            "type": "table"
           }
          ]
         },
         "layout": {
          "annotationdefaults": {
           "arrowcolor": "rgb(67,103,167)"
          },
          "autotypenumbers": "strict",
          "coloraxis": {
           "colorbar": {
            "outlinewidth": 0,
            "tickcolor": "rgb(36,36,36)",
            "ticklen": 8,
            "ticks": "outside",
            "tickwidth": 2
           }
          },
          "colorscale": {
           "sequential": [
            [
             0,
             "rgb(2,4,25)"
            ],
            [
             0.06274509803921569,
             "rgb(24,15,41)"
            ],
            [
             0.12549019607843137,
             "rgb(47,23,57)"
            ],
            [
             0.18823529411764706,
             "rgb(71,28,72)"
            ],
            [
             0.25098039215686274,
             "rgb(97,30,82)"
            ],
            [
             0.3137254901960784,
             "rgb(123,30,89)"
            ],
            [
             0.3764705882352941,
             "rgb(150,27,91)"
            ],
            [
             0.4392156862745098,
             "rgb(177,22,88)"
            ],
            [
             0.5019607843137255,
             "rgb(203,26,79)"
            ],
            [
             0.5647058823529412,
             "rgb(223,47,67)"
            ],
            [
             0.6274509803921569,
             "rgb(236,76,61)"
            ],
            [
             0.6901960784313725,
             "rgb(242,107,73)"
            ],
            [
             0.7529411764705882,
             "rgb(244,135,95)"
            ],
            [
             0.8156862745098039,
             "rgb(245,162,122)"
            ],
            [
             0.8784313725490196,
             "rgb(246,188,153)"
            ],
            [
             0.9411764705882353,
             "rgb(247,212,187)"
            ],
            [
             1,
             "rgb(250,234,220)"
            ]
           ],
           "sequentialminus": [
            [
             0,
             "rgb(2,4,25)"
            ],
            [
             0.06274509803921569,
             "rgb(24,15,41)"
            ],
            [
             0.12549019607843137,
             "rgb(47,23,57)"
            ],
            [
             0.18823529411764706,
             "rgb(71,28,72)"
            ],
            [
             0.25098039215686274,
             "rgb(97,30,82)"
            ],
            [
             0.3137254901960784,
             "rgb(123,30,89)"
            ],
            [
             0.3764705882352941,
             "rgb(150,27,91)"
            ],
            [
             0.4392156862745098,
             "rgb(177,22,88)"
            ],
            [
             0.5019607843137255,
             "rgb(203,26,79)"
            ],
            [
             0.5647058823529412,
             "rgb(223,47,67)"
            ],
            [
             0.6274509803921569,
             "rgb(236,76,61)"
            ],
            [
             0.6901960784313725,
             "rgb(242,107,73)"
            ],
            [
             0.7529411764705882,
             "rgb(244,135,95)"
            ],
            [
             0.8156862745098039,
             "rgb(245,162,122)"
            ],
            [
             0.8784313725490196,
             "rgb(246,188,153)"
            ],
            [
             0.9411764705882353,
             "rgb(247,212,187)"
            ],
            [
             1,
             "rgb(250,234,220)"
            ]
           ]
          },
          "colorway": [
           "rgb(76,114,176)",
           "rgb(221,132,82)",
           "rgb(85,168,104)",
           "rgb(196,78,82)",
           "rgb(129,114,179)",
           "rgb(147,120,96)",
           "rgb(218,139,195)",
           "rgb(140,140,140)",
           "rgb(204,185,116)",
           "rgb(100,181,205)"
          ],
          "font": {
           "color": "rgb(36,36,36)"
          },
          "geo": {
           "bgcolor": "white",
           "lakecolor": "white",
           "landcolor": "rgb(234,234,242)",
           "showlakes": true,
           "showland": true,
           "subunitcolor": "white"
          },
          "hoverlabel": {
           "align": "left"
          },
          "hovermode": "closest",
          "paper_bgcolor": "white",
          "plot_bgcolor": "rgb(234,234,242)",
          "polar": {
           "angularaxis": {
            "gridcolor": "white",
            "linecolor": "white",
            "showgrid": true,
            "ticks": ""
           },
           "bgcolor": "rgb(234,234,242)",
           "radialaxis": {
            "gridcolor": "white",
            "linecolor": "white",
            "showgrid": true,
            "ticks": ""
           }
          },
          "scene": {
           "xaxis": {
            "backgroundcolor": "rgb(234,234,242)",
            "gridcolor": "white",
            "gridwidth": 2,
            "linecolor": "white",
            "showbackground": true,
            "showgrid": true,
            "ticks": "",
            "zerolinecolor": "white"
           },
           "yaxis": {
            "backgroundcolor": "rgb(234,234,242)",
            "gridcolor": "white",
            "gridwidth": 2,
            "linecolor": "white",
            "showbackground": true,
            "showgrid": true,
            "ticks": "",
            "zerolinecolor": "white"
           },
           "zaxis": {
            "backgroundcolor": "rgb(234,234,242)",
            "gridcolor": "white",
            "gridwidth": 2,
            "linecolor": "white",
            "showbackground": true,
            "showgrid": true,
            "ticks": "",
            "zerolinecolor": "white"
           }
          },
          "shapedefaults": {
           "fillcolor": "rgb(67,103,167)",
           "line": {
            "width": 0
           },
           "opacity": 0.5
          },
          "ternary": {
           "aaxis": {
            "gridcolor": "white",
            "linecolor": "white",
            "showgrid": true,
            "ticks": ""
           },
           "baxis": {
            "gridcolor": "white",
            "linecolor": "white",
            "showgrid": true,
            "ticks": ""
           },
           "bgcolor": "rgb(234,234,242)",
           "caxis": {
            "gridcolor": "white",
            "linecolor": "white",
            "showgrid": true,
            "ticks": ""
           }
          },
          "xaxis": {
           "automargin": true,
           "gridcolor": "white",
           "linecolor": "white",
           "showgrid": true,
           "ticks": "",
           "title": {
            "standoff": 15
           },
           "zerolinecolor": "white"
          },
          "yaxis": {
           "automargin": true,
           "gridcolor": "white",
           "linecolor": "white",
           "showgrid": true,
           "ticks": "",
           "title": {
            "standoff": 15
           },
           "zerolinecolor": "white"
          }
         }
        },
        "xaxis": {
         "anchor": "y",
         "domain": [
          0,
          0.3
         ]
        },
        "xaxis2": {
         "anchor": "y2",
         "domain": [
          0.35,
          0.6499999999999999
         ]
        },
        "xaxis3": {
         "anchor": "y3",
         "domain": [
          0.7,
          1
         ]
        },
        "xaxis4": {
         "anchor": "y4",
         "domain": [
          0,
          0.3
         ]
        },
        "xaxis5": {
         "anchor": "y5",
         "domain": [
          0.35,
          0.6499999999999999
         ]
        },
        "xaxis6": {
         "anchor": "y6",
         "domain": [
          0.7,
          1
         ]
        },
        "yaxis": {
         "anchor": "x",
         "domain": [
          0.55,
          1
         ]
        },
        "yaxis2": {
         "anchor": "x2",
         "domain": [
          0.55,
          1
         ]
        },
        "yaxis3": {
         "anchor": "x3",
         "domain": [
          0.55,
          1
         ]
        },
        "yaxis4": {
         "anchor": "x4",
         "domain": [
          0,
          0.45
         ]
        },
        "yaxis5": {
         "anchor": "x5",
         "domain": [
          0,
          0.45
         ]
        },
        "yaxis6": {
         "anchor": "x6",
         "domain": [
          0,
          0.45
         ]
        }
       }
      },
      "text/html": [
       "<div>                            <div id=\"02beef74-9c63-48c3-ad92-7fcea89130eb\" class=\"plotly-graph-div\" style=\"height:800px; width:100%;\"></div>            <script type=\"text/javascript\">                require([\"plotly\"], function(Plotly) {                    window.PLOTLYENV=window.PLOTLYENV || {};                                    if (document.getElementById(\"02beef74-9c63-48c3-ad92-7fcea89130eb\")) {                    Plotly.newPlot(                        \"02beef74-9c63-48c3-ad92-7fcea89130eb\",                        [{\"hoverinfo\":\"x\",\"showlegend\":false,\"x\":[1127,434,893,314,787,864,1214,1677,300,90,405,783,540,300,135,360,832,1005,2395,300,270,1470,450,2788,1320,1471,812,428,114,488,413,1090,540,450,1504,802,405,955,580,993,2154,494,863,1481,470,1910,1415,405,1800,563,260,742,194,104,1738,88,1049,89,449,734,240,487,577,963,963,2187,1447,1373,937,937,187,810,299,1049,2827,3224,734,60,1649,299,689,749,712,749,749,194,4859,974,2024,1856,112,697,1049,112,5249,1049,2849,292,1912,6134,88,134,127,3329,1034,1461,134,329,1347,449,59,2549,712,1087,239,1162,1874,1049,264,509,149,1725,689,792,164,2324,402,149,584,479,1574,3299,704,1649,202,359,2699,1164,1799,5024,59,899,447,413,292,44,5662,177,239,134,449,118,2849,224,719,2174,656,328,974,52,637,749,157,674,134,1049,2024,1874,389,2999,1574,524,59,3298,449,2249,1049,734,1237,745,89,389,1724,449,704,418,209,66,148,624,651,7424,4124,637,412,898,52,149,1049,1049,442,637,1649,1049,568,442,2699,268,1649,448,134,708,88,374,3524,749,359,374,87,1049,367,539,712,745,1199,172,2361,2098,1874,1612,44,598,1049,516,787,2699,149,6270,74,824,1649,32718,3598,802,974,434,637,224,52,1215,584,1049,1049,2360,478,712,464,4139,1912,599,300,298,888,2249,149,44,134,2999,149,862,464,1649,344,1424,3148,416,375,1139,2924,1049,712,194,3247,112,149,1049,1049,907,974,2460,1912,1139,1574,1649,112,748,2624,1987,1049,450,1574,224,442,3329,299,254,1874,187,1799,298,471,1049,1499,637,1349,2174,749,2549,899,1612,149,1162,262,1049,202,239,584,134,6307,2999,899,59,157,464,209,635,5249,727,727,3974,134,44,300,599,149,202,16536,2699,299,1574,974,1799,22,6149,1275,937,802,82,67,1949,2697,286,104,134,899,667,1200,164,268,44,899,899,1649,1498,652,1424,208,569,727,59,11000,592,7480,187,1649,516,1124,1799,614,2999,88,134,3524,1139,1949,292,1522,2024,389,119,88,1716,240,940,652,592,1087,104,284,434,110,277,614,1162,209,1799,787,336,1799,389,134,232,1574,1087,66,374,164,134,44,1409,3329,134,299,3562,328,748,899,134,607,3667,157,179,59,3329,134,1874,2324,328,1087,440,3112,1736,378,299,2120,157,479,127,787,449,824,442,1994,194,149,67,464,134,727,1162,29,127,524,727,562,1124,2211,560,224,741,502,2699,2146,2550,1087,2849,492,88,1198,862,804,1568,1649,749,337,749,974,2849,149,680,899,3674,134,1649,449,314,134,374,727,1085,112,2699,487,209,299,157,1780,2774,120,820,674,134,1087,134,471,2099,194,157,157,239,487,87,487,119,1087,1724,974,974,134,637,1987,8437,3562,974,2399,112,134,3329,442,1649,134,1120,134,735,824,520,1898,164,59,1199,614,1350,742,742,149,717,389,674,464,900,974,187,104,430,58,2550,562,914,74,194,67,74,487,727,2041,2220,487,67,350,599,74,2024,727,5594,4900,560,1649,74,388,127,670,1154,1087,388,74,1288,307,127,1349,959,3525,599,134,1874,922,157,2924,134,734,2924,727,134,680,1087,487,225,194,74,629,1762,776,295,1949,119,292,1087,666,374,689,1199,603,898,555,764,74,2137,134,449,104,3719,1949,480,2249,614,134,412,225,5459,4117,3787,810,74,194,1012,413,1087,134,1376,1087,974,637,5249,727,727,1049,74,112,614,2549,974,148,3074,74,2399,344,149,1312,1199,1087,314,2549,614,209,314,52,1874,1649,209,779,509,397,2998,652,187,2915,52,157,1087,268,127,1574,157,1949,7679,187,1892,727,1049,1874,1124,222,104,2249,2699,1087,1574,449,508,134,1760,1199,157,67,59,749,194,444,742,3749,1087,299,5594,412,750,225,590,727,59,74,712,652,134,236,2399,59,2694,187,1574,974,2247,1649,974,3000,449,5098,552,592,1649,210,176,149,157,1180,104,74,622,3599,922,734,1056,104,898,1799,4049,1770,1056,508,254,1496,712,134,280,2624,74,74,824,104,134,134,3787,74,524,620,74,44,1770,59,3448,442,374,524,268,74,434],\"type\":\"histogram\",\"xaxis\":\"x\",\"yaxis\":\"y\"},{\"hoverinfo\":\"x\",\"name\":\"\",\"showlegend\":false,\"x\":[1127,434,893,314,787,864,1214,1677,300,90,405,783,540,300,135,360,832,1005,2395,300,270,1470,450,2788,1320,1471,812,428,114,488,413,1090,540,450,1504,802,405,955,580,993,2154,494,863,1481,470,1910,1415,405,1800,563,260,742,194,104,1738,88,1049,89,449,734,240,487,577,963,963,2187,1447,1373,937,937,187,810,299,1049,2827,3224,734,60,1649,299,689,749,712,749,749,194,4859,974,2024,1856,112,697,1049,112,5249,1049,2849,292,1912,6134,88,134,127,3329,1034,1461,134,329,1347,449,59,2549,712,1087,239,1162,1874,1049,264,509,149,1725,689,792,164,2324,402,149,584,479,1574,3299,704,1649,202,359,2699,1164,1799,5024,59,899,447,413,292,44,5662,177,239,134,449,118,2849,224,719,2174,656,328,974,52,637,749,157,674,134,1049,2024,1874,389,2999,1574,524,59,3298,449,2249,1049,734,1237,745,89,389,1724,449,704,418,209,66,148,624,651,7424,4124,637,412,898,52,149,1049,1049,442,637,1649,1049,568,442,2699,268,1649,448,134,708,88,374,3524,749,359,374,87,1049,367,539,712,745,1199,172,2361,2098,1874,1612,44,598,1049,516,787,2699,149,6270,74,824,1649,32718,3598,802,974,434,637,224,52,1215,584,1049,1049,2360,478,712,464,4139,1912,599,300,298,888,2249,149,44,134,2999,149,862,464,1649,344,1424,3148,416,375,1139,2924,1049,712,194,3247,112,149,1049,1049,907,974,2460,1912,1139,1574,1649,112,748,2624,1987,1049,450,1574,224,442,3329,299,254,1874,187,1799,298,471,1049,1499,637,1349,2174,749,2549,899,1612,149,1162,262,1049,202,239,584,134,6307,2999,899,59,157,464,209,635,5249,727,727,3974,134,44,300,599,149,202,16536,2699,299,1574,974,1799,22,6149,1275,937,802,82,67,1949,2697,286,104,134,899,667,1200,164,268,44,899,899,1649,1498,652,1424,208,569,727,59,11000,592,7480,187,1649,516,1124,1799,614,2999,88,134,3524,1139,1949,292,1522,2024,389,119,88,1716,240,940,652,592,1087,104,284,434,110,277,614,1162,209,1799,787,336,1799,389,134,232,1574,1087,66,374,164,134,44,1409,3329,134,299,3562,328,748,899,134,607,3667,157,179,59,3329,134,1874,2324,328,1087,440,3112,1736,378,299,2120,157,479,127,787,449,824,442,1994,194,149,67,464,134,727,1162,29,127,524,727,562,1124,2211,560,224,741,502,2699,2146,2550,1087,2849,492,88,1198,862,804,1568,1649,749,337,749,974,2849,149,680,899,3674,134,1649,449,314,134,374,727,1085,112,2699,487,209,299,157,1780,2774,120,820,674,134,1087,134,471,2099,194,157,157,239,487,87,487,119,1087,1724,974,974,134,637,1987,8437,3562,974,2399,112,134,3329,442,1649,134,1120,134,735,824,520,1898,164,59,1199,614,1350,742,742,149,717,389,674,464,900,974,187,104,430,58,2550,562,914,74,194,67,74,487,727,2041,2220,487,67,350,599,74,2024,727,5594,4900,560,1649,74,388,127,670,1154,1087,388,74,1288,307,127,1349,959,3525,599,134,1874,922,157,2924,134,734,2924,727,134,680,1087,487,225,194,74,629,1762,776,295,1949,119,292,1087,666,374,689,1199,603,898,555,764,74,2137,134,449,104,3719,1949,480,2249,614,134,412,225,5459,4117,3787,810,74,194,1012,413,1087,134,1376,1087,974,637,5249,727,727,1049,74,112,614,2549,974,148,3074,74,2399,344,149,1312,1199,1087,314,2549,614,209,314,52,1874,1649,209,779,509,397,2998,652,187,2915,52,157,1087,268,127,1574,157,1949,7679,187,1892,727,1049,1874,1124,222,104,2249,2699,1087,1574,449,508,134,1760,1199,157,67,59,749,194,444,742,3749,1087,299,5594,412,750,225,590,727,59,74,712,652,134,236,2399,59,2694,187,1574,974,2247,1649,974,3000,449,5098,552,592,1649,210,176,149,157,1180,104,74,622,3599,922,734,1056,104,898,1799,4049,1770,1056,508,254,1496,712,134,280,2624,74,74,824,104,134,134,3787,74,524,620,74,44,1770,59,3448,442,374,524,268,74,434],\"type\":\"box\",\"xaxis\":\"x4\",\"yaxis\":\"y4\"},{\"hoverinfo\":\"x\",\"showlegend\":false,\"x\":[1470,450,2788,1320,1471,812,428,114,488,413,1090,540,450,1504,802,405,955,580,993,2154,494,863,1481,470,1910,1415,405,1800,563,1215,1276,1140,2723,1759,843,1128,577,1916,852,164,1407,561,473,698,300,370,2254,405,1164,300,562,752,1216,150,593,2704,376,1696,434,771,1218,2166,384,2824,468,2850,4303,1276,2090,304,285,405,836,555,975,914,1483,1534,2280,608,540,900,1222,426,2050,209,2922,1012,4682,810,3776,1056,705,1588,4558,526,352,1470,786,1784,1071,10656,900,840,1067,2707,1434,1381,2068,830,1377,803,1187,1210,954,1035,2644,506,690,976,1786,3388,1612,690,532,1775,968,1077,1503,712,2090,924,507,405,1064,2421,1618,1292,2236,135,249,152,2778,270,942,964,915,360,480,1266,466,1350,808,818,1408,795,600,704,456,408,480,1974,684,1271,830,456,4187,1379,570,420,4139,590,239,430,388,127,670,1154,1087,388,74,1288,307,127,1349,959,3525,599,134,1874,922,157,2924,134,734,2924,727,134,680,1087,487,225,194,74,629,1762,776,295,1949,119,292,1087,666,374,689,1199,603,898,555,764,74,2137,134,449,104,3719,1949,480,2249,614,134,412,225,5459,4117,3787,810,74,194,1012,413,1087,134,1376,1087,974,637,5249,727,727,1049,74,112,614,2549,974,148,3074,74,2399,344,149,1312,1199,1087,314,2549,614,209,314,52,1874,1649,209,779,509,397,2998,652,187,2915,52,157,1087,268,127,1574,157,1949,7679,187,1892,727,1049,1874,1124,222,104,2249,2699,1087,1574,449,508,134,1760,1199,157,67,59,749,194,444,742,3749,1087,299,5594,412,750,225,590,727,59,74,712,652,134,236,2399,59,2694,187,1574,974,2247,1649,974,3000,449,5098,552,592,1649,210,176,149,157,1180,104,74,622,3599,922,734,1056,104,898,1799,4049,1770,1056,508,254,1496,712,134,280,2624,74,74,824,246,134,134,3787,74,524,620,74,44,1770,59,3448,442,374,524,268,74,434,1949,734,134,734,148,209,357,87,1167,600,1162,148,84,928,3776,5287,298,925,1762,52,352,405,1649,119,22,3329,988,547,2624,487,412,140,1177,5398,749,734,4574,974,600,134,2245,2249,742,749,6149,449,712,52,734,8737,74,164,134,1649,562,524,787,3224,1087,119,157,1649,3705,1087,134,74,6149,2999,134,734,280,134,268,1049,442,2234,3074,374,659,74,224,524,734,198,44,5249,1574,1049,1949,22,147,598,1462,899,37,674,402,300,177,59,1087,200,118,787,389,974,1012,1199,194,1649,59,397,236,269,87,1424,1424,718,869,200,370,22,599,899,374,2001,232,59,524,148,1312,1312,11460,14196,15680,564,7229,187,74,337,119,119,232,2774,58,74,1274,569,8077,134,412,569,569,74,312,28,688,22,22,464,412,2624,2699,134,475,179,239,2699,97,231,1499,787,4470,592,134,97,374,156,896,472,472,217,217,217,127,637,1087,1087,254,1200,142,22,1920,134,37,1574,134,157,224,224,295,74,487,120,1122,208,356,97,3674,520,262,1574,1874,389,2999,2999,1012,2774,134,502,164,359,937,88,898,899,208,4874,599,734,1087,2848,1087,1499,1724,509,672,509,284,599,299,1076,3898,6097,232,74,44,200,568,6097,284,734,434,1642,299,157,449,314,749,134,15300,1087,74,112,652,1574,1920,74,209,3562,1649,337,899,3925,284,1087,1530,157,974,734,6449,344,1499,1498,3787,464,22,397,134,4312,1920,38,149,164,38,217,1912,2926,2230,217,448],\"type\":\"histogram\",\"xaxis\":\"x2\",\"yaxis\":\"y2\"},{\"hoverinfo\":\"x\",\"name\":\"\",\"showlegend\":false,\"x\":[1470,450,2788,1320,1471,812,428,114,488,413,1090,540,450,1504,802,405,955,580,993,2154,494,863,1481,470,1910,1415,405,1800,563,1215,1276,1140,2723,1759,843,1128,577,1916,852,164,1407,561,473,698,300,370,2254,405,1164,300,562,752,1216,150,593,2704,376,1696,434,771,1218,2166,384,2824,468,2850,4303,1276,2090,304,285,405,836,555,975,914,1483,1534,2280,608,540,900,1222,426,2050,209,2922,1012,4682,810,3776,1056,705,1588,4558,526,352,1470,786,1784,1071,10656,900,840,1067,2707,1434,1381,2068,830,1377,803,1187,1210,954,1035,2644,506,690,976,1786,3388,1612,690,532,1775,968,1077,1503,712,2090,924,507,405,1064,2421,1618,1292,2236,135,249,152,2778,270,942,964,915,360,480,1266,466,1350,808,818,1408,795,600,704,456,408,480,1974,684,1271,830,456,4187,1379,570,420,4139,590,239,430,388,127,670,1154,1087,388,74,1288,307,127,1349,959,3525,599,134,1874,922,157,2924,134,734,2924,727,134,680,1087,487,225,194,74,629,1762,776,295,1949,119,292,1087,666,374,689,1199,603,898,555,764,74,2137,134,449,104,3719,1949,480,2249,614,134,412,225,5459,4117,3787,810,74,194,1012,413,1087,134,1376,1087,974,637,5249,727,727,1049,74,112,614,2549,974,148,3074,74,2399,344,149,1312,1199,1087,314,2549,614,209,314,52,1874,1649,209,779,509,397,2998,652,187,2915,52,157,1087,268,127,1574,157,1949,7679,187,1892,727,1049,1874,1124,222,104,2249,2699,1087,1574,449,508,134,1760,1199,157,67,59,749,194,444,742,3749,1087,299,5594,412,750,225,590,727,59,74,712,652,134,236,2399,59,2694,187,1574,974,2247,1649,974,3000,449,5098,552,592,1649,210,176,149,157,1180,104,74,622,3599,922,734,1056,104,898,1799,4049,1770,1056,508,254,1496,712,134,280,2624,74,74,824,246,134,134,3787,74,524,620,74,44,1770,59,3448,442,374,524,268,74,434,1949,734,134,734,148,209,357,87,1167,600,1162,148,84,928,3776,5287,298,925,1762,52,352,405,1649,119,22,3329,988,547,2624,487,412,140,1177,5398,749,734,4574,974,600,134,2245,2249,742,749,6149,449,712,52,734,8737,74,164,134,1649,562,524,787,3224,1087,119,157,1649,3705,1087,134,74,6149,2999,134,734,280,134,268,1049,442,2234,3074,374,659,74,224,524,734,198,44,5249,1574,1049,1949,22,147,598,1462,899,37,674,402,300,177,59,1087,200,118,787,389,974,1012,1199,194,1649,59,397,236,269,87,1424,1424,718,869,200,370,22,599,899,374,2001,232,59,524,148,1312,1312,11460,14196,15680,564,7229,187,74,337,119,119,232,2774,58,74,1274,569,8077,134,412,569,569,74,312,28,688,22,22,464,412,2624,2699,134,475,179,239,2699,97,231,1499,787,4470,592,134,97,374,156,896,472,472,217,217,217,127,637,1087,1087,254,1200,142,22,1920,134,37,1574,134,157,224,224,295,74,487,120,1122,208,356,97,3674,520,262,1574,1874,389,2999,2999,1012,2774,134,502,164,359,937,88,898,899,208,4874,599,734,1087,2848,1087,1499,1724,509,672,509,284,599,299,1076,3898,6097,232,74,44,200,568,6097,284,734,434,1642,299,157,449,314,749,134,15300,1087,74,112,652,1574,1920,74,209,3562,1649,337,899,3925,284,1087,1530,157,974,734,6449,344,1499,1498,3787,464,22,397,134,4312,1920,38,149,164,38,217,1912,2926,2230,217,448],\"type\":\"box\",\"xaxis\":\"x5\",\"yaxis\":\"y5\"},{\"hoverinfo\":\"x\",\"showlegend\":false,\"x\":[1018,1225,2928,420,584,376,285,488,1432,848,2528,209,1457,742,190,726,2460,1128,188,135,676,600,840,510,929,420,2658,544,728,564,345,675,488,299,2324,1087,734,402,1087,449,427,5939,614,149,1424,254,147,560,600,2527,787,749,599,596,134,404,134,88,697,3899,179,3147,74,1949,427,502,74,2527,449,4494,329,157,488,412,134,164,397,599,295,52,277,328,464,2699,674,277,239,717,194,134,2249,592,1349,413,104,59,2174,7870,1087,500,1424,2924,1424,1798,749,254,3787,157,44,734,552,59,187,950,697,1762,134,652,134,118,569,4390,247,1649,66,119,1874,1087,6148,194,899,389,1649,749,598,3375,3674,3748,3449,149,449,352,2527,74,268,427,2249,2699,614,674,1199,577,1612,412,59,935,2025,375,2136,434,749,830,3749,220,1034,674,127,74,58,1424,1649,464,1649,592,554,2699,1087,599,749,562,638,134,1087,734,674,1800,118,242,198,220,1101,89,1447,52,42,1274,1162,14917,7679,150,150,1124,149,449,404,7199,1648,974,8810,614,899,74,247,2527,44,97,82,337,745,22,150,4574,599,254,1087,97,1087,2025,402,592,1177,2774,134,442,1499,97,734,2699,134,224,74,1162,1612,524,1204,134,1199,1162,74,299,440,268,1125,1874,1108,1124,509,1050,300,127,116,134,1087,582,208,116,787,525,674,2549,404,975,110,134,449,3674,524,2699,674,577,3562,838,449,5399,564,2399,1574,472,635,370,1649,172,1649,134,750,284,734,195,3449,3449,2549,674,614,134,525,194,74,562,375,4495,74,1087,104,899,487,450,1349,1349,188,1642,1124,546,202,450,157,450,111,7349,59,82,45,6449,450,614,569,1087,749,1087,1087,374,1837,299,1368,412,150,1912,1900,389,831,1124,164,712,134,525,1087,262,968,4574,3524,1087,1649,402,1649,74,145,1050,389,1856,2699,1649,599,412],\"type\":\"histogram\",\"xaxis\":\"x3\",\"yaxis\":\"y3\"},{\"hoverinfo\":\"x\",\"name\":\"\",\"showlegend\":false,\"x\":[1018,1225,2928,420,584,376,285,488,1432,848,2528,209,1457,742,190,726,2460,1128,188,135,676,600,840,510,929,420,2658,544,728,564,345,675,488,299,2324,1087,734,402,1087,449,427,5939,614,149,1424,254,147,560,600,2527,787,749,599,596,134,404,134,88,697,3899,179,3147,74,1949,427,502,74,2527,449,4494,329,157,488,412,134,164,397,599,295,52,277,328,464,2699,674,277,239,717,194,134,2249,592,1349,413,104,59,2174,7870,1087,500,1424,2924,1424,1798,749,254,3787,157,44,734,552,59,187,950,697,1762,134,652,134,118,569,4390,247,1649,66,119,1874,1087,6148,194,899,389,1649,749,598,3375,3674,3748,3449,149,449,352,2527,74,268,427,2249,2699,614,674,1199,577,1612,412,59,935,2025,375,2136,434,749,830,3749,220,1034,674,127,74,58,1424,1649,464,1649,592,554,2699,1087,599,749,562,638,134,1087,734,674,1800,118,242,198,220,1101,89,1447,52,42,1274,1162,14917,7679,150,150,1124,149,449,404,7199,1648,974,8810,614,899,74,247,2527,44,97,82,337,745,22,150,4574,599,254,1087,97,1087,2025,402,592,1177,2774,134,442,1499,97,734,2699,134,224,74,1162,1612,524,1204,134,1199,1162,74,299,440,268,1125,1874,1108,1124,509,1050,300,127,116,134,1087,582,208,116,787,525,674,2549,404,975,110,134,449,3674,524,2699,674,577,3562,838,449,5399,564,2399,1574,472,635,370,1649,172,1649,134,750,284,734,195,3449,3449,2549,674,614,134,525,194,74,562,375,4495,74,1087,104,899,487,450,1349,1349,188,1642,1124,546,202,450,157,450,111,7349,59,82,45,6449,450,614,569,1087,749,1087,1087,374,1837,299,1368,412,150,1912,1900,389,831,1124,164,712,134,525,1087,262,968,4574,3524,1087,1649,402,1649,74,145,1050,389,1856,2699,1649,599,412],\"type\":\"box\",\"xaxis\":\"x6\",\"yaxis\":\"y6\"}],                        {\"template\":{\"data\":{\"histogram2dcontour\":[{\"type\":\"histogram2dcontour\",\"colorbar\":{\"outlinewidth\":0,\"tickcolor\":\"rgb(36,36,36)\",\"ticklen\":8,\"ticks\":\"outside\",\"tickwidth\":2},\"colorscale\":[[0.0,\"rgb(2,4,25)\"],[0.06274509803921569,\"rgb(24,15,41)\"],[0.12549019607843137,\"rgb(47,23,57)\"],[0.18823529411764706,\"rgb(71,28,72)\"],[0.25098039215686274,\"rgb(97,30,82)\"],[0.3137254901960784,\"rgb(123,30,89)\"],[0.3764705882352941,\"rgb(150,27,91)\"],[0.4392156862745098,\"rgb(177,22,88)\"],[0.5019607843137255,\"rgb(203,26,79)\"],[0.5647058823529412,\"rgb(223,47,67)\"],[0.6274509803921569,\"rgb(236,76,61)\"],[0.6901960784313725,\"rgb(242,107,73)\"],[0.7529411764705882,\"rgb(244,135,95)\"],[0.8156862745098039,\"rgb(245,162,122)\"],[0.8784313725490196,\"rgb(246,188,153)\"],[0.9411764705882353,\"rgb(247,212,187)\"],[1.0,\"rgb(250,234,220)\"]]}],\"choropleth\":[{\"type\":\"choropleth\",\"colorbar\":{\"outlinewidth\":0,\"tickcolor\":\"rgb(36,36,36)\",\"ticklen\":8,\"ticks\":\"outside\",\"tickwidth\":2}}],\"histogram2d\":[{\"type\":\"histogram2d\",\"colorbar\":{\"outlinewidth\":0,\"tickcolor\":\"rgb(36,36,36)\",\"ticklen\":8,\"ticks\":\"outside\",\"tickwidth\":2},\"colorscale\":[[0.0,\"rgb(2,4,25)\"],[0.06274509803921569,\"rgb(24,15,41)\"],[0.12549019607843137,\"rgb(47,23,57)\"],[0.18823529411764706,\"rgb(71,28,72)\"],[0.25098039215686274,\"rgb(97,30,82)\"],[0.3137254901960784,\"rgb(123,30,89)\"],[0.3764705882352941,\"rgb(150,27,91)\"],[0.4392156862745098,\"rgb(177,22,88)\"],[0.5019607843137255,\"rgb(203,26,79)\"],[0.5647058823529412,\"rgb(223,47,67)\"],[0.6274509803921569,\"rgb(236,76,61)\"],[0.6901960784313725,\"rgb(242,107,73)\"],[0.7529411764705882,\"rgb(244,135,95)\"],[0.8156862745098039,\"rgb(245,162,122)\"],[0.8784313725490196,\"rgb(246,188,153)\"],[0.9411764705882353,\"rgb(247,212,187)\"],[1.0,\"rgb(250,234,220)\"]]}],\"heatmap\":[{\"type\":\"heatmap\",\"colorbar\":{\"outlinewidth\":0,\"tickcolor\":\"rgb(36,36,36)\",\"ticklen\":8,\"ticks\":\"outside\",\"tickwidth\":2},\"colorscale\":[[0.0,\"rgb(2,4,25)\"],[0.06274509803921569,\"rgb(24,15,41)\"],[0.12549019607843137,\"rgb(47,23,57)\"],[0.18823529411764706,\"rgb(71,28,72)\"],[0.25098039215686274,\"rgb(97,30,82)\"],[0.3137254901960784,\"rgb(123,30,89)\"],[0.3764705882352941,\"rgb(150,27,91)\"],[0.4392156862745098,\"rgb(177,22,88)\"],[0.5019607843137255,\"rgb(203,26,79)\"],[0.5647058823529412,\"rgb(223,47,67)\"],[0.6274509803921569,\"rgb(236,76,61)\"],[0.6901960784313725,\"rgb(242,107,73)\"],[0.7529411764705882,\"rgb(244,135,95)\"],[0.8156862745098039,\"rgb(245,162,122)\"],[0.8784313725490196,\"rgb(246,188,153)\"],[0.9411764705882353,\"rgb(247,212,187)\"],[1.0,\"rgb(250,234,220)\"]]}],\"heatmapgl\":[{\"type\":\"heatmapgl\",\"colorbar\":{\"outlinewidth\":0,\"tickcolor\":\"rgb(36,36,36)\",\"ticklen\":8,\"ticks\":\"outside\",\"tickwidth\":2},\"colorscale\":[[0.0,\"rgb(2,4,25)\"],[0.06274509803921569,\"rgb(24,15,41)\"],[0.12549019607843137,\"rgb(47,23,57)\"],[0.18823529411764706,\"rgb(71,28,72)\"],[0.25098039215686274,\"rgb(97,30,82)\"],[0.3137254901960784,\"rgb(123,30,89)\"],[0.3764705882352941,\"rgb(150,27,91)\"],[0.4392156862745098,\"rgb(177,22,88)\"],[0.5019607843137255,\"rgb(203,26,79)\"],[0.5647058823529412,\"rgb(223,47,67)\"],[0.6274509803921569,\"rgb(236,76,61)\"],[0.6901960784313725,\"rgb(242,107,73)\"],[0.7529411764705882,\"rgb(244,135,95)\"],[0.8156862745098039,\"rgb(245,162,122)\"],[0.8784313725490196,\"rgb(246,188,153)\"],[0.9411764705882353,\"rgb(247,212,187)\"],[1.0,\"rgb(250,234,220)\"]]}],\"contourcarpet\":[{\"type\":\"contourcarpet\",\"colorbar\":{\"outlinewidth\":0,\"tickcolor\":\"rgb(36,36,36)\",\"ticklen\":8,\"ticks\":\"outside\",\"tickwidth\":2}}],\"contour\":[{\"type\":\"contour\",\"colorbar\":{\"outlinewidth\":0,\"tickcolor\":\"rgb(36,36,36)\",\"ticklen\":8,\"ticks\":\"outside\",\"tickwidth\":2},\"colorscale\":[[0.0,\"rgb(2,4,25)\"],[0.06274509803921569,\"rgb(24,15,41)\"],[0.12549019607843137,\"rgb(47,23,57)\"],[0.18823529411764706,\"rgb(71,28,72)\"],[0.25098039215686274,\"rgb(97,30,82)\"],[0.3137254901960784,\"rgb(123,30,89)\"],[0.3764705882352941,\"rgb(150,27,91)\"],[0.4392156862745098,\"rgb(177,22,88)\"],[0.5019607843137255,\"rgb(203,26,79)\"],[0.5647058823529412,\"rgb(223,47,67)\"],[0.6274509803921569,\"rgb(236,76,61)\"],[0.6901960784313725,\"rgb(242,107,73)\"],[0.7529411764705882,\"rgb(244,135,95)\"],[0.8156862745098039,\"rgb(245,162,122)\"],[0.8784313725490196,\"rgb(246,188,153)\"],[0.9411764705882353,\"rgb(247,212,187)\"],[1.0,\"rgb(250,234,220)\"]]}],\"surface\":[{\"type\":\"surface\",\"colorbar\":{\"outlinewidth\":0,\"tickcolor\":\"rgb(36,36,36)\",\"ticklen\":8,\"ticks\":\"outside\",\"tickwidth\":2},\"colorscale\":[[0.0,\"rgb(2,4,25)\"],[0.06274509803921569,\"rgb(24,15,41)\"],[0.12549019607843137,\"rgb(47,23,57)\"],[0.18823529411764706,\"rgb(71,28,72)\"],[0.25098039215686274,\"rgb(97,30,82)\"],[0.3137254901960784,\"rgb(123,30,89)\"],[0.3764705882352941,\"rgb(150,27,91)\"],[0.4392156862745098,\"rgb(177,22,88)\"],[0.5019607843137255,\"rgb(203,26,79)\"],[0.5647058823529412,\"rgb(223,47,67)\"],[0.6274509803921569,\"rgb(236,76,61)\"],[0.6901960784313725,\"rgb(242,107,73)\"],[0.7529411764705882,\"rgb(244,135,95)\"],[0.8156862745098039,\"rgb(245,162,122)\"],[0.8784313725490196,\"rgb(246,188,153)\"],[0.9411764705882353,\"rgb(247,212,187)\"],[1.0,\"rgb(250,234,220)\"]]}],\"mesh3d\":[{\"type\":\"mesh3d\",\"colorbar\":{\"outlinewidth\":0,\"tickcolor\":\"rgb(36,36,36)\",\"ticklen\":8,\"ticks\":\"outside\",\"tickwidth\":2}}],\"scatter\":[{\"fillpattern\":{\"fillmode\":\"overlay\",\"size\":10,\"solidity\":0.2},\"type\":\"scatter\"}],\"parcoords\":[{\"type\":\"parcoords\",\"line\":{\"colorbar\":{\"outlinewidth\":0,\"tickcolor\":\"rgb(36,36,36)\",\"ticklen\":8,\"ticks\":\"outside\",\"tickwidth\":2}}}],\"scatterpolargl\":[{\"type\":\"scatterpolargl\",\"marker\":{\"colorbar\":{\"outlinewidth\":0,\"tickcolor\":\"rgb(36,36,36)\",\"ticklen\":8,\"ticks\":\"outside\",\"tickwidth\":2}}}],\"bar\":[{\"error_x\":{\"color\":\"rgb(36,36,36)\"},\"error_y\":{\"color\":\"rgb(36,36,36)\"},\"marker\":{\"line\":{\"color\":\"rgb(234,234,242)\",\"width\":0.5},\"pattern\":{\"fillmode\":\"overlay\",\"size\":10,\"solidity\":0.2}},\"type\":\"bar\"}],\"scattergeo\":[{\"type\":\"scattergeo\",\"marker\":{\"colorbar\":{\"outlinewidth\":0,\"tickcolor\":\"rgb(36,36,36)\",\"ticklen\":8,\"ticks\":\"outside\",\"tickwidth\":2}}}],\"scatterpolar\":[{\"type\":\"scatterpolar\",\"marker\":{\"colorbar\":{\"outlinewidth\":0,\"tickcolor\":\"rgb(36,36,36)\",\"ticklen\":8,\"ticks\":\"outside\",\"tickwidth\":2}}}],\"histogram\":[{\"marker\":{\"pattern\":{\"fillmode\":\"overlay\",\"size\":10,\"solidity\":0.2}},\"type\":\"histogram\"}],\"scattergl\":[{\"type\":\"scattergl\",\"marker\":{\"colorbar\":{\"outlinewidth\":0,\"tickcolor\":\"rgb(36,36,36)\",\"ticklen\":8,\"ticks\":\"outside\",\"tickwidth\":2}}}],\"scatter3d\":[{\"type\":\"scatter3d\",\"line\":{\"colorbar\":{\"outlinewidth\":0,\"tickcolor\":\"rgb(36,36,36)\",\"ticklen\":8,\"ticks\":\"outside\",\"tickwidth\":2}},\"marker\":{\"colorbar\":{\"outlinewidth\":0,\"tickcolor\":\"rgb(36,36,36)\",\"ticklen\":8,\"ticks\":\"outside\",\"tickwidth\":2}}}],\"scattermapbox\":[{\"type\":\"scattermapbox\",\"marker\":{\"colorbar\":{\"outlinewidth\":0,\"tickcolor\":\"rgb(36,36,36)\",\"ticklen\":8,\"ticks\":\"outside\",\"tickwidth\":2}}}],\"scatterternary\":[{\"type\":\"scatterternary\",\"marker\":{\"colorbar\":{\"outlinewidth\":0,\"tickcolor\":\"rgb(36,36,36)\",\"ticklen\":8,\"ticks\":\"outside\",\"tickwidth\":2}}}],\"scattercarpet\":[{\"type\":\"scattercarpet\",\"marker\":{\"colorbar\":{\"outlinewidth\":0,\"tickcolor\":\"rgb(36,36,36)\",\"ticklen\":8,\"ticks\":\"outside\",\"tickwidth\":2}}}],\"carpet\":[{\"aaxis\":{\"endlinecolor\":\"rgb(36,36,36)\",\"gridcolor\":\"white\",\"linecolor\":\"white\",\"minorgridcolor\":\"white\",\"startlinecolor\":\"rgb(36,36,36)\"},\"baxis\":{\"endlinecolor\":\"rgb(36,36,36)\",\"gridcolor\":\"white\",\"linecolor\":\"white\",\"minorgridcolor\":\"white\",\"startlinecolor\":\"rgb(36,36,36)\"},\"type\":\"carpet\"}],\"table\":[{\"cells\":{\"fill\":{\"color\":\"rgb(231,231,240)\"},\"line\":{\"color\":\"white\"}},\"header\":{\"fill\":{\"color\":\"rgb(183,183,191)\"},\"line\":{\"color\":\"white\"}},\"type\":\"table\"}],\"barpolar\":[{\"marker\":{\"line\":{\"color\":\"rgb(234,234,242)\",\"width\":0.5},\"pattern\":{\"fillmode\":\"overlay\",\"size\":10,\"solidity\":0.2}},\"type\":\"barpolar\"}],\"pie\":[{\"automargin\":true,\"type\":\"pie\"}]},\"layout\":{\"autotypenumbers\":\"strict\",\"colorway\":[\"rgb(76,114,176)\",\"rgb(221,132,82)\",\"rgb(85,168,104)\",\"rgb(196,78,82)\",\"rgb(129,114,179)\",\"rgb(147,120,96)\",\"rgb(218,139,195)\",\"rgb(140,140,140)\",\"rgb(204,185,116)\",\"rgb(100,181,205)\"],\"font\":{\"color\":\"rgb(36,36,36)\"},\"hovermode\":\"closest\",\"hoverlabel\":{\"align\":\"left\"},\"paper_bgcolor\":\"white\",\"plot_bgcolor\":\"rgb(234,234,242)\",\"polar\":{\"bgcolor\":\"rgb(234,234,242)\",\"angularaxis\":{\"gridcolor\":\"white\",\"linecolor\":\"white\",\"showgrid\":true,\"ticks\":\"\"},\"radialaxis\":{\"gridcolor\":\"white\",\"linecolor\":\"white\",\"showgrid\":true,\"ticks\":\"\"}},\"ternary\":{\"bgcolor\":\"rgb(234,234,242)\",\"aaxis\":{\"gridcolor\":\"white\",\"linecolor\":\"white\",\"showgrid\":true,\"ticks\":\"\"},\"baxis\":{\"gridcolor\":\"white\",\"linecolor\":\"white\",\"showgrid\":true,\"ticks\":\"\"},\"caxis\":{\"gridcolor\":\"white\",\"linecolor\":\"white\",\"showgrid\":true,\"ticks\":\"\"}},\"coloraxis\":{\"colorbar\":{\"outlinewidth\":0,\"tickcolor\":\"rgb(36,36,36)\",\"ticklen\":8,\"ticks\":\"outside\",\"tickwidth\":2}},\"colorscale\":{\"sequential\":[[0.0,\"rgb(2,4,25)\"],[0.06274509803921569,\"rgb(24,15,41)\"],[0.12549019607843137,\"rgb(47,23,57)\"],[0.18823529411764706,\"rgb(71,28,72)\"],[0.25098039215686274,\"rgb(97,30,82)\"],[0.3137254901960784,\"rgb(123,30,89)\"],[0.3764705882352941,\"rgb(150,27,91)\"],[0.4392156862745098,\"rgb(177,22,88)\"],[0.5019607843137255,\"rgb(203,26,79)\"],[0.5647058823529412,\"rgb(223,47,67)\"],[0.6274509803921569,\"rgb(236,76,61)\"],[0.6901960784313725,\"rgb(242,107,73)\"],[0.7529411764705882,\"rgb(244,135,95)\"],[0.8156862745098039,\"rgb(245,162,122)\"],[0.8784313725490196,\"rgb(246,188,153)\"],[0.9411764705882353,\"rgb(247,212,187)\"],[1.0,\"rgb(250,234,220)\"]],\"sequentialminus\":[[0.0,\"rgb(2,4,25)\"],[0.06274509803921569,\"rgb(24,15,41)\"],[0.12549019607843137,\"rgb(47,23,57)\"],[0.18823529411764706,\"rgb(71,28,72)\"],[0.25098039215686274,\"rgb(97,30,82)\"],[0.3137254901960784,\"rgb(123,30,89)\"],[0.3764705882352941,\"rgb(150,27,91)\"],[0.4392156862745098,\"rgb(177,22,88)\"],[0.5019607843137255,\"rgb(203,26,79)\"],[0.5647058823529412,\"rgb(223,47,67)\"],[0.6274509803921569,\"rgb(236,76,61)\"],[0.6901960784313725,\"rgb(242,107,73)\"],[0.7529411764705882,\"rgb(244,135,95)\"],[0.8156862745098039,\"rgb(245,162,122)\"],[0.8784313725490196,\"rgb(246,188,153)\"],[0.9411764705882353,\"rgb(247,212,187)\"],[1.0,\"rgb(250,234,220)\"]]},\"xaxis\":{\"gridcolor\":\"white\",\"linecolor\":\"white\",\"showgrid\":true,\"ticks\":\"\",\"title\":{\"standoff\":15},\"zerolinecolor\":\"white\",\"automargin\":true},\"yaxis\":{\"gridcolor\":\"white\",\"linecolor\":\"white\",\"showgrid\":true,\"ticks\":\"\",\"title\":{\"standoff\":15},\"zerolinecolor\":\"white\",\"automargin\":true},\"scene\":{\"xaxis\":{\"backgroundcolor\":\"rgb(234,234,242)\",\"gridcolor\":\"white\",\"linecolor\":\"white\",\"showbackground\":true,\"showgrid\":true,\"ticks\":\"\",\"zerolinecolor\":\"white\",\"gridwidth\":2},\"yaxis\":{\"backgroundcolor\":\"rgb(234,234,242)\",\"gridcolor\":\"white\",\"linecolor\":\"white\",\"showbackground\":true,\"showgrid\":true,\"ticks\":\"\",\"zerolinecolor\":\"white\",\"gridwidth\":2},\"zaxis\":{\"backgroundcolor\":\"rgb(234,234,242)\",\"gridcolor\":\"white\",\"linecolor\":\"white\",\"showbackground\":true,\"showgrid\":true,\"ticks\":\"\",\"zerolinecolor\":\"white\",\"gridwidth\":2}},\"shapedefaults\":{\"fillcolor\":\"rgb(67,103,167)\",\"line\":{\"width\":0},\"opacity\":0.5},\"annotationdefaults\":{\"arrowcolor\":\"rgb(67,103,167)\"},\"geo\":{\"bgcolor\":\"white\",\"landcolor\":\"rgb(234,234,242)\",\"subunitcolor\":\"white\",\"showland\":true,\"showlakes\":true,\"lakecolor\":\"white\"}}},\"xaxis\":{\"anchor\":\"y\",\"domain\":[0.0,0.3]},\"yaxis\":{\"anchor\":\"x\",\"domain\":[0.55,1.0]},\"xaxis2\":{\"anchor\":\"y2\",\"domain\":[0.35,0.6499999999999999]},\"yaxis2\":{\"anchor\":\"x2\",\"domain\":[0.55,1.0]},\"xaxis3\":{\"anchor\":\"y3\",\"domain\":[0.7,1.0]},\"yaxis3\":{\"anchor\":\"x3\",\"domain\":[0.55,1.0]},\"xaxis4\":{\"anchor\":\"y4\",\"domain\":[0.0,0.3]},\"yaxis4\":{\"anchor\":\"x4\",\"domain\":[0.0,0.45]},\"xaxis5\":{\"anchor\":\"y5\",\"domain\":[0.35,0.6499999999999999]},\"yaxis5\":{\"anchor\":\"x5\",\"domain\":[0.0,0.45]},\"xaxis6\":{\"anchor\":\"y6\",\"domain\":[0.7,1.0]},\"yaxis6\":{\"anchor\":\"x6\",\"domain\":[0.0,0.45]},\"annotations\":[{\"font\":{\"size\":16},\"showarrow\":false,\"text\":\"\\\"\\u0417\\u0438\\u043c\\u0430\\\"\",\"x\":0.15,\"xanchor\":\"center\",\"xref\":\"paper\",\"y\":1.0,\"yanchor\":\"bottom\",\"yref\":\"paper\"},{\"font\":{\"size\":16},\"showarrow\":false,\"text\":\"\\\"\\u0412\\u0435\\u0441\\u043d\\u0430\\\"\",\"x\":0.49999999999999994,\"xanchor\":\"center\",\"xref\":\"paper\",\"y\":1.0,\"yanchor\":\"bottom\",\"yref\":\"paper\"},{\"font\":{\"size\":16},\"showarrow\":false,\"text\":\"\\\"\\u041b\\u0435\\u0442\\u043e\\\"\",\"x\":0.85,\"xanchor\":\"center\",\"xref\":\"paper\",\"y\":1.0,\"yanchor\":\"bottom\",\"yref\":\"paper\"}],\"height\":800},                        {\"responsive\": true}                    ).then(function(){\n",
       "                            \n",
       "var gd = document.getElementById('02beef74-9c63-48c3-ad92-7fcea89130eb');\n",
       "var x = new MutationObserver(function (mutations, observer) {{\n",
       "        var display = window.getComputedStyle(gd).display;\n",
       "        if (!display || display === 'none') {{\n",
       "            console.log([gd, 'removed!']);\n",
       "            Plotly.purge(gd);\n",
       "            observer.disconnect();\n",
       "        }}\n",
       "}});\n",
       "\n",
       "// Listen for the removal of the full notebook cells\n",
       "var notebookContainer = gd.closest('#notebook-container');\n",
       "if (notebookContainer) {{\n",
       "    x.observe(notebookContainer, {childList: true});\n",
       "}}\n",
       "\n",
       "// Listen for the clearing of the current output cell\n",
       "var outputEl = gd.closest('.output');\n",
       "if (outputEl) {{\n",
       "    x.observe(outputEl, {childList: true});\n",
       "}}\n",
       "\n",
       "                        })                };                });            </script>        </div>"
      ]
     },
     "metadata": {},
     "output_type": "display_data"
    }
   ],
   "source": [
    "draw_distribution((winter_sample, \n",
    "                   spring_sample, \n",
    "                   summer_sample), \n",
    "                  ('\"Зима\"', \n",
    "                   '\"Весна\"', \n",
    "                   '\"Лето\"')\n",
    ")"
   ]
  },
  {
   "cell_type": "markdown",
   "metadata": {},
   "source": [
    "*Много выбросов, будем использовать непараметрический тест Манна-Уитни.*"
   ]
  },
  {
   "cell_type": "markdown",
   "metadata": {},
   "source": [
    "**Для начала сравним выборки winter и spring:**"
   ]
  },
  {
   "cell_type": "code",
   "execution_count": 87,
   "metadata": {},
   "outputs": [
    {
     "name": "stdout",
     "output_type": "stream",
     "text": [
      "p-значение: 0.6677191854511851\n",
      "Не получилось отвергнуть нулевую гипотезу\n"
     ]
    }
   ],
   "source": [
    "mannwhitneyu(winter_sample, spring_sample)"
   ]
  },
  {
   "cell_type": "markdown",
   "metadata": {},
   "source": [
    "**Теперь выборки winter и summer:**"
   ]
  },
  {
   "cell_type": "code",
   "execution_count": 88,
   "metadata": {},
   "outputs": [
    {
     "name": "stdout",
     "output_type": "stream",
     "text": [
      "p-значение: 0.6483843232002131\n",
      "Не получилось отвергнуть нулевую гипотезу\n"
     ]
    }
   ],
   "source": [
    "mannwhitneyu(winter_sample, summer_sample)"
   ]
  },
  {
   "cell_type": "markdown",
   "metadata": {},
   "source": [
    "**Теперь выборки spring и summer:**"
   ]
  },
  {
   "cell_type": "code",
   "execution_count": 89,
   "metadata": {},
   "outputs": [
    {
     "name": "stdout",
     "output_type": "stream",
     "text": [
      "p-значение: 0.441026550690205\n",
      "Не получилось отвергнуть нулевую гипотезу\n"
     ]
    }
   ],
   "source": [
    "mannwhitneyu(spring_sample, summer_sample)"
   ]
  },
  {
   "cell_type": "markdown",
   "metadata": {},
   "source": [
    "*После проведения тестов не получилось отвергнуть нулевую гипотезу, разницы в среднем чеке по сезонам нет.*"
   ]
  },
  {
   "cell_type": "markdown",
   "metadata": {},
   "source": [
    "### Вывод\n",
    "\n",
    "**Были проверены следующие статистические гипотезы:**\n",
    "\n",
    "- Средний чек по будням такой же, как и по выходным;\n",
    "- Средний чек днем такой же, как и ночью;\n",
    "- Средний чек в разные сезоны не отличается. Мы располагаем данными с 1 октября 2018 по 31 октября 2019, поэтому для проверки будут взяты только данные с 1 декабря 2018 по 31 августа 2019 (зима, весна, лето);\n",
    "\n",
    "**Для всех гипотез был взят критический уровень статистической значимости в 5%. Все тесты показали, что нулевая гипотеза верна, т.к. было множественное сравнение и если бы хоть одна гипотеза показала статистически значимый результат, необходимо было бы применить поправку Бонферрони, в таком случае критический уровень статистической значимости составил бы 1%.**"
   ]
  },
  {
   "cell_type": "markdown",
   "metadata": {},
   "source": [
    "## Расчет бизнес-показателей"
   ]
  },
  {
   "cell_type": "markdown",
   "metadata": {},
   "source": [
    "**Для расчета бизнес-показателей выберем следующие метрики:**\n",
    "- DAU (по месяцам)\n",
    "- WAU (по месяцам)\n",
    "- MAU (по месяцам)\n",
    "- AOV - средний чек (по месяцам)"
   ]
  },
  {
   "cell_type": "code",
   "execution_count": 90,
   "metadata": {},
   "outputs": [],
   "source": [
    "DAU = (df\n",
    "        .groupby(['month', 'dt'])\n",
    "        .agg({'customer_id': 'nunique'})\n",
    "        .groupby('month')['customer_id']\n",
    "        .mean()\n",
    "        .reset_index()\n",
    "        .rename(columns={'customer_id': 'DAU'})\n",
    ")"
   ]
  },
  {
   "cell_type": "code",
   "execution_count": 91,
   "metadata": {},
   "outputs": [],
   "source": [
    "WAU = (df\n",
    "        .groupby(['month', 'week'])\n",
    "        .agg({'customer_id': 'nunique'})\n",
    "        .groupby('month')['customer_id']\n",
    "        .mean()\n",
    "        .reset_index()\n",
    "        .rename(columns={'customer_id': 'WAU'})\n",
    ")"
   ]
  },
  {
   "cell_type": "code",
   "execution_count": 92,
   "metadata": {},
   "outputs": [],
   "source": [
    "MAU = (df\n",
    "        .groupby('month')\n",
    "        .agg({'customer_id': 'nunique'})\n",
    "        .reset_index()\n",
    "        .rename(columns={'customer_id': 'MAU'})\n",
    ")"
   ]
  },
  {
   "cell_type": "code",
   "execution_count": 93,
   "metadata": {},
   "outputs": [],
   "source": [
    "AOV = avg_revenue_pivot_by_month.rename(columns={'revenue': 'AOV'})"
   ]
  },
  {
   "cell_type": "code",
   "execution_count": 94,
   "metadata": {},
   "outputs": [],
   "source": [
    "kpi = DAU.merge(WAU).merge(MAU).merge(AOV)"
   ]
  },
  {
   "cell_type": "code",
   "execution_count": 95,
   "metadata": {},
   "outputs": [],
   "source": [
    "kpi_params = {\n",
    "    'data1': {'df': kpi, 'name': 'DAU', 'x': 'month', 'y': 'DAU', 'hoverinfo': 'y', 'row': 1, 'col': 1},\n",
    "    'data2': {'df': kpi, 'name': 'WAU', 'x': 'month', 'y': 'WAU', 'hoverinfo': 'y', 'row': 1, 'col': 2},\n",
    "    'data3': {'df': kpi, 'name': 'MAU', 'x': 'month', 'y': 'MAU', 'hoverinfo': 'y', 'row': 2, 'col': 1},\n",
    "    'data4': {'df': kpi, 'name': 'AOV', 'x': 'month', 'y': 'AOV', 'hoverinfo': 'y', 'row': 2, 'col': 2},\n",
    "}"
   ]
  },
  {
   "cell_type": "code",
   "execution_count": 96,
   "metadata": {},
   "outputs": [
    {
     "data": {
      "application/vnd.plotly.v1+json": {
       "config": {
        "plotlyServerURL": "https://plot.ly"
       },
       "data": [
        {
         "hoverinfo": "y",
         "name": "DAU",
         "type": "bar",
         "x": [
          "2018-10-01T00:00:00",
          "2018-11-01T00:00:00",
          "2018-12-01T00:00:00",
          "2019-01-01T00:00:00",
          "2019-02-01T00:00:00",
          "2019-03-01T00:00:00",
          "2019-04-01T00:00:00",
          "2019-05-01T00:00:00",
          "2019-06-01T00:00:00",
          "2019-07-01T00:00:00",
          "2019-08-01T00:00:00",
          "2019-09-01T00:00:00",
          "2019-10-01T00:00:00"
         ],
         "xaxis": "x",
         "y": [
          6.806451612903226,
          6.266666666666667,
          8.3,
          5.3,
          9.892857142857142,
          7.741935483870968,
          8.366666666666667,
          5.67741935483871,
          5.482758620689655,
          6.096774193548387,
          5.483870967741935,
          5.766666666666667,
          5.903225806451613
         ],
         "yaxis": "y"
        },
        {
         "hoverinfo": "y",
         "name": "WAU",
         "type": "bar",
         "x": [
          "2018-10-01T00:00:00",
          "2018-11-01T00:00:00",
          "2018-12-01T00:00:00",
          "2019-01-01T00:00:00",
          "2019-02-01T00:00:00",
          "2019-03-01T00:00:00",
          "2019-04-01T00:00:00",
          "2019-05-01T00:00:00",
          "2019-06-01T00:00:00",
          "2019-07-01T00:00:00",
          "2019-08-01T00:00:00",
          "2019-09-01T00:00:00",
          "2019-10-01T00:00:00"
         ],
         "xaxis": "x2",
         "y": [
          37.8,
          36.6,
          47,
          31.2,
          51.8,
          47.4,
          48.6,
          33.6,
          31.2,
          37.6,
          33.6,
          28.5,
          34.8
         ],
         "yaxis": "y2"
        },
        {
         "hoverinfo": "y",
         "name": "MAU",
         "type": "bar",
         "x": [
          "2018-10-01T00:00:00",
          "2018-11-01T00:00:00",
          "2018-12-01T00:00:00",
          "2019-01-01T00:00:00",
          "2019-02-01T00:00:00",
          "2019-03-01T00:00:00",
          "2019-04-01T00:00:00",
          "2019-05-01T00:00:00",
          "2019-06-01T00:00:00",
          "2019-07-01T00:00:00",
          "2019-08-01T00:00:00",
          "2019-09-01T00:00:00",
          "2019-10-01T00:00:00"
         ],
         "xaxis": "x3",
         "y": [
          177,
          178,
          229,
          151,
          247,
          233,
          236,
          165,
          153,
          185,
          166,
          171,
          168
         ],
         "yaxis": "y3"
        },
        {
         "hoverinfo": "y",
         "name": "AOV",
         "type": "bar",
         "x": [
          "2018-10-01T00:00:00",
          "2018-11-01T00:00:00",
          "2018-12-01T00:00:00",
          "2019-01-01T00:00:00",
          "2019-02-01T00:00:00",
          "2019-03-01T00:00:00",
          "2019-04-01T00:00:00",
          "2019-05-01T00:00:00",
          "2019-06-01T00:00:00",
          "2019-07-01T00:00:00",
          "2019-08-01T00:00:00",
          "2019-09-01T00:00:00",
          "2019-10-01T00:00:00"
         ],
         "xaxis": "x4",
         "y": [
          998.3868198884969,
          1304.2068402450107,
          1182.3022581934451,
          1341.2353293413173,
          1016.6547701433515,
          931.4948139691614,
          957.47484918908,
          830.1676189983876,
          1264.8196756261862,
          1064.920922816608,
          1003.9357142857143,
          935.8931514178705,
          999.050902425268
         ],
         "yaxis": "y4"
        }
       ],
       "layout": {
        "height": 800,
        "template": {
         "data": {
          "bar": [
           {
            "error_x": {
             "color": "rgb(36,36,36)"
            },
            "error_y": {
             "color": "rgb(36,36,36)"
            },
            "marker": {
             "line": {
              "color": "rgb(234,234,242)",
              "width": 0.5
             },
             "pattern": {
              "fillmode": "overlay",
              "size": 10,
              "solidity": 0.2
             }
            },
            "type": "bar"
           }
          ],
          "barpolar": [
           {
            "marker": {
             "line": {
              "color": "rgb(234,234,242)",
              "width": 0.5
             },
             "pattern": {
              "fillmode": "overlay",
              "size": 10,
              "solidity": 0.2
             }
            },
            "type": "barpolar"
           }
          ],
          "carpet": [
           {
            "aaxis": {
             "endlinecolor": "rgb(36,36,36)",
             "gridcolor": "white",
             "linecolor": "white",
             "minorgridcolor": "white",
             "startlinecolor": "rgb(36,36,36)"
            },
            "baxis": {
             "endlinecolor": "rgb(36,36,36)",
             "gridcolor": "white",
             "linecolor": "white",
             "minorgridcolor": "white",
             "startlinecolor": "rgb(36,36,36)"
            },
            "type": "carpet"
           }
          ],
          "choropleth": [
           {
            "colorbar": {
             "outlinewidth": 0,
             "tickcolor": "rgb(36,36,36)",
             "ticklen": 8,
             "ticks": "outside",
             "tickwidth": 2
            },
            "type": "choropleth"
           }
          ],
          "contour": [
           {
            "colorbar": {
             "outlinewidth": 0,
             "tickcolor": "rgb(36,36,36)",
             "ticklen": 8,
             "ticks": "outside",
             "tickwidth": 2
            },
            "colorscale": [
             [
              0,
              "rgb(2,4,25)"
             ],
             [
              0.06274509803921569,
              "rgb(24,15,41)"
             ],
             [
              0.12549019607843137,
              "rgb(47,23,57)"
             ],
             [
              0.18823529411764706,
              "rgb(71,28,72)"
             ],
             [
              0.25098039215686274,
              "rgb(97,30,82)"
             ],
             [
              0.3137254901960784,
              "rgb(123,30,89)"
             ],
             [
              0.3764705882352941,
              "rgb(150,27,91)"
             ],
             [
              0.4392156862745098,
              "rgb(177,22,88)"
             ],
             [
              0.5019607843137255,
              "rgb(203,26,79)"
             ],
             [
              0.5647058823529412,
              "rgb(223,47,67)"
             ],
             [
              0.6274509803921569,
              "rgb(236,76,61)"
             ],
             [
              0.6901960784313725,
              "rgb(242,107,73)"
             ],
             [
              0.7529411764705882,
              "rgb(244,135,95)"
             ],
             [
              0.8156862745098039,
              "rgb(245,162,122)"
             ],
             [
              0.8784313725490196,
              "rgb(246,188,153)"
             ],
             [
              0.9411764705882353,
              "rgb(247,212,187)"
             ],
             [
              1,
              "rgb(250,234,220)"
             ]
            ],
            "type": "contour"
           }
          ],
          "contourcarpet": [
           {
            "colorbar": {
             "outlinewidth": 0,
             "tickcolor": "rgb(36,36,36)",
             "ticklen": 8,
             "ticks": "outside",
             "tickwidth": 2
            },
            "type": "contourcarpet"
           }
          ],
          "heatmap": [
           {
            "colorbar": {
             "outlinewidth": 0,
             "tickcolor": "rgb(36,36,36)",
             "ticklen": 8,
             "ticks": "outside",
             "tickwidth": 2
            },
            "colorscale": [
             [
              0,
              "rgb(2,4,25)"
             ],
             [
              0.06274509803921569,
              "rgb(24,15,41)"
             ],
             [
              0.12549019607843137,
              "rgb(47,23,57)"
             ],
             [
              0.18823529411764706,
              "rgb(71,28,72)"
             ],
             [
              0.25098039215686274,
              "rgb(97,30,82)"
             ],
             [
              0.3137254901960784,
              "rgb(123,30,89)"
             ],
             [
              0.3764705882352941,
              "rgb(150,27,91)"
             ],
             [
              0.4392156862745098,
              "rgb(177,22,88)"
             ],
             [
              0.5019607843137255,
              "rgb(203,26,79)"
             ],
             [
              0.5647058823529412,
              "rgb(223,47,67)"
             ],
             [
              0.6274509803921569,
              "rgb(236,76,61)"
             ],
             [
              0.6901960784313725,
              "rgb(242,107,73)"
             ],
             [
              0.7529411764705882,
              "rgb(244,135,95)"
             ],
             [
              0.8156862745098039,
              "rgb(245,162,122)"
             ],
             [
              0.8784313725490196,
              "rgb(246,188,153)"
             ],
             [
              0.9411764705882353,
              "rgb(247,212,187)"
             ],
             [
              1,
              "rgb(250,234,220)"
             ]
            ],
            "type": "heatmap"
           }
          ],
          "heatmapgl": [
           {
            "colorbar": {
             "outlinewidth": 0,
             "tickcolor": "rgb(36,36,36)",
             "ticklen": 8,
             "ticks": "outside",
             "tickwidth": 2
            },
            "colorscale": [
             [
              0,
              "rgb(2,4,25)"
             ],
             [
              0.06274509803921569,
              "rgb(24,15,41)"
             ],
             [
              0.12549019607843137,
              "rgb(47,23,57)"
             ],
             [
              0.18823529411764706,
              "rgb(71,28,72)"
             ],
             [
              0.25098039215686274,
              "rgb(97,30,82)"
             ],
             [
              0.3137254901960784,
              "rgb(123,30,89)"
             ],
             [
              0.3764705882352941,
              "rgb(150,27,91)"
             ],
             [
              0.4392156862745098,
              "rgb(177,22,88)"
             ],
             [
              0.5019607843137255,
              "rgb(203,26,79)"
             ],
             [
              0.5647058823529412,
              "rgb(223,47,67)"
             ],
             [
              0.6274509803921569,
              "rgb(236,76,61)"
             ],
             [
              0.6901960784313725,
              "rgb(242,107,73)"
             ],
             [
              0.7529411764705882,
              "rgb(244,135,95)"
             ],
             [
              0.8156862745098039,
              "rgb(245,162,122)"
             ],
             [
              0.8784313725490196,
              "rgb(246,188,153)"
             ],
             [
              0.9411764705882353,
              "rgb(247,212,187)"
             ],
             [
              1,
              "rgb(250,234,220)"
             ]
            ],
            "type": "heatmapgl"
           }
          ],
          "histogram": [
           {
            "marker": {
             "pattern": {
              "fillmode": "overlay",
              "size": 10,
              "solidity": 0.2
             }
            },
            "type": "histogram"
           }
          ],
          "histogram2d": [
           {
            "colorbar": {
             "outlinewidth": 0,
             "tickcolor": "rgb(36,36,36)",
             "ticklen": 8,
             "ticks": "outside",
             "tickwidth": 2
            },
            "colorscale": [
             [
              0,
              "rgb(2,4,25)"
             ],
             [
              0.06274509803921569,
              "rgb(24,15,41)"
             ],
             [
              0.12549019607843137,
              "rgb(47,23,57)"
             ],
             [
              0.18823529411764706,
              "rgb(71,28,72)"
             ],
             [
              0.25098039215686274,
              "rgb(97,30,82)"
             ],
             [
              0.3137254901960784,
              "rgb(123,30,89)"
             ],
             [
              0.3764705882352941,
              "rgb(150,27,91)"
             ],
             [
              0.4392156862745098,
              "rgb(177,22,88)"
             ],
             [
              0.5019607843137255,
              "rgb(203,26,79)"
             ],
             [
              0.5647058823529412,
              "rgb(223,47,67)"
             ],
             [
              0.6274509803921569,
              "rgb(236,76,61)"
             ],
             [
              0.6901960784313725,
              "rgb(242,107,73)"
             ],
             [
              0.7529411764705882,
              "rgb(244,135,95)"
             ],
             [
              0.8156862745098039,
              "rgb(245,162,122)"
             ],
             [
              0.8784313725490196,
              "rgb(246,188,153)"
             ],
             [
              0.9411764705882353,
              "rgb(247,212,187)"
             ],
             [
              1,
              "rgb(250,234,220)"
             ]
            ],
            "type": "histogram2d"
           }
          ],
          "histogram2dcontour": [
           {
            "colorbar": {
             "outlinewidth": 0,
             "tickcolor": "rgb(36,36,36)",
             "ticklen": 8,
             "ticks": "outside",
             "tickwidth": 2
            },
            "colorscale": [
             [
              0,
              "rgb(2,4,25)"
             ],
             [
              0.06274509803921569,
              "rgb(24,15,41)"
             ],
             [
              0.12549019607843137,
              "rgb(47,23,57)"
             ],
             [
              0.18823529411764706,
              "rgb(71,28,72)"
             ],
             [
              0.25098039215686274,
              "rgb(97,30,82)"
             ],
             [
              0.3137254901960784,
              "rgb(123,30,89)"
             ],
             [
              0.3764705882352941,
              "rgb(150,27,91)"
             ],
             [
              0.4392156862745098,
              "rgb(177,22,88)"
             ],
             [
              0.5019607843137255,
              "rgb(203,26,79)"
             ],
             [
              0.5647058823529412,
              "rgb(223,47,67)"
             ],
             [
              0.6274509803921569,
              "rgb(236,76,61)"
             ],
             [
              0.6901960784313725,
              "rgb(242,107,73)"
             ],
             [
              0.7529411764705882,
              "rgb(244,135,95)"
             ],
             [
              0.8156862745098039,
              "rgb(245,162,122)"
             ],
             [
              0.8784313725490196,
              "rgb(246,188,153)"
             ],
             [
              0.9411764705882353,
              "rgb(247,212,187)"
             ],
             [
              1,
              "rgb(250,234,220)"
             ]
            ],
            "type": "histogram2dcontour"
           }
          ],
          "mesh3d": [
           {
            "colorbar": {
             "outlinewidth": 0,
             "tickcolor": "rgb(36,36,36)",
             "ticklen": 8,
             "ticks": "outside",
             "tickwidth": 2
            },
            "type": "mesh3d"
           }
          ],
          "parcoords": [
           {
            "line": {
             "colorbar": {
              "outlinewidth": 0,
              "tickcolor": "rgb(36,36,36)",
              "ticklen": 8,
              "ticks": "outside",
              "tickwidth": 2
             }
            },
            "type": "parcoords"
           }
          ],
          "pie": [
           {
            "automargin": true,
            "type": "pie"
           }
          ],
          "scatter": [
           {
            "fillpattern": {
             "fillmode": "overlay",
             "size": 10,
             "solidity": 0.2
            },
            "type": "scatter"
           }
          ],
          "scatter3d": [
           {
            "line": {
             "colorbar": {
              "outlinewidth": 0,
              "tickcolor": "rgb(36,36,36)",
              "ticklen": 8,
              "ticks": "outside",
              "tickwidth": 2
             }
            },
            "marker": {
             "colorbar": {
              "outlinewidth": 0,
              "tickcolor": "rgb(36,36,36)",
              "ticklen": 8,
              "ticks": "outside",
              "tickwidth": 2
             }
            },
            "type": "scatter3d"
           }
          ],
          "scattercarpet": [
           {
            "marker": {
             "colorbar": {
              "outlinewidth": 0,
              "tickcolor": "rgb(36,36,36)",
              "ticklen": 8,
              "ticks": "outside",
              "tickwidth": 2
             }
            },
            "type": "scattercarpet"
           }
          ],
          "scattergeo": [
           {
            "marker": {
             "colorbar": {
              "outlinewidth": 0,
              "tickcolor": "rgb(36,36,36)",
              "ticklen": 8,
              "ticks": "outside",
              "tickwidth": 2
             }
            },
            "type": "scattergeo"
           }
          ],
          "scattergl": [
           {
            "marker": {
             "colorbar": {
              "outlinewidth": 0,
              "tickcolor": "rgb(36,36,36)",
              "ticklen": 8,
              "ticks": "outside",
              "tickwidth": 2
             }
            },
            "type": "scattergl"
           }
          ],
          "scattermapbox": [
           {
            "marker": {
             "colorbar": {
              "outlinewidth": 0,
              "tickcolor": "rgb(36,36,36)",
              "ticklen": 8,
              "ticks": "outside",
              "tickwidth": 2
             }
            },
            "type": "scattermapbox"
           }
          ],
          "scatterpolar": [
           {
            "marker": {
             "colorbar": {
              "outlinewidth": 0,
              "tickcolor": "rgb(36,36,36)",
              "ticklen": 8,
              "ticks": "outside",
              "tickwidth": 2
             }
            },
            "type": "scatterpolar"
           }
          ],
          "scatterpolargl": [
           {
            "marker": {
             "colorbar": {
              "outlinewidth": 0,
              "tickcolor": "rgb(36,36,36)",
              "ticklen": 8,
              "ticks": "outside",
              "tickwidth": 2
             }
            },
            "type": "scatterpolargl"
           }
          ],
          "scatterternary": [
           {
            "marker": {
             "colorbar": {
              "outlinewidth": 0,
              "tickcolor": "rgb(36,36,36)",
              "ticklen": 8,
              "ticks": "outside",
              "tickwidth": 2
             }
            },
            "type": "scatterternary"
           }
          ],
          "surface": [
           {
            "colorbar": {
             "outlinewidth": 0,
             "tickcolor": "rgb(36,36,36)",
             "ticklen": 8,
             "ticks": "outside",
             "tickwidth": 2
            },
            "colorscale": [
             [
              0,
              "rgb(2,4,25)"
             ],
             [
              0.06274509803921569,
              "rgb(24,15,41)"
             ],
             [
              0.12549019607843137,
              "rgb(47,23,57)"
             ],
             [
              0.18823529411764706,
              "rgb(71,28,72)"
             ],
             [
              0.25098039215686274,
              "rgb(97,30,82)"
             ],
             [
              0.3137254901960784,
              "rgb(123,30,89)"
             ],
             [
              0.3764705882352941,
              "rgb(150,27,91)"
             ],
             [
              0.4392156862745098,
              "rgb(177,22,88)"
             ],
             [
              0.5019607843137255,
              "rgb(203,26,79)"
             ],
             [
              0.5647058823529412,
              "rgb(223,47,67)"
             ],
             [
              0.6274509803921569,
              "rgb(236,76,61)"
             ],
             [
              0.6901960784313725,
              "rgb(242,107,73)"
             ],
             [
              0.7529411764705882,
              "rgb(244,135,95)"
             ],
             [
              0.8156862745098039,
              "rgb(245,162,122)"
             ],
             [
              0.8784313725490196,
              "rgb(246,188,153)"
             ],
             [
              0.9411764705882353,
              "rgb(247,212,187)"
             ],
             [
              1,
              "rgb(250,234,220)"
             ]
            ],
            "type": "surface"
           }
          ],
          "table": [
           {
            "cells": {
             "fill": {
              "color": "rgb(231,231,240)"
             },
             "line": {
              "color": "white"
             }
            },
            "header": {
             "fill": {
              "color": "rgb(183,183,191)"
             },
             "line": {
              "color": "white"
             }
            },
            "type": "table"
           }
          ]
         },
         "layout": {
          "annotationdefaults": {
           "arrowcolor": "rgb(67,103,167)"
          },
          "autotypenumbers": "strict",
          "coloraxis": {
           "colorbar": {
            "outlinewidth": 0,
            "tickcolor": "rgb(36,36,36)",
            "ticklen": 8,
            "ticks": "outside",
            "tickwidth": 2
           }
          },
          "colorscale": {
           "sequential": [
            [
             0,
             "rgb(2,4,25)"
            ],
            [
             0.06274509803921569,
             "rgb(24,15,41)"
            ],
            [
             0.12549019607843137,
             "rgb(47,23,57)"
            ],
            [
             0.18823529411764706,
             "rgb(71,28,72)"
            ],
            [
             0.25098039215686274,
             "rgb(97,30,82)"
            ],
            [
             0.3137254901960784,
             "rgb(123,30,89)"
            ],
            [
             0.3764705882352941,
             "rgb(150,27,91)"
            ],
            [
             0.4392156862745098,
             "rgb(177,22,88)"
            ],
            [
             0.5019607843137255,
             "rgb(203,26,79)"
            ],
            [
             0.5647058823529412,
             "rgb(223,47,67)"
            ],
            [
             0.6274509803921569,
             "rgb(236,76,61)"
            ],
            [
             0.6901960784313725,
             "rgb(242,107,73)"
            ],
            [
             0.7529411764705882,
             "rgb(244,135,95)"
            ],
            [
             0.8156862745098039,
             "rgb(245,162,122)"
            ],
            [
             0.8784313725490196,
             "rgb(246,188,153)"
            ],
            [
             0.9411764705882353,
             "rgb(247,212,187)"
            ],
            [
             1,
             "rgb(250,234,220)"
            ]
           ],
           "sequentialminus": [
            [
             0,
             "rgb(2,4,25)"
            ],
            [
             0.06274509803921569,
             "rgb(24,15,41)"
            ],
            [
             0.12549019607843137,
             "rgb(47,23,57)"
            ],
            [
             0.18823529411764706,
             "rgb(71,28,72)"
            ],
            [
             0.25098039215686274,
             "rgb(97,30,82)"
            ],
            [
             0.3137254901960784,
             "rgb(123,30,89)"
            ],
            [
             0.3764705882352941,
             "rgb(150,27,91)"
            ],
            [
             0.4392156862745098,
             "rgb(177,22,88)"
            ],
            [
             0.5019607843137255,
             "rgb(203,26,79)"
            ],
            [
             0.5647058823529412,
             "rgb(223,47,67)"
            ],
            [
             0.6274509803921569,
             "rgb(236,76,61)"
            ],
            [
             0.6901960784313725,
             "rgb(242,107,73)"
            ],
            [
             0.7529411764705882,
             "rgb(244,135,95)"
            ],
            [
             0.8156862745098039,
             "rgb(245,162,122)"
            ],
            [
             0.8784313725490196,
             "rgb(246,188,153)"
            ],
            [
             0.9411764705882353,
             "rgb(247,212,187)"
            ],
            [
             1,
             "rgb(250,234,220)"
            ]
           ]
          },
          "colorway": [
           "rgb(76,114,176)",
           "rgb(221,132,82)",
           "rgb(85,168,104)",
           "rgb(196,78,82)",
           "rgb(129,114,179)",
           "rgb(147,120,96)",
           "rgb(218,139,195)",
           "rgb(140,140,140)",
           "rgb(204,185,116)",
           "rgb(100,181,205)"
          ],
          "font": {
           "color": "rgb(36,36,36)"
          },
          "geo": {
           "bgcolor": "white",
           "lakecolor": "white",
           "landcolor": "rgb(234,234,242)",
           "showlakes": true,
           "showland": true,
           "subunitcolor": "white"
          },
          "hoverlabel": {
           "align": "left"
          },
          "hovermode": "closest",
          "paper_bgcolor": "white",
          "plot_bgcolor": "rgb(234,234,242)",
          "polar": {
           "angularaxis": {
            "gridcolor": "white",
            "linecolor": "white",
            "showgrid": true,
            "ticks": ""
           },
           "bgcolor": "rgb(234,234,242)",
           "radialaxis": {
            "gridcolor": "white",
            "linecolor": "white",
            "showgrid": true,
            "ticks": ""
           }
          },
          "scene": {
           "xaxis": {
            "backgroundcolor": "rgb(234,234,242)",
            "gridcolor": "white",
            "gridwidth": 2,
            "linecolor": "white",
            "showbackground": true,
            "showgrid": true,
            "ticks": "",
            "zerolinecolor": "white"
           },
           "yaxis": {
            "backgroundcolor": "rgb(234,234,242)",
            "gridcolor": "white",
            "gridwidth": 2,
            "linecolor": "white",
            "showbackground": true,
            "showgrid": true,
            "ticks": "",
            "zerolinecolor": "white"
           },
           "zaxis": {
            "backgroundcolor": "rgb(234,234,242)",
            "gridcolor": "white",
            "gridwidth": 2,
            "linecolor": "white",
            "showbackground": true,
            "showgrid": true,
            "ticks": "",
            "zerolinecolor": "white"
           }
          },
          "shapedefaults": {
           "fillcolor": "rgb(67,103,167)",
           "line": {
            "width": 0
           },
           "opacity": 0.5
          },
          "ternary": {
           "aaxis": {
            "gridcolor": "white",
            "linecolor": "white",
            "showgrid": true,
            "ticks": ""
           },
           "baxis": {
            "gridcolor": "white",
            "linecolor": "white",
            "showgrid": true,
            "ticks": ""
           },
           "bgcolor": "rgb(234,234,242)",
           "caxis": {
            "gridcolor": "white",
            "linecolor": "white",
            "showgrid": true,
            "ticks": ""
           }
          },
          "xaxis": {
           "automargin": true,
           "gridcolor": "white",
           "linecolor": "white",
           "showgrid": true,
           "ticks": "",
           "title": {
            "standoff": 15
           },
           "zerolinecolor": "white"
          },
          "yaxis": {
           "automargin": true,
           "gridcolor": "white",
           "linecolor": "white",
           "showgrid": true,
           "ticks": "",
           "title": {
            "standoff": 15
           },
           "zerolinecolor": "white"
          }
         }
        },
        "title": {
         "text": "KPI интернет-магазина"
        },
        "xaxis": {
         "anchor": "y",
         "domain": [
          0,
          0.475
         ],
         "showgrid": false,
         "tickangle": 45,
         "tickvals": [
          "2018-10-01T00:00:00",
          "2018-11-01T00:00:00",
          "2018-12-01T00:00:00",
          "2019-01-01T00:00:00",
          "2019-02-01T00:00:00",
          "2019-03-01T00:00:00",
          "2019-04-01T00:00:00",
          "2019-05-01T00:00:00",
          "2019-06-01T00:00:00",
          "2019-07-01T00:00:00",
          "2019-08-01T00:00:00",
          "2019-09-01T00:00:00",
          "2019-10-01T00:00:00"
         ]
        },
        "xaxis2": {
         "anchor": "y2",
         "domain": [
          0.525,
          1
         ],
         "showgrid": false,
         "tickangle": 45,
         "tickvals": [
          "2018-10-01T00:00:00",
          "2018-11-01T00:00:00",
          "2018-12-01T00:00:00",
          "2019-01-01T00:00:00",
          "2019-02-01T00:00:00",
          "2019-03-01T00:00:00",
          "2019-04-01T00:00:00",
          "2019-05-01T00:00:00",
          "2019-06-01T00:00:00",
          "2019-07-01T00:00:00",
          "2019-08-01T00:00:00",
          "2019-09-01T00:00:00",
          "2019-10-01T00:00:00"
         ]
        },
        "xaxis3": {
         "anchor": "y3",
         "domain": [
          0,
          0.475
         ],
         "showgrid": false,
         "tickangle": 45,
         "tickvals": [
          "2018-10-01T00:00:00",
          "2018-11-01T00:00:00",
          "2018-12-01T00:00:00",
          "2019-01-01T00:00:00",
          "2019-02-01T00:00:00",
          "2019-03-01T00:00:00",
          "2019-04-01T00:00:00",
          "2019-05-01T00:00:00",
          "2019-06-01T00:00:00",
          "2019-07-01T00:00:00",
          "2019-08-01T00:00:00",
          "2019-09-01T00:00:00",
          "2019-10-01T00:00:00"
         ]
        },
        "xaxis4": {
         "anchor": "y4",
         "domain": [
          0.525,
          1
         ],
         "showgrid": false,
         "tickangle": 45,
         "tickvals": [
          "2018-10-01T00:00:00",
          "2018-11-01T00:00:00",
          "2018-12-01T00:00:00",
          "2019-01-01T00:00:00",
          "2019-02-01T00:00:00",
          "2019-03-01T00:00:00",
          "2019-04-01T00:00:00",
          "2019-05-01T00:00:00",
          "2019-06-01T00:00:00",
          "2019-07-01T00:00:00",
          "2019-08-01T00:00:00",
          "2019-09-01T00:00:00",
          "2019-10-01T00:00:00"
         ]
        },
        "yaxis": {
         "anchor": "x",
         "domain": [
          0.575,
          1
         ]
        },
        "yaxis2": {
         "anchor": "x2",
         "domain": [
          0.575,
          1
         ]
        },
        "yaxis3": {
         "anchor": "x3",
         "domain": [
          0,
          0.425
         ]
        },
        "yaxis4": {
         "anchor": "x4",
         "domain": [
          0,
          0.425
         ]
        }
       }
      },
      "text/html": [
       "<div>                            <div id=\"7a836244-2822-4552-93c6-40d0b84a5073\" class=\"plotly-graph-div\" style=\"height:800px; width:100%;\"></div>            <script type=\"text/javascript\">                require([\"plotly\"], function(Plotly) {                    window.PLOTLYENV=window.PLOTLYENV || {};                                    if (document.getElementById(\"7a836244-2822-4552-93c6-40d0b84a5073\")) {                    Plotly.newPlot(                        \"7a836244-2822-4552-93c6-40d0b84a5073\",                        [{\"hoverinfo\":\"y\",\"name\":\"DAU\",\"x\":[\"2018-10-01T00:00:00\",\"2018-11-01T00:00:00\",\"2018-12-01T00:00:00\",\"2019-01-01T00:00:00\",\"2019-02-01T00:00:00\",\"2019-03-01T00:00:00\",\"2019-04-01T00:00:00\",\"2019-05-01T00:00:00\",\"2019-06-01T00:00:00\",\"2019-07-01T00:00:00\",\"2019-08-01T00:00:00\",\"2019-09-01T00:00:00\",\"2019-10-01T00:00:00\"],\"y\":[6.806451612903226,6.266666666666667,8.3,5.3,9.892857142857142,7.741935483870968,8.366666666666667,5.67741935483871,5.482758620689655,6.096774193548387,5.483870967741935,5.766666666666667,5.903225806451613],\"type\":\"bar\",\"xaxis\":\"x\",\"yaxis\":\"y\"},{\"hoverinfo\":\"y\",\"name\":\"WAU\",\"x\":[\"2018-10-01T00:00:00\",\"2018-11-01T00:00:00\",\"2018-12-01T00:00:00\",\"2019-01-01T00:00:00\",\"2019-02-01T00:00:00\",\"2019-03-01T00:00:00\",\"2019-04-01T00:00:00\",\"2019-05-01T00:00:00\",\"2019-06-01T00:00:00\",\"2019-07-01T00:00:00\",\"2019-08-01T00:00:00\",\"2019-09-01T00:00:00\",\"2019-10-01T00:00:00\"],\"y\":[37.8,36.6,47.0,31.2,51.8,47.4,48.6,33.6,31.2,37.6,33.6,28.5,34.8],\"type\":\"bar\",\"xaxis\":\"x2\",\"yaxis\":\"y2\"},{\"hoverinfo\":\"y\",\"name\":\"MAU\",\"x\":[\"2018-10-01T00:00:00\",\"2018-11-01T00:00:00\",\"2018-12-01T00:00:00\",\"2019-01-01T00:00:00\",\"2019-02-01T00:00:00\",\"2019-03-01T00:00:00\",\"2019-04-01T00:00:00\",\"2019-05-01T00:00:00\",\"2019-06-01T00:00:00\",\"2019-07-01T00:00:00\",\"2019-08-01T00:00:00\",\"2019-09-01T00:00:00\",\"2019-10-01T00:00:00\"],\"y\":[177,178,229,151,247,233,236,165,153,185,166,171,168],\"type\":\"bar\",\"xaxis\":\"x3\",\"yaxis\":\"y3\"},{\"hoverinfo\":\"y\",\"name\":\"AOV\",\"x\":[\"2018-10-01T00:00:00\",\"2018-11-01T00:00:00\",\"2018-12-01T00:00:00\",\"2019-01-01T00:00:00\",\"2019-02-01T00:00:00\",\"2019-03-01T00:00:00\",\"2019-04-01T00:00:00\",\"2019-05-01T00:00:00\",\"2019-06-01T00:00:00\",\"2019-07-01T00:00:00\",\"2019-08-01T00:00:00\",\"2019-09-01T00:00:00\",\"2019-10-01T00:00:00\"],\"y\":[998.3868198884969,1304.2068402450107,1182.3022581934451,1341.2353293413173,1016.6547701433515,931.4948139691614,957.47484918908,830.1676189983876,1264.8196756261862,1064.920922816608,1003.9357142857143,935.8931514178705,999.050902425268],\"type\":\"bar\",\"xaxis\":\"x4\",\"yaxis\":\"y4\"}],                        {\"template\":{\"data\":{\"histogram2dcontour\":[{\"type\":\"histogram2dcontour\",\"colorbar\":{\"outlinewidth\":0,\"tickcolor\":\"rgb(36,36,36)\",\"ticklen\":8,\"ticks\":\"outside\",\"tickwidth\":2},\"colorscale\":[[0.0,\"rgb(2,4,25)\"],[0.06274509803921569,\"rgb(24,15,41)\"],[0.12549019607843137,\"rgb(47,23,57)\"],[0.18823529411764706,\"rgb(71,28,72)\"],[0.25098039215686274,\"rgb(97,30,82)\"],[0.3137254901960784,\"rgb(123,30,89)\"],[0.3764705882352941,\"rgb(150,27,91)\"],[0.4392156862745098,\"rgb(177,22,88)\"],[0.5019607843137255,\"rgb(203,26,79)\"],[0.5647058823529412,\"rgb(223,47,67)\"],[0.6274509803921569,\"rgb(236,76,61)\"],[0.6901960784313725,\"rgb(242,107,73)\"],[0.7529411764705882,\"rgb(244,135,95)\"],[0.8156862745098039,\"rgb(245,162,122)\"],[0.8784313725490196,\"rgb(246,188,153)\"],[0.9411764705882353,\"rgb(247,212,187)\"],[1.0,\"rgb(250,234,220)\"]]}],\"choropleth\":[{\"type\":\"choropleth\",\"colorbar\":{\"outlinewidth\":0,\"tickcolor\":\"rgb(36,36,36)\",\"ticklen\":8,\"ticks\":\"outside\",\"tickwidth\":2}}],\"histogram2d\":[{\"type\":\"histogram2d\",\"colorbar\":{\"outlinewidth\":0,\"tickcolor\":\"rgb(36,36,36)\",\"ticklen\":8,\"ticks\":\"outside\",\"tickwidth\":2},\"colorscale\":[[0.0,\"rgb(2,4,25)\"],[0.06274509803921569,\"rgb(24,15,41)\"],[0.12549019607843137,\"rgb(47,23,57)\"],[0.18823529411764706,\"rgb(71,28,72)\"],[0.25098039215686274,\"rgb(97,30,82)\"],[0.3137254901960784,\"rgb(123,30,89)\"],[0.3764705882352941,\"rgb(150,27,91)\"],[0.4392156862745098,\"rgb(177,22,88)\"],[0.5019607843137255,\"rgb(203,26,79)\"],[0.5647058823529412,\"rgb(223,47,67)\"],[0.6274509803921569,\"rgb(236,76,61)\"],[0.6901960784313725,\"rgb(242,107,73)\"],[0.7529411764705882,\"rgb(244,135,95)\"],[0.8156862745098039,\"rgb(245,162,122)\"],[0.8784313725490196,\"rgb(246,188,153)\"],[0.9411764705882353,\"rgb(247,212,187)\"],[1.0,\"rgb(250,234,220)\"]]}],\"heatmap\":[{\"type\":\"heatmap\",\"colorbar\":{\"outlinewidth\":0,\"tickcolor\":\"rgb(36,36,36)\",\"ticklen\":8,\"ticks\":\"outside\",\"tickwidth\":2},\"colorscale\":[[0.0,\"rgb(2,4,25)\"],[0.06274509803921569,\"rgb(24,15,41)\"],[0.12549019607843137,\"rgb(47,23,57)\"],[0.18823529411764706,\"rgb(71,28,72)\"],[0.25098039215686274,\"rgb(97,30,82)\"],[0.3137254901960784,\"rgb(123,30,89)\"],[0.3764705882352941,\"rgb(150,27,91)\"],[0.4392156862745098,\"rgb(177,22,88)\"],[0.5019607843137255,\"rgb(203,26,79)\"],[0.5647058823529412,\"rgb(223,47,67)\"],[0.6274509803921569,\"rgb(236,76,61)\"],[0.6901960784313725,\"rgb(242,107,73)\"],[0.7529411764705882,\"rgb(244,135,95)\"],[0.8156862745098039,\"rgb(245,162,122)\"],[0.8784313725490196,\"rgb(246,188,153)\"],[0.9411764705882353,\"rgb(247,212,187)\"],[1.0,\"rgb(250,234,220)\"]]}],\"heatmapgl\":[{\"type\":\"heatmapgl\",\"colorbar\":{\"outlinewidth\":0,\"tickcolor\":\"rgb(36,36,36)\",\"ticklen\":8,\"ticks\":\"outside\",\"tickwidth\":2},\"colorscale\":[[0.0,\"rgb(2,4,25)\"],[0.06274509803921569,\"rgb(24,15,41)\"],[0.12549019607843137,\"rgb(47,23,57)\"],[0.18823529411764706,\"rgb(71,28,72)\"],[0.25098039215686274,\"rgb(97,30,82)\"],[0.3137254901960784,\"rgb(123,30,89)\"],[0.3764705882352941,\"rgb(150,27,91)\"],[0.4392156862745098,\"rgb(177,22,88)\"],[0.5019607843137255,\"rgb(203,26,79)\"],[0.5647058823529412,\"rgb(223,47,67)\"],[0.6274509803921569,\"rgb(236,76,61)\"],[0.6901960784313725,\"rgb(242,107,73)\"],[0.7529411764705882,\"rgb(244,135,95)\"],[0.8156862745098039,\"rgb(245,162,122)\"],[0.8784313725490196,\"rgb(246,188,153)\"],[0.9411764705882353,\"rgb(247,212,187)\"],[1.0,\"rgb(250,234,220)\"]]}],\"contourcarpet\":[{\"type\":\"contourcarpet\",\"colorbar\":{\"outlinewidth\":0,\"tickcolor\":\"rgb(36,36,36)\",\"ticklen\":8,\"ticks\":\"outside\",\"tickwidth\":2}}],\"contour\":[{\"type\":\"contour\",\"colorbar\":{\"outlinewidth\":0,\"tickcolor\":\"rgb(36,36,36)\",\"ticklen\":8,\"ticks\":\"outside\",\"tickwidth\":2},\"colorscale\":[[0.0,\"rgb(2,4,25)\"],[0.06274509803921569,\"rgb(24,15,41)\"],[0.12549019607843137,\"rgb(47,23,57)\"],[0.18823529411764706,\"rgb(71,28,72)\"],[0.25098039215686274,\"rgb(97,30,82)\"],[0.3137254901960784,\"rgb(123,30,89)\"],[0.3764705882352941,\"rgb(150,27,91)\"],[0.4392156862745098,\"rgb(177,22,88)\"],[0.5019607843137255,\"rgb(203,26,79)\"],[0.5647058823529412,\"rgb(223,47,67)\"],[0.6274509803921569,\"rgb(236,76,61)\"],[0.6901960784313725,\"rgb(242,107,73)\"],[0.7529411764705882,\"rgb(244,135,95)\"],[0.8156862745098039,\"rgb(245,162,122)\"],[0.8784313725490196,\"rgb(246,188,153)\"],[0.9411764705882353,\"rgb(247,212,187)\"],[1.0,\"rgb(250,234,220)\"]]}],\"surface\":[{\"type\":\"surface\",\"colorbar\":{\"outlinewidth\":0,\"tickcolor\":\"rgb(36,36,36)\",\"ticklen\":8,\"ticks\":\"outside\",\"tickwidth\":2},\"colorscale\":[[0.0,\"rgb(2,4,25)\"],[0.06274509803921569,\"rgb(24,15,41)\"],[0.12549019607843137,\"rgb(47,23,57)\"],[0.18823529411764706,\"rgb(71,28,72)\"],[0.25098039215686274,\"rgb(97,30,82)\"],[0.3137254901960784,\"rgb(123,30,89)\"],[0.3764705882352941,\"rgb(150,27,91)\"],[0.4392156862745098,\"rgb(177,22,88)\"],[0.5019607843137255,\"rgb(203,26,79)\"],[0.5647058823529412,\"rgb(223,47,67)\"],[0.6274509803921569,\"rgb(236,76,61)\"],[0.6901960784313725,\"rgb(242,107,73)\"],[0.7529411764705882,\"rgb(244,135,95)\"],[0.8156862745098039,\"rgb(245,162,122)\"],[0.8784313725490196,\"rgb(246,188,153)\"],[0.9411764705882353,\"rgb(247,212,187)\"],[1.0,\"rgb(250,234,220)\"]]}],\"mesh3d\":[{\"type\":\"mesh3d\",\"colorbar\":{\"outlinewidth\":0,\"tickcolor\":\"rgb(36,36,36)\",\"ticklen\":8,\"ticks\":\"outside\",\"tickwidth\":2}}],\"scatter\":[{\"fillpattern\":{\"fillmode\":\"overlay\",\"size\":10,\"solidity\":0.2},\"type\":\"scatter\"}],\"parcoords\":[{\"type\":\"parcoords\",\"line\":{\"colorbar\":{\"outlinewidth\":0,\"tickcolor\":\"rgb(36,36,36)\",\"ticklen\":8,\"ticks\":\"outside\",\"tickwidth\":2}}}],\"scatterpolargl\":[{\"type\":\"scatterpolargl\",\"marker\":{\"colorbar\":{\"outlinewidth\":0,\"tickcolor\":\"rgb(36,36,36)\",\"ticklen\":8,\"ticks\":\"outside\",\"tickwidth\":2}}}],\"bar\":[{\"error_x\":{\"color\":\"rgb(36,36,36)\"},\"error_y\":{\"color\":\"rgb(36,36,36)\"},\"marker\":{\"line\":{\"color\":\"rgb(234,234,242)\",\"width\":0.5},\"pattern\":{\"fillmode\":\"overlay\",\"size\":10,\"solidity\":0.2}},\"type\":\"bar\"}],\"scattergeo\":[{\"type\":\"scattergeo\",\"marker\":{\"colorbar\":{\"outlinewidth\":0,\"tickcolor\":\"rgb(36,36,36)\",\"ticklen\":8,\"ticks\":\"outside\",\"tickwidth\":2}}}],\"scatterpolar\":[{\"type\":\"scatterpolar\",\"marker\":{\"colorbar\":{\"outlinewidth\":0,\"tickcolor\":\"rgb(36,36,36)\",\"ticklen\":8,\"ticks\":\"outside\",\"tickwidth\":2}}}],\"histogram\":[{\"marker\":{\"pattern\":{\"fillmode\":\"overlay\",\"size\":10,\"solidity\":0.2}},\"type\":\"histogram\"}],\"scattergl\":[{\"type\":\"scattergl\",\"marker\":{\"colorbar\":{\"outlinewidth\":0,\"tickcolor\":\"rgb(36,36,36)\",\"ticklen\":8,\"ticks\":\"outside\",\"tickwidth\":2}}}],\"scatter3d\":[{\"type\":\"scatter3d\",\"line\":{\"colorbar\":{\"outlinewidth\":0,\"tickcolor\":\"rgb(36,36,36)\",\"ticklen\":8,\"ticks\":\"outside\",\"tickwidth\":2}},\"marker\":{\"colorbar\":{\"outlinewidth\":0,\"tickcolor\":\"rgb(36,36,36)\",\"ticklen\":8,\"ticks\":\"outside\",\"tickwidth\":2}}}],\"scattermapbox\":[{\"type\":\"scattermapbox\",\"marker\":{\"colorbar\":{\"outlinewidth\":0,\"tickcolor\":\"rgb(36,36,36)\",\"ticklen\":8,\"ticks\":\"outside\",\"tickwidth\":2}}}],\"scatterternary\":[{\"type\":\"scatterternary\",\"marker\":{\"colorbar\":{\"outlinewidth\":0,\"tickcolor\":\"rgb(36,36,36)\",\"ticklen\":8,\"ticks\":\"outside\",\"tickwidth\":2}}}],\"scattercarpet\":[{\"type\":\"scattercarpet\",\"marker\":{\"colorbar\":{\"outlinewidth\":0,\"tickcolor\":\"rgb(36,36,36)\",\"ticklen\":8,\"ticks\":\"outside\",\"tickwidth\":2}}}],\"carpet\":[{\"aaxis\":{\"endlinecolor\":\"rgb(36,36,36)\",\"gridcolor\":\"white\",\"linecolor\":\"white\",\"minorgridcolor\":\"white\",\"startlinecolor\":\"rgb(36,36,36)\"},\"baxis\":{\"endlinecolor\":\"rgb(36,36,36)\",\"gridcolor\":\"white\",\"linecolor\":\"white\",\"minorgridcolor\":\"white\",\"startlinecolor\":\"rgb(36,36,36)\"},\"type\":\"carpet\"}],\"table\":[{\"cells\":{\"fill\":{\"color\":\"rgb(231,231,240)\"},\"line\":{\"color\":\"white\"}},\"header\":{\"fill\":{\"color\":\"rgb(183,183,191)\"},\"line\":{\"color\":\"white\"}},\"type\":\"table\"}],\"barpolar\":[{\"marker\":{\"line\":{\"color\":\"rgb(234,234,242)\",\"width\":0.5},\"pattern\":{\"fillmode\":\"overlay\",\"size\":10,\"solidity\":0.2}},\"type\":\"barpolar\"}],\"pie\":[{\"automargin\":true,\"type\":\"pie\"}]},\"layout\":{\"autotypenumbers\":\"strict\",\"colorway\":[\"rgb(76,114,176)\",\"rgb(221,132,82)\",\"rgb(85,168,104)\",\"rgb(196,78,82)\",\"rgb(129,114,179)\",\"rgb(147,120,96)\",\"rgb(218,139,195)\",\"rgb(140,140,140)\",\"rgb(204,185,116)\",\"rgb(100,181,205)\"],\"font\":{\"color\":\"rgb(36,36,36)\"},\"hovermode\":\"closest\",\"hoverlabel\":{\"align\":\"left\"},\"paper_bgcolor\":\"white\",\"plot_bgcolor\":\"rgb(234,234,242)\",\"polar\":{\"bgcolor\":\"rgb(234,234,242)\",\"angularaxis\":{\"gridcolor\":\"white\",\"linecolor\":\"white\",\"showgrid\":true,\"ticks\":\"\"},\"radialaxis\":{\"gridcolor\":\"white\",\"linecolor\":\"white\",\"showgrid\":true,\"ticks\":\"\"}},\"ternary\":{\"bgcolor\":\"rgb(234,234,242)\",\"aaxis\":{\"gridcolor\":\"white\",\"linecolor\":\"white\",\"showgrid\":true,\"ticks\":\"\"},\"baxis\":{\"gridcolor\":\"white\",\"linecolor\":\"white\",\"showgrid\":true,\"ticks\":\"\"},\"caxis\":{\"gridcolor\":\"white\",\"linecolor\":\"white\",\"showgrid\":true,\"ticks\":\"\"}},\"coloraxis\":{\"colorbar\":{\"outlinewidth\":0,\"tickcolor\":\"rgb(36,36,36)\",\"ticklen\":8,\"ticks\":\"outside\",\"tickwidth\":2}},\"colorscale\":{\"sequential\":[[0.0,\"rgb(2,4,25)\"],[0.06274509803921569,\"rgb(24,15,41)\"],[0.12549019607843137,\"rgb(47,23,57)\"],[0.18823529411764706,\"rgb(71,28,72)\"],[0.25098039215686274,\"rgb(97,30,82)\"],[0.3137254901960784,\"rgb(123,30,89)\"],[0.3764705882352941,\"rgb(150,27,91)\"],[0.4392156862745098,\"rgb(177,22,88)\"],[0.5019607843137255,\"rgb(203,26,79)\"],[0.5647058823529412,\"rgb(223,47,67)\"],[0.6274509803921569,\"rgb(236,76,61)\"],[0.6901960784313725,\"rgb(242,107,73)\"],[0.7529411764705882,\"rgb(244,135,95)\"],[0.8156862745098039,\"rgb(245,162,122)\"],[0.8784313725490196,\"rgb(246,188,153)\"],[0.9411764705882353,\"rgb(247,212,187)\"],[1.0,\"rgb(250,234,220)\"]],\"sequentialminus\":[[0.0,\"rgb(2,4,25)\"],[0.06274509803921569,\"rgb(24,15,41)\"],[0.12549019607843137,\"rgb(47,23,57)\"],[0.18823529411764706,\"rgb(71,28,72)\"],[0.25098039215686274,\"rgb(97,30,82)\"],[0.3137254901960784,\"rgb(123,30,89)\"],[0.3764705882352941,\"rgb(150,27,91)\"],[0.4392156862745098,\"rgb(177,22,88)\"],[0.5019607843137255,\"rgb(203,26,79)\"],[0.5647058823529412,\"rgb(223,47,67)\"],[0.6274509803921569,\"rgb(236,76,61)\"],[0.6901960784313725,\"rgb(242,107,73)\"],[0.7529411764705882,\"rgb(244,135,95)\"],[0.8156862745098039,\"rgb(245,162,122)\"],[0.8784313725490196,\"rgb(246,188,153)\"],[0.9411764705882353,\"rgb(247,212,187)\"],[1.0,\"rgb(250,234,220)\"]]},\"xaxis\":{\"gridcolor\":\"white\",\"linecolor\":\"white\",\"showgrid\":true,\"ticks\":\"\",\"title\":{\"standoff\":15},\"zerolinecolor\":\"white\",\"automargin\":true},\"yaxis\":{\"gridcolor\":\"white\",\"linecolor\":\"white\",\"showgrid\":true,\"ticks\":\"\",\"title\":{\"standoff\":15},\"zerolinecolor\":\"white\",\"automargin\":true},\"scene\":{\"xaxis\":{\"backgroundcolor\":\"rgb(234,234,242)\",\"gridcolor\":\"white\",\"linecolor\":\"white\",\"showbackground\":true,\"showgrid\":true,\"ticks\":\"\",\"zerolinecolor\":\"white\",\"gridwidth\":2},\"yaxis\":{\"backgroundcolor\":\"rgb(234,234,242)\",\"gridcolor\":\"white\",\"linecolor\":\"white\",\"showbackground\":true,\"showgrid\":true,\"ticks\":\"\",\"zerolinecolor\":\"white\",\"gridwidth\":2},\"zaxis\":{\"backgroundcolor\":\"rgb(234,234,242)\",\"gridcolor\":\"white\",\"linecolor\":\"white\",\"showbackground\":true,\"showgrid\":true,\"ticks\":\"\",\"zerolinecolor\":\"white\",\"gridwidth\":2}},\"shapedefaults\":{\"fillcolor\":\"rgb(67,103,167)\",\"line\":{\"width\":0},\"opacity\":0.5},\"annotationdefaults\":{\"arrowcolor\":\"rgb(67,103,167)\"},\"geo\":{\"bgcolor\":\"white\",\"landcolor\":\"rgb(234,234,242)\",\"subunitcolor\":\"white\",\"showland\":true,\"showlakes\":true,\"lakecolor\":\"white\"}}},\"xaxis\":{\"anchor\":\"y\",\"domain\":[0.0,0.475],\"tickangle\":45,\"tickvals\":[\"2018-10-01T00:00:00\",\"2018-11-01T00:00:00\",\"2018-12-01T00:00:00\",\"2019-01-01T00:00:00\",\"2019-02-01T00:00:00\",\"2019-03-01T00:00:00\",\"2019-04-01T00:00:00\",\"2019-05-01T00:00:00\",\"2019-06-01T00:00:00\",\"2019-07-01T00:00:00\",\"2019-08-01T00:00:00\",\"2019-09-01T00:00:00\",\"2019-10-01T00:00:00\"],\"showgrid\":false},\"yaxis\":{\"anchor\":\"x\",\"domain\":[0.575,1.0]},\"xaxis2\":{\"anchor\":\"y2\",\"domain\":[0.525,1.0],\"tickangle\":45,\"tickvals\":[\"2018-10-01T00:00:00\",\"2018-11-01T00:00:00\",\"2018-12-01T00:00:00\",\"2019-01-01T00:00:00\",\"2019-02-01T00:00:00\",\"2019-03-01T00:00:00\",\"2019-04-01T00:00:00\",\"2019-05-01T00:00:00\",\"2019-06-01T00:00:00\",\"2019-07-01T00:00:00\",\"2019-08-01T00:00:00\",\"2019-09-01T00:00:00\",\"2019-10-01T00:00:00\"],\"showgrid\":false},\"yaxis2\":{\"anchor\":\"x2\",\"domain\":[0.575,1.0]},\"xaxis3\":{\"anchor\":\"y3\",\"domain\":[0.0,0.475],\"tickangle\":45,\"tickvals\":[\"2018-10-01T00:00:00\",\"2018-11-01T00:00:00\",\"2018-12-01T00:00:00\",\"2019-01-01T00:00:00\",\"2019-02-01T00:00:00\",\"2019-03-01T00:00:00\",\"2019-04-01T00:00:00\",\"2019-05-01T00:00:00\",\"2019-06-01T00:00:00\",\"2019-07-01T00:00:00\",\"2019-08-01T00:00:00\",\"2019-09-01T00:00:00\",\"2019-10-01T00:00:00\"],\"showgrid\":false},\"yaxis3\":{\"anchor\":\"x3\",\"domain\":[0.0,0.425]},\"xaxis4\":{\"anchor\":\"y4\",\"domain\":[0.525,1.0],\"tickangle\":45,\"tickvals\":[\"2018-10-01T00:00:00\",\"2018-11-01T00:00:00\",\"2018-12-01T00:00:00\",\"2019-01-01T00:00:00\",\"2019-02-01T00:00:00\",\"2019-03-01T00:00:00\",\"2019-04-01T00:00:00\",\"2019-05-01T00:00:00\",\"2019-06-01T00:00:00\",\"2019-07-01T00:00:00\",\"2019-08-01T00:00:00\",\"2019-09-01T00:00:00\",\"2019-10-01T00:00:00\"],\"showgrid\":false},\"yaxis4\":{\"anchor\":\"x4\",\"domain\":[0.0,0.425]},\"title\":{\"text\":\"KPI \\u0438\\u043d\\u0442\\u0435\\u0440\\u043d\\u0435\\u0442-\\u043c\\u0430\\u0433\\u0430\\u0437\\u0438\\u043d\\u0430\"},\"height\":800},                        {\"responsive\": true}                    ).then(function(){\n",
       "                            \n",
       "var gd = document.getElementById('7a836244-2822-4552-93c6-40d0b84a5073');\n",
       "var x = new MutationObserver(function (mutations, observer) {{\n",
       "        var display = window.getComputedStyle(gd).display;\n",
       "        if (!display || display === 'none') {{\n",
       "            console.log([gd, 'removed!']);\n",
       "            Plotly.purge(gd);\n",
       "            observer.disconnect();\n",
       "        }}\n",
       "}});\n",
       "\n",
       "// Listen for the removal of the full notebook cells\n",
       "var notebookContainer = gd.closest('#notebook-container');\n",
       "if (notebookContainer) {{\n",
       "    x.observe(notebookContainer, {childList: true});\n",
       "}}\n",
       "\n",
       "// Listen for the clearing of the current output cell\n",
       "var outputEl = gd.closest('.output');\n",
       "if (outputEl) {{\n",
       "    x.observe(outputEl, {childList: true});\n",
       "}}\n",
       "\n",
       "                        })                };                });            </script>        </div>"
      ]
     },
     "metadata": {},
     "output_type": "display_data"
    }
   ],
   "source": [
    "fig = plot_bar_nm(2, 2, kpi_params)\n",
    "\n",
    "fig.update_xaxes(tickangle=45, tickvals = kpi['month'], showgrid=False, row=1, col=1)\n",
    "fig.update_xaxes(tickangle=45, tickvals = kpi['month'], showgrid=False, row=1, col=2)\n",
    "fig.update_xaxes(tickangle=45, tickvals = kpi['month'], showgrid=False, row=2, col=1)\n",
    "fig.update_xaxes(tickangle=45, tickvals = kpi['month'], showgrid=False, row=2, col=2)\n",
    "\n",
    "fig.update_layout(title_text='KPI интернет-магазина', height=800)\n",
    "fig.show()"
   ]
  },
  {
   "cell_type": "markdown",
   "metadata": {},
   "source": [
    "- Метрики активных пользователей довольно стабильны;\n",
    "- Есть прирост в феврале, марте, апреле 2019, скорее всего связано с закупом в категории \"Сад и огород\";\n",
    "- При этом средний чек в эти месяцы минимален."
   ]
  },
  {
   "cell_type": "markdown",
   "metadata": {},
   "source": [
    "## Общий вывод"
   ]
  },
  {
   "cell_type": "markdown",
   "metadata": {},
   "source": [
    "**В результате анализа было выяснено:**\n",
    "\n",
    "- Среднее количество товаров в заказе 2.8;\n",
    "- Основной ассортимент товаров в магазине представлен категорией \"Сад и огород\";\n",
    "- Товаров, которые покупают как отдельную единицу и тех, что предпочитают как дополнительный, в товарном ассортименте поровну;\n",
    "- Весной количество товаров категории \"Сад и огород\" продается больше, чем в остальные сезоны;\n",
    "- Во все сезоны, кроме весны, по количеству проданных товаров, лидирует категория \"Товары для дома\";\n",
    "- Больше всего заказов делается в будние дни;\n",
    "- Пик заказов приходится на промежуток с 10 до 13 часов;\n",
    "- Самую большую выручку магазин сделал в последние месяцы 2018 года;\n",
    "- Самый большой средний чек достигнут в январе;\n",
    "- Самым продаваемым товаром оказался товар из категории \"Интерьер\";\n",
    "- Самые дешевые товары, которые покупают по одной штуке, в категории \"Сад и огород\";\n",
    "\n",
    "**Были проверены статистические гипотезы:**\n",
    "\n",
    "- Средний чек по будням такой же, как и по выходным;\n",
    "- Средний чек днем такой же, как и ночью;\n",
    "- Средний чек в разные сезоны не отличается. Мы располагаем данными с 1 октября 2018 по 31 октября 2019, поэтому для проверки будут взяты только данные с 1 декабря 2018 по 31 августа 2019 (зима, весна, лето).\n",
    "\n",
    "**Ни один тест не показал статистически значимого результата. Средний чек в разные временные промежутки не отличается.**\n",
    "\n",
    "**Были расчитаны бизнес-показатели:**\n",
    "\n",
    "- DAU (по месяцам)\n",
    "- WAU (по месяцам)\n",
    "- MAU (по месяцам)\n",
    "- AOV - средний чек (по месяцам)\n",
    "\n",
    "**На основе них было выяснено, что количество активных пользователей стабильно, но есть прирост в феврале, марте, апреле 2019 года. Средний чек, меньше всего в весенние месяцы.**\n",
    "\n",
    "*Хотелось бы отметить, что был создан класс и метод в нем, для рекомендации дополнительного товара, но основе товаров из заказа.*\n",
    "\n",
    "**Рекомендации:** \n",
    "\n",
    "- Расширить ассортимент в категории \"Товары для дома\", хоть и по количеству категория \"Сад и огород\" лидирует, но именно \"Товары для дома\" делают основную выручку, сопоставимую с совокупной суммой продаж в других категориях;\n",
    "- Стимулировать покупателей скидками и акциями, чтобы они делали заказы в выходные и в ночное время, увеличив количество заказов в это время, увеличим и выручку;\n",
    "- Делать основные закупки семян и рассады к весне, в остальное время они не пользуются популярностью;\n",
    "- В августе и сентябре, традиционно сезон отпусков, предложить скидки в эти месяцы, тем самым увеличим количество заказов."
   ]
  },
  {
   "cell_type": "code",
   "execution_count": null,
   "metadata": {},
   "outputs": [],
   "source": []
  }
 ],
 "metadata": {
  "ExecuteTimeLog": [
   {
    "duration": 3,
    "start_time": "2022-06-17T04:10:55.054Z"
   },
   {
    "duration": 898,
    "start_time": "2022-06-17T04:10:55.059Z"
   },
   {
    "duration": 177,
    "start_time": "2022-06-17T04:10:55.958Z"
   },
   {
    "duration": 425,
    "start_time": "2022-06-17T04:10:56.137Z"
   },
   {
    "duration": 13,
    "start_time": "2022-06-17T04:10:56.564Z"
   },
   {
    "duration": 22,
    "start_time": "2022-06-17T04:10:56.579Z"
   },
   {
    "duration": 9,
    "start_time": "2022-06-17T04:10:56.603Z"
   },
   {
    "duration": 11,
    "start_time": "2022-06-17T04:10:56.614Z"
   },
   {
    "duration": 6,
    "start_time": "2022-06-17T04:10:56.626Z"
   },
   {
    "duration": 14,
    "start_time": "2022-06-17T04:10:56.635Z"
   },
   {
    "duration": 21,
    "start_time": "2022-06-17T04:10:56.650Z"
   },
   {
    "duration": 11,
    "start_time": "2022-06-17T04:10:56.673Z"
   },
   {
    "duration": 16,
    "start_time": "2022-06-17T04:10:56.686Z"
   },
   {
    "duration": 12,
    "start_time": "2022-06-17T04:10:56.703Z"
   },
   {
    "duration": 14,
    "start_time": "2022-06-17T04:10:56.717Z"
   },
   {
    "duration": 34,
    "start_time": "2022-06-17T04:10:56.734Z"
   },
   {
    "duration": 15,
    "start_time": "2022-06-17T04:10:56.769Z"
   },
   {
    "duration": 9,
    "start_time": "2022-06-17T04:10:56.786Z"
   },
   {
    "duration": 11,
    "start_time": "2022-06-17T04:10:56.797Z"
   },
   {
    "duration": 6,
    "start_time": "2022-06-17T04:10:56.809Z"
   },
   {
    "duration": 14,
    "start_time": "2022-06-17T04:10:56.816Z"
   },
   {
    "duration": 34,
    "start_time": "2022-06-17T04:10:56.831Z"
   },
   {
    "duration": 6,
    "start_time": "2022-06-17T04:10:56.866Z"
   },
   {
    "duration": 14,
    "start_time": "2022-06-17T04:10:56.873Z"
   },
   {
    "duration": 12,
    "start_time": "2022-06-17T04:10:56.888Z"
   },
   {
    "duration": 9,
    "start_time": "2022-06-17T04:10:56.902Z"
   },
   {
    "duration": 8,
    "start_time": "2022-06-17T04:10:56.913Z"
   },
   {
    "duration": 2414,
    "start_time": "2022-06-17T04:10:56.924Z"
   },
   {
    "duration": 6,
    "start_time": "2022-06-17T04:10:59.340Z"
   },
   {
    "duration": 51,
    "start_time": "2022-06-17T04:10:59.348Z"
   },
   {
    "duration": 4,
    "start_time": "2022-06-17T04:10:59.401Z"
   },
   {
    "duration": 8,
    "start_time": "2022-06-17T04:10:59.406Z"
   },
   {
    "duration": 27,
    "start_time": "2022-06-17T04:10:59.415Z"
   },
   {
    "duration": 4,
    "start_time": "2022-06-17T04:10:59.443Z"
   },
   {
    "duration": 17,
    "start_time": "2022-06-17T04:10:59.448Z"
   },
   {
    "duration": 264,
    "start_time": "2022-06-17T04:10:59.467Z"
   },
   {
    "duration": 57,
    "start_time": "2022-06-17T04:10:59.733Z"
   },
   {
    "duration": 83,
    "start_time": "2022-06-17T04:10:59.792Z"
   },
   {
    "duration": 31,
    "start_time": "2022-06-17T04:10:59.877Z"
   },
   {
    "duration": 61,
    "start_time": "2022-06-17T04:10:59.910Z"
   },
   {
    "duration": 4,
    "start_time": "2022-06-17T04:10:59.972Z"
   },
   {
    "duration": 55,
    "start_time": "2022-06-17T04:10:59.977Z"
   },
   {
    "duration": 39,
    "start_time": "2022-06-17T04:11:00.033Z"
   },
   {
    "duration": 4,
    "start_time": "2022-06-17T04:11:00.073Z"
   },
   {
    "duration": 73,
    "start_time": "2022-06-17T04:11:00.079Z"
   },
   {
    "duration": 26,
    "start_time": "2022-06-17T04:11:00.154Z"
   },
   {
    "duration": 4,
    "start_time": "2022-06-17T04:11:00.182Z"
   },
   {
    "duration": 71,
    "start_time": "2022-06-17T04:11:00.187Z"
   },
   {
    "duration": 35,
    "start_time": "2022-06-17T04:11:00.259Z"
   },
   {
    "duration": 26,
    "start_time": "2022-06-17T04:11:00.296Z"
   },
   {
    "duration": 38,
    "start_time": "2022-06-17T04:11:00.324Z"
   },
   {
    "duration": 4,
    "start_time": "2022-06-17T04:11:00.364Z"
   },
   {
    "duration": 108,
    "start_time": "2022-06-17T04:11:00.370Z"
   },
   {
    "duration": 64,
    "start_time": "2022-06-17T04:11:00.480Z"
   },
   {
    "duration": 5,
    "start_time": "2022-06-17T04:11:00.546Z"
   },
   {
    "duration": 90,
    "start_time": "2022-06-17T04:11:00.552Z"
   },
   {
    "duration": 43,
    "start_time": "2022-06-17T04:11:00.644Z"
   },
   {
    "duration": 13,
    "start_time": "2022-06-17T04:11:00.689Z"
   },
   {
    "duration": 43,
    "start_time": "2022-06-17T04:11:00.704Z"
   },
   {
    "duration": 33,
    "start_time": "2022-06-17T04:11:00.748Z"
   },
   {
    "duration": 13,
    "start_time": "2022-06-17T04:11:00.783Z"
   },
   {
    "duration": 46,
    "start_time": "2022-06-17T04:11:00.798Z"
   },
   {
    "duration": 32,
    "start_time": "2022-06-17T04:11:00.845Z"
   },
   {
    "duration": 29,
    "start_time": "2022-06-17T04:11:00.878Z"
   },
   {
    "duration": 149,
    "start_time": "2022-06-17T04:11:00.908Z"
   },
   {
    "duration": 10,
    "start_time": "2022-06-17T04:11:01.064Z"
   },
   {
    "duration": 27,
    "start_time": "2022-06-17T04:11:01.076Z"
   },
   {
    "duration": 75,
    "start_time": "2022-06-17T04:11:01.105Z"
   },
   {
    "duration": 24037,
    "start_time": "2022-06-17T04:11:01.182Z"
   },
   {
    "duration": 16,
    "start_time": "2022-06-17T04:11:25.220Z"
   },
   {
    "duration": 6,
    "start_time": "2022-06-17T04:11:25.237Z"
   },
   {
    "duration": 6,
    "start_time": "2022-06-17T04:11:25.245Z"
   },
   {
    "duration": 17,
    "start_time": "2022-06-17T04:11:25.252Z"
   },
   {
    "duration": 6,
    "start_time": "2022-06-17T04:11:25.270Z"
   },
   {
    "duration": 68,
    "start_time": "2022-06-17T04:11:25.278Z"
   },
   {
    "duration": 4,
    "start_time": "2022-06-17T04:11:25.348Z"
   },
   {
    "duration": 16,
    "start_time": "2022-06-17T04:11:25.354Z"
   },
   {
    "duration": 11,
    "start_time": "2022-06-17T04:11:25.372Z"
   },
   {
    "duration": 8,
    "start_time": "2022-06-17T04:11:25.385Z"
   },
   {
    "duration": 54,
    "start_time": "2022-06-17T04:11:25.395Z"
   },
   {
    "duration": 19,
    "start_time": "2022-06-17T04:11:25.450Z"
   },
   {
    "duration": 7,
    "start_time": "2022-06-17T04:11:25.474Z"
   },
   {
    "duration": 8,
    "start_time": "2022-06-17T04:11:25.482Z"
   },
   {
    "duration": 10,
    "start_time": "2022-06-17T04:11:25.491Z"
   },
   {
    "duration": 70,
    "start_time": "2022-06-17T04:11:25.503Z"
   },
   {
    "duration": 6,
    "start_time": "2022-06-17T04:11:25.574Z"
   },
   {
    "duration": 6,
    "start_time": "2022-06-17T04:11:25.581Z"
   },
   {
    "duration": 5,
    "start_time": "2022-06-17T04:11:25.589Z"
   },
   {
    "duration": 16,
    "start_time": "2022-06-17T04:11:25.596Z"
   },
   {
    "duration": 9,
    "start_time": "2022-06-17T04:11:25.614Z"
   },
   {
    "duration": 6,
    "start_time": "2022-06-17T04:11:25.624Z"
   },
   {
    "duration": 33,
    "start_time": "2022-06-17T04:11:25.631Z"
   },
   {
    "duration": 14,
    "start_time": "2022-06-17T04:11:25.666Z"
   },
   {
    "duration": 4,
    "start_time": "2022-06-17T04:11:25.681Z"
   },
   {
    "duration": 46,
    "start_time": "2022-06-17T04:11:25.686Z"
   },
   {
    "duration": 17,
    "start_time": "2022-06-17T04:18:22.014Z"
   }
  ],
  "kernelspec": {
   "display_name": "Python 3 (ipykernel)",
   "language": "python",
   "name": "python3"
  },
  "language_info": {
   "codemirror_mode": {
    "name": "ipython",
    "version": 3
   },
   "file_extension": ".py",
   "mimetype": "text/x-python",
   "name": "python",
   "nbconvert_exporter": "python",
   "pygments_lexer": "ipython3",
   "version": "3.8.13"
  },
  "toc": {
   "base_numbering": 1,
   "nav_menu": {},
   "number_sections": false,
   "sideBar": true,
   "skip_h1_title": true,
   "title_cell": "Содержание",
   "title_sidebar": "Contents",
   "toc_cell": true,
   "toc_position": {},
   "toc_section_display": true,
   "toc_window_display": false
  },
  "vscode": {
   "interpreter": {
    "hash": "d218b21bb921035b16d5c21d046edbae3f18d635e2b85e02cc6e50cac6ced9c9"
   }
  }
 },
 "nbformat": 4,
 "nbformat_minor": 2
}
