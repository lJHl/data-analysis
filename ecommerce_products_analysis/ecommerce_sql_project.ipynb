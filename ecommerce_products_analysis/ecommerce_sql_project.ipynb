{
 "cells": [
  {
   "cell_type": "markdown",
   "metadata": {},
   "source": [
    "# Анализ базы данных сервиса для чтения книг"
   ]
  },
  {
   "cell_type": "markdown",
   "metadata": {},
   "source": [
    "**Цель проекта –** проанализировать базу данных сервиса для чтения книг по подписке.\n",
    "\n",
    "**В качестве входных данных используется база данных, содержащая:**\n",
    "\n",
    "- Информацию о книгах; \n",
    "- Издательствах; \n",
    "- Авторах; \n",
    "- Пользовательские обзоры книг.\n",
    "\n",
    "**Необходимо:**\n",
    "\n",
    "1. Сделать обзор данных;\n",
    "2. Посчитать, сколько книг вышло после 1 января 2000 года;\n",
    "3. Для каждой книги посчитать количество обзоров и среднюю оценку;\n",
    "4. Определить издательство, которое выпустило наибольшее число книг толще 50 страниц, чтобы исключить из анализа брошюры;\n",
    "5. Определить автора с самой высокой средней оценкой книг, учитывая только книги с 50 и более оценками;\n",
    "6. Посчитать среднее количество обзоров от пользователей, которые поставили больше 50 оценок."
   ]
  },
  {
   "cell_type": "code",
   "execution_count": 1,
   "metadata": {},
   "outputs": [],
   "source": [
    "import pandas as pd\n",
    "from sqlalchemy import create_engine\n",
    "pd.set_option(\"display.precision\", 2)"
   ]
  },
  {
   "cell_type": "code",
   "execution_count": 2,
   "metadata": {},
   "outputs": [],
   "source": [
    "# устанавливаем параметры\n",
    "db_config = {'user': '', # имя пользователя\n",
    "             'pwd': '',  # пароль\n",
    "             'host': '', # хост\n",
    "             'port': '', # порт подключения\n",
    "             'db': ''}   # название базы данных"
   ]
  },
  {
   "cell_type": "code",
   "execution_count": 3,
   "metadata": {},
   "outputs": [],
   "source": [
    "connection_string = 'postgresql://{}:{}@{}:{}/{}'.format(db_config['user'], \n",
    "                                                         db_config['pwd'], \n",
    "                                                         db_config['host'], \n",
    "                                                         db_config['port'],\n",
    "                                                         db_config['db'])"
   ]
  },
  {
   "cell_type": "code",
   "execution_count": 4,
   "metadata": {},
   "outputs": [],
   "source": [
    "# сохраняем коннектор\n",
    "engine = create_engine(connection_string, connect_args={'sslmode':'require'})"
   ]
  },
  {
   "cell_type": "markdown",
   "metadata": {},
   "source": [
    "## Обзор данных"
   ]
  },
  {
   "cell_type": "code",
   "execution_count": 5,
   "metadata": {},
   "outputs": [],
   "source": [
    "def sql_request(query):\n",
    "    \"\"\"\n",
    "    Функция запроса к базе данных и возврата ответа в виде pandas датафрейма\n",
    "\n",
    "    query - запрос\n",
    "    \"\"\"\n",
    "\n",
    "    return pd.io.sql.read_sql(query, con = engine)"
   ]
  },
  {
   "cell_type": "code",
   "execution_count": 6,
   "metadata": {},
   "outputs": [],
   "source": [
    "def get_info(table):\n",
    "    \"\"\"\n",
    "    Функция для вывода информации о таблице\n",
    "\n",
    "    table - название таблицы\n",
    "    \"\"\"\n",
    "\n",
    "    query = f\"\"\"\n",
    "    SELECT column_name,data_type \n",
    "    FROM information_schema.columns \n",
    "    WHERE\n",
    "    table_name = '{table}' \n",
    "    \"\"\"\n",
    "    \n",
    "    return sql_request(query)"
   ]
  },
  {
   "cell_type": "code",
   "execution_count": 7,
   "metadata": {},
   "outputs": [],
   "source": [
    "def get_head(table):\n",
    "    \"\"\"\n",
    "    Функция для вывода первых 5 строк из таблицы\n",
    "\n",
    "    table - название таблицы\n",
    "    \"\"\"\n",
    "\n",
    "    query = f\"\"\"\n",
    "    SELECT *\n",
    "    FROM {table}\n",
    "    LIMIT 5 \n",
    "    \"\"\"\n",
    "    \n",
    "    return sql_request(query)"
   ]
  },
  {
   "cell_type": "markdown",
   "metadata": {},
   "source": [
    "### В таблице books"
   ]
  },
  {
   "cell_type": "code",
   "execution_count": 8,
   "metadata": {},
   "outputs": [
    {
     "data": {
      "text/html": [
       "<div>\n",
       "<style scoped>\n",
       "    .dataframe tbody tr th:only-of-type {\n",
       "        vertical-align: middle;\n",
       "    }\n",
       "\n",
       "    .dataframe tbody tr th {\n",
       "        vertical-align: top;\n",
       "    }\n",
       "\n",
       "    .dataframe thead th {\n",
       "        text-align: right;\n",
       "    }\n",
       "</style>\n",
       "<table border=\"1\" class=\"dataframe\">\n",
       "  <thead>\n",
       "    <tr style=\"text-align: right;\">\n",
       "      <th></th>\n",
       "      <th>column_name</th>\n",
       "      <th>data_type</th>\n",
       "    </tr>\n",
       "  </thead>\n",
       "  <tbody>\n",
       "    <tr>\n",
       "      <th>0</th>\n",
       "      <td>book_id</td>\n",
       "      <td>integer</td>\n",
       "    </tr>\n",
       "    <tr>\n",
       "      <th>1</th>\n",
       "      <td>author_id</td>\n",
       "      <td>integer</td>\n",
       "    </tr>\n",
       "    <tr>\n",
       "      <th>2</th>\n",
       "      <td>title</td>\n",
       "      <td>text</td>\n",
       "    </tr>\n",
       "    <tr>\n",
       "      <th>3</th>\n",
       "      <td>num_pages</td>\n",
       "      <td>integer</td>\n",
       "    </tr>\n",
       "    <tr>\n",
       "      <th>4</th>\n",
       "      <td>publication_date</td>\n",
       "      <td>date</td>\n",
       "    </tr>\n",
       "    <tr>\n",
       "      <th>5</th>\n",
       "      <td>publisher_id</td>\n",
       "      <td>integer</td>\n",
       "    </tr>\n",
       "  </tbody>\n",
       "</table>\n",
       "</div>"
      ],
      "text/plain": [
       "        column_name data_type\n",
       "0           book_id   integer\n",
       "1         author_id   integer\n",
       "2             title      text\n",
       "3         num_pages   integer\n",
       "4  publication_date      date\n",
       "5      publisher_id   integer"
      ]
     },
     "execution_count": 8,
     "metadata": {},
     "output_type": "execute_result"
    }
   ],
   "source": [
    "get_info('books')"
   ]
  },
  {
   "cell_type": "code",
   "execution_count": 9,
   "metadata": {},
   "outputs": [
    {
     "data": {
      "text/html": [
       "<div>\n",
       "<style scoped>\n",
       "    .dataframe tbody tr th:only-of-type {\n",
       "        vertical-align: middle;\n",
       "    }\n",
       "\n",
       "    .dataframe tbody tr th {\n",
       "        vertical-align: top;\n",
       "    }\n",
       "\n",
       "    .dataframe thead th {\n",
       "        text-align: right;\n",
       "    }\n",
       "</style>\n",
       "<table border=\"1\" class=\"dataframe\">\n",
       "  <thead>\n",
       "    <tr style=\"text-align: right;\">\n",
       "      <th></th>\n",
       "      <th>book_id</th>\n",
       "      <th>author_id</th>\n",
       "      <th>title</th>\n",
       "      <th>num_pages</th>\n",
       "      <th>publication_date</th>\n",
       "      <th>publisher_id</th>\n",
       "    </tr>\n",
       "  </thead>\n",
       "  <tbody>\n",
       "    <tr>\n",
       "      <th>0</th>\n",
       "      <td>1</td>\n",
       "      <td>546</td>\n",
       "      <td>'Salem's Lot</td>\n",
       "      <td>594</td>\n",
       "      <td>2005-11-01</td>\n",
       "      <td>93</td>\n",
       "    </tr>\n",
       "    <tr>\n",
       "      <th>1</th>\n",
       "      <td>2</td>\n",
       "      <td>465</td>\n",
       "      <td>1 000 Places to See Before You Die</td>\n",
       "      <td>992</td>\n",
       "      <td>2003-05-22</td>\n",
       "      <td>336</td>\n",
       "    </tr>\n",
       "    <tr>\n",
       "      <th>2</th>\n",
       "      <td>3</td>\n",
       "      <td>407</td>\n",
       "      <td>13 Little Blue Envelopes (Little Blue Envelope...</td>\n",
       "      <td>322</td>\n",
       "      <td>2010-12-21</td>\n",
       "      <td>135</td>\n",
       "    </tr>\n",
       "    <tr>\n",
       "      <th>3</th>\n",
       "      <td>4</td>\n",
       "      <td>82</td>\n",
       "      <td>1491: New Revelations of the Americas Before C...</td>\n",
       "      <td>541</td>\n",
       "      <td>2006-10-10</td>\n",
       "      <td>309</td>\n",
       "    </tr>\n",
       "    <tr>\n",
       "      <th>4</th>\n",
       "      <td>5</td>\n",
       "      <td>125</td>\n",
       "      <td>1776</td>\n",
       "      <td>386</td>\n",
       "      <td>2006-07-04</td>\n",
       "      <td>268</td>\n",
       "    </tr>\n",
       "  </tbody>\n",
       "</table>\n",
       "</div>"
      ],
      "text/plain": [
       "   book_id  author_id                                              title  \\\n",
       "0        1        546                                       'Salem's Lot   \n",
       "1        2        465                 1 000 Places to See Before You Die   \n",
       "2        3        407  13 Little Blue Envelopes (Little Blue Envelope...   \n",
       "3        4         82  1491: New Revelations of the Americas Before C...   \n",
       "4        5        125                                               1776   \n",
       "\n",
       "   num_pages publication_date  publisher_id  \n",
       "0        594       2005-11-01            93  \n",
       "1        992       2003-05-22           336  \n",
       "2        322       2010-12-21           135  \n",
       "3        541       2006-10-10           309  \n",
       "4        386       2006-07-04           268  "
      ]
     },
     "execution_count": 9,
     "metadata": {},
     "output_type": "execute_result"
    }
   ],
   "source": [
    "get_head('books')"
   ]
  },
  {
   "cell_type": "markdown",
   "metadata": {},
   "source": [
    "**Согласно документации к данным:**\n",
    "\n",
    "books - содержит данные о книгах.\n",
    "\n",
    "- `book_id` — идентификатор книги;\n",
    "- `author_id` — идентификатор автора;\n",
    "- `title` — название книги;\n",
    "- `num_pages` — количество страниц; \n",
    "- `publication_date` — дата публикации книги; \n",
    "- `publisher_id` — идентификатор издателя."
   ]
  },
  {
   "cell_type": "markdown",
   "metadata": {},
   "source": [
    "### В таблице authors"
   ]
  },
  {
   "cell_type": "code",
   "execution_count": 10,
   "metadata": {},
   "outputs": [
    {
     "data": {
      "text/html": [
       "<div>\n",
       "<style scoped>\n",
       "    .dataframe tbody tr th:only-of-type {\n",
       "        vertical-align: middle;\n",
       "    }\n",
       "\n",
       "    .dataframe tbody tr th {\n",
       "        vertical-align: top;\n",
       "    }\n",
       "\n",
       "    .dataframe thead th {\n",
       "        text-align: right;\n",
       "    }\n",
       "</style>\n",
       "<table border=\"1\" class=\"dataframe\">\n",
       "  <thead>\n",
       "    <tr style=\"text-align: right;\">\n",
       "      <th></th>\n",
       "      <th>column_name</th>\n",
       "      <th>data_type</th>\n",
       "    </tr>\n",
       "  </thead>\n",
       "  <tbody>\n",
       "    <tr>\n",
       "      <th>0</th>\n",
       "      <td>author_id</td>\n",
       "      <td>integer</td>\n",
       "    </tr>\n",
       "    <tr>\n",
       "      <th>1</th>\n",
       "      <td>author</td>\n",
       "      <td>text</td>\n",
       "    </tr>\n",
       "  </tbody>\n",
       "</table>\n",
       "</div>"
      ],
      "text/plain": [
       "  column_name data_type\n",
       "0   author_id   integer\n",
       "1      author      text"
      ]
     },
     "execution_count": 10,
     "metadata": {},
     "output_type": "execute_result"
    }
   ],
   "source": [
    "get_info('authors')"
   ]
  },
  {
   "cell_type": "code",
   "execution_count": 11,
   "metadata": {},
   "outputs": [
    {
     "data": {
      "text/html": [
       "<div>\n",
       "<style scoped>\n",
       "    .dataframe tbody tr th:only-of-type {\n",
       "        vertical-align: middle;\n",
       "    }\n",
       "\n",
       "    .dataframe tbody tr th {\n",
       "        vertical-align: top;\n",
       "    }\n",
       "\n",
       "    .dataframe thead th {\n",
       "        text-align: right;\n",
       "    }\n",
       "</style>\n",
       "<table border=\"1\" class=\"dataframe\">\n",
       "  <thead>\n",
       "    <tr style=\"text-align: right;\">\n",
       "      <th></th>\n",
       "      <th>author_id</th>\n",
       "      <th>author</th>\n",
       "    </tr>\n",
       "  </thead>\n",
       "  <tbody>\n",
       "    <tr>\n",
       "      <th>0</th>\n",
       "      <td>1</td>\n",
       "      <td>A.S. Byatt</td>\n",
       "    </tr>\n",
       "    <tr>\n",
       "      <th>1</th>\n",
       "      <td>2</td>\n",
       "      <td>Aesop/Laura Harris/Laura Gibbs</td>\n",
       "    </tr>\n",
       "    <tr>\n",
       "      <th>2</th>\n",
       "      <td>3</td>\n",
       "      <td>Agatha Christie</td>\n",
       "    </tr>\n",
       "    <tr>\n",
       "      <th>3</th>\n",
       "      <td>4</td>\n",
       "      <td>Alan Brennert</td>\n",
       "    </tr>\n",
       "    <tr>\n",
       "      <th>4</th>\n",
       "      <td>5</td>\n",
       "      <td>Alan Moore/David   Lloyd</td>\n",
       "    </tr>\n",
       "  </tbody>\n",
       "</table>\n",
       "</div>"
      ],
      "text/plain": [
       "   author_id                          author\n",
       "0          1                      A.S. Byatt\n",
       "1          2  Aesop/Laura Harris/Laura Gibbs\n",
       "2          3                 Agatha Christie\n",
       "3          4                   Alan Brennert\n",
       "4          5        Alan Moore/David   Lloyd"
      ]
     },
     "execution_count": 11,
     "metadata": {},
     "output_type": "execute_result"
    }
   ],
   "source": [
    "get_head('authors')"
   ]
  },
  {
   "cell_type": "markdown",
   "metadata": {},
   "source": [
    "**Согласно документации к данным:**\n",
    "\n",
    "authors - содержит данные об авторах.\n",
    "\n",
    "- `author_id `— идентификатор автора; \n",
    "- `author` — имя автора."
   ]
  },
  {
   "cell_type": "markdown",
   "metadata": {},
   "source": [
    "### В таблице publishers"
   ]
  },
  {
   "cell_type": "code",
   "execution_count": 12,
   "metadata": {},
   "outputs": [
    {
     "data": {
      "text/html": [
       "<div>\n",
       "<style scoped>\n",
       "    .dataframe tbody tr th:only-of-type {\n",
       "        vertical-align: middle;\n",
       "    }\n",
       "\n",
       "    .dataframe tbody tr th {\n",
       "        vertical-align: top;\n",
       "    }\n",
       "\n",
       "    .dataframe thead th {\n",
       "        text-align: right;\n",
       "    }\n",
       "</style>\n",
       "<table border=\"1\" class=\"dataframe\">\n",
       "  <thead>\n",
       "    <tr style=\"text-align: right;\">\n",
       "      <th></th>\n",
       "      <th>column_name</th>\n",
       "      <th>data_type</th>\n",
       "    </tr>\n",
       "  </thead>\n",
       "  <tbody>\n",
       "    <tr>\n",
       "      <th>0</th>\n",
       "      <td>publisher_id</td>\n",
       "      <td>integer</td>\n",
       "    </tr>\n",
       "    <tr>\n",
       "      <th>1</th>\n",
       "      <td>publisher</td>\n",
       "      <td>text</td>\n",
       "    </tr>\n",
       "  </tbody>\n",
       "</table>\n",
       "</div>"
      ],
      "text/plain": [
       "    column_name data_type\n",
       "0  publisher_id   integer\n",
       "1     publisher      text"
      ]
     },
     "execution_count": 12,
     "metadata": {},
     "output_type": "execute_result"
    }
   ],
   "source": [
    "get_info('publishers')"
   ]
  },
  {
   "cell_type": "code",
   "execution_count": 13,
   "metadata": {},
   "outputs": [
    {
     "data": {
      "text/html": [
       "<div>\n",
       "<style scoped>\n",
       "    .dataframe tbody tr th:only-of-type {\n",
       "        vertical-align: middle;\n",
       "    }\n",
       "\n",
       "    .dataframe tbody tr th {\n",
       "        vertical-align: top;\n",
       "    }\n",
       "\n",
       "    .dataframe thead th {\n",
       "        text-align: right;\n",
       "    }\n",
       "</style>\n",
       "<table border=\"1\" class=\"dataframe\">\n",
       "  <thead>\n",
       "    <tr style=\"text-align: right;\">\n",
       "      <th></th>\n",
       "      <th>publisher_id</th>\n",
       "      <th>publisher</th>\n",
       "    </tr>\n",
       "  </thead>\n",
       "  <tbody>\n",
       "    <tr>\n",
       "      <th>0</th>\n",
       "      <td>1</td>\n",
       "      <td>Ace</td>\n",
       "    </tr>\n",
       "    <tr>\n",
       "      <th>1</th>\n",
       "      <td>2</td>\n",
       "      <td>Ace Book</td>\n",
       "    </tr>\n",
       "    <tr>\n",
       "      <th>2</th>\n",
       "      <td>3</td>\n",
       "      <td>Ace Books</td>\n",
       "    </tr>\n",
       "    <tr>\n",
       "      <th>3</th>\n",
       "      <td>4</td>\n",
       "      <td>Ace Hardcover</td>\n",
       "    </tr>\n",
       "    <tr>\n",
       "      <th>4</th>\n",
       "      <td>5</td>\n",
       "      <td>Addison Wesley Publishing Company</td>\n",
       "    </tr>\n",
       "  </tbody>\n",
       "</table>\n",
       "</div>"
      ],
      "text/plain": [
       "   publisher_id                          publisher\n",
       "0             1                                Ace\n",
       "1             2                           Ace Book\n",
       "2             3                          Ace Books\n",
       "3             4                      Ace Hardcover\n",
       "4             5  Addison Wesley Publishing Company"
      ]
     },
     "execution_count": 13,
     "metadata": {},
     "output_type": "execute_result"
    }
   ],
   "source": [
    "get_head('publishers')"
   ]
  },
  {
   "cell_type": "markdown",
   "metadata": {},
   "source": [
    "**Согласно документации к данным:**\n",
    "\n",
    "publishers - содержит данные об издательствах.\n",
    "\n",
    "- `publisher_id `— идентификатор издательства; \n",
    "- `publisher` — название издательства."
   ]
  },
  {
   "cell_type": "markdown",
   "metadata": {},
   "source": [
    "### В таблице ratings"
   ]
  },
  {
   "cell_type": "code",
   "execution_count": 14,
   "metadata": {},
   "outputs": [
    {
     "data": {
      "text/html": [
       "<div>\n",
       "<style scoped>\n",
       "    .dataframe tbody tr th:only-of-type {\n",
       "        vertical-align: middle;\n",
       "    }\n",
       "\n",
       "    .dataframe tbody tr th {\n",
       "        vertical-align: top;\n",
       "    }\n",
       "\n",
       "    .dataframe thead th {\n",
       "        text-align: right;\n",
       "    }\n",
       "</style>\n",
       "<table border=\"1\" class=\"dataframe\">\n",
       "  <thead>\n",
       "    <tr style=\"text-align: right;\">\n",
       "      <th></th>\n",
       "      <th>column_name</th>\n",
       "      <th>data_type</th>\n",
       "    </tr>\n",
       "  </thead>\n",
       "  <tbody>\n",
       "    <tr>\n",
       "      <th>0</th>\n",
       "      <td>rating_id</td>\n",
       "      <td>integer</td>\n",
       "    </tr>\n",
       "    <tr>\n",
       "      <th>1</th>\n",
       "      <td>book_id</td>\n",
       "      <td>integer</td>\n",
       "    </tr>\n",
       "    <tr>\n",
       "      <th>2</th>\n",
       "      <td>username</td>\n",
       "      <td>text</td>\n",
       "    </tr>\n",
       "    <tr>\n",
       "      <th>3</th>\n",
       "      <td>rating</td>\n",
       "      <td>integer</td>\n",
       "    </tr>\n",
       "  </tbody>\n",
       "</table>\n",
       "</div>"
      ],
      "text/plain": [
       "  column_name data_type\n",
       "0   rating_id   integer\n",
       "1     book_id   integer\n",
       "2    username      text\n",
       "3      rating   integer"
      ]
     },
     "execution_count": 14,
     "metadata": {},
     "output_type": "execute_result"
    }
   ],
   "source": [
    "get_info('ratings')"
   ]
  },
  {
   "cell_type": "code",
   "execution_count": 15,
   "metadata": {},
   "outputs": [
    {
     "data": {
      "text/html": [
       "<div>\n",
       "<style scoped>\n",
       "    .dataframe tbody tr th:only-of-type {\n",
       "        vertical-align: middle;\n",
       "    }\n",
       "\n",
       "    .dataframe tbody tr th {\n",
       "        vertical-align: top;\n",
       "    }\n",
       "\n",
       "    .dataframe thead th {\n",
       "        text-align: right;\n",
       "    }\n",
       "</style>\n",
       "<table border=\"1\" class=\"dataframe\">\n",
       "  <thead>\n",
       "    <tr style=\"text-align: right;\">\n",
       "      <th></th>\n",
       "      <th>rating_id</th>\n",
       "      <th>book_id</th>\n",
       "      <th>username</th>\n",
       "      <th>rating</th>\n",
       "    </tr>\n",
       "  </thead>\n",
       "  <tbody>\n",
       "    <tr>\n",
       "      <th>0</th>\n",
       "      <td>1</td>\n",
       "      <td>1</td>\n",
       "      <td>ryanfranco</td>\n",
       "      <td>4</td>\n",
       "    </tr>\n",
       "    <tr>\n",
       "      <th>1</th>\n",
       "      <td>2</td>\n",
       "      <td>1</td>\n",
       "      <td>grantpatricia</td>\n",
       "      <td>2</td>\n",
       "    </tr>\n",
       "    <tr>\n",
       "      <th>2</th>\n",
       "      <td>3</td>\n",
       "      <td>1</td>\n",
       "      <td>brandtandrea</td>\n",
       "      <td>5</td>\n",
       "    </tr>\n",
       "    <tr>\n",
       "      <th>3</th>\n",
       "      <td>4</td>\n",
       "      <td>2</td>\n",
       "      <td>lorichen</td>\n",
       "      <td>3</td>\n",
       "    </tr>\n",
       "    <tr>\n",
       "      <th>4</th>\n",
       "      <td>5</td>\n",
       "      <td>2</td>\n",
       "      <td>mariokeller</td>\n",
       "      <td>2</td>\n",
       "    </tr>\n",
       "  </tbody>\n",
       "</table>\n",
       "</div>"
      ],
      "text/plain": [
       "   rating_id  book_id       username  rating\n",
       "0          1        1     ryanfranco       4\n",
       "1          2        1  grantpatricia       2\n",
       "2          3        1   brandtandrea       5\n",
       "3          4        2       lorichen       3\n",
       "4          5        2    mariokeller       2"
      ]
     },
     "execution_count": 15,
     "metadata": {},
     "output_type": "execute_result"
    }
   ],
   "source": [
    "get_head('ratings')"
   ]
  },
  {
   "cell_type": "markdown",
   "metadata": {},
   "source": [
    "**Согласно документации к данным:**\n",
    "\n",
    "ratings - содержит данные о пользовательских оценках книг.\n",
    "\n",
    "- `rating_id` — идентификатор оценки;\n",
    "- `book_id` — идентификатор книги;\n",
    "- `username` — имя пользователя, оставившего оценку; \n",
    "- `rating` — оценка книги."
   ]
  },
  {
   "cell_type": "markdown",
   "metadata": {},
   "source": [
    "### В таблице reviews"
   ]
  },
  {
   "cell_type": "code",
   "execution_count": 16,
   "metadata": {},
   "outputs": [
    {
     "data": {
      "text/html": [
       "<div>\n",
       "<style scoped>\n",
       "    .dataframe tbody tr th:only-of-type {\n",
       "        vertical-align: middle;\n",
       "    }\n",
       "\n",
       "    .dataframe tbody tr th {\n",
       "        vertical-align: top;\n",
       "    }\n",
       "\n",
       "    .dataframe thead th {\n",
       "        text-align: right;\n",
       "    }\n",
       "</style>\n",
       "<table border=\"1\" class=\"dataframe\">\n",
       "  <thead>\n",
       "    <tr style=\"text-align: right;\">\n",
       "      <th></th>\n",
       "      <th>column_name</th>\n",
       "      <th>data_type</th>\n",
       "    </tr>\n",
       "  </thead>\n",
       "  <tbody>\n",
       "    <tr>\n",
       "      <th>0</th>\n",
       "      <td>review_id</td>\n",
       "      <td>integer</td>\n",
       "    </tr>\n",
       "    <tr>\n",
       "      <th>1</th>\n",
       "      <td>book_id</td>\n",
       "      <td>integer</td>\n",
       "    </tr>\n",
       "    <tr>\n",
       "      <th>2</th>\n",
       "      <td>username</td>\n",
       "      <td>text</td>\n",
       "    </tr>\n",
       "    <tr>\n",
       "      <th>3</th>\n",
       "      <td>text</td>\n",
       "      <td>text</td>\n",
       "    </tr>\n",
       "  </tbody>\n",
       "</table>\n",
       "</div>"
      ],
      "text/plain": [
       "  column_name data_type\n",
       "0   review_id   integer\n",
       "1     book_id   integer\n",
       "2    username      text\n",
       "3        text      text"
      ]
     },
     "execution_count": 16,
     "metadata": {},
     "output_type": "execute_result"
    }
   ],
   "source": [
    "get_info('reviews')"
   ]
  },
  {
   "cell_type": "code",
   "execution_count": 17,
   "metadata": {},
   "outputs": [
    {
     "data": {
      "text/html": [
       "<div>\n",
       "<style scoped>\n",
       "    .dataframe tbody tr th:only-of-type {\n",
       "        vertical-align: middle;\n",
       "    }\n",
       "\n",
       "    .dataframe tbody tr th {\n",
       "        vertical-align: top;\n",
       "    }\n",
       "\n",
       "    .dataframe thead th {\n",
       "        text-align: right;\n",
       "    }\n",
       "</style>\n",
       "<table border=\"1\" class=\"dataframe\">\n",
       "  <thead>\n",
       "    <tr style=\"text-align: right;\">\n",
       "      <th></th>\n",
       "      <th>review_id</th>\n",
       "      <th>book_id</th>\n",
       "      <th>username</th>\n",
       "      <th>text</th>\n",
       "    </tr>\n",
       "  </thead>\n",
       "  <tbody>\n",
       "    <tr>\n",
       "      <th>0</th>\n",
       "      <td>1</td>\n",
       "      <td>1</td>\n",
       "      <td>brandtandrea</td>\n",
       "      <td>Mention society tell send professor analysis. ...</td>\n",
       "    </tr>\n",
       "    <tr>\n",
       "      <th>1</th>\n",
       "      <td>2</td>\n",
       "      <td>1</td>\n",
       "      <td>ryanfranco</td>\n",
       "      <td>Foot glass pretty audience hit themselves. Amo...</td>\n",
       "    </tr>\n",
       "    <tr>\n",
       "      <th>2</th>\n",
       "      <td>3</td>\n",
       "      <td>2</td>\n",
       "      <td>lorichen</td>\n",
       "      <td>Listen treat keep worry. Miss husband tax but ...</td>\n",
       "    </tr>\n",
       "    <tr>\n",
       "      <th>3</th>\n",
       "      <td>4</td>\n",
       "      <td>3</td>\n",
       "      <td>johnsonamanda</td>\n",
       "      <td>Finally month interesting blue could nature cu...</td>\n",
       "    </tr>\n",
       "    <tr>\n",
       "      <th>4</th>\n",
       "      <td>5</td>\n",
       "      <td>3</td>\n",
       "      <td>scotttamara</td>\n",
       "      <td>Nation purpose heavy give wait song will. List...</td>\n",
       "    </tr>\n",
       "  </tbody>\n",
       "</table>\n",
       "</div>"
      ],
      "text/plain": [
       "   review_id  book_id       username  \\\n",
       "0          1        1   brandtandrea   \n",
       "1          2        1     ryanfranco   \n",
       "2          3        2       lorichen   \n",
       "3          4        3  johnsonamanda   \n",
       "4          5        3    scotttamara   \n",
       "\n",
       "                                                text  \n",
       "0  Mention society tell send professor analysis. ...  \n",
       "1  Foot glass pretty audience hit themselves. Amo...  \n",
       "2  Listen treat keep worry. Miss husband tax but ...  \n",
       "3  Finally month interesting blue could nature cu...  \n",
       "4  Nation purpose heavy give wait song will. List...  "
      ]
     },
     "execution_count": 17,
     "metadata": {},
     "output_type": "execute_result"
    }
   ],
   "source": [
    "get_head('reviews')"
   ]
  },
  {
   "cell_type": "markdown",
   "metadata": {},
   "source": [
    "**Согласно документации к данным:**\n",
    "\n",
    "reviews - содержит данные о пользовательских обзорах на книги.\n",
    "\n",
    "- `review_id` — идентификатор обзора;\n",
    "- `book_id` — идентификатор книги;\n",
    "- `username` — имя пользователя, написавшего обзор; \n",
    "- `text` — текст обзора."
   ]
  },
  {
   "cell_type": "markdown",
   "metadata": {},
   "source": [
    "## Количество книг вышедших после 1 января 2000 года"
   ]
  },
  {
   "cell_type": "code",
   "execution_count": 18,
   "metadata": {},
   "outputs": [],
   "source": [
    "query = \"\"\"\n",
    "SELECT COUNT(*)\n",
    "FROM books\n",
    "WHERE publication_date > '2000-01-01'\n",
    "\"\"\""
   ]
  },
  {
   "cell_type": "code",
   "execution_count": 19,
   "metadata": {},
   "outputs": [
    {
     "data": {
      "text/html": [
       "<div>\n",
       "<style scoped>\n",
       "    .dataframe tbody tr th:only-of-type {\n",
       "        vertical-align: middle;\n",
       "    }\n",
       "\n",
       "    .dataframe tbody tr th {\n",
       "        vertical-align: top;\n",
       "    }\n",
       "\n",
       "    .dataframe thead th {\n",
       "        text-align: right;\n",
       "    }\n",
       "</style>\n",
       "<table border=\"1\" class=\"dataframe\">\n",
       "  <thead>\n",
       "    <tr style=\"text-align: right;\">\n",
       "      <th></th>\n",
       "      <th>count</th>\n",
       "    </tr>\n",
       "  </thead>\n",
       "  <tbody>\n",
       "    <tr>\n",
       "      <th>0</th>\n",
       "      <td>819</td>\n",
       "    </tr>\n",
       "  </tbody>\n",
       "</table>\n",
       "</div>"
      ],
      "text/plain": [
       "   count\n",
       "0    819"
      ]
     },
     "execution_count": 19,
     "metadata": {},
     "output_type": "execute_result"
    }
   ],
   "source": [
    "sql_request(query)"
   ]
  },
  {
   "cell_type": "markdown",
   "metadata": {},
   "source": [
    "*После 1 января 2000 года вышло 819 книг.*"
   ]
  },
  {
   "cell_type": "markdown",
   "metadata": {},
   "source": [
    "## Количество обзоров и средняя оценка для каждой книги"
   ]
  },
  {
   "cell_type": "code",
   "execution_count": 20,
   "metadata": {},
   "outputs": [],
   "source": [
    "query = \"\"\"\n",
    "WITH review_cnt AS (\n",
    "SELECT book_id,\n",
    "       COUNT(review_id) AS review_cnt\n",
    "FROM reviews\n",
    "GROUP BY book_id\n",
    "),\n",
    "rating_avg AS (\n",
    "SELECT book_id, \n",
    "       AVG(rating) AS rating_avg\n",
    "FROM ratings\n",
    "GROUP BY book_id\n",
    ")\n",
    "SELECT b.title AS title,\n",
    "       rc.review_cnt,\n",
    "       ra.rating_avg\n",
    "FROM books as b\n",
    "LEFT JOIN review_cnt AS rc ON b.book_id = rc.book_id\n",
    "LEFT JOIN rating_avg AS ra ON b.book_id = ra.book_id\n",
    "WHERE review_cnt is not null\n",
    "ORDER BY review_cnt DESC, rating_avg DESC\n",
    "\"\"\""
   ]
  },
  {
   "cell_type": "code",
   "execution_count": 21,
   "metadata": {},
   "outputs": [
    {
     "data": {
      "text/html": [
       "<div>\n",
       "<style scoped>\n",
       "    .dataframe tbody tr th:only-of-type {\n",
       "        vertical-align: middle;\n",
       "    }\n",
       "\n",
       "    .dataframe tbody tr th {\n",
       "        vertical-align: top;\n",
       "    }\n",
       "\n",
       "    .dataframe thead th {\n",
       "        text-align: right;\n",
       "    }\n",
       "</style>\n",
       "<table border=\"1\" class=\"dataframe\">\n",
       "  <thead>\n",
       "    <tr style=\"text-align: right;\">\n",
       "      <th></th>\n",
       "      <th>title</th>\n",
       "      <th>review_cnt</th>\n",
       "      <th>rating_avg</th>\n",
       "    </tr>\n",
       "  </thead>\n",
       "  <tbody>\n",
       "    <tr>\n",
       "      <th>0</th>\n",
       "      <td>Twilight (Twilight  #1)</td>\n",
       "      <td>7</td>\n",
       "      <td>3.66</td>\n",
       "    </tr>\n",
       "    <tr>\n",
       "      <th>1</th>\n",
       "      <td>Harry Potter and the Prisoner of Azkaban (Harr...</td>\n",
       "      <td>6</td>\n",
       "      <td>4.41</td>\n",
       "    </tr>\n",
       "    <tr>\n",
       "      <th>2</th>\n",
       "      <td>Harry Potter and the Chamber of Secrets (Harry...</td>\n",
       "      <td>6</td>\n",
       "      <td>4.29</td>\n",
       "    </tr>\n",
       "    <tr>\n",
       "      <th>3</th>\n",
       "      <td>The Book Thief</td>\n",
       "      <td>6</td>\n",
       "      <td>4.26</td>\n",
       "    </tr>\n",
       "    <tr>\n",
       "      <th>4</th>\n",
       "      <td>The Glass Castle</td>\n",
       "      <td>6</td>\n",
       "      <td>4.21</td>\n",
       "    </tr>\n",
       "    <tr>\n",
       "      <th>...</th>\n",
       "      <td>...</td>\n",
       "      <td>...</td>\n",
       "      <td>...</td>\n",
       "    </tr>\n",
       "    <tr>\n",
       "      <th>989</th>\n",
       "      <td>Moo  Baa  La La La!</td>\n",
       "      <td>1</td>\n",
       "      <td>3.00</td>\n",
       "    </tr>\n",
       "    <tr>\n",
       "      <th>990</th>\n",
       "      <td>Debt of Honor (Jack Ryan  #7)</td>\n",
       "      <td>1</td>\n",
       "      <td>3.00</td>\n",
       "    </tr>\n",
       "    <tr>\n",
       "      <th>991</th>\n",
       "      <td>History of Beauty</td>\n",
       "      <td>1</td>\n",
       "      <td>2.50</td>\n",
       "    </tr>\n",
       "    <tr>\n",
       "      <th>992</th>\n",
       "      <td>Tsubasa: RESERVoir CHRoNiCLE  Vol. 1</td>\n",
       "      <td>1</td>\n",
       "      <td>2.50</td>\n",
       "    </tr>\n",
       "    <tr>\n",
       "      <th>993</th>\n",
       "      <td>1 000 Places to See Before You Die</td>\n",
       "      <td>1</td>\n",
       "      <td>2.50</td>\n",
       "    </tr>\n",
       "  </tbody>\n",
       "</table>\n",
       "<p>994 rows × 3 columns</p>\n",
       "</div>"
      ],
      "text/plain": [
       "                                                 title  review_cnt  rating_avg\n",
       "0                              Twilight (Twilight  #1)           7        3.66\n",
       "1    Harry Potter and the Prisoner of Azkaban (Harr...           6        4.41\n",
       "2    Harry Potter and the Chamber of Secrets (Harry...           6        4.29\n",
       "3                                       The Book Thief           6        4.26\n",
       "4                                     The Glass Castle           6        4.21\n",
       "..                                                 ...         ...         ...\n",
       "989                                Moo  Baa  La La La!           1        3.00\n",
       "990                      Debt of Honor (Jack Ryan  #7)           1        3.00\n",
       "991                                  History of Beauty           1        2.50\n",
       "992               Tsubasa: RESERVoir CHRoNiCLE  Vol. 1           1        2.50\n",
       "993                 1 000 Places to See Before You Die           1        2.50\n",
       "\n",
       "[994 rows x 3 columns]"
      ]
     },
     "execution_count": 21,
     "metadata": {},
     "output_type": "execute_result"
    }
   ],
   "source": [
    "sql_request(query)"
   ]
  },
  {
   "cell_type": "markdown",
   "metadata": {},
   "source": [
    "*Больше всего обзоров на книгу \"Twilight (Twilight #1)\" ее средний ретинг 3.66, есть книги, на которые еще не написали обзоры.*"
   ]
  },
  {
   "cell_type": "markdown",
   "metadata": {},
   "source": [
    "## Издательство, которое выпустило наибольшее число книг толще 50 страниц"
   ]
  },
  {
   "cell_type": "code",
   "execution_count": 22,
   "metadata": {},
   "outputs": [],
   "source": [
    "query = \"\"\"\n",
    "SELECT p.publisher AS publisher,\n",
    "       COUNT(b.book_id) AS book_cnt\n",
    "FROM publishers as p\n",
    "JOIN books AS b ON p.publisher_id = b.publisher_id\n",
    "WHERE b.num_pages > 50\n",
    "GROUP BY publisher\n",
    "ORDER BY book_cnt DESC\n",
    "LIMIT 1\n",
    "\"\"\""
   ]
  },
  {
   "cell_type": "code",
   "execution_count": 23,
   "metadata": {},
   "outputs": [
    {
     "data": {
      "text/html": [
       "<div>\n",
       "<style scoped>\n",
       "    .dataframe tbody tr th:only-of-type {\n",
       "        vertical-align: middle;\n",
       "    }\n",
       "\n",
       "    .dataframe tbody tr th {\n",
       "        vertical-align: top;\n",
       "    }\n",
       "\n",
       "    .dataframe thead th {\n",
       "        text-align: right;\n",
       "    }\n",
       "</style>\n",
       "<table border=\"1\" class=\"dataframe\">\n",
       "  <thead>\n",
       "    <tr style=\"text-align: right;\">\n",
       "      <th></th>\n",
       "      <th>publisher</th>\n",
       "      <th>book_cnt</th>\n",
       "    </tr>\n",
       "  </thead>\n",
       "  <tbody>\n",
       "    <tr>\n",
       "      <th>0</th>\n",
       "      <td>Penguin Books</td>\n",
       "      <td>42</td>\n",
       "    </tr>\n",
       "  </tbody>\n",
       "</table>\n",
       "</div>"
      ],
      "text/plain": [
       "       publisher  book_cnt\n",
       "0  Penguin Books        42"
      ]
     },
     "execution_count": 23,
     "metadata": {},
     "output_type": "execute_result"
    }
   ],
   "source": [
    "sql_request(query)"
   ]
  },
  {
   "cell_type": "markdown",
   "metadata": {},
   "source": [
    "*Наибольшее число книг выпустило издательство \"Penguin Books\", их количество составило 42 и он же ответ на самый главный вселенский вопрос.*"
   ]
  },
  {
   "cell_type": "markdown",
   "metadata": {},
   "source": [
    "## Автор с самой высокой средней оценкой книг, с количеством оценок более 50"
   ]
  },
  {
   "cell_type": "code",
   "execution_count": 24,
   "metadata": {},
   "outputs": [],
   "source": [
    "query = \"\"\"\n",
    "WITH rating_by_books AS(\n",
    "    SELECT book_id,\n",
    "           COUNT(rating_id) AS rating_cnt\n",
    "    FROM ratings\n",
    "    GROUP BY book_id\n",
    ")\n",
    "SELECT a.author,\n",
    "       AVG(rt.rating) AS rating_avg\n",
    "FROM authors as a\n",
    "JOIN books AS b ON a.author_id = b.author_id\n",
    "JOIN rating_by_books AS r ON b.book_id = r.book_id\n",
    "JOIN ratings AS rt on b.book_id = rt.book_id\n",
    "WHERE r.rating_cnt >= 50\n",
    "GROUP BY a.author\n",
    "ORDER BY rating_avg DESC\n",
    "LIMIT 1\n",
    "\"\"\""
   ]
  },
  {
   "cell_type": "code",
   "execution_count": 25,
   "metadata": {
    "scrolled": true
   },
   "outputs": [
    {
     "data": {
      "text/html": [
       "<div>\n",
       "<style scoped>\n",
       "    .dataframe tbody tr th:only-of-type {\n",
       "        vertical-align: middle;\n",
       "    }\n",
       "\n",
       "    .dataframe tbody tr th {\n",
       "        vertical-align: top;\n",
       "    }\n",
       "\n",
       "    .dataframe thead th {\n",
       "        text-align: right;\n",
       "    }\n",
       "</style>\n",
       "<table border=\"1\" class=\"dataframe\">\n",
       "  <thead>\n",
       "    <tr style=\"text-align: right;\">\n",
       "      <th></th>\n",
       "      <th>author</th>\n",
       "      <th>rating_avg</th>\n",
       "    </tr>\n",
       "  </thead>\n",
       "  <tbody>\n",
       "    <tr>\n",
       "      <th>0</th>\n",
       "      <td>J.K. Rowling/Mary GrandPré</td>\n",
       "      <td>4.29</td>\n",
       "    </tr>\n",
       "  </tbody>\n",
       "</table>\n",
       "</div>"
      ],
      "text/plain": [
       "                       author  rating_avg\n",
       "0  J.K. Rowling/Mary GrandPré        4.29"
      ]
     },
     "execution_count": 25,
     "metadata": {},
     "output_type": "execute_result"
    }
   ],
   "source": [
    "sql_request(query)"
   ]
  },
  {
   "cell_type": "markdown",
   "metadata": {},
   "source": [
    "*Автором с самой высокой средней оценкой среди книг с количеством оценок более 50 оказалась \"J.K. Rowling/Mary GrandPré\".*"
   ]
  },
  {
   "cell_type": "markdown",
   "metadata": {},
   "source": [
    "## Среднее количество обзоров от пользователей, которые поставили больше 50 оценок"
   ]
  },
  {
   "cell_type": "code",
   "execution_count": 26,
   "metadata": {},
   "outputs": [],
   "source": [
    "query = \"\"\"\n",
    "WITH rating_over_50 AS(\n",
    "    SELECT username,\n",
    "           COUNT(rating_id) AS rating_cnt\n",
    "    FROM ratings\n",
    "    GROUP BY username\n",
    "    HAVING COUNT(rating_id) > 50\n",
    "),\n",
    "review_by_users AS(\n",
    "    SELECT username,\n",
    "           COUNT(review_id) AS review_cnt\n",
    "    FROM reviews \n",
    "    GROUP BY username\n",
    ")\n",
    "SELECT AVG(rbu.review_cnt)\n",
    "FROM rating_over_50 AS ro\n",
    "JOIN review_by_users AS rbu ON ro.username = rbu.username\n",
    "\"\"\""
   ]
  },
  {
   "cell_type": "code",
   "execution_count": 27,
   "metadata": {
    "scrolled": true
   },
   "outputs": [
    {
     "data": {
      "text/html": [
       "<div>\n",
       "<style scoped>\n",
       "    .dataframe tbody tr th:only-of-type {\n",
       "        vertical-align: middle;\n",
       "    }\n",
       "\n",
       "    .dataframe tbody tr th {\n",
       "        vertical-align: top;\n",
       "    }\n",
       "\n",
       "    .dataframe thead th {\n",
       "        text-align: right;\n",
       "    }\n",
       "</style>\n",
       "<table border=\"1\" class=\"dataframe\">\n",
       "  <thead>\n",
       "    <tr style=\"text-align: right;\">\n",
       "      <th></th>\n",
       "      <th>avg</th>\n",
       "    </tr>\n",
       "  </thead>\n",
       "  <tbody>\n",
       "    <tr>\n",
       "      <th>0</th>\n",
       "      <td>24.33</td>\n",
       "    </tr>\n",
       "  </tbody>\n",
       "</table>\n",
       "</div>"
      ],
      "text/plain": [
       "     avg\n",
       "0  24.33"
      ]
     },
     "execution_count": 27,
     "metadata": {},
     "output_type": "execute_result"
    }
   ],
   "source": [
    "sql_request(query)"
   ]
  },
  {
   "cell_type": "markdown",
   "metadata": {},
   "source": [
    "*Среднее количество обзоров 24.33*"
   ]
  },
  {
   "cell_type": "markdown",
   "metadata": {},
   "source": [
    "## Общий вывод\n",
    "\n",
    "- База данных представляет из себя 5 таблиц:\n",
    "  - `books` - содержит данные о книгах;\n",
    "  - `authors` - содержит данные об авторах;\n",
    "  - `publishers` - содержит данные об издательствах;\n",
    "  - `rating` - содержит данные о пользовательских обзорах;\n",
    "  - `reviews` - содержит данные о пользовательских обзорах$\n",
    "- В ходе анализа были получены ответы на следующие вопросы:\n",
    "  - Количество книг вышедших после 1 января 2000 года – `819`;\n",
    "  - Количество обзоров и средняя оценка для каждой книги:\n",
    "    1. Место – `Twilight`, количество обзоров `7`, средний рейтинг `3.66`;\n",
    "    2. Место – `Harry Potter and the Prisoner of Azkaban`, количество обзоров\t`6`, средний рейтинг\t`4.41`;\n",
    "    3. Место – `Harry Potter and the Chamber of Secrets`, количество обзоров\t`6`, средний рейтинг\t`4.29`;\n",
    "  - Издательство, которое выпустило наибольшее число книг толще 50 страниц – `Penguin Books`;\n",
    "  - Автор с самой высокой средней оценкой книг, с количеством оценок более 50 – `J.K. Rowling/Mary GrandPré`;\n",
    "  - Среднее количество обзоров от пользователей, которые поставили больше 50 оценок – `24.33`. "
   ]
  },
  {
   "cell_type": "code",
   "execution_count": null,
   "metadata": {},
   "outputs": [],
   "source": []
  }
 ],
 "metadata": {
  "ExecuteTimeLog": [
   {
    "duration": 568,
    "start_time": "2022-06-22T07:46:46.878Z"
   },
   {
    "duration": 17,
    "start_time": "2022-06-22T07:46:47.449Z"
   },
   {
    "duration": 6,
    "start_time": "2022-06-22T07:46:47.470Z"
   },
   {
    "duration": 9718,
    "start_time": "2022-06-22T07:46:47.478Z"
   },
   {
    "duration": 3,
    "start_time": "2022-06-22T07:46:57.198Z"
   },
   {
    "duration": 11,
    "start_time": "2022-06-22T07:46:57.203Z"
   },
   {
    "duration": 7,
    "start_time": "2022-06-22T07:46:57.216Z"
   },
   {
    "duration": 311,
    "start_time": "2022-06-22T07:46:57.225Z"
   },
   {
    "duration": 101,
    "start_time": "2022-06-22T07:46:57.537Z"
   },
   {
    "duration": 84,
    "start_time": "2022-06-22T07:46:57.640Z"
   },
   {
    "duration": 83,
    "start_time": "2022-06-22T07:46:57.726Z"
   },
   {
    "duration": 79,
    "start_time": "2022-06-22T07:46:57.811Z"
   },
   {
    "duration": 85,
    "start_time": "2022-06-22T07:46:57.892Z"
   },
   {
    "duration": 76,
    "start_time": "2022-06-22T07:46:57.979Z"
   },
   {
    "duration": 80,
    "start_time": "2022-06-22T07:46:58.056Z"
   },
   {
    "duration": 81,
    "start_time": "2022-06-22T07:46:58.138Z"
   },
   {
    "duration": 82,
    "start_time": "2022-06-22T07:46:58.221Z"
   },
   {
    "duration": 3,
    "start_time": "2022-06-22T07:46:58.304Z"
   },
   {
    "duration": 92,
    "start_time": "2022-06-22T07:46:58.308Z"
   },
   {
    "duration": 3,
    "start_time": "2022-06-22T07:46:58.401Z"
   },
   {
    "duration": 115,
    "start_time": "2022-06-22T07:46:58.406Z"
   },
   {
    "duration": 2,
    "start_time": "2022-06-22T07:46:58.523Z"
   },
   {
    "duration": 84,
    "start_time": "2022-06-22T07:46:58.527Z"
   },
   {
    "duration": 3,
    "start_time": "2022-06-22T07:46:58.613Z"
   },
   {
    "duration": 84,
    "start_time": "2022-06-22T07:46:58.617Z"
   },
   {
    "duration": 3,
    "start_time": "2022-06-22T07:46:58.703Z"
   },
   {
    "duration": 83,
    "start_time": "2022-06-22T07:46:58.708Z"
   },
   {
    "duration": 78,
    "start_time": "2022-06-22T07:48:39.174Z"
   },
   {
    "duration": 82,
    "start_time": "2022-06-22T07:51:00.420Z"
   },
   {
    "duration": 88,
    "start_time": "2022-06-22T07:51:08.882Z"
   },
   {
    "duration": 86,
    "start_time": "2022-06-22T07:51:17.028Z"
   },
   {
    "duration": 79,
    "start_time": "2022-06-22T07:51:19.622Z"
   },
   {
    "duration": 79,
    "start_time": "2022-06-22T07:53:09.469Z"
   },
   {
    "duration": 3,
    "start_time": "2022-06-22T07:54:11.230Z"
   },
   {
    "duration": 4,
    "start_time": "2022-06-22T07:54:20.999Z"
   },
   {
    "duration": 77,
    "start_time": "2022-06-22T07:54:22.078Z"
   },
   {
    "duration": 520,
    "start_time": "2022-06-22T08:35:06.340Z"
   },
   {
    "duration": 3,
    "start_time": "2022-06-22T08:35:06.863Z"
   },
   {
    "duration": 14,
    "start_time": "2022-06-22T08:35:06.867Z"
   },
   {
    "duration": 5738,
    "start_time": "2022-06-22T08:35:06.883Z"
   },
   {
    "duration": 3,
    "start_time": "2022-06-22T08:35:12.624Z"
   },
   {
    "duration": 14,
    "start_time": "2022-06-22T08:35:12.630Z"
   },
   {
    "duration": 15,
    "start_time": "2022-06-22T08:35:12.645Z"
   },
   {
    "duration": 259,
    "start_time": "2022-06-22T08:35:12.663Z"
   },
   {
    "duration": 75,
    "start_time": "2022-06-22T08:35:12.924Z"
   },
   {
    "duration": 77,
    "start_time": "2022-06-22T08:35:13.001Z"
   },
   {
    "duration": 74,
    "start_time": "2022-06-22T08:35:13.080Z"
   },
   {
    "duration": 73,
    "start_time": "2022-06-22T08:35:13.156Z"
   },
   {
    "duration": 70,
    "start_time": "2022-06-22T08:35:13.230Z"
   },
   {
    "duration": 72,
    "start_time": "2022-06-22T08:35:13.303Z"
   },
   {
    "duration": 72,
    "start_time": "2022-06-22T08:35:13.377Z"
   },
   {
    "duration": 72,
    "start_time": "2022-06-22T08:35:13.451Z"
   },
   {
    "duration": 73,
    "start_time": "2022-06-22T08:35:13.525Z"
   },
   {
    "duration": 3,
    "start_time": "2022-06-22T08:35:13.599Z"
   },
   {
    "duration": 79,
    "start_time": "2022-06-22T08:35:13.603Z"
   },
   {
    "duration": 3,
    "start_time": "2022-06-22T08:36:48.746Z"
   },
   {
    "duration": 107,
    "start_time": "2022-06-22T08:36:51.436Z"
   },
   {
    "duration": 3,
    "start_time": "2022-06-22T08:38:23.325Z"
   },
   {
    "duration": 213,
    "start_time": "2022-06-22T08:38:24.735Z"
   },
   {
    "duration": 3,
    "start_time": "2022-06-22T08:38:32.278Z"
   },
   {
    "duration": 117,
    "start_time": "2022-06-22T08:38:33.873Z"
   },
   {
    "duration": 3,
    "start_time": "2022-06-22T08:39:45.966Z"
   },
   {
    "duration": 105,
    "start_time": "2022-06-22T08:39:46.922Z"
   },
   {
    "duration": 48,
    "start_time": "2022-06-22T08:42:44.452Z"
   },
   {
    "duration": 3,
    "start_time": "2022-06-22T08:42:52.040Z"
   },
   {
    "duration": 134,
    "start_time": "2022-06-22T08:42:54.466Z"
   },
   {
    "duration": 3,
    "start_time": "2022-06-22T08:43:25.539Z"
   },
   {
    "duration": 140,
    "start_time": "2022-06-22T08:43:28.056Z"
   },
   {
    "duration": 3,
    "start_time": "2022-06-22T08:43:48.690Z"
   },
   {
    "duration": 104,
    "start_time": "2022-06-22T08:43:50.562Z"
   },
   {
    "duration": 3,
    "start_time": "2022-06-22T08:43:58.613Z"
   },
   {
    "duration": 107,
    "start_time": "2022-06-22T08:44:00.299Z"
   },
   {
    "duration": 2,
    "start_time": "2022-06-22T08:44:27.546Z"
   },
   {
    "duration": 106,
    "start_time": "2022-06-22T08:44:28.879Z"
   },
   {
    "duration": 3,
    "start_time": "2022-06-22T08:44:41.666Z"
   },
   {
    "duration": 104,
    "start_time": "2022-06-22T08:44:42.638Z"
   },
   {
    "duration": 3,
    "start_time": "2022-06-22T08:44:53.219Z"
   },
   {
    "duration": 103,
    "start_time": "2022-06-22T08:44:54.874Z"
   },
   {
    "duration": 3,
    "start_time": "2022-06-22T08:45:01.190Z"
   },
   {
    "duration": 115,
    "start_time": "2022-06-22T08:45:02.396Z"
   },
   {
    "duration": 3,
    "start_time": "2022-06-22T08:45:10.296Z"
   },
   {
    "duration": 111,
    "start_time": "2022-06-22T08:45:11.118Z"
   },
   {
    "duration": 3,
    "start_time": "2022-06-22T08:46:13.314Z"
   },
   {
    "duration": 138,
    "start_time": "2022-06-22T08:46:14.188Z"
   },
   {
    "duration": 3,
    "start_time": "2022-06-22T08:46:29.816Z"
   },
   {
    "duration": 112,
    "start_time": "2022-06-22T08:46:31.276Z"
   },
   {
    "duration": 3,
    "start_time": "2022-06-22T08:52:21.072Z"
   },
   {
    "duration": 145,
    "start_time": "2022-06-22T08:52:23.604Z"
   },
   {
    "duration": 3,
    "start_time": "2022-06-22T08:52:54.669Z"
   },
   {
    "duration": 105,
    "start_time": "2022-06-22T08:52:56.428Z"
   },
   {
    "duration": 3,
    "start_time": "2022-06-22T08:53:58.634Z"
   },
   {
    "duration": 100,
    "start_time": "2022-06-22T08:54:00.352Z"
   },
   {
    "duration": 3,
    "start_time": "2022-06-22T08:54:13.114Z"
   },
   {
    "duration": 3,
    "start_time": "2022-06-22T08:54:14.074Z"
   },
   {
    "duration": 106,
    "start_time": "2022-06-22T08:54:15.106Z"
   },
   {
    "duration": 4,
    "start_time": "2022-06-22T08:54:30.566Z"
   },
   {
    "duration": 112,
    "start_time": "2022-06-22T08:54:31.818Z"
   },
   {
    "duration": 4,
    "start_time": "2022-06-22T08:55:18.292Z"
   },
   {
    "duration": 100,
    "start_time": "2022-06-22T08:55:19.736Z"
   },
   {
    "duration": 3,
    "start_time": "2022-06-22T08:56:25.005Z"
   },
   {
    "duration": 75,
    "start_time": "2022-06-22T08:56:27.350Z"
   },
   {
    "duration": 5,
    "start_time": "2022-06-22T08:56:43.654Z"
   },
   {
    "duration": 77,
    "start_time": "2022-06-22T08:56:44.403Z"
   },
   {
    "duration": 3,
    "start_time": "2022-06-22T09:01:45.723Z"
   },
   {
    "duration": 76,
    "start_time": "2022-06-22T09:01:46.708Z"
   },
   {
    "duration": 3,
    "start_time": "2022-06-22T09:01:51.523Z"
   },
   {
    "duration": 75,
    "start_time": "2022-06-22T09:01:52.436Z"
   },
   {
    "duration": 4,
    "start_time": "2022-06-22T09:05:44.257Z"
   },
   {
    "duration": 167,
    "start_time": "2022-06-22T09:05:45.291Z"
   },
   {
    "duration": 3,
    "start_time": "2022-06-22T09:06:00.284Z"
   },
   {
    "duration": 113,
    "start_time": "2022-06-22T09:06:01.247Z"
   },
   {
    "duration": 6,
    "start_time": "2022-06-22T09:06:24.959Z"
   },
   {
    "duration": 84,
    "start_time": "2022-06-22T09:06:26.912Z"
   },
   {
    "duration": 519,
    "start_time": "2022-06-22T09:13:39.214Z"
   },
   {
    "duration": 3,
    "start_time": "2022-06-22T09:13:39.735Z"
   },
   {
    "duration": 16,
    "start_time": "2022-06-22T09:13:39.740Z"
   },
   {
    "duration": 7342,
    "start_time": "2022-06-22T09:13:39.758Z"
   },
   {
    "duration": 4,
    "start_time": "2022-06-22T09:13:47.103Z"
   },
   {
    "duration": 37,
    "start_time": "2022-06-22T09:13:47.110Z"
   },
   {
    "duration": 33,
    "start_time": "2022-06-22T09:13:47.150Z"
   },
   {
    "duration": 261,
    "start_time": "2022-06-22T09:13:47.185Z"
   },
   {
    "duration": 77,
    "start_time": "2022-06-22T09:13:47.448Z"
   },
   {
    "duration": 75,
    "start_time": "2022-06-22T09:13:47.528Z"
   },
   {
    "duration": 78,
    "start_time": "2022-06-22T09:13:47.605Z"
   },
   {
    "duration": 72,
    "start_time": "2022-06-22T09:13:47.685Z"
   },
   {
    "duration": 74,
    "start_time": "2022-06-22T09:13:47.759Z"
   },
   {
    "duration": 74,
    "start_time": "2022-06-22T09:13:47.838Z"
   },
   {
    "duration": 71,
    "start_time": "2022-06-22T09:13:47.914Z"
   },
   {
    "duration": 76,
    "start_time": "2022-06-22T09:13:47.987Z"
   },
   {
    "duration": 73,
    "start_time": "2022-06-22T09:13:48.064Z"
   },
   {
    "duration": 3,
    "start_time": "2022-06-22T09:13:48.139Z"
   },
   {
    "duration": 121,
    "start_time": "2022-06-22T09:13:48.144Z"
   },
   {
    "duration": 6,
    "start_time": "2022-06-22T09:13:48.267Z"
   },
   {
    "duration": 149,
    "start_time": "2022-06-22T09:13:48.275Z"
   },
   {
    "duration": 4,
    "start_time": "2022-06-22T09:13:48.426Z"
   },
   {
    "duration": 137,
    "start_time": "2022-06-22T09:13:48.434Z"
   },
   {
    "duration": 4,
    "start_time": "2022-06-22T09:13:48.573Z"
   },
   {
    "duration": 108,
    "start_time": "2022-06-22T09:13:48.579Z"
   },
   {
    "duration": 4,
    "start_time": "2022-06-22T09:13:48.689Z"
   },
   {
    "duration": 95,
    "start_time": "2022-06-22T09:13:48.698Z"
   },
   {
    "duration": 513,
    "start_time": "2022-06-22T10:04:57.586Z"
   },
   {
    "duration": 3,
    "start_time": "2022-06-22T10:04:58.102Z"
   },
   {
    "duration": 9,
    "start_time": "2022-06-22T10:04:58.106Z"
   },
   {
    "duration": 8220,
    "start_time": "2022-06-22T10:04:58.117Z"
   },
   {
    "duration": 3,
    "start_time": "2022-06-22T10:05:06.339Z"
   },
   {
    "duration": 28,
    "start_time": "2022-06-22T10:05:06.344Z"
   },
   {
    "duration": 6,
    "start_time": "2022-06-22T10:05:06.374Z"
   },
   {
    "duration": 283,
    "start_time": "2022-06-22T10:05:06.382Z"
   },
   {
    "duration": 70,
    "start_time": "2022-06-22T10:05:06.667Z"
   },
   {
    "duration": 80,
    "start_time": "2022-06-22T10:05:06.738Z"
   },
   {
    "duration": 73,
    "start_time": "2022-06-22T10:05:06.820Z"
   },
   {
    "duration": 77,
    "start_time": "2022-06-22T10:05:06.895Z"
   },
   {
    "duration": 68,
    "start_time": "2022-06-22T10:05:06.973Z"
   },
   {
    "duration": 77,
    "start_time": "2022-06-22T10:05:07.044Z"
   },
   {
    "duration": 85,
    "start_time": "2022-06-22T10:05:07.122Z"
   },
   {
    "duration": 75,
    "start_time": "2022-06-22T10:05:07.209Z"
   },
   {
    "duration": 72,
    "start_time": "2022-06-22T10:05:07.286Z"
   },
   {
    "duration": 4,
    "start_time": "2022-06-22T10:05:07.364Z"
   },
   {
    "duration": 86,
    "start_time": "2022-06-22T10:05:07.369Z"
   },
   {
    "duration": 2,
    "start_time": "2022-06-22T10:05:07.456Z"
   },
   {
    "duration": 135,
    "start_time": "2022-06-22T10:05:07.461Z"
   },
   {
    "duration": 2,
    "start_time": "2022-06-22T10:05:07.598Z"
   },
   {
    "duration": 103,
    "start_time": "2022-06-22T10:05:07.602Z"
   },
   {
    "duration": 3,
    "start_time": "2022-06-22T10:05:07.707Z"
   },
   {
    "duration": 93,
    "start_time": "2022-06-22T10:05:07.711Z"
   },
   {
    "duration": 3,
    "start_time": "2022-06-22T10:05:07.806Z"
   },
   {
    "duration": 84,
    "start_time": "2022-06-22T10:05:07.810Z"
   },
   {
    "duration": 3,
    "start_time": "2022-06-22T10:06:35.398Z"
   },
   {
    "duration": 100,
    "start_time": "2022-06-22T10:06:36.494Z"
   },
   {
    "duration": 3,
    "start_time": "2022-06-22T10:09:06.222Z"
   },
   {
    "duration": 85,
    "start_time": "2022-06-22T10:09:07.942Z"
   },
   {
    "duration": 3,
    "start_time": "2022-06-22T10:09:27.340Z"
   },
   {
    "duration": 110,
    "start_time": "2022-06-22T10:09:28.865Z"
   },
   {
    "duration": 4,
    "start_time": "2022-06-22T10:10:16.752Z"
   },
   {
    "duration": 108,
    "start_time": "2022-06-22T10:10:18.272Z"
   },
   {
    "duration": 2,
    "start_time": "2022-06-22T10:10:28.770Z"
   },
   {
    "duration": 117,
    "start_time": "2022-06-22T10:10:30.125Z"
   },
   {
    "duration": 3,
    "start_time": "2022-06-22T10:10:39.169Z"
   },
   {
    "duration": 107,
    "start_time": "2022-06-22T10:10:41.242Z"
   },
   {
    "duration": 551,
    "start_time": "2022-06-22T10:13:10.646Z"
   },
   {
    "duration": 3,
    "start_time": "2022-06-22T10:13:11.200Z"
   },
   {
    "duration": 24,
    "start_time": "2022-06-22T10:13:11.205Z"
   },
   {
    "duration": 8053,
    "start_time": "2022-06-22T10:13:11.231Z"
   },
   {
    "duration": 3,
    "start_time": "2022-06-22T10:13:19.287Z"
   },
   {
    "duration": 10,
    "start_time": "2022-06-22T10:13:19.292Z"
   },
   {
    "duration": 8,
    "start_time": "2022-06-22T10:13:19.303Z"
   },
   {
    "duration": 237,
    "start_time": "2022-06-22T10:13:19.312Z"
   },
   {
    "duration": 72,
    "start_time": "2022-06-22T10:13:19.552Z"
   },
   {
    "duration": 77,
    "start_time": "2022-06-22T10:13:19.626Z"
   },
   {
    "duration": 77,
    "start_time": "2022-06-22T10:13:19.705Z"
   },
   {
    "duration": 67,
    "start_time": "2022-06-22T10:13:19.784Z"
   },
   {
    "duration": 73,
    "start_time": "2022-06-22T10:13:19.853Z"
   },
   {
    "duration": 119,
    "start_time": "2022-06-22T10:13:19.928Z"
   },
   {
    "duration": 74,
    "start_time": "2022-06-22T10:13:20.048Z"
   },
   {
    "duration": 81,
    "start_time": "2022-06-22T10:13:20.123Z"
   },
   {
    "duration": 75,
    "start_time": "2022-06-22T10:13:20.206Z"
   },
   {
    "duration": 3,
    "start_time": "2022-06-22T10:13:20.282Z"
   },
   {
    "duration": 88,
    "start_time": "2022-06-22T10:13:20.287Z"
   },
   {
    "duration": 3,
    "start_time": "2022-06-22T10:13:20.377Z"
   },
   {
    "duration": 119,
    "start_time": "2022-06-22T10:13:20.382Z"
   },
   {
    "duration": 3,
    "start_time": "2022-06-22T10:13:20.503Z"
   },
   {
    "duration": 95,
    "start_time": "2022-06-22T10:13:20.508Z"
   },
   {
    "duration": 3,
    "start_time": "2022-06-22T10:13:20.604Z"
   },
   {
    "duration": 94,
    "start_time": "2022-06-22T10:13:20.609Z"
   },
   {
    "duration": 2,
    "start_time": "2022-06-22T10:13:20.706Z"
   },
   {
    "duration": 90,
    "start_time": "2022-06-22T10:13:20.710Z"
   }
  ],
  "kernelspec": {
   "display_name": "Python 3 (ipykernel)",
   "language": "python",
   "name": "python3"
  },
  "language_info": {
   "codemirror_mode": {
    "name": "ipython",
    "version": 3
   },
   "file_extension": ".py",
   "mimetype": "text/x-python",
   "name": "python",
   "nbconvert_exporter": "python",
   "pygments_lexer": "ipython3",
   "version": "3.8.13"
  },
  "toc": {
   "base_numbering": 1,
   "nav_menu": {},
   "number_sections": true,
   "sideBar": true,
   "skip_h1_title": true,
   "title_cell": "Содержание",
   "title_sidebar": "Contents",
   "toc_cell": true,
   "toc_position": {},
   "toc_section_display": true,
   "toc_window_display": false
  },
  "vscode": {
   "interpreter": {
    "hash": "d218b21bb921035b16d5c21d046edbae3f18d635e2b85e02cc6e50cac6ced9c9"
   }
  }
 },
 "nbformat": 4,
 "nbformat_minor": 2
}
